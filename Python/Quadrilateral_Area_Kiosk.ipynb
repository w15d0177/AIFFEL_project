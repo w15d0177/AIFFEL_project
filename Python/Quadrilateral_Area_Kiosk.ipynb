{
  "nbformat": 4,
  "nbformat_minor": 0,
  "metadata": {
    "colab": {
      "provenance": [],
      "authorship_tag": "ABX9TyNmcVS1HxXjH7Q0FzPTVk3i",
      "include_colab_link": true
    },
    "kernelspec": {
      "name": "python3",
      "display_name": "Python 3"
    },
    "language_info": {
      "name": "python"
    }
  },
  "cells": [
    {
      "cell_type": "markdown",
      "metadata": {
        "id": "view-in-github",
        "colab_type": "text"
      },
      "source": [
        "<a href=\"https://colab.research.google.com/github/w15d0177/AIFFEL_project/blob/main/Python/Quadrilateral_Area_Kiosk.ipynb\" target=\"_parent\"><img src=\"https://colab.research.google.com/assets/colab-badge.svg\" alt=\"Open In Colab\"/></a>"
      ]
    },
    {
      "cell_type": "markdown",
      "source": [
        "#사각형 넓이 구하기#"
      ],
      "metadata": {
        "id": "qINASc8OePTy"
      }
    },
    {
      "cell_type": "code",
      "execution_count": 27,
      "metadata": {
        "colab": {
          "base_uri": "https://localhost:8080/"
        },
        "id": "Gv5Ur0wjW449",
        "outputId": "40da2c47-a27d-4caf-fbad-7d696011f6fb"
      },
      "outputs": [
        {
          "output_type": "stream",
          "name": "stdout",
          "text": [
            "넓이를 구하고 싶은 사각형의 숫자를 써주세요.\n",
            " 1.직사각형 2.평행사변형 3.사다리꼴 \n",
            " >>>1\n",
            "직사각형 함수는 rect()입니다.\n"
          ]
        }
      ],
      "source": [
        "#  사각형 넓이 클래스\n",
        "class Square:\n",
        "    def __init__(self):\n",
        "        self.square = int(input('넓이를 구하고 싶은 사각형의 숫자를 써주세요.\\n 1.직사각형 2.평행사변형 3.사다리꼴 \\n >>>'))\n",
        "\n",
        "        if self.square == 1:\n",
        "            print('직사각형 함수는 rect()입니다.')\n",
        "\n",
        "        elif self.square == 2:\n",
        "            print('평행사변형 함수는 par()입니다.')\n",
        "\n",
        "        elif self.square == 3:\n",
        "            print('사다리꼴 함수는 trape()입니다.')\n",
        "\n",
        "        else:\n",
        "            print('1, 2, 3 중에서 다시 입력해주세요')\n",
        "\n",
        "    # 직사각형 메서드\n",
        "    def rect(self):\n",
        "        width, vertical = map(int, input('가로, 세로를 입력하세요. 예시 : 가로,세로\\n >>> ').split(','))\n",
        "        area = width * vertical\n",
        "        result = '직사각형의 넓이는 : ' + str(area)\n",
        "        return result\n",
        "\n",
        "    # 평행사변형 메서드\n",
        "    def par(self):\n",
        "        lower_base, height = map(int, input('밑변, 높이를 입력하세요. 예시 : 밑변,높이\\n >>> ').split(','))\n",
        "        area = lower_base * height\n",
        "        result = '평행사변형의 넓이는 : ' + str(area)\n",
        "        return result\n",
        "\n",
        "    # 사다리꼴 메서드\n",
        "    def trape(self):\n",
        "        upper_base, lower_base, height = map(int, input('윗변, 밑변, 높이를 입력하세요. 예시 : 윗변,밑변,높이\\n >>> ').split(','))\n",
        "        area = ((upper_base + lower_base) * height) / 2\n",
        "        result = '사다리꼴의 넓이는 : ' + str(area)\n",
        "        return result\n",
        "\n",
        " # 객체 생성\n",
        "a = Square()"
      ]
    },
    {
      "cell_type": "code",
      "source": [
        "# 직사각형 넓이 구하기\n",
        "a.rect()"
      ],
      "metadata": {
        "colab": {
          "base_uri": "https://localhost:8080/",
          "height": 71
        },
        "id": "urXWjFDUZp4j",
        "outputId": "502aceac-59f6-49b6-db7f-976b59c1dd65"
      },
      "execution_count": 28,
      "outputs": [
        {
          "name": "stdout",
          "output_type": "stream",
          "text": [
            "가로, 세로를 입력하세요. 예시 : 가로,세로\n",
            " >>> 2,7\n"
          ]
        },
        {
          "output_type": "execute_result",
          "data": {
            "text/plain": [
              "'직사각형의 넓이는 : 14'"
            ],
            "application/vnd.google.colaboratory.intrinsic+json": {
              "type": "string"
            }
          },
          "metadata": {},
          "execution_count": 28
        }
      ]
    },
    {
      "cell_type": "code",
      "source": [
        "# 평행사변형 넓이 구하기\n",
        "a.par()"
      ],
      "metadata": {
        "colab": {
          "base_uri": "https://localhost:8080/",
          "height": 71
        },
        "id": "-X15J_rQaaSc",
        "outputId": "a413def2-c0f1-4ed3-bb43-e72c76165130"
      },
      "execution_count": 29,
      "outputs": [
        {
          "name": "stdout",
          "output_type": "stream",
          "text": [
            "밑변, 높이를 입력하세요. 예시 : 밑변,높이\n",
            " >>> 9,6\n"
          ]
        },
        {
          "output_type": "execute_result",
          "data": {
            "text/plain": [
              "'평행사변형의 넓이는 : 54'"
            ],
            "application/vnd.google.colaboratory.intrinsic+json": {
              "type": "string"
            }
          },
          "metadata": {},
          "execution_count": 29
        }
      ]
    },
    {
      "cell_type": "code",
      "source": [
        "# 사라리꼴 넓이 구하기\n",
        "a.trape()"
      ],
      "metadata": {
        "colab": {
          "base_uri": "https://localhost:8080/",
          "height": 71
        },
        "id": "vXxJJZELadgo",
        "outputId": "6bdaeba5-625a-425d-83da-856fb8625686"
      },
      "execution_count": 31,
      "outputs": [
        {
          "name": "stdout",
          "output_type": "stream",
          "text": [
            "윗변, 밑변, 높이를 입력하세요. 예시 : 윗변,밑변,높이\n",
            " >>> 3,7,5\n"
          ]
        },
        {
          "output_type": "execute_result",
          "data": {
            "text/plain": [
              "'사다리꼴의 넓이는 : 25.0'"
            ],
            "application/vnd.google.colaboratory.intrinsic+json": {
              "type": "string"
            }
          },
          "metadata": {},
          "execution_count": 31
        }
      ]
    },
    {
      "cell_type": "markdown",
      "source": [
        "#키오스크 만들기#"
      ],
      "metadata": {
        "id": "n8M76WVzeh_X"
      }
    },
    {
      "cell_type": "code",
      "source": [
        "# 전체 메뉴와 가격\n",
        "menu = ['americano', 'latte', 'mocha', 'yuza_tea', 'green_tea', 'choco_latte']\n",
        "price = [2000, 3000, 3000, 2500, 2500, 3000]\n",
        "\n",
        "# 키오스크 클래스\n",
        "class Kiosk:\n",
        "    def __init__(self):\n",
        "        self.menu = menu\n",
        "        self.price = price\n",
        "\n",
        "    # 메뉴 출력 메서드\n",
        "    def menu_print(self):\n",
        "        for i in range(len(self.menu)):\n",
        "            print(i + 1, self.menu[i], ' : ', self.price[i], '원')\n",
        "\n",
        "    # 메뉴 선택 메서드\n",
        "    def menu_select(self):\n",
        "        self.order_menu = []  # 주문 리스트\n",
        "        self.order_price = []  # 가격 리스트\n",
        "\n",
        "        self.price_sum = 0\n",
        "        n = 0\n",
        "        while n < 1 or len(menu) < n:\n",
        "            n = int(input(\"음료 번호를 입력하세요 : \"))\n",
        "\n",
        "            # 메뉴판에 있는 음료 번호일 때\n",
        "            if 1 <= n & n <= len(menu):\n",
        "                self.order_price.append(self.price[n-1])  # 가격 리스트에 추가합니다.\n",
        "#                self.price_sum = self.price[n-1]  # 합계 금액\n",
        "                self.price_sum += self.price[n-1]\n",
        "\n",
        "            # 메뉴판에 없는 번호일 때\n",
        "            else:\n",
        "                print(\"없는 메뉴입니다. 다시 주문해 주세요.\")\n",
        "\n",
        "        # 음료 온도 물어보기\n",
        "        t = 0  # 기본값을 넣어주고\n",
        "        while t != 1 and t != 2:  # 1이나 2를 입력할 때까지 물어보기\n",
        "            t= int(input(\"HOT 음료는 1을, ICE 음료는 2를 입력하세요 : \"))\n",
        "            if t == 1:\n",
        "                self.temp = 'HOT'\n",
        "            elif t == 2:\n",
        "                self.temp = 'ICE'\n",
        "            else:\n",
        "                print(\"1과 2 중 하나를 입력하세요.\\n\")\n",
        "\n",
        "        self.order_menu.append(self.temp + ' ' + self.menu[n-1])  # 주문 리스트에 추가합니다.\n",
        "        print(self.temp, self.menu[n-1], ' : ', self.price[n-1], '원')  # 온도 속성을 추가한 주문 결과를 출력합니다.\n",
        "\n",
        "        # 추가 주문\n",
        "        while n != 0:  # 지불을 선택하기 전까지 반복합니다.\n",
        "            print()  # 줄 바꾸면서\n",
        "            n = int(input(\"추가 주문은 음료 번호를, 지불은 0을 누르세요 : \"))\n",
        "            if n > 0 and n < len(self.menu) + 1:\n",
        "                # 추가 음료 온도\n",
        "                t = 0  # 기본값을 넣어주고\n",
        "                while t != 1 and t != 2:  # 1이나 2를 입력할 때까지 물어보기\n",
        "                    t= int(input(\"HOT 음료는 1을, ICE 음료는 2를 입력하세요 : \"))\n",
        "                    if t == 1:\n",
        "                        self.temp = 'HOT'\n",
        "                    elif t == 2:\n",
        "                        self.temp = 'ICE'\n",
        "                    else:\n",
        "                        print(\"1과 2 중 하나를 입력하세요.\\n\")\n",
        "\n",
        "                self.order_menu.append(self.temp + ' ' + self.menu[n-1])  # 추가 음료 포함 주문한 메뉴 목록 업데이트\n",
        "\n",
        "                self.order_price.append(self.price[n-1])  # 추가 음료 포함 주문한 메뉴 가격 목록 업데이트\n",
        "                self.price_sum += self.price[n-1]  # 총 주문 금액 업데이트\n",
        "\n",
        "                print('추가 주문 음료', self.temp, self.menu[n-1], ':', self.price[n-1], '원\\n', '합계 : ', self.price_sum, '원')  # 추가 음료 정보 및 총 금액\n",
        "                print(self.order_menu, self.order_price)  # 업데이트된 메뉴 및 가격 목록\n",
        "\n",
        "            else:\n",
        "                if n == 0 :  # 지불을 입력하면\n",
        "                    print(\"주문이 완료되었습니다.\")\n",
        "                    print(self.order_menu, self.order_price)  # 확인을 위한 목록 (리스트)을 출력합니다.\n",
        "                else :  # 없는 번호를 입력할 때\n",
        "                    print(\"없는 메뉴입니다. 다시 주문해 주세요.\")\n",
        "\n",
        "\n",
        "    def pay(self):\n",
        "        print('총 결제 금액은', self.price_sum, '원 입니다.')\n",
        "\n",
        "        payment_method = 0\n",
        "        while payment_method != 1 and payment_method != 2:\n",
        "            payment_method = int(input('결제 수단을 선택하세요. 1. 현금 2. 카드\\n'))\n",
        "            if payment_method == 1:\n",
        "                print('직원을 호출하겠습니다.')\n",
        "            elif payment_method == 2:\n",
        "                print('IC칩 방향에 맞게 카드를 꽂아주세요.')\n",
        "            else:\n",
        "                print('다시 결제를 시도해 주세요.')\n",
        "                self.pay\n",
        "\n",
        "    def table(self):\n",
        "        print('주문하신 메뉴와 가격은 다음과 같습니다')\n",
        "        print(self.order_menu, self.order_price)\n",
        "\n",
        "        # 외곽\n",
        "        print('⟝' + '-' * 30 + '⟞')\n",
        "        for i in range(5):\n",
        "            print('|' + ' ' * 31 + '|')\n",
        "\n",
        "        # 주문 상품명 : 해당 금액\n",
        "        for i in range(len(self.order_menu)):\n",
        "            print(self.order_menu[i], ' : ', self.order_price[i])\n",
        "\n",
        "        print('합계 금액 :', sum(self.order_price))\n",
        "\n",
        "        # 외곽\n",
        "        for i in range(5):\n",
        "            print('|' + ' ' * 31+ '|')\n",
        "        print('⟝' + '-' * 30 + '⟞')\n",
        "\n",
        "#Kiosk.menu_print = menu_print\n",
        "#Kiosk.menu_select = menu_select\n",
        "#Kiosk.pay = pay\n",
        "#Kiosk.table = table"
      ],
      "metadata": {
        "id": "Yo_MU1tca4cx"
      },
      "execution_count": 32,
      "outputs": []
    },
    {
      "cell_type": "code",
      "source": [
        "a = Kiosk()  # 객체 생성\n",
        "a.menu_print()  # 메뉴 출력\n",
        "a.menu_select()  # 주문\n",
        "a.pay()  # 지불\n",
        "a.table()  # 주문표 출력"
      ],
      "metadata": {
        "colab": {
          "base_uri": "https://localhost:8080/"
        },
        "id": "s9h9AhCHeKgN",
        "outputId": "063e9008-c7fa-4ca7-e184-e33593b0139e"
      },
      "execution_count": 34,
      "outputs": [
        {
          "output_type": "stream",
          "name": "stdout",
          "text": [
            "1 americano  :  2000 원\n",
            "2 latte  :  3000 원\n",
            "3 mocha  :  3000 원\n",
            "4 yuza_tea  :  2500 원\n",
            "5 green_tea  :  2500 원\n",
            "6 choco_latte  :  3000 원\n",
            "음료 번호를 입력하세요 : 0\n",
            "없는 메뉴입니다. 다시 주문해 주세요.\n",
            "음료 번호를 입력하세요 : 7\n",
            "없는 메뉴입니다. 다시 주문해 주세요.\n",
            "음료 번호를 입력하세요 : 6\n",
            "HOT 음료는 1을, ICE 음료는 2를 입력하세요 : 3\n",
            "1과 2 중 하나를 입력하세요.\n",
            "\n",
            "HOT 음료는 1을, ICE 음료는 2를 입력하세요 : 2\n",
            "ICE choco_latte  :  3000 원\n",
            "\n",
            "추가 주문은 음료 번호를, 지불은 0을 누르세요 : 5\n",
            "HOT 음료는 1을, ICE 음료는 2를 입력하세요 : 1\n",
            "추가 주문 음료 HOT green_tea : 2500 원\n",
            " 합계 :  5500 원\n",
            "['ICE choco_latte', 'HOT green_tea'] [3000, 2500]\n",
            "\n",
            "추가 주문은 음료 번호를, 지불은 0을 누르세요 : 4\n",
            "HOT 음료는 1을, ICE 음료는 2를 입력하세요 : 2\n",
            "추가 주문 음료 ICE yuza_tea : 2500 원\n",
            " 합계 :  8000 원\n",
            "['ICE choco_latte', 'HOT green_tea', 'ICE yuza_tea'] [3000, 2500, 2500]\n",
            "\n",
            "추가 주문은 음료 번호를, 지불은 0을 누르세요 : 3\n",
            "HOT 음료는 1을, ICE 음료는 2를 입력하세요 : 2\n",
            "추가 주문 음료 ICE mocha : 3000 원\n",
            " 합계 :  11000 원\n",
            "['ICE choco_latte', 'HOT green_tea', 'ICE yuza_tea', 'ICE mocha'] [3000, 2500, 2500, 3000]\n",
            "\n",
            "추가 주문은 음료 번호를, 지불은 0을 누르세요 : 1\n",
            "HOT 음료는 1을, ICE 음료는 2를 입력하세요 : 2\n",
            "추가 주문 음료 ICE americano : 2000 원\n",
            " 합계 :  13000 원\n",
            "['ICE choco_latte', 'HOT green_tea', 'ICE yuza_tea', 'ICE mocha', 'ICE americano'] [3000, 2500, 2500, 3000, 2000]\n",
            "\n",
            "추가 주문은 음료 번호를, 지불은 0을 누르세요 : 9\n",
            "없는 메뉴입니다. 다시 주문해 주세요.\n",
            "\n",
            "추가 주문은 음료 번호를, 지불은 0을 누르세요 : 0\n",
            "주문이 완료되었습니다.\n",
            "['ICE choco_latte', 'HOT green_tea', 'ICE yuza_tea', 'ICE mocha', 'ICE americano'] [3000, 2500, 2500, 3000, 2000]\n",
            "총 결제 금액은 13000 원 입니다.\n",
            "결제 수단을 선택하세요. 1. 현금 2. 카드\n",
            "3\n",
            "다시 결제를 시도해 주세요.\n",
            "결제 수단을 선택하세요. 1. 현금 2. 카드\n",
            "1\n",
            "직원을 호출하겠습니다.\n",
            "주문하신 메뉴와 가격은 다음과 같습니다\n",
            "['ICE choco_latte', 'HOT green_tea', 'ICE yuza_tea', 'ICE mocha', 'ICE americano'] [3000, 2500, 2500, 3000, 2000]\n",
            "⟝------------------------------⟞\n",
            "|                               |\n",
            "|                               |\n",
            "|                               |\n",
            "|                               |\n",
            "|                               |\n",
            "ICE choco_latte  :  3000\n",
            "HOT green_tea  :  2500\n",
            "ICE yuza_tea  :  2500\n",
            "ICE mocha  :  3000\n",
            "ICE americano  :  2000\n",
            "합계 금액 : 13000\n",
            "|                               |\n",
            "|                               |\n",
            "|                               |\n",
            "|                               |\n",
            "|                               |\n",
            "⟝------------------------------⟞\n"
          ]
        }
      ]
    }
  ]
}