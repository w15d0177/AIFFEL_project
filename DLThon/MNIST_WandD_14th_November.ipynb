{
 "cells": [
  {
   "cell_type": "code",
   "execution_count": 1,
   "id": "eff8ddfa",
   "metadata": {},
   "outputs": [],
   "source": [
    "# 필요한 도구 불러오기 \n",
    "\n",
    "import pandas as pd\n",
    "import tensorflow as tf\n",
    "from tensorflow import keras\n",
    "from sklearn.model_selection import train_test_split\n",
    "import wandb\n",
    "from wandb.keras import WandbCallback\n",
    "from sklearn.preprocessing import LabelEncoder\n",
    "from PIL import Image \n",
    "import glob\n",
    "import os"
   ]
  },
  {
   "cell_type": "code",
   "execution_count": 2,
   "id": "c729294d",
   "metadata": {},
   "outputs": [
    {
     "name": "stdout",
     "output_type": "stream",
     "text": [
      "Downloading data from https://storage.googleapis.com/tensorflow/tf-keras-datasets/mnist.npz\n",
      "11493376/11490434 [==============================] - 0s 0us/step\n",
      "11501568/11490434 [==============================] - 0s 0us/step\n"
     ]
    }
   ],
   "source": [
    "(X_train, y_train), (X_test, y_test) = keras.datasets.mnist.load_data()\n",
    "X_train, X_test = X_train / 255.0, X_test / 255.0\n",
    "X_train = X_train.reshape( -1, 28, 28, 1)\n",
    "X_test = X_test.reshape( -1, 28, 28, 1)\n",
    "X_val, X_test, y_val, y_test = train_test_split(X_test, y_test, test_size = 0.5)\n",
    "\n",
    "# 시각화를 위해 sample 데이터를 준비합니다.\n",
    "X_sample = X_test[:50]\n",
    "y_sample = y_test[:50]\n",
    "\n",
    "CLASS_NAMES = [0, 1, 2, 3, 4, 5, 6, 7, 8, 9]"
   ]
  },
  {
   "cell_type": "code",
   "execution_count": 3,
   "id": "4fc28826",
   "metadata": {},
   "outputs": [],
   "source": [
    "# wandb.login(key = \"c4e33984a0f1d0c7e209f455add7b4da4718e070\")"
   ]
  },
  {
   "cell_type": "code",
   "execution_count": 4,
   "id": "71d7d68d",
   "metadata": {},
   "outputs": [],
   "source": [
    "# Sweep의 config 설정하기 \n",
    "\n",
    "sweep_config = {\n",
    "    \"name\": \"sweep_test_core\",\n",
    "    \"metric\": {\"name\": \"val_loss\", \"goal\": \"minimize\"},\n",
    "    \"method\": \"random\",\n",
    "    \"parameters\": {\n",
    "        \"learning_rate\" : {\n",
    "            \"min\" : 0.001,\n",
    "            \"max\" : 0.1\n",
    "            },\n",
    "        \"epoch\" : {\n",
    "            \"distribution\" : \"int_uniform\",\n",
    "            \"min\" : 5,\n",
    "            \"max\" : 10\n",
    "            }\n",
    "                    \n",
    "        }\n",
    "    }"
   ]
  },
  {
   "cell_type": "code",
   "execution_count": 5,
   "id": "e8b11864",
   "metadata": {},
   "outputs": [],
   "source": [
    "# train 함수의 완결성 있는 run 구조 \n",
    "\n",
    "def train():\n",
    "    default_config = {\n",
    "        \"input\" : (28,28,1),\n",
    "        \"filter\" : 16,\n",
    "        \"kernel\" : (3,3),\n",
    "        \"activation\" : \"relu\",\n",
    "        \"learning_rate\" : 0.005,\n",
    "        \"optimizer\" : \"adam\",\n",
    "        \"loss\" : \"sparse_categorical_crossentropy\",\n",
    "        \"metrics\" : [\"accuracy\"],\n",
    "        \"epoch\" : 5,\n",
    "        \"batch_size\" : 32\n",
    "    }\n",
    "\n",
    "    wandb.init(config = default_config)\n",
    "    config = wandb.config\n",
    "\n",
    "    # Model\n",
    "\n",
    "    model=keras.models.Sequential()\n",
    "    model.add(keras.layers.Conv2D(config.filter, config.kernel, activation=config.activation, input_shape=config.input))\n",
    "    model.add(keras.layers.MaxPool2D(2,2))\n",
    "    model.add(keras.layers.Conv2D(32, (3,3), activation='relu'))\n",
    "    model.add(keras.layers.MaxPooling2D((2,2)))\n",
    "    model.add(keras.layers.Flatten())\n",
    "    model.add(keras.layers.Dense(32, activation='relu'))\n",
    "    model.add(keras.layers.Dense(10, activation='softmax'))\n",
    "\n",
    "    # 머신 러닝 학습때 여러가지 optimzier를 사용할 경우나 learning rate를 조절할 경우에는 아래와 같은 형태의 코드를 응용합니다.\n",
    "\n",
    "    if config.optimizer == 'adam':\n",
    "        optimizer = keras.optimizers.Adam(learning_rate = config.learning_rate)\n",
    "    \n",
    "    model.compile(optimizer = optimizer,\n",
    "                  loss = config.loss,\n",
    "                  metrics = config.metrics)\n",
    "\n",
    "    # WandbCallback 함수는 후술합니다.\n",
    "    \n",
    "    model.fit(X_train, y_train,\n",
    "              epochs = config.epoch,\n",
    "              batch_size = config.batch_size,\n",
    "              validation_data = (X_val, y_val),\n",
    "              callbacks = [WandbCallback(validation_data = (X_sample, y_sample),\n",
    "                                        lables = CLASS_NAMES,\n",
    "                                        predictions = 10,\n",
    "                                        input_type = \"images\")])\n",
    "    \n",
    "    test_loss, test_accuracy = model.evaluate(X_test, y_test, verbose=2)\n",
    "    \n",
    "    # wandb.log 함수 안에 기록하고 싶은 정보를 담습니다.\n",
    "    \n",
    "    wandb.log({\"Test Accuracy Rate: \" : round(test_accuracy * 100, 2),\n",
    "               \"Test Error Rate: \" : round((1 - test_accuracy) * 100, 2)})"
   ]
  },
  {
   "cell_type": "code",
   "execution_count": 8,
   "id": "20aea081",
   "metadata": {},
   "outputs": [
    {
     "name": "stdout",
     "output_type": "stream",
     "text": [
      "Create sweep with ID: sl1hihab\n",
      "Sweep URL: https://wandb.ai/wisdom-jihyekim-aiffel/MNIST_for_Jellyfish/sweeps/sl1hihab\n"
     ]
    },
    {
     "name": "stderr",
     "output_type": "stream",
     "text": [
      "\u001b[34m\u001b[1mwandb\u001b[0m: Agent Starting Run: khq1hc9s with config:\n",
      "\u001b[34m\u001b[1mwandb\u001b[0m: \tepoch: 8\n",
      "\u001b[34m\u001b[1mwandb\u001b[0m: \tlearning_rate: 0.09886229686289316\n",
      "\u001b[34m\u001b[1mwandb\u001b[0m: Currently logged in as: \u001b[33mwisdom-jihyekim\u001b[0m (\u001b[33mwisdom-jihyekim-aiffel\u001b[0m). Use \u001b[1m`wandb login --relogin`\u001b[0m to force relogin\n"
     ]
    },
    {
     "data": {
      "text/html": [
       "wandb version 0.18.7 is available!  To upgrade, please run:\n",
       " $ pip install wandb --upgrade"
      ],
      "text/plain": [
       "<IPython.core.display.HTML object>"
      ]
     },
     "metadata": {},
     "output_type": "display_data"
    },
    {
     "data": {
      "text/html": [
       "Tracking run with wandb version 0.16.0"
      ],
      "text/plain": [
       "<IPython.core.display.HTML object>"
      ]
     },
     "metadata": {},
     "output_type": "display_data"
    },
    {
     "data": {
      "text/html": [
       "Run data is saved locally in <code>/aiffel/aiffel/wandb/run-20241115_033939-khq1hc9s</code>"
      ],
      "text/plain": [
       "<IPython.core.display.HTML object>"
      ]
     },
     "metadata": {},
     "output_type": "display_data"
    },
    {
     "data": {
      "text/html": [
       "Syncing run <strong><a href='https://wandb.ai/wisdom-jihyekim-aiffel/MNIST_for_Jellyfish/runs/khq1hc9s' target=\"_blank\">cool-sun-1</a></strong> to <a href='https://wandb.ai/wisdom-jihyekim-aiffel/MNIST_for_Jellyfish' target=\"_blank\">Weights & Biases</a> (<a href='https://wandb.me/run' target=\"_blank\">docs</a>)<br/>Sweep page: <a href='https://wandb.ai/wisdom-jihyekim-aiffel/MNIST_for_Jellyfish/sweeps/sl1hihab' target=\"_blank\">https://wandb.ai/wisdom-jihyekim-aiffel/MNIST_for_Jellyfish/sweeps/sl1hihab</a>"
      ],
      "text/plain": [
       "<IPython.core.display.HTML object>"
      ]
     },
     "metadata": {},
     "output_type": "display_data"
    },
    {
     "data": {
      "text/html": [
       " View project at <a href='https://wandb.ai/wisdom-jihyekim-aiffel/MNIST_for_Jellyfish' target=\"_blank\">https://wandb.ai/wisdom-jihyekim-aiffel/MNIST_for_Jellyfish</a>"
      ],
      "text/plain": [
       "<IPython.core.display.HTML object>"
      ]
     },
     "metadata": {},
     "output_type": "display_data"
    },
    {
     "data": {
      "text/html": [
       " View sweep at <a href='https://wandb.ai/wisdom-jihyekim-aiffel/MNIST_for_Jellyfish/sweeps/sl1hihab' target=\"_blank\">https://wandb.ai/wisdom-jihyekim-aiffel/MNIST_for_Jellyfish/sweeps/sl1hihab</a>"
      ],
      "text/plain": [
       "<IPython.core.display.HTML object>"
      ]
     },
     "metadata": {},
     "output_type": "display_data"
    },
    {
     "data": {
      "text/html": [
       " View run at <a href='https://wandb.ai/wisdom-jihyekim-aiffel/MNIST_for_Jellyfish/runs/khq1hc9s' target=\"_blank\">https://wandb.ai/wisdom-jihyekim-aiffel/MNIST_for_Jellyfish/runs/khq1hc9s</a>"
      ],
      "text/plain": [
       "<IPython.core.display.HTML object>"
      ]
     },
     "metadata": {},
     "output_type": "display_data"
    },
    {
     "name": "stderr",
     "output_type": "stream",
     "text": [
      "\u001b[34m\u001b[1mwandb\u001b[0m: \u001b[33mWARNING\u001b[0m The save_model argument by default saves the model in the HDF5 format that cannot save custom objects like subclassed models and custom layers. This behavior will be deprecated in a future release in favor of the SavedModel format. Meanwhile, the HDF5 model is saved as W&B files and the SavedModel as W&B Artifacts.\n"
     ]
    },
    {
     "name": "stdout",
     "output_type": "stream",
     "text": [
      "Epoch 1/8\n",
      "1875/1875 [==============================] - 9s 3ms/step - loss: 2.3344 - accuracy: 0.1025 - val_loss: 2.3081 - val_accuracy: 0.0974\n",
      "INFO:tensorflow:Assets written to: /aiffel/aiffel/wandb/run-20241115_033939-khq1hc9s/files/model-best/assets\n"
     ]
    },
    {
     "name": "stderr",
     "output_type": "stream",
     "text": [
      "\u001b[34m\u001b[1mwandb\u001b[0m: Adding directory to artifact (/aiffel/aiffel/wandb/run-20241115_033939-khq1hc9s/files/model-best)... Done. 0.0s\n"
     ]
    },
    {
     "name": "stdout",
     "output_type": "stream",
     "text": [
      "Epoch 2/8\n",
      "1875/1875 [==============================] - 5s 3ms/step - loss: 2.3139 - accuracy: 0.1046 - val_loss: 2.3141 - val_accuracy: 0.1046\n",
      "Epoch 3/8\n",
      "1875/1875 [==============================] - 5s 3ms/step - loss: 2.3134 - accuracy: 0.1036 - val_loss: 2.3146 - val_accuracy: 0.0970\n",
      "Epoch 4/8\n",
      "1875/1875 [==============================] - 5s 3ms/step - loss: 2.3138 - accuracy: 0.1024 - val_loss: 2.3107 - val_accuracy: 0.1202\n",
      "Epoch 5/8\n",
      "1875/1875 [==============================] - 5s 3ms/step - loss: 2.3136 - accuracy: 0.1020 - val_loss: 2.3132 - val_accuracy: 0.0982\n",
      "Epoch 6/8\n",
      "1875/1875 [==============================] - 5s 3ms/step - loss: 2.3139 - accuracy: 0.1034 - val_loss: 2.3066 - val_accuracy: 0.0956\n",
      "INFO:tensorflow:Assets written to: /aiffel/aiffel/wandb/run-20241115_033939-khq1hc9s/files/model-best/assets\n"
     ]
    },
    {
     "name": "stderr",
     "output_type": "stream",
     "text": [
      "\u001b[34m\u001b[1mwandb\u001b[0m: Adding directory to artifact (/aiffel/aiffel/wandb/run-20241115_033939-khq1hc9s/files/model-best)... Done. 0.0s\n"
     ]
    },
    {
     "name": "stdout",
     "output_type": "stream",
     "text": [
      "Epoch 7/8\n",
      "1875/1875 [==============================] - 5s 3ms/step - loss: 2.3145 - accuracy: 0.1019 - val_loss: 2.3070 - val_accuracy: 0.1202\n",
      "Epoch 8/8\n",
      "1875/1875 [==============================] - 5s 3ms/step - loss: 2.3143 - accuracy: 0.1019 - val_loss: 2.3025 - val_accuracy: 0.1046\n",
      "INFO:tensorflow:Assets written to: /aiffel/aiffel/wandb/run-20241115_033939-khq1hc9s/files/model-best/assets\n"
     ]
    },
    {
     "name": "stderr",
     "output_type": "stream",
     "text": [
      "\u001b[34m\u001b[1mwandb\u001b[0m: Adding directory to artifact (/aiffel/aiffel/wandb/run-20241115_033939-khq1hc9s/files/model-best)... Done. 0.0s\n"
     ]
    },
    {
     "name": "stdout",
     "output_type": "stream",
     "text": [
      "157/157 - 0s - loss: 2.3028 - accuracy: 0.1010\n"
     ]
    },
    {
     "data": {
      "application/vnd.jupyter.widget-view+json": {
       "model_id": "",
       "version_major": 2,
       "version_minor": 0
      },
      "text/plain": [
       "VBox(children=(Label(value='1.928 MB of 1.928 MB uploaded (0.029 MB deduped)\\r'), FloatProgress(value=1.0, max…"
      ]
     },
     "metadata": {},
     "output_type": "display_data"
    },
    {
     "data": {
      "text/html": [
       "W&B sync reduced upload amount by 1.5%             "
      ],
      "text/plain": [
       "<IPython.core.display.HTML object>"
      ]
     },
     "metadata": {},
     "output_type": "display_data"
    },
    {
     "data": {
      "text/html": [
       "<style>\n",
       "    table.wandb td:nth-child(1) { padding: 0 10px; text-align: left ; width: auto;} td:nth-child(2) {text-align: left ; width: 100%}\n",
       "    .wandb-row { display: flex; flex-direction: row; flex-wrap: wrap; justify-content: flex-start; width: 100% }\n",
       "    .wandb-col { display: flex; flex-direction: column; flex-basis: 100%; flex: 1; padding: 10px; }\n",
       "    </style>\n",
       "<div class=\"wandb-row\"><div class=\"wandb-col\"><h3>Run history:</h3><br/><table class=\"wandb\"><tr><td>Test Accuracy Rate: </td><td>▁</td></tr><tr><td>Test Error Rate: </td><td>▁</td></tr><tr><td>accuracy</td><td>▃█▅▃▁▅▁▁</td></tr><tr><td>epoch</td><td>▁▂▃▄▅▆▇█</td></tr><tr><td>loss</td><td>█▁▁▁▁▁▁▁</td></tr><tr><td>val_accuracy</td><td>▂▄▁█▂▁█▄</td></tr><tr><td>val_loss</td><td>▄██▆▇▃▄▁</td></tr></table><br/></div><div class=\"wandb-col\"><h3>Run summary:</h3><br/><table class=\"wandb\"><tr><td>Test Accuracy Rate: </td><td>10.1</td></tr><tr><td>Test Error Rate: </td><td>89.9</td></tr><tr><td>accuracy</td><td>0.10185</td></tr><tr><td>best_epoch</td><td>7</td></tr><tr><td>best_val_loss</td><td>2.30247</td></tr><tr><td>epoch</td><td>7</td></tr><tr><td>loss</td><td>2.31434</td></tr><tr><td>val_accuracy</td><td>0.1046</td></tr><tr><td>val_loss</td><td>2.30247</td></tr></table><br/></div></div>"
      ],
      "text/plain": [
       "<IPython.core.display.HTML object>"
      ]
     },
     "metadata": {},
     "output_type": "display_data"
    },
    {
     "data": {
      "text/html": [
       " View run <strong style=\"color:#cdcd00\">cool-sun-1</strong> at: <a href='https://wandb.ai/wisdom-jihyekim-aiffel/MNIST_for_Jellyfish/runs/khq1hc9s' target=\"_blank\">https://wandb.ai/wisdom-jihyekim-aiffel/MNIST_for_Jellyfish/runs/khq1hc9s</a><br/>Synced 5 W&B file(s), 81 media file(s), 12 artifact file(s) and 1 other file(s)"
      ],
      "text/plain": [
       "<IPython.core.display.HTML object>"
      ]
     },
     "metadata": {},
     "output_type": "display_data"
    },
    {
     "data": {
      "text/html": [
       "Find logs at: <code>./wandb/run-20241115_033939-khq1hc9s/logs</code>"
      ],
      "text/plain": [
       "<IPython.core.display.HTML object>"
      ]
     },
     "metadata": {},
     "output_type": "display_data"
    },
    {
     "name": "stderr",
     "output_type": "stream",
     "text": [
      "\u001b[34m\u001b[1mwandb\u001b[0m: Sweep Agent: Waiting for job.\n",
      "\u001b[34m\u001b[1mwandb\u001b[0m: Job received.\n",
      "\u001b[34m\u001b[1mwandb\u001b[0m: Agent Starting Run: m00a2pta with config:\n",
      "\u001b[34m\u001b[1mwandb\u001b[0m: \tepoch: 9\n",
      "\u001b[34m\u001b[1mwandb\u001b[0m: \tlearning_rate: 0.08626230418136059\n"
     ]
    },
    {
     "data": {
      "text/html": [
       "wandb version 0.18.7 is available!  To upgrade, please run:\n",
       " $ pip install wandb --upgrade"
      ],
      "text/plain": [
       "<IPython.core.display.HTML object>"
      ]
     },
     "metadata": {},
     "output_type": "display_data"
    },
    {
     "data": {
      "text/html": [
       "Tracking run with wandb version 0.16.0"
      ],
      "text/plain": [
       "<IPython.core.display.HTML object>"
      ]
     },
     "metadata": {},
     "output_type": "display_data"
    },
    {
     "data": {
      "text/html": [
       "Run data is saved locally in <code>/aiffel/aiffel/wandb/run-20241115_034051-m00a2pta</code>"
      ],
      "text/plain": [
       "<IPython.core.display.HTML object>"
      ]
     },
     "metadata": {},
     "output_type": "display_data"
    },
    {
     "data": {
      "text/html": [
       "Syncing run <strong><a href='https://wandb.ai/wisdom-jihyekim-aiffel/MNIST_for_Jellyfish/runs/m00a2pta' target=\"_blank\">fresh-lake-2</a></strong> to <a href='https://wandb.ai/wisdom-jihyekim-aiffel/MNIST_for_Jellyfish' target=\"_blank\">Weights & Biases</a> (<a href='https://wandb.me/run' target=\"_blank\">docs</a>)<br/>Sweep page: <a href='https://wandb.ai/wisdom-jihyekim-aiffel/MNIST_for_Jellyfish/sweeps/sl1hihab' target=\"_blank\">https://wandb.ai/wisdom-jihyekim-aiffel/MNIST_for_Jellyfish/sweeps/sl1hihab</a>"
      ],
      "text/plain": [
       "<IPython.core.display.HTML object>"
      ]
     },
     "metadata": {},
     "output_type": "display_data"
    },
    {
     "data": {
      "text/html": [
       " View project at <a href='https://wandb.ai/wisdom-jihyekim-aiffel/MNIST_for_Jellyfish' target=\"_blank\">https://wandb.ai/wisdom-jihyekim-aiffel/MNIST_for_Jellyfish</a>"
      ],
      "text/plain": [
       "<IPython.core.display.HTML object>"
      ]
     },
     "metadata": {},
     "output_type": "display_data"
    },
    {
     "data": {
      "text/html": [
       " View sweep at <a href='https://wandb.ai/wisdom-jihyekim-aiffel/MNIST_for_Jellyfish/sweeps/sl1hihab' target=\"_blank\">https://wandb.ai/wisdom-jihyekim-aiffel/MNIST_for_Jellyfish/sweeps/sl1hihab</a>"
      ],
      "text/plain": [
       "<IPython.core.display.HTML object>"
      ]
     },
     "metadata": {},
     "output_type": "display_data"
    },
    {
     "data": {
      "text/html": [
       " View run at <a href='https://wandb.ai/wisdom-jihyekim-aiffel/MNIST_for_Jellyfish/runs/m00a2pta' target=\"_blank\">https://wandb.ai/wisdom-jihyekim-aiffel/MNIST_for_Jellyfish/runs/m00a2pta</a>"
      ],
      "text/plain": [
       "<IPython.core.display.HTML object>"
      ]
     },
     "metadata": {},
     "output_type": "display_data"
    },
    {
     "name": "stdout",
     "output_type": "stream",
     "text": [
      "Epoch 1/9\n",
      "1875/1875 [==============================] - 6s 3ms/step - loss: 2.3748 - accuracy: 0.1018 - val_loss: 2.3153 - val_accuracy: 0.1202\n",
      "INFO:tensorflow:Assets written to: /aiffel/aiffel/wandb/run-20241115_034051-m00a2pta/files/model-best/assets\n"
     ]
    },
    {
     "name": "stderr",
     "output_type": "stream",
     "text": [
      "\u001b[34m\u001b[1mwandb\u001b[0m: Adding directory to artifact (/aiffel/aiffel/wandb/run-20241115_034051-m00a2pta/files/model-best)... Done. 0.0s\n"
     ]
    },
    {
     "name": "stdout",
     "output_type": "stream",
     "text": [
      "Epoch 2/9\n",
      "1875/1875 [==============================] - 5s 3ms/step - loss: 2.3124 - accuracy: 0.1026 - val_loss: 2.3188 - val_accuracy: 0.1002\n",
      "Epoch 3/9\n",
      "1875/1875 [==============================] - 5s 3ms/step - loss: 2.3122 - accuracy: 0.1029 - val_loss: 2.3114 - val_accuracy: 0.1202\n",
      "INFO:tensorflow:Assets written to: /aiffel/aiffel/wandb/run-20241115_034051-m00a2pta/files/model-best/assets\n"
     ]
    },
    {
     "name": "stderr",
     "output_type": "stream",
     "text": [
      "\u001b[34m\u001b[1mwandb\u001b[0m: Adding directory to artifact (/aiffel/aiffel/wandb/run-20241115_034051-m00a2pta/files/model-best)... Done. 0.0s\n"
     ]
    },
    {
     "name": "stdout",
     "output_type": "stream",
     "text": [
      "Epoch 4/9\n",
      "1875/1875 [==============================] - 5s 3ms/step - loss: 2.3123 - accuracy: 0.1030 - val_loss: 2.3172 - val_accuracy: 0.1202\n",
      "Epoch 5/9\n",
      "1875/1875 [==============================] - 5s 3ms/step - loss: 2.3120 - accuracy: 0.1036 - val_loss: 2.3177 - val_accuracy: 0.0970\n",
      "Epoch 6/9\n",
      "1875/1875 [==============================] - 5s 3ms/step - loss: 2.3127 - accuracy: 0.1032 - val_loss: 2.3091 - val_accuracy: 0.1046\n",
      "INFO:tensorflow:Assets written to: /aiffel/aiffel/wandb/run-20241115_034051-m00a2pta/files/model-best/assets\n"
     ]
    },
    {
     "name": "stderr",
     "output_type": "stream",
     "text": [
      "\u001b[34m\u001b[1mwandb\u001b[0m: Adding directory to artifact (/aiffel/aiffel/wandb/run-20241115_034051-m00a2pta/files/model-best)... Done. 0.0s\n"
     ]
    },
    {
     "name": "stdout",
     "output_type": "stream",
     "text": [
      "Epoch 7/9\n",
      "1875/1875 [==============================] - 5s 3ms/step - loss: 2.3121 - accuracy: 0.1054 - val_loss: 2.3019 - val_accuracy: 0.1202\n",
      "INFO:tensorflow:Assets written to: /aiffel/aiffel/wandb/run-20241115_034051-m00a2pta/files/model-best/assets\n"
     ]
    },
    {
     "name": "stderr",
     "output_type": "stream",
     "text": [
      "\u001b[34m\u001b[1mwandb\u001b[0m: Adding directory to artifact (/aiffel/aiffel/wandb/run-20241115_034051-m00a2pta/files/model-best)... Done. 0.0s\n"
     ]
    },
    {
     "name": "stdout",
     "output_type": "stream",
     "text": [
      "Epoch 8/9\n",
      "1875/1875 [==============================] - 5s 3ms/step - loss: 2.3120 - accuracy: 0.1026 - val_loss: 2.3080 - val_accuracy: 0.0970\n",
      "Epoch 9/9\n",
      "1875/1875 [==============================] - 5s 3ms/step - loss: 2.3123 - accuracy: 0.1041 - val_loss: 2.3082 - val_accuracy: 0.1202\n",
      "157/157 - 0s - loss: 2.3086 - accuracy: 0.1068\n"
     ]
    },
    {
     "data": {
      "application/vnd.jupyter.widget-view+json": {
       "model_id": "",
       "version_major": 2,
       "version_minor": 0
      },
      "text/plain": [
       "VBox(children=(Label(value='2.434 MB of 2.434 MB uploaded (0.043 MB deduped)\\r'), FloatProgress(value=1.0, max…"
      ]
     },
     "metadata": {},
     "output_type": "display_data"
    },
    {
     "data": {
      "text/html": [
       "W&B sync reduced upload amount by 1.8%             "
      ],
      "text/plain": [
       "<IPython.core.display.HTML object>"
      ]
     },
     "metadata": {},
     "output_type": "display_data"
    },
    {
     "data": {
      "text/html": [
       "<style>\n",
       "    table.wandb td:nth-child(1) { padding: 0 10px; text-align: left ; width: auto;} td:nth-child(2) {text-align: left ; width: 100%}\n",
       "    .wandb-row { display: flex; flex-direction: row; flex-wrap: wrap; justify-content: flex-start; width: 100% }\n",
       "    .wandb-col { display: flex; flex-direction: column; flex-basis: 100%; flex: 1; padding: 10px; }\n",
       "    </style>\n",
       "<div class=\"wandb-row\"><div class=\"wandb-col\"><h3>Run history:</h3><br/><table class=\"wandb\"><tr><td>Test Accuracy Rate: </td><td>▁</td></tr><tr><td>Test Error Rate: </td><td>▁</td></tr><tr><td>accuracy</td><td>▁▃▃▃▅▄█▃▆</td></tr><tr><td>epoch</td><td>▁▂▃▄▅▅▆▇█</td></tr><tr><td>loss</td><td>█▁▁▁▁▁▁▁▁</td></tr><tr><td>val_accuracy</td><td>█▂██▁▃█▁█</td></tr><tr><td>val_loss</td><td>▇█▅▇█▄▁▄▄</td></tr></table><br/></div><div class=\"wandb-col\"><h3>Run summary:</h3><br/><table class=\"wandb\"><tr><td>Test Accuracy Rate: </td><td>10.68</td></tr><tr><td>Test Error Rate: </td><td>89.32</td></tr><tr><td>accuracy</td><td>0.10415</td></tr><tr><td>best_epoch</td><td>6</td></tr><tr><td>best_val_loss</td><td>2.30193</td></tr><tr><td>epoch</td><td>8</td></tr><tr><td>loss</td><td>2.31231</td></tr><tr><td>val_accuracy</td><td>0.1202</td></tr><tr><td>val_loss</td><td>2.30824</td></tr></table><br/></div></div>"
      ],
      "text/plain": [
       "<IPython.core.display.HTML object>"
      ]
     },
     "metadata": {},
     "output_type": "display_data"
    },
    {
     "data": {
      "text/html": [
       " View run <strong style=\"color:#cdcd00\">fresh-lake-2</strong> at: <a href='https://wandb.ai/wisdom-jihyekim-aiffel/MNIST_for_Jellyfish/runs/m00a2pta' target=\"_blank\">https://wandb.ai/wisdom-jihyekim-aiffel/MNIST_for_Jellyfish/runs/m00a2pta</a><br/>Synced 5 W&B file(s), 91 media file(s), 16 artifact file(s) and 1 other file(s)"
      ],
      "text/plain": [
       "<IPython.core.display.HTML object>"
      ]
     },
     "metadata": {},
     "output_type": "display_data"
    },
    {
     "data": {
      "text/html": [
       "Find logs at: <code>./wandb/run-20241115_034051-m00a2pta/logs</code>"
      ],
      "text/plain": [
       "<IPython.core.display.HTML object>"
      ]
     },
     "metadata": {},
     "output_type": "display_data"
    },
    {
     "name": "stderr",
     "output_type": "stream",
     "text": [
      "\u001b[34m\u001b[1mwandb\u001b[0m: Agent Starting Run: k6w2ouey with config:\n",
      "\u001b[34m\u001b[1mwandb\u001b[0m: \tepoch: 10\n",
      "\u001b[34m\u001b[1mwandb\u001b[0m: \tlearning_rate: 0.06313995864230866\n"
     ]
    },
    {
     "data": {
      "text/html": [
       "wandb version 0.18.7 is available!  To upgrade, please run:\n",
       " $ pip install wandb --upgrade"
      ],
      "text/plain": [
       "<IPython.core.display.HTML object>"
      ]
     },
     "metadata": {},
     "output_type": "display_data"
    },
    {
     "data": {
      "text/html": [
       "Tracking run with wandb version 0.16.0"
      ],
      "text/plain": [
       "<IPython.core.display.HTML object>"
      ]
     },
     "metadata": {},
     "output_type": "display_data"
    },
    {
     "data": {
      "text/html": [
       "Run data is saved locally in <code>/aiffel/aiffel/wandb/run-20241115_034154-k6w2ouey</code>"
      ],
      "text/plain": [
       "<IPython.core.display.HTML object>"
      ]
     },
     "metadata": {},
     "output_type": "display_data"
    },
    {
     "data": {
      "text/html": [
       "Syncing run <strong><a href='https://wandb.ai/wisdom-jihyekim-aiffel/MNIST_for_Jellyfish/runs/k6w2ouey' target=\"_blank\">honest-water-3</a></strong> to <a href='https://wandb.ai/wisdom-jihyekim-aiffel/MNIST_for_Jellyfish' target=\"_blank\">Weights & Biases</a> (<a href='https://wandb.me/run' target=\"_blank\">docs</a>)<br/>Sweep page: <a href='https://wandb.ai/wisdom-jihyekim-aiffel/MNIST_for_Jellyfish/sweeps/sl1hihab' target=\"_blank\">https://wandb.ai/wisdom-jihyekim-aiffel/MNIST_for_Jellyfish/sweeps/sl1hihab</a>"
      ],
      "text/plain": [
       "<IPython.core.display.HTML object>"
      ]
     },
     "metadata": {},
     "output_type": "display_data"
    },
    {
     "data": {
      "text/html": [
       " View project at <a href='https://wandb.ai/wisdom-jihyekim-aiffel/MNIST_for_Jellyfish' target=\"_blank\">https://wandb.ai/wisdom-jihyekim-aiffel/MNIST_for_Jellyfish</a>"
      ],
      "text/plain": [
       "<IPython.core.display.HTML object>"
      ]
     },
     "metadata": {},
     "output_type": "display_data"
    },
    {
     "data": {
      "text/html": [
       " View sweep at <a href='https://wandb.ai/wisdom-jihyekim-aiffel/MNIST_for_Jellyfish/sweeps/sl1hihab' target=\"_blank\">https://wandb.ai/wisdom-jihyekim-aiffel/MNIST_for_Jellyfish/sweeps/sl1hihab</a>"
      ],
      "text/plain": [
       "<IPython.core.display.HTML object>"
      ]
     },
     "metadata": {},
     "output_type": "display_data"
    },
    {
     "data": {
      "text/html": [
       " View run at <a href='https://wandb.ai/wisdom-jihyekim-aiffel/MNIST_for_Jellyfish/runs/k6w2ouey' target=\"_blank\">https://wandb.ai/wisdom-jihyekim-aiffel/MNIST_for_Jellyfish/runs/k6w2ouey</a>"
      ],
      "text/plain": [
       "<IPython.core.display.HTML object>"
      ]
     },
     "metadata": {},
     "output_type": "display_data"
    },
    {
     "name": "stdout",
     "output_type": "stream",
     "text": [
      "Epoch 1/10\n",
      "1875/1875 [==============================] - 6s 3ms/step - loss: 2.3122 - accuracy: 0.1038 - val_loss: 2.3040 - val_accuracy: 0.1202\n",
      "INFO:tensorflow:Assets written to: /aiffel/aiffel/wandb/run-20241115_034154-k6w2ouey/files/model-best/assets\n"
     ]
    },
    {
     "name": "stderr",
     "output_type": "stream",
     "text": [
      "\u001b[34m\u001b[1mwandb\u001b[0m: Adding directory to artifact (/aiffel/aiffel/wandb/run-20241115_034154-k6w2ouey/files/model-best)... Done. 0.0s\n"
     ]
    },
    {
     "name": "stdout",
     "output_type": "stream",
     "text": [
      "Epoch 2/10\n",
      "1875/1875 [==============================] - 5s 3ms/step - loss: 2.3095 - accuracy: 0.1053 - val_loss: 2.3115 - val_accuracy: 0.0974\n",
      "Epoch 3/10\n",
      "1875/1875 [==============================] - 5s 3ms/step - loss: 2.3096 - accuracy: 0.1043 - val_loss: 2.3123 - val_accuracy: 0.1046\n",
      "Epoch 4/10\n",
      "1875/1875 [==============================] - 5s 3ms/step - loss: 2.3094 - accuracy: 0.1037 - val_loss: 2.3121 - val_accuracy: 0.0970\n",
      "Epoch 5/10\n",
      "1875/1875 [==============================] - 5s 3ms/step - loss: 2.3094 - accuracy: 0.1047 - val_loss: 2.3188 - val_accuracy: 0.0982\n",
      "Epoch 6/10\n",
      "1875/1875 [==============================] - 5s 3ms/step - loss: 2.3094 - accuracy: 0.1063 - val_loss: 2.3100 - val_accuracy: 0.0982\n",
      "Epoch 7/10\n",
      "1875/1875 [==============================] - 5s 3ms/step - loss: 2.3096 - accuracy: 0.1021 - val_loss: 2.3051 - val_accuracy: 0.1202\n",
      "Epoch 8/10\n",
      "1875/1875 [==============================] - 5s 3ms/step - loss: 2.3088 - accuracy: 0.1032 - val_loss: 2.3038 - val_accuracy: 0.1046\n",
      "INFO:tensorflow:Assets written to: /aiffel/aiffel/wandb/run-20241115_034154-k6w2ouey/files/model-best/assets\n"
     ]
    },
    {
     "name": "stderr",
     "output_type": "stream",
     "text": [
      "\u001b[34m\u001b[1mwandb\u001b[0m: Adding directory to artifact (/aiffel/aiffel/wandb/run-20241115_034154-k6w2ouey/files/model-best)... Done. 0.0s\n"
     ]
    },
    {
     "name": "stdout",
     "output_type": "stream",
     "text": [
      "Epoch 9/10\n",
      "1875/1875 [==============================] - 5s 3ms/step - loss: 2.3087 - accuracy: 0.1043 - val_loss: 2.3184 - val_accuracy: 0.0982\n",
      "Epoch 10/10\n",
      "1875/1875 [==============================] - 5s 3ms/step - loss: 2.3089 - accuracy: 0.1037 - val_loss: 2.3078 - val_accuracy: 0.0970\n",
      "157/157 - 0s - loss: 2.3057 - accuracy: 0.1048\n"
     ]
    },
    {
     "data": {
      "application/vnd.jupyter.widget-view+json": {
       "model_id": "",
       "version_major": 2,
       "version_minor": 0
      },
      "text/plain": [
       "VBox(children=(Label(value='1.431 MB of 1.431 MB uploaded (0.014 MB deduped)\\r'), FloatProgress(value=1.0, max…"
      ]
     },
     "metadata": {},
     "output_type": "display_data"
    },
    {
     "data": {
      "text/html": [
       "W&B sync reduced upload amount by 1.0%             "
      ],
      "text/plain": [
       "<IPython.core.display.HTML object>"
      ]
     },
     "metadata": {},
     "output_type": "display_data"
    },
    {
     "data": {
      "text/html": [
       "<style>\n",
       "    table.wandb td:nth-child(1) { padding: 0 10px; text-align: left ; width: auto;} td:nth-child(2) {text-align: left ; width: 100%}\n",
       "    .wandb-row { display: flex; flex-direction: row; flex-wrap: wrap; justify-content: flex-start; width: 100% }\n",
       "    .wandb-col { display: flex; flex-direction: column; flex-basis: 100%; flex: 1; padding: 10px; }\n",
       "    </style>\n",
       "<div class=\"wandb-row\"><div class=\"wandb-col\"><h3>Run history:</h3><br/><table class=\"wandb\"><tr><td>Test Accuracy Rate: </td><td>▁</td></tr><tr><td>Test Error Rate: </td><td>▁</td></tr><tr><td>accuracy</td><td>▄▆▅▄▅█▁▃▅▄</td></tr><tr><td>epoch</td><td>▁▂▃▃▄▅▆▆▇█</td></tr><tr><td>loss</td><td>█▃▃▂▂▂▃▁▁▁</td></tr><tr><td>val_accuracy</td><td>█▁▃▁▁▁█▃▁▁</td></tr><tr><td>val_loss</td><td>▁▅▅▅█▄▂▁█▃</td></tr></table><br/></div><div class=\"wandb-col\"><h3>Run summary:</h3><br/><table class=\"wandb\"><tr><td>Test Accuracy Rate: </td><td>10.48</td></tr><tr><td>Test Error Rate: </td><td>89.52</td></tr><tr><td>accuracy</td><td>0.10373</td></tr><tr><td>best_epoch</td><td>7</td></tr><tr><td>best_val_loss</td><td>2.30378</td></tr><tr><td>epoch</td><td>9</td></tr><tr><td>loss</td><td>2.30894</td></tr><tr><td>val_accuracy</td><td>0.097</td></tr><tr><td>val_loss</td><td>2.30784</td></tr></table><br/></div></div>"
      ],
      "text/plain": [
       "<IPython.core.display.HTML object>"
      ]
     },
     "metadata": {},
     "output_type": "display_data"
    },
    {
     "data": {
      "text/html": [
       " View run <strong style=\"color:#cdcd00\">honest-water-3</strong> at: <a href='https://wandb.ai/wisdom-jihyekim-aiffel/MNIST_for_Jellyfish/runs/k6w2ouey' target=\"_blank\">https://wandb.ai/wisdom-jihyekim-aiffel/MNIST_for_Jellyfish/runs/k6w2ouey</a><br/>Synced 5 W&B file(s), 101 media file(s), 8 artifact file(s) and 1 other file(s)"
      ],
      "text/plain": [
       "<IPython.core.display.HTML object>"
      ]
     },
     "metadata": {},
     "output_type": "display_data"
    },
    {
     "data": {
      "text/html": [
       "Find logs at: <code>./wandb/run-20241115_034154-k6w2ouey/logs</code>"
      ],
      "text/plain": [
       "<IPython.core.display.HTML object>"
      ]
     },
     "metadata": {},
     "output_type": "display_data"
    },
    {
     "name": "stderr",
     "output_type": "stream",
     "text": [
      "\u001b[34m\u001b[1mwandb\u001b[0m: Agent Starting Run: 78rwqc3f with config:\n",
      "\u001b[34m\u001b[1mwandb\u001b[0m: \tepoch: 8\n",
      "\u001b[34m\u001b[1mwandb\u001b[0m: \tlearning_rate: 0.0869356966945643\n"
     ]
    },
    {
     "data": {
      "application/vnd.jupyter.widget-view+json": {
       "model_id": "ffe2c695cca9432dbe3fcb35cf263dbc",
       "version_major": 2,
       "version_minor": 0
      },
      "text/plain": [
       "VBox(children=(Label(value='Waiting for wandb.init()...\\r'), FloatProgress(value=0.011112556655542801, max=1.0…"
      ]
     },
     "metadata": {},
     "output_type": "display_data"
    },
    {
     "data": {
      "text/html": [
       "wandb version 0.18.7 is available!  To upgrade, please run:\n",
       " $ pip install wandb --upgrade"
      ],
      "text/plain": [
       "<IPython.core.display.HTML object>"
      ]
     },
     "metadata": {},
     "output_type": "display_data"
    },
    {
     "data": {
      "text/html": [
       "Tracking run with wandb version 0.16.0"
      ],
      "text/plain": [
       "<IPython.core.display.HTML object>"
      ]
     },
     "metadata": {},
     "output_type": "display_data"
    },
    {
     "data": {
      "text/html": [
       "Run data is saved locally in <code>/aiffel/aiffel/wandb/run-20241115_034300-78rwqc3f</code>"
      ],
      "text/plain": [
       "<IPython.core.display.HTML object>"
      ]
     },
     "metadata": {},
     "output_type": "display_data"
    },
    {
     "data": {
      "text/html": [
       "Syncing run <strong><a href='https://wandb.ai/wisdom-jihyekim-aiffel/MNIST_for_Jellyfish/runs/78rwqc3f' target=\"_blank\">vital-waterfall-4</a></strong> to <a href='https://wandb.ai/wisdom-jihyekim-aiffel/MNIST_for_Jellyfish' target=\"_blank\">Weights & Biases</a> (<a href='https://wandb.me/run' target=\"_blank\">docs</a>)<br/>Sweep page: <a href='https://wandb.ai/wisdom-jihyekim-aiffel/MNIST_for_Jellyfish/sweeps/sl1hihab' target=\"_blank\">https://wandb.ai/wisdom-jihyekim-aiffel/MNIST_for_Jellyfish/sweeps/sl1hihab</a>"
      ],
      "text/plain": [
       "<IPython.core.display.HTML object>"
      ]
     },
     "metadata": {},
     "output_type": "display_data"
    },
    {
     "data": {
      "text/html": [
       " View project at <a href='https://wandb.ai/wisdom-jihyekim-aiffel/MNIST_for_Jellyfish' target=\"_blank\">https://wandb.ai/wisdom-jihyekim-aiffel/MNIST_for_Jellyfish</a>"
      ],
      "text/plain": [
       "<IPython.core.display.HTML object>"
      ]
     },
     "metadata": {},
     "output_type": "display_data"
    },
    {
     "data": {
      "text/html": [
       " View sweep at <a href='https://wandb.ai/wisdom-jihyekim-aiffel/MNIST_for_Jellyfish/sweeps/sl1hihab' target=\"_blank\">https://wandb.ai/wisdom-jihyekim-aiffel/MNIST_for_Jellyfish/sweeps/sl1hihab</a>"
      ],
      "text/plain": [
       "<IPython.core.display.HTML object>"
      ]
     },
     "metadata": {},
     "output_type": "display_data"
    },
    {
     "data": {
      "text/html": [
       " View run at <a href='https://wandb.ai/wisdom-jihyekim-aiffel/MNIST_for_Jellyfish/runs/78rwqc3f' target=\"_blank\">https://wandb.ai/wisdom-jihyekim-aiffel/MNIST_for_Jellyfish/runs/78rwqc3f</a>"
      ],
      "text/plain": [
       "<IPython.core.display.HTML object>"
      ]
     },
     "metadata": {},
     "output_type": "display_data"
    },
    {
     "name": "stdout",
     "output_type": "stream",
     "text": [
      "Epoch 1/8\n",
      "1875/1875 [==============================] - 6s 3ms/step - loss: 2.3222 - accuracy: 0.1040 - val_loss: 2.3091 - val_accuracy: 0.0956\n",
      "INFO:tensorflow:Assets written to: /aiffel/aiffel/wandb/run-20241115_034300-78rwqc3f/files/model-best/assets\n"
     ]
    },
    {
     "name": "stderr",
     "output_type": "stream",
     "text": [
      "\u001b[34m\u001b[1mwandb\u001b[0m: Adding directory to artifact (/aiffel/aiffel/wandb/run-20241115_034300-78rwqc3f/files/model-best)... Done. 0.0s\n"
     ]
    },
    {
     "name": "stdout",
     "output_type": "stream",
     "text": [
      "Epoch 2/8\n",
      "1875/1875 [==============================] - 5s 3ms/step - loss: 2.3120 - accuracy: 0.1044 - val_loss: 2.3147 - val_accuracy: 0.1046\n",
      "Epoch 3/8\n",
      "1875/1875 [==============================] - 5s 3ms/step - loss: 2.3121 - accuracy: 0.1049 - val_loss: 2.3148 - val_accuracy: 0.0970\n",
      "Epoch 4/8\n",
      "1875/1875 [==============================] - 5s 3ms/step - loss: 2.3125 - accuracy: 0.1036 - val_loss: 2.3073 - val_accuracy: 0.1026\n",
      "INFO:tensorflow:Assets written to: /aiffel/aiffel/wandb/run-20241115_034300-78rwqc3f/files/model-best/assets\n"
     ]
    },
    {
     "name": "stderr",
     "output_type": "stream",
     "text": [
      "\u001b[34m\u001b[1mwandb\u001b[0m: Adding directory to artifact (/aiffel/aiffel/wandb/run-20241115_034300-78rwqc3f/files/model-best)... Done. 0.0s\n"
     ]
    },
    {
     "name": "stdout",
     "output_type": "stream",
     "text": [
      "Epoch 5/8\n",
      "1875/1875 [==============================] - 5s 3ms/step - loss: 2.3122 - accuracy: 0.1029 - val_loss: 2.3117 - val_accuracy: 0.0966\n",
      "Epoch 6/8\n",
      "1875/1875 [==============================] - 5s 3ms/step - loss: 2.3119 - accuracy: 0.1042 - val_loss: 2.3171 - val_accuracy: 0.0966\n",
      "Epoch 7/8\n",
      "1875/1875 [==============================] - 5s 3ms/step - loss: 2.3122 - accuracy: 0.1022 - val_loss: 2.3121 - val_accuracy: 0.0974\n",
      "Epoch 8/8\n",
      "1875/1875 [==============================] - 5s 3ms/step - loss: 2.3117 - accuracy: 0.1023 - val_loss: 2.3055 - val_accuracy: 0.1202\n",
      "INFO:tensorflow:Assets written to: /aiffel/aiffel/wandb/run-20241115_034300-78rwqc3f/files/model-best/assets\n"
     ]
    },
    {
     "name": "stderr",
     "output_type": "stream",
     "text": [
      "\u001b[34m\u001b[1mwandb\u001b[0m: Adding directory to artifact (/aiffel/aiffel/wandb/run-20241115_034300-78rwqc3f/files/model-best)... Done. 0.0s\n"
     ]
    },
    {
     "name": "stdout",
     "output_type": "stream",
     "text": [
      "157/157 - 0s - loss: 2.3078 - accuracy: 0.1068\n"
     ]
    },
    {
     "data": {
      "application/vnd.jupyter.widget-view+json": {
       "model_id": "",
       "version_major": 2,
       "version_minor": 0
      },
      "text/plain": [
       "VBox(children=(Label(value='1.930 MB of 1.930 MB uploaded (0.029 MB deduped)\\r'), FloatProgress(value=1.0, max…"
      ]
     },
     "metadata": {},
     "output_type": "display_data"
    },
    {
     "data": {
      "text/html": [
       "W&B sync reduced upload amount by 1.5%             "
      ],
      "text/plain": [
       "<IPython.core.display.HTML object>"
      ]
     },
     "metadata": {},
     "output_type": "display_data"
    },
    {
     "data": {
      "text/html": [
       "<style>\n",
       "    table.wandb td:nth-child(1) { padding: 0 10px; text-align: left ; width: auto;} td:nth-child(2) {text-align: left ; width: 100%}\n",
       "    .wandb-row { display: flex; flex-direction: row; flex-wrap: wrap; justify-content: flex-start; width: 100% }\n",
       "    .wandb-col { display: flex; flex-direction: column; flex-basis: 100%; flex: 1; padding: 10px; }\n",
       "    </style>\n",
       "<div class=\"wandb-row\"><div class=\"wandb-col\"><h3>Run history:</h3><br/><table class=\"wandb\"><tr><td>Test Accuracy Rate: </td><td>▁</td></tr><tr><td>Test Error Rate: </td><td>▁</td></tr><tr><td>accuracy</td><td>▆▇█▅▃▆▁▁</td></tr><tr><td>epoch</td><td>▁▂▃▄▅▆▇█</td></tr><tr><td>loss</td><td>█▁▁▁▁▁▁▁</td></tr><tr><td>val_accuracy</td><td>▁▄▁▃▁▁▂█</td></tr><tr><td>val_loss</td><td>▃▇▇▂▅█▅▁</td></tr></table><br/></div><div class=\"wandb-col\"><h3>Run summary:</h3><br/><table class=\"wandb\"><tr><td>Test Accuracy Rate: </td><td>10.68</td></tr><tr><td>Test Error Rate: </td><td>89.32</td></tr><tr><td>accuracy</td><td>0.10227</td></tr><tr><td>best_epoch</td><td>7</td></tr><tr><td>best_val_loss</td><td>2.30548</td></tr><tr><td>epoch</td><td>7</td></tr><tr><td>loss</td><td>2.31173</td></tr><tr><td>val_accuracy</td><td>0.1202</td></tr><tr><td>val_loss</td><td>2.30548</td></tr></table><br/></div></div>"
      ],
      "text/plain": [
       "<IPython.core.display.HTML object>"
      ]
     },
     "metadata": {},
     "output_type": "display_data"
    },
    {
     "data": {
      "text/html": [
       " View run <strong style=\"color:#cdcd00\">vital-waterfall-4</strong> at: <a href='https://wandb.ai/wisdom-jihyekim-aiffel/MNIST_for_Jellyfish/runs/78rwqc3f' target=\"_blank\">https://wandb.ai/wisdom-jihyekim-aiffel/MNIST_for_Jellyfish/runs/78rwqc3f</a><br/>Synced 5 W&B file(s), 81 media file(s), 12 artifact file(s) and 1 other file(s)"
      ],
      "text/plain": [
       "<IPython.core.display.HTML object>"
      ]
     },
     "metadata": {},
     "output_type": "display_data"
    },
    {
     "data": {
      "text/html": [
       "Find logs at: <code>./wandb/run-20241115_034300-78rwqc3f/logs</code>"
      ],
      "text/plain": [
       "<IPython.core.display.HTML object>"
      ]
     },
     "metadata": {},
     "output_type": "display_data"
    },
    {
     "name": "stderr",
     "output_type": "stream",
     "text": [
      "\u001b[34m\u001b[1mwandb\u001b[0m: Agent Starting Run: pv14pz4o with config:\n",
      "\u001b[34m\u001b[1mwandb\u001b[0m: \tepoch: 6\n",
      "\u001b[34m\u001b[1mwandb\u001b[0m: \tlearning_rate: 0.06538517865957437\n"
     ]
    },
    {
     "data": {
      "text/html": [
       "wandb version 0.18.7 is available!  To upgrade, please run:\n",
       " $ pip install wandb --upgrade"
      ],
      "text/plain": [
       "<IPython.core.display.HTML object>"
      ]
     },
     "metadata": {},
     "output_type": "display_data"
    },
    {
     "data": {
      "text/html": [
       "Tracking run with wandb version 0.16.0"
      ],
      "text/plain": [
       "<IPython.core.display.HTML object>"
      ]
     },
     "metadata": {},
     "output_type": "display_data"
    },
    {
     "data": {
      "text/html": [
       "Run data is saved locally in <code>/aiffel/aiffel/wandb/run-20241115_034400-pv14pz4o</code>"
      ],
      "text/plain": [
       "<IPython.core.display.HTML object>"
      ]
     },
     "metadata": {},
     "output_type": "display_data"
    },
    {
     "data": {
      "text/html": [
       "Syncing run <strong><a href='https://wandb.ai/wisdom-jihyekim-aiffel/MNIST_for_Jellyfish/runs/pv14pz4o' target=\"_blank\">desert-sound-5</a></strong> to <a href='https://wandb.ai/wisdom-jihyekim-aiffel/MNIST_for_Jellyfish' target=\"_blank\">Weights & Biases</a> (<a href='https://wandb.me/run' target=\"_blank\">docs</a>)<br/>Sweep page: <a href='https://wandb.ai/wisdom-jihyekim-aiffel/MNIST_for_Jellyfish/sweeps/sl1hihab' target=\"_blank\">https://wandb.ai/wisdom-jihyekim-aiffel/MNIST_for_Jellyfish/sweeps/sl1hihab</a>"
      ],
      "text/plain": [
       "<IPython.core.display.HTML object>"
      ]
     },
     "metadata": {},
     "output_type": "display_data"
    },
    {
     "data": {
      "text/html": [
       " View project at <a href='https://wandb.ai/wisdom-jihyekim-aiffel/MNIST_for_Jellyfish' target=\"_blank\">https://wandb.ai/wisdom-jihyekim-aiffel/MNIST_for_Jellyfish</a>"
      ],
      "text/plain": [
       "<IPython.core.display.HTML object>"
      ]
     },
     "metadata": {},
     "output_type": "display_data"
    },
    {
     "data": {
      "text/html": [
       " View sweep at <a href='https://wandb.ai/wisdom-jihyekim-aiffel/MNIST_for_Jellyfish/sweeps/sl1hihab' target=\"_blank\">https://wandb.ai/wisdom-jihyekim-aiffel/MNIST_for_Jellyfish/sweeps/sl1hihab</a>"
      ],
      "text/plain": [
       "<IPython.core.display.HTML object>"
      ]
     },
     "metadata": {},
     "output_type": "display_data"
    },
    {
     "data": {
      "text/html": [
       " View run at <a href='https://wandb.ai/wisdom-jihyekim-aiffel/MNIST_for_Jellyfish/runs/pv14pz4o' target=\"_blank\">https://wandb.ai/wisdom-jihyekim-aiffel/MNIST_for_Jellyfish/runs/pv14pz4o</a>"
      ],
      "text/plain": [
       "<IPython.core.display.HTML object>"
      ]
     },
     "metadata": {},
     "output_type": "display_data"
    },
    {
     "name": "stdout",
     "output_type": "stream",
     "text": [
      "Epoch 1/6\n",
      "1875/1875 [==============================] - 6s 3ms/step - loss: 2.3505 - accuracy: 0.1030 - val_loss: 2.3071 - val_accuracy: 0.0974\n",
      "INFO:tensorflow:Assets written to: /aiffel/aiffel/wandb/run-20241115_034400-pv14pz4o/files/model-best/assets\n"
     ]
    },
    {
     "name": "stderr",
     "output_type": "stream",
     "text": [
      "\u001b[34m\u001b[1mwandb\u001b[0m: Adding directory to artifact (/aiffel/aiffel/wandb/run-20241115_034400-pv14pz4o/files/model-best)... Done. 0.0s\n"
     ]
    },
    {
     "name": "stdout",
     "output_type": "stream",
     "text": [
      "Epoch 2/6\n",
      "1875/1875 [==============================] - 5s 3ms/step - loss: 2.3098 - accuracy: 0.1043 - val_loss: 2.3060 - val_accuracy: 0.1202\n",
      "INFO:tensorflow:Assets written to: /aiffel/aiffel/wandb/run-20241115_034400-pv14pz4o/files/model-best/assets\n"
     ]
    },
    {
     "name": "stderr",
     "output_type": "stream",
     "text": [
      "\u001b[34m\u001b[1mwandb\u001b[0m: Adding directory to artifact (/aiffel/aiffel/wandb/run-20241115_034400-pv14pz4o/files/model-best)... Done. 0.0s\n"
     ]
    },
    {
     "name": "stdout",
     "output_type": "stream",
     "text": [
      "Epoch 3/6\n",
      "1875/1875 [==============================] - 5s 3ms/step - loss: 2.3096 - accuracy: 0.1047 - val_loss: 2.3088 - val_accuracy: 0.1202\n",
      "Epoch 4/6\n",
      "1875/1875 [==============================] - 5s 3ms/step - loss: 2.3094 - accuracy: 0.1059 - val_loss: 2.3118 - val_accuracy: 0.0982\n",
      "Epoch 5/6\n",
      "1875/1875 [==============================] - 5s 3ms/step - loss: 2.3098 - accuracy: 0.1027 - val_loss: 2.3075 - val_accuracy: 0.0970\n",
      "Epoch 6/6\n",
      "1875/1875 [==============================] - 5s 3ms/step - loss: 2.3097 - accuracy: 0.1019 - val_loss: 2.3021 - val_accuracy: 0.1002\n",
      "INFO:tensorflow:Assets written to: /aiffel/aiffel/wandb/run-20241115_034400-pv14pz4o/files/model-best/assets\n"
     ]
    },
    {
     "name": "stderr",
     "output_type": "stream",
     "text": [
      "\u001b[34m\u001b[1mwandb\u001b[0m: Adding directory to artifact (/aiffel/aiffel/wandb/run-20241115_034400-pv14pz4o/files/model-best)... Done. 0.0s\n"
     ]
    },
    {
     "name": "stdout",
     "output_type": "stream",
     "text": [
      "157/157 - 0s - loss: 2.3049 - accuracy: 0.0962\n"
     ]
    },
    {
     "data": {
      "application/vnd.jupyter.widget-view+json": {
       "model_id": "",
       "version_major": 2,
       "version_minor": 0
      },
      "text/plain": [
       "VBox(children=(Label(value='1.924 MB of 1.924 MB uploaded (0.029 MB deduped)\\r'), FloatProgress(value=1.0, max…"
      ]
     },
     "metadata": {},
     "output_type": "display_data"
    },
    {
     "data": {
      "text/html": [
       "W&B sync reduced upload amount by 1.5%             "
      ],
      "text/plain": [
       "<IPython.core.display.HTML object>"
      ]
     },
     "metadata": {},
     "output_type": "display_data"
    },
    {
     "data": {
      "text/html": [
       "<style>\n",
       "    table.wandb td:nth-child(1) { padding: 0 10px; text-align: left ; width: auto;} td:nth-child(2) {text-align: left ; width: 100%}\n",
       "    .wandb-row { display: flex; flex-direction: row; flex-wrap: wrap; justify-content: flex-start; width: 100% }\n",
       "    .wandb-col { display: flex; flex-direction: column; flex-basis: 100%; flex: 1; padding: 10px; }\n",
       "    </style>\n",
       "<div class=\"wandb-row\"><div class=\"wandb-col\"><h3>Run history:</h3><br/><table class=\"wandb\"><tr><td>Test Accuracy Rate: </td><td>▁</td></tr><tr><td>Test Error Rate: </td><td>▁</td></tr><tr><td>accuracy</td><td>▃▅▆█▂▁</td></tr><tr><td>epoch</td><td>▁▂▄▅▇█</td></tr><tr><td>loss</td><td>█▁▁▁▁▁</td></tr><tr><td>val_accuracy</td><td>▁██▁▁▂</td></tr><tr><td>val_loss</td><td>▅▄▆█▅▁</td></tr></table><br/></div><div class=\"wandb-col\"><h3>Run summary:</h3><br/><table class=\"wandb\"><tr><td>Test Accuracy Rate: </td><td>9.62</td></tr><tr><td>Test Error Rate: </td><td>90.38</td></tr><tr><td>accuracy</td><td>0.10195</td></tr><tr><td>best_epoch</td><td>5</td></tr><tr><td>best_val_loss</td><td>2.30205</td></tr><tr><td>epoch</td><td>5</td></tr><tr><td>loss</td><td>2.30967</td></tr><tr><td>val_accuracy</td><td>0.1002</td></tr><tr><td>val_loss</td><td>2.30205</td></tr></table><br/></div></div>"
      ],
      "text/plain": [
       "<IPython.core.display.HTML object>"
      ]
     },
     "metadata": {},
     "output_type": "display_data"
    },
    {
     "data": {
      "text/html": [
       " View run <strong style=\"color:#cdcd00\">desert-sound-5</strong> at: <a href='https://wandb.ai/wisdom-jihyekim-aiffel/MNIST_for_Jellyfish/runs/pv14pz4o' target=\"_blank\">https://wandb.ai/wisdom-jihyekim-aiffel/MNIST_for_Jellyfish/runs/pv14pz4o</a><br/>Synced 5 W&B file(s), 61 media file(s), 12 artifact file(s) and 1 other file(s)"
      ],
      "text/plain": [
       "<IPython.core.display.HTML object>"
      ]
     },
     "metadata": {},
     "output_type": "display_data"
    },
    {
     "data": {
      "text/html": [
       "Find logs at: <code>./wandb/run-20241115_034400-pv14pz4o/logs</code>"
      ],
      "text/plain": [
       "<IPython.core.display.HTML object>"
      ]
     },
     "metadata": {},
     "output_type": "display_data"
    },
    {
     "name": "stderr",
     "output_type": "stream",
     "text": [
      "\u001b[34m\u001b[1mwandb\u001b[0m: Agent Starting Run: 48s8hx83 with config:\n",
      "\u001b[34m\u001b[1mwandb\u001b[0m: \tepoch: 9\n",
      "\u001b[34m\u001b[1mwandb\u001b[0m: \tlearning_rate: 0.097619106814124\n"
     ]
    },
    {
     "data": {
      "text/html": [
       "wandb version 0.18.7 is available!  To upgrade, please run:\n",
       " $ pip install wandb --upgrade"
      ],
      "text/plain": [
       "<IPython.core.display.HTML object>"
      ]
     },
     "metadata": {},
     "output_type": "display_data"
    },
    {
     "data": {
      "text/html": [
       "Tracking run with wandb version 0.16.0"
      ],
      "text/plain": [
       "<IPython.core.display.HTML object>"
      ]
     },
     "metadata": {},
     "output_type": "display_data"
    },
    {
     "data": {
      "text/html": [
       "Run data is saved locally in <code>/aiffel/aiffel/wandb/run-20241115_034447-48s8hx83</code>"
      ],
      "text/plain": [
       "<IPython.core.display.HTML object>"
      ]
     },
     "metadata": {},
     "output_type": "display_data"
    },
    {
     "data": {
      "text/html": [
       "Syncing run <strong><a href='https://wandb.ai/wisdom-jihyekim-aiffel/MNIST_for_Jellyfish/runs/48s8hx83' target=\"_blank\">wobbly-sweep-1</a></strong> to <a href='https://wandb.ai/wisdom-jihyekim-aiffel/MNIST_for_Jellyfish' target=\"_blank\">Weights & Biases</a> (<a href='https://wandb.me/run' target=\"_blank\">docs</a>)<br/>Sweep page: <a href='https://wandb.ai/wisdom-jihyekim-aiffel/MNIST_for_Jellyfish/sweeps/sl1hihab' target=\"_blank\">https://wandb.ai/wisdom-jihyekim-aiffel/MNIST_for_Jellyfish/sweeps/sl1hihab</a>"
      ],
      "text/plain": [
       "<IPython.core.display.HTML object>"
      ]
     },
     "metadata": {},
     "output_type": "display_data"
    },
    {
     "data": {
      "text/html": [
       " View project at <a href='https://wandb.ai/wisdom-jihyekim-aiffel/MNIST_for_Jellyfish' target=\"_blank\">https://wandb.ai/wisdom-jihyekim-aiffel/MNIST_for_Jellyfish</a>"
      ],
      "text/plain": [
       "<IPython.core.display.HTML object>"
      ]
     },
     "metadata": {},
     "output_type": "display_data"
    },
    {
     "data": {
      "text/html": [
       " View sweep at <a href='https://wandb.ai/wisdom-jihyekim-aiffel/MNIST_for_Jellyfish/sweeps/sl1hihab' target=\"_blank\">https://wandb.ai/wisdom-jihyekim-aiffel/MNIST_for_Jellyfish/sweeps/sl1hihab</a>"
      ],
      "text/plain": [
       "<IPython.core.display.HTML object>"
      ]
     },
     "metadata": {},
     "output_type": "display_data"
    },
    {
     "data": {
      "text/html": [
       " View run at <a href='https://wandb.ai/wisdom-jihyekim-aiffel/MNIST_for_Jellyfish/runs/48s8hx83' target=\"_blank\">https://wandb.ai/wisdom-jihyekim-aiffel/MNIST_for_Jellyfish/runs/48s8hx83</a>"
      ],
      "text/plain": [
       "<IPython.core.display.HTML object>"
      ]
     },
     "metadata": {},
     "output_type": "display_data"
    },
    {
     "name": "stdout",
     "output_type": "stream",
     "text": [
      "Epoch 1/9\n",
      "1875/1875 [==============================] - 6s 3ms/step - loss: 2.3341 - accuracy: 0.1046 - val_loss: 2.3083 - val_accuracy: 0.1202\n",
      "INFO:tensorflow:Assets written to: /aiffel/aiffel/wandb/run-20241115_034447-48s8hx83/files/model-best/assets\n"
     ]
    },
    {
     "name": "stderr",
     "output_type": "stream",
     "text": [
      "\u001b[34m\u001b[1mwandb\u001b[0m: Adding directory to artifact (/aiffel/aiffel/wandb/run-20241115_034447-48s8hx83/files/model-best)... Done. 0.0s\n"
     ]
    },
    {
     "name": "stdout",
     "output_type": "stream",
     "text": [
      "Epoch 2/9\n",
      "1875/1875 [==============================] - 5s 3ms/step - loss: 2.3136 - accuracy: 0.1025 - val_loss: 2.3115 - val_accuracy: 0.1202\n",
      "Epoch 3/9\n",
      "1875/1875 [==============================] - 5s 3ms/step - loss: 2.3140 - accuracy: 0.1022 - val_loss: 2.3077 - val_accuracy: 0.0982\n",
      "INFO:tensorflow:Assets written to: /aiffel/aiffel/wandb/run-20241115_034447-48s8hx83/files/model-best/assets\n"
     ]
    },
    {
     "name": "stderr",
     "output_type": "stream",
     "text": [
      "\u001b[34m\u001b[1mwandb\u001b[0m: Adding directory to artifact (/aiffel/aiffel/wandb/run-20241115_034447-48s8hx83/files/model-best)... Done. 0.0s\n"
     ]
    },
    {
     "name": "stdout",
     "output_type": "stream",
     "text": [
      "Epoch 4/9\n",
      "1875/1875 [==============================] - 5s 3ms/step - loss: 2.3143 - accuracy: 0.1026 - val_loss: 2.3150 - val_accuracy: 0.0956\n",
      "Epoch 5/9\n",
      "1875/1875 [==============================] - 5s 3ms/step - loss: 2.3141 - accuracy: 0.1019 - val_loss: 2.3173 - val_accuracy: 0.0966\n",
      "Epoch 6/9\n",
      "1875/1875 [==============================] - 5s 3ms/step - loss: 2.3132 - accuracy: 0.1037 - val_loss: 2.3186 - val_accuracy: 0.0970\n",
      "Epoch 7/9\n",
      "1875/1875 [==============================] - 5s 3ms/step - loss: 2.3148 - accuracy: 0.1014 - val_loss: 2.3079 - val_accuracy: 0.1046\n",
      "Epoch 8/9\n",
      "1875/1875 [==============================] - 5s 3ms/step - loss: 2.3139 - accuracy: 0.1042 - val_loss: 2.3094 - val_accuracy: 0.0970\n",
      "Epoch 9/9\n",
      "1875/1875 [==============================] - 5s 3ms/step - loss: 2.3148 - accuracy: 0.1044 - val_loss: 2.3130 - val_accuracy: 0.0974\n",
      "157/157 - 0s - loss: 2.3106 - accuracy: 0.0974\n"
     ]
    },
    {
     "data": {
      "application/vnd.jupyter.widget-view+json": {
       "model_id": "",
       "version_major": 2,
       "version_minor": 0
      },
      "text/plain": [
       "VBox(children=(Label(value='1.033 MB of 1.438 MB uploaded (0.014 MB deduped)\\r'), FloatProgress(value=0.718387…"
      ]
     },
     "metadata": {},
     "output_type": "display_data"
    },
    {
     "data": {
      "text/html": [
       "W&B sync reduced upload amount by 1.0%             "
      ],
      "text/plain": [
       "<IPython.core.display.HTML object>"
      ]
     },
     "metadata": {},
     "output_type": "display_data"
    },
    {
     "data": {
      "text/html": [
       "<style>\n",
       "    table.wandb td:nth-child(1) { padding: 0 10px; text-align: left ; width: auto;} td:nth-child(2) {text-align: left ; width: 100%}\n",
       "    .wandb-row { display: flex; flex-direction: row; flex-wrap: wrap; justify-content: flex-start; width: 100% }\n",
       "    .wandb-col { display: flex; flex-direction: column; flex-basis: 100%; flex: 1; padding: 10px; }\n",
       "    </style>\n",
       "<div class=\"wandb-row\"><div class=\"wandb-col\"><h3>Run history:</h3><br/><table class=\"wandb\"><tr><td>Test Accuracy Rate: </td><td>▁</td></tr><tr><td>Test Error Rate: </td><td>▁</td></tr><tr><td>accuracy</td><td>█▃▃▃▂▆▁▇█</td></tr><tr><td>epoch</td><td>▁▂▃▄▅▅▆▇█</td></tr><tr><td>loss</td><td>█▁▁▁▁▁▂▁▂</td></tr><tr><td>val_accuracy</td><td>██▂▁▁▁▄▁▂</td></tr><tr><td>val_loss</td><td>▁▃▁▆▇█▁▂▄</td></tr></table><br/></div><div class=\"wandb-col\"><h3>Run summary:</h3><br/><table class=\"wandb\"><tr><td>Test Accuracy Rate: </td><td>9.74</td></tr><tr><td>Test Error Rate: </td><td>90.26</td></tr><tr><td>accuracy</td><td>0.10443</td></tr><tr><td>best_epoch</td><td>2</td></tr><tr><td>best_val_loss</td><td>2.30775</td></tr><tr><td>epoch</td><td>8</td></tr><tr><td>loss</td><td>2.31481</td></tr><tr><td>val_accuracy</td><td>0.0974</td></tr><tr><td>val_loss</td><td>2.31301</td></tr></table><br/></div></div>"
      ],
      "text/plain": [
       "<IPython.core.display.HTML object>"
      ]
     },
     "metadata": {},
     "output_type": "display_data"
    },
    {
     "data": {
      "text/html": [
       " View run <strong style=\"color:#cdcd00\">wobbly-sweep-1</strong> at: <a href='https://wandb.ai/wisdom-jihyekim-aiffel/MNIST_for_Jellyfish/runs/48s8hx83' target=\"_blank\">https://wandb.ai/wisdom-jihyekim-aiffel/MNIST_for_Jellyfish/runs/48s8hx83</a><br/>Synced 5 W&B file(s), 91 media file(s), 8 artifact file(s) and 1 other file(s)"
      ],
      "text/plain": [
       "<IPython.core.display.HTML object>"
      ]
     },
     "metadata": {},
     "output_type": "display_data"
    },
    {
     "data": {
      "text/html": [
       "Find logs at: <code>./wandb/run-20241115_034447-48s8hx83/logs</code>"
      ],
      "text/plain": [
       "<IPython.core.display.HTML object>"
      ]
     },
     "metadata": {},
     "output_type": "display_data"
    },
    {
     "name": "stderr",
     "output_type": "stream",
     "text": [
      "\u001b[34m\u001b[1mwandb\u001b[0m: Agent Starting Run: xw7pa5wc with config:\n",
      "\u001b[34m\u001b[1mwandb\u001b[0m: \tepoch: 6\n",
      "\u001b[34m\u001b[1mwandb\u001b[0m: \tlearning_rate: 0.044148310686339454\n"
     ]
    },
    {
     "data": {
      "text/html": [
       "wandb version 0.18.7 is available!  To upgrade, please run:\n",
       " $ pip install wandb --upgrade"
      ],
      "text/plain": [
       "<IPython.core.display.HTML object>"
      ]
     },
     "metadata": {},
     "output_type": "display_data"
    },
    {
     "data": {
      "text/html": [
       "Tracking run with wandb version 0.16.0"
      ],
      "text/plain": [
       "<IPython.core.display.HTML object>"
      ]
     },
     "metadata": {},
     "output_type": "display_data"
    },
    {
     "data": {
      "text/html": [
       "Run data is saved locally in <code>/aiffel/aiffel/wandb/run-20241115_034547-xw7pa5wc</code>"
      ],
      "text/plain": [
       "<IPython.core.display.HTML object>"
      ]
     },
     "metadata": {},
     "output_type": "display_data"
    },
    {
     "data": {
      "text/html": [
       "Syncing run <strong><a href='https://wandb.ai/wisdom-jihyekim-aiffel/MNIST_for_Jellyfish/runs/xw7pa5wc' target=\"_blank\">neat-water-7</a></strong> to <a href='https://wandb.ai/wisdom-jihyekim-aiffel/MNIST_for_Jellyfish' target=\"_blank\">Weights & Biases</a> (<a href='https://wandb.me/run' target=\"_blank\">docs</a>)<br/>Sweep page: <a href='https://wandb.ai/wisdom-jihyekim-aiffel/MNIST_for_Jellyfish/sweeps/sl1hihab' target=\"_blank\">https://wandb.ai/wisdom-jihyekim-aiffel/MNIST_for_Jellyfish/sweeps/sl1hihab</a>"
      ],
      "text/plain": [
       "<IPython.core.display.HTML object>"
      ]
     },
     "metadata": {},
     "output_type": "display_data"
    },
    {
     "data": {
      "text/html": [
       " View project at <a href='https://wandb.ai/wisdom-jihyekim-aiffel/MNIST_for_Jellyfish' target=\"_blank\">https://wandb.ai/wisdom-jihyekim-aiffel/MNIST_for_Jellyfish</a>"
      ],
      "text/plain": [
       "<IPython.core.display.HTML object>"
      ]
     },
     "metadata": {},
     "output_type": "display_data"
    },
    {
     "data": {
      "text/html": [
       " View sweep at <a href='https://wandb.ai/wisdom-jihyekim-aiffel/MNIST_for_Jellyfish/sweeps/sl1hihab' target=\"_blank\">https://wandb.ai/wisdom-jihyekim-aiffel/MNIST_for_Jellyfish/sweeps/sl1hihab</a>"
      ],
      "text/plain": [
       "<IPython.core.display.HTML object>"
      ]
     },
     "metadata": {},
     "output_type": "display_data"
    },
    {
     "data": {
      "text/html": [
       " View run at <a href='https://wandb.ai/wisdom-jihyekim-aiffel/MNIST_for_Jellyfish/runs/xw7pa5wc' target=\"_blank\">https://wandb.ai/wisdom-jihyekim-aiffel/MNIST_for_Jellyfish/runs/xw7pa5wc</a>"
      ],
      "text/plain": [
       "<IPython.core.display.HTML object>"
      ]
     },
     "metadata": {},
     "output_type": "display_data"
    },
    {
     "name": "stdout",
     "output_type": "stream",
     "text": [
      "Epoch 1/6\n",
      "1875/1875 [==============================] - 6s 3ms/step - loss: 2.3090 - accuracy: 0.1057 - val_loss: 2.3057 - val_accuracy: 0.0956\n",
      "INFO:tensorflow:Assets written to: /aiffel/aiffel/wandb/run-20241115_034547-xw7pa5wc/files/model-best/assets\n"
     ]
    },
    {
     "name": "stderr",
     "output_type": "stream",
     "text": [
      "\u001b[34m\u001b[1mwandb\u001b[0m: Adding directory to artifact (/aiffel/aiffel/wandb/run-20241115_034547-xw7pa5wc/files/model-best)... Done. 0.0s\n"
     ]
    },
    {
     "name": "stdout",
     "output_type": "stream",
     "text": [
      "Epoch 2/6\n",
      "1875/1875 [==============================] - 5s 3ms/step - loss: 2.3070 - accuracy: 0.1032 - val_loss: 2.3073 - val_accuracy: 0.0982\n",
      "Epoch 3/6\n",
      "1875/1875 [==============================] - 5s 3ms/step - loss: 2.3067 - accuracy: 0.1051 - val_loss: 2.3074 - val_accuracy: 0.0876\n",
      "Epoch 4/6\n",
      "1875/1875 [==============================] - 5s 3ms/step - loss: 2.3069 - accuracy: 0.1050 - val_loss: 2.3043 - val_accuracy: 0.0970\n",
      "INFO:tensorflow:Assets written to: /aiffel/aiffel/wandb/run-20241115_034547-xw7pa5wc/files/model-best/assets\n"
     ]
    },
    {
     "name": "stderr",
     "output_type": "stream",
     "text": [
      "\u001b[34m\u001b[1mwandb\u001b[0m: Adding directory to artifact (/aiffel/aiffel/wandb/run-20241115_034547-xw7pa5wc/files/model-best)... Done. 0.0s\n"
     ]
    },
    {
     "name": "stdout",
     "output_type": "stream",
     "text": [
      "Epoch 5/6\n",
      "1875/1875 [==============================] - 5s 3ms/step - loss: 2.3068 - accuracy: 0.1060 - val_loss: 2.3095 - val_accuracy: 0.1026\n",
      "Epoch 6/6\n",
      "1875/1875 [==============================] - 5s 3ms/step - loss: 2.3070 - accuracy: 0.1058 - val_loss: 2.3066 - val_accuracy: 0.1026\n",
      "157/157 - 0s - loss: 2.3056 - accuracy: 0.1038\n"
     ]
    },
    {
     "data": {
      "application/vnd.jupyter.widget-view+json": {
       "model_id": "",
       "version_major": 2,
       "version_minor": 0
      },
      "text/plain": [
       "VBox(children=(Label(value='1.420 MB of 1.420 MB uploaded (0.014 MB deduped)\\r'), FloatProgress(value=1.0, max…"
      ]
     },
     "metadata": {},
     "output_type": "display_data"
    },
    {
     "data": {
      "text/html": [
       "W&B sync reduced upload amount by 1.0%             "
      ],
      "text/plain": [
       "<IPython.core.display.HTML object>"
      ]
     },
     "metadata": {},
     "output_type": "display_data"
    },
    {
     "data": {
      "text/html": [
       "<style>\n",
       "    table.wandb td:nth-child(1) { padding: 0 10px; text-align: left ; width: auto;} td:nth-child(2) {text-align: left ; width: 100%}\n",
       "    .wandb-row { display: flex; flex-direction: row; flex-wrap: wrap; justify-content: flex-start; width: 100% }\n",
       "    .wandb-col { display: flex; flex-direction: column; flex-basis: 100%; flex: 1; padding: 10px; }\n",
       "    </style>\n",
       "<div class=\"wandb-row\"><div class=\"wandb-col\"><h3>Run history:</h3><br/><table class=\"wandb\"><tr><td>Test Accuracy Rate: </td><td>▁</td></tr><tr><td>Test Error Rate: </td><td>▁</td></tr><tr><td>accuracy</td><td>▇▁▆▅█▇</td></tr><tr><td>epoch</td><td>▁▂▄▅▇█</td></tr><tr><td>loss</td><td>█▂▁▂▁▂</td></tr><tr><td>val_accuracy</td><td>▅▆▁▅██</td></tr><tr><td>val_loss</td><td>▃▅▅▁█▄</td></tr></table><br/></div><div class=\"wandb-col\"><h3>Run summary:</h3><br/><table class=\"wandb\"><tr><td>Test Accuracy Rate: </td><td>10.38</td></tr><tr><td>Test Error Rate: </td><td>89.62</td></tr><tr><td>accuracy</td><td>0.10578</td></tr><tr><td>best_epoch</td><td>3</td></tr><tr><td>best_val_loss</td><td>2.30428</td></tr><tr><td>epoch</td><td>5</td></tr><tr><td>loss</td><td>2.30697</td></tr><tr><td>val_accuracy</td><td>0.1026</td></tr><tr><td>val_loss</td><td>2.30656</td></tr></table><br/></div></div>"
      ],
      "text/plain": [
       "<IPython.core.display.HTML object>"
      ]
     },
     "metadata": {},
     "output_type": "display_data"
    },
    {
     "data": {
      "text/html": [
       " View run <strong style=\"color:#cdcd00\">neat-water-7</strong> at: <a href='https://wandb.ai/wisdom-jihyekim-aiffel/MNIST_for_Jellyfish/runs/xw7pa5wc' target=\"_blank\">https://wandb.ai/wisdom-jihyekim-aiffel/MNIST_for_Jellyfish/runs/xw7pa5wc</a><br/>Synced 5 W&B file(s), 61 media file(s), 8 artifact file(s) and 1 other file(s)"
      ],
      "text/plain": [
       "<IPython.core.display.HTML object>"
      ]
     },
     "metadata": {},
     "output_type": "display_data"
    },
    {
     "data": {
      "text/html": [
       "Find logs at: <code>./wandb/run-20241115_034547-xw7pa5wc/logs</code>"
      ],
      "text/plain": [
       "<IPython.core.display.HTML object>"
      ]
     },
     "metadata": {},
     "output_type": "display_data"
    },
    {
     "name": "stderr",
     "output_type": "stream",
     "text": [
      "\u001b[34m\u001b[1mwandb\u001b[0m: Agent Starting Run: t4biowyy with config:\n",
      "\u001b[34m\u001b[1mwandb\u001b[0m: \tepoch: 7\n",
      "\u001b[34m\u001b[1mwandb\u001b[0m: \tlearning_rate: 0.06305064492810476\n"
     ]
    },
    {
     "data": {
      "text/html": [
       "wandb version 0.18.7 is available!  To upgrade, please run:\n",
       " $ pip install wandb --upgrade"
      ],
      "text/plain": [
       "<IPython.core.display.HTML object>"
      ]
     },
     "metadata": {},
     "output_type": "display_data"
    },
    {
     "data": {
      "text/html": [
       "Tracking run with wandb version 0.16.0"
      ],
      "text/plain": [
       "<IPython.core.display.HTML object>"
      ]
     },
     "metadata": {},
     "output_type": "display_data"
    },
    {
     "data": {
      "text/html": [
       "Run data is saved locally in <code>/aiffel/aiffel/wandb/run-20241115_034633-t4biowyy</code>"
      ],
      "text/plain": [
       "<IPython.core.display.HTML object>"
      ]
     },
     "metadata": {},
     "output_type": "display_data"
    },
    {
     "data": {
      "text/html": [
       "Syncing run <strong><a href='https://wandb.ai/wisdom-jihyekim-aiffel/MNIST_for_Jellyfish/runs/t4biowyy' target=\"_blank\">lemon-silence-8</a></strong> to <a href='https://wandb.ai/wisdom-jihyekim-aiffel/MNIST_for_Jellyfish' target=\"_blank\">Weights & Biases</a> (<a href='https://wandb.me/run' target=\"_blank\">docs</a>)<br/>Sweep page: <a href='https://wandb.ai/wisdom-jihyekim-aiffel/MNIST_for_Jellyfish/sweeps/sl1hihab' target=\"_blank\">https://wandb.ai/wisdom-jihyekim-aiffel/MNIST_for_Jellyfish/sweeps/sl1hihab</a>"
      ],
      "text/plain": [
       "<IPython.core.display.HTML object>"
      ]
     },
     "metadata": {},
     "output_type": "display_data"
    },
    {
     "data": {
      "text/html": [
       " View project at <a href='https://wandb.ai/wisdom-jihyekim-aiffel/MNIST_for_Jellyfish' target=\"_blank\">https://wandb.ai/wisdom-jihyekim-aiffel/MNIST_for_Jellyfish</a>"
      ],
      "text/plain": [
       "<IPython.core.display.HTML object>"
      ]
     },
     "metadata": {},
     "output_type": "display_data"
    },
    {
     "data": {
      "text/html": [
       " View sweep at <a href='https://wandb.ai/wisdom-jihyekim-aiffel/MNIST_for_Jellyfish/sweeps/sl1hihab' target=\"_blank\">https://wandb.ai/wisdom-jihyekim-aiffel/MNIST_for_Jellyfish/sweeps/sl1hihab</a>"
      ],
      "text/plain": [
       "<IPython.core.display.HTML object>"
      ]
     },
     "metadata": {},
     "output_type": "display_data"
    },
    {
     "data": {
      "text/html": [
       " View run at <a href='https://wandb.ai/wisdom-jihyekim-aiffel/MNIST_for_Jellyfish/runs/t4biowyy' target=\"_blank\">https://wandb.ai/wisdom-jihyekim-aiffel/MNIST_for_Jellyfish/runs/t4biowyy</a>"
      ],
      "text/plain": [
       "<IPython.core.display.HTML object>"
      ]
     },
     "metadata": {},
     "output_type": "display_data"
    },
    {
     "name": "stdout",
     "output_type": "stream",
     "text": [
      "Epoch 1/7\n",
      "1875/1875 [==============================] - 6s 3ms/step - loss: 2.3174 - accuracy: 0.1044 - val_loss: 2.3054 - val_accuracy: 0.0974\n",
      "INFO:tensorflow:Assets written to: /aiffel/aiffel/wandb/run-20241115_034633-t4biowyy/files/model-best/assets\n"
     ]
    },
    {
     "name": "stderr",
     "output_type": "stream",
     "text": [
      "\u001b[34m\u001b[1mwandb\u001b[0m: Adding directory to artifact (/aiffel/aiffel/wandb/run-20241115_034633-t4biowyy/files/model-best)... Done. 0.0s\n"
     ]
    },
    {
     "name": "stdout",
     "output_type": "stream",
     "text": [
      "Epoch 2/7\n",
      "1875/1875 [==============================] - 5s 3ms/step - loss: 2.3092 - accuracy: 0.1037 - val_loss: 2.3047 - val_accuracy: 0.0974\n",
      "INFO:tensorflow:Assets written to: /aiffel/aiffel/wandb/run-20241115_034633-t4biowyy/files/model-best/assets\n"
     ]
    },
    {
     "name": "stderr",
     "output_type": "stream",
     "text": [
      "\u001b[34m\u001b[1mwandb\u001b[0m: Adding directory to artifact (/aiffel/aiffel/wandb/run-20241115_034633-t4biowyy/files/model-best)... Done. 0.0s\n"
     ]
    },
    {
     "name": "stdout",
     "output_type": "stream",
     "text": [
      "Epoch 3/7\n",
      "1875/1875 [==============================] - 5s 3ms/step - loss: 2.3091 - accuracy: 0.1036 - val_loss: 2.3045 - val_accuracy: 0.1026\n",
      "INFO:tensorflow:Assets written to: /aiffel/aiffel/wandb/run-20241115_034633-t4biowyy/files/model-best/assets\n"
     ]
    },
    {
     "name": "stderr",
     "output_type": "stream",
     "text": [
      "\u001b[34m\u001b[1mwandb\u001b[0m: Adding directory to artifact (/aiffel/aiffel/wandb/run-20241115_034633-t4biowyy/files/model-best)... Done. 0.0s\n"
     ]
    },
    {
     "name": "stdout",
     "output_type": "stream",
     "text": [
      "Epoch 4/7\n",
      "1875/1875 [==============================] - 5s 3ms/step - loss: 2.3091 - accuracy: 0.1016 - val_loss: 2.3032 - val_accuracy: 0.1202\n",
      "INFO:tensorflow:Assets written to: /aiffel/aiffel/wandb/run-20241115_034633-t4biowyy/files/model-best/assets\n"
     ]
    },
    {
     "name": "stderr",
     "output_type": "stream",
     "text": [
      "\u001b[34m\u001b[1mwandb\u001b[0m: Adding directory to artifact (/aiffel/aiffel/wandb/run-20241115_034633-t4biowyy/files/model-best)... Done. 0.0s\n"
     ]
    },
    {
     "name": "stdout",
     "output_type": "stream",
     "text": [
      "Epoch 5/7\n",
      "1875/1875 [==============================] - 5s 3ms/step - loss: 2.3089 - accuracy: 0.1042 - val_loss: 2.3092 - val_accuracy: 0.1202\n",
      "Epoch 6/7\n",
      "1875/1875 [==============================] - 5s 3ms/step - loss: 2.3102 - accuracy: 0.1041 - val_loss: 2.3107 - val_accuracy: 0.0966\n",
      "Epoch 7/7\n",
      "1875/1875 [==============================] - 5s 3ms/step - loss: 2.3097 - accuracy: 0.1037 - val_loss: 2.3042 - val_accuracy: 0.1202\n",
      "157/157 - 0s - loss: 2.3062 - accuracy: 0.1068\n"
     ]
    },
    {
     "data": {
      "application/vnd.jupyter.widget-view+json": {
       "model_id": "",
       "version_major": 2,
       "version_minor": 0
      },
      "text/plain": [
       "VBox(children=(Label(value='2.430 MB of 2.430 MB uploaded (0.043 MB deduped)\\r'), FloatProgress(value=1.0, max…"
      ]
     },
     "metadata": {},
     "output_type": "display_data"
    },
    {
     "data": {
      "text/html": [
       "W&B sync reduced upload amount by 1.8%             "
      ],
      "text/plain": [
       "<IPython.core.display.HTML object>"
      ]
     },
     "metadata": {},
     "output_type": "display_data"
    },
    {
     "data": {
      "text/html": [
       "<style>\n",
       "    table.wandb td:nth-child(1) { padding: 0 10px; text-align: left ; width: auto;} td:nth-child(2) {text-align: left ; width: 100%}\n",
       "    .wandb-row { display: flex; flex-direction: row; flex-wrap: wrap; justify-content: flex-start; width: 100% }\n",
       "    .wandb-col { display: flex; flex-direction: column; flex-basis: 100%; flex: 1; padding: 10px; }\n",
       "    </style>\n",
       "<div class=\"wandb-row\"><div class=\"wandb-col\"><h3>Run history:</h3><br/><table class=\"wandb\"><tr><td>Test Accuracy Rate: </td><td>▁</td></tr><tr><td>Test Error Rate: </td><td>▁</td></tr><tr><td>accuracy</td><td>█▆▆▁▇▇▆</td></tr><tr><td>epoch</td><td>▁▂▃▅▆▇█</td></tr><tr><td>loss</td><td>█▁▁▁▁▂▂</td></tr><tr><td>val_accuracy</td><td>▁▁▃██▁█</td></tr><tr><td>val_loss</td><td>▃▂▂▁▇█▂</td></tr></table><br/></div><div class=\"wandb-col\"><h3>Run summary:</h3><br/><table class=\"wandb\"><tr><td>Test Accuracy Rate: </td><td>10.68</td></tr><tr><td>Test Error Rate: </td><td>89.32</td></tr><tr><td>accuracy</td><td>0.10367</td></tr><tr><td>best_epoch</td><td>3</td></tr><tr><td>best_val_loss</td><td>2.30321</td></tr><tr><td>epoch</td><td>6</td></tr><tr><td>loss</td><td>2.3097</td></tr><tr><td>val_accuracy</td><td>0.1202</td></tr><tr><td>val_loss</td><td>2.30415</td></tr></table><br/></div></div>"
      ],
      "text/plain": [
       "<IPython.core.display.HTML object>"
      ]
     },
     "metadata": {},
     "output_type": "display_data"
    },
    {
     "data": {
      "text/html": [
       " View run <strong style=\"color:#cdcd00\">lemon-silence-8</strong> at: <a href='https://wandb.ai/wisdom-jihyekim-aiffel/MNIST_for_Jellyfish/runs/t4biowyy' target=\"_blank\">https://wandb.ai/wisdom-jihyekim-aiffel/MNIST_for_Jellyfish/runs/t4biowyy</a><br/>Synced 5 W&B file(s), 71 media file(s), 16 artifact file(s) and 1 other file(s)"
      ],
      "text/plain": [
       "<IPython.core.display.HTML object>"
      ]
     },
     "metadata": {},
     "output_type": "display_data"
    },
    {
     "data": {
      "text/html": [
       "Find logs at: <code>./wandb/run-20241115_034633-t4biowyy/logs</code>"
      ],
      "text/plain": [
       "<IPython.core.display.HTML object>"
      ]
     },
     "metadata": {},
     "output_type": "display_data"
    },
    {
     "name": "stderr",
     "output_type": "stream",
     "text": [
      "\u001b[34m\u001b[1mwandb\u001b[0m: Agent Starting Run: nek2nmgo with config:\n",
      "\u001b[34m\u001b[1mwandb\u001b[0m: \tepoch: 10\n",
      "\u001b[34m\u001b[1mwandb\u001b[0m: \tlearning_rate: 0.06721888963284385\n"
     ]
    },
    {
     "data": {
      "text/html": [
       "wandb version 0.18.7 is available!  To upgrade, please run:\n",
       " $ pip install wandb --upgrade"
      ],
      "text/plain": [
       "<IPython.core.display.HTML object>"
      ]
     },
     "metadata": {},
     "output_type": "display_data"
    },
    {
     "data": {
      "text/html": [
       "Tracking run with wandb version 0.16.0"
      ],
      "text/plain": [
       "<IPython.core.display.HTML object>"
      ]
     },
     "metadata": {},
     "output_type": "display_data"
    },
    {
     "data": {
      "text/html": [
       "Run data is saved locally in <code>/aiffel/aiffel/wandb/run-20241115_034724-nek2nmgo</code>"
      ],
      "text/plain": [
       "<IPython.core.display.HTML object>"
      ]
     },
     "metadata": {},
     "output_type": "display_data"
    },
    {
     "data": {
      "text/html": [
       "Syncing run <strong><a href='https://wandb.ai/wisdom-jihyekim-aiffel/MNIST_for_Jellyfish/runs/nek2nmgo' target=\"_blank\">hearty-surf-9</a></strong> to <a href='https://wandb.ai/wisdom-jihyekim-aiffel/MNIST_for_Jellyfish' target=\"_blank\">Weights & Biases</a> (<a href='https://wandb.me/run' target=\"_blank\">docs</a>)<br/>Sweep page: <a href='https://wandb.ai/wisdom-jihyekim-aiffel/MNIST_for_Jellyfish/sweeps/sl1hihab' target=\"_blank\">https://wandb.ai/wisdom-jihyekim-aiffel/MNIST_for_Jellyfish/sweeps/sl1hihab</a>"
      ],
      "text/plain": [
       "<IPython.core.display.HTML object>"
      ]
     },
     "metadata": {},
     "output_type": "display_data"
    },
    {
     "data": {
      "text/html": [
       " View project at <a href='https://wandb.ai/wisdom-jihyekim-aiffel/MNIST_for_Jellyfish' target=\"_blank\">https://wandb.ai/wisdom-jihyekim-aiffel/MNIST_for_Jellyfish</a>"
      ],
      "text/plain": [
       "<IPython.core.display.HTML object>"
      ]
     },
     "metadata": {},
     "output_type": "display_data"
    },
    {
     "data": {
      "text/html": [
       " View sweep at <a href='https://wandb.ai/wisdom-jihyekim-aiffel/MNIST_for_Jellyfish/sweeps/sl1hihab' target=\"_blank\">https://wandb.ai/wisdom-jihyekim-aiffel/MNIST_for_Jellyfish/sweeps/sl1hihab</a>"
      ],
      "text/plain": [
       "<IPython.core.display.HTML object>"
      ]
     },
     "metadata": {},
     "output_type": "display_data"
    },
    {
     "data": {
      "text/html": [
       " View run at <a href='https://wandb.ai/wisdom-jihyekim-aiffel/MNIST_for_Jellyfish/runs/nek2nmgo' target=\"_blank\">https://wandb.ai/wisdom-jihyekim-aiffel/MNIST_for_Jellyfish/runs/nek2nmgo</a>"
      ],
      "text/plain": [
       "<IPython.core.display.HTML object>"
      ]
     },
     "metadata": {},
     "output_type": "display_data"
    },
    {
     "name": "stdout",
     "output_type": "stream",
     "text": [
      "Epoch 1/10\n",
      "1875/1875 [==============================] - 6s 3ms/step - loss: 2.3215 - accuracy: 0.1016 - val_loss: 2.3045 - val_accuracy: 0.0982\n",
      "INFO:tensorflow:Assets written to: /aiffel/aiffel/wandb/run-20241115_034724-nek2nmgo/files/model-best/assets\n"
     ]
    },
    {
     "name": "stderr",
     "output_type": "stream",
     "text": [
      "\u001b[34m\u001b[1mwandb\u001b[0m: Adding directory to artifact (/aiffel/aiffel/wandb/run-20241115_034724-nek2nmgo/files/model-best)... Done. 0.0s\n"
     ]
    },
    {
     "name": "stdout",
     "output_type": "stream",
     "text": [
      "Epoch 2/10\n",
      "1875/1875 [==============================] - 5s 3ms/step - loss: 2.3097 - accuracy: 0.1025 - val_loss: 2.3110 - val_accuracy: 0.1026\n",
      "Epoch 3/10\n",
      "1875/1875 [==============================] - 5s 3ms/step - loss: 2.3097 - accuracy: 0.1039 - val_loss: 2.3161 - val_accuracy: 0.1046\n",
      "Epoch 4/10\n",
      "1875/1875 [==============================] - 5s 3ms/step - loss: 2.3102 - accuracy: 0.1030 - val_loss: 2.3062 - val_accuracy: 0.0982\n",
      "Epoch 5/10\n",
      "1875/1875 [==============================] - 5s 3ms/step - loss: 2.3099 - accuracy: 0.1038 - val_loss: 2.3022 - val_accuracy: 0.1202\n",
      "INFO:tensorflow:Assets written to: /aiffel/aiffel/wandb/run-20241115_034724-nek2nmgo/files/model-best/assets\n"
     ]
    },
    {
     "name": "stderr",
     "output_type": "stream",
     "text": [
      "\u001b[34m\u001b[1mwandb\u001b[0m: Adding directory to artifact (/aiffel/aiffel/wandb/run-20241115_034724-nek2nmgo/files/model-best)... Done. 0.0s\n"
     ]
    },
    {
     "name": "stdout",
     "output_type": "stream",
     "text": [
      "Epoch 6/10\n",
      "1875/1875 [==============================] - 5s 3ms/step - loss: 2.3100 - accuracy: 0.1034 - val_loss: 2.3105 - val_accuracy: 0.1202\n",
      "Epoch 7/10\n",
      "1875/1875 [==============================] - 5s 3ms/step - loss: 2.3100 - accuracy: 0.1050 - val_loss: 2.3090 - val_accuracy: 0.0970\n",
      "Epoch 8/10\n",
      "1875/1875 [==============================] - 5s 3ms/step - loss: 2.3096 - accuracy: 0.1040 - val_loss: 2.3101 - val_accuracy: 0.1026\n",
      "Epoch 9/10\n",
      "1875/1875 [==============================] - 5s 3ms/step - loss: 2.3099 - accuracy: 0.1018 - val_loss: 2.3072 - val_accuracy: 0.1046\n",
      "Epoch 10/10\n",
      "1875/1875 [==============================] - 5s 3ms/step - loss: 2.3101 - accuracy: 0.1003 - val_loss: 2.3107 - val_accuracy: 0.0982\n",
      "157/157 - 0s - loss: 2.3072 - accuracy: 0.1038\n"
     ]
    },
    {
     "data": {
      "application/vnd.jupyter.widget-view+json": {
       "model_id": "",
       "version_major": 2,
       "version_minor": 0
      },
      "text/plain": [
       "VBox(children=(Label(value='1.430 MB of 1.430 MB uploaded (0.014 MB deduped)\\r'), FloatProgress(value=1.0, max…"
      ]
     },
     "metadata": {},
     "output_type": "display_data"
    },
    {
     "data": {
      "text/html": [
       "W&B sync reduced upload amount by 1.0%             "
      ],
      "text/plain": [
       "<IPython.core.display.HTML object>"
      ]
     },
     "metadata": {},
     "output_type": "display_data"
    },
    {
     "data": {
      "text/html": [
       "<style>\n",
       "    table.wandb td:nth-child(1) { padding: 0 10px; text-align: left ; width: auto;} td:nth-child(2) {text-align: left ; width: 100%}\n",
       "    .wandb-row { display: flex; flex-direction: row; flex-wrap: wrap; justify-content: flex-start; width: 100% }\n",
       "    .wandb-col { display: flex; flex-direction: column; flex-basis: 100%; flex: 1; padding: 10px; }\n",
       "    </style>\n",
       "<div class=\"wandb-row\"><div class=\"wandb-col\"><h3>Run history:</h3><br/><table class=\"wandb\"><tr><td>Test Accuracy Rate: </td><td>▁</td></tr><tr><td>Test Error Rate: </td><td>▁</td></tr><tr><td>accuracy</td><td>▃▄▆▅▆▆█▆▃▁</td></tr><tr><td>epoch</td><td>▁▂▃▃▄▅▆▆▇█</td></tr><tr><td>loss</td><td>█▁▁▁▁▁▁▁▁▁</td></tr><tr><td>val_accuracy</td><td>▁▃▃▁██▁▃▃▁</td></tr><tr><td>val_loss</td><td>▂▅█▃▁▅▄▅▄▅</td></tr></table><br/></div><div class=\"wandb-col\"><h3>Run summary:</h3><br/><table class=\"wandb\"><tr><td>Test Accuracy Rate: </td><td>10.38</td></tr><tr><td>Test Error Rate: </td><td>89.62</td></tr><tr><td>accuracy</td><td>0.10035</td></tr><tr><td>best_epoch</td><td>4</td></tr><tr><td>best_val_loss</td><td>2.30218</td></tr><tr><td>epoch</td><td>9</td></tr><tr><td>loss</td><td>2.3101</td></tr><tr><td>val_accuracy</td><td>0.0982</td></tr><tr><td>val_loss</td><td>2.31068</td></tr></table><br/></div></div>"
      ],
      "text/plain": [
       "<IPython.core.display.HTML object>"
      ]
     },
     "metadata": {},
     "output_type": "display_data"
    },
    {
     "data": {
      "text/html": [
       " View run <strong style=\"color:#cdcd00\">hearty-surf-9</strong> at: <a href='https://wandb.ai/wisdom-jihyekim-aiffel/MNIST_for_Jellyfish/runs/nek2nmgo' target=\"_blank\">https://wandb.ai/wisdom-jihyekim-aiffel/MNIST_for_Jellyfish/runs/nek2nmgo</a><br/>Synced 5 W&B file(s), 101 media file(s), 8 artifact file(s) and 1 other file(s)"
      ],
      "text/plain": [
       "<IPython.core.display.HTML object>"
      ]
     },
     "metadata": {},
     "output_type": "display_data"
    },
    {
     "data": {
      "text/html": [
       "Find logs at: <code>./wandb/run-20241115_034724-nek2nmgo/logs</code>"
      ],
      "text/plain": [
       "<IPython.core.display.HTML object>"
      ]
     },
     "metadata": {},
     "output_type": "display_data"
    },
    {
     "name": "stderr",
     "output_type": "stream",
     "text": [
      "\u001b[34m\u001b[1mwandb\u001b[0m: Agent Starting Run: p2zpr2ql with config:\n",
      "\u001b[34m\u001b[1mwandb\u001b[0m: \tepoch: 6\n",
      "\u001b[34m\u001b[1mwandb\u001b[0m: \tlearning_rate: 0.0999839153097144\n"
     ]
    },
    {
     "data": {
      "text/html": [
       "wandb version 0.18.7 is available!  To upgrade, please run:\n",
       " $ pip install wandb --upgrade"
      ],
      "text/plain": [
       "<IPython.core.display.HTML object>"
      ]
     },
     "metadata": {},
     "output_type": "display_data"
    },
    {
     "data": {
      "text/html": [
       "Tracking run with wandb version 0.16.0"
      ],
      "text/plain": [
       "<IPython.core.display.HTML object>"
      ]
     },
     "metadata": {},
     "output_type": "display_data"
    },
    {
     "data": {
      "text/html": [
       "Run data is saved locally in <code>/aiffel/aiffel/wandb/run-20241115_034831-p2zpr2ql</code>"
      ],
      "text/plain": [
       "<IPython.core.display.HTML object>"
      ]
     },
     "metadata": {},
     "output_type": "display_data"
    },
    {
     "data": {
      "text/html": [
       "Syncing run <strong><a href='https://wandb.ai/wisdom-jihyekim-aiffel/MNIST_for_Jellyfish/runs/p2zpr2ql' target=\"_blank\">super-capybara-10</a></strong> to <a href='https://wandb.ai/wisdom-jihyekim-aiffel/MNIST_for_Jellyfish' target=\"_blank\">Weights & Biases</a> (<a href='https://wandb.me/run' target=\"_blank\">docs</a>)<br/>Sweep page: <a href='https://wandb.ai/wisdom-jihyekim-aiffel/MNIST_for_Jellyfish/sweeps/sl1hihab' target=\"_blank\">https://wandb.ai/wisdom-jihyekim-aiffel/MNIST_for_Jellyfish/sweeps/sl1hihab</a>"
      ],
      "text/plain": [
       "<IPython.core.display.HTML object>"
      ]
     },
     "metadata": {},
     "output_type": "display_data"
    },
    {
     "data": {
      "text/html": [
       " View project at <a href='https://wandb.ai/wisdom-jihyekim-aiffel/MNIST_for_Jellyfish' target=\"_blank\">https://wandb.ai/wisdom-jihyekim-aiffel/MNIST_for_Jellyfish</a>"
      ],
      "text/plain": [
       "<IPython.core.display.HTML object>"
      ]
     },
     "metadata": {},
     "output_type": "display_data"
    },
    {
     "data": {
      "text/html": [
       " View sweep at <a href='https://wandb.ai/wisdom-jihyekim-aiffel/MNIST_for_Jellyfish/sweeps/sl1hihab' target=\"_blank\">https://wandb.ai/wisdom-jihyekim-aiffel/MNIST_for_Jellyfish/sweeps/sl1hihab</a>"
      ],
      "text/plain": [
       "<IPython.core.display.HTML object>"
      ]
     },
     "metadata": {},
     "output_type": "display_data"
    },
    {
     "data": {
      "text/html": [
       " View run at <a href='https://wandb.ai/wisdom-jihyekim-aiffel/MNIST_for_Jellyfish/runs/p2zpr2ql' target=\"_blank\">https://wandb.ai/wisdom-jihyekim-aiffel/MNIST_for_Jellyfish/runs/p2zpr2ql</a>"
      ],
      "text/plain": [
       "<IPython.core.display.HTML object>"
      ]
     },
     "metadata": {},
     "output_type": "display_data"
    },
    {
     "name": "stdout",
     "output_type": "stream",
     "text": [
      "Epoch 1/6\n",
      "1875/1875 [==============================] - 6s 3ms/step - loss: 2.3581 - accuracy: 0.1014 - val_loss: 2.3057 - val_accuracy: 0.1026\n",
      "INFO:tensorflow:Assets written to: /aiffel/aiffel/wandb/run-20241115_034831-p2zpr2ql/files/model-best/assets\n"
     ]
    },
    {
     "name": "stderr",
     "output_type": "stream",
     "text": [
      "\u001b[34m\u001b[1mwandb\u001b[0m: Adding directory to artifact (/aiffel/aiffel/wandb/run-20241115_034831-p2zpr2ql/files/model-best)... Done. 0.0s\n"
     ]
    },
    {
     "name": "stdout",
     "output_type": "stream",
     "text": [
      "Epoch 2/6\n",
      "1875/1875 [==============================] - 6s 3ms/step - loss: 2.3137 - accuracy: 0.1037 - val_loss: 2.3192 - val_accuracy: 0.1046\n",
      "Epoch 3/6\n",
      "1875/1875 [==============================] - 5s 3ms/step - loss: 2.3141 - accuracy: 0.1030 - val_loss: 2.3096 - val_accuracy: 0.1202\n",
      "Epoch 4/6\n",
      "1875/1875 [==============================] - 5s 3ms/step - loss: 2.3135 - accuracy: 0.1038 - val_loss: 2.3237 - val_accuracy: 0.0966\n",
      "Epoch 5/6\n",
      "1875/1875 [==============================] - 5s 3ms/step - loss: 2.3137 - accuracy: 0.1025 - val_loss: 2.3195 - val_accuracy: 0.1046\n",
      "Epoch 6/6\n",
      "1875/1875 [==============================] - 5s 3ms/step - loss: 2.3142 - accuracy: 0.1016 - val_loss: 2.3130 - val_accuracy: 0.1202\n",
      "157/157 - 0s - loss: 2.3225 - accuracy: 0.1068\n"
     ]
    },
    {
     "data": {
      "application/vnd.jupyter.widget-view+json": {
       "model_id": "",
       "version_major": 2,
       "version_minor": 0
      },
      "text/plain": [
       "VBox(children=(Label(value='0.917 MB of 0.917 MB uploaded\\r'), FloatProgress(value=1.0, max=1.0)))"
      ]
     },
     "metadata": {},
     "output_type": "display_data"
    },
    {
     "data": {
      "text/html": [
       "<style>\n",
       "    table.wandb td:nth-child(1) { padding: 0 10px; text-align: left ; width: auto;} td:nth-child(2) {text-align: left ; width: 100%}\n",
       "    .wandb-row { display: flex; flex-direction: row; flex-wrap: wrap; justify-content: flex-start; width: 100% }\n",
       "    .wandb-col { display: flex; flex-direction: column; flex-basis: 100%; flex: 1; padding: 10px; }\n",
       "    </style>\n",
       "<div class=\"wandb-row\"><div class=\"wandb-col\"><h3>Run history:</h3><br/><table class=\"wandb\"><tr><td>Test Accuracy Rate: </td><td>▁</td></tr><tr><td>Test Error Rate: </td><td>▁</td></tr><tr><td>accuracy</td><td>▁█▆█▄▂</td></tr><tr><td>epoch</td><td>▁▂▄▅▇█</td></tr><tr><td>loss</td><td>█▁▁▁▁▁</td></tr><tr><td>val_accuracy</td><td>▃▃█▁▃█</td></tr><tr><td>val_loss</td><td>▁▆▃█▆▄</td></tr></table><br/></div><div class=\"wandb-col\"><h3>Run summary:</h3><br/><table class=\"wandb\"><tr><td>Test Accuracy Rate: </td><td>10.68</td></tr><tr><td>Test Error Rate: </td><td>89.32</td></tr><tr><td>accuracy</td><td>0.10165</td></tr><tr><td>best_epoch</td><td>0</td></tr><tr><td>best_val_loss</td><td>2.30566</td></tr><tr><td>epoch</td><td>5</td></tr><tr><td>loss</td><td>2.31425</td></tr><tr><td>val_accuracy</td><td>0.1202</td></tr><tr><td>val_loss</td><td>2.31301</td></tr></table><br/></div></div>"
      ],
      "text/plain": [
       "<IPython.core.display.HTML object>"
      ]
     },
     "metadata": {},
     "output_type": "display_data"
    },
    {
     "data": {
      "text/html": [
       " View run <strong style=\"color:#cdcd00\">super-capybara-10</strong> at: <a href='https://wandb.ai/wisdom-jihyekim-aiffel/MNIST_for_Jellyfish/runs/p2zpr2ql' target=\"_blank\">https://wandb.ai/wisdom-jihyekim-aiffel/MNIST_for_Jellyfish/runs/p2zpr2ql</a><br/>Synced 5 W&B file(s), 61 media file(s), 4 artifact file(s) and 1 other file(s)"
      ],
      "text/plain": [
       "<IPython.core.display.HTML object>"
      ]
     },
     "metadata": {},
     "output_type": "display_data"
    },
    {
     "data": {
      "text/html": [
       "Find logs at: <code>./wandb/run-20241115_034831-p2zpr2ql/logs</code>"
      ],
      "text/plain": [
       "<IPython.core.display.HTML object>"
      ]
     },
     "metadata": {},
     "output_type": "display_data"
    }
   ],
   "source": [
    "# entity와 project에 본인의 아이디와 프로젝트명을 입력하세요\n",
    "\n",
    "sweep_id = wandb.sweep(sweep_config,\n",
    "                       entity = \"wisdom-jihyekim-aiffel\",\n",
    "                       project = \"MNIST_for_Jellyfish\")\n",
    "\n",
    "# run the sweep\n",
    "wandb.agent(sweep_id,\n",
    "            function=train,\n",
    "            count=10)"
   ]
  },
  {
   "cell_type": "code",
   "execution_count": null,
   "id": "4e8cf6b1",
   "metadata": {},
   "outputs": [],
   "source": []
  }
 ],
 "metadata": {
  "kernelspec": {
   "display_name": "Python 3 (ipykernel)",
   "language": "python",
   "name": "python3"
  },
  "language_info": {
   "codemirror_mode": {
    "name": "ipython",
    "version": 3
   },
   "file_extension": ".py",
   "mimetype": "text/x-python",
   "name": "python",
   "nbconvert_exporter": "python",
   "pygments_lexer": "ipython3",
   "version": "3.9.7"
  }
 },
 "nbformat": 4,
 "nbformat_minor": 5
}
