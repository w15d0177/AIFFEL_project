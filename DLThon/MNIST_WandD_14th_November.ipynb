{
 "cells": [
  {
   "cell_type": "code",
   "execution_count": 1,
   "id": "cc58b5c1",
   "metadata": {},
   "outputs": [],
   "source": [
    "# 필요한 도구 불러오기 \n",
    "\n",
    "import pandas as pd\n",
    "import tensorflow as tf\n",
    "from tensorflow import keras\n",
    "from sklearn.model_selection import train_test_split\n",
    "import wandb\n",
    "from wandb.keras import WandbCallback\n",
    "from sklearn.preprocessing import LabelEncoder\n",
    "from PIL import Image \n",
    "import glob\n",
    "import os"
   ]
  },
  {
   "cell_type": "code",
   "execution_count": 2,
   "id": "f50487e5",
   "metadata": {},
   "outputs": [
    {
     "name": "stdout",
     "output_type": "stream",
     "text": [
      "Downloading data from https://storage.googleapis.com/tensorflow/tf-keras-datasets/mnist.npz\n",
      "11493376/11490434 [==============================] - 0s 0us/step\n",
      "11501568/11490434 [==============================] - 0s 0us/step\n"
     ]
    }
   ],
   "source": [
    "(X_train, y_train), (X_test, y_test) = keras.datasets.mnist.load_data()\n",
    "X_train, X_test = X_train / 255.0, X_test / 255.0\n",
    "X_train = X_train.reshape( -1, 28, 28, 1)\n",
    "X_test = X_test.reshape( -1, 28, 28, 1)\n",
    "X_val, X_test, y_val, y_test = train_test_split(X_test, y_test, test_size = 0.5)\n",
    "\n",
    "# 시각화를 위해 sample 데이터를 준비합니다.\n",
    "X_sample = X_test[:50]\n",
    "y_sample = y_test[:50]\n",
    "\n",
    "CLASS_NAMES = [0, 1, 2, 3, 4, 5, 6, 7, 8, 9]"
   ]
  },
  {
   "cell_type": "code",
   "execution_count": null,
   "id": "38259b7f",
   "metadata": {},
   "outputs": [],
   "source": [
    "# wandb.login(key = \"c4e33984a0f1d0c7e209f455add7b4da4718e070\")"
   ]
  },
  {
   "cell_type": "code",
   "execution_count": 5,
   "id": "d91d0649",
   "metadata": {},
   "outputs": [
    {
     "name": "stderr",
     "output_type": "stream",
     "text": [
      "\u001b[34m\u001b[1mwandb\u001b[0m: Logging into wandb.ai. (Learn how to deploy a W&B server locally: https://wandb.me/wandb-server)\n",
      "\u001b[34m\u001b[1mwandb\u001b[0m: You can find your API key in your browser here: https://wandb.ai/authorize\n",
      "\u001b[34m\u001b[1mwandb\u001b[0m: Paste an API key from your profile and hit enter, or press ctrl+c to quit:"
     ]
    },
    {
     "name": "stdout",
     "output_type": "stream",
     "text": [
      " ········\n"
     ]
    },
    {
     "name": "stderr",
     "output_type": "stream",
     "text": [
      "\u001b[34m\u001b[1mwandb\u001b[0m: Appending key for api.wandb.ai to your netrc file: /aiffel/.netrc\n"
     ]
    },
    {
     "data": {
      "text/plain": [
       "True"
      ]
     },
     "execution_count": 5,
     "metadata": {},
     "output_type": "execute_result"
    }
   ],
   "source": [
    "import os\n",
    "import wandb\n",
    "\n",
    "wandb.login(key=os.getenv(\"WANDB_API_KEY\"))"
   ]
  },
  {
   "cell_type": "code",
   "execution_count": 6,
   "id": "75af53a8",
   "metadata": {},
   "outputs": [],
   "source": [
    "# Sweep의 config 설정하기 \n",
    "\n",
    "sweep_config = {\n",
    "    \"name\": \"sweep_test_core\",\n",
    "    \"metric\": {\"name\": \"val_loss\", \"goal\": \"minimize\"},\n",
    "    \"method\": \"random\",\n",
    "    \"parameters\": {\n",
    "        \"learning_rate\" : {\n",
    "            \"min\" : 0.001,\n",
    "            \"max\" : 0.1\n",
    "            },\n",
    "        \"epoch\" : {\n",
    "            \"distribution\" : \"int_uniform\",\n",
    "            \"min\" : 5,\n",
    "            \"max\" : 10\n",
    "            }\n",
    "                    \n",
    "        }\n",
    "    }"
   ]
  },
  {
   "cell_type": "code",
   "execution_count": 7,
   "id": "87c03a1f",
   "metadata": {},
   "outputs": [],
   "source": [
    "# train 함수의 완결성 있는 run 구조 \n",
    "\n",
    "def train():\n",
    "    default_config = {\n",
    "        \"input\" : (28,28,1),\n",
    "        \"filter\" : 16,\n",
    "        \"kernel\" : (3,3),\n",
    "        \"activation\" : \"relu\",\n",
    "        \"learning_rate\" : 0.005,\n",
    "        \"optimizer\" : \"adam\",\n",
    "        \"loss\" : \"sparse_categorical_crossentropy\",\n",
    "        \"metrics\" : [\"accuracy\"],\n",
    "        \"epoch\" : 5,\n",
    "        \"batch_size\" : 32\n",
    "    }\n",
    "\n",
    "    wandb.init(config = default_config)\n",
    "    config = wandb.config\n",
    "\n",
    "    # Model\n",
    "\n",
    "    model=keras.models.Sequential()\n",
    "    model.add(keras.layers.Conv2D(config.filter, config.kernel, activation=config.activation, input_shape=config.input))\n",
    "    model.add(keras.layers.MaxPool2D(2,2))\n",
    "    model.add(keras.layers.Conv2D(32, (3,3), activation='relu'))\n",
    "    model.add(keras.layers.MaxPooling2D((2,2)))\n",
    "    model.add(keras.layers.Flatten())\n",
    "    model.add(keras.layers.Dense(32, activation='relu'))\n",
    "    model.add(keras.layers.Dense(10, activation='softmax'))\n",
    "\n",
    "    # 머신 러닝 학습때 여러가지 optimzier를 사용할 경우나 learning rate를 조절할 경우에는 아래와 같은 형태의 코드를 응용합니다.\n",
    "\n",
    "    if config.optimizer == 'adam':\n",
    "        optimizer = keras.optimizers.Adam(learning_rate = config.learning_rate)\n",
    "    \n",
    "    model.compile(optimizer = optimizer,\n",
    "                  loss = config.loss,\n",
    "                  metrics = config.metrics)\n",
    "\n",
    "    # WandbCallback 함수는 후술합니다.\n",
    "    \n",
    "    model.fit(X_train, y_train,\n",
    "              epochs = config.epoch,\n",
    "              batch_size = config.batch_size,\n",
    "              validation_data = (X_val, y_val),\n",
    "              callbacks = [WandbCallback(validation_data = (X_sample, y_sample),\n",
    "                                        lables = CLASS_NAMES,\n",
    "                                        predictions = 10,\n",
    "                                        input_type = \"images\")])\n",
    "    \n",
    "    test_loss, test_accuracy = model.evaluate(X_test, y_test, verbose=2)\n",
    "    \n",
    "    # wandb.log 함수 안에 기록하고 싶은 정보를 담습니다.\n",
    "    \n",
    "    wandb.log({\"Test Accuracy Rate: \" : round(test_accuracy * 100, 2),\n",
    "               \"Test Error Rate: \" : round((1 - test_accuracy) * 100, 2)})"
   ]
  },
  {
   "cell_type": "code",
   "execution_count": 11,
   "id": "92eee292",
   "metadata": {},
   "outputs": [
    {
     "name": "stdout",
     "output_type": "stream",
     "text": [
      "Create sweep with ID: hrxj5lw3\n",
      "Sweep URL: https://wandb.ai/wisdom-jihyekim-aiffel/jellyfish-trial/sweeps/hrxj5lw3\n"
     ]
    },
    {
     "name": "stderr",
     "output_type": "stream",
     "text": [
      "\u001b[34m\u001b[1mwandb\u001b[0m: Agent Starting Run: tnwiwkmx with config:\n",
      "\u001b[34m\u001b[1mwandb\u001b[0m: \tepoch: 10\n",
      "\u001b[34m\u001b[1mwandb\u001b[0m: \tlearning_rate: 0.015158247244989051\n",
      "\u001b[34m\u001b[1mwandb\u001b[0m: Currently logged in as: \u001b[33mwisdom-jihyekim\u001b[0m (\u001b[33mwisdom-jihyekim-aiffel\u001b[0m). Use \u001b[1m`wandb login --relogin`\u001b[0m to force relogin\n"
     ]
    },
    {
     "data": {
      "text/html": [
       "wandb version 0.18.7 is available!  To upgrade, please run:\n",
       " $ pip install wandb --upgrade"
      ],
      "text/plain": [
       "<IPython.core.display.HTML object>"
      ]
     },
     "metadata": {},
     "output_type": "display_data"
    },
    {
     "data": {
      "text/html": [
       "Tracking run with wandb version 0.16.0"
      ],
      "text/plain": [
       "<IPython.core.display.HTML object>"
      ]
     },
     "metadata": {},
     "output_type": "display_data"
    },
    {
     "data": {
      "text/html": [
       "Run data is saved locally in <code>/aiffel/aiffel/wandb/run-20241114_065703-tnwiwkmx</code>"
      ],
      "text/plain": [
       "<IPython.core.display.HTML object>"
      ]
     },
     "metadata": {},
     "output_type": "display_data"
    },
    {
     "data": {
      "text/html": [
       "Syncing run <strong><a href='https://wandb.ai/wisdom-jihyekim-aiffel/jellyfish-trial/runs/tnwiwkmx' target=\"_blank\">major-sweep-1</a></strong> to <a href='https://wandb.ai/wisdom-jihyekim-aiffel/jellyfish-trial' target=\"_blank\">Weights & Biases</a> (<a href='https://wandb.me/run' target=\"_blank\">docs</a>)<br/>Sweep page: <a href='https://wandb.ai/wisdom-jihyekim-aiffel/jellyfish-trial/sweeps/hrxj5lw3' target=\"_blank\">https://wandb.ai/wisdom-jihyekim-aiffel/jellyfish-trial/sweeps/hrxj5lw3</a>"
      ],
      "text/plain": [
       "<IPython.core.display.HTML object>"
      ]
     },
     "metadata": {},
     "output_type": "display_data"
    },
    {
     "data": {
      "text/html": [
       " View project at <a href='https://wandb.ai/wisdom-jihyekim-aiffel/jellyfish-trial' target=\"_blank\">https://wandb.ai/wisdom-jihyekim-aiffel/jellyfish-trial</a>"
      ],
      "text/plain": [
       "<IPython.core.display.HTML object>"
      ]
     },
     "metadata": {},
     "output_type": "display_data"
    },
    {
     "data": {
      "text/html": [
       " View sweep at <a href='https://wandb.ai/wisdom-jihyekim-aiffel/jellyfish-trial/sweeps/hrxj5lw3' target=\"_blank\">https://wandb.ai/wisdom-jihyekim-aiffel/jellyfish-trial/sweeps/hrxj5lw3</a>"
      ],
      "text/plain": [
       "<IPython.core.display.HTML object>"
      ]
     },
     "metadata": {},
     "output_type": "display_data"
    },
    {
     "data": {
      "text/html": [
       " View run at <a href='https://wandb.ai/wisdom-jihyekim-aiffel/jellyfish-trial/runs/tnwiwkmx' target=\"_blank\">https://wandb.ai/wisdom-jihyekim-aiffel/jellyfish-trial/runs/tnwiwkmx</a>"
      ],
      "text/plain": [
       "<IPython.core.display.HTML object>"
      ]
     },
     "metadata": {},
     "output_type": "display_data"
    },
    {
     "name": "stderr",
     "output_type": "stream",
     "text": [
      "\u001b[34m\u001b[1mwandb\u001b[0m: \u001b[33mWARNING\u001b[0m The save_model argument by default saves the model in the HDF5 format that cannot save custom objects like subclassed models and custom layers. This behavior will be deprecated in a future release in favor of the SavedModel format. Meanwhile, the HDF5 model is saved as W&B files and the SavedModel as W&B Artifacts.\n"
     ]
    },
    {
     "name": "stdout",
     "output_type": "stream",
     "text": [
      "Epoch 1/10\n",
      "1875/1875 [==============================] - 9s 3ms/step - loss: 0.1893 - accuracy: 0.9410 - val_loss: 0.1334 - val_accuracy: 0.9588\n",
      "INFO:tensorflow:Assets written to: /aiffel/aiffel/wandb/run-20241114_065703-tnwiwkmx/files/model-best/assets\n"
     ]
    },
    {
     "name": "stderr",
     "output_type": "stream",
     "text": [
      "\u001b[34m\u001b[1mwandb\u001b[0m: Adding directory to artifact (/aiffel/aiffel/wandb/run-20241114_065703-tnwiwkmx/files/model-best)... Done. 0.0s\n"
     ]
    },
    {
     "name": "stdout",
     "output_type": "stream",
     "text": [
      "Epoch 2/10\n",
      "1875/1875 [==============================] - 5s 3ms/step - loss: 0.1189 - accuracy: 0.9640 - val_loss: 0.1053 - val_accuracy: 0.9680\n",
      "INFO:tensorflow:Assets written to: /aiffel/aiffel/wandb/run-20241114_065703-tnwiwkmx/files/model-best/assets\n"
     ]
    },
    {
     "name": "stderr",
     "output_type": "stream",
     "text": [
      "\u001b[34m\u001b[1mwandb\u001b[0m: Adding directory to artifact (/aiffel/aiffel/wandb/run-20241114_065703-tnwiwkmx/files/model-best)... Done. 0.0s\n"
     ]
    },
    {
     "name": "stdout",
     "output_type": "stream",
     "text": [
      "Epoch 3/10\n",
      "1875/1875 [==============================] - 5s 3ms/step - loss: 0.1184 - accuracy: 0.9653 - val_loss: 0.1404 - val_accuracy: 0.9572\n",
      "Epoch 4/10\n",
      "1875/1875 [==============================] - 5s 3ms/step - loss: 0.1162 - accuracy: 0.9665 - val_loss: 0.0951 - val_accuracy: 0.9726\n",
      "INFO:tensorflow:Assets written to: /aiffel/aiffel/wandb/run-20241114_065703-tnwiwkmx/files/model-best/assets\n"
     ]
    },
    {
     "name": "stderr",
     "output_type": "stream",
     "text": [
      "\u001b[34m\u001b[1mwandb\u001b[0m: Adding directory to artifact (/aiffel/aiffel/wandb/run-20241114_065703-tnwiwkmx/files/model-best)... Done. 0.0s\n"
     ]
    },
    {
     "name": "stdout",
     "output_type": "stream",
     "text": [
      "Epoch 5/10\n",
      "1875/1875 [==============================] - 5s 3ms/step - loss: 0.1093 - accuracy: 0.9686 - val_loss: 0.1115 - val_accuracy: 0.9654\n",
      "Epoch 6/10\n",
      "1875/1875 [==============================] - 5s 3ms/step - loss: 0.1089 - accuracy: 0.9689 - val_loss: 0.0840 - val_accuracy: 0.9764\n",
      "INFO:tensorflow:Assets written to: /aiffel/aiffel/wandb/run-20241114_065703-tnwiwkmx/files/model-best/assets\n"
     ]
    },
    {
     "name": "stderr",
     "output_type": "stream",
     "text": [
      "\u001b[34m\u001b[1mwandb\u001b[0m: Adding directory to artifact (/aiffel/aiffel/wandb/run-20241114_065703-tnwiwkmx/files/model-best)... Done. 0.0s\n"
     ]
    },
    {
     "name": "stdout",
     "output_type": "stream",
     "text": [
      "Epoch 7/10\n",
      "1875/1875 [==============================] - 5s 3ms/step - loss: 0.1115 - accuracy: 0.9683 - val_loss: 0.1241 - val_accuracy: 0.9672\n",
      "Epoch 8/10\n",
      "1875/1875 [==============================] - 5s 3ms/step - loss: 0.1097 - accuracy: 0.9691 - val_loss: 0.1017 - val_accuracy: 0.9720\n",
      "Epoch 9/10\n",
      "1875/1875 [==============================] - 5s 3ms/step - loss: 0.1099 - accuracy: 0.9689 - val_loss: 0.1384 - val_accuracy: 0.9620\n",
      "Epoch 10/10\n",
      "1875/1875 [==============================] - 5s 3ms/step - loss: 0.1074 - accuracy: 0.9701 - val_loss: 0.1055 - val_accuracy: 0.9668\n",
      "157/157 - 0s - loss: 0.1049 - accuracy: 0.9694\n"
     ]
    },
    {
     "data": {
      "application/vnd.jupyter.widget-view+json": {
       "model_id": "",
       "version_major": 2,
       "version_minor": 0
      },
      "text/plain": [
       "VBox(children=(Label(value='2.437 MB of 2.437 MB uploaded (0.043 MB deduped)\\r'), FloatProgress(value=1.0, max…"
      ]
     },
     "metadata": {},
     "output_type": "display_data"
    },
    {
     "data": {
      "text/html": [
       "W&B sync reduced upload amount by 1.8%             "
      ],
      "text/plain": [
       "<IPython.core.display.HTML object>"
      ]
     },
     "metadata": {},
     "output_type": "display_data"
    },
    {
     "data": {
      "text/html": [
       "<style>\n",
       "    table.wandb td:nth-child(1) { padding: 0 10px; text-align: left ; width: auto;} td:nth-child(2) {text-align: left ; width: 100%}\n",
       "    .wandb-row { display: flex; flex-direction: row; flex-wrap: wrap; justify-content: flex-start; width: 100% }\n",
       "    .wandb-col { display: flex; flex-direction: column; flex-basis: 100%; flex: 1; padding: 10px; }\n",
       "    </style>\n",
       "<div class=\"wandb-row\"><div class=\"wandb-col\"><h3>Run history:</h3><br/><table class=\"wandb\"><tr><td>Test Accuracy Rate: </td><td>▁</td></tr><tr><td>Test Error Rate: </td><td>▁</td></tr><tr><td>accuracy</td><td>▁▇▇▇██████</td></tr><tr><td>epoch</td><td>▁▂▃▃▄▅▆▆▇█</td></tr><tr><td>loss</td><td>█▂▂▂▁▁▁▁▁▁</td></tr><tr><td>val_accuracy</td><td>▂▅▁▇▄█▅▆▃▄</td></tr><tr><td>val_loss</td><td>▇▄█▂▄▁▆▃█▄</td></tr></table><br/></div><div class=\"wandb-col\"><h3>Run summary:</h3><br/><table class=\"wandb\"><tr><td>Test Accuracy Rate: </td><td>96.94</td></tr><tr><td>Test Error Rate: </td><td>3.06</td></tr><tr><td>accuracy</td><td>0.97013</td></tr><tr><td>best_epoch</td><td>5</td></tr><tr><td>best_val_loss</td><td>0.08396</td></tr><tr><td>epoch</td><td>9</td></tr><tr><td>loss</td><td>0.10735</td></tr><tr><td>val_accuracy</td><td>0.9668</td></tr><tr><td>val_loss</td><td>0.10551</td></tr></table><br/></div></div>"
      ],
      "text/plain": [
       "<IPython.core.display.HTML object>"
      ]
     },
     "metadata": {},
     "output_type": "display_data"
    },
    {
     "data": {
      "text/html": [
       " View run <strong style=\"color:#cdcd00\">major-sweep-1</strong> at: <a href='https://wandb.ai/wisdom-jihyekim-aiffel/jellyfish-trial/runs/tnwiwkmx' target=\"_blank\">https://wandb.ai/wisdom-jihyekim-aiffel/jellyfish-trial/runs/tnwiwkmx</a><br/>Synced 5 W&B file(s), 101 media file(s), 16 artifact file(s) and 1 other file(s)"
      ],
      "text/plain": [
       "<IPython.core.display.HTML object>"
      ]
     },
     "metadata": {},
     "output_type": "display_data"
    },
    {
     "data": {
      "text/html": [
       "Find logs at: <code>./wandb/run-20241114_065703-tnwiwkmx/logs</code>"
      ],
      "text/plain": [
       "<IPython.core.display.HTML object>"
      ]
     },
     "metadata": {},
     "output_type": "display_data"
    },
    {
     "name": "stderr",
     "output_type": "stream",
     "text": [
      "\u001b[34m\u001b[1mwandb\u001b[0m: Agent Starting Run: sxzeexhb with config:\n",
      "\u001b[34m\u001b[1mwandb\u001b[0m: \tepoch: 7\n",
      "\u001b[34m\u001b[1mwandb\u001b[0m: \tlearning_rate: 0.04691232063238373\n"
     ]
    },
    {
     "data": {
      "text/html": [
       "wandb version 0.18.7 is available!  To upgrade, please run:\n",
       " $ pip install wandb --upgrade"
      ],
      "text/plain": [
       "<IPython.core.display.HTML object>"
      ]
     },
     "metadata": {},
     "output_type": "display_data"
    },
    {
     "data": {
      "text/html": [
       "Tracking run with wandb version 0.16.0"
      ],
      "text/plain": [
       "<IPython.core.display.HTML object>"
      ]
     },
     "metadata": {},
     "output_type": "display_data"
    },
    {
     "data": {
      "text/html": [
       "Run data is saved locally in <code>/aiffel/aiffel/wandb/run-20241114_065820-sxzeexhb</code>"
      ],
      "text/plain": [
       "<IPython.core.display.HTML object>"
      ]
     },
     "metadata": {},
     "output_type": "display_data"
    },
    {
     "data": {
      "text/html": [
       "Syncing run <strong><a href='https://wandb.ai/wisdom-jihyekim-aiffel/jellyfish-trial/runs/sxzeexhb' target=\"_blank\">stellar-sweep-2</a></strong> to <a href='https://wandb.ai/wisdom-jihyekim-aiffel/jellyfish-trial' target=\"_blank\">Weights & Biases</a> (<a href='https://wandb.me/run' target=\"_blank\">docs</a>)<br/>Sweep page: <a href='https://wandb.ai/wisdom-jihyekim-aiffel/jellyfish-trial/sweeps/hrxj5lw3' target=\"_blank\">https://wandb.ai/wisdom-jihyekim-aiffel/jellyfish-trial/sweeps/hrxj5lw3</a>"
      ],
      "text/plain": [
       "<IPython.core.display.HTML object>"
      ]
     },
     "metadata": {},
     "output_type": "display_data"
    },
    {
     "data": {
      "text/html": [
       " View project at <a href='https://wandb.ai/wisdom-jihyekim-aiffel/jellyfish-trial' target=\"_blank\">https://wandb.ai/wisdom-jihyekim-aiffel/jellyfish-trial</a>"
      ],
      "text/plain": [
       "<IPython.core.display.HTML object>"
      ]
     },
     "metadata": {},
     "output_type": "display_data"
    },
    {
     "data": {
      "text/html": [
       " View sweep at <a href='https://wandb.ai/wisdom-jihyekim-aiffel/jellyfish-trial/sweeps/hrxj5lw3' target=\"_blank\">https://wandb.ai/wisdom-jihyekim-aiffel/jellyfish-trial/sweeps/hrxj5lw3</a>"
      ],
      "text/plain": [
       "<IPython.core.display.HTML object>"
      ]
     },
     "metadata": {},
     "output_type": "display_data"
    },
    {
     "data": {
      "text/html": [
       " View run at <a href='https://wandb.ai/wisdom-jihyekim-aiffel/jellyfish-trial/runs/sxzeexhb' target=\"_blank\">https://wandb.ai/wisdom-jihyekim-aiffel/jellyfish-trial/runs/sxzeexhb</a>"
      ],
      "text/plain": [
       "<IPython.core.display.HTML object>"
      ]
     },
     "metadata": {},
     "output_type": "display_data"
    },
    {
     "name": "stdout",
     "output_type": "stream",
     "text": [
      "Epoch 1/7\n",
      "1875/1875 [==============================] - 6s 3ms/step - loss: 0.3549 - accuracy: 0.8928 - val_loss: 0.2496 - val_accuracy: 0.9250\n",
      "INFO:tensorflow:Assets written to: /aiffel/aiffel/wandb/run-20241114_065820-sxzeexhb/files/model-best/assets\n"
     ]
    },
    {
     "name": "stderr",
     "output_type": "stream",
     "text": [
      "\u001b[34m\u001b[1mwandb\u001b[0m: Adding directory to artifact (/aiffel/aiffel/wandb/run-20241114_065820-sxzeexhb/files/model-best)... Done. 0.0s\n"
     ]
    },
    {
     "name": "stdout",
     "output_type": "stream",
     "text": [
      "Epoch 2/7\n",
      "1875/1875 [==============================] - 5s 3ms/step - loss: 0.3084 - accuracy: 0.9147 - val_loss: 0.2907 - val_accuracy: 0.9258\n",
      "Epoch 3/7\n",
      "1875/1875 [==============================] - 5s 3ms/step - loss: 0.3143 - accuracy: 0.9139 - val_loss: 0.2642 - val_accuracy: 0.9182\n",
      "Epoch 4/7\n",
      "1875/1875 [==============================] - 5s 3ms/step - loss: 0.3219 - accuracy: 0.9141 - val_loss: 0.3058 - val_accuracy: 0.9252\n",
      "Epoch 5/7\n",
      "1875/1875 [==============================] - 5s 3ms/step - loss: 0.3181 - accuracy: 0.9143 - val_loss: 0.2850 - val_accuracy: 0.9280\n",
      "Epoch 6/7\n",
      "1875/1875 [==============================] - 5s 3ms/step - loss: 0.3510 - accuracy: 0.9103 - val_loss: 0.2865 - val_accuracy: 0.9242\n",
      "Epoch 7/7\n",
      "1875/1875 [==============================] - 5s 3ms/step - loss: 0.3184 - accuracy: 0.9174 - val_loss: 0.3019 - val_accuracy: 0.9242\n",
      "157/157 - 0s - loss: 0.3431 - accuracy: 0.9152\n"
     ]
    },
    {
     "data": {
      "application/vnd.jupyter.widget-view+json": {
       "model_id": "",
       "version_major": 2,
       "version_minor": 0
      },
      "text/plain": [
       "VBox(children=(Label(value='0.920 MB of 0.920 MB uploaded\\r'), FloatProgress(value=1.0, max=1.0)))"
      ]
     },
     "metadata": {},
     "output_type": "display_data"
    },
    {
     "data": {
      "text/html": [
       "<style>\n",
       "    table.wandb td:nth-child(1) { padding: 0 10px; text-align: left ; width: auto;} td:nth-child(2) {text-align: left ; width: 100%}\n",
       "    .wandb-row { display: flex; flex-direction: row; flex-wrap: wrap; justify-content: flex-start; width: 100% }\n",
       "    .wandb-col { display: flex; flex-direction: column; flex-basis: 100%; flex: 1; padding: 10px; }\n",
       "    </style>\n",
       "<div class=\"wandb-row\"><div class=\"wandb-col\"><h3>Run history:</h3><br/><table class=\"wandb\"><tr><td>Test Accuracy Rate: </td><td>▁</td></tr><tr><td>Test Error Rate: </td><td>▁</td></tr><tr><td>accuracy</td><td>▁▇▇▇▇▆█</td></tr><tr><td>epoch</td><td>▁▂▃▅▆▇█</td></tr><tr><td>loss</td><td>█▁▂▃▂▇▃</td></tr><tr><td>val_accuracy</td><td>▆▆▁▆█▅▅</td></tr><tr><td>val_loss</td><td>▁▆▃█▅▆█</td></tr></table><br/></div><div class=\"wandb-col\"><h3>Run summary:</h3><br/><table class=\"wandb\"><tr><td>Test Accuracy Rate: </td><td>91.52</td></tr><tr><td>Test Error Rate: </td><td>8.48</td></tr><tr><td>accuracy</td><td>0.91742</td></tr><tr><td>best_epoch</td><td>0</td></tr><tr><td>best_val_loss</td><td>0.24957</td></tr><tr><td>epoch</td><td>6</td></tr><tr><td>loss</td><td>0.31836</td></tr><tr><td>val_accuracy</td><td>0.9242</td></tr><tr><td>val_loss</td><td>0.30191</td></tr></table><br/></div></div>"
      ],
      "text/plain": [
       "<IPython.core.display.HTML object>"
      ]
     },
     "metadata": {},
     "output_type": "display_data"
    },
    {
     "data": {
      "text/html": [
       " View run <strong style=\"color:#cdcd00\">stellar-sweep-2</strong> at: <a href='https://wandb.ai/wisdom-jihyekim-aiffel/jellyfish-trial/runs/sxzeexhb' target=\"_blank\">https://wandb.ai/wisdom-jihyekim-aiffel/jellyfish-trial/runs/sxzeexhb</a><br/>Synced 5 W&B file(s), 71 media file(s), 4 artifact file(s) and 1 other file(s)"
      ],
      "text/plain": [
       "<IPython.core.display.HTML object>"
      ]
     },
     "metadata": {},
     "output_type": "display_data"
    },
    {
     "data": {
      "text/html": [
       "Find logs at: <code>./wandb/run-20241114_065820-sxzeexhb/logs</code>"
      ],
      "text/plain": [
       "<IPython.core.display.HTML object>"
      ]
     },
     "metadata": {},
     "output_type": "display_data"
    },
    {
     "name": "stderr",
     "output_type": "stream",
     "text": [
      "\u001b[34m\u001b[1mwandb\u001b[0m: Agent Starting Run: vwa4cjb6 with config:\n",
      "\u001b[34m\u001b[1mwandb\u001b[0m: \tepoch: 7\n",
      "\u001b[34m\u001b[1mwandb\u001b[0m: \tlearning_rate: 0.0013566268541452089\n"
     ]
    },
    {
     "data": {
      "text/html": [
       "wandb version 0.18.7 is available!  To upgrade, please run:\n",
       " $ pip install wandb --upgrade"
      ],
      "text/plain": [
       "<IPython.core.display.HTML object>"
      ]
     },
     "metadata": {},
     "output_type": "display_data"
    },
    {
     "data": {
      "text/html": [
       "Tracking run with wandb version 0.16.0"
      ],
      "text/plain": [
       "<IPython.core.display.HTML object>"
      ]
     },
     "metadata": {},
     "output_type": "display_data"
    },
    {
     "data": {
      "text/html": [
       "Run data is saved locally in <code>/aiffel/aiffel/wandb/run-20241114_065912-vwa4cjb6</code>"
      ],
      "text/plain": [
       "<IPython.core.display.HTML object>"
      ]
     },
     "metadata": {},
     "output_type": "display_data"
    },
    {
     "data": {
      "text/html": [
       "Syncing run <strong><a href='https://wandb.ai/wisdom-jihyekim-aiffel/jellyfish-trial/runs/vwa4cjb6' target=\"_blank\">zany-sweep-3</a></strong> to <a href='https://wandb.ai/wisdom-jihyekim-aiffel/jellyfish-trial' target=\"_blank\">Weights & Biases</a> (<a href='https://wandb.me/run' target=\"_blank\">docs</a>)<br/>Sweep page: <a href='https://wandb.ai/wisdom-jihyekim-aiffel/jellyfish-trial/sweeps/hrxj5lw3' target=\"_blank\">https://wandb.ai/wisdom-jihyekim-aiffel/jellyfish-trial/sweeps/hrxj5lw3</a>"
      ],
      "text/plain": [
       "<IPython.core.display.HTML object>"
      ]
     },
     "metadata": {},
     "output_type": "display_data"
    },
    {
     "data": {
      "text/html": [
       " View project at <a href='https://wandb.ai/wisdom-jihyekim-aiffel/jellyfish-trial' target=\"_blank\">https://wandb.ai/wisdom-jihyekim-aiffel/jellyfish-trial</a>"
      ],
      "text/plain": [
       "<IPython.core.display.HTML object>"
      ]
     },
     "metadata": {},
     "output_type": "display_data"
    },
    {
     "data": {
      "text/html": [
       " View sweep at <a href='https://wandb.ai/wisdom-jihyekim-aiffel/jellyfish-trial/sweeps/hrxj5lw3' target=\"_blank\">https://wandb.ai/wisdom-jihyekim-aiffel/jellyfish-trial/sweeps/hrxj5lw3</a>"
      ],
      "text/plain": [
       "<IPython.core.display.HTML object>"
      ]
     },
     "metadata": {},
     "output_type": "display_data"
    },
    {
     "data": {
      "text/html": [
       " View run at <a href='https://wandb.ai/wisdom-jihyekim-aiffel/jellyfish-trial/runs/vwa4cjb6' target=\"_blank\">https://wandb.ai/wisdom-jihyekim-aiffel/jellyfish-trial/runs/vwa4cjb6</a>"
      ],
      "text/plain": [
       "<IPython.core.display.HTML object>"
      ]
     },
     "metadata": {},
     "output_type": "display_data"
    },
    {
     "name": "stdout",
     "output_type": "stream",
     "text": [
      "Epoch 1/7\n",
      "1875/1875 [==============================] - 6s 3ms/step - loss: 0.1814 - accuracy: 0.9441 - val_loss: 0.0489 - val_accuracy: 0.9860\n",
      "INFO:tensorflow:Assets written to: /aiffel/aiffel/wandb/run-20241114_065912-vwa4cjb6/files/model-best/assets\n"
     ]
    },
    {
     "name": "stderr",
     "output_type": "stream",
     "text": [
      "\u001b[34m\u001b[1mwandb\u001b[0m: Adding directory to artifact (/aiffel/aiffel/wandb/run-20241114_065912-vwa4cjb6/files/model-best)... Done. 0.0s\n"
     ]
    },
    {
     "name": "stdout",
     "output_type": "stream",
     "text": [
      "Epoch 2/7\n",
      "1875/1875 [==============================] - 5s 3ms/step - loss: 0.0590 - accuracy: 0.9824 - val_loss: 0.0579 - val_accuracy: 0.9818\n",
      "Epoch 3/7\n",
      "1875/1875 [==============================] - 5s 3ms/step - loss: 0.0453 - accuracy: 0.9859 - val_loss: 0.0429 - val_accuracy: 0.9870\n",
      "INFO:tensorflow:Assets written to: /aiffel/aiffel/wandb/run-20241114_065912-vwa4cjb6/files/model-best/assets\n"
     ]
    },
    {
     "name": "stderr",
     "output_type": "stream",
     "text": [
      "\u001b[34m\u001b[1mwandb\u001b[0m: Adding directory to artifact (/aiffel/aiffel/wandb/run-20241114_065912-vwa4cjb6/files/model-best)... Done. 0.0s\n"
     ]
    },
    {
     "name": "stdout",
     "output_type": "stream",
     "text": [
      "Epoch 4/7\n",
      "1875/1875 [==============================] - 5s 3ms/step - loss: 0.0358 - accuracy: 0.9888 - val_loss: 0.0293 - val_accuracy: 0.9918\n",
      "INFO:tensorflow:Assets written to: /aiffel/aiffel/wandb/run-20241114_065912-vwa4cjb6/files/model-best/assets\n"
     ]
    },
    {
     "name": "stderr",
     "output_type": "stream",
     "text": [
      "\u001b[34m\u001b[1mwandb\u001b[0m: Adding directory to artifact (/aiffel/aiffel/wandb/run-20241114_065912-vwa4cjb6/files/model-best)... Done. 0.0s\n"
     ]
    },
    {
     "name": "stdout",
     "output_type": "stream",
     "text": [
      "Epoch 5/7\n",
      "1875/1875 [==============================] - 5s 3ms/step - loss: 0.0284 - accuracy: 0.9906 - val_loss: 0.0434 - val_accuracy: 0.9864\n",
      "Epoch 6/7\n",
      "1875/1875 [==============================] - 5s 3ms/step - loss: 0.0237 - accuracy: 0.9923 - val_loss: 0.0323 - val_accuracy: 0.9890\n",
      "Epoch 7/7\n",
      "1875/1875 [==============================] - 5s 3ms/step - loss: 0.0196 - accuracy: 0.9937 - val_loss: 0.0374 - val_accuracy: 0.9892\n",
      "157/157 - 0s - loss: 0.0397 - accuracy: 0.9884\n"
     ]
    },
    {
     "data": {
      "application/vnd.jupyter.widget-view+json": {
       "model_id": "",
       "version_major": 2,
       "version_minor": 0
      },
      "text/plain": [
       "VBox(children=(Label(value='1.926 MB of 1.926 MB uploaded (0.029 MB deduped)\\r'), FloatProgress(value=1.0, max…"
      ]
     },
     "metadata": {},
     "output_type": "display_data"
    },
    {
     "data": {
      "text/html": [
       "W&B sync reduced upload amount by 1.5%             "
      ],
      "text/plain": [
       "<IPython.core.display.HTML object>"
      ]
     },
     "metadata": {},
     "output_type": "display_data"
    },
    {
     "data": {
      "text/html": [
       "<style>\n",
       "    table.wandb td:nth-child(1) { padding: 0 10px; text-align: left ; width: auto;} td:nth-child(2) {text-align: left ; width: 100%}\n",
       "    .wandb-row { display: flex; flex-direction: row; flex-wrap: wrap; justify-content: flex-start; width: 100% }\n",
       "    .wandb-col { display: flex; flex-direction: column; flex-basis: 100%; flex: 1; padding: 10px; }\n",
       "    </style>\n",
       "<div class=\"wandb-row\"><div class=\"wandb-col\"><h3>Run history:</h3><br/><table class=\"wandb\"><tr><td>Test Accuracy Rate: </td><td>▁</td></tr><tr><td>Test Error Rate: </td><td>▁</td></tr><tr><td>accuracy</td><td>▁▆▇▇███</td></tr><tr><td>epoch</td><td>▁▂▃▅▆▇█</td></tr><tr><td>loss</td><td>█▃▂▂▁▁▁</td></tr><tr><td>val_accuracy</td><td>▄▁▅█▄▆▆</td></tr><tr><td>val_loss</td><td>▆█▄▁▄▂▃</td></tr></table><br/></div><div class=\"wandb-col\"><h3>Run summary:</h3><br/><table class=\"wandb\"><tr><td>Test Accuracy Rate: </td><td>98.84</td></tr><tr><td>Test Error Rate: </td><td>1.16</td></tr><tr><td>accuracy</td><td>0.99365</td></tr><tr><td>best_epoch</td><td>3</td></tr><tr><td>best_val_loss</td><td>0.02928</td></tr><tr><td>epoch</td><td>6</td></tr><tr><td>loss</td><td>0.0196</td></tr><tr><td>val_accuracy</td><td>0.9892</td></tr><tr><td>val_loss</td><td>0.03744</td></tr></table><br/></div></div>"
      ],
      "text/plain": [
       "<IPython.core.display.HTML object>"
      ]
     },
     "metadata": {},
     "output_type": "display_data"
    },
    {
     "data": {
      "text/html": [
       " View run <strong style=\"color:#cdcd00\">zany-sweep-3</strong> at: <a href='https://wandb.ai/wisdom-jihyekim-aiffel/jellyfish-trial/runs/vwa4cjb6' target=\"_blank\">https://wandb.ai/wisdom-jihyekim-aiffel/jellyfish-trial/runs/vwa4cjb6</a><br/>Synced 5 W&B file(s), 71 media file(s), 12 artifact file(s) and 1 other file(s)"
      ],
      "text/plain": [
       "<IPython.core.display.HTML object>"
      ]
     },
     "metadata": {},
     "output_type": "display_data"
    },
    {
     "data": {
      "text/html": [
       "Find logs at: <code>./wandb/run-20241114_065912-vwa4cjb6/logs</code>"
      ],
      "text/plain": [
       "<IPython.core.display.HTML object>"
      ]
     },
     "metadata": {},
     "output_type": "display_data"
    },
    {
     "name": "stderr",
     "output_type": "stream",
     "text": [
      "\u001b[34m\u001b[1mwandb\u001b[0m: Agent Starting Run: 0plemvh1 with config:\n",
      "\u001b[34m\u001b[1mwandb\u001b[0m: \tepoch: 10\n",
      "\u001b[34m\u001b[1mwandb\u001b[0m: \tlearning_rate: 0.05302985842338392\n"
     ]
    },
    {
     "data": {
      "text/html": [
       "wandb version 0.18.7 is available!  To upgrade, please run:\n",
       " $ pip install wandb --upgrade"
      ],
      "text/plain": [
       "<IPython.core.display.HTML object>"
      ]
     },
     "metadata": {},
     "output_type": "display_data"
    },
    {
     "data": {
      "text/html": [
       "Tracking run with wandb version 0.16.0"
      ],
      "text/plain": [
       "<IPython.core.display.HTML object>"
      ]
     },
     "metadata": {},
     "output_type": "display_data"
    },
    {
     "data": {
      "text/html": [
       "Run data is saved locally in <code>/aiffel/aiffel/wandb/run-20241114_070003-0plemvh1</code>"
      ],
      "text/plain": [
       "<IPython.core.display.HTML object>"
      ]
     },
     "metadata": {},
     "output_type": "display_data"
    },
    {
     "data": {
      "text/html": [
       "Syncing run <strong><a href='https://wandb.ai/wisdom-jihyekim-aiffel/jellyfish-trial/runs/0plemvh1' target=\"_blank\">super-sweep-4</a></strong> to <a href='https://wandb.ai/wisdom-jihyekim-aiffel/jellyfish-trial' target=\"_blank\">Weights & Biases</a> (<a href='https://wandb.me/run' target=\"_blank\">docs</a>)<br/>Sweep page: <a href='https://wandb.ai/wisdom-jihyekim-aiffel/jellyfish-trial/sweeps/hrxj5lw3' target=\"_blank\">https://wandb.ai/wisdom-jihyekim-aiffel/jellyfish-trial/sweeps/hrxj5lw3</a>"
      ],
      "text/plain": [
       "<IPython.core.display.HTML object>"
      ]
     },
     "metadata": {},
     "output_type": "display_data"
    },
    {
     "data": {
      "text/html": [
       " View project at <a href='https://wandb.ai/wisdom-jihyekim-aiffel/jellyfish-trial' target=\"_blank\">https://wandb.ai/wisdom-jihyekim-aiffel/jellyfish-trial</a>"
      ],
      "text/plain": [
       "<IPython.core.display.HTML object>"
      ]
     },
     "metadata": {},
     "output_type": "display_data"
    },
    {
     "data": {
      "text/html": [
       " View sweep at <a href='https://wandb.ai/wisdom-jihyekim-aiffel/jellyfish-trial/sweeps/hrxj5lw3' target=\"_blank\">https://wandb.ai/wisdom-jihyekim-aiffel/jellyfish-trial/sweeps/hrxj5lw3</a>"
      ],
      "text/plain": [
       "<IPython.core.display.HTML object>"
      ]
     },
     "metadata": {},
     "output_type": "display_data"
    },
    {
     "data": {
      "text/html": [
       " View run at <a href='https://wandb.ai/wisdom-jihyekim-aiffel/jellyfish-trial/runs/0plemvh1' target=\"_blank\">https://wandb.ai/wisdom-jihyekim-aiffel/jellyfish-trial/runs/0plemvh1</a>"
      ],
      "text/plain": [
       "<IPython.core.display.HTML object>"
      ]
     },
     "metadata": {},
     "output_type": "display_data"
    },
    {
     "name": "stdout",
     "output_type": "stream",
     "text": [
      "Epoch 1/10\n",
      "1875/1875 [==============================] - 6s 3ms/step - loss: 0.5057 - accuracy: 0.8498 - val_loss: 0.4577 - val_accuracy: 0.8666\n",
      "INFO:tensorflow:Assets written to: /aiffel/aiffel/wandb/run-20241114_070003-0plemvh1/files/model-best/assets\n"
     ]
    },
    {
     "name": "stderr",
     "output_type": "stream",
     "text": [
      "\u001b[34m\u001b[1mwandb\u001b[0m: Adding directory to artifact (/aiffel/aiffel/wandb/run-20241114_070003-0plemvh1/files/model-best)... Done. 0.0s\n"
     ]
    },
    {
     "name": "stdout",
     "output_type": "stream",
     "text": [
      "Epoch 2/10\n",
      "1875/1875 [==============================] - 5s 3ms/step - loss: 0.4192 - accuracy: 0.8821 - val_loss: 0.3578 - val_accuracy: 0.8986\n",
      "INFO:tensorflow:Assets written to: /aiffel/aiffel/wandb/run-20241114_070003-0plemvh1/files/model-best/assets\n"
     ]
    },
    {
     "name": "stderr",
     "output_type": "stream",
     "text": [
      "\u001b[34m\u001b[1mwandb\u001b[0m: Adding directory to artifact (/aiffel/aiffel/wandb/run-20241114_070003-0plemvh1/files/model-best)... Done. 0.0s\n"
     ]
    },
    {
     "name": "stdout",
     "output_type": "stream",
     "text": [
      "Epoch 3/10\n",
      "1875/1875 [==============================] - 5s 3ms/step - loss: 0.4386 - accuracy: 0.8766 - val_loss: 0.3846 - val_accuracy: 0.8876\n",
      "Epoch 4/10\n",
      "1875/1875 [==============================] - 5s 3ms/step - loss: 0.4178 - accuracy: 0.8832 - val_loss: 0.3984 - val_accuracy: 0.8994\n",
      "Epoch 5/10\n",
      "1875/1875 [==============================] - 5s 3ms/step - loss: 0.4231 - accuracy: 0.8833 - val_loss: 0.3902 - val_accuracy: 0.8828\n",
      "Epoch 6/10\n",
      "1875/1875 [==============================] - 5s 3ms/step - loss: 0.4290 - accuracy: 0.8824 - val_loss: 0.3896 - val_accuracy: 0.8982\n",
      "Epoch 7/10\n",
      "1875/1875 [==============================] - 5s 3ms/step - loss: 0.6669 - accuracy: 0.7922 - val_loss: 0.4135 - val_accuracy: 0.8726\n",
      "Epoch 8/10\n",
      "1875/1875 [==============================] - 5s 3ms/step - loss: 0.4229 - accuracy: 0.8821 - val_loss: 0.4386 - val_accuracy: 0.8802\n",
      "Epoch 9/10\n",
      "1875/1875 [==============================] - 5s 3ms/step - loss: 0.4203 - accuracy: 0.8855 - val_loss: 0.4959 - val_accuracy: 0.8840\n",
      "Epoch 10/10\n",
      "1875/1875 [==============================] - 5s 3ms/step - loss: 0.4112 - accuracy: 0.8883 - val_loss: 0.3637 - val_accuracy: 0.9000\n",
      "157/157 - 0s - loss: 0.4223 - accuracy: 0.8856\n"
     ]
    },
    {
     "data": {
      "application/vnd.jupyter.widget-view+json": {
       "model_id": "",
       "version_major": 2,
       "version_minor": 0
      },
      "text/plain": [
       "VBox(children=(Label(value='1.431 MB of 1.431 MB uploaded (0.014 MB deduped)\\r'), FloatProgress(value=1.0, max…"
      ]
     },
     "metadata": {},
     "output_type": "display_data"
    },
    {
     "data": {
      "text/html": [
       "W&B sync reduced upload amount by 1.0%             "
      ],
      "text/plain": [
       "<IPython.core.display.HTML object>"
      ]
     },
     "metadata": {},
     "output_type": "display_data"
    },
    {
     "data": {
      "text/html": [
       "<style>\n",
       "    table.wandb td:nth-child(1) { padding: 0 10px; text-align: left ; width: auto;} td:nth-child(2) {text-align: left ; width: 100%}\n",
       "    .wandb-row { display: flex; flex-direction: row; flex-wrap: wrap; justify-content: flex-start; width: 100% }\n",
       "    .wandb-col { display: flex; flex-direction: column; flex-basis: 100%; flex: 1; padding: 10px; }\n",
       "    </style>\n",
       "<div class=\"wandb-row\"><div class=\"wandb-col\"><h3>Run history:</h3><br/><table class=\"wandb\"><tr><td>Test Accuracy Rate: </td><td>▁</td></tr><tr><td>Test Error Rate: </td><td>▁</td></tr><tr><td>accuracy</td><td>▅█▇███▁███</td></tr><tr><td>epoch</td><td>▁▂▃▃▄▅▆▆▇█</td></tr><tr><td>loss</td><td>▄▁▂▁▁▁█▁▁▁</td></tr><tr><td>val_accuracy</td><td>▁█▅█▄█▂▄▅█</td></tr><tr><td>val_loss</td><td>▆▁▂▃▃▃▄▅█▁</td></tr></table><br/></div><div class=\"wandb-col\"><h3>Run summary:</h3><br/><table class=\"wandb\"><tr><td>Test Accuracy Rate: </td><td>88.56</td></tr><tr><td>Test Error Rate: </td><td>11.44</td></tr><tr><td>accuracy</td><td>0.88827</td></tr><tr><td>best_epoch</td><td>1</td></tr><tr><td>best_val_loss</td><td>0.35775</td></tr><tr><td>epoch</td><td>9</td></tr><tr><td>loss</td><td>0.41117</td></tr><tr><td>val_accuracy</td><td>0.9</td></tr><tr><td>val_loss</td><td>0.36368</td></tr></table><br/></div></div>"
      ],
      "text/plain": [
       "<IPython.core.display.HTML object>"
      ]
     },
     "metadata": {},
     "output_type": "display_data"
    },
    {
     "data": {
      "text/html": [
       " View run <strong style=\"color:#cdcd00\">super-sweep-4</strong> at: <a href='https://wandb.ai/wisdom-jihyekim-aiffel/jellyfish-trial/runs/0plemvh1' target=\"_blank\">https://wandb.ai/wisdom-jihyekim-aiffel/jellyfish-trial/runs/0plemvh1</a><br/>Synced 5 W&B file(s), 101 media file(s), 8 artifact file(s) and 1 other file(s)"
      ],
      "text/plain": [
       "<IPython.core.display.HTML object>"
      ]
     },
     "metadata": {},
     "output_type": "display_data"
    },
    {
     "data": {
      "text/html": [
       "Find logs at: <code>./wandb/run-20241114_070003-0plemvh1/logs</code>"
      ],
      "text/plain": [
       "<IPython.core.display.HTML object>"
      ]
     },
     "metadata": {},
     "output_type": "display_data"
    },
    {
     "name": "stderr",
     "output_type": "stream",
     "text": [
      "\u001b[34m\u001b[1mwandb\u001b[0m: Agent Starting Run: 4f03b6uu with config:\n",
      "\u001b[34m\u001b[1mwandb\u001b[0m: \tepoch: 8\n",
      "\u001b[34m\u001b[1mwandb\u001b[0m: \tlearning_rate: 0.06737057845846298\n"
     ]
    },
    {
     "data": {
      "text/html": [
       "wandb version 0.18.7 is available!  To upgrade, please run:\n",
       " $ pip install wandb --upgrade"
      ],
      "text/plain": [
       "<IPython.core.display.HTML object>"
      ]
     },
     "metadata": {},
     "output_type": "display_data"
    },
    {
     "data": {
      "text/html": [
       "Tracking run with wandb version 0.16.0"
      ],
      "text/plain": [
       "<IPython.core.display.HTML object>"
      ]
     },
     "metadata": {},
     "output_type": "display_data"
    },
    {
     "data": {
      "text/html": [
       "Run data is saved locally in <code>/aiffel/aiffel/wandb/run-20241114_070110-4f03b6uu</code>"
      ],
      "text/plain": [
       "<IPython.core.display.HTML object>"
      ]
     },
     "metadata": {},
     "output_type": "display_data"
    },
    {
     "data": {
      "text/html": [
       "Syncing run <strong><a href='https://wandb.ai/wisdom-jihyekim-aiffel/jellyfish-trial/runs/4f03b6uu' target=\"_blank\">fragrant-sweep-5</a></strong> to <a href='https://wandb.ai/wisdom-jihyekim-aiffel/jellyfish-trial' target=\"_blank\">Weights & Biases</a> (<a href='https://wandb.me/run' target=\"_blank\">docs</a>)<br/>Sweep page: <a href='https://wandb.ai/wisdom-jihyekim-aiffel/jellyfish-trial/sweeps/hrxj5lw3' target=\"_blank\">https://wandb.ai/wisdom-jihyekim-aiffel/jellyfish-trial/sweeps/hrxj5lw3</a>"
      ],
      "text/plain": [
       "<IPython.core.display.HTML object>"
      ]
     },
     "metadata": {},
     "output_type": "display_data"
    },
    {
     "data": {
      "text/html": [
       " View project at <a href='https://wandb.ai/wisdom-jihyekim-aiffel/jellyfish-trial' target=\"_blank\">https://wandb.ai/wisdom-jihyekim-aiffel/jellyfish-trial</a>"
      ],
      "text/plain": [
       "<IPython.core.display.HTML object>"
      ]
     },
     "metadata": {},
     "output_type": "display_data"
    },
    {
     "data": {
      "text/html": [
       " View sweep at <a href='https://wandb.ai/wisdom-jihyekim-aiffel/jellyfish-trial/sweeps/hrxj5lw3' target=\"_blank\">https://wandb.ai/wisdom-jihyekim-aiffel/jellyfish-trial/sweeps/hrxj5lw3</a>"
      ],
      "text/plain": [
       "<IPython.core.display.HTML object>"
      ]
     },
     "metadata": {},
     "output_type": "display_data"
    },
    {
     "data": {
      "text/html": [
       " View run at <a href='https://wandb.ai/wisdom-jihyekim-aiffel/jellyfish-trial/runs/4f03b6uu' target=\"_blank\">https://wandb.ai/wisdom-jihyekim-aiffel/jellyfish-trial/runs/4f03b6uu</a>"
      ],
      "text/plain": [
       "<IPython.core.display.HTML object>"
      ]
     },
     "metadata": {},
     "output_type": "display_data"
    },
    {
     "name": "stdout",
     "output_type": "stream",
     "text": [
      "Epoch 1/8\n",
      "1875/1875 [==============================] - 6s 3ms/step - loss: 0.4516 - accuracy: 0.8676 - val_loss: 0.3111 - val_accuracy: 0.9078\n",
      "INFO:tensorflow:Assets written to: /aiffel/aiffel/wandb/run-20241114_070110-4f03b6uu/files/model-best/assets\n"
     ]
    },
    {
     "name": "stderr",
     "output_type": "stream",
     "text": [
      "\u001b[34m\u001b[1mwandb\u001b[0m: Adding directory to artifact (/aiffel/aiffel/wandb/run-20241114_070110-4f03b6uu/files/model-best)... Done. 0.0s\n"
     ]
    },
    {
     "name": "stdout",
     "output_type": "stream",
     "text": [
      "Epoch 2/8\n",
      "1875/1875 [==============================] - 5s 3ms/step - loss: 0.3914 - accuracy: 0.8939 - val_loss: 0.3821 - val_accuracy: 0.9094\n",
      "Epoch 3/8\n",
      "1875/1875 [==============================] - 5s 3ms/step - loss: 0.4851 - accuracy: 0.8780 - val_loss: 0.4015 - val_accuracy: 0.9026\n",
      "Epoch 4/8\n",
      "1875/1875 [==============================] - 5s 3ms/step - loss: 0.4355 - accuracy: 0.8878 - val_loss: 0.3840 - val_accuracy: 0.8914\n",
      "Epoch 5/8\n",
      "1875/1875 [==============================] - 5s 3ms/step - loss: 0.4339 - accuracy: 0.8870 - val_loss: 0.3758 - val_accuracy: 0.9030\n",
      "Epoch 6/8\n",
      "1875/1875 [==============================] - 5s 3ms/step - loss: 0.4558 - accuracy: 0.8847 - val_loss: 0.3158 - val_accuracy: 0.9096\n",
      "Epoch 7/8\n",
      "1875/1875 [==============================] - 5s 3ms/step - loss: 0.4770 - accuracy: 0.8817 - val_loss: 0.4068 - val_accuracy: 0.8940\n",
      "Epoch 8/8\n",
      "1875/1875 [==============================] - 5s 3ms/step - loss: 0.4375 - accuracy: 0.8882 - val_loss: 0.6097 - val_accuracy: 0.8298\n",
      "157/157 - 0s - loss: 0.6022 - accuracy: 0.8322\n"
     ]
    },
    {
     "data": {
      "application/vnd.jupyter.widget-view+json": {
       "model_id": "",
       "version_major": 2,
       "version_minor": 0
      },
      "text/plain": [
       "VBox(children=(Label(value='0.922 MB of 0.922 MB uploaded\\r'), FloatProgress(value=1.0, max=1.0)))"
      ]
     },
     "metadata": {},
     "output_type": "display_data"
    },
    {
     "data": {
      "text/html": [
       "<style>\n",
       "    table.wandb td:nth-child(1) { padding: 0 10px; text-align: left ; width: auto;} td:nth-child(2) {text-align: left ; width: 100%}\n",
       "    .wandb-row { display: flex; flex-direction: row; flex-wrap: wrap; justify-content: flex-start; width: 100% }\n",
       "    .wandb-col { display: flex; flex-direction: column; flex-basis: 100%; flex: 1; padding: 10px; }\n",
       "    </style>\n",
       "<div class=\"wandb-row\"><div class=\"wandb-col\"><h3>Run history:</h3><br/><table class=\"wandb\"><tr><td>Test Accuracy Rate: </td><td>▁</td></tr><tr><td>Test Error Rate: </td><td>▁</td></tr><tr><td>accuracy</td><td>▁█▄▆▆▆▅▆</td></tr><tr><td>epoch</td><td>▁▂▃▄▅▆▇█</td></tr><tr><td>loss</td><td>▅▁█▄▄▆▇▄</td></tr><tr><td>val_accuracy</td><td>██▇▆▇█▇▁</td></tr><tr><td>val_loss</td><td>▁▃▃▃▃▁▃█</td></tr></table><br/></div><div class=\"wandb-col\"><h3>Run summary:</h3><br/><table class=\"wandb\"><tr><td>Test Accuracy Rate: </td><td>83.22</td></tr><tr><td>Test Error Rate: </td><td>16.78</td></tr><tr><td>accuracy</td><td>0.8882</td></tr><tr><td>best_epoch</td><td>0</td></tr><tr><td>best_val_loss</td><td>0.31107</td></tr><tr><td>epoch</td><td>7</td></tr><tr><td>loss</td><td>0.43751</td></tr><tr><td>val_accuracy</td><td>0.8298</td></tr><tr><td>val_loss</td><td>0.60974</td></tr></table><br/></div></div>"
      ],
      "text/plain": [
       "<IPython.core.display.HTML object>"
      ]
     },
     "metadata": {},
     "output_type": "display_data"
    },
    {
     "data": {
      "text/html": [
       " View run <strong style=\"color:#cdcd00\">fragrant-sweep-5</strong> at: <a href='https://wandb.ai/wisdom-jihyekim-aiffel/jellyfish-trial/runs/4f03b6uu' target=\"_blank\">https://wandb.ai/wisdom-jihyekim-aiffel/jellyfish-trial/runs/4f03b6uu</a><br/>Synced 5 W&B file(s), 81 media file(s), 4 artifact file(s) and 1 other file(s)"
      ],
      "text/plain": [
       "<IPython.core.display.HTML object>"
      ]
     },
     "metadata": {},
     "output_type": "display_data"
    },
    {
     "data": {
      "text/html": [
       "Find logs at: <code>./wandb/run-20241114_070110-4f03b6uu/logs</code>"
      ],
      "text/plain": [
       "<IPython.core.display.HTML object>"
      ]
     },
     "metadata": {},
     "output_type": "display_data"
    },
    {
     "name": "stderr",
     "output_type": "stream",
     "text": [
      "\u001b[34m\u001b[1mwandb\u001b[0m: Agent Starting Run: ix0m45vw with config:\n",
      "\u001b[34m\u001b[1mwandb\u001b[0m: \tepoch: 10\n",
      "\u001b[34m\u001b[1mwandb\u001b[0m: \tlearning_rate: 0.04471263823025609\n"
     ]
    },
    {
     "data": {
      "text/html": [
       "wandb version 0.18.7 is available!  To upgrade, please run:\n",
       " $ pip install wandb --upgrade"
      ],
      "text/plain": [
       "<IPython.core.display.HTML object>"
      ]
     },
     "metadata": {},
     "output_type": "display_data"
    },
    {
     "data": {
      "text/html": [
       "Tracking run with wandb version 0.16.0"
      ],
      "text/plain": [
       "<IPython.core.display.HTML object>"
      ]
     },
     "metadata": {},
     "output_type": "display_data"
    },
    {
     "data": {
      "text/html": [
       "Run data is saved locally in <code>/aiffel/aiffel/wandb/run-20241114_070206-ix0m45vw</code>"
      ],
      "text/plain": [
       "<IPython.core.display.HTML object>"
      ]
     },
     "metadata": {},
     "output_type": "display_data"
    },
    {
     "data": {
      "text/html": [
       "Syncing run <strong><a href='https://wandb.ai/wisdom-jihyekim-aiffel/jellyfish-trial/runs/ix0m45vw' target=\"_blank\">scarlet-sweep-6</a></strong> to <a href='https://wandb.ai/wisdom-jihyekim-aiffel/jellyfish-trial' target=\"_blank\">Weights & Biases</a> (<a href='https://wandb.me/run' target=\"_blank\">docs</a>)<br/>Sweep page: <a href='https://wandb.ai/wisdom-jihyekim-aiffel/jellyfish-trial/sweeps/hrxj5lw3' target=\"_blank\">https://wandb.ai/wisdom-jihyekim-aiffel/jellyfish-trial/sweeps/hrxj5lw3</a>"
      ],
      "text/plain": [
       "<IPython.core.display.HTML object>"
      ]
     },
     "metadata": {},
     "output_type": "display_data"
    },
    {
     "data": {
      "text/html": [
       " View project at <a href='https://wandb.ai/wisdom-jihyekim-aiffel/jellyfish-trial' target=\"_blank\">https://wandb.ai/wisdom-jihyekim-aiffel/jellyfish-trial</a>"
      ],
      "text/plain": [
       "<IPython.core.display.HTML object>"
      ]
     },
     "metadata": {},
     "output_type": "display_data"
    },
    {
     "data": {
      "text/html": [
       " View sweep at <a href='https://wandb.ai/wisdom-jihyekim-aiffel/jellyfish-trial/sweeps/hrxj5lw3' target=\"_blank\">https://wandb.ai/wisdom-jihyekim-aiffel/jellyfish-trial/sweeps/hrxj5lw3</a>"
      ],
      "text/plain": [
       "<IPython.core.display.HTML object>"
      ]
     },
     "metadata": {},
     "output_type": "display_data"
    },
    {
     "data": {
      "text/html": [
       " View run at <a href='https://wandb.ai/wisdom-jihyekim-aiffel/jellyfish-trial/runs/ix0m45vw' target=\"_blank\">https://wandb.ai/wisdom-jihyekim-aiffel/jellyfish-trial/runs/ix0m45vw</a>"
      ],
      "text/plain": [
       "<IPython.core.display.HTML object>"
      ]
     },
     "metadata": {},
     "output_type": "display_data"
    },
    {
     "name": "stdout",
     "output_type": "stream",
     "text": [
      "Epoch 1/10\n",
      "1875/1875 [==============================] - 6s 3ms/step - loss: 2.3095 - accuracy: 0.1024 - val_loss: 2.3052 - val_accuracy: 0.1130\n",
      "INFO:tensorflow:Assets written to: /aiffel/aiffel/wandb/run-20241114_070206-ix0m45vw/files/model-best/assets\n"
     ]
    },
    {
     "name": "stderr",
     "output_type": "stream",
     "text": [
      "\u001b[34m\u001b[1mwandb\u001b[0m: Adding directory to artifact (/aiffel/aiffel/wandb/run-20241114_070206-ix0m45vw/files/model-best)... Done. 0.0s\n"
     ]
    },
    {
     "name": "stdout",
     "output_type": "stream",
     "text": [
      "Epoch 2/10\n",
      "1875/1875 [==============================] - 5s 3ms/step - loss: 2.3066 - accuracy: 0.1059 - val_loss: 2.3041 - val_accuracy: 0.1002\n",
      "INFO:tensorflow:Assets written to: /aiffel/aiffel/wandb/run-20241114_070206-ix0m45vw/files/model-best/assets\n"
     ]
    },
    {
     "name": "stderr",
     "output_type": "stream",
     "text": [
      "\u001b[34m\u001b[1mwandb\u001b[0m: Adding directory to artifact (/aiffel/aiffel/wandb/run-20241114_070206-ix0m45vw/files/model-best)... Done. 0.0s\n"
     ]
    },
    {
     "name": "stdout",
     "output_type": "stream",
     "text": [
      "Epoch 3/10\n",
      "1875/1875 [==============================] - 5s 3ms/step - loss: 2.3072 - accuracy: 0.1047 - val_loss: 2.3063 - val_accuracy: 0.0984\n",
      "Epoch 4/10\n",
      "1875/1875 [==============================] - 5s 3ms/step - loss: 2.3075 - accuracy: 0.1039 - val_loss: 2.3068 - val_accuracy: 0.1014\n",
      "Epoch 5/10\n",
      "1875/1875 [==============================] - 5s 3ms/step - loss: 2.3071 - accuracy: 0.1039 - val_loss: 2.3065 - val_accuracy: 0.1030\n",
      "Epoch 6/10\n",
      "1875/1875 [==============================] - 5s 3ms/step - loss: 2.3071 - accuracy: 0.1028 - val_loss: 2.3090 - val_accuracy: 0.1130\n",
      "Epoch 7/10\n",
      "1875/1875 [==============================] - 5s 3ms/step - loss: 2.3074 - accuracy: 0.1026 - val_loss: 2.3103 - val_accuracy: 0.1008\n",
      "Epoch 8/10\n",
      "1875/1875 [==============================] - 5s 3ms/step - loss: 2.3066 - accuracy: 0.1068 - val_loss: 2.3092 - val_accuracy: 0.0994\n",
      "Epoch 9/10\n",
      "1875/1875 [==============================] - 5s 3ms/step - loss: 2.3070 - accuracy: 0.1043 - val_loss: 2.3073 - val_accuracy: 0.1014\n",
      "Epoch 10/10\n",
      "1875/1875 [==============================] - 5s 3ms/step - loss: 2.3078 - accuracy: 0.1025 - val_loss: 2.3087 - val_accuracy: 0.1130\n",
      "157/157 - 0s - loss: 2.3087 - accuracy: 0.1140\n"
     ]
    },
    {
     "data": {
      "application/vnd.jupyter.widget-view+json": {
       "model_id": "",
       "version_major": 2,
       "version_minor": 0
      },
      "text/plain": [
       "VBox(children=(Label(value='1.431 MB of 1.431 MB uploaded (0.014 MB deduped)\\r'), FloatProgress(value=0.999637…"
      ]
     },
     "metadata": {},
     "output_type": "display_data"
    },
    {
     "data": {
      "text/html": [
       "W&B sync reduced upload amount by 1.0%             "
      ],
      "text/plain": [
       "<IPython.core.display.HTML object>"
      ]
     },
     "metadata": {},
     "output_type": "display_data"
    },
    {
     "data": {
      "text/html": [
       "<style>\n",
       "    table.wandb td:nth-child(1) { padding: 0 10px; text-align: left ; width: auto;} td:nth-child(2) {text-align: left ; width: 100%}\n",
       "    .wandb-row { display: flex; flex-direction: row; flex-wrap: wrap; justify-content: flex-start; width: 100% }\n",
       "    .wandb-col { display: flex; flex-direction: column; flex-basis: 100%; flex: 1; padding: 10px; }\n",
       "    </style>\n",
       "<div class=\"wandb-row\"><div class=\"wandb-col\"><h3>Run history:</h3><br/><table class=\"wandb\"><tr><td>Test Accuracy Rate: </td><td>▁</td></tr><tr><td>Test Error Rate: </td><td>▁</td></tr><tr><td>accuracy</td><td>▁▇▅▃▃▂▁█▄▁</td></tr><tr><td>epoch</td><td>▁▂▃▃▄▅▆▆▇█</td></tr><tr><td>loss</td><td>█▁▂▃▂▂▃▁▂▄</td></tr><tr><td>val_accuracy</td><td>█▂▁▂▃█▂▁▂█</td></tr><tr><td>val_loss</td><td>▂▁▄▄▄▆█▇▅▆</td></tr></table><br/></div><div class=\"wandb-col\"><h3>Run summary:</h3><br/><table class=\"wandb\"><tr><td>Test Accuracy Rate: </td><td>11.4</td></tr><tr><td>Test Error Rate: </td><td>88.6</td></tr><tr><td>accuracy</td><td>0.1025</td></tr><tr><td>best_epoch</td><td>1</td></tr><tr><td>best_val_loss</td><td>2.30409</td></tr><tr><td>epoch</td><td>9</td></tr><tr><td>loss</td><td>2.30781</td></tr><tr><td>val_accuracy</td><td>0.113</td></tr><tr><td>val_loss</td><td>2.30865</td></tr></table><br/></div></div>"
      ],
      "text/plain": [
       "<IPython.core.display.HTML object>"
      ]
     },
     "metadata": {},
     "output_type": "display_data"
    },
    {
     "data": {
      "text/html": [
       " View run <strong style=\"color:#cdcd00\">scarlet-sweep-6</strong> at: <a href='https://wandb.ai/wisdom-jihyekim-aiffel/jellyfish-trial/runs/ix0m45vw' target=\"_blank\">https://wandb.ai/wisdom-jihyekim-aiffel/jellyfish-trial/runs/ix0m45vw</a><br/>Synced 5 W&B file(s), 101 media file(s), 8 artifact file(s) and 1 other file(s)"
      ],
      "text/plain": [
       "<IPython.core.display.HTML object>"
      ]
     },
     "metadata": {},
     "output_type": "display_data"
    },
    {
     "data": {
      "text/html": [
       "Find logs at: <code>./wandb/run-20241114_070206-ix0m45vw/logs</code>"
      ],
      "text/plain": [
       "<IPython.core.display.HTML object>"
      ]
     },
     "metadata": {},
     "output_type": "display_data"
    },
    {
     "name": "stderr",
     "output_type": "stream",
     "text": [
      "\u001b[34m\u001b[1mwandb\u001b[0m: Agent Starting Run: r7tjz4au with config:\n",
      "\u001b[34m\u001b[1mwandb\u001b[0m: \tepoch: 6\n",
      "\u001b[34m\u001b[1mwandb\u001b[0m: \tlearning_rate: 0.0859855034878737\n"
     ]
    },
    {
     "data": {
      "text/html": [
       "wandb version 0.18.7 is available!  To upgrade, please run:\n",
       " $ pip install wandb --upgrade"
      ],
      "text/plain": [
       "<IPython.core.display.HTML object>"
      ]
     },
     "metadata": {},
     "output_type": "display_data"
    },
    {
     "data": {
      "text/html": [
       "Tracking run with wandb version 0.16.0"
      ],
      "text/plain": [
       "<IPython.core.display.HTML object>"
      ]
     },
     "metadata": {},
     "output_type": "display_data"
    },
    {
     "data": {
      "text/html": [
       "Run data is saved locally in <code>/aiffel/aiffel/wandb/run-20241114_070313-r7tjz4au</code>"
      ],
      "text/plain": [
       "<IPython.core.display.HTML object>"
      ]
     },
     "metadata": {},
     "output_type": "display_data"
    },
    {
     "data": {
      "text/html": [
       "Syncing run <strong><a href='https://wandb.ai/wisdom-jihyekim-aiffel/jellyfish-trial/runs/r7tjz4au' target=\"_blank\">still-sweep-7</a></strong> to <a href='https://wandb.ai/wisdom-jihyekim-aiffel/jellyfish-trial' target=\"_blank\">Weights & Biases</a> (<a href='https://wandb.me/run' target=\"_blank\">docs</a>)<br/>Sweep page: <a href='https://wandb.ai/wisdom-jihyekim-aiffel/jellyfish-trial/sweeps/hrxj5lw3' target=\"_blank\">https://wandb.ai/wisdom-jihyekim-aiffel/jellyfish-trial/sweeps/hrxj5lw3</a>"
      ],
      "text/plain": [
       "<IPython.core.display.HTML object>"
      ]
     },
     "metadata": {},
     "output_type": "display_data"
    },
    {
     "data": {
      "text/html": [
       " View project at <a href='https://wandb.ai/wisdom-jihyekim-aiffel/jellyfish-trial' target=\"_blank\">https://wandb.ai/wisdom-jihyekim-aiffel/jellyfish-trial</a>"
      ],
      "text/plain": [
       "<IPython.core.display.HTML object>"
      ]
     },
     "metadata": {},
     "output_type": "display_data"
    },
    {
     "data": {
      "text/html": [
       " View sweep at <a href='https://wandb.ai/wisdom-jihyekim-aiffel/jellyfish-trial/sweeps/hrxj5lw3' target=\"_blank\">https://wandb.ai/wisdom-jihyekim-aiffel/jellyfish-trial/sweeps/hrxj5lw3</a>"
      ],
      "text/plain": [
       "<IPython.core.display.HTML object>"
      ]
     },
     "metadata": {},
     "output_type": "display_data"
    },
    {
     "data": {
      "text/html": [
       " View run at <a href='https://wandb.ai/wisdom-jihyekim-aiffel/jellyfish-trial/runs/r7tjz4au' target=\"_blank\">https://wandb.ai/wisdom-jihyekim-aiffel/jellyfish-trial/runs/r7tjz4au</a>"
      ],
      "text/plain": [
       "<IPython.core.display.HTML object>"
      ]
     },
     "metadata": {},
     "output_type": "display_data"
    },
    {
     "name": "stdout",
     "output_type": "stream",
     "text": [
      "Epoch 1/6\n",
      "1875/1875 [==============================] - 6s 3ms/step - loss: 2.3187 - accuracy: 0.1040 - val_loss: 2.3085 - val_accuracy: 0.1130\n",
      "INFO:tensorflow:Assets written to: /aiffel/aiffel/wandb/run-20241114_070313-r7tjz4au/files/model-best/assets\n"
     ]
    },
    {
     "name": "stderr",
     "output_type": "stream",
     "text": [
      "\u001b[34m\u001b[1mwandb\u001b[0m: Adding directory to artifact (/aiffel/aiffel/wandb/run-20241114_070313-r7tjz4au/files/model-best)... Done. 0.0s\n"
     ]
    },
    {
     "name": "stdout",
     "output_type": "stream",
     "text": [
      "Epoch 2/6\n",
      "1875/1875 [==============================] - 5s 3ms/step - loss: 2.3123 - accuracy: 0.1043 - val_loss: 2.3086 - val_accuracy: 0.1002\n",
      "Epoch 3/6\n",
      "1875/1875 [==============================] - 5s 3ms/step - loss: 2.3115 - accuracy: 0.1042 - val_loss: 2.3127 - val_accuracy: 0.1130\n",
      "Epoch 4/6\n",
      "1875/1875 [==============================] - 5s 3ms/step - loss: 2.3120 - accuracy: 0.1032 - val_loss: 2.3094 - val_accuracy: 0.1130\n",
      "Epoch 5/6\n",
      "1875/1875 [==============================] - 5s 3ms/step - loss: 2.3126 - accuracy: 0.1010 - val_loss: 2.3149 - val_accuracy: 0.1002\n",
      "Epoch 6/6\n",
      "1875/1875 [==============================] - 5s 3ms/step - loss: 2.3118 - accuracy: 0.1024 - val_loss: 2.3065 - val_accuracy: 0.1130\n",
      "INFO:tensorflow:Assets written to: /aiffel/aiffel/wandb/run-20241114_070313-r7tjz4au/files/model-best/assets\n"
     ]
    },
    {
     "name": "stderr",
     "output_type": "stream",
     "text": [
      "\u001b[34m\u001b[1mwandb\u001b[0m: Adding directory to artifact (/aiffel/aiffel/wandb/run-20241114_070313-r7tjz4au/files/model-best)... Done. 0.0s\n"
     ]
    },
    {
     "name": "stdout",
     "output_type": "stream",
     "text": [
      "157/157 - 0s - loss: 2.3093 - accuracy: 0.1140\n"
     ]
    },
    {
     "data": {
      "application/vnd.jupyter.widget-view+json": {
       "model_id": "",
       "version_major": 2,
       "version_minor": 0
      },
      "text/plain": [
       "VBox(children=(Label(value='1.421 MB of 1.421 MB uploaded (0.014 MB deduped)\\r'), FloatProgress(value=1.0, max…"
      ]
     },
     "metadata": {},
     "output_type": "display_data"
    },
    {
     "data": {
      "text/html": [
       "W&B sync reduced upload amount by 1.0%             "
      ],
      "text/plain": [
       "<IPython.core.display.HTML object>"
      ]
     },
     "metadata": {},
     "output_type": "display_data"
    },
    {
     "data": {
      "text/html": [
       "<style>\n",
       "    table.wandb td:nth-child(1) { padding: 0 10px; text-align: left ; width: auto;} td:nth-child(2) {text-align: left ; width: 100%}\n",
       "    .wandb-row { display: flex; flex-direction: row; flex-wrap: wrap; justify-content: flex-start; width: 100% }\n",
       "    .wandb-col { display: flex; flex-direction: column; flex-basis: 100%; flex: 1; padding: 10px; }\n",
       "    </style>\n",
       "<div class=\"wandb-row\"><div class=\"wandb-col\"><h3>Run history:</h3><br/><table class=\"wandb\"><tr><td>Test Accuracy Rate: </td><td>▁</td></tr><tr><td>Test Error Rate: </td><td>▁</td></tr><tr><td>accuracy</td><td>▇██▆▁▄</td></tr><tr><td>epoch</td><td>▁▂▄▅▇█</td></tr><tr><td>loss</td><td>█▂▁▁▂▁</td></tr><tr><td>val_accuracy</td><td>█▁██▁█</td></tr><tr><td>val_loss</td><td>▃▃▆▃█▁</td></tr></table><br/></div><div class=\"wandb-col\"><h3>Run summary:</h3><br/><table class=\"wandb\"><tr><td>Test Accuracy Rate: </td><td>11.4</td></tr><tr><td>Test Error Rate: </td><td>88.6</td></tr><tr><td>accuracy</td><td>0.1024</td></tr><tr><td>best_epoch</td><td>5</td></tr><tr><td>best_val_loss</td><td>2.30655</td></tr><tr><td>epoch</td><td>5</td></tr><tr><td>loss</td><td>2.31175</td></tr><tr><td>val_accuracy</td><td>0.113</td></tr><tr><td>val_loss</td><td>2.30655</td></tr></table><br/></div></div>"
      ],
      "text/plain": [
       "<IPython.core.display.HTML object>"
      ]
     },
     "metadata": {},
     "output_type": "display_data"
    },
    {
     "data": {
      "text/html": [
       " View run <strong style=\"color:#cdcd00\">still-sweep-7</strong> at: <a href='https://wandb.ai/wisdom-jihyekim-aiffel/jellyfish-trial/runs/r7tjz4au' target=\"_blank\">https://wandb.ai/wisdom-jihyekim-aiffel/jellyfish-trial/runs/r7tjz4au</a><br/>Synced 5 W&B file(s), 61 media file(s), 8 artifact file(s) and 1 other file(s)"
      ],
      "text/plain": [
       "<IPython.core.display.HTML object>"
      ]
     },
     "metadata": {},
     "output_type": "display_data"
    },
    {
     "data": {
      "text/html": [
       "Find logs at: <code>./wandb/run-20241114_070313-r7tjz4au/logs</code>"
      ],
      "text/plain": [
       "<IPython.core.display.HTML object>"
      ]
     },
     "metadata": {},
     "output_type": "display_data"
    },
    {
     "name": "stderr",
     "output_type": "stream",
     "text": [
      "\u001b[34m\u001b[1mwandb\u001b[0m: Agent Starting Run: btso8l8f with config:\n",
      "\u001b[34m\u001b[1mwandb\u001b[0m: \tepoch: 8\n",
      "\u001b[34m\u001b[1mwandb\u001b[0m: \tlearning_rate: 0.09761317431595988\n"
     ]
    },
    {
     "data": {
      "text/html": [
       "wandb version 0.18.7 is available!  To upgrade, please run:\n",
       " $ pip install wandb --upgrade"
      ],
      "text/plain": [
       "<IPython.core.display.HTML object>"
      ]
     },
     "metadata": {},
     "output_type": "display_data"
    },
    {
     "data": {
      "text/html": [
       "Tracking run with wandb version 0.16.0"
      ],
      "text/plain": [
       "<IPython.core.display.HTML object>"
      ]
     },
     "metadata": {},
     "output_type": "display_data"
    },
    {
     "data": {
      "text/html": [
       "Run data is saved locally in <code>/aiffel/aiffel/wandb/run-20241114_070400-btso8l8f</code>"
      ],
      "text/plain": [
       "<IPython.core.display.HTML object>"
      ]
     },
     "metadata": {},
     "output_type": "display_data"
    },
    {
     "data": {
      "text/html": [
       "Syncing run <strong><a href='https://wandb.ai/wisdom-jihyekim-aiffel/jellyfish-trial/runs/btso8l8f' target=\"_blank\">genial-sweep-8</a></strong> to <a href='https://wandb.ai/wisdom-jihyekim-aiffel/jellyfish-trial' target=\"_blank\">Weights & Biases</a> (<a href='https://wandb.me/run' target=\"_blank\">docs</a>)<br/>Sweep page: <a href='https://wandb.ai/wisdom-jihyekim-aiffel/jellyfish-trial/sweeps/hrxj5lw3' target=\"_blank\">https://wandb.ai/wisdom-jihyekim-aiffel/jellyfish-trial/sweeps/hrxj5lw3</a>"
      ],
      "text/plain": [
       "<IPython.core.display.HTML object>"
      ]
     },
     "metadata": {},
     "output_type": "display_data"
    },
    {
     "data": {
      "text/html": [
       " View project at <a href='https://wandb.ai/wisdom-jihyekim-aiffel/jellyfish-trial' target=\"_blank\">https://wandb.ai/wisdom-jihyekim-aiffel/jellyfish-trial</a>"
      ],
      "text/plain": [
       "<IPython.core.display.HTML object>"
      ]
     },
     "metadata": {},
     "output_type": "display_data"
    },
    {
     "data": {
      "text/html": [
       " View sweep at <a href='https://wandb.ai/wisdom-jihyekim-aiffel/jellyfish-trial/sweeps/hrxj5lw3' target=\"_blank\">https://wandb.ai/wisdom-jihyekim-aiffel/jellyfish-trial/sweeps/hrxj5lw3</a>"
      ],
      "text/plain": [
       "<IPython.core.display.HTML object>"
      ]
     },
     "metadata": {},
     "output_type": "display_data"
    },
    {
     "data": {
      "text/html": [
       " View run at <a href='https://wandb.ai/wisdom-jihyekim-aiffel/jellyfish-trial/runs/btso8l8f' target=\"_blank\">https://wandb.ai/wisdom-jihyekim-aiffel/jellyfish-trial/runs/btso8l8f</a>"
      ],
      "text/plain": [
       "<IPython.core.display.HTML object>"
      ]
     },
     "metadata": {},
     "output_type": "display_data"
    },
    {
     "name": "stdout",
     "output_type": "stream",
     "text": [
      "Epoch 1/8\n",
      "1875/1875 [==============================] - 6s 3ms/step - loss: 2.3463 - accuracy: 0.1025 - val_loss: 2.3090 - val_accuracy: 0.1030\n",
      "INFO:tensorflow:Assets written to: /aiffel/aiffel/wandb/run-20241114_070400-btso8l8f/files/model-best/assets\n"
     ]
    },
    {
     "name": "stderr",
     "output_type": "stream",
     "text": [
      "\u001b[34m\u001b[1mwandb\u001b[0m: Adding directory to artifact (/aiffel/aiffel/wandb/run-20241114_070400-btso8l8f/files/model-best)... Done. 0.0s\n"
     ]
    },
    {
     "name": "stdout",
     "output_type": "stream",
     "text": [
      "Epoch 2/8\n",
      "1875/1875 [==============================] - 5s 3ms/step - loss: 2.3131 - accuracy: 0.1058 - val_loss: 2.3121 - val_accuracy: 0.1002\n",
      "Epoch 3/8\n",
      "1875/1875 [==============================] - 5s 3ms/step - loss: 2.3137 - accuracy: 0.1032 - val_loss: 2.3158 - val_accuracy: 0.1014\n",
      "Epoch 4/8\n",
      "1875/1875 [==============================] - 5s 3ms/step - loss: 2.3141 - accuracy: 0.1003 - val_loss: 2.3060 - val_accuracy: 0.0994\n",
      "INFO:tensorflow:Assets written to: /aiffel/aiffel/wandb/run-20241114_070400-btso8l8f/files/model-best/assets\n"
     ]
    },
    {
     "name": "stderr",
     "output_type": "stream",
     "text": [
      "\u001b[34m\u001b[1mwandb\u001b[0m: Adding directory to artifact (/aiffel/aiffel/wandb/run-20241114_070400-btso8l8f/files/model-best)... Done. 0.0s\n"
     ]
    },
    {
     "name": "stdout",
     "output_type": "stream",
     "text": [
      "Epoch 5/8\n",
      "1875/1875 [==============================] - 5s 3ms/step - loss: 2.3139 - accuracy: 0.1040 - val_loss: 2.3043 - val_accuracy: 0.0994\n",
      "INFO:tensorflow:Assets written to: /aiffel/aiffel/wandb/run-20241114_070400-btso8l8f/files/model-best/assets\n"
     ]
    },
    {
     "name": "stderr",
     "output_type": "stream",
     "text": [
      "\u001b[34m\u001b[1mwandb\u001b[0m: Adding directory to artifact (/aiffel/aiffel/wandb/run-20241114_070400-btso8l8f/files/model-best)... Done. 0.0s\n"
     ]
    },
    {
     "name": "stdout",
     "output_type": "stream",
     "text": [
      "Epoch 6/8\n",
      "1875/1875 [==============================] - 5s 3ms/step - loss: 2.3142 - accuracy: 0.1022 - val_loss: 2.3153 - val_accuracy: 0.1002\n",
      "Epoch 7/8\n",
      "1875/1875 [==============================] - 5s 3ms/step - loss: 2.3140 - accuracy: 0.1032 - val_loss: 2.3145 - val_accuracy: 0.1130\n",
      "Epoch 8/8\n",
      "1875/1875 [==============================] - 5s 3ms/step - loss: 2.3145 - accuracy: 0.1007 - val_loss: 2.3131 - val_accuracy: 0.0994\n",
      "157/157 - 0s - loss: 2.3076 - accuracy: 0.1024\n"
     ]
    },
    {
     "data": {
      "application/vnd.jupyter.widget-view+json": {
       "model_id": "",
       "version_major": 2,
       "version_minor": 0
      },
      "text/plain": [
       "VBox(children=(Label(value='1.929 MB of 1.929 MB uploaded (0.029 MB deduped)\\r'), FloatProgress(value=1.0, max…"
      ]
     },
     "metadata": {},
     "output_type": "display_data"
    },
    {
     "data": {
      "text/html": [
       "W&B sync reduced upload amount by 1.5%             "
      ],
      "text/plain": [
       "<IPython.core.display.HTML object>"
      ]
     },
     "metadata": {},
     "output_type": "display_data"
    },
    {
     "data": {
      "text/html": [
       "<style>\n",
       "    table.wandb td:nth-child(1) { padding: 0 10px; text-align: left ; width: auto;} td:nth-child(2) {text-align: left ; width: 100%}\n",
       "    .wandb-row { display: flex; flex-direction: row; flex-wrap: wrap; justify-content: flex-start; width: 100% }\n",
       "    .wandb-col { display: flex; flex-direction: column; flex-basis: 100%; flex: 1; padding: 10px; }\n",
       "    </style>\n",
       "<div class=\"wandb-row\"><div class=\"wandb-col\"><h3>Run history:</h3><br/><table class=\"wandb\"><tr><td>Test Accuracy Rate: </td><td>▁</td></tr><tr><td>Test Error Rate: </td><td>▁</td></tr><tr><td>accuracy</td><td>▄█▅▁▆▃▅▂</td></tr><tr><td>epoch</td><td>▁▂▃▄▅▆▇█</td></tr><tr><td>loss</td><td>█▁▁▁▁▁▁▁</td></tr><tr><td>val_accuracy</td><td>▃▁▂▁▁▁█▁</td></tr><tr><td>val_loss</td><td>▄▆█▂▁█▇▆</td></tr></table><br/></div><div class=\"wandb-col\"><h3>Run summary:</h3><br/><table class=\"wandb\"><tr><td>Test Accuracy Rate: </td><td>10.24</td></tr><tr><td>Test Error Rate: </td><td>89.76</td></tr><tr><td>accuracy</td><td>0.10072</td></tr><tr><td>best_epoch</td><td>4</td></tr><tr><td>best_val_loss</td><td>2.30431</td></tr><tr><td>epoch</td><td>7</td></tr><tr><td>loss</td><td>2.31454</td></tr><tr><td>val_accuracy</td><td>0.0994</td></tr><tr><td>val_loss</td><td>2.31306</td></tr></table><br/></div></div>"
      ],
      "text/plain": [
       "<IPython.core.display.HTML object>"
      ]
     },
     "metadata": {},
     "output_type": "display_data"
    },
    {
     "data": {
      "text/html": [
       " View run <strong style=\"color:#cdcd00\">genial-sweep-8</strong> at: <a href='https://wandb.ai/wisdom-jihyekim-aiffel/jellyfish-trial/runs/btso8l8f' target=\"_blank\">https://wandb.ai/wisdom-jihyekim-aiffel/jellyfish-trial/runs/btso8l8f</a><br/>Synced 5 W&B file(s), 81 media file(s), 12 artifact file(s) and 1 other file(s)"
      ],
      "text/plain": [
       "<IPython.core.display.HTML object>"
      ]
     },
     "metadata": {},
     "output_type": "display_data"
    },
    {
     "data": {
      "text/html": [
       "Find logs at: <code>./wandb/run-20241114_070400-btso8l8f/logs</code>"
      ],
      "text/plain": [
       "<IPython.core.display.HTML object>"
      ]
     },
     "metadata": {},
     "output_type": "display_data"
    },
    {
     "name": "stderr",
     "output_type": "stream",
     "text": [
      "\u001b[34m\u001b[1mwandb\u001b[0m: Agent Starting Run: 2ltc0932 with config:\n",
      "\u001b[34m\u001b[1mwandb\u001b[0m: \tepoch: 8\n",
      "\u001b[34m\u001b[1mwandb\u001b[0m: \tlearning_rate: 0.06509658259368838\n"
     ]
    },
    {
     "data": {
      "text/html": [
       "wandb version 0.18.7 is available!  To upgrade, please run:\n",
       " $ pip install wandb --upgrade"
      ],
      "text/plain": [
       "<IPython.core.display.HTML object>"
      ]
     },
     "metadata": {},
     "output_type": "display_data"
    },
    {
     "data": {
      "text/html": [
       "Tracking run with wandb version 0.16.0"
      ],
      "text/plain": [
       "<IPython.core.display.HTML object>"
      ]
     },
     "metadata": {},
     "output_type": "display_data"
    },
    {
     "data": {
      "text/html": [
       "Run data is saved locally in <code>/aiffel/aiffel/wandb/run-20241114_070456-2ltc0932</code>"
      ],
      "text/plain": [
       "<IPython.core.display.HTML object>"
      ]
     },
     "metadata": {},
     "output_type": "display_data"
    },
    {
     "data": {
      "text/html": [
       "Syncing run <strong><a href='https://wandb.ai/wisdom-jihyekim-aiffel/jellyfish-trial/runs/2ltc0932' target=\"_blank\">hardy-sweep-9</a></strong> to <a href='https://wandb.ai/wisdom-jihyekim-aiffel/jellyfish-trial' target=\"_blank\">Weights & Biases</a> (<a href='https://wandb.me/run' target=\"_blank\">docs</a>)<br/>Sweep page: <a href='https://wandb.ai/wisdom-jihyekim-aiffel/jellyfish-trial/sweeps/hrxj5lw3' target=\"_blank\">https://wandb.ai/wisdom-jihyekim-aiffel/jellyfish-trial/sweeps/hrxj5lw3</a>"
      ],
      "text/plain": [
       "<IPython.core.display.HTML object>"
      ]
     },
     "metadata": {},
     "output_type": "display_data"
    },
    {
     "data": {
      "text/html": [
       " View project at <a href='https://wandb.ai/wisdom-jihyekim-aiffel/jellyfish-trial' target=\"_blank\">https://wandb.ai/wisdom-jihyekim-aiffel/jellyfish-trial</a>"
      ],
      "text/plain": [
       "<IPython.core.display.HTML object>"
      ]
     },
     "metadata": {},
     "output_type": "display_data"
    },
    {
     "data": {
      "text/html": [
       " View sweep at <a href='https://wandb.ai/wisdom-jihyekim-aiffel/jellyfish-trial/sweeps/hrxj5lw3' target=\"_blank\">https://wandb.ai/wisdom-jihyekim-aiffel/jellyfish-trial/sweeps/hrxj5lw3</a>"
      ],
      "text/plain": [
       "<IPython.core.display.HTML object>"
      ]
     },
     "metadata": {},
     "output_type": "display_data"
    },
    {
     "data": {
      "text/html": [
       " View run at <a href='https://wandb.ai/wisdom-jihyekim-aiffel/jellyfish-trial/runs/2ltc0932' target=\"_blank\">https://wandb.ai/wisdom-jihyekim-aiffel/jellyfish-trial/runs/2ltc0932</a>"
      ],
      "text/plain": [
       "<IPython.core.display.HTML object>"
      ]
     },
     "metadata": {},
     "output_type": "display_data"
    },
    {
     "name": "stdout",
     "output_type": "stream",
     "text": [
      "Epoch 1/8\n",
      "1875/1875 [==============================] - 6s 3ms/step - loss: 2.3292 - accuracy: 0.1041 - val_loss: 2.3072 - val_accuracy: 0.0994\n",
      "INFO:tensorflow:Assets written to: /aiffel/aiffel/wandb/run-20241114_070456-2ltc0932/files/model-best/assets\n"
     ]
    },
    {
     "name": "stderr",
     "output_type": "stream",
     "text": [
      "\u001b[34m\u001b[1mwandb\u001b[0m: Adding directory to artifact (/aiffel/aiffel/wandb/run-20241114_070456-2ltc0932/files/model-best)... Done. 0.0s\n"
     ]
    },
    {
     "name": "stdout",
     "output_type": "stream",
     "text": [
      "Epoch 2/8\n",
      "1875/1875 [==============================] - 5s 3ms/step - loss: 2.3088 - accuracy: 0.1037 - val_loss: 2.3054 - val_accuracy: 0.0994\n",
      "INFO:tensorflow:Assets written to: /aiffel/aiffel/wandb/run-20241114_070456-2ltc0932/files/model-best/assets\n"
     ]
    },
    {
     "name": "stderr",
     "output_type": "stream",
     "text": [
      "\u001b[34m\u001b[1mwandb\u001b[0m: Adding directory to artifact (/aiffel/aiffel/wandb/run-20241114_070456-2ltc0932/files/model-best)... Done. 0.0s\n"
     ]
    },
    {
     "name": "stdout",
     "output_type": "stream",
     "text": [
      "Epoch 3/8\n",
      "1875/1875 [==============================] - 5s 3ms/step - loss: 2.3090 - accuracy: 0.1046 - val_loss: 2.3110 - val_accuracy: 0.1030\n",
      "Epoch 4/8\n",
      "1875/1875 [==============================] - 5s 3ms/step - loss: 2.3102 - accuracy: 0.1030 - val_loss: 2.3019 - val_accuracy: 0.1130\n",
      "INFO:tensorflow:Assets written to: /aiffel/aiffel/wandb/run-20241114_070456-2ltc0932/files/model-best/assets\n"
     ]
    },
    {
     "name": "stderr",
     "output_type": "stream",
     "text": [
      "\u001b[34m\u001b[1mwandb\u001b[0m: Adding directory to artifact (/aiffel/aiffel/wandb/run-20241114_070456-2ltc0932/files/model-best)... Done. 0.0s\n"
     ]
    },
    {
     "name": "stdout",
     "output_type": "stream",
     "text": [
      "Epoch 5/8\n",
      "1875/1875 [==============================] - 5s 3ms/step - loss: 2.3098 - accuracy: 0.1012 - val_loss: 2.3079 - val_accuracy: 0.1130\n",
      "Epoch 6/8\n",
      "1875/1875 [==============================] - 5s 3ms/step - loss: 2.3100 - accuracy: 0.1072 - val_loss: 2.3091 - val_accuracy: 0.0994\n",
      "Epoch 7/8\n",
      "1875/1875 [==============================] - 5s 3ms/step - loss: 2.3100 - accuracy: 0.1034 - val_loss: 2.3059 - val_accuracy: 0.1002\n",
      "Epoch 8/8\n",
      "1875/1875 [==============================] - 5s 3ms/step - loss: 2.3099 - accuracy: 0.1023 - val_loss: 2.3075 - val_accuracy: 0.1008\n",
      "157/157 - 0s - loss: 2.3083 - accuracy: 0.1056\n"
     ]
    },
    {
     "data": {
      "application/vnd.jupyter.widget-view+json": {
       "model_id": "",
       "version_major": 2,
       "version_minor": 0
      },
      "text/plain": [
       "VBox(children=(Label(value='1.929 MB of 1.929 MB uploaded (0.029 MB deduped)\\r'), FloatProgress(value=1.0, max…"
      ]
     },
     "metadata": {},
     "output_type": "display_data"
    },
    {
     "data": {
      "text/html": [
       "W&B sync reduced upload amount by 1.5%             "
      ],
      "text/plain": [
       "<IPython.core.display.HTML object>"
      ]
     },
     "metadata": {},
     "output_type": "display_data"
    },
    {
     "data": {
      "text/html": [
       "<style>\n",
       "    table.wandb td:nth-child(1) { padding: 0 10px; text-align: left ; width: auto;} td:nth-child(2) {text-align: left ; width: 100%}\n",
       "    .wandb-row { display: flex; flex-direction: row; flex-wrap: wrap; justify-content: flex-start; width: 100% }\n",
       "    .wandb-col { display: flex; flex-direction: column; flex-basis: 100%; flex: 1; padding: 10px; }\n",
       "    </style>\n",
       "<div class=\"wandb-row\"><div class=\"wandb-col\"><h3>Run history:</h3><br/><table class=\"wandb\"><tr><td>Test Accuracy Rate: </td><td>▁</td></tr><tr><td>Test Error Rate: </td><td>▁</td></tr><tr><td>accuracy</td><td>▄▄▅▃▁█▃▂</td></tr><tr><td>epoch</td><td>▁▂▃▄▅▆▇█</td></tr><tr><td>loss</td><td>█▁▁▁▁▁▁▁</td></tr><tr><td>val_accuracy</td><td>▁▁▃██▁▁▂</td></tr><tr><td>val_loss</td><td>▅▄█▁▆▇▄▅</td></tr></table><br/></div><div class=\"wandb-col\"><h3>Run summary:</h3><br/><table class=\"wandb\"><tr><td>Test Accuracy Rate: </td><td>10.56</td></tr><tr><td>Test Error Rate: </td><td>89.44</td></tr><tr><td>accuracy</td><td>0.1023</td></tr><tr><td>best_epoch</td><td>3</td></tr><tr><td>best_val_loss</td><td>2.30193</td></tr><tr><td>epoch</td><td>7</td></tr><tr><td>loss</td><td>2.30991</td></tr><tr><td>val_accuracy</td><td>0.1008</td></tr><tr><td>val_loss</td><td>2.30746</td></tr></table><br/></div></div>"
      ],
      "text/plain": [
       "<IPython.core.display.HTML object>"
      ]
     },
     "metadata": {},
     "output_type": "display_data"
    },
    {
     "data": {
      "text/html": [
       " View run <strong style=\"color:#cdcd00\">hardy-sweep-9</strong> at: <a href='https://wandb.ai/wisdom-jihyekim-aiffel/jellyfish-trial/runs/2ltc0932' target=\"_blank\">https://wandb.ai/wisdom-jihyekim-aiffel/jellyfish-trial/runs/2ltc0932</a><br/>Synced 5 W&B file(s), 81 media file(s), 12 artifact file(s) and 1 other file(s)"
      ],
      "text/plain": [
       "<IPython.core.display.HTML object>"
      ]
     },
     "metadata": {},
     "output_type": "display_data"
    },
    {
     "data": {
      "text/html": [
       "Find logs at: <code>./wandb/run-20241114_070456-2ltc0932/logs</code>"
      ],
      "text/plain": [
       "<IPython.core.display.HTML object>"
      ]
     },
     "metadata": {},
     "output_type": "display_data"
    },
    {
     "name": "stderr",
     "output_type": "stream",
     "text": [
      "\u001b[34m\u001b[1mwandb\u001b[0m: Agent Starting Run: lhy0d46u with config:\n",
      "\u001b[34m\u001b[1mwandb\u001b[0m: \tepoch: 7\n",
      "\u001b[34m\u001b[1mwandb\u001b[0m: \tlearning_rate: 0.016038679032714977\n"
     ]
    },
    {
     "data": {
      "text/html": [
       "wandb version 0.18.7 is available!  To upgrade, please run:\n",
       " $ pip install wandb --upgrade"
      ],
      "text/plain": [
       "<IPython.core.display.HTML object>"
      ]
     },
     "metadata": {},
     "output_type": "display_data"
    },
    {
     "data": {
      "text/html": [
       "Tracking run with wandb version 0.16.0"
      ],
      "text/plain": [
       "<IPython.core.display.HTML object>"
      ]
     },
     "metadata": {},
     "output_type": "display_data"
    },
    {
     "data": {
      "text/html": [
       "Run data is saved locally in <code>/aiffel/aiffel/wandb/run-20241114_070556-lhy0d46u</code>"
      ],
      "text/plain": [
       "<IPython.core.display.HTML object>"
      ]
     },
     "metadata": {},
     "output_type": "display_data"
    },
    {
     "data": {
      "text/html": [
       "Syncing run <strong><a href='https://wandb.ai/wisdom-jihyekim-aiffel/jellyfish-trial/runs/lhy0d46u' target=\"_blank\">ruby-sweep-10</a></strong> to <a href='https://wandb.ai/wisdom-jihyekim-aiffel/jellyfish-trial' target=\"_blank\">Weights & Biases</a> (<a href='https://wandb.me/run' target=\"_blank\">docs</a>)<br/>Sweep page: <a href='https://wandb.ai/wisdom-jihyekim-aiffel/jellyfish-trial/sweeps/hrxj5lw3' target=\"_blank\">https://wandb.ai/wisdom-jihyekim-aiffel/jellyfish-trial/sweeps/hrxj5lw3</a>"
      ],
      "text/plain": [
       "<IPython.core.display.HTML object>"
      ]
     },
     "metadata": {},
     "output_type": "display_data"
    },
    {
     "data": {
      "text/html": [
       " View project at <a href='https://wandb.ai/wisdom-jihyekim-aiffel/jellyfish-trial' target=\"_blank\">https://wandb.ai/wisdom-jihyekim-aiffel/jellyfish-trial</a>"
      ],
      "text/plain": [
       "<IPython.core.display.HTML object>"
      ]
     },
     "metadata": {},
     "output_type": "display_data"
    },
    {
     "data": {
      "text/html": [
       " View sweep at <a href='https://wandb.ai/wisdom-jihyekim-aiffel/jellyfish-trial/sweeps/hrxj5lw3' target=\"_blank\">https://wandb.ai/wisdom-jihyekim-aiffel/jellyfish-trial/sweeps/hrxj5lw3</a>"
      ],
      "text/plain": [
       "<IPython.core.display.HTML object>"
      ]
     },
     "metadata": {},
     "output_type": "display_data"
    },
    {
     "data": {
      "text/html": [
       " View run at <a href='https://wandb.ai/wisdom-jihyekim-aiffel/jellyfish-trial/runs/lhy0d46u' target=\"_blank\">https://wandb.ai/wisdom-jihyekim-aiffel/jellyfish-trial/runs/lhy0d46u</a>"
      ],
      "text/plain": [
       "<IPython.core.display.HTML object>"
      ]
     },
     "metadata": {},
     "output_type": "display_data"
    },
    {
     "name": "stdout",
     "output_type": "stream",
     "text": [
      "Epoch 1/7\n",
      "1875/1875 [==============================] - 6s 3ms/step - loss: 0.1644 - accuracy: 0.9501 - val_loss: 0.1065 - val_accuracy: 0.9678\n",
      "INFO:tensorflow:Assets written to: /aiffel/aiffel/wandb/run-20241114_070556-lhy0d46u/files/model-best/assets\n"
     ]
    },
    {
     "name": "stderr",
     "output_type": "stream",
     "text": [
      "\u001b[34m\u001b[1mwandb\u001b[0m: Adding directory to artifact (/aiffel/aiffel/wandb/run-20241114_070556-lhy0d46u/files/model-best)... Done. 0.0s\n"
     ]
    },
    {
     "name": "stdout",
     "output_type": "stream",
     "text": [
      "Epoch 2/7\n",
      "1875/1875 [==============================] - 5s 3ms/step - loss: 0.1123 - accuracy: 0.9683 - val_loss: 0.0901 - val_accuracy: 0.9734\n",
      "INFO:tensorflow:Assets written to: /aiffel/aiffel/wandb/run-20241114_070556-lhy0d46u/files/model-best/assets\n"
     ]
    },
    {
     "name": "stderr",
     "output_type": "stream",
     "text": [
      "\u001b[34m\u001b[1mwandb\u001b[0m: Adding directory to artifact (/aiffel/aiffel/wandb/run-20241114_070556-lhy0d46u/files/model-best)... Done. 0.0s\n"
     ]
    },
    {
     "name": "stdout",
     "output_type": "stream",
     "text": [
      "Epoch 3/7\n",
      "1875/1875 [==============================] - 5s 3ms/step - loss: 0.1048 - accuracy: 0.9713 - val_loss: 0.0980 - val_accuracy: 0.9732\n",
      "Epoch 4/7\n",
      "1875/1875 [==============================] - 5s 3ms/step - loss: 0.1053 - accuracy: 0.9728 - val_loss: 0.0916 - val_accuracy: 0.9748\n",
      "Epoch 5/7\n",
      "1875/1875 [==============================] - 5s 3ms/step - loss: 0.0991 - accuracy: 0.9740 - val_loss: 0.0811 - val_accuracy: 0.9782\n",
      "INFO:tensorflow:Assets written to: /aiffel/aiffel/wandb/run-20241114_070556-lhy0d46u/files/model-best/assets\n"
     ]
    },
    {
     "name": "stderr",
     "output_type": "stream",
     "text": [
      "\u001b[34m\u001b[1mwandb\u001b[0m: Adding directory to artifact (/aiffel/aiffel/wandb/run-20241114_070556-lhy0d46u/files/model-best)... Done. 0.0s\n"
     ]
    },
    {
     "name": "stdout",
     "output_type": "stream",
     "text": [
      "Epoch 6/7\n",
      "1875/1875 [==============================] - 5s 3ms/step - loss: 0.0929 - accuracy: 0.9751 - val_loss: 0.0822 - val_accuracy: 0.9794\n",
      "Epoch 7/7\n",
      "1875/1875 [==============================] - 5s 3ms/step - loss: 0.1013 - accuracy: 0.9743 - val_loss: 0.1155 - val_accuracy: 0.9710\n",
      "157/157 - 0s - loss: 0.1117 - accuracy: 0.9712\n"
     ]
    },
    {
     "data": {
      "application/vnd.jupyter.widget-view+json": {
       "model_id": "",
       "version_major": 2,
       "version_minor": 0
      },
      "text/plain": [
       "VBox(children=(Label(value='1.927 MB of 1.927 MB uploaded (0.029 MB deduped)\\r'), FloatProgress(value=1.0, max…"
      ]
     },
     "metadata": {},
     "output_type": "display_data"
    },
    {
     "data": {
      "text/html": [
       "W&B sync reduced upload amount by 1.5%             "
      ],
      "text/plain": [
       "<IPython.core.display.HTML object>"
      ]
     },
     "metadata": {},
     "output_type": "display_data"
    },
    {
     "data": {
      "text/html": [
       "<style>\n",
       "    table.wandb td:nth-child(1) { padding: 0 10px; text-align: left ; width: auto;} td:nth-child(2) {text-align: left ; width: 100%}\n",
       "    .wandb-row { display: flex; flex-direction: row; flex-wrap: wrap; justify-content: flex-start; width: 100% }\n",
       "    .wandb-col { display: flex; flex-direction: column; flex-basis: 100%; flex: 1; padding: 10px; }\n",
       "    </style>\n",
       "<div class=\"wandb-row\"><div class=\"wandb-col\"><h3>Run history:</h3><br/><table class=\"wandb\"><tr><td>Test Accuracy Rate: </td><td>▁</td></tr><tr><td>Test Error Rate: </td><td>▁</td></tr><tr><td>accuracy</td><td>▁▆▇▇███</td></tr><tr><td>epoch</td><td>▁▂▃▅▆▇█</td></tr><tr><td>loss</td><td>█▃▂▂▂▁▂</td></tr><tr><td>val_accuracy</td><td>▁▄▄▅▇█▃</td></tr><tr><td>val_loss</td><td>▆▃▄▃▁▁█</td></tr></table><br/></div><div class=\"wandb-col\"><h3>Run summary:</h3><br/><table class=\"wandb\"><tr><td>Test Accuracy Rate: </td><td>97.12</td></tr><tr><td>Test Error Rate: </td><td>2.88</td></tr><tr><td>accuracy</td><td>0.97433</td></tr><tr><td>best_epoch</td><td>4</td></tr><tr><td>best_val_loss</td><td>0.08111</td></tr><tr><td>epoch</td><td>6</td></tr><tr><td>loss</td><td>0.1013</td></tr><tr><td>val_accuracy</td><td>0.971</td></tr><tr><td>val_loss</td><td>0.1155</td></tr></table><br/></div></div>"
      ],
      "text/plain": [
       "<IPython.core.display.HTML object>"
      ]
     },
     "metadata": {},
     "output_type": "display_data"
    },
    {
     "data": {
      "text/html": [
       " View run <strong style=\"color:#cdcd00\">ruby-sweep-10</strong> at: <a href='https://wandb.ai/wisdom-jihyekim-aiffel/jellyfish-trial/runs/lhy0d46u' target=\"_blank\">https://wandb.ai/wisdom-jihyekim-aiffel/jellyfish-trial/runs/lhy0d46u</a><br/>Synced 5 W&B file(s), 71 media file(s), 12 artifact file(s) and 1 other file(s)"
      ],
      "text/plain": [
       "<IPython.core.display.HTML object>"
      ]
     },
     "metadata": {},
     "output_type": "display_data"
    },
    {
     "data": {
      "text/html": [
       "Find logs at: <code>./wandb/run-20241114_070556-lhy0d46u/logs</code>"
      ],
      "text/plain": [
       "<IPython.core.display.HTML object>"
      ]
     },
     "metadata": {},
     "output_type": "display_data"
    }
   ],
   "source": [
    "# entity와 project에 본인의 아이디와 프로젝트명을 입력하세요\n",
    "\n",
    "sweep_id = wandb.sweep(sweep_config,\n",
    "                       entity = \"wisdom-jihyekim-aiffel\",\n",
    "                       project = \"jellyfish-trial\")\n",
    "\n",
    "# run the sweep\n",
    "wandb.agent(sweep_id,\n",
    "            function=train,\n",
    "            count=10)"
   ]
  }
 ],
 "metadata": {
  "kernelspec": {
   "display_name": "Python 3 (ipykernel)",
   "language": "python",
   "name": "python3"
  },
  "language_info": {
   "codemirror_mode": {
    "name": "ipython",
    "version": 3
   },
   "file_extension": ".py",
   "mimetype": "text/x-python",
   "name": "python",
   "nbconvert_exporter": "python",
   "pygments_lexer": "ipython3",
   "version": "3.9.7"
  }
 },
 "nbformat": 4,
 "nbformat_minor": 5
}
