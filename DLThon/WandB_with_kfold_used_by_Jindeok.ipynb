{
 "cells": [
  {
   "cell_type": "code",
   "execution_count": 119,
   "id": "970f9bf4",
   "metadata": {},
   "outputs": [],
   "source": [
    "import pandas as pd\n",
    "import tensorflow as tf\n",
    "from tensorflow import keras\n",
    "from sklearn.model_selection import train_test_split\n",
    "import wandb\n",
    "from wandb.keras import WandbCallback\n",
    "from sklearn.preprocessing import LabelEncoder\n",
    "from PIL import Image \n",
    "import glob\n",
    "import os"
   ]
  },
  {
   "cell_type": "code",
   "execution_count": 120,
   "id": "005cc0ed",
   "metadata": {},
   "outputs": [],
   "source": [
    "import os\n",
    "import cv2\n",
    "import numpy as np\n",
    "import pandas as pd\n",
    "\n",
    "# #Change this value based on your preferences\n",
    "train_dir = \"./jellyfish/Train_Test_Valid/Train\"\n",
    "train_dataframe = pd.DataFrame(columns=[\"path\", \"class\"])"
   ]
  },
  {
   "cell_type": "code",
   "execution_count": 121,
   "id": "1ec66b9c",
   "metadata": {},
   "outputs": [],
   "source": [
    "for class_name in os.listdir(train_dir):\n",
    "  class_dir = os.path.join(train_dir, class_name)\n",
    "  for image_name in os.listdir(class_dir):\n",
    "    image_path = os.path.join(class_dir, image_name)\n",
    "    train_dataframe.loc[len(train_dataframe.index)] = [image_path, class_name]"
   ]
  },
  {
   "cell_type": "code",
   "execution_count": 122,
   "id": "dc62f92a",
   "metadata": {},
   "outputs": [
    {
     "data": {
      "text/html": [
       "<div>\n",
       "<style scoped>\n",
       "    .dataframe tbody tr th:only-of-type {\n",
       "        vertical-align: middle;\n",
       "    }\n",
       "\n",
       "    .dataframe tbody tr th {\n",
       "        vertical-align: top;\n",
       "    }\n",
       "\n",
       "    .dataframe thead th {\n",
       "        text-align: right;\n",
       "    }\n",
       "</style>\n",
       "<table border=\"1\" class=\"dataframe\">\n",
       "  <thead>\n",
       "    <tr style=\"text-align: right;\">\n",
       "      <th></th>\n",
       "      <th>path</th>\n",
       "      <th>class</th>\n",
       "    </tr>\n",
       "  </thead>\n",
       "  <tbody>\n",
       "    <tr>\n",
       "      <th>0</th>\n",
       "      <td>./jellyfish/Train_Test_Valid/Train/compass_jel...</td>\n",
       "      <td>compass_jellyfish</td>\n",
       "    </tr>\n",
       "    <tr>\n",
       "      <th>1</th>\n",
       "      <td>./jellyfish/Train_Test_Valid/Train/compass_jel...</td>\n",
       "      <td>compass_jellyfish</td>\n",
       "    </tr>\n",
       "    <tr>\n",
       "      <th>2</th>\n",
       "      <td>./jellyfish/Train_Test_Valid/Train/compass_jel...</td>\n",
       "      <td>compass_jellyfish</td>\n",
       "    </tr>\n",
       "    <tr>\n",
       "      <th>3</th>\n",
       "      <td>./jellyfish/Train_Test_Valid/Train/compass_jel...</td>\n",
       "      <td>compass_jellyfish</td>\n",
       "    </tr>\n",
       "    <tr>\n",
       "      <th>4</th>\n",
       "      <td>./jellyfish/Train_Test_Valid/Train/compass_jel...</td>\n",
       "      <td>compass_jellyfish</td>\n",
       "    </tr>\n",
       "    <tr>\n",
       "      <th>...</th>\n",
       "      <td>...</td>\n",
       "      <td>...</td>\n",
       "    </tr>\n",
       "    <tr>\n",
       "      <th>895</th>\n",
       "      <td>./jellyfish/Train_Test_Valid/Train/blue_jellyf...</td>\n",
       "      <td>blue_jellyfish</td>\n",
       "    </tr>\n",
       "    <tr>\n",
       "      <th>896</th>\n",
       "      <td>./jellyfish/Train_Test_Valid/Train/blue_jellyf...</td>\n",
       "      <td>blue_jellyfish</td>\n",
       "    </tr>\n",
       "    <tr>\n",
       "      <th>897</th>\n",
       "      <td>./jellyfish/Train_Test_Valid/Train/blue_jellyf...</td>\n",
       "      <td>blue_jellyfish</td>\n",
       "    </tr>\n",
       "    <tr>\n",
       "      <th>898</th>\n",
       "      <td>./jellyfish/Train_Test_Valid/Train/blue_jellyf...</td>\n",
       "      <td>blue_jellyfish</td>\n",
       "    </tr>\n",
       "    <tr>\n",
       "      <th>899</th>\n",
       "      <td>./jellyfish/Train_Test_Valid/Train/blue_jellyf...</td>\n",
       "      <td>blue_jellyfish</td>\n",
       "    </tr>\n",
       "  </tbody>\n",
       "</table>\n",
       "<p>900 rows × 2 columns</p>\n",
       "</div>"
      ],
      "text/plain": [
       "                                                  path              class\n",
       "0    ./jellyfish/Train_Test_Valid/Train/compass_jel...  compass_jellyfish\n",
       "1    ./jellyfish/Train_Test_Valid/Train/compass_jel...  compass_jellyfish\n",
       "2    ./jellyfish/Train_Test_Valid/Train/compass_jel...  compass_jellyfish\n",
       "3    ./jellyfish/Train_Test_Valid/Train/compass_jel...  compass_jellyfish\n",
       "4    ./jellyfish/Train_Test_Valid/Train/compass_jel...  compass_jellyfish\n",
       "..                                                 ...                ...\n",
       "895  ./jellyfish/Train_Test_Valid/Train/blue_jellyf...     blue_jellyfish\n",
       "896  ./jellyfish/Train_Test_Valid/Train/blue_jellyf...     blue_jellyfish\n",
       "897  ./jellyfish/Train_Test_Valid/Train/blue_jellyf...     blue_jellyfish\n",
       "898  ./jellyfish/Train_Test_Valid/Train/blue_jellyf...     blue_jellyfish\n",
       "899  ./jellyfish/Train_Test_Valid/Train/blue_jellyf...     blue_jellyfish\n",
       "\n",
       "[900 rows x 2 columns]"
      ]
     },
     "execution_count": 122,
     "metadata": {},
     "output_type": "execute_result"
    }
   ],
   "source": [
    "train_dataframe"
   ]
  },
  {
   "cell_type": "code",
   "execution_count": 123,
   "id": "ba1761d0",
   "metadata": {},
   "outputs": [],
   "source": [
    "xdim = 224\n",
    "ydim = 224"
   ]
  },
  {
   "cell_type": "code",
   "execution_count": 124,
   "id": "cae822fd",
   "metadata": {},
   "outputs": [],
   "source": [
    "from tensorflow.keras.preprocessing.image import ImageDataGenerator\n",
    "\n",
    "main_datagen=ImageDataGenerator(rescale=1./255., # 정규화 \n",
    "                               horizontal_flip = True, # 수평으로 뒤집기\n",
    "                                vertical_flip = True, # 수직으로 뒤집기 \n",
    "                               rotation_range = 5) # +5도 또는 -5도 범위 내에서 회전 "
   ]
  },
  {
   "cell_type": "code",
   "execution_count": 125,
   "id": "4890b2e8",
   "metadata": {},
   "outputs": [],
   "source": [
    "# 데이터프레임의 \"path\"라는 열의 데이터를 NumPy 배열로 변환하여 X에 담기 \n",
    "X = np.array(train_dataframe[\"path\"])"
   ]
  },
  {
   "cell_type": "code",
   "execution_count": 126,
   "id": "2d592f82",
   "metadata": {},
   "outputs": [
    {
     "name": "stderr",
     "output_type": "stream",
     "text": [
      "\u001b[34m\u001b[1mwandb\u001b[0m: \u001b[33mWARNING\u001b[0m If you're specifying your api key in code, ensure this code is not shared publicly.\n",
      "\u001b[34m\u001b[1mwandb\u001b[0m: \u001b[33mWARNING\u001b[0m Consider setting the WANDB_API_KEY environment variable, or running `wandb login` from the command line.\n",
      "\u001b[34m\u001b[1mwandb\u001b[0m: Appending key for api.wandb.ai to your netrc file: /aiffel/.netrc\n"
     ]
    },
    {
     "data": {
      "text/plain": [
       "True"
      ]
     },
     "execution_count": 126,
     "metadata": {},
     "output_type": "execute_result"
    }
   ],
   "source": [
    "wandb.login(key = \"c4e33984a0f1d0c7e209f455add7b4da4718e070\")\n",
    "\n",
    "#import os\n",
    "#import wandb\n",
    "\n",
    "#wandb.login(key=os.getenv(\"WANDB_API_KEY\"))"
   ]
  },
  {
   "cell_type": "code",
   "execution_count": 127,
   "id": "a80c7657",
   "metadata": {},
   "outputs": [],
   "source": [
    "sweep_config = {\n",
    "    \"name\": \"sweep_test_core\",\n",
    "    \"metric\": {\"name\": \"val_loss\", \"goal\": \"minimize\"},\n",
    "    \"method\": \"random\",\n",
    "    \"parameters\": {\n",
    "        \"learning_rate\" : {\n",
    "            \"min\" : 0.001,\n",
    "            \"max\" : 0.1\n",
    "            },\n",
    "        \"epoch\" : {\n",
    "            \"distribution\" : \"int_uniform\",\n",
    "            \"min\" : 5,\n",
    "            \"max\" : 10\n",
    "            }\n",
    "                    \n",
    "        }\n",
    "    }"
   ]
  },
  {
   "cell_type": "code",
   "execution_count": 128,
   "id": "e22a5a0c",
   "metadata": {},
   "outputs": [],
   "source": [
    "from sklearn.model_selection import KFold\n",
    "import tensorflow as tf\n",
    "import matplotlib.pyplot as plt\n",
    "import numpy as np\n",
    "from tensorflow.keras.callbacks import EarlyStopping\n",
    "\n",
    "def train_with_kfold():\n",
    "    \n",
    "    default_config = {\n",
    "            #\"input\" : (28,28,1),\n",
    "            #\"filter\" : 16,\n",
    "            #\"kernel\" : (3,3),\n",
    "            #\"activation\" : \"relu\",\n",
    "            \"learning_rate\" : 0.005,\n",
    "            #\"optimizer\" : \"adam\",\n",
    "            #\"loss\" : \"sparse_categorical_crossentropy\",\n",
    "            #\"metrics\" : [\"accuracy\"],\n",
    "            \"epoch\" : 5,\n",
    "            \"batch_size\" : 32\n",
    "        }\n",
    "    \n",
    "    wandb.init(config = default_config)\n",
    "    config = wandb.config\n",
    "    \n",
    "    \n",
    "    kf = KFold(n_splits=5, random_state=1, shuffle=True)\n",
    "\n",
    "    cvScores = []\n",
    "    i = 1\n",
    "\n",
    "    labels = list(train_dataframe[\"class\"].unique())  # 고정된 클래스 레이블 사용\n",
    "\n",
    "    for train_index, test_index in kf.split(X):\n",
    "        print(f\"Fold: {i} ==================================================================\")\n",
    "    \n",
    "        # 폴드 내 훈련 및 테스트 데이터 설정\n",
    "        train_data = X[train_index]\n",
    "        test_data = X[test_index]\n",
    "        train_dataframe_inside = train_dataframe.loc[train_dataframe[\"path\"].isin(list(train_data))]\n",
    "        validation_dataframe = train_dataframe.loc[train_dataframe[\"path\"].isin(list(test_data))]\n",
    "    \n",
    "        # labels = list(train_dataframe_inside[\"class\"].unique())\n",
    "    \n",
    "        if train_dataframe_inside.empty or validation_dataframe.empty:\n",
    "            print(f\"Empty data detected in fold {i}. Skipping.\")\n",
    "            continue\n",
    "    \n",
    "    \n",
    "        # 데이터 제너레이터 설정\n",
    "        train_generator = main_datagen.flow_from_dataframe(\n",
    "            dataframe=train_dataframe_inside,\n",
    "            #directory=None,\n",
    "            x_col=\"path\",\n",
    "            y_col=\"class\",\n",
    "            class_mode=\"categorical\",\n",
    "            classes=labels,\n",
    "            target_size=(xdim, ydim),\n",
    "            color_mode=\"rgb\",\n",
    "            batch_size=32\n",
    "        )\n",
    "    \n",
    "        validation_generator = main_datagen.flow_from_dataframe(\n",
    "            dataframe=validation_dataframe,\n",
    "            #directory=None,\n",
    "            x_col=\"path\",\n",
    "            y_col=\"class\",\n",
    "            class_mode=\"categorical\",\n",
    "            classes=labels,\n",
    "            target_size=(xdim, ydim),\n",
    "            color_mode=\"rgb\",\n",
    "            batch_size=32\n",
    "        )\n",
    "    \n",
    "        # 모델 정의\n",
    "        model = tf.keras.models.Sequential([\n",
    "            tf.keras.layers.Input(shape=(xdim, ydim, 3)),  # Input 레이어 추가\n",
    "            tf.keras.layers.Conv2D(32, (3,3), activation='relu', padding='same'),\n",
    "            tf.keras.layers.LayerNormalization(),\n",
    "            tf.keras.layers.MaxPooling2D((4,4), padding='same'),\n",
    "            tf.keras.layers.Conv2D(32, (3,3), activation='relu', padding='same'),\n",
    "            tf.keras.layers.LayerNormalization(),\n",
    "            tf.keras.layers.MaxPooling2D((4,4), padding='same'),\n",
    "            tf.keras.layers.Conv2D(32, (3,3), activation='relu', padding='same'),\n",
    "            tf.keras.layers.LayerNormalization(),\n",
    "            tf.keras.layers.MaxPooling2D((4,4), padding='same'),\n",
    "            tf.keras.layers.Flatten(),\n",
    "            tf.keras.layers.Dense(128, activation='relu'),\n",
    "            #tf.keras.layers.Dense(6, activation='softmax')\n",
    "            tf.keras.layers.Dense(len(labels), activation='softmax')\n",
    "        ])\n",
    "    \n",
    "        model.compile(\n",
    "            optimizer='adam',\n",
    "            loss='categorical_crossentropy',\n",
    "            metrics=['accuracy']\n",
    "        )\n",
    "    \n",
    "        # 조기 종료 콜백 설정\n",
    "        early_stopping = EarlyStopping(\n",
    "            monitor='val_accuracy',         # 평가할 지표 (val_loss를 사용할 수도 있음)\n",
    "            patience=10,                    # 10 에포크 동안 개선이 없으면 학습 중단\n",
    "            restore_best_weights=True       # 가장 좋은 가중치를 복원\n",
    "        )\n",
    "    \n",
    "    \n",
    "    \n",
    "         # W&B 설정\n",
    "        wandb.init(\n",
    "            project=\"WandB_with_kfold_used_by_Jindeok\",\n",
    "            name=f\"fold-{i}\",\n",
    "            reinit=True  # 폴드별로 새 W&B 실행을 생성\n",
    "        )\n",
    "       \n",
    "    \n",
    "        # wandb.config 설정\n",
    "        #wandb.config = {\n",
    "            #\"epoch\": 10,  # 에포크 수\n",
    "            #\"batch_size\": 32,  # 배치 크기\n",
    "            #\"learning_rate\": 0.001  # 학습률\n",
    "        #}\n",
    "    \n",
    "    \n",
    "        # 모델 학습\n",
    "        model_history = model.fit(\n",
    "            train_generator,\n",
    "            # epochs=config.epoch,\n",
    "            epochs=wandb.config.epoch,\n",
    "            validation_data=validation_generator,\n",
    "            callbacks=[early_stopping, WandbCallback()]  # 조기 종료 콜백 추가, W&B 콜백 추가\n",
    "        )\n",
    "    \n",
    "        # 학습 결과 시각화\n",
    "        #plt.figure(figsize=(10,5))\n",
    "        #plt.plot(model_history.history['accuracy'], label='Train Accuracy')\n",
    "        #plt.plot(model_history.history['val_accuracy'], label='Validation Accuracy')\n",
    "        #plt.xlabel('Epoch')\n",
    "        #plt.ylabel('Accuracy')\n",
    "        #plt.ylim([0.5, 1])\n",
    "        #plt.legend(loc='lower right')\n",
    "        #plt.title(f'Fold {i} - Training and Validation Accuracy')\n",
    "        #plt.show()\n",
    "\n",
    "        # 폴드 성능 평가\n",
    "        scores = model.evaluate(validation_generator)\n",
    "        cvScores.append(scores[1] * 100)\n",
    "        print(f\"Validation Accuracy for fold {i}: {scores[1] * 100:.2f}%\")\n",
    "    \n",
    "        # i += 1\n",
    "    \n",
    "    \n",
    "        # W&B 실행 종료\n",
    "        wandb.finish()\n",
    "\n",
    "        i += 1\n",
    "    "
   ]
  },
  {
   "cell_type": "code",
   "execution_count": 129,
   "id": "5cc87e9c",
   "metadata": {},
   "outputs": [
    {
     "name": "stdout",
     "output_type": "stream",
     "text": [
      "Create sweep with ID: zhdriy11\n",
      "Sweep URL: https://wandb.ai/wisdom-jihyekim-aiffel/WandB_with_kfold_used_by_Jindeok/sweeps/zhdriy11\n"
     ]
    },
    {
     "name": "stderr",
     "output_type": "stream",
     "text": [
      "\u001b[34m\u001b[1mwandb\u001b[0m: Agent Starting Run: gd1pom6w with config:\n",
      "\u001b[34m\u001b[1mwandb\u001b[0m: \tepoch: 5\n",
      "\u001b[34m\u001b[1mwandb\u001b[0m: \tlearning_rate: 0.04864502362294224\n"
     ]
    },
    {
     "data": {
      "text/html": [
       "wandb version 0.18.7 is available!  To upgrade, please run:\n",
       " $ pip install wandb --upgrade"
      ],
      "text/plain": [
       "<IPython.core.display.HTML object>"
      ]
     },
     "metadata": {},
     "output_type": "display_data"
    },
    {
     "data": {
      "text/html": [
       "Tracking run with wandb version 0.16.0"
      ],
      "text/plain": [
       "<IPython.core.display.HTML object>"
      ]
     },
     "metadata": {},
     "output_type": "display_data"
    },
    {
     "data": {
      "text/html": [
       "Run data is saved locally in <code>/aiffel/aiffel/wandb/run-20241116_203108-gd1pom6w</code>"
      ],
      "text/plain": [
       "<IPython.core.display.HTML object>"
      ]
     },
     "metadata": {},
     "output_type": "display_data"
    },
    {
     "data": {
      "text/html": [
       "Syncing run <strong><a href='https://wandb.ai/wisdom-jihyekim-aiffel/WandB_with_kfold_used_by_Jindeok/runs/gd1pom6w' target=\"_blank\">dark-sweep-1</a></strong> to <a href='https://wandb.ai/wisdom-jihyekim-aiffel/WandB_with_kfold_used_by_Jindeok' target=\"_blank\">Weights & Biases</a> (<a href='https://wandb.me/run' target=\"_blank\">docs</a>)<br/>Sweep page: <a href='https://wandb.ai/wisdom-jihyekim-aiffel/WandB_with_kfold_used_by_Jindeok/sweeps/zhdriy11' target=\"_blank\">https://wandb.ai/wisdom-jihyekim-aiffel/WandB_with_kfold_used_by_Jindeok/sweeps/zhdriy11</a>"
      ],
      "text/plain": [
       "<IPython.core.display.HTML object>"
      ]
     },
     "metadata": {},
     "output_type": "display_data"
    },
    {
     "data": {
      "text/html": [
       " View project at <a href='https://wandb.ai/wisdom-jihyekim-aiffel/WandB_with_kfold_used_by_Jindeok' target=\"_blank\">https://wandb.ai/wisdom-jihyekim-aiffel/WandB_with_kfold_used_by_Jindeok</a>"
      ],
      "text/plain": [
       "<IPython.core.display.HTML object>"
      ]
     },
     "metadata": {},
     "output_type": "display_data"
    },
    {
     "data": {
      "text/html": [
       " View sweep at <a href='https://wandb.ai/wisdom-jihyekim-aiffel/WandB_with_kfold_used_by_Jindeok/sweeps/zhdriy11' target=\"_blank\">https://wandb.ai/wisdom-jihyekim-aiffel/WandB_with_kfold_used_by_Jindeok/sweeps/zhdriy11</a>"
      ],
      "text/plain": [
       "<IPython.core.display.HTML object>"
      ]
     },
     "metadata": {},
     "output_type": "display_data"
    },
    {
     "data": {
      "text/html": [
       " View run at <a href='https://wandb.ai/wisdom-jihyekim-aiffel/WandB_with_kfold_used_by_Jindeok/runs/gd1pom6w' target=\"_blank\">https://wandb.ai/wisdom-jihyekim-aiffel/WandB_with_kfold_used_by_Jindeok/runs/gd1pom6w</a>"
      ],
      "text/plain": [
       "<IPython.core.display.HTML object>"
      ]
     },
     "metadata": {},
     "output_type": "display_data"
    },
    {
     "name": "stderr",
     "output_type": "stream",
     "text": [
      "\u001b[34m\u001b[1mwandb\u001b[0m: \u001b[33mWARNING\u001b[0m Ignored wandb.init() arg project when running a sweep.\n"
     ]
    },
    {
     "name": "stdout",
     "output_type": "stream",
     "text": [
      "Fold: 1 ==================================================================\n",
      "Found 720 validated image filenames belonging to 6 classes.\n",
      "Found 180 validated image filenames belonging to 6 classes.\n"
     ]
    },
    {
     "data": {
      "text/html": [
       "Finishing last run (ID:gd1pom6w) before initializing another..."
      ],
      "text/plain": [
       "<IPython.core.display.HTML object>"
      ]
     },
     "metadata": {},
     "output_type": "display_data"
    },
    {
     "data": {
      "application/vnd.jupyter.widget-view+json": {
       "model_id": "",
       "version_major": 2,
       "version_minor": 0
      },
      "text/plain": [
       "VBox(children=(Label(value='0.001 MB of 0.001 MB uploaded\\r'), FloatProgress(value=1.0, max=1.0)))"
      ]
     },
     "metadata": {},
     "output_type": "display_data"
    },
    {
     "data": {
      "text/html": [
       " View run <strong style=\"color:#cdcd00\">dark-sweep-1</strong> at: <a href='https://wandb.ai/wisdom-jihyekim-aiffel/WandB_with_kfold_used_by_Jindeok/runs/gd1pom6w' target=\"_blank\">https://wandb.ai/wisdom-jihyekim-aiffel/WandB_with_kfold_used_by_Jindeok/runs/gd1pom6w</a><br/>Synced 5 W&B file(s), 0 media file(s), 0 artifact file(s) and 0 other file(s)"
      ],
      "text/plain": [
       "<IPython.core.display.HTML object>"
      ]
     },
     "metadata": {},
     "output_type": "display_data"
    },
    {
     "data": {
      "text/html": [
       "Find logs at: <code>./wandb/run-20241116_203108-gd1pom6w/logs</code>"
      ],
      "text/plain": [
       "<IPython.core.display.HTML object>"
      ]
     },
     "metadata": {},
     "output_type": "display_data"
    },
    {
     "data": {
      "text/html": [
       "Successfully finished last run (ID:gd1pom6w). Initializing new run:<br/>"
      ],
      "text/plain": [
       "<IPython.core.display.HTML object>"
      ]
     },
     "metadata": {},
     "output_type": "display_data"
    },
    {
     "data": {
      "application/vnd.jupyter.widget-view+json": {
       "model_id": "15910c2eab1940c3a5d4edf2988f7a81",
       "version_major": 2,
       "version_minor": 0
      },
      "text/plain": [
       "VBox(children=(Label(value='Waiting for wandb.init()...\\r'), FloatProgress(value=0.011112681288876856, max=1.0…"
      ]
     },
     "metadata": {},
     "output_type": "display_data"
    },
    {
     "data": {
      "text/html": [
       "wandb version 0.18.7 is available!  To upgrade, please run:\n",
       " $ pip install wandb --upgrade"
      ],
      "text/plain": [
       "<IPython.core.display.HTML object>"
      ]
     },
     "metadata": {},
     "output_type": "display_data"
    },
    {
     "data": {
      "text/html": [
       "Tracking run with wandb version 0.16.0"
      ],
      "text/plain": [
       "<IPython.core.display.HTML object>"
      ]
     },
     "metadata": {},
     "output_type": "display_data"
    },
    {
     "data": {
      "text/html": [
       "Run data is saved locally in <code>/aiffel/aiffel/wandb/run-20241116_203109-gd1pom6w</code>"
      ],
      "text/plain": [
       "<IPython.core.display.HTML object>"
      ]
     },
     "metadata": {},
     "output_type": "display_data"
    },
    {
     "data": {
      "text/html": [
       "Syncing run <strong><a href='https://wandb.ai/wisdom-jihyekim-aiffel/WandB_with_kfold_used_by_Jindeok/runs/gd1pom6w' target=\"_blank\">fold-1</a></strong> to <a href='https://wandb.ai/wisdom-jihyekim-aiffel/WandB_with_kfold_used_by_Jindeok' target=\"_blank\">Weights & Biases</a> (<a href='https://wandb.me/run' target=\"_blank\">docs</a>)<br/>Sweep page: <a href='https://wandb.ai/wisdom-jihyekim-aiffel/WandB_with_kfold_used_by_Jindeok/sweeps/zhdriy11' target=\"_blank\">https://wandb.ai/wisdom-jihyekim-aiffel/WandB_with_kfold_used_by_Jindeok/sweeps/zhdriy11</a>"
      ],
      "text/plain": [
       "<IPython.core.display.HTML object>"
      ]
     },
     "metadata": {},
     "output_type": "display_data"
    },
    {
     "data": {
      "text/html": [
       " View project at <a href='https://wandb.ai/wisdom-jihyekim-aiffel/WandB_with_kfold_used_by_Jindeok' target=\"_blank\">https://wandb.ai/wisdom-jihyekim-aiffel/WandB_with_kfold_used_by_Jindeok</a>"
      ],
      "text/plain": [
       "<IPython.core.display.HTML object>"
      ]
     },
     "metadata": {},
     "output_type": "display_data"
    },
    {
     "data": {
      "text/html": [
       " View sweep at <a href='https://wandb.ai/wisdom-jihyekim-aiffel/WandB_with_kfold_used_by_Jindeok/sweeps/zhdriy11' target=\"_blank\">https://wandb.ai/wisdom-jihyekim-aiffel/WandB_with_kfold_used_by_Jindeok/sweeps/zhdriy11</a>"
      ],
      "text/plain": [
       "<IPython.core.display.HTML object>"
      ]
     },
     "metadata": {},
     "output_type": "display_data"
    },
    {
     "data": {
      "text/html": [
       " View run at <a href='https://wandb.ai/wisdom-jihyekim-aiffel/WandB_with_kfold_used_by_Jindeok/runs/gd1pom6w' target=\"_blank\">https://wandb.ai/wisdom-jihyekim-aiffel/WandB_with_kfold_used_by_Jindeok/runs/gd1pom6w</a>"
      ],
      "text/plain": [
       "<IPython.core.display.HTML object>"
      ]
     },
     "metadata": {},
     "output_type": "display_data"
    },
    {
     "name": "stdout",
     "output_type": "stream",
     "text": [
      "Epoch 1/5\n",
      "23/23 [==============================] - 11s 429ms/step - loss: 1.8654 - accuracy: 0.2542 - val_loss: 1.6834 - val_accuracy: 0.2500\n",
      "INFO:tensorflow:Assets written to: /aiffel/aiffel/wandb/run-20241116_203109-gd1pom6w/files/model-best/assets\n"
     ]
    },
    {
     "name": "stderr",
     "output_type": "stream",
     "text": [
      "\u001b[34m\u001b[1mwandb\u001b[0m: Adding directory to artifact (/aiffel/aiffel/wandb/run-20241116_203109-gd1pom6w/files/model-best)... Done. 0.0s\n"
     ]
    },
    {
     "name": "stdout",
     "output_type": "stream",
     "text": [
      "Epoch 2/5\n",
      "23/23 [==============================] - 9s 403ms/step - loss: 1.5732 - accuracy: 0.3444 - val_loss: 1.5047 - val_accuracy: 0.3722\n",
      "INFO:tensorflow:Assets written to: /aiffel/aiffel/wandb/run-20241116_203109-gd1pom6w/files/model-best/assets\n"
     ]
    },
    {
     "name": "stderr",
     "output_type": "stream",
     "text": [
      "\u001b[34m\u001b[1mwandb\u001b[0m: Adding directory to artifact (/aiffel/aiffel/wandb/run-20241116_203109-gd1pom6w/files/model-best)... Done. 0.0s\n"
     ]
    },
    {
     "name": "stdout",
     "output_type": "stream",
     "text": [
      "Epoch 3/5\n",
      "23/23 [==============================] - 10s 404ms/step - loss: 1.4238 - accuracy: 0.4208 - val_loss: 1.4424 - val_accuracy: 0.4111\n",
      "INFO:tensorflow:Assets written to: /aiffel/aiffel/wandb/run-20241116_203109-gd1pom6w/files/model-best/assets\n"
     ]
    },
    {
     "name": "stderr",
     "output_type": "stream",
     "text": [
      "\u001b[34m\u001b[1mwandb\u001b[0m: Adding directory to artifact (/aiffel/aiffel/wandb/run-20241116_203109-gd1pom6w/files/model-best)... Done. 0.0s\n"
     ]
    },
    {
     "name": "stdout",
     "output_type": "stream",
     "text": [
      "Epoch 4/5\n",
      "23/23 [==============================] - 10s 406ms/step - loss: 1.2769 - accuracy: 0.4833 - val_loss: 1.4057 - val_accuracy: 0.4222\n",
      "INFO:tensorflow:Assets written to: /aiffel/aiffel/wandb/run-20241116_203109-gd1pom6w/files/model-best/assets\n"
     ]
    },
    {
     "name": "stderr",
     "output_type": "stream",
     "text": [
      "\u001b[34m\u001b[1mwandb\u001b[0m: Adding directory to artifact (/aiffel/aiffel/wandb/run-20241116_203109-gd1pom6w/files/model-best)... Done. 0.0s\n"
     ]
    },
    {
     "name": "stdout",
     "output_type": "stream",
     "text": [
      "Epoch 5/5\n",
      "23/23 [==============================] - 9s 402ms/step - loss: 1.1948 - accuracy: 0.5208 - val_loss: 1.2427 - val_accuracy: 0.5056\n",
      "INFO:tensorflow:Assets written to: /aiffel/aiffel/wandb/run-20241116_203109-gd1pom6w/files/model-best/assets\n"
     ]
    },
    {
     "name": "stderr",
     "output_type": "stream",
     "text": [
      "\u001b[34m\u001b[1mwandb\u001b[0m: Adding directory to artifact (/aiffel/aiffel/wandb/run-20241116_203109-gd1pom6w/files/model-best)... Done. 0.0s\n"
     ]
    },
    {
     "name": "stdout",
     "output_type": "stream",
     "text": [
      "6/6 [==============================] - 2s 288ms/step - loss: 1.2542 - accuracy: 0.4944\n",
      "Validation Accuracy for fold 1: 49.44%\n"
     ]
    },
    {
     "data": {
      "application/vnd.jupyter.widget-view+json": {
       "model_id": "",
       "version_major": 2,
       "version_minor": 0
      },
      "text/plain": [
       "VBox(children=(Label(value='7.743 MB of 7.743 MB uploaded (0.113 MB deduped)\\r'), FloatProgress(value=1.0, max…"
      ]
     },
     "metadata": {},
     "output_type": "display_data"
    },
    {
     "data": {
      "text/html": [
       "W&B sync reduced upload amount by 1.5%             "
      ],
      "text/plain": [
       "<IPython.core.display.HTML object>"
      ]
     },
     "metadata": {},
     "output_type": "display_data"
    },
    {
     "data": {
      "text/html": [
       "<style>\n",
       "    table.wandb td:nth-child(1) { padding: 0 10px; text-align: left ; width: auto;} td:nth-child(2) {text-align: left ; width: 100%}\n",
       "    .wandb-row { display: flex; flex-direction: row; flex-wrap: wrap; justify-content: flex-start; width: 100% }\n",
       "    .wandb-col { display: flex; flex-direction: column; flex-basis: 100%; flex: 1; padding: 10px; }\n",
       "    </style>\n",
       "<div class=\"wandb-row\"><div class=\"wandb-col\"><h3>Run history:</h3><br/><table class=\"wandb\"><tr><td>accuracy</td><td>▁▃▅▇█</td></tr><tr><td>epoch</td><td>▁▃▅▆█</td></tr><tr><td>loss</td><td>█▅▃▂▁</td></tr><tr><td>val_accuracy</td><td>▁▄▅▆█</td></tr><tr><td>val_loss</td><td>█▅▄▄▁</td></tr></table><br/></div><div class=\"wandb-col\"><h3>Run summary:</h3><br/><table class=\"wandb\"><tr><td>accuracy</td><td>0.52083</td></tr><tr><td>best_epoch</td><td>4</td></tr><tr><td>best_val_loss</td><td>1.24273</td></tr><tr><td>epoch</td><td>4</td></tr><tr><td>loss</td><td>1.19478</td></tr><tr><td>val_accuracy</td><td>0.50556</td></tr><tr><td>val_loss</td><td>1.24273</td></tr></table><br/></div></div>"
      ],
      "text/plain": [
       "<IPython.core.display.HTML object>"
      ]
     },
     "metadata": {},
     "output_type": "display_data"
    },
    {
     "data": {
      "text/html": [
       " View run <strong style=\"color:#cdcd00\">fold-1</strong> at: <a href='https://wandb.ai/wisdom-jihyekim-aiffel/WandB_with_kfold_used_by_Jindeok/runs/gd1pom6w' target=\"_blank\">https://wandb.ai/wisdom-jihyekim-aiffel/WandB_with_kfold_used_by_Jindeok/runs/gd1pom6w</a><br/>Synced 5 W&B file(s), 1 media file(s), 20 artifact file(s) and 1 other file(s)"
      ],
      "text/plain": [
       "<IPython.core.display.HTML object>"
      ]
     },
     "metadata": {},
     "output_type": "display_data"
    },
    {
     "data": {
      "text/html": [
       "Find logs at: <code>./wandb/run-20241116_203109-gd1pom6w/logs</code>"
      ],
      "text/plain": [
       "<IPython.core.display.HTML object>"
      ]
     },
     "metadata": {},
     "output_type": "display_data"
    },
    {
     "name": "stderr",
     "output_type": "stream",
     "text": [
      "\u001b[34m\u001b[1mwandb\u001b[0m: \u001b[33mWARNING\u001b[0m Ignored wandb.init() arg project when running a sweep.\n"
     ]
    },
    {
     "name": "stdout",
     "output_type": "stream",
     "text": [
      "Fold: 2 ==================================================================\n",
      "Found 720 validated image filenames belonging to 6 classes.\n",
      "Found 180 validated image filenames belonging to 6 classes.\n"
     ]
    },
    {
     "data": {
      "application/vnd.jupyter.widget-view+json": {
       "model_id": "db5138c512704c87b24f0014681acdb5",
       "version_major": 2,
       "version_minor": 0
      },
      "text/plain": [
       "VBox(children=(Label(value='Waiting for wandb.init()...\\r'), FloatProgress(value=0.011112982977728178, max=1.0…"
      ]
     },
     "metadata": {},
     "output_type": "display_data"
    },
    {
     "data": {
      "text/html": [
       "wandb version 0.18.7 is available!  To upgrade, please run:\n",
       " $ pip install wandb --upgrade"
      ],
      "text/plain": [
       "<IPython.core.display.HTML object>"
      ]
     },
     "metadata": {},
     "output_type": "display_data"
    },
    {
     "data": {
      "text/html": [
       "Tracking run with wandb version 0.16.0"
      ],
      "text/plain": [
       "<IPython.core.display.HTML object>"
      ]
     },
     "metadata": {},
     "output_type": "display_data"
    },
    {
     "data": {
      "text/html": [
       "Run data is saved locally in <code>/aiffel/aiffel/wandb/run-20241116_203221-gd1pom6w</code>"
      ],
      "text/plain": [
       "<IPython.core.display.HTML object>"
      ]
     },
     "metadata": {},
     "output_type": "display_data"
    },
    {
     "data": {
      "text/html": [
       "Syncing run <strong><a href='https://wandb.ai/wisdom-jihyekim-aiffel/WandB_with_kfold_used_by_Jindeok/runs/gd1pom6w' target=\"_blank\">fold-2</a></strong> to <a href='https://wandb.ai/wisdom-jihyekim-aiffel/WandB_with_kfold_used_by_Jindeok' target=\"_blank\">Weights & Biases</a> (<a href='https://wandb.me/run' target=\"_blank\">docs</a>)<br/>Sweep page: <a href='https://wandb.ai/wisdom-jihyekim-aiffel/WandB_with_kfold_used_by_Jindeok/sweeps/zhdriy11' target=\"_blank\">https://wandb.ai/wisdom-jihyekim-aiffel/WandB_with_kfold_used_by_Jindeok/sweeps/zhdriy11</a>"
      ],
      "text/plain": [
       "<IPython.core.display.HTML object>"
      ]
     },
     "metadata": {},
     "output_type": "display_data"
    },
    {
     "data": {
      "text/html": [
       " View project at <a href='https://wandb.ai/wisdom-jihyekim-aiffel/WandB_with_kfold_used_by_Jindeok' target=\"_blank\">https://wandb.ai/wisdom-jihyekim-aiffel/WandB_with_kfold_used_by_Jindeok</a>"
      ],
      "text/plain": [
       "<IPython.core.display.HTML object>"
      ]
     },
     "metadata": {},
     "output_type": "display_data"
    },
    {
     "data": {
      "text/html": [
       " View sweep at <a href='https://wandb.ai/wisdom-jihyekim-aiffel/WandB_with_kfold_used_by_Jindeok/sweeps/zhdriy11' target=\"_blank\">https://wandb.ai/wisdom-jihyekim-aiffel/WandB_with_kfold_used_by_Jindeok/sweeps/zhdriy11</a>"
      ],
      "text/plain": [
       "<IPython.core.display.HTML object>"
      ]
     },
     "metadata": {},
     "output_type": "display_data"
    },
    {
     "data": {
      "text/html": [
       " View run at <a href='https://wandb.ai/wisdom-jihyekim-aiffel/WandB_with_kfold_used_by_Jindeok/runs/gd1pom6w' target=\"_blank\">https://wandb.ai/wisdom-jihyekim-aiffel/WandB_with_kfold_used_by_Jindeok/runs/gd1pom6w</a>"
      ],
      "text/plain": [
       "<IPython.core.display.HTML object>"
      ]
     },
     "metadata": {},
     "output_type": "display_data"
    },
    {
     "name": "stdout",
     "output_type": "stream",
     "text": [
      "Epoch 1/5\n",
      "23/23 [==============================] - 11s 426ms/step - loss: 1.8006 - accuracy: 0.2431 - val_loss: 1.6690 - val_accuracy: 0.2056\n",
      "INFO:tensorflow:Assets written to: /aiffel/aiffel/wandb/run-20241116_203221-gd1pom6w/files/model-best/assets\n"
     ]
    },
    {
     "name": "stderr",
     "output_type": "stream",
     "text": [
      "\u001b[34m\u001b[1mwandb\u001b[0m: Adding directory to artifact (/aiffel/aiffel/wandb/run-20241116_203221-gd1pom6w/files/model-best)... Done. 0.0s\n"
     ]
    },
    {
     "name": "stdout",
     "output_type": "stream",
     "text": [
      "Epoch 2/5\n",
      "23/23 [==============================] - 10s 409ms/step - loss: 1.5393 - accuracy: 0.3556 - val_loss: 1.5624 - val_accuracy: 0.3222\n",
      "INFO:tensorflow:Assets written to: /aiffel/aiffel/wandb/run-20241116_203221-gd1pom6w/files/model-best/assets\n"
     ]
    },
    {
     "name": "stderr",
     "output_type": "stream",
     "text": [
      "\u001b[34m\u001b[1mwandb\u001b[0m: Adding directory to artifact (/aiffel/aiffel/wandb/run-20241116_203221-gd1pom6w/files/model-best)... Done. 0.0s\n"
     ]
    },
    {
     "name": "stdout",
     "output_type": "stream",
     "text": [
      "Epoch 3/5\n",
      "23/23 [==============================] - 9s 412ms/step - loss: 1.3810 - accuracy: 0.4250 - val_loss: 1.5663 - val_accuracy: 0.3667\n",
      "Epoch 4/5\n",
      "23/23 [==============================] - 9s 406ms/step - loss: 1.2493 - accuracy: 0.5000 - val_loss: 1.3373 - val_accuracy: 0.4333\n",
      "INFO:tensorflow:Assets written to: /aiffel/aiffel/wandb/run-20241116_203221-gd1pom6w/files/model-best/assets\n"
     ]
    },
    {
     "name": "stderr",
     "output_type": "stream",
     "text": [
      "\u001b[34m\u001b[1mwandb\u001b[0m: Adding directory to artifact (/aiffel/aiffel/wandb/run-20241116_203221-gd1pom6w/files/model-best)... Done. 0.0s\n"
     ]
    },
    {
     "name": "stdout",
     "output_type": "stream",
     "text": [
      "Epoch 5/5\n",
      "23/23 [==============================] - 9s 398ms/step - loss: 1.1225 - accuracy: 0.5569 - val_loss: 1.2793 - val_accuracy: 0.5000\n",
      "INFO:tensorflow:Assets written to: /aiffel/aiffel/wandb/run-20241116_203221-gd1pom6w/files/model-best/assets\n"
     ]
    },
    {
     "name": "stderr",
     "output_type": "stream",
     "text": [
      "\u001b[34m\u001b[1mwandb\u001b[0m: Adding directory to artifact (/aiffel/aiffel/wandb/run-20241116_203221-gd1pom6w/files/model-best)... Done. 0.0s\n"
     ]
    },
    {
     "name": "stdout",
     "output_type": "stream",
     "text": [
      "6/6 [==============================] - 2s 309ms/step - loss: 1.2768 - accuracy: 0.5222\n",
      "Validation Accuracy for fold 2: 52.22%\n"
     ]
    },
    {
     "data": {
      "application/vnd.jupyter.widget-view+json": {
       "model_id": "",
       "version_major": 2,
       "version_minor": 0
      },
      "text/plain": [
       "VBox(children=(Label(value='6.419 MB of 6.419 MB uploaded (0.091 MB deduped)\\r'), FloatProgress(value=1.0, max…"
      ]
     },
     "metadata": {},
     "output_type": "display_data"
    },
    {
     "data": {
      "text/html": [
       "W&B sync reduced upload amount by 1.4%             "
      ],
      "text/plain": [
       "<IPython.core.display.HTML object>"
      ]
     },
     "metadata": {},
     "output_type": "display_data"
    },
    {
     "data": {
      "text/html": [
       "<style>\n",
       "    table.wandb td:nth-child(1) { padding: 0 10px; text-align: left ; width: auto;} td:nth-child(2) {text-align: left ; width: 100%}\n",
       "    .wandb-row { display: flex; flex-direction: row; flex-wrap: wrap; justify-content: flex-start; width: 100% }\n",
       "    .wandb-col { display: flex; flex-direction: column; flex-basis: 100%; flex: 1; padding: 10px; }\n",
       "    </style>\n",
       "<div class=\"wandb-row\"><div class=\"wandb-col\"><h3>Run history:</h3><br/><table class=\"wandb\"><tr><td>accuracy</td><td>▁▄▅▇█</td></tr><tr><td>epoch</td><td>▁▃▅▆█</td></tr><tr><td>loss</td><td>█▅▄▂▁</td></tr><tr><td>val_accuracy</td><td>▁▄▅▆█</td></tr><tr><td>val_loss</td><td>█▆▆▂▁</td></tr></table><br/></div><div class=\"wandb-col\"><h3>Run summary:</h3><br/><table class=\"wandb\"><tr><td>accuracy</td><td>0.55694</td></tr><tr><td>best_epoch</td><td>4</td></tr><tr><td>best_val_loss</td><td>1.27932</td></tr><tr><td>epoch</td><td>4</td></tr><tr><td>loss</td><td>1.12251</td></tr><tr><td>val_accuracy</td><td>0.5</td></tr><tr><td>val_loss</td><td>1.27932</td></tr></table><br/></div></div>"
      ],
      "text/plain": [
       "<IPython.core.display.HTML object>"
      ]
     },
     "metadata": {},
     "output_type": "display_data"
    },
    {
     "data": {
      "text/html": [
       " View run <strong style=\"color:#cdcd00\">fold-2</strong> at: <a href='https://wandb.ai/wisdom-jihyekim-aiffel/WandB_with_kfold_used_by_Jindeok/runs/gd1pom6w' target=\"_blank\">https://wandb.ai/wisdom-jihyekim-aiffel/WandB_with_kfold_used_by_Jindeok/runs/gd1pom6w</a><br/>Synced 5 W&B file(s), 1 media file(s), 16 artifact file(s) and 1 other file(s)"
      ],
      "text/plain": [
       "<IPython.core.display.HTML object>"
      ]
     },
     "metadata": {},
     "output_type": "display_data"
    },
    {
     "data": {
      "text/html": [
       "Find logs at: <code>./wandb/run-20241116_203221-gd1pom6w/logs</code>"
      ],
      "text/plain": [
       "<IPython.core.display.HTML object>"
      ]
     },
     "metadata": {},
     "output_type": "display_data"
    },
    {
     "name": "stderr",
     "output_type": "stream",
     "text": [
      "\u001b[34m\u001b[1mwandb\u001b[0m: \u001b[33mWARNING\u001b[0m Ignored wandb.init() arg project when running a sweep.\n"
     ]
    },
    {
     "name": "stdout",
     "output_type": "stream",
     "text": [
      "Fold: 3 ==================================================================\n",
      "Found 720 validated image filenames belonging to 6 classes.\n",
      "Found 180 validated image filenames belonging to 6 classes.\n"
     ]
    },
    {
     "data": {
      "application/vnd.jupyter.widget-view+json": {
       "model_id": "b140809cf9a14a6c81366e8fb67c4673",
       "version_major": 2,
       "version_minor": 0
      },
      "text/plain": [
       "VBox(children=(Label(value='Waiting for wandb.init()...\\r'), FloatProgress(value=0.011112812566635613, max=1.0…"
      ]
     },
     "metadata": {},
     "output_type": "display_data"
    },
    {
     "data": {
      "text/html": [
       "wandb version 0.18.7 is available!  To upgrade, please run:\n",
       " $ pip install wandb --upgrade"
      ],
      "text/plain": [
       "<IPython.core.display.HTML object>"
      ]
     },
     "metadata": {},
     "output_type": "display_data"
    },
    {
     "data": {
      "text/html": [
       "Tracking run with wandb version 0.16.0"
      ],
      "text/plain": [
       "<IPython.core.display.HTML object>"
      ]
     },
     "metadata": {},
     "output_type": "display_data"
    },
    {
     "data": {
      "text/html": [
       "Run data is saved locally in <code>/aiffel/aiffel/wandb/run-20241116_203328-gd1pom6w</code>"
      ],
      "text/plain": [
       "<IPython.core.display.HTML object>"
      ]
     },
     "metadata": {},
     "output_type": "display_data"
    },
    {
     "data": {
      "text/html": [
       "Syncing run <strong><a href='https://wandb.ai/wisdom-jihyekim-aiffel/WandB_with_kfold_used_by_Jindeok/runs/gd1pom6w' target=\"_blank\">fold-3</a></strong> to <a href='https://wandb.ai/wisdom-jihyekim-aiffel/WandB_with_kfold_used_by_Jindeok' target=\"_blank\">Weights & Biases</a> (<a href='https://wandb.me/run' target=\"_blank\">docs</a>)<br/>Sweep page: <a href='https://wandb.ai/wisdom-jihyekim-aiffel/WandB_with_kfold_used_by_Jindeok/sweeps/zhdriy11' target=\"_blank\">https://wandb.ai/wisdom-jihyekim-aiffel/WandB_with_kfold_used_by_Jindeok/sweeps/zhdriy11</a>"
      ],
      "text/plain": [
       "<IPython.core.display.HTML object>"
      ]
     },
     "metadata": {},
     "output_type": "display_data"
    },
    {
     "data": {
      "text/html": [
       " View project at <a href='https://wandb.ai/wisdom-jihyekim-aiffel/WandB_with_kfold_used_by_Jindeok' target=\"_blank\">https://wandb.ai/wisdom-jihyekim-aiffel/WandB_with_kfold_used_by_Jindeok</a>"
      ],
      "text/plain": [
       "<IPython.core.display.HTML object>"
      ]
     },
     "metadata": {},
     "output_type": "display_data"
    },
    {
     "data": {
      "text/html": [
       " View sweep at <a href='https://wandb.ai/wisdom-jihyekim-aiffel/WandB_with_kfold_used_by_Jindeok/sweeps/zhdriy11' target=\"_blank\">https://wandb.ai/wisdom-jihyekim-aiffel/WandB_with_kfold_used_by_Jindeok/sweeps/zhdriy11</a>"
      ],
      "text/plain": [
       "<IPython.core.display.HTML object>"
      ]
     },
     "metadata": {},
     "output_type": "display_data"
    },
    {
     "data": {
      "text/html": [
       " View run at <a href='https://wandb.ai/wisdom-jihyekim-aiffel/WandB_with_kfold_used_by_Jindeok/runs/gd1pom6w' target=\"_blank\">https://wandb.ai/wisdom-jihyekim-aiffel/WandB_with_kfold_used_by_Jindeok/runs/gd1pom6w</a>"
      ],
      "text/plain": [
       "<IPython.core.display.HTML object>"
      ]
     },
     "metadata": {},
     "output_type": "display_data"
    },
    {
     "name": "stdout",
     "output_type": "stream",
     "text": [
      "Epoch 1/5\n",
      "23/23 [==============================] - 11s 426ms/step - loss: 1.9083 - accuracy: 0.2486 - val_loss: 1.6698 - val_accuracy: 0.3056\n",
      "INFO:tensorflow:Assets written to: /aiffel/aiffel/wandb/run-20241116_203328-gd1pom6w/files/model-best/assets\n"
     ]
    },
    {
     "name": "stderr",
     "output_type": "stream",
     "text": [
      "\u001b[34m\u001b[1mwandb\u001b[0m: Adding directory to artifact (/aiffel/aiffel/wandb/run-20241116_203328-gd1pom6w/files/model-best)... Done. 0.0s\n"
     ]
    },
    {
     "name": "stdout",
     "output_type": "stream",
     "text": [
      "Epoch 2/5\n",
      "23/23 [==============================] - 9s 403ms/step - loss: 1.7012 - accuracy: 0.2778 - val_loss: 1.5362 - val_accuracy: 0.4167\n",
      "INFO:tensorflow:Assets written to: /aiffel/aiffel/wandb/run-20241116_203328-gd1pom6w/files/model-best/assets\n"
     ]
    },
    {
     "name": "stderr",
     "output_type": "stream",
     "text": [
      "\u001b[34m\u001b[1mwandb\u001b[0m: Adding directory to artifact (/aiffel/aiffel/wandb/run-20241116_203328-gd1pom6w/files/model-best)... Done. 0.0s\n"
     ]
    },
    {
     "name": "stdout",
     "output_type": "stream",
     "text": [
      "Epoch 3/5\n",
      "23/23 [==============================] - 10s 422ms/step - loss: 1.5031 - accuracy: 0.3819 - val_loss: 1.3552 - val_accuracy: 0.4444\n",
      "INFO:tensorflow:Assets written to: /aiffel/aiffel/wandb/run-20241116_203328-gd1pom6w/files/model-best/assets\n"
     ]
    },
    {
     "name": "stderr",
     "output_type": "stream",
     "text": [
      "\u001b[34m\u001b[1mwandb\u001b[0m: Adding directory to artifact (/aiffel/aiffel/wandb/run-20241116_203328-gd1pom6w/files/model-best)... Done. 0.0s\n"
     ]
    },
    {
     "name": "stdout",
     "output_type": "stream",
     "text": [
      "Epoch 4/5\n",
      "23/23 [==============================] - 10s 416ms/step - loss: 1.3950 - accuracy: 0.4278 - val_loss: 1.2521 - val_accuracy: 0.5556\n",
      "INFO:tensorflow:Assets written to: /aiffel/aiffel/wandb/run-20241116_203328-gd1pom6w/files/model-best/assets\n"
     ]
    },
    {
     "name": "stderr",
     "output_type": "stream",
     "text": [
      "\u001b[34m\u001b[1mwandb\u001b[0m: Adding directory to artifact (/aiffel/aiffel/wandb/run-20241116_203328-gd1pom6w/files/model-best)... Done. 0.0s\n"
     ]
    },
    {
     "name": "stdout",
     "output_type": "stream",
     "text": [
      "Epoch 5/5\n",
      "23/23 [==============================] - 10s 406ms/step - loss: 1.3233 - accuracy: 0.4486 - val_loss: 1.2073 - val_accuracy: 0.5389\n",
      "INFO:tensorflow:Assets written to: /aiffel/aiffel/wandb/run-20241116_203328-gd1pom6w/files/model-best/assets\n"
     ]
    },
    {
     "name": "stderr",
     "output_type": "stream",
     "text": [
      "\u001b[34m\u001b[1mwandb\u001b[0m: Adding directory to artifact (/aiffel/aiffel/wandb/run-20241116_203328-gd1pom6w/files/model-best)... Done. 0.0s\n"
     ]
    },
    {
     "name": "stdout",
     "output_type": "stream",
     "text": [
      "6/6 [==============================] - 2s 296ms/step - loss: 1.1748 - accuracy: 0.5444\n",
      "Validation Accuracy for fold 3: 54.44%\n"
     ]
    },
    {
     "data": {
      "application/vnd.jupyter.widget-view+json": {
       "model_id": "",
       "version_major": 2,
       "version_minor": 0
      },
      "text/plain": [
       "VBox(children=(Label(value='7.759 MB of 7.759 MB uploaded (0.114 MB deduped)\\r'), FloatProgress(value=1.0, max…"
      ]
     },
     "metadata": {},
     "output_type": "display_data"
    },
    {
     "data": {
      "text/html": [
       "W&B sync reduced upload amount by 1.5%             "
      ],
      "text/plain": [
       "<IPython.core.display.HTML object>"
      ]
     },
     "metadata": {},
     "output_type": "display_data"
    },
    {
     "data": {
      "text/html": [
       "<style>\n",
       "    table.wandb td:nth-child(1) { padding: 0 10px; text-align: left ; width: auto;} td:nth-child(2) {text-align: left ; width: 100%}\n",
       "    .wandb-row { display: flex; flex-direction: row; flex-wrap: wrap; justify-content: flex-start; width: 100% }\n",
       "    .wandb-col { display: flex; flex-direction: column; flex-basis: 100%; flex: 1; padding: 10px; }\n",
       "    </style>\n",
       "<div class=\"wandb-row\"><div class=\"wandb-col\"><h3>Run history:</h3><br/><table class=\"wandb\"><tr><td>accuracy</td><td>▁▂▆▇█</td></tr><tr><td>epoch</td><td>▁▃▅▆█</td></tr><tr><td>loss</td><td>█▆▃▂▁</td></tr><tr><td>val_accuracy</td><td>▁▄▅██</td></tr><tr><td>val_loss</td><td>█▆▃▂▁</td></tr></table><br/></div><div class=\"wandb-col\"><h3>Run summary:</h3><br/><table class=\"wandb\"><tr><td>accuracy</td><td>0.44861</td></tr><tr><td>best_epoch</td><td>4</td></tr><tr><td>best_val_loss</td><td>1.20734</td></tr><tr><td>epoch</td><td>4</td></tr><tr><td>loss</td><td>1.32328</td></tr><tr><td>val_accuracy</td><td>0.53889</td></tr><tr><td>val_loss</td><td>1.20734</td></tr></table><br/></div></div>"
      ],
      "text/plain": [
       "<IPython.core.display.HTML object>"
      ]
     },
     "metadata": {},
     "output_type": "display_data"
    },
    {
     "data": {
      "text/html": [
       " View run <strong style=\"color:#cdcd00\">fold-3</strong> at: <a href='https://wandb.ai/wisdom-jihyekim-aiffel/WandB_with_kfold_used_by_Jindeok/runs/gd1pom6w' target=\"_blank\">https://wandb.ai/wisdom-jihyekim-aiffel/WandB_with_kfold_used_by_Jindeok/runs/gd1pom6w</a><br/>Synced 5 W&B file(s), 1 media file(s), 20 artifact file(s) and 1 other file(s)"
      ],
      "text/plain": [
       "<IPython.core.display.HTML object>"
      ]
     },
     "metadata": {},
     "output_type": "display_data"
    },
    {
     "data": {
      "text/html": [
       "Find logs at: <code>./wandb/run-20241116_203328-gd1pom6w/logs</code>"
      ],
      "text/plain": [
       "<IPython.core.display.HTML object>"
      ]
     },
     "metadata": {},
     "output_type": "display_data"
    },
    {
     "name": "stderr",
     "output_type": "stream",
     "text": [
      "\u001b[34m\u001b[1mwandb\u001b[0m: \u001b[33mWARNING\u001b[0m Ignored wandb.init() arg project when running a sweep.\n"
     ]
    },
    {
     "name": "stdout",
     "output_type": "stream",
     "text": [
      "Fold: 4 ==================================================================\n",
      "Found 720 validated image filenames belonging to 6 classes.\n",
      "Found 180 validated image filenames belonging to 6 classes.\n"
     ]
    },
    {
     "data": {
      "text/html": [
       "wandb version 0.18.7 is available!  To upgrade, please run:\n",
       " $ pip install wandb --upgrade"
      ],
      "text/plain": [
       "<IPython.core.display.HTML object>"
      ]
     },
     "metadata": {},
     "output_type": "display_data"
    },
    {
     "data": {
      "text/html": [
       "Tracking run with wandb version 0.16.0"
      ],
      "text/plain": [
       "<IPython.core.display.HTML object>"
      ]
     },
     "metadata": {},
     "output_type": "display_data"
    },
    {
     "data": {
      "text/html": [
       "Run data is saved locally in <code>/aiffel/aiffel/wandb/run-20241116_203435-gd1pom6w</code>"
      ],
      "text/plain": [
       "<IPython.core.display.HTML object>"
      ]
     },
     "metadata": {},
     "output_type": "display_data"
    },
    {
     "data": {
      "text/html": [
       "Syncing run <strong><a href='https://wandb.ai/wisdom-jihyekim-aiffel/WandB_with_kfold_used_by_Jindeok/runs/gd1pom6w' target=\"_blank\">fold-4</a></strong> to <a href='https://wandb.ai/wisdom-jihyekim-aiffel/WandB_with_kfold_used_by_Jindeok' target=\"_blank\">Weights & Biases</a> (<a href='https://wandb.me/run' target=\"_blank\">docs</a>)<br/>Sweep page: <a href='https://wandb.ai/wisdom-jihyekim-aiffel/WandB_with_kfold_used_by_Jindeok/sweeps/zhdriy11' target=\"_blank\">https://wandb.ai/wisdom-jihyekim-aiffel/WandB_with_kfold_used_by_Jindeok/sweeps/zhdriy11</a>"
      ],
      "text/plain": [
       "<IPython.core.display.HTML object>"
      ]
     },
     "metadata": {},
     "output_type": "display_data"
    },
    {
     "data": {
      "text/html": [
       " View project at <a href='https://wandb.ai/wisdom-jihyekim-aiffel/WandB_with_kfold_used_by_Jindeok' target=\"_blank\">https://wandb.ai/wisdom-jihyekim-aiffel/WandB_with_kfold_used_by_Jindeok</a>"
      ],
      "text/plain": [
       "<IPython.core.display.HTML object>"
      ]
     },
     "metadata": {},
     "output_type": "display_data"
    },
    {
     "data": {
      "text/html": [
       " View sweep at <a href='https://wandb.ai/wisdom-jihyekim-aiffel/WandB_with_kfold_used_by_Jindeok/sweeps/zhdriy11' target=\"_blank\">https://wandb.ai/wisdom-jihyekim-aiffel/WandB_with_kfold_used_by_Jindeok/sweeps/zhdriy11</a>"
      ],
      "text/plain": [
       "<IPython.core.display.HTML object>"
      ]
     },
     "metadata": {},
     "output_type": "display_data"
    },
    {
     "data": {
      "text/html": [
       " View run at <a href='https://wandb.ai/wisdom-jihyekim-aiffel/WandB_with_kfold_used_by_Jindeok/runs/gd1pom6w' target=\"_blank\">https://wandb.ai/wisdom-jihyekim-aiffel/WandB_with_kfold_used_by_Jindeok/runs/gd1pom6w</a>"
      ],
      "text/plain": [
       "<IPython.core.display.HTML object>"
      ]
     },
     "metadata": {},
     "output_type": "display_data"
    },
    {
     "name": "stdout",
     "output_type": "stream",
     "text": [
      "Epoch 1/5\n",
      "23/23 [==============================] - 11s 423ms/step - loss: 1.8969 - accuracy: 0.2083 - val_loss: 1.6414 - val_accuracy: 0.2556\n",
      "INFO:tensorflow:Assets written to: /aiffel/aiffel/wandb/run-20241116_203435-gd1pom6w/files/model-best/assets\n"
     ]
    },
    {
     "name": "stderr",
     "output_type": "stream",
     "text": [
      "\u001b[34m\u001b[1mwandb\u001b[0m: Adding directory to artifact (/aiffel/aiffel/wandb/run-20241116_203435-gd1pom6w/files/model-best)... Done. 0.0s\n"
     ]
    },
    {
     "name": "stdout",
     "output_type": "stream",
     "text": [
      "Epoch 2/5\n",
      "23/23 [==============================] - 10s 411ms/step - loss: 1.5752 - accuracy: 0.3514 - val_loss: 1.5202 - val_accuracy: 0.3389\n",
      "INFO:tensorflow:Assets written to: /aiffel/aiffel/wandb/run-20241116_203435-gd1pom6w/files/model-best/assets\n"
     ]
    },
    {
     "name": "stderr",
     "output_type": "stream",
     "text": [
      "\u001b[34m\u001b[1mwandb\u001b[0m: Adding directory to artifact (/aiffel/aiffel/wandb/run-20241116_203435-gd1pom6w/files/model-best)... Done. 0.0s\n"
     ]
    },
    {
     "name": "stdout",
     "output_type": "stream",
     "text": [
      "Epoch 3/5\n",
      "23/23 [==============================] - 9s 400ms/step - loss: 1.4427 - accuracy: 0.4181 - val_loss: 1.3879 - val_accuracy: 0.4111\n",
      "INFO:tensorflow:Assets written to: /aiffel/aiffel/wandb/run-20241116_203435-gd1pom6w/files/model-best/assets\n"
     ]
    },
    {
     "name": "stderr",
     "output_type": "stream",
     "text": [
      "\u001b[34m\u001b[1mwandb\u001b[0m: Adding directory to artifact (/aiffel/aiffel/wandb/run-20241116_203435-gd1pom6w/files/model-best)... Done. 0.0s\n"
     ]
    },
    {
     "name": "stdout",
     "output_type": "stream",
     "text": [
      "Epoch 4/5\n",
      "23/23 [==============================] - 10s 411ms/step - loss: 1.3305 - accuracy: 0.4569 - val_loss: 1.3584 - val_accuracy: 0.4111\n",
      "INFO:tensorflow:Assets written to: /aiffel/aiffel/wandb/run-20241116_203435-gd1pom6w/files/model-best/assets\n"
     ]
    },
    {
     "name": "stderr",
     "output_type": "stream",
     "text": [
      "\u001b[34m\u001b[1mwandb\u001b[0m: Adding directory to artifact (/aiffel/aiffel/wandb/run-20241116_203435-gd1pom6w/files/model-best)... Done. 0.0s\n"
     ]
    },
    {
     "name": "stdout",
     "output_type": "stream",
     "text": [
      "Epoch 5/5\n",
      "23/23 [==============================] - 9s 396ms/step - loss: 1.2540 - accuracy: 0.5097 - val_loss: 1.2477 - val_accuracy: 0.5167\n",
      "INFO:tensorflow:Assets written to: /aiffel/aiffel/wandb/run-20241116_203435-gd1pom6w/files/model-best/assets\n"
     ]
    },
    {
     "name": "stderr",
     "output_type": "stream",
     "text": [
      "\u001b[34m\u001b[1mwandb\u001b[0m: Adding directory to artifact (/aiffel/aiffel/wandb/run-20241116_203435-gd1pom6w/files/model-best)... Done. 0.0s\n"
     ]
    },
    {
     "name": "stdout",
     "output_type": "stream",
     "text": [
      "6/6 [==============================] - 2s 293ms/step - loss: 1.2307 - accuracy: 0.5111\n",
      "Validation Accuracy for fold 4: 51.11%\n"
     ]
    },
    {
     "data": {
      "application/vnd.jupyter.widget-view+json": {
       "model_id": "",
       "version_major": 2,
       "version_minor": 0
      },
      "text/plain": [
       "VBox(children=(Label(value='7.767 MB of 7.767 MB uploaded (0.114 MB deduped)\\r'), FloatProgress(value=1.0, max…"
      ]
     },
     "metadata": {},
     "output_type": "display_data"
    },
    {
     "data": {
      "text/html": [
       "W&B sync reduced upload amount by 1.5%             "
      ],
      "text/plain": [
       "<IPython.core.display.HTML object>"
      ]
     },
     "metadata": {},
     "output_type": "display_data"
    },
    {
     "data": {
      "text/html": [
       "<style>\n",
       "    table.wandb td:nth-child(1) { padding: 0 10px; text-align: left ; width: auto;} td:nth-child(2) {text-align: left ; width: 100%}\n",
       "    .wandb-row { display: flex; flex-direction: row; flex-wrap: wrap; justify-content: flex-start; width: 100% }\n",
       "    .wandb-col { display: flex; flex-direction: column; flex-basis: 100%; flex: 1; padding: 10px; }\n",
       "    </style>\n",
       "<div class=\"wandb-row\"><div class=\"wandb-col\"><h3>Run history:</h3><br/><table class=\"wandb\"><tr><td>accuracy</td><td>▁▄▆▇█</td></tr><tr><td>epoch</td><td>▁▃▅▆█</td></tr><tr><td>loss</td><td>█▄▃▂▁</td></tr><tr><td>val_accuracy</td><td>▁▃▅▅█</td></tr><tr><td>val_loss</td><td>█▆▃▃▁</td></tr></table><br/></div><div class=\"wandb-col\"><h3>Run summary:</h3><br/><table class=\"wandb\"><tr><td>accuracy</td><td>0.50972</td></tr><tr><td>best_epoch</td><td>4</td></tr><tr><td>best_val_loss</td><td>1.24772</td></tr><tr><td>epoch</td><td>4</td></tr><tr><td>loss</td><td>1.25403</td></tr><tr><td>val_accuracy</td><td>0.51667</td></tr><tr><td>val_loss</td><td>1.24772</td></tr></table><br/></div></div>"
      ],
      "text/plain": [
       "<IPython.core.display.HTML object>"
      ]
     },
     "metadata": {},
     "output_type": "display_data"
    },
    {
     "data": {
      "text/html": [
       " View run <strong style=\"color:#cdcd00\">fold-4</strong> at: <a href='https://wandb.ai/wisdom-jihyekim-aiffel/WandB_with_kfold_used_by_Jindeok/runs/gd1pom6w' target=\"_blank\">https://wandb.ai/wisdom-jihyekim-aiffel/WandB_with_kfold_used_by_Jindeok/runs/gd1pom6w</a><br/>Synced 5 W&B file(s), 1 media file(s), 20 artifact file(s) and 1 other file(s)"
      ],
      "text/plain": [
       "<IPython.core.display.HTML object>"
      ]
     },
     "metadata": {},
     "output_type": "display_data"
    },
    {
     "data": {
      "text/html": [
       "Find logs at: <code>./wandb/run-20241116_203435-gd1pom6w/logs</code>"
      ],
      "text/plain": [
       "<IPython.core.display.HTML object>"
      ]
     },
     "metadata": {},
     "output_type": "display_data"
    },
    {
     "name": "stderr",
     "output_type": "stream",
     "text": [
      "\u001b[34m\u001b[1mwandb\u001b[0m: \u001b[33mWARNING\u001b[0m Ignored wandb.init() arg project when running a sweep.\n"
     ]
    },
    {
     "name": "stdout",
     "output_type": "stream",
     "text": [
      "Fold: 5 ==================================================================\n",
      "Found 720 validated image filenames belonging to 6 classes.\n",
      "Found 180 validated image filenames belonging to 6 classes.\n"
     ]
    },
    {
     "data": {
      "application/vnd.jupyter.widget-view+json": {
       "model_id": "d48dd03af574439c96e39e0f8887df8d",
       "version_major": 2,
       "version_minor": 0
      },
      "text/plain": [
       "VBox(children=(Label(value='Waiting for wandb.init()...\\r'), FloatProgress(value=0.011112471433362872, max=1.0…"
      ]
     },
     "metadata": {},
     "output_type": "display_data"
    },
    {
     "data": {
      "text/html": [
       "wandb version 0.18.7 is available!  To upgrade, please run:\n",
       " $ pip install wandb --upgrade"
      ],
      "text/plain": [
       "<IPython.core.display.HTML object>"
      ]
     },
     "metadata": {},
     "output_type": "display_data"
    },
    {
     "data": {
      "text/html": [
       "Tracking run with wandb version 0.16.0"
      ],
      "text/plain": [
       "<IPython.core.display.HTML object>"
      ]
     },
     "metadata": {},
     "output_type": "display_data"
    },
    {
     "data": {
      "text/html": [
       "Run data is saved locally in <code>/aiffel/aiffel/wandb/run-20241116_203543-gd1pom6w</code>"
      ],
      "text/plain": [
       "<IPython.core.display.HTML object>"
      ]
     },
     "metadata": {},
     "output_type": "display_data"
    },
    {
     "data": {
      "text/html": [
       "Syncing run <strong><a href='https://wandb.ai/wisdom-jihyekim-aiffel/WandB_with_kfold_used_by_Jindeok/runs/gd1pom6w' target=\"_blank\">fold-5</a></strong> to <a href='https://wandb.ai/wisdom-jihyekim-aiffel/WandB_with_kfold_used_by_Jindeok' target=\"_blank\">Weights & Biases</a> (<a href='https://wandb.me/run' target=\"_blank\">docs</a>)<br/>Sweep page: <a href='https://wandb.ai/wisdom-jihyekim-aiffel/WandB_with_kfold_used_by_Jindeok/sweeps/zhdriy11' target=\"_blank\">https://wandb.ai/wisdom-jihyekim-aiffel/WandB_with_kfold_used_by_Jindeok/sweeps/zhdriy11</a>"
      ],
      "text/plain": [
       "<IPython.core.display.HTML object>"
      ]
     },
     "metadata": {},
     "output_type": "display_data"
    },
    {
     "data": {
      "text/html": [
       " View project at <a href='https://wandb.ai/wisdom-jihyekim-aiffel/WandB_with_kfold_used_by_Jindeok' target=\"_blank\">https://wandb.ai/wisdom-jihyekim-aiffel/WandB_with_kfold_used_by_Jindeok</a>"
      ],
      "text/plain": [
       "<IPython.core.display.HTML object>"
      ]
     },
     "metadata": {},
     "output_type": "display_data"
    },
    {
     "data": {
      "text/html": [
       " View sweep at <a href='https://wandb.ai/wisdom-jihyekim-aiffel/WandB_with_kfold_used_by_Jindeok/sweeps/zhdriy11' target=\"_blank\">https://wandb.ai/wisdom-jihyekim-aiffel/WandB_with_kfold_used_by_Jindeok/sweeps/zhdriy11</a>"
      ],
      "text/plain": [
       "<IPython.core.display.HTML object>"
      ]
     },
     "metadata": {},
     "output_type": "display_data"
    },
    {
     "data": {
      "text/html": [
       " View run at <a href='https://wandb.ai/wisdom-jihyekim-aiffel/WandB_with_kfold_used_by_Jindeok/runs/gd1pom6w' target=\"_blank\">https://wandb.ai/wisdom-jihyekim-aiffel/WandB_with_kfold_used_by_Jindeok/runs/gd1pom6w</a>"
      ],
      "text/plain": [
       "<IPython.core.display.HTML object>"
      ]
     },
     "metadata": {},
     "output_type": "display_data"
    },
    {
     "name": "stdout",
     "output_type": "stream",
     "text": [
      "Epoch 1/5\n",
      "23/23 [==============================] - 11s 422ms/step - loss: 1.9007 - accuracy: 0.2319 - val_loss: 1.6940 - val_accuracy: 0.3167\n",
      "INFO:tensorflow:Assets written to: /aiffel/aiffel/wandb/run-20241116_203543-gd1pom6w/files/model-best/assets\n"
     ]
    },
    {
     "name": "stderr",
     "output_type": "stream",
     "text": [
      "\u001b[34m\u001b[1mwandb\u001b[0m: Adding directory to artifact (/aiffel/aiffel/wandb/run-20241116_203543-gd1pom6w/files/model-best)... Done. 0.0s\n"
     ]
    },
    {
     "name": "stdout",
     "output_type": "stream",
     "text": [
      "Epoch 2/5\n",
      "23/23 [==============================] - 9s 403ms/step - loss: 1.6036 - accuracy: 0.3167 - val_loss: 1.6546 - val_accuracy: 0.2778\n",
      "INFO:tensorflow:Assets written to: /aiffel/aiffel/wandb/run-20241116_203543-gd1pom6w/files/model-best/assets\n"
     ]
    },
    {
     "name": "stderr",
     "output_type": "stream",
     "text": [
      "\u001b[34m\u001b[1mwandb\u001b[0m: Adding directory to artifact (/aiffel/aiffel/wandb/run-20241116_203543-gd1pom6w/files/model-best)... Done. 0.0s\n"
     ]
    },
    {
     "name": "stdout",
     "output_type": "stream",
     "text": [
      "Epoch 3/5\n",
      "23/23 [==============================] - 9s 402ms/step - loss: 1.4723 - accuracy: 0.4014 - val_loss: 1.4560 - val_accuracy: 0.4278\n",
      "INFO:tensorflow:Assets written to: /aiffel/aiffel/wandb/run-20241116_203543-gd1pom6w/files/model-best/assets\n"
     ]
    },
    {
     "name": "stderr",
     "output_type": "stream",
     "text": [
      "\u001b[34m\u001b[1mwandb\u001b[0m: Adding directory to artifact (/aiffel/aiffel/wandb/run-20241116_203543-gd1pom6w/files/model-best)... Done. 0.0s\n"
     ]
    },
    {
     "name": "stdout",
     "output_type": "stream",
     "text": [
      "Epoch 4/5\n",
      "23/23 [==============================] - 9s 402ms/step - loss: 1.3865 - accuracy: 0.4361 - val_loss: 1.3581 - val_accuracy: 0.4167\n",
      "INFO:tensorflow:Assets written to: /aiffel/aiffel/wandb/run-20241116_203543-gd1pom6w/files/model-best/assets\n"
     ]
    },
    {
     "name": "stderr",
     "output_type": "stream",
     "text": [
      "\u001b[34m\u001b[1mwandb\u001b[0m: Adding directory to artifact (/aiffel/aiffel/wandb/run-20241116_203543-gd1pom6w/files/model-best)... Done. 0.0s\n"
     ]
    },
    {
     "name": "stdout",
     "output_type": "stream",
     "text": [
      "Epoch 5/5\n",
      "23/23 [==============================] - 9s 398ms/step - loss: 1.2801 - accuracy: 0.4986 - val_loss: 1.3067 - val_accuracy: 0.4667\n",
      "INFO:tensorflow:Assets written to: /aiffel/aiffel/wandb/run-20241116_203543-gd1pom6w/files/model-best/assets\n"
     ]
    },
    {
     "name": "stderr",
     "output_type": "stream",
     "text": [
      "\u001b[34m\u001b[1mwandb\u001b[0m: Adding directory to artifact (/aiffel/aiffel/wandb/run-20241116_203543-gd1pom6w/files/model-best)... Done. 0.0s\n"
     ]
    },
    {
     "name": "stdout",
     "output_type": "stream",
     "text": [
      "6/6 [==============================] - 2s 283ms/step - loss: 1.2592 - accuracy: 0.4778\n",
      "Validation Accuracy for fold 5: 47.78%\n"
     ]
    },
    {
     "data": {
      "application/vnd.jupyter.widget-view+json": {
       "model_id": "",
       "version_major": 2,
       "version_minor": 0
      },
      "text/plain": [
       "VBox(children=(Label(value='7.771 MB of 7.771 MB uploaded (0.114 MB deduped)\\r'), FloatProgress(value=1.0, max…"
      ]
     },
     "metadata": {},
     "output_type": "display_data"
    },
    {
     "data": {
      "text/html": [
       "W&B sync reduced upload amount by 1.5%             "
      ],
      "text/plain": [
       "<IPython.core.display.HTML object>"
      ]
     },
     "metadata": {},
     "output_type": "display_data"
    },
    {
     "data": {
      "text/html": [
       "<style>\n",
       "    table.wandb td:nth-child(1) { padding: 0 10px; text-align: left ; width: auto;} td:nth-child(2) {text-align: left ; width: 100%}\n",
       "    .wandb-row { display: flex; flex-direction: row; flex-wrap: wrap; justify-content: flex-start; width: 100% }\n",
       "    .wandb-col { display: flex; flex-direction: column; flex-basis: 100%; flex: 1; padding: 10px; }\n",
       "    </style>\n",
       "<div class=\"wandb-row\"><div class=\"wandb-col\"><h3>Run history:</h3><br/><table class=\"wandb\"><tr><td>accuracy</td><td>▁▃▅▆█</td></tr><tr><td>epoch</td><td>▁▃▅▆█</td></tr><tr><td>loss</td><td>█▅▃▂▁</td></tr><tr><td>val_accuracy</td><td>▂▁▇▆█</td></tr><tr><td>val_loss</td><td>█▇▄▂▁</td></tr></table><br/></div><div class=\"wandb-col\"><h3>Run summary:</h3><br/><table class=\"wandb\"><tr><td>accuracy</td><td>0.49861</td></tr><tr><td>best_epoch</td><td>4</td></tr><tr><td>best_val_loss</td><td>1.30668</td></tr><tr><td>epoch</td><td>4</td></tr><tr><td>loss</td><td>1.28009</td></tr><tr><td>val_accuracy</td><td>0.46667</td></tr><tr><td>val_loss</td><td>1.30668</td></tr></table><br/></div></div>"
      ],
      "text/plain": [
       "<IPython.core.display.HTML object>"
      ]
     },
     "metadata": {},
     "output_type": "display_data"
    },
    {
     "data": {
      "text/html": [
       " View run <strong style=\"color:#cdcd00\">fold-5</strong> at: <a href='https://wandb.ai/wisdom-jihyekim-aiffel/WandB_with_kfold_used_by_Jindeok/runs/gd1pom6w' target=\"_blank\">https://wandb.ai/wisdom-jihyekim-aiffel/WandB_with_kfold_used_by_Jindeok/runs/gd1pom6w</a><br/>Synced 5 W&B file(s), 1 media file(s), 20 artifact file(s) and 1 other file(s)"
      ],
      "text/plain": [
       "<IPython.core.display.HTML object>"
      ]
     },
     "metadata": {},
     "output_type": "display_data"
    },
    {
     "data": {
      "text/html": [
       "Find logs at: <code>./wandb/run-20241116_203543-gd1pom6w/logs</code>"
      ],
      "text/plain": [
       "<IPython.core.display.HTML object>"
      ]
     },
     "metadata": {},
     "output_type": "display_data"
    },
    {
     "name": "stderr",
     "output_type": "stream",
     "text": [
      "\u001b[34m\u001b[1mwandb\u001b[0m: Agent Starting Run: 3kdlz93q with config:\n",
      "\u001b[34m\u001b[1mwandb\u001b[0m: \tepoch: 6\n",
      "\u001b[34m\u001b[1mwandb\u001b[0m: \tlearning_rate: 0.024386611936564353\n"
     ]
    },
    {
     "data": {
      "text/html": [
       "wandb version 0.18.7 is available!  To upgrade, please run:\n",
       " $ pip install wandb --upgrade"
      ],
      "text/plain": [
       "<IPython.core.display.HTML object>"
      ]
     },
     "metadata": {},
     "output_type": "display_data"
    },
    {
     "data": {
      "text/html": [
       "Tracking run with wandb version 0.16.0"
      ],
      "text/plain": [
       "<IPython.core.display.HTML object>"
      ]
     },
     "metadata": {},
     "output_type": "display_data"
    },
    {
     "data": {
      "text/html": [
       "Run data is saved locally in <code>/aiffel/aiffel/wandb/run-20241116_203654-3kdlz93q</code>"
      ],
      "text/plain": [
       "<IPython.core.display.HTML object>"
      ]
     },
     "metadata": {},
     "output_type": "display_data"
    },
    {
     "data": {
      "text/html": [
       "Syncing run <strong><a href='https://wandb.ai/wisdom-jihyekim-aiffel/WandB_with_kfold_used_by_Jindeok/runs/3kdlz93q' target=\"_blank\">logical-sweep-2</a></strong> to <a href='https://wandb.ai/wisdom-jihyekim-aiffel/WandB_with_kfold_used_by_Jindeok' target=\"_blank\">Weights & Biases</a> (<a href='https://wandb.me/run' target=\"_blank\">docs</a>)<br/>Sweep page: <a href='https://wandb.ai/wisdom-jihyekim-aiffel/WandB_with_kfold_used_by_Jindeok/sweeps/zhdriy11' target=\"_blank\">https://wandb.ai/wisdom-jihyekim-aiffel/WandB_with_kfold_used_by_Jindeok/sweeps/zhdriy11</a>"
      ],
      "text/plain": [
       "<IPython.core.display.HTML object>"
      ]
     },
     "metadata": {},
     "output_type": "display_data"
    },
    {
     "data": {
      "text/html": [
       " View project at <a href='https://wandb.ai/wisdom-jihyekim-aiffel/WandB_with_kfold_used_by_Jindeok' target=\"_blank\">https://wandb.ai/wisdom-jihyekim-aiffel/WandB_with_kfold_used_by_Jindeok</a>"
      ],
      "text/plain": [
       "<IPython.core.display.HTML object>"
      ]
     },
     "metadata": {},
     "output_type": "display_data"
    },
    {
     "data": {
      "text/html": [
       " View sweep at <a href='https://wandb.ai/wisdom-jihyekim-aiffel/WandB_with_kfold_used_by_Jindeok/sweeps/zhdriy11' target=\"_blank\">https://wandb.ai/wisdom-jihyekim-aiffel/WandB_with_kfold_used_by_Jindeok/sweeps/zhdriy11</a>"
      ],
      "text/plain": [
       "<IPython.core.display.HTML object>"
      ]
     },
     "metadata": {},
     "output_type": "display_data"
    },
    {
     "data": {
      "text/html": [
       " View run at <a href='https://wandb.ai/wisdom-jihyekim-aiffel/WandB_with_kfold_used_by_Jindeok/runs/3kdlz93q' target=\"_blank\">https://wandb.ai/wisdom-jihyekim-aiffel/WandB_with_kfold_used_by_Jindeok/runs/3kdlz93q</a>"
      ],
      "text/plain": [
       "<IPython.core.display.HTML object>"
      ]
     },
     "metadata": {},
     "output_type": "display_data"
    },
    {
     "name": "stderr",
     "output_type": "stream",
     "text": [
      "\u001b[34m\u001b[1mwandb\u001b[0m: \u001b[33mWARNING\u001b[0m Ignored wandb.init() arg project when running a sweep.\n"
     ]
    },
    {
     "name": "stdout",
     "output_type": "stream",
     "text": [
      "Fold: 1 ==================================================================\n",
      "Found 720 validated image filenames belonging to 6 classes.\n",
      "Found 180 validated image filenames belonging to 6 classes.\n"
     ]
    },
    {
     "data": {
      "text/html": [
       "Finishing last run (ID:3kdlz93q) before initializing another..."
      ],
      "text/plain": [
       "<IPython.core.display.HTML object>"
      ]
     },
     "metadata": {},
     "output_type": "display_data"
    },
    {
     "data": {
      "application/vnd.jupyter.widget-view+json": {
       "model_id": "",
       "version_major": 2,
       "version_minor": 0
      },
      "text/plain": [
       "VBox(children=(Label(value='0.008 MB of 0.008 MB uploaded\\r'), FloatProgress(value=1.0, max=1.0)))"
      ]
     },
     "metadata": {},
     "output_type": "display_data"
    },
    {
     "data": {
      "text/html": [
       " View run <strong style=\"color:#cdcd00\">logical-sweep-2</strong> at: <a href='https://wandb.ai/wisdom-jihyekim-aiffel/WandB_with_kfold_used_by_Jindeok/runs/3kdlz93q' target=\"_blank\">https://wandb.ai/wisdom-jihyekim-aiffel/WandB_with_kfold_used_by_Jindeok/runs/3kdlz93q</a><br/>Synced 5 W&B file(s), 0 media file(s), 0 artifact file(s) and 0 other file(s)"
      ],
      "text/plain": [
       "<IPython.core.display.HTML object>"
      ]
     },
     "metadata": {},
     "output_type": "display_data"
    },
    {
     "data": {
      "text/html": [
       "Find logs at: <code>./wandb/run-20241116_203654-3kdlz93q/logs</code>"
      ],
      "text/plain": [
       "<IPython.core.display.HTML object>"
      ]
     },
     "metadata": {},
     "output_type": "display_data"
    },
    {
     "data": {
      "text/html": [
       "Successfully finished last run (ID:3kdlz93q). Initializing new run:<br/>"
      ],
      "text/plain": [
       "<IPython.core.display.HTML object>"
      ]
     },
     "metadata": {},
     "output_type": "display_data"
    },
    {
     "data": {
      "application/vnd.jupyter.widget-view+json": {
       "model_id": "ea1ccc321b8645dc999a1ec9abc88d01",
       "version_major": 2,
       "version_minor": 0
      },
      "text/plain": [
       "VBox(children=(Label(value='Waiting for wandb.init()...\\r'), FloatProgress(value=0.011113447855556539, max=1.0…"
      ]
     },
     "metadata": {},
     "output_type": "display_data"
    },
    {
     "data": {
      "text/html": [
       "wandb version 0.18.7 is available!  To upgrade, please run:\n",
       " $ pip install wandb --upgrade"
      ],
      "text/plain": [
       "<IPython.core.display.HTML object>"
      ]
     },
     "metadata": {},
     "output_type": "display_data"
    },
    {
     "data": {
      "text/html": [
       "Tracking run with wandb version 0.16.0"
      ],
      "text/plain": [
       "<IPython.core.display.HTML object>"
      ]
     },
     "metadata": {},
     "output_type": "display_data"
    },
    {
     "data": {
      "text/html": [
       "Run data is saved locally in <code>/aiffel/aiffel/wandb/run-20241116_203655-3kdlz93q</code>"
      ],
      "text/plain": [
       "<IPython.core.display.HTML object>"
      ]
     },
     "metadata": {},
     "output_type": "display_data"
    },
    {
     "data": {
      "text/html": [
       "Syncing run <strong><a href='https://wandb.ai/wisdom-jihyekim-aiffel/WandB_with_kfold_used_by_Jindeok/runs/3kdlz93q' target=\"_blank\">fold-1</a></strong> to <a href='https://wandb.ai/wisdom-jihyekim-aiffel/WandB_with_kfold_used_by_Jindeok' target=\"_blank\">Weights & Biases</a> (<a href='https://wandb.me/run' target=\"_blank\">docs</a>)<br/>Sweep page: <a href='https://wandb.ai/wisdom-jihyekim-aiffel/WandB_with_kfold_used_by_Jindeok/sweeps/zhdriy11' target=\"_blank\">https://wandb.ai/wisdom-jihyekim-aiffel/WandB_with_kfold_used_by_Jindeok/sweeps/zhdriy11</a>"
      ],
      "text/plain": [
       "<IPython.core.display.HTML object>"
      ]
     },
     "metadata": {},
     "output_type": "display_data"
    },
    {
     "data": {
      "text/html": [
       " View project at <a href='https://wandb.ai/wisdom-jihyekim-aiffel/WandB_with_kfold_used_by_Jindeok' target=\"_blank\">https://wandb.ai/wisdom-jihyekim-aiffel/WandB_with_kfold_used_by_Jindeok</a>"
      ],
      "text/plain": [
       "<IPython.core.display.HTML object>"
      ]
     },
     "metadata": {},
     "output_type": "display_data"
    },
    {
     "data": {
      "text/html": [
       " View sweep at <a href='https://wandb.ai/wisdom-jihyekim-aiffel/WandB_with_kfold_used_by_Jindeok/sweeps/zhdriy11' target=\"_blank\">https://wandb.ai/wisdom-jihyekim-aiffel/WandB_with_kfold_used_by_Jindeok/sweeps/zhdriy11</a>"
      ],
      "text/plain": [
       "<IPython.core.display.HTML object>"
      ]
     },
     "metadata": {},
     "output_type": "display_data"
    },
    {
     "data": {
      "text/html": [
       " View run at <a href='https://wandb.ai/wisdom-jihyekim-aiffel/WandB_with_kfold_used_by_Jindeok/runs/3kdlz93q' target=\"_blank\">https://wandb.ai/wisdom-jihyekim-aiffel/WandB_with_kfold_used_by_Jindeok/runs/3kdlz93q</a>"
      ],
      "text/plain": [
       "<IPython.core.display.HTML object>"
      ]
     },
     "metadata": {},
     "output_type": "display_data"
    },
    {
     "name": "stdout",
     "output_type": "stream",
     "text": [
      "Epoch 1/6\n",
      "23/23 [==============================] - 11s 434ms/step - loss: 1.8974 - accuracy: 0.2375 - val_loss: 1.7105 - val_accuracy: 0.2889\n",
      "INFO:tensorflow:Assets written to: /aiffel/aiffel/wandb/run-20241116_203655-3kdlz93q/files/model-best/assets\n"
     ]
    },
    {
     "name": "stderr",
     "output_type": "stream",
     "text": [
      "\u001b[34m\u001b[1mwandb\u001b[0m: Adding directory to artifact (/aiffel/aiffel/wandb/run-20241116_203655-3kdlz93q/files/model-best)... Done. 0.0s\n"
     ]
    },
    {
     "name": "stdout",
     "output_type": "stream",
     "text": [
      "Epoch 2/6\n",
      "23/23 [==============================] - 10s 408ms/step - loss: 1.6362 - accuracy: 0.3097 - val_loss: 1.6310 - val_accuracy: 0.3000\n",
      "INFO:tensorflow:Assets written to: /aiffel/aiffel/wandb/run-20241116_203655-3kdlz93q/files/model-best/assets\n"
     ]
    },
    {
     "name": "stderr",
     "output_type": "stream",
     "text": [
      "\u001b[34m\u001b[1mwandb\u001b[0m: Adding directory to artifact (/aiffel/aiffel/wandb/run-20241116_203655-3kdlz93q/files/model-best)... Done. 0.0s\n"
     ]
    },
    {
     "name": "stdout",
     "output_type": "stream",
     "text": [
      "Epoch 3/6\n",
      "23/23 [==============================] - 9s 401ms/step - loss: 1.4971 - accuracy: 0.3931 - val_loss: 1.4732 - val_accuracy: 0.4111\n",
      "INFO:tensorflow:Assets written to: /aiffel/aiffel/wandb/run-20241116_203655-3kdlz93q/files/model-best/assets\n"
     ]
    },
    {
     "name": "stderr",
     "output_type": "stream",
     "text": [
      "\u001b[34m\u001b[1mwandb\u001b[0m: Adding directory to artifact (/aiffel/aiffel/wandb/run-20241116_203655-3kdlz93q/files/model-best)... Done. 0.0s\n"
     ]
    },
    {
     "name": "stdout",
     "output_type": "stream",
     "text": [
      "Epoch 4/6\n",
      "23/23 [==============================] - 9s 402ms/step - loss: 1.3129 - accuracy: 0.4833 - val_loss: 1.5023 - val_accuracy: 0.3444\n",
      "Epoch 5/6\n",
      "23/23 [==============================] - 9s 410ms/step - loss: 1.1841 - accuracy: 0.5319 - val_loss: 1.1820 - val_accuracy: 0.5389\n",
      "INFO:tensorflow:Assets written to: /aiffel/aiffel/wandb/run-20241116_203655-3kdlz93q/files/model-best/assets\n"
     ]
    },
    {
     "name": "stderr",
     "output_type": "stream",
     "text": [
      "\u001b[34m\u001b[1mwandb\u001b[0m: Adding directory to artifact (/aiffel/aiffel/wandb/run-20241116_203655-3kdlz93q/files/model-best)... Done. 0.0s\n"
     ]
    },
    {
     "name": "stdout",
     "output_type": "stream",
     "text": [
      "Epoch 6/6\n",
      "23/23 [==============================] - 9s 401ms/step - loss: 1.0518 - accuracy: 0.5875 - val_loss: 1.1590 - val_accuracy: 0.5667\n",
      "INFO:tensorflow:Assets written to: /aiffel/aiffel/wandb/run-20241116_203655-3kdlz93q/files/model-best/assets\n"
     ]
    },
    {
     "name": "stderr",
     "output_type": "stream",
     "text": [
      "\u001b[34m\u001b[1mwandb\u001b[0m: Adding directory to artifact (/aiffel/aiffel/wandb/run-20241116_203655-3kdlz93q/files/model-best)... Done. 0.0s\n"
     ]
    },
    {
     "name": "stdout",
     "output_type": "stream",
     "text": [
      "6/6 [==============================] - 2s 283ms/step - loss: 1.1539 - accuracy: 0.5333\n",
      "Validation Accuracy for fold 1: 53.33%\n"
     ]
    },
    {
     "data": {
      "application/vnd.jupyter.widget-view+json": {
       "model_id": "",
       "version_major": 2,
       "version_minor": 0
      },
      "text/plain": [
       "VBox(children=(Label(value='7.743 MB of 7.751 MB uploaded (0.113 MB deduped)\\r'), FloatProgress(value=0.998888…"
      ]
     },
     "metadata": {},
     "output_type": "display_data"
    },
    {
     "data": {
      "text/html": [
       "W&B sync reduced upload amount by 1.5%             "
      ],
      "text/plain": [
       "<IPython.core.display.HTML object>"
      ]
     },
     "metadata": {},
     "output_type": "display_data"
    },
    {
     "data": {
      "text/html": [
       "<style>\n",
       "    table.wandb td:nth-child(1) { padding: 0 10px; text-align: left ; width: auto;} td:nth-child(2) {text-align: left ; width: 100%}\n",
       "    .wandb-row { display: flex; flex-direction: row; flex-wrap: wrap; justify-content: flex-start; width: 100% }\n",
       "    .wandb-col { display: flex; flex-direction: column; flex-basis: 100%; flex: 1; padding: 10px; }\n",
       "    </style>\n",
       "<div class=\"wandb-row\"><div class=\"wandb-col\"><h3>Run history:</h3><br/><table class=\"wandb\"><tr><td>accuracy</td><td>▁▂▄▆▇█</td></tr><tr><td>epoch</td><td>▁▂▄▅▇█</td></tr><tr><td>loss</td><td>█▆▅▃▂▁</td></tr><tr><td>val_accuracy</td><td>▁▁▄▂▇█</td></tr><tr><td>val_loss</td><td>█▇▅▅▁▁</td></tr></table><br/></div><div class=\"wandb-col\"><h3>Run summary:</h3><br/><table class=\"wandb\"><tr><td>accuracy</td><td>0.5875</td></tr><tr><td>best_epoch</td><td>5</td></tr><tr><td>best_val_loss</td><td>1.15899</td></tr><tr><td>epoch</td><td>5</td></tr><tr><td>loss</td><td>1.05182</td></tr><tr><td>val_accuracy</td><td>0.56667</td></tr><tr><td>val_loss</td><td>1.15899</td></tr></table><br/></div></div>"
      ],
      "text/plain": [
       "<IPython.core.display.HTML object>"
      ]
     },
     "metadata": {},
     "output_type": "display_data"
    },
    {
     "data": {
      "text/html": [
       " View run <strong style=\"color:#cdcd00\">fold-1</strong> at: <a href='https://wandb.ai/wisdom-jihyekim-aiffel/WandB_with_kfold_used_by_Jindeok/runs/3kdlz93q' target=\"_blank\">https://wandb.ai/wisdom-jihyekim-aiffel/WandB_with_kfold_used_by_Jindeok/runs/3kdlz93q</a><br/>Synced 5 W&B file(s), 1 media file(s), 20 artifact file(s) and 1 other file(s)"
      ],
      "text/plain": [
       "<IPython.core.display.HTML object>"
      ]
     },
     "metadata": {},
     "output_type": "display_data"
    },
    {
     "data": {
      "text/html": [
       "Find logs at: <code>./wandb/run-20241116_203655-3kdlz93q/logs</code>"
      ],
      "text/plain": [
       "<IPython.core.display.HTML object>"
      ]
     },
     "metadata": {},
     "output_type": "display_data"
    },
    {
     "name": "stderr",
     "output_type": "stream",
     "text": [
      "\u001b[34m\u001b[1mwandb\u001b[0m: \u001b[33mWARNING\u001b[0m Ignored wandb.init() arg project when running a sweep.\n"
     ]
    },
    {
     "name": "stdout",
     "output_type": "stream",
     "text": [
      "Fold: 2 ==================================================================\n",
      "Found 720 validated image filenames belonging to 6 classes.\n",
      "Found 180 validated image filenames belonging to 6 classes.\n"
     ]
    },
    {
     "data": {
      "text/html": [
       "wandb version 0.18.7 is available!  To upgrade, please run:\n",
       " $ pip install wandb --upgrade"
      ],
      "text/plain": [
       "<IPython.core.display.HTML object>"
      ]
     },
     "metadata": {},
     "output_type": "display_data"
    },
    {
     "data": {
      "text/html": [
       "Tracking run with wandb version 0.16.0"
      ],
      "text/plain": [
       "<IPython.core.display.HTML object>"
      ]
     },
     "metadata": {},
     "output_type": "display_data"
    },
    {
     "data": {
      "text/html": [
       "Run data is saved locally in <code>/aiffel/aiffel/wandb/run-20241116_203816-3kdlz93q</code>"
      ],
      "text/plain": [
       "<IPython.core.display.HTML object>"
      ]
     },
     "metadata": {},
     "output_type": "display_data"
    },
    {
     "data": {
      "text/html": [
       "Syncing run <strong><a href='https://wandb.ai/wisdom-jihyekim-aiffel/WandB_with_kfold_used_by_Jindeok/runs/3kdlz93q' target=\"_blank\">fold-2</a></strong> to <a href='https://wandb.ai/wisdom-jihyekim-aiffel/WandB_with_kfold_used_by_Jindeok' target=\"_blank\">Weights & Biases</a> (<a href='https://wandb.me/run' target=\"_blank\">docs</a>)<br/>Sweep page: <a href='https://wandb.ai/wisdom-jihyekim-aiffel/WandB_with_kfold_used_by_Jindeok/sweeps/zhdriy11' target=\"_blank\">https://wandb.ai/wisdom-jihyekim-aiffel/WandB_with_kfold_used_by_Jindeok/sweeps/zhdriy11</a>"
      ],
      "text/plain": [
       "<IPython.core.display.HTML object>"
      ]
     },
     "metadata": {},
     "output_type": "display_data"
    },
    {
     "data": {
      "text/html": [
       " View project at <a href='https://wandb.ai/wisdom-jihyekim-aiffel/WandB_with_kfold_used_by_Jindeok' target=\"_blank\">https://wandb.ai/wisdom-jihyekim-aiffel/WandB_with_kfold_used_by_Jindeok</a>"
      ],
      "text/plain": [
       "<IPython.core.display.HTML object>"
      ]
     },
     "metadata": {},
     "output_type": "display_data"
    },
    {
     "data": {
      "text/html": [
       " View sweep at <a href='https://wandb.ai/wisdom-jihyekim-aiffel/WandB_with_kfold_used_by_Jindeok/sweeps/zhdriy11' target=\"_blank\">https://wandb.ai/wisdom-jihyekim-aiffel/WandB_with_kfold_used_by_Jindeok/sweeps/zhdriy11</a>"
      ],
      "text/plain": [
       "<IPython.core.display.HTML object>"
      ]
     },
     "metadata": {},
     "output_type": "display_data"
    },
    {
     "data": {
      "text/html": [
       " View run at <a href='https://wandb.ai/wisdom-jihyekim-aiffel/WandB_with_kfold_used_by_Jindeok/runs/3kdlz93q' target=\"_blank\">https://wandb.ai/wisdom-jihyekim-aiffel/WandB_with_kfold_used_by_Jindeok/runs/3kdlz93q</a>"
      ],
      "text/plain": [
       "<IPython.core.display.HTML object>"
      ]
     },
     "metadata": {},
     "output_type": "display_data"
    },
    {
     "name": "stdout",
     "output_type": "stream",
     "text": [
      "Epoch 1/6\n",
      "23/23 [==============================] - 11s 427ms/step - loss: 1.9546 - accuracy: 0.2236 - val_loss: 1.6654 - val_accuracy: 0.3111\n",
      "INFO:tensorflow:Assets written to: /aiffel/aiffel/wandb/run-20241116_203816-3kdlz93q/files/model-best/assets\n"
     ]
    },
    {
     "name": "stderr",
     "output_type": "stream",
     "text": [
      "\u001b[34m\u001b[1mwandb\u001b[0m: Adding directory to artifact (/aiffel/aiffel/wandb/run-20241116_203816-3kdlz93q/files/model-best)... Done. 0.0s\n"
     ]
    },
    {
     "name": "stdout",
     "output_type": "stream",
     "text": [
      "Epoch 2/6\n",
      "23/23 [==============================] - 10s 417ms/step - loss: 1.6352 - accuracy: 0.3014 - val_loss: 1.5735 - val_accuracy: 0.3500\n",
      "INFO:tensorflow:Assets written to: /aiffel/aiffel/wandb/run-20241116_203816-3kdlz93q/files/model-best/assets\n"
     ]
    },
    {
     "name": "stderr",
     "output_type": "stream",
     "text": [
      "\u001b[34m\u001b[1mwandb\u001b[0m: Adding directory to artifact (/aiffel/aiffel/wandb/run-20241116_203816-3kdlz93q/files/model-best)... Done. 0.0s\n"
     ]
    },
    {
     "name": "stdout",
     "output_type": "stream",
     "text": [
      "Epoch 3/6\n",
      "23/23 [==============================] - 10s 417ms/step - loss: 1.4489 - accuracy: 0.3972 - val_loss: 1.4669 - val_accuracy: 0.4000\n",
      "INFO:tensorflow:Assets written to: /aiffel/aiffel/wandb/run-20241116_203816-3kdlz93q/files/model-best/assets\n"
     ]
    },
    {
     "name": "stderr",
     "output_type": "stream",
     "text": [
      "\u001b[34m\u001b[1mwandb\u001b[0m: Adding directory to artifact (/aiffel/aiffel/wandb/run-20241116_203816-3kdlz93q/files/model-best)... Done. 0.0s\n"
     ]
    },
    {
     "name": "stdout",
     "output_type": "stream",
     "text": [
      "Epoch 4/6\n",
      "23/23 [==============================] - 9s 403ms/step - loss: 1.3952 - accuracy: 0.3903 - val_loss: 1.3972 - val_accuracy: 0.4000\n",
      "INFO:tensorflow:Assets written to: /aiffel/aiffel/wandb/run-20241116_203816-3kdlz93q/files/model-best/assets\n"
     ]
    },
    {
     "name": "stderr",
     "output_type": "stream",
     "text": [
      "\u001b[34m\u001b[1mwandb\u001b[0m: Adding directory to artifact (/aiffel/aiffel/wandb/run-20241116_203816-3kdlz93q/files/model-best)... Done. 0.0s\n"
     ]
    },
    {
     "name": "stdout",
     "output_type": "stream",
     "text": [
      "Epoch 5/6\n",
      "23/23 [==============================] - 9s 403ms/step - loss: 1.2700 - accuracy: 0.4972 - val_loss: 1.3729 - val_accuracy: 0.4333\n",
      "INFO:tensorflow:Assets written to: /aiffel/aiffel/wandb/run-20241116_203816-3kdlz93q/files/model-best/assets\n"
     ]
    },
    {
     "name": "stderr",
     "output_type": "stream",
     "text": [
      "\u001b[34m\u001b[1mwandb\u001b[0m: Adding directory to artifact (/aiffel/aiffel/wandb/run-20241116_203816-3kdlz93q/files/model-best)... Done. 0.0s\n"
     ]
    },
    {
     "name": "stdout",
     "output_type": "stream",
     "text": [
      "Epoch 6/6\n",
      "23/23 [==============================] - 9s 398ms/step - loss: 1.1766 - accuracy: 0.5264 - val_loss: 1.3951 - val_accuracy: 0.4389\n",
      "6/6 [==============================] - 2s 291ms/step - loss: 1.3806 - accuracy: 0.4722\n",
      "Validation Accuracy for fold 2: 47.22%\n"
     ]
    },
    {
     "data": {
      "application/vnd.jupyter.widget-view+json": {
       "model_id": "",
       "version_major": 2,
       "version_minor": 0
      },
      "text/plain": [
       "VBox(children=(Label(value='7.759 MB of 7.759 MB uploaded (0.114 MB deduped)\\r'), FloatProgress(value=1.0, max…"
      ]
     },
     "metadata": {},
     "output_type": "display_data"
    },
    {
     "data": {
      "text/html": [
       "W&B sync reduced upload amount by 1.5%             "
      ],
      "text/plain": [
       "<IPython.core.display.HTML object>"
      ]
     },
     "metadata": {},
     "output_type": "display_data"
    },
    {
     "data": {
      "text/html": [
       "<style>\n",
       "    table.wandb td:nth-child(1) { padding: 0 10px; text-align: left ; width: auto;} td:nth-child(2) {text-align: left ; width: 100%}\n",
       "    .wandb-row { display: flex; flex-direction: row; flex-wrap: wrap; justify-content: flex-start; width: 100% }\n",
       "    .wandb-col { display: flex; flex-direction: column; flex-basis: 100%; flex: 1; padding: 10px; }\n",
       "    </style>\n",
       "<div class=\"wandb-row\"><div class=\"wandb-col\"><h3>Run history:</h3><br/><table class=\"wandb\"><tr><td>accuracy</td><td>▁▃▅▅▇█</td></tr><tr><td>epoch</td><td>▁▂▄▅▇█</td></tr><tr><td>loss</td><td>█▅▃▃▂▁</td></tr><tr><td>val_accuracy</td><td>▁▃▆▆██</td></tr><tr><td>val_loss</td><td>█▆▃▂▁▂</td></tr></table><br/></div><div class=\"wandb-col\"><h3>Run summary:</h3><br/><table class=\"wandb\"><tr><td>accuracy</td><td>0.52639</td></tr><tr><td>best_epoch</td><td>4</td></tr><tr><td>best_val_loss</td><td>1.37293</td></tr><tr><td>epoch</td><td>5</td></tr><tr><td>loss</td><td>1.17658</td></tr><tr><td>val_accuracy</td><td>0.43889</td></tr><tr><td>val_loss</td><td>1.39513</td></tr></table><br/></div></div>"
      ],
      "text/plain": [
       "<IPython.core.display.HTML object>"
      ]
     },
     "metadata": {},
     "output_type": "display_data"
    },
    {
     "data": {
      "text/html": [
       " View run <strong style=\"color:#cdcd00\">fold-2</strong> at: <a href='https://wandb.ai/wisdom-jihyekim-aiffel/WandB_with_kfold_used_by_Jindeok/runs/3kdlz93q' target=\"_blank\">https://wandb.ai/wisdom-jihyekim-aiffel/WandB_with_kfold_used_by_Jindeok/runs/3kdlz93q</a><br/>Synced 5 W&B file(s), 1 media file(s), 20 artifact file(s) and 1 other file(s)"
      ],
      "text/plain": [
       "<IPython.core.display.HTML object>"
      ]
     },
     "metadata": {},
     "output_type": "display_data"
    },
    {
     "data": {
      "text/html": [
       "Find logs at: <code>./wandb/run-20241116_203816-3kdlz93q/logs</code>"
      ],
      "text/plain": [
       "<IPython.core.display.HTML object>"
      ]
     },
     "metadata": {},
     "output_type": "display_data"
    },
    {
     "name": "stderr",
     "output_type": "stream",
     "text": [
      "\u001b[34m\u001b[1mwandb\u001b[0m: \u001b[33mWARNING\u001b[0m Ignored wandb.init() arg project when running a sweep.\n"
     ]
    },
    {
     "name": "stdout",
     "output_type": "stream",
     "text": [
      "Fold: 3 ==================================================================\n",
      "Found 720 validated image filenames belonging to 6 classes.\n",
      "Found 180 validated image filenames belonging to 6 classes.\n"
     ]
    },
    {
     "data": {
      "application/vnd.jupyter.widget-view+json": {
       "model_id": "04528c0bc0534feba016c517634d939b",
       "version_major": 2,
       "version_minor": 0
      },
      "text/plain": [
       "VBox(children=(Label(value='Waiting for wandb.init()...\\r'), FloatProgress(value=0.011113509199963624, max=1.0…"
      ]
     },
     "metadata": {},
     "output_type": "display_data"
    },
    {
     "data": {
      "text/html": [
       "wandb version 0.18.7 is available!  To upgrade, please run:\n",
       " $ pip install wandb --upgrade"
      ],
      "text/plain": [
       "<IPython.core.display.HTML object>"
      ]
     },
     "metadata": {},
     "output_type": "display_data"
    },
    {
     "data": {
      "text/html": [
       "Tracking run with wandb version 0.16.0"
      ],
      "text/plain": [
       "<IPython.core.display.HTML object>"
      ]
     },
     "metadata": {},
     "output_type": "display_data"
    },
    {
     "data": {
      "text/html": [
       "Run data is saved locally in <code>/aiffel/aiffel/wandb/run-20241116_203934-3kdlz93q</code>"
      ],
      "text/plain": [
       "<IPython.core.display.HTML object>"
      ]
     },
     "metadata": {},
     "output_type": "display_data"
    },
    {
     "data": {
      "text/html": [
       "Syncing run <strong><a href='https://wandb.ai/wisdom-jihyekim-aiffel/WandB_with_kfold_used_by_Jindeok/runs/3kdlz93q' target=\"_blank\">fold-3</a></strong> to <a href='https://wandb.ai/wisdom-jihyekim-aiffel/WandB_with_kfold_used_by_Jindeok' target=\"_blank\">Weights & Biases</a> (<a href='https://wandb.me/run' target=\"_blank\">docs</a>)<br/>Sweep page: <a href='https://wandb.ai/wisdom-jihyekim-aiffel/WandB_with_kfold_used_by_Jindeok/sweeps/zhdriy11' target=\"_blank\">https://wandb.ai/wisdom-jihyekim-aiffel/WandB_with_kfold_used_by_Jindeok/sweeps/zhdriy11</a>"
      ],
      "text/plain": [
       "<IPython.core.display.HTML object>"
      ]
     },
     "metadata": {},
     "output_type": "display_data"
    },
    {
     "data": {
      "text/html": [
       " View project at <a href='https://wandb.ai/wisdom-jihyekim-aiffel/WandB_with_kfold_used_by_Jindeok' target=\"_blank\">https://wandb.ai/wisdom-jihyekim-aiffel/WandB_with_kfold_used_by_Jindeok</a>"
      ],
      "text/plain": [
       "<IPython.core.display.HTML object>"
      ]
     },
     "metadata": {},
     "output_type": "display_data"
    },
    {
     "data": {
      "text/html": [
       " View sweep at <a href='https://wandb.ai/wisdom-jihyekim-aiffel/WandB_with_kfold_used_by_Jindeok/sweeps/zhdriy11' target=\"_blank\">https://wandb.ai/wisdom-jihyekim-aiffel/WandB_with_kfold_used_by_Jindeok/sweeps/zhdriy11</a>"
      ],
      "text/plain": [
       "<IPython.core.display.HTML object>"
      ]
     },
     "metadata": {},
     "output_type": "display_data"
    },
    {
     "data": {
      "text/html": [
       " View run at <a href='https://wandb.ai/wisdom-jihyekim-aiffel/WandB_with_kfold_used_by_Jindeok/runs/3kdlz93q' target=\"_blank\">https://wandb.ai/wisdom-jihyekim-aiffel/WandB_with_kfold_used_by_Jindeok/runs/3kdlz93q</a>"
      ],
      "text/plain": [
       "<IPython.core.display.HTML object>"
      ]
     },
     "metadata": {},
     "output_type": "display_data"
    },
    {
     "name": "stdout",
     "output_type": "stream",
     "text": [
      "Epoch 1/6\n",
      "23/23 [==============================] - 11s 422ms/step - loss: 2.0462 - accuracy: 0.2125 - val_loss: 1.6446 - val_accuracy: 0.2667\n",
      "INFO:tensorflow:Assets written to: /aiffel/aiffel/wandb/run-20241116_203934-3kdlz93q/files/model-best/assets\n"
     ]
    },
    {
     "name": "stderr",
     "output_type": "stream",
     "text": [
      "\u001b[34m\u001b[1mwandb\u001b[0m: Adding directory to artifact (/aiffel/aiffel/wandb/run-20241116_203934-3kdlz93q/files/model-best)... Done. 0.0s\n"
     ]
    },
    {
     "name": "stdout",
     "output_type": "stream",
     "text": [
      "Epoch 2/6\n",
      "23/23 [==============================] - 9s 402ms/step - loss: 1.6321 - accuracy: 0.3194 - val_loss: 1.5129 - val_accuracy: 0.3778\n",
      "INFO:tensorflow:Assets written to: /aiffel/aiffel/wandb/run-20241116_203934-3kdlz93q/files/model-best/assets\n"
     ]
    },
    {
     "name": "stderr",
     "output_type": "stream",
     "text": [
      "\u001b[34m\u001b[1mwandb\u001b[0m: Adding directory to artifact (/aiffel/aiffel/wandb/run-20241116_203934-3kdlz93q/files/model-best)... Done. 0.0s\n"
     ]
    },
    {
     "name": "stdout",
     "output_type": "stream",
     "text": [
      "Epoch 3/6\n",
      "23/23 [==============================] - 9s 403ms/step - loss: 1.4811 - accuracy: 0.3958 - val_loss: 1.3740 - val_accuracy: 0.4556\n",
      "INFO:tensorflow:Assets written to: /aiffel/aiffel/wandb/run-20241116_203934-3kdlz93q/files/model-best/assets\n"
     ]
    },
    {
     "name": "stderr",
     "output_type": "stream",
     "text": [
      "\u001b[34m\u001b[1mwandb\u001b[0m: Adding directory to artifact (/aiffel/aiffel/wandb/run-20241116_203934-3kdlz93q/files/model-best)... Done. 0.0s\n"
     ]
    },
    {
     "name": "stdout",
     "output_type": "stream",
     "text": [
      "Epoch 4/6\n",
      "23/23 [==============================] - 9s 400ms/step - loss: 1.3902 - accuracy: 0.4194 - val_loss: 1.2326 - val_accuracy: 0.4556\n",
      "INFO:tensorflow:Assets written to: /aiffel/aiffel/wandb/run-20241116_203934-3kdlz93q/files/model-best/assets\n"
     ]
    },
    {
     "name": "stderr",
     "output_type": "stream",
     "text": [
      "\u001b[34m\u001b[1mwandb\u001b[0m: Adding directory to artifact (/aiffel/aiffel/wandb/run-20241116_203934-3kdlz93q/files/model-best)... Done. 0.0s\n"
     ]
    },
    {
     "name": "stdout",
     "output_type": "stream",
     "text": [
      "Epoch 5/6\n",
      "23/23 [==============================] - 10s 408ms/step - loss: 1.2695 - accuracy: 0.4792 - val_loss: 1.1019 - val_accuracy: 0.5722\n",
      "INFO:tensorflow:Assets written to: /aiffel/aiffel/wandb/run-20241116_203934-3kdlz93q/files/model-best/assets\n"
     ]
    },
    {
     "name": "stderr",
     "output_type": "stream",
     "text": [
      "\u001b[34m\u001b[1mwandb\u001b[0m: Adding directory to artifact (/aiffel/aiffel/wandb/run-20241116_203934-3kdlz93q/files/model-best)... Done. 0.0s\n"
     ]
    },
    {
     "name": "stdout",
     "output_type": "stream",
     "text": [
      "Epoch 6/6\n",
      "23/23 [==============================] - 9s 401ms/step - loss: 1.0936 - accuracy: 0.5861 - val_loss: 1.1173 - val_accuracy: 0.5556\n",
      "6/6 [==============================] - 2s 297ms/step - loss: 1.1145 - accuracy: 0.5500\n",
      "Validation Accuracy for fold 3: 55.00%\n"
     ]
    },
    {
     "data": {
      "application/vnd.jupyter.widget-view+json": {
       "model_id": "",
       "version_major": 2,
       "version_minor": 0
      },
      "text/plain": [
       "VBox(children=(Label(value='7.759 MB of 7.759 MB uploaded (0.114 MB deduped)\\r'), FloatProgress(value=1.0, max…"
      ]
     },
     "metadata": {},
     "output_type": "display_data"
    },
    {
     "data": {
      "text/html": [
       "W&B sync reduced upload amount by 1.5%             "
      ],
      "text/plain": [
       "<IPython.core.display.HTML object>"
      ]
     },
     "metadata": {},
     "output_type": "display_data"
    },
    {
     "data": {
      "text/html": [
       "<style>\n",
       "    table.wandb td:nth-child(1) { padding: 0 10px; text-align: left ; width: auto;} td:nth-child(2) {text-align: left ; width: 100%}\n",
       "    .wandb-row { display: flex; flex-direction: row; flex-wrap: wrap; justify-content: flex-start; width: 100% }\n",
       "    .wandb-col { display: flex; flex-direction: column; flex-basis: 100%; flex: 1; padding: 10px; }\n",
       "    </style>\n",
       "<div class=\"wandb-row\"><div class=\"wandb-col\"><h3>Run history:</h3><br/><table class=\"wandb\"><tr><td>accuracy</td><td>▁▃▄▅▆█</td></tr><tr><td>epoch</td><td>▁▂▄▅▇█</td></tr><tr><td>loss</td><td>█▅▄▃▂▁</td></tr><tr><td>val_accuracy</td><td>▁▄▅▅██</td></tr><tr><td>val_loss</td><td>█▆▅▃▁▁</td></tr></table><br/></div><div class=\"wandb-col\"><h3>Run summary:</h3><br/><table class=\"wandb\"><tr><td>accuracy</td><td>0.58611</td></tr><tr><td>best_epoch</td><td>4</td></tr><tr><td>best_val_loss</td><td>1.10189</td></tr><tr><td>epoch</td><td>5</td></tr><tr><td>loss</td><td>1.09358</td></tr><tr><td>val_accuracy</td><td>0.55556</td></tr><tr><td>val_loss</td><td>1.11733</td></tr></table><br/></div></div>"
      ],
      "text/plain": [
       "<IPython.core.display.HTML object>"
      ]
     },
     "metadata": {},
     "output_type": "display_data"
    },
    {
     "data": {
      "text/html": [
       " View run <strong style=\"color:#cdcd00\">fold-3</strong> at: <a href='https://wandb.ai/wisdom-jihyekim-aiffel/WandB_with_kfold_used_by_Jindeok/runs/3kdlz93q' target=\"_blank\">https://wandb.ai/wisdom-jihyekim-aiffel/WandB_with_kfold_used_by_Jindeok/runs/3kdlz93q</a><br/>Synced 5 W&B file(s), 1 media file(s), 20 artifact file(s) and 1 other file(s)"
      ],
      "text/plain": [
       "<IPython.core.display.HTML object>"
      ]
     },
     "metadata": {},
     "output_type": "display_data"
    },
    {
     "data": {
      "text/html": [
       "Find logs at: <code>./wandb/run-20241116_203934-3kdlz93q/logs</code>"
      ],
      "text/plain": [
       "<IPython.core.display.HTML object>"
      ]
     },
     "metadata": {},
     "output_type": "display_data"
    },
    {
     "name": "stderr",
     "output_type": "stream",
     "text": [
      "\u001b[34m\u001b[1mwandb\u001b[0m: \u001b[33mWARNING\u001b[0m Ignored wandb.init() arg project when running a sweep.\n"
     ]
    },
    {
     "name": "stdout",
     "output_type": "stream",
     "text": [
      "Fold: 4 ==================================================================\n",
      "Found 720 validated image filenames belonging to 6 classes.\n",
      "Found 180 validated image filenames belonging to 6 classes.\n"
     ]
    },
    {
     "data": {
      "text/html": [
       "wandb version 0.18.7 is available!  To upgrade, please run:\n",
       " $ pip install wandb --upgrade"
      ],
      "text/plain": [
       "<IPython.core.display.HTML object>"
      ]
     },
     "metadata": {},
     "output_type": "display_data"
    },
    {
     "data": {
      "text/html": [
       "Tracking run with wandb version 0.16.0"
      ],
      "text/plain": [
       "<IPython.core.display.HTML object>"
      ]
     },
     "metadata": {},
     "output_type": "display_data"
    },
    {
     "data": {
      "text/html": [
       "Run data is saved locally in <code>/aiffel/aiffel/wandb/run-20241116_204049-3kdlz93q</code>"
      ],
      "text/plain": [
       "<IPython.core.display.HTML object>"
      ]
     },
     "metadata": {},
     "output_type": "display_data"
    },
    {
     "data": {
      "text/html": [
       "Syncing run <strong><a href='https://wandb.ai/wisdom-jihyekim-aiffel/WandB_with_kfold_used_by_Jindeok/runs/3kdlz93q' target=\"_blank\">fold-4</a></strong> to <a href='https://wandb.ai/wisdom-jihyekim-aiffel/WandB_with_kfold_used_by_Jindeok' target=\"_blank\">Weights & Biases</a> (<a href='https://wandb.me/run' target=\"_blank\">docs</a>)<br/>Sweep page: <a href='https://wandb.ai/wisdom-jihyekim-aiffel/WandB_with_kfold_used_by_Jindeok/sweeps/zhdriy11' target=\"_blank\">https://wandb.ai/wisdom-jihyekim-aiffel/WandB_with_kfold_used_by_Jindeok/sweeps/zhdriy11</a>"
      ],
      "text/plain": [
       "<IPython.core.display.HTML object>"
      ]
     },
     "metadata": {},
     "output_type": "display_data"
    },
    {
     "data": {
      "text/html": [
       " View project at <a href='https://wandb.ai/wisdom-jihyekim-aiffel/WandB_with_kfold_used_by_Jindeok' target=\"_blank\">https://wandb.ai/wisdom-jihyekim-aiffel/WandB_with_kfold_used_by_Jindeok</a>"
      ],
      "text/plain": [
       "<IPython.core.display.HTML object>"
      ]
     },
     "metadata": {},
     "output_type": "display_data"
    },
    {
     "data": {
      "text/html": [
       " View sweep at <a href='https://wandb.ai/wisdom-jihyekim-aiffel/WandB_with_kfold_used_by_Jindeok/sweeps/zhdriy11' target=\"_blank\">https://wandb.ai/wisdom-jihyekim-aiffel/WandB_with_kfold_used_by_Jindeok/sweeps/zhdriy11</a>"
      ],
      "text/plain": [
       "<IPython.core.display.HTML object>"
      ]
     },
     "metadata": {},
     "output_type": "display_data"
    },
    {
     "data": {
      "text/html": [
       " View run at <a href='https://wandb.ai/wisdom-jihyekim-aiffel/WandB_with_kfold_used_by_Jindeok/runs/3kdlz93q' target=\"_blank\">https://wandb.ai/wisdom-jihyekim-aiffel/WandB_with_kfold_used_by_Jindeok/runs/3kdlz93q</a>"
      ],
      "text/plain": [
       "<IPython.core.display.HTML object>"
      ]
     },
     "metadata": {},
     "output_type": "display_data"
    },
    {
     "name": "stdout",
     "output_type": "stream",
     "text": [
      "Epoch 1/6\n",
      "23/23 [==============================] - 11s 430ms/step - loss: 1.9314 - accuracy: 0.2292 - val_loss: 1.8024 - val_accuracy: 0.2833\n",
      "INFO:tensorflow:Assets written to: /aiffel/aiffel/wandb/run-20241116_204049-3kdlz93q/files/model-best/assets\n"
     ]
    },
    {
     "name": "stderr",
     "output_type": "stream",
     "text": [
      "\u001b[34m\u001b[1mwandb\u001b[0m: Adding directory to artifact (/aiffel/aiffel/wandb/run-20241116_204049-3kdlz93q/files/model-best)... Done. 0.0s\n"
     ]
    },
    {
     "name": "stdout",
     "output_type": "stream",
     "text": [
      "Epoch 2/6\n",
      "23/23 [==============================] - 10s 407ms/step - loss: 1.6113 - accuracy: 0.3333 - val_loss: 1.5446 - val_accuracy: 0.3667\n",
      "INFO:tensorflow:Assets written to: /aiffel/aiffel/wandb/run-20241116_204049-3kdlz93q/files/model-best/assets\n"
     ]
    },
    {
     "name": "stderr",
     "output_type": "stream",
     "text": [
      "\u001b[34m\u001b[1mwandb\u001b[0m: Adding directory to artifact (/aiffel/aiffel/wandb/run-20241116_204049-3kdlz93q/files/model-best)... Done. 0.0s\n"
     ]
    },
    {
     "name": "stdout",
     "output_type": "stream",
     "text": [
      "Epoch 3/6\n",
      "23/23 [==============================] - 9s 400ms/step - loss: 1.4318 - accuracy: 0.4333 - val_loss: 1.3723 - val_accuracy: 0.4111\n",
      "INFO:tensorflow:Assets written to: /aiffel/aiffel/wandb/run-20241116_204049-3kdlz93q/files/model-best/assets\n"
     ]
    },
    {
     "name": "stderr",
     "output_type": "stream",
     "text": [
      "\u001b[34m\u001b[1mwandb\u001b[0m: Adding directory to artifact (/aiffel/aiffel/wandb/run-20241116_204049-3kdlz93q/files/model-best)... Done. 0.0s\n"
     ]
    },
    {
     "name": "stdout",
     "output_type": "stream",
     "text": [
      "Epoch 4/6\n",
      "23/23 [==============================] - 10s 399ms/step - loss: 1.3402 - accuracy: 0.4597 - val_loss: 1.3001 - val_accuracy: 0.4444\n",
      "INFO:tensorflow:Assets written to: /aiffel/aiffel/wandb/run-20241116_204049-3kdlz93q/files/model-best/assets\n"
     ]
    },
    {
     "name": "stderr",
     "output_type": "stream",
     "text": [
      "\u001b[34m\u001b[1mwandb\u001b[0m: Adding directory to artifact (/aiffel/aiffel/wandb/run-20241116_204049-3kdlz93q/files/model-best)... Done. 0.0s\n"
     ]
    },
    {
     "name": "stdout",
     "output_type": "stream",
     "text": [
      "Epoch 5/6\n",
      "23/23 [==============================] - 10s 410ms/step - loss: 1.2852 - accuracy: 0.4917 - val_loss: 1.2332 - val_accuracy: 0.5000\n",
      "INFO:tensorflow:Assets written to: /aiffel/aiffel/wandb/run-20241116_204049-3kdlz93q/files/model-best/assets\n"
     ]
    },
    {
     "name": "stderr",
     "output_type": "stream",
     "text": [
      "\u001b[34m\u001b[1mwandb\u001b[0m: Adding directory to artifact (/aiffel/aiffel/wandb/run-20241116_204049-3kdlz93q/files/model-best)... Done. 0.0s\n"
     ]
    },
    {
     "name": "stdout",
     "output_type": "stream",
     "text": [
      "Epoch 6/6\n",
      "23/23 [==============================] - 10s 410ms/step - loss: 1.1850 - accuracy: 0.5250 - val_loss: 1.1940 - val_accuracy: 0.5278\n",
      "INFO:tensorflow:Assets written to: /aiffel/aiffel/wandb/run-20241116_204049-3kdlz93q/files/model-best/assets\n"
     ]
    },
    {
     "name": "stderr",
     "output_type": "stream",
     "text": [
      "\u001b[34m\u001b[1mwandb\u001b[0m: Adding directory to artifact (/aiffel/aiffel/wandb/run-20241116_204049-3kdlz93q/files/model-best)... Done. 0.0s\n"
     ]
    },
    {
     "name": "stdout",
     "output_type": "stream",
     "text": [
      "6/6 [==============================] - 2s 291ms/step - loss: 1.2231 - accuracy: 0.5056\n",
      "Validation Accuracy for fold 4: 50.56%\n"
     ]
    },
    {
     "data": {
      "application/vnd.jupyter.widget-view+json": {
       "model_id": "",
       "version_major": 2,
       "version_minor": 0
      },
      "text/plain": [
       "VBox(children=(Label(value='9.108 MB of 9.117 MB uploaded (0.137 MB deduped)\\r'), FloatProgress(value=0.999029…"
      ]
     },
     "metadata": {},
     "output_type": "display_data"
    },
    {
     "data": {
      "text/html": [
       "W&B sync reduced upload amount by 1.5%             "
      ],
      "text/plain": [
       "<IPython.core.display.HTML object>"
      ]
     },
     "metadata": {},
     "output_type": "display_data"
    },
    {
     "data": {
      "text/html": [
       "<style>\n",
       "    table.wandb td:nth-child(1) { padding: 0 10px; text-align: left ; width: auto;} td:nth-child(2) {text-align: left ; width: 100%}\n",
       "    .wandb-row { display: flex; flex-direction: row; flex-wrap: wrap; justify-content: flex-start; width: 100% }\n",
       "    .wandb-col { display: flex; flex-direction: column; flex-basis: 100%; flex: 1; padding: 10px; }\n",
       "    </style>\n",
       "<div class=\"wandb-row\"><div class=\"wandb-col\"><h3>Run history:</h3><br/><table class=\"wandb\"><tr><td>accuracy</td><td>▁▃▆▆▇█</td></tr><tr><td>epoch</td><td>▁▂▄▅▇█</td></tr><tr><td>loss</td><td>█▅▃▂▂▁</td></tr><tr><td>val_accuracy</td><td>▁▃▅▆▇█</td></tr><tr><td>val_loss</td><td>█▅▃▂▁▁</td></tr></table><br/></div><div class=\"wandb-col\"><h3>Run summary:</h3><br/><table class=\"wandb\"><tr><td>accuracy</td><td>0.525</td></tr><tr><td>best_epoch</td><td>5</td></tr><tr><td>best_val_loss</td><td>1.19395</td></tr><tr><td>epoch</td><td>5</td></tr><tr><td>loss</td><td>1.18497</td></tr><tr><td>val_accuracy</td><td>0.52778</td></tr><tr><td>val_loss</td><td>1.19395</td></tr></table><br/></div></div>"
      ],
      "text/plain": [
       "<IPython.core.display.HTML object>"
      ]
     },
     "metadata": {},
     "output_type": "display_data"
    },
    {
     "data": {
      "text/html": [
       " View run <strong style=\"color:#cdcd00\">fold-4</strong> at: <a href='https://wandb.ai/wisdom-jihyekim-aiffel/WandB_with_kfold_used_by_Jindeok/runs/3kdlz93q' target=\"_blank\">https://wandb.ai/wisdom-jihyekim-aiffel/WandB_with_kfold_used_by_Jindeok/runs/3kdlz93q</a><br/>Synced 5 W&B file(s), 1 media file(s), 24 artifact file(s) and 1 other file(s)"
      ],
      "text/plain": [
       "<IPython.core.display.HTML object>"
      ]
     },
     "metadata": {},
     "output_type": "display_data"
    },
    {
     "data": {
      "text/html": [
       "Find logs at: <code>./wandb/run-20241116_204049-3kdlz93q/logs</code>"
      ],
      "text/plain": [
       "<IPython.core.display.HTML object>"
      ]
     },
     "metadata": {},
     "output_type": "display_data"
    },
    {
     "name": "stderr",
     "output_type": "stream",
     "text": [
      "\u001b[34m\u001b[1mwandb\u001b[0m: \u001b[33mWARNING\u001b[0m Ignored wandb.init() arg project when running a sweep.\n"
     ]
    },
    {
     "name": "stdout",
     "output_type": "stream",
     "text": [
      "Fold: 5 ==================================================================\n",
      "Found 720 validated image filenames belonging to 6 classes.\n",
      "Found 180 validated image filenames belonging to 6 classes.\n"
     ]
    },
    {
     "data": {
      "text/html": [
       "wandb version 0.18.7 is available!  To upgrade, please run:\n",
       " $ pip install wandb --upgrade"
      ],
      "text/plain": [
       "<IPython.core.display.HTML object>"
      ]
     },
     "metadata": {},
     "output_type": "display_data"
    },
    {
     "data": {
      "text/html": [
       "Tracking run with wandb version 0.16.0"
      ],
      "text/plain": [
       "<IPython.core.display.HTML object>"
      ]
     },
     "metadata": {},
     "output_type": "display_data"
    },
    {
     "data": {
      "text/html": [
       "Run data is saved locally in <code>/aiffel/aiffel/wandb/run-20241116_204206-3kdlz93q</code>"
      ],
      "text/plain": [
       "<IPython.core.display.HTML object>"
      ]
     },
     "metadata": {},
     "output_type": "display_data"
    },
    {
     "data": {
      "text/html": [
       "Syncing run <strong><a href='https://wandb.ai/wisdom-jihyekim-aiffel/WandB_with_kfold_used_by_Jindeok/runs/3kdlz93q' target=\"_blank\">fold-5</a></strong> to <a href='https://wandb.ai/wisdom-jihyekim-aiffel/WandB_with_kfold_used_by_Jindeok' target=\"_blank\">Weights & Biases</a> (<a href='https://wandb.me/run' target=\"_blank\">docs</a>)<br/>Sweep page: <a href='https://wandb.ai/wisdom-jihyekim-aiffel/WandB_with_kfold_used_by_Jindeok/sweeps/zhdriy11' target=\"_blank\">https://wandb.ai/wisdom-jihyekim-aiffel/WandB_with_kfold_used_by_Jindeok/sweeps/zhdriy11</a>"
      ],
      "text/plain": [
       "<IPython.core.display.HTML object>"
      ]
     },
     "metadata": {},
     "output_type": "display_data"
    },
    {
     "data": {
      "text/html": [
       " View project at <a href='https://wandb.ai/wisdom-jihyekim-aiffel/WandB_with_kfold_used_by_Jindeok' target=\"_blank\">https://wandb.ai/wisdom-jihyekim-aiffel/WandB_with_kfold_used_by_Jindeok</a>"
      ],
      "text/plain": [
       "<IPython.core.display.HTML object>"
      ]
     },
     "metadata": {},
     "output_type": "display_data"
    },
    {
     "data": {
      "text/html": [
       " View sweep at <a href='https://wandb.ai/wisdom-jihyekim-aiffel/WandB_with_kfold_used_by_Jindeok/sweeps/zhdriy11' target=\"_blank\">https://wandb.ai/wisdom-jihyekim-aiffel/WandB_with_kfold_used_by_Jindeok/sweeps/zhdriy11</a>"
      ],
      "text/plain": [
       "<IPython.core.display.HTML object>"
      ]
     },
     "metadata": {},
     "output_type": "display_data"
    },
    {
     "data": {
      "text/html": [
       " View run at <a href='https://wandb.ai/wisdom-jihyekim-aiffel/WandB_with_kfold_used_by_Jindeok/runs/3kdlz93q' target=\"_blank\">https://wandb.ai/wisdom-jihyekim-aiffel/WandB_with_kfold_used_by_Jindeok/runs/3kdlz93q</a>"
      ],
      "text/plain": [
       "<IPython.core.display.HTML object>"
      ]
     },
     "metadata": {},
     "output_type": "display_data"
    },
    {
     "name": "stdout",
     "output_type": "stream",
     "text": [
      "Epoch 1/6\n",
      "23/23 [==============================] - 11s 431ms/step - loss: 1.9304 - accuracy: 0.2556 - val_loss: 1.6536 - val_accuracy: 0.2889\n",
      "INFO:tensorflow:Assets written to: /aiffel/aiffel/wandb/run-20241116_204206-3kdlz93q/files/model-best/assets\n"
     ]
    },
    {
     "name": "stderr",
     "output_type": "stream",
     "text": [
      "\u001b[34m\u001b[1mwandb\u001b[0m: Adding directory to artifact (/aiffel/aiffel/wandb/run-20241116_204206-3kdlz93q/files/model-best)... Done. 0.0s\n"
     ]
    },
    {
     "name": "stdout",
     "output_type": "stream",
     "text": [
      "Epoch 2/6\n",
      "23/23 [==============================] - 9s 403ms/step - loss: 1.5420 - accuracy: 0.3750 - val_loss: 1.5106 - val_accuracy: 0.3778\n",
      "INFO:tensorflow:Assets written to: /aiffel/aiffel/wandb/run-20241116_204206-3kdlz93q/files/model-best/assets\n"
     ]
    },
    {
     "name": "stderr",
     "output_type": "stream",
     "text": [
      "\u001b[34m\u001b[1mwandb\u001b[0m: Adding directory to artifact (/aiffel/aiffel/wandb/run-20241116_204206-3kdlz93q/files/model-best)... Done. 0.0s\n"
     ]
    },
    {
     "name": "stdout",
     "output_type": "stream",
     "text": [
      "Epoch 3/6\n",
      "23/23 [==============================] - 9s 405ms/step - loss: 1.3981 - accuracy: 0.4458 - val_loss: 1.3938 - val_accuracy: 0.4056\n",
      "INFO:tensorflow:Assets written to: /aiffel/aiffel/wandb/run-20241116_204206-3kdlz93q/files/model-best/assets\n"
     ]
    },
    {
     "name": "stderr",
     "output_type": "stream",
     "text": [
      "\u001b[34m\u001b[1mwandb\u001b[0m: Adding directory to artifact (/aiffel/aiffel/wandb/run-20241116_204206-3kdlz93q/files/model-best)... Done. 0.0s\n"
     ]
    },
    {
     "name": "stdout",
     "output_type": "stream",
     "text": [
      "Epoch 4/6\n",
      "23/23 [==============================] - 10s 405ms/step - loss: 1.2751 - accuracy: 0.4847 - val_loss: 1.3638 - val_accuracy: 0.4722\n",
      "INFO:tensorflow:Assets written to: /aiffel/aiffel/wandb/run-20241116_204206-3kdlz93q/files/model-best/assets\n"
     ]
    },
    {
     "name": "stderr",
     "output_type": "stream",
     "text": [
      "\u001b[34m\u001b[1mwandb\u001b[0m: Adding directory to artifact (/aiffel/aiffel/wandb/run-20241116_204206-3kdlz93q/files/model-best)... Done. 0.0s\n"
     ]
    },
    {
     "name": "stdout",
     "output_type": "stream",
     "text": [
      "Epoch 5/6\n",
      "23/23 [==============================] - 10s 407ms/step - loss: 1.1782 - accuracy: 0.5375 - val_loss: 1.1770 - val_accuracy: 0.5500\n",
      "INFO:tensorflow:Assets written to: /aiffel/aiffel/wandb/run-20241116_204206-3kdlz93q/files/model-best/assets\n"
     ]
    },
    {
     "name": "stderr",
     "output_type": "stream",
     "text": [
      "\u001b[34m\u001b[1mwandb\u001b[0m: Adding directory to artifact (/aiffel/aiffel/wandb/run-20241116_204206-3kdlz93q/files/model-best)... Done. 0.0s\n"
     ]
    },
    {
     "name": "stdout",
     "output_type": "stream",
     "text": [
      "Epoch 6/6\n",
      "23/23 [==============================] - 10s 406ms/step - loss: 1.0974 - accuracy: 0.5764 - val_loss: 1.2651 - val_accuracy: 0.4944\n",
      "6/6 [==============================] - 2s 303ms/step - loss: 1.2560 - accuracy: 0.5000\n",
      "Validation Accuracy for fold 5: 50.00%\n"
     ]
    },
    {
     "data": {
      "application/vnd.jupyter.widget-view+json": {
       "model_id": "",
       "version_major": 2,
       "version_minor": 0
      },
      "text/plain": [
       "VBox(children=(Label(value='7.771 MB of 7.771 MB uploaded (0.114 MB deduped)\\r'), FloatProgress(value=1.0, max…"
      ]
     },
     "metadata": {},
     "output_type": "display_data"
    },
    {
     "data": {
      "text/html": [
       "W&B sync reduced upload amount by 1.5%             "
      ],
      "text/plain": [
       "<IPython.core.display.HTML object>"
      ]
     },
     "metadata": {},
     "output_type": "display_data"
    },
    {
     "data": {
      "text/html": [
       "<style>\n",
       "    table.wandb td:nth-child(1) { padding: 0 10px; text-align: left ; width: auto;} td:nth-child(2) {text-align: left ; width: 100%}\n",
       "    .wandb-row { display: flex; flex-direction: row; flex-wrap: wrap; justify-content: flex-start; width: 100% }\n",
       "    .wandb-col { display: flex; flex-direction: column; flex-basis: 100%; flex: 1; padding: 10px; }\n",
       "    </style>\n",
       "<div class=\"wandb-row\"><div class=\"wandb-col\"><h3>Run history:</h3><br/><table class=\"wandb\"><tr><td>accuracy</td><td>▁▄▅▆▇█</td></tr><tr><td>epoch</td><td>▁▂▄▅▇█</td></tr><tr><td>loss</td><td>█▅▄▂▂▁</td></tr><tr><td>val_accuracy</td><td>▁▃▄▆█▇</td></tr><tr><td>val_loss</td><td>█▆▄▄▁▂</td></tr></table><br/></div><div class=\"wandb-col\"><h3>Run summary:</h3><br/><table class=\"wandb\"><tr><td>accuracy</td><td>0.57639</td></tr><tr><td>best_epoch</td><td>4</td></tr><tr><td>best_val_loss</td><td>1.17704</td></tr><tr><td>epoch</td><td>5</td></tr><tr><td>loss</td><td>1.0974</td></tr><tr><td>val_accuracy</td><td>0.49444</td></tr><tr><td>val_loss</td><td>1.2651</td></tr></table><br/></div></div>"
      ],
      "text/plain": [
       "<IPython.core.display.HTML object>"
      ]
     },
     "metadata": {},
     "output_type": "display_data"
    },
    {
     "data": {
      "text/html": [
       " View run <strong style=\"color:#cdcd00\">fold-5</strong> at: <a href='https://wandb.ai/wisdom-jihyekim-aiffel/WandB_with_kfold_used_by_Jindeok/runs/3kdlz93q' target=\"_blank\">https://wandb.ai/wisdom-jihyekim-aiffel/WandB_with_kfold_used_by_Jindeok/runs/3kdlz93q</a><br/>Synced 5 W&B file(s), 1 media file(s), 20 artifact file(s) and 1 other file(s)"
      ],
      "text/plain": [
       "<IPython.core.display.HTML object>"
      ]
     },
     "metadata": {},
     "output_type": "display_data"
    },
    {
     "data": {
      "text/html": [
       "Find logs at: <code>./wandb/run-20241116_204206-3kdlz93q/logs</code>"
      ],
      "text/plain": [
       "<IPython.core.display.HTML object>"
      ]
     },
     "metadata": {},
     "output_type": "display_data"
    },
    {
     "name": "stderr",
     "output_type": "stream",
     "text": [
      "\u001b[34m\u001b[1mwandb\u001b[0m: Agent Starting Run: anxur2o0 with config:\n",
      "\u001b[34m\u001b[1mwandb\u001b[0m: \tepoch: 5\n",
      "\u001b[34m\u001b[1mwandb\u001b[0m: \tlearning_rate: 0.014038755567154428\n"
     ]
    },
    {
     "data": {
      "text/html": [
       "wandb version 0.18.7 is available!  To upgrade, please run:\n",
       " $ pip install wandb --upgrade"
      ],
      "text/plain": [
       "<IPython.core.display.HTML object>"
      ]
     },
     "metadata": {},
     "output_type": "display_data"
    },
    {
     "data": {
      "text/html": [
       "Tracking run with wandb version 0.16.0"
      ],
      "text/plain": [
       "<IPython.core.display.HTML object>"
      ]
     },
     "metadata": {},
     "output_type": "display_data"
    },
    {
     "data": {
      "text/html": [
       "Run data is saved locally in <code>/aiffel/aiffel/wandb/run-20241116_204329-anxur2o0</code>"
      ],
      "text/plain": [
       "<IPython.core.display.HTML object>"
      ]
     },
     "metadata": {},
     "output_type": "display_data"
    },
    {
     "data": {
      "text/html": [
       "Syncing run <strong><a href='https://wandb.ai/wisdom-jihyekim-aiffel/WandB_with_kfold_used_by_Jindeok/runs/anxur2o0' target=\"_blank\">bumbling-sweep-3</a></strong> to <a href='https://wandb.ai/wisdom-jihyekim-aiffel/WandB_with_kfold_used_by_Jindeok' target=\"_blank\">Weights & Biases</a> (<a href='https://wandb.me/run' target=\"_blank\">docs</a>)<br/>Sweep page: <a href='https://wandb.ai/wisdom-jihyekim-aiffel/WandB_with_kfold_used_by_Jindeok/sweeps/zhdriy11' target=\"_blank\">https://wandb.ai/wisdom-jihyekim-aiffel/WandB_with_kfold_used_by_Jindeok/sweeps/zhdriy11</a>"
      ],
      "text/plain": [
       "<IPython.core.display.HTML object>"
      ]
     },
     "metadata": {},
     "output_type": "display_data"
    },
    {
     "data": {
      "text/html": [
       " View project at <a href='https://wandb.ai/wisdom-jihyekim-aiffel/WandB_with_kfold_used_by_Jindeok' target=\"_blank\">https://wandb.ai/wisdom-jihyekim-aiffel/WandB_with_kfold_used_by_Jindeok</a>"
      ],
      "text/plain": [
       "<IPython.core.display.HTML object>"
      ]
     },
     "metadata": {},
     "output_type": "display_data"
    },
    {
     "data": {
      "text/html": [
       " View sweep at <a href='https://wandb.ai/wisdom-jihyekim-aiffel/WandB_with_kfold_used_by_Jindeok/sweeps/zhdriy11' target=\"_blank\">https://wandb.ai/wisdom-jihyekim-aiffel/WandB_with_kfold_used_by_Jindeok/sweeps/zhdriy11</a>"
      ],
      "text/plain": [
       "<IPython.core.display.HTML object>"
      ]
     },
     "metadata": {},
     "output_type": "display_data"
    },
    {
     "data": {
      "text/html": [
       " View run at <a href='https://wandb.ai/wisdom-jihyekim-aiffel/WandB_with_kfold_used_by_Jindeok/runs/anxur2o0' target=\"_blank\">https://wandb.ai/wisdom-jihyekim-aiffel/WandB_with_kfold_used_by_Jindeok/runs/anxur2o0</a>"
      ],
      "text/plain": [
       "<IPython.core.display.HTML object>"
      ]
     },
     "metadata": {},
     "output_type": "display_data"
    },
    {
     "name": "stderr",
     "output_type": "stream",
     "text": [
      "\u001b[34m\u001b[1mwandb\u001b[0m: \u001b[33mWARNING\u001b[0m Ignored wandb.init() arg project when running a sweep.\n"
     ]
    },
    {
     "name": "stdout",
     "output_type": "stream",
     "text": [
      "Fold: 1 ==================================================================\n",
      "Found 720 validated image filenames belonging to 6 classes.\n",
      "Found 180 validated image filenames belonging to 6 classes.\n"
     ]
    },
    {
     "data": {
      "text/html": [
       "Finishing last run (ID:anxur2o0) before initializing another..."
      ],
      "text/plain": [
       "<IPython.core.display.HTML object>"
      ]
     },
     "metadata": {},
     "output_type": "display_data"
    },
    {
     "data": {
      "application/vnd.jupyter.widget-view+json": {
       "model_id": "",
       "version_major": 2,
       "version_minor": 0
      },
      "text/plain": [
       "VBox(children=(Label(value='0.008 MB of 0.008 MB uploaded\\r'), FloatProgress(value=1.0, max=1.0)))"
      ]
     },
     "metadata": {},
     "output_type": "display_data"
    },
    {
     "data": {
      "text/html": [
       " View run <strong style=\"color:#cdcd00\">bumbling-sweep-3</strong> at: <a href='https://wandb.ai/wisdom-jihyekim-aiffel/WandB_with_kfold_used_by_Jindeok/runs/anxur2o0' target=\"_blank\">https://wandb.ai/wisdom-jihyekim-aiffel/WandB_with_kfold_used_by_Jindeok/runs/anxur2o0</a><br/>Synced 5 W&B file(s), 0 media file(s), 0 artifact file(s) and 0 other file(s)"
      ],
      "text/plain": [
       "<IPython.core.display.HTML object>"
      ]
     },
     "metadata": {},
     "output_type": "display_data"
    },
    {
     "data": {
      "text/html": [
       "Find logs at: <code>./wandb/run-20241116_204329-anxur2o0/logs</code>"
      ],
      "text/plain": [
       "<IPython.core.display.HTML object>"
      ]
     },
     "metadata": {},
     "output_type": "display_data"
    },
    {
     "data": {
      "text/html": [
       "Successfully finished last run (ID:anxur2o0). Initializing new run:<br/>"
      ],
      "text/plain": [
       "<IPython.core.display.HTML object>"
      ]
     },
     "metadata": {},
     "output_type": "display_data"
    },
    {
     "data": {
      "application/vnd.jupyter.widget-view+json": {
       "model_id": "bfea91919c0040a8b7ad1cc02732ca75",
       "version_major": 2,
       "version_minor": 0
      },
      "text/plain": [
       "VBox(children=(Label(value='Waiting for wandb.init()...\\r'), FloatProgress(value=0.011112584177802394, max=1.0…"
      ]
     },
     "metadata": {},
     "output_type": "display_data"
    },
    {
     "data": {
      "text/html": [
       "wandb version 0.18.7 is available!  To upgrade, please run:\n",
       " $ pip install wandb --upgrade"
      ],
      "text/plain": [
       "<IPython.core.display.HTML object>"
      ]
     },
     "metadata": {},
     "output_type": "display_data"
    },
    {
     "data": {
      "text/html": [
       "Tracking run with wandb version 0.16.0"
      ],
      "text/plain": [
       "<IPython.core.display.HTML object>"
      ]
     },
     "metadata": {},
     "output_type": "display_data"
    },
    {
     "data": {
      "text/html": [
       "Run data is saved locally in <code>/aiffel/aiffel/wandb/run-20241116_204330-anxur2o0</code>"
      ],
      "text/plain": [
       "<IPython.core.display.HTML object>"
      ]
     },
     "metadata": {},
     "output_type": "display_data"
    },
    {
     "data": {
      "text/html": [
       "Syncing run <strong><a href='https://wandb.ai/wisdom-jihyekim-aiffel/WandB_with_kfold_used_by_Jindeok/runs/anxur2o0' target=\"_blank\">fold-1</a></strong> to <a href='https://wandb.ai/wisdom-jihyekim-aiffel/WandB_with_kfold_used_by_Jindeok' target=\"_blank\">Weights & Biases</a> (<a href='https://wandb.me/run' target=\"_blank\">docs</a>)<br/>Sweep page: <a href='https://wandb.ai/wisdom-jihyekim-aiffel/WandB_with_kfold_used_by_Jindeok/sweeps/zhdriy11' target=\"_blank\">https://wandb.ai/wisdom-jihyekim-aiffel/WandB_with_kfold_used_by_Jindeok/sweeps/zhdriy11</a>"
      ],
      "text/plain": [
       "<IPython.core.display.HTML object>"
      ]
     },
     "metadata": {},
     "output_type": "display_data"
    },
    {
     "data": {
      "text/html": [
       " View project at <a href='https://wandb.ai/wisdom-jihyekim-aiffel/WandB_with_kfold_used_by_Jindeok' target=\"_blank\">https://wandb.ai/wisdom-jihyekim-aiffel/WandB_with_kfold_used_by_Jindeok</a>"
      ],
      "text/plain": [
       "<IPython.core.display.HTML object>"
      ]
     },
     "metadata": {},
     "output_type": "display_data"
    },
    {
     "data": {
      "text/html": [
       " View sweep at <a href='https://wandb.ai/wisdom-jihyekim-aiffel/WandB_with_kfold_used_by_Jindeok/sweeps/zhdriy11' target=\"_blank\">https://wandb.ai/wisdom-jihyekim-aiffel/WandB_with_kfold_used_by_Jindeok/sweeps/zhdriy11</a>"
      ],
      "text/plain": [
       "<IPython.core.display.HTML object>"
      ]
     },
     "metadata": {},
     "output_type": "display_data"
    },
    {
     "data": {
      "text/html": [
       " View run at <a href='https://wandb.ai/wisdom-jihyekim-aiffel/WandB_with_kfold_used_by_Jindeok/runs/anxur2o0' target=\"_blank\">https://wandb.ai/wisdom-jihyekim-aiffel/WandB_with_kfold_used_by_Jindeok/runs/anxur2o0</a>"
      ],
      "text/plain": [
       "<IPython.core.display.HTML object>"
      ]
     },
     "metadata": {},
     "output_type": "display_data"
    },
    {
     "name": "stdout",
     "output_type": "stream",
     "text": [
      "Epoch 1/5\n",
      "23/23 [==============================] - 11s 432ms/step - loss: 1.8688 - accuracy: 0.2583 - val_loss: 1.6743 - val_accuracy: 0.3444\n",
      "INFO:tensorflow:Assets written to: /aiffel/aiffel/wandb/run-20241116_204330-anxur2o0/files/model-best/assets\n"
     ]
    },
    {
     "name": "stderr",
     "output_type": "stream",
     "text": [
      "\u001b[34m\u001b[1mwandb\u001b[0m: Adding directory to artifact (/aiffel/aiffel/wandb/run-20241116_204330-anxur2o0/files/model-best)... Done. 0.0s\n"
     ]
    },
    {
     "name": "stdout",
     "output_type": "stream",
     "text": [
      "Epoch 2/5\n",
      "23/23 [==============================] - 10s 405ms/step - loss: 1.5796 - accuracy: 0.3236 - val_loss: 1.5431 - val_accuracy: 0.3444\n",
      "INFO:tensorflow:Assets written to: /aiffel/aiffel/wandb/run-20241116_204330-anxur2o0/files/model-best/assets\n"
     ]
    },
    {
     "name": "stderr",
     "output_type": "stream",
     "text": [
      "\u001b[34m\u001b[1mwandb\u001b[0m: Adding directory to artifact (/aiffel/aiffel/wandb/run-20241116_204330-anxur2o0/files/model-best)... Done. 0.0s\n"
     ]
    },
    {
     "name": "stdout",
     "output_type": "stream",
     "text": [
      "Epoch 3/5\n",
      "23/23 [==============================] - 10s 413ms/step - loss: 1.4206 - accuracy: 0.4153 - val_loss: 1.4111 - val_accuracy: 0.4167\n",
      "INFO:tensorflow:Assets written to: /aiffel/aiffel/wandb/run-20241116_204330-anxur2o0/files/model-best/assets\n"
     ]
    },
    {
     "name": "stderr",
     "output_type": "stream",
     "text": [
      "\u001b[34m\u001b[1mwandb\u001b[0m: Adding directory to artifact (/aiffel/aiffel/wandb/run-20241116_204330-anxur2o0/files/model-best)... Done. 0.0s\n"
     ]
    },
    {
     "name": "stdout",
     "output_type": "stream",
     "text": [
      "Epoch 4/5\n",
      "23/23 [==============================] - 10s 416ms/step - loss: 1.2679 - accuracy: 0.4972 - val_loss: 1.3382 - val_accuracy: 0.4389\n",
      "INFO:tensorflow:Assets written to: /aiffel/aiffel/wandb/run-20241116_204330-anxur2o0/files/model-best/assets\n"
     ]
    },
    {
     "name": "stderr",
     "output_type": "stream",
     "text": [
      "\u001b[34m\u001b[1mwandb\u001b[0m: Adding directory to artifact (/aiffel/aiffel/wandb/run-20241116_204330-anxur2o0/files/model-best)... Done. 0.0s\n"
     ]
    },
    {
     "name": "stdout",
     "output_type": "stream",
     "text": [
      "Epoch 5/5\n",
      "23/23 [==============================] - 10s 415ms/step - loss: 1.1974 - accuracy: 0.5403 - val_loss: 1.2863 - val_accuracy: 0.4778\n",
      "INFO:tensorflow:Assets written to: /aiffel/aiffel/wandb/run-20241116_204330-anxur2o0/files/model-best/assets\n"
     ]
    },
    {
     "name": "stderr",
     "output_type": "stream",
     "text": [
      "\u001b[34m\u001b[1mwandb\u001b[0m: Adding directory to artifact (/aiffel/aiffel/wandb/run-20241116_204330-anxur2o0/files/model-best)... Done. 0.0s\n"
     ]
    },
    {
     "name": "stdout",
     "output_type": "stream",
     "text": [
      "6/6 [==============================] - 2s 287ms/step - loss: 1.2249 - accuracy: 0.5444\n",
      "Validation Accuracy for fold 1: 54.44%\n"
     ]
    },
    {
     "data": {
      "application/vnd.jupyter.widget-view+json": {
       "model_id": "",
       "version_major": 2,
       "version_minor": 0
      },
      "text/plain": [
       "VBox(children=(Label(value='7.743 MB of 7.751 MB uploaded (0.113 MB deduped)\\r'), FloatProgress(value=0.998905…"
      ]
     },
     "metadata": {},
     "output_type": "display_data"
    },
    {
     "data": {
      "text/html": [
       "W&B sync reduced upload amount by 1.5%             "
      ],
      "text/plain": [
       "<IPython.core.display.HTML object>"
      ]
     },
     "metadata": {},
     "output_type": "display_data"
    },
    {
     "data": {
      "text/html": [
       "<style>\n",
       "    table.wandb td:nth-child(1) { padding: 0 10px; text-align: left ; width: auto;} td:nth-child(2) {text-align: left ; width: 100%}\n",
       "    .wandb-row { display: flex; flex-direction: row; flex-wrap: wrap; justify-content: flex-start; width: 100% }\n",
       "    .wandb-col { display: flex; flex-direction: column; flex-basis: 100%; flex: 1; padding: 10px; }\n",
       "    </style>\n",
       "<div class=\"wandb-row\"><div class=\"wandb-col\"><h3>Run history:</h3><br/><table class=\"wandb\"><tr><td>accuracy</td><td>▁▃▅▇█</td></tr><tr><td>epoch</td><td>▁▃▅▆█</td></tr><tr><td>loss</td><td>█▅▃▂▁</td></tr><tr><td>val_accuracy</td><td>▁▁▅▆█</td></tr><tr><td>val_loss</td><td>█▆▃▂▁</td></tr></table><br/></div><div class=\"wandb-col\"><h3>Run summary:</h3><br/><table class=\"wandb\"><tr><td>accuracy</td><td>0.54028</td></tr><tr><td>best_epoch</td><td>4</td></tr><tr><td>best_val_loss</td><td>1.28628</td></tr><tr><td>epoch</td><td>4</td></tr><tr><td>loss</td><td>1.19743</td></tr><tr><td>val_accuracy</td><td>0.47778</td></tr><tr><td>val_loss</td><td>1.28628</td></tr></table><br/></div></div>"
      ],
      "text/plain": [
       "<IPython.core.display.HTML object>"
      ]
     },
     "metadata": {},
     "output_type": "display_data"
    },
    {
     "data": {
      "text/html": [
       " View run <strong style=\"color:#cdcd00\">fold-1</strong> at: <a href='https://wandb.ai/wisdom-jihyekim-aiffel/WandB_with_kfold_used_by_Jindeok/runs/anxur2o0' target=\"_blank\">https://wandb.ai/wisdom-jihyekim-aiffel/WandB_with_kfold_used_by_Jindeok/runs/anxur2o0</a><br/>Synced 5 W&B file(s), 1 media file(s), 20 artifact file(s) and 1 other file(s)"
      ],
      "text/plain": [
       "<IPython.core.display.HTML object>"
      ]
     },
     "metadata": {},
     "output_type": "display_data"
    },
    {
     "data": {
      "text/html": [
       "Find logs at: <code>./wandb/run-20241116_204330-anxur2o0/logs</code>"
      ],
      "text/plain": [
       "<IPython.core.display.HTML object>"
      ]
     },
     "metadata": {},
     "output_type": "display_data"
    },
    {
     "name": "stderr",
     "output_type": "stream",
     "text": [
      "\u001b[34m\u001b[1mwandb\u001b[0m: \u001b[33mWARNING\u001b[0m Ignored wandb.init() arg project when running a sweep.\n"
     ]
    },
    {
     "name": "stdout",
     "output_type": "stream",
     "text": [
      "Fold: 2 ==================================================================\n",
      "Found 720 validated image filenames belonging to 6 classes.\n",
      "Found 180 validated image filenames belonging to 6 classes.\n"
     ]
    },
    {
     "data": {
      "application/vnd.jupyter.widget-view+json": {
       "model_id": "bf76794671d140ab8d5101a24bdce521",
       "version_major": 2,
       "version_minor": 0
      },
      "text/plain": [
       "VBox(children=(Label(value='Waiting for wandb.init()...\\r'), FloatProgress(value=0.011112944155481981, max=1.0…"
      ]
     },
     "metadata": {},
     "output_type": "display_data"
    },
    {
     "data": {
      "text/html": [
       "wandb version 0.18.7 is available!  To upgrade, please run:\n",
       " $ pip install wandb --upgrade"
      ],
      "text/plain": [
       "<IPython.core.display.HTML object>"
      ]
     },
     "metadata": {},
     "output_type": "display_data"
    },
    {
     "data": {
      "text/html": [
       "Tracking run with wandb version 0.16.0"
      ],
      "text/plain": [
       "<IPython.core.display.HTML object>"
      ]
     },
     "metadata": {},
     "output_type": "display_data"
    },
    {
     "data": {
      "text/html": [
       "Run data is saved locally in <code>/aiffel/aiffel/wandb/run-20241116_204443-anxur2o0</code>"
      ],
      "text/plain": [
       "<IPython.core.display.HTML object>"
      ]
     },
     "metadata": {},
     "output_type": "display_data"
    },
    {
     "data": {
      "text/html": [
       "Syncing run <strong><a href='https://wandb.ai/wisdom-jihyekim-aiffel/WandB_with_kfold_used_by_Jindeok/runs/anxur2o0' target=\"_blank\">fold-2</a></strong> to <a href='https://wandb.ai/wisdom-jihyekim-aiffel/WandB_with_kfold_used_by_Jindeok' target=\"_blank\">Weights & Biases</a> (<a href='https://wandb.me/run' target=\"_blank\">docs</a>)<br/>Sweep page: <a href='https://wandb.ai/wisdom-jihyekim-aiffel/WandB_with_kfold_used_by_Jindeok/sweeps/zhdriy11' target=\"_blank\">https://wandb.ai/wisdom-jihyekim-aiffel/WandB_with_kfold_used_by_Jindeok/sweeps/zhdriy11</a>"
      ],
      "text/plain": [
       "<IPython.core.display.HTML object>"
      ]
     },
     "metadata": {},
     "output_type": "display_data"
    },
    {
     "data": {
      "text/html": [
       " View project at <a href='https://wandb.ai/wisdom-jihyekim-aiffel/WandB_with_kfold_used_by_Jindeok' target=\"_blank\">https://wandb.ai/wisdom-jihyekim-aiffel/WandB_with_kfold_used_by_Jindeok</a>"
      ],
      "text/plain": [
       "<IPython.core.display.HTML object>"
      ]
     },
     "metadata": {},
     "output_type": "display_data"
    },
    {
     "data": {
      "text/html": [
       " View sweep at <a href='https://wandb.ai/wisdom-jihyekim-aiffel/WandB_with_kfold_used_by_Jindeok/sweeps/zhdriy11' target=\"_blank\">https://wandb.ai/wisdom-jihyekim-aiffel/WandB_with_kfold_used_by_Jindeok/sweeps/zhdriy11</a>"
      ],
      "text/plain": [
       "<IPython.core.display.HTML object>"
      ]
     },
     "metadata": {},
     "output_type": "display_data"
    },
    {
     "data": {
      "text/html": [
       " View run at <a href='https://wandb.ai/wisdom-jihyekim-aiffel/WandB_with_kfold_used_by_Jindeok/runs/anxur2o0' target=\"_blank\">https://wandb.ai/wisdom-jihyekim-aiffel/WandB_with_kfold_used_by_Jindeok/runs/anxur2o0</a>"
      ],
      "text/plain": [
       "<IPython.core.display.HTML object>"
      ]
     },
     "metadata": {},
     "output_type": "display_data"
    },
    {
     "name": "stdout",
     "output_type": "stream",
     "text": [
      "Epoch 1/5\n",
      "23/23 [==============================] - 11s 445ms/step - loss: 1.8301 - accuracy: 0.2319 - val_loss: 1.7137 - val_accuracy: 0.2333\n",
      "INFO:tensorflow:Assets written to: /aiffel/aiffel/wandb/run-20241116_204443-anxur2o0/files/model-best/assets\n"
     ]
    },
    {
     "name": "stderr",
     "output_type": "stream",
     "text": [
      "\u001b[34m\u001b[1mwandb\u001b[0m: Adding directory to artifact (/aiffel/aiffel/wandb/run-20241116_204443-anxur2o0/files/model-best)... Done. 0.0s\n"
     ]
    },
    {
     "name": "stdout",
     "output_type": "stream",
     "text": [
      "Epoch 2/5\n",
      "23/23 [==============================] - 10s 408ms/step - loss: 1.5946 - accuracy: 0.3292 - val_loss: 1.5512 - val_accuracy: 0.3611\n",
      "INFO:tensorflow:Assets written to: /aiffel/aiffel/wandb/run-20241116_204443-anxur2o0/files/model-best/assets\n"
     ]
    },
    {
     "name": "stderr",
     "output_type": "stream",
     "text": [
      "\u001b[34m\u001b[1mwandb\u001b[0m: Adding directory to artifact (/aiffel/aiffel/wandb/run-20241116_204443-anxur2o0/files/model-best)... Done. 0.0s\n"
     ]
    },
    {
     "name": "stdout",
     "output_type": "stream",
     "text": [
      "Epoch 3/5\n",
      "23/23 [==============================] - 9s 399ms/step - loss: 1.4754 - accuracy: 0.3639 - val_loss: 1.5649 - val_accuracy: 0.3556\n",
      "Epoch 4/5\n",
      "23/23 [==============================] - 10s 411ms/step - loss: 1.3900 - accuracy: 0.4236 - val_loss: 1.4301 - val_accuracy: 0.4278\n",
      "INFO:tensorflow:Assets written to: /aiffel/aiffel/wandb/run-20241116_204443-anxur2o0/files/model-best/assets\n"
     ]
    },
    {
     "name": "stderr",
     "output_type": "stream",
     "text": [
      "\u001b[34m\u001b[1mwandb\u001b[0m: Adding directory to artifact (/aiffel/aiffel/wandb/run-20241116_204443-anxur2o0/files/model-best)... Done. 0.0s\n"
     ]
    },
    {
     "name": "stdout",
     "output_type": "stream",
     "text": [
      "Epoch 5/5\n",
      "23/23 [==============================] - 9s 404ms/step - loss: 1.2848 - accuracy: 0.4694 - val_loss: 1.4580 - val_accuracy: 0.4278\n",
      "6/6 [==============================] - 2s 292ms/step - loss: 1.4498 - accuracy: 0.4333\n",
      "Validation Accuracy for fold 2: 43.33%\n"
     ]
    },
    {
     "data": {
      "application/vnd.jupyter.widget-view+json": {
       "model_id": "",
       "version_major": 2,
       "version_minor": 0
      },
      "text/plain": [
       "VBox(children=(Label(value='5.079 MB of 5.079 MB uploaded (0.068 MB deduped)\\r'), FloatProgress(value=1.0, max…"
      ]
     },
     "metadata": {},
     "output_type": "display_data"
    },
    {
     "data": {
      "text/html": [
       "W&B sync reduced upload amount by 1.3%             "
      ],
      "text/plain": [
       "<IPython.core.display.HTML object>"
      ]
     },
     "metadata": {},
     "output_type": "display_data"
    },
    {
     "data": {
      "text/html": [
       "<style>\n",
       "    table.wandb td:nth-child(1) { padding: 0 10px; text-align: left ; width: auto;} td:nth-child(2) {text-align: left ; width: 100%}\n",
       "    .wandb-row { display: flex; flex-direction: row; flex-wrap: wrap; justify-content: flex-start; width: 100% }\n",
       "    .wandb-col { display: flex; flex-direction: column; flex-basis: 100%; flex: 1; padding: 10px; }\n",
       "    </style>\n",
       "<div class=\"wandb-row\"><div class=\"wandb-col\"><h3>Run history:</h3><br/><table class=\"wandb\"><tr><td>accuracy</td><td>▁▄▅▇█</td></tr><tr><td>epoch</td><td>▁▃▅▆█</td></tr><tr><td>loss</td><td>█▅▃▂▁</td></tr><tr><td>val_accuracy</td><td>▁▆▅██</td></tr><tr><td>val_loss</td><td>█▄▄▁▂</td></tr></table><br/></div><div class=\"wandb-col\"><h3>Run summary:</h3><br/><table class=\"wandb\"><tr><td>accuracy</td><td>0.46944</td></tr><tr><td>best_epoch</td><td>3</td></tr><tr><td>best_val_loss</td><td>1.43009</td></tr><tr><td>epoch</td><td>4</td></tr><tr><td>loss</td><td>1.28477</td></tr><tr><td>val_accuracy</td><td>0.42778</td></tr><tr><td>val_loss</td><td>1.45797</td></tr></table><br/></div></div>"
      ],
      "text/plain": [
       "<IPython.core.display.HTML object>"
      ]
     },
     "metadata": {},
     "output_type": "display_data"
    },
    {
     "data": {
      "text/html": [
       " View run <strong style=\"color:#cdcd00\">fold-2</strong> at: <a href='https://wandb.ai/wisdom-jihyekim-aiffel/WandB_with_kfold_used_by_Jindeok/runs/anxur2o0' target=\"_blank\">https://wandb.ai/wisdom-jihyekim-aiffel/WandB_with_kfold_used_by_Jindeok/runs/anxur2o0</a><br/>Synced 5 W&B file(s), 1 media file(s), 12 artifact file(s) and 1 other file(s)"
      ],
      "text/plain": [
       "<IPython.core.display.HTML object>"
      ]
     },
     "metadata": {},
     "output_type": "display_data"
    },
    {
     "data": {
      "text/html": [
       "Find logs at: <code>./wandb/run-20241116_204443-anxur2o0/logs</code>"
      ],
      "text/plain": [
       "<IPython.core.display.HTML object>"
      ]
     },
     "metadata": {},
     "output_type": "display_data"
    },
    {
     "name": "stderr",
     "output_type": "stream",
     "text": [
      "\u001b[34m\u001b[1mwandb\u001b[0m: \u001b[33mWARNING\u001b[0m Ignored wandb.init() arg project when running a sweep.\n"
     ]
    },
    {
     "name": "stdout",
     "output_type": "stream",
     "text": [
      "Fold: 3 ==================================================================\n",
      "Found 720 validated image filenames belonging to 6 classes.\n",
      "Found 180 validated image filenames belonging to 6 classes.\n"
     ]
    },
    {
     "data": {
      "text/html": [
       "wandb version 0.18.7 is available!  To upgrade, please run:\n",
       " $ pip install wandb --upgrade"
      ],
      "text/plain": [
       "<IPython.core.display.HTML object>"
      ]
     },
     "metadata": {},
     "output_type": "display_data"
    },
    {
     "data": {
      "text/html": [
       "Tracking run with wandb version 0.16.0"
      ],
      "text/plain": [
       "<IPython.core.display.HTML object>"
      ]
     },
     "metadata": {},
     "output_type": "display_data"
    },
    {
     "data": {
      "text/html": [
       "Run data is saved locally in <code>/aiffel/aiffel/wandb/run-20241116_204546-anxur2o0</code>"
      ],
      "text/plain": [
       "<IPython.core.display.HTML object>"
      ]
     },
     "metadata": {},
     "output_type": "display_data"
    },
    {
     "data": {
      "text/html": [
       "Syncing run <strong><a href='https://wandb.ai/wisdom-jihyekim-aiffel/WandB_with_kfold_used_by_Jindeok/runs/anxur2o0' target=\"_blank\">fold-3</a></strong> to <a href='https://wandb.ai/wisdom-jihyekim-aiffel/WandB_with_kfold_used_by_Jindeok' target=\"_blank\">Weights & Biases</a> (<a href='https://wandb.me/run' target=\"_blank\">docs</a>)<br/>Sweep page: <a href='https://wandb.ai/wisdom-jihyekim-aiffel/WandB_with_kfold_used_by_Jindeok/sweeps/zhdriy11' target=\"_blank\">https://wandb.ai/wisdom-jihyekim-aiffel/WandB_with_kfold_used_by_Jindeok/sweeps/zhdriy11</a>"
      ],
      "text/plain": [
       "<IPython.core.display.HTML object>"
      ]
     },
     "metadata": {},
     "output_type": "display_data"
    },
    {
     "data": {
      "text/html": [
       " View project at <a href='https://wandb.ai/wisdom-jihyekim-aiffel/WandB_with_kfold_used_by_Jindeok' target=\"_blank\">https://wandb.ai/wisdom-jihyekim-aiffel/WandB_with_kfold_used_by_Jindeok</a>"
      ],
      "text/plain": [
       "<IPython.core.display.HTML object>"
      ]
     },
     "metadata": {},
     "output_type": "display_data"
    },
    {
     "data": {
      "text/html": [
       " View sweep at <a href='https://wandb.ai/wisdom-jihyekim-aiffel/WandB_with_kfold_used_by_Jindeok/sweeps/zhdriy11' target=\"_blank\">https://wandb.ai/wisdom-jihyekim-aiffel/WandB_with_kfold_used_by_Jindeok/sweeps/zhdriy11</a>"
      ],
      "text/plain": [
       "<IPython.core.display.HTML object>"
      ]
     },
     "metadata": {},
     "output_type": "display_data"
    },
    {
     "data": {
      "text/html": [
       " View run at <a href='https://wandb.ai/wisdom-jihyekim-aiffel/WandB_with_kfold_used_by_Jindeok/runs/anxur2o0' target=\"_blank\">https://wandb.ai/wisdom-jihyekim-aiffel/WandB_with_kfold_used_by_Jindeok/runs/anxur2o0</a>"
      ],
      "text/plain": [
       "<IPython.core.display.HTML object>"
      ]
     },
     "metadata": {},
     "output_type": "display_data"
    },
    {
     "name": "stdout",
     "output_type": "stream",
     "text": [
      "Epoch 1/5\n",
      "23/23 [==============================] - 11s 435ms/step - loss: 1.8484 - accuracy: 0.2653 - val_loss: 1.6795 - val_accuracy: 0.3333\n",
      "INFO:tensorflow:Assets written to: /aiffel/aiffel/wandb/run-20241116_204546-anxur2o0/files/model-best/assets\n"
     ]
    },
    {
     "name": "stderr",
     "output_type": "stream",
     "text": [
      "\u001b[34m\u001b[1mwandb\u001b[0m: Adding directory to artifact (/aiffel/aiffel/wandb/run-20241116_204546-anxur2o0/files/model-best)... Done. 0.0s\n"
     ]
    },
    {
     "name": "stdout",
     "output_type": "stream",
     "text": [
      "Epoch 2/5\n",
      "23/23 [==============================] - 10s 407ms/step - loss: 1.4765 - accuracy: 0.3889 - val_loss: 1.3770 - val_accuracy: 0.4556\n",
      "INFO:tensorflow:Assets written to: /aiffel/aiffel/wandb/run-20241116_204546-anxur2o0/files/model-best/assets\n"
     ]
    },
    {
     "name": "stderr",
     "output_type": "stream",
     "text": [
      "\u001b[34m\u001b[1mwandb\u001b[0m: Adding directory to artifact (/aiffel/aiffel/wandb/run-20241116_204546-anxur2o0/files/model-best)... Done. 0.0s\n"
     ]
    },
    {
     "name": "stdout",
     "output_type": "stream",
     "text": [
      "Epoch 3/5\n",
      "23/23 [==============================] - 10s 409ms/step - loss: 1.3506 - accuracy: 0.4750 - val_loss: 1.2475 - val_accuracy: 0.5444\n",
      "INFO:tensorflow:Assets written to: /aiffel/aiffel/wandb/run-20241116_204546-anxur2o0/files/model-best/assets\n"
     ]
    },
    {
     "name": "stderr",
     "output_type": "stream",
     "text": [
      "\u001b[34m\u001b[1mwandb\u001b[0m: Adding directory to artifact (/aiffel/aiffel/wandb/run-20241116_204546-anxur2o0/files/model-best)... Done. 0.0s\n"
     ]
    },
    {
     "name": "stdout",
     "output_type": "stream",
     "text": [
      "Epoch 4/5\n",
      "23/23 [==============================] - 9s 403ms/step - loss: 1.3158 - accuracy: 0.4764 - val_loss: 1.1609 - val_accuracy: 0.5444\n",
      "INFO:tensorflow:Assets written to: /aiffel/aiffel/wandb/run-20241116_204546-anxur2o0/files/model-best/assets\n"
     ]
    },
    {
     "name": "stderr",
     "output_type": "stream",
     "text": [
      "\u001b[34m\u001b[1mwandb\u001b[0m: Adding directory to artifact (/aiffel/aiffel/wandb/run-20241116_204546-anxur2o0/files/model-best)... Done. 0.0s\n"
     ]
    },
    {
     "name": "stdout",
     "output_type": "stream",
     "text": [
      "Epoch 5/5\n",
      "23/23 [==============================] - 9s 401ms/step - loss: 1.1519 - accuracy: 0.5417 - val_loss: 1.0688 - val_accuracy: 0.5778\n",
      "INFO:tensorflow:Assets written to: /aiffel/aiffel/wandb/run-20241116_204546-anxur2o0/files/model-best/assets\n"
     ]
    },
    {
     "name": "stderr",
     "output_type": "stream",
     "text": [
      "\u001b[34m\u001b[1mwandb\u001b[0m: Adding directory to artifact (/aiffel/aiffel/wandb/run-20241116_204546-anxur2o0/files/model-best)... Done. 0.0s\n"
     ]
    },
    {
     "name": "stdout",
     "output_type": "stream",
     "text": [
      "6/6 [==============================] - 2s 288ms/step - loss: 1.0528 - accuracy: 0.5722\n",
      "Validation Accuracy for fold 3: 57.22%\n"
     ]
    },
    {
     "data": {
      "application/vnd.jupyter.widget-view+json": {
       "model_id": "",
       "version_major": 2,
       "version_minor": 0
      },
      "text/plain": [
       "VBox(children=(Label(value='7.055 MB of 7.055 MB uploaded (0.114 MB deduped)\\r'), FloatProgress(value=1.0, max…"
      ]
     },
     "metadata": {},
     "output_type": "display_data"
    },
    {
     "data": {
      "text/html": [
       "W&B sync reduced upload amount by 1.5%             "
      ],
      "text/plain": [
       "<IPython.core.display.HTML object>"
      ]
     },
     "metadata": {},
     "output_type": "display_data"
    },
    {
     "data": {
      "text/html": [
       "<style>\n",
       "    table.wandb td:nth-child(1) { padding: 0 10px; text-align: left ; width: auto;} td:nth-child(2) {text-align: left ; width: 100%}\n",
       "    .wandb-row { display: flex; flex-direction: row; flex-wrap: wrap; justify-content: flex-start; width: 100% }\n",
       "    .wandb-col { display: flex; flex-direction: column; flex-basis: 100%; flex: 1; padding: 10px; }\n",
       "    </style>\n",
       "<div class=\"wandb-row\"><div class=\"wandb-col\"><h3>Run history:</h3><br/><table class=\"wandb\"><tr><td>accuracy</td><td>▁▄▆▆█</td></tr><tr><td>epoch</td><td>▁▃▅▆█</td></tr><tr><td>loss</td><td>█▄▃▃▁</td></tr><tr><td>val_accuracy</td><td>▁▄▇▇█</td></tr><tr><td>val_loss</td><td>█▅▃▂▁</td></tr></table><br/></div><div class=\"wandb-col\"><h3>Run summary:</h3><br/><table class=\"wandb\"><tr><td>accuracy</td><td>0.54167</td></tr><tr><td>best_epoch</td><td>4</td></tr><tr><td>best_val_loss</td><td>1.06881</td></tr><tr><td>epoch</td><td>4</td></tr><tr><td>loss</td><td>1.15194</td></tr><tr><td>val_accuracy</td><td>0.57778</td></tr><tr><td>val_loss</td><td>1.06881</td></tr></table><br/></div></div>"
      ],
      "text/plain": [
       "<IPython.core.display.HTML object>"
      ]
     },
     "metadata": {},
     "output_type": "display_data"
    },
    {
     "data": {
      "text/html": [
       " View run <strong style=\"color:#cdcd00\">fold-3</strong> at: <a href='https://wandb.ai/wisdom-jihyekim-aiffel/WandB_with_kfold_used_by_Jindeok/runs/anxur2o0' target=\"_blank\">https://wandb.ai/wisdom-jihyekim-aiffel/WandB_with_kfold_used_by_Jindeok/runs/anxur2o0</a><br/>Synced 5 W&B file(s), 1 media file(s), 20 artifact file(s) and 1 other file(s)"
      ],
      "text/plain": [
       "<IPython.core.display.HTML object>"
      ]
     },
     "metadata": {},
     "output_type": "display_data"
    },
    {
     "data": {
      "text/html": [
       "Find logs at: <code>./wandb/run-20241116_204546-anxur2o0/logs</code>"
      ],
      "text/plain": [
       "<IPython.core.display.HTML object>"
      ]
     },
     "metadata": {},
     "output_type": "display_data"
    },
    {
     "name": "stderr",
     "output_type": "stream",
     "text": [
      "\u001b[34m\u001b[1mwandb\u001b[0m: \u001b[33mWARNING\u001b[0m Ignored wandb.init() arg project when running a sweep.\n"
     ]
    },
    {
     "name": "stdout",
     "output_type": "stream",
     "text": [
      "Fold: 4 ==================================================================\n",
      "Found 720 validated image filenames belonging to 6 classes.\n",
      "Found 180 validated image filenames belonging to 6 classes.\n"
     ]
    },
    {
     "data": {
      "application/vnd.jupyter.widget-view+json": {
       "model_id": "77ed6be70c304c549f29e993663376ba",
       "version_major": 2,
       "version_minor": 0
      },
      "text/plain": [
       "VBox(children=(Label(value='Waiting for wandb.init()...\\r'), FloatProgress(value=0.011113443255534447, max=1.0…"
      ]
     },
     "metadata": {},
     "output_type": "display_data"
    },
    {
     "data": {
      "text/html": [
       "wandb version 0.18.7 is available!  To upgrade, please run:\n",
       " $ pip install wandb --upgrade"
      ],
      "text/plain": [
       "<IPython.core.display.HTML object>"
      ]
     },
     "metadata": {},
     "output_type": "display_data"
    },
    {
     "data": {
      "text/html": [
       "Tracking run with wandb version 0.16.0"
      ],
      "text/plain": [
       "<IPython.core.display.HTML object>"
      ]
     },
     "metadata": {},
     "output_type": "display_data"
    },
    {
     "data": {
      "text/html": [
       "Run data is saved locally in <code>/aiffel/aiffel/wandb/run-20241116_204654-anxur2o0</code>"
      ],
      "text/plain": [
       "<IPython.core.display.HTML object>"
      ]
     },
     "metadata": {},
     "output_type": "display_data"
    },
    {
     "data": {
      "text/html": [
       "Syncing run <strong><a href='https://wandb.ai/wisdom-jihyekim-aiffel/WandB_with_kfold_used_by_Jindeok/runs/anxur2o0' target=\"_blank\">fold-4</a></strong> to <a href='https://wandb.ai/wisdom-jihyekim-aiffel/WandB_with_kfold_used_by_Jindeok' target=\"_blank\">Weights & Biases</a> (<a href='https://wandb.me/run' target=\"_blank\">docs</a>)<br/>Sweep page: <a href='https://wandb.ai/wisdom-jihyekim-aiffel/WandB_with_kfold_used_by_Jindeok/sweeps/zhdriy11' target=\"_blank\">https://wandb.ai/wisdom-jihyekim-aiffel/WandB_with_kfold_used_by_Jindeok/sweeps/zhdriy11</a>"
      ],
      "text/plain": [
       "<IPython.core.display.HTML object>"
      ]
     },
     "metadata": {},
     "output_type": "display_data"
    },
    {
     "data": {
      "text/html": [
       " View project at <a href='https://wandb.ai/wisdom-jihyekim-aiffel/WandB_with_kfold_used_by_Jindeok' target=\"_blank\">https://wandb.ai/wisdom-jihyekim-aiffel/WandB_with_kfold_used_by_Jindeok</a>"
      ],
      "text/plain": [
       "<IPython.core.display.HTML object>"
      ]
     },
     "metadata": {},
     "output_type": "display_data"
    },
    {
     "data": {
      "text/html": [
       " View sweep at <a href='https://wandb.ai/wisdom-jihyekim-aiffel/WandB_with_kfold_used_by_Jindeok/sweeps/zhdriy11' target=\"_blank\">https://wandb.ai/wisdom-jihyekim-aiffel/WandB_with_kfold_used_by_Jindeok/sweeps/zhdriy11</a>"
      ],
      "text/plain": [
       "<IPython.core.display.HTML object>"
      ]
     },
     "metadata": {},
     "output_type": "display_data"
    },
    {
     "data": {
      "text/html": [
       " View run at <a href='https://wandb.ai/wisdom-jihyekim-aiffel/WandB_with_kfold_used_by_Jindeok/runs/anxur2o0' target=\"_blank\">https://wandb.ai/wisdom-jihyekim-aiffel/WandB_with_kfold_used_by_Jindeok/runs/anxur2o0</a>"
      ],
      "text/plain": [
       "<IPython.core.display.HTML object>"
      ]
     },
     "metadata": {},
     "output_type": "display_data"
    },
    {
     "name": "stdout",
     "output_type": "stream",
     "text": [
      "Epoch 1/5\n",
      "23/23 [==============================] - 11s 432ms/step - loss: 1.9803 - accuracy: 0.2208 - val_loss: 1.7893 - val_accuracy: 0.1778\n",
      "INFO:tensorflow:Assets written to: /aiffel/aiffel/wandb/run-20241116_204654-anxur2o0/files/model-best/assets\n"
     ]
    },
    {
     "name": "stderr",
     "output_type": "stream",
     "text": [
      "\u001b[34m\u001b[1mwandb\u001b[0m: Adding directory to artifact (/aiffel/aiffel/wandb/run-20241116_204654-anxur2o0/files/model-best)... Done. 0.0s\n"
     ]
    },
    {
     "name": "stdout",
     "output_type": "stream",
     "text": [
      "Epoch 2/5\n",
      "23/23 [==============================] - 10s 408ms/step - loss: 1.6345 - accuracy: 0.3278 - val_loss: 1.5602 - val_accuracy: 0.3111\n",
      "INFO:tensorflow:Assets written to: /aiffel/aiffel/wandb/run-20241116_204654-anxur2o0/files/model-best/assets\n"
     ]
    },
    {
     "name": "stderr",
     "output_type": "stream",
     "text": [
      "\u001b[34m\u001b[1mwandb\u001b[0m: Adding directory to artifact (/aiffel/aiffel/wandb/run-20241116_204654-anxur2o0/files/model-best)... Done. 0.0s\n"
     ]
    },
    {
     "name": "stdout",
     "output_type": "stream",
     "text": [
      "Epoch 3/5\n",
      "23/23 [==============================] - 9s 402ms/step - loss: 1.4664 - accuracy: 0.3944 - val_loss: 1.4175 - val_accuracy: 0.4167\n",
      "INFO:tensorflow:Assets written to: /aiffel/aiffel/wandb/run-20241116_204654-anxur2o0/files/model-best/assets\n"
     ]
    },
    {
     "name": "stderr",
     "output_type": "stream",
     "text": [
      "\u001b[34m\u001b[1mwandb\u001b[0m: Adding directory to artifact (/aiffel/aiffel/wandb/run-20241116_204654-anxur2o0/files/model-best)... Done. 0.0s\n"
     ]
    },
    {
     "name": "stdout",
     "output_type": "stream",
     "text": [
      "Epoch 4/5\n",
      "23/23 [==============================] - 9s 405ms/step - loss: 1.3242 - accuracy: 0.4694 - val_loss: 1.4017 - val_accuracy: 0.4611\n",
      "INFO:tensorflow:Assets written to: /aiffel/aiffel/wandb/run-20241116_204654-anxur2o0/files/model-best/assets\n"
     ]
    },
    {
     "name": "stderr",
     "output_type": "stream",
     "text": [
      "\u001b[34m\u001b[1mwandb\u001b[0m: Adding directory to artifact (/aiffel/aiffel/wandb/run-20241116_204654-anxur2o0/files/model-best)... Done. 0.0s\n"
     ]
    },
    {
     "name": "stdout",
     "output_type": "stream",
     "text": [
      "Epoch 5/5\n",
      "23/23 [==============================] - 9s 403ms/step - loss: 1.2770 - accuracy: 0.4903 - val_loss: 1.2975 - val_accuracy: 0.4389\n",
      "INFO:tensorflow:Assets written to: /aiffel/aiffel/wandb/run-20241116_204654-anxur2o0/files/model-best/assets\n"
     ]
    },
    {
     "name": "stderr",
     "output_type": "stream",
     "text": [
      "\u001b[34m\u001b[1mwandb\u001b[0m: Adding directory to artifact (/aiffel/aiffel/wandb/run-20241116_204654-anxur2o0/files/model-best)... Done. 0.0s\n"
     ]
    },
    {
     "name": "stdout",
     "output_type": "stream",
     "text": [
      "6/6 [==============================] - 2s 302ms/step - loss: 1.3028 - accuracy: 0.4278\n",
      "Validation Accuracy for fold 4: 42.78%\n"
     ]
    },
    {
     "data": {
      "application/vnd.jupyter.widget-view+json": {
       "model_id": "",
       "version_major": 2,
       "version_minor": 0
      },
      "text/plain": [
       "VBox(children=(Label(value='7.767 MB of 7.767 MB uploaded (0.114 MB deduped)\\r'), FloatProgress(value=1.0, max…"
      ]
     },
     "metadata": {},
     "output_type": "display_data"
    },
    {
     "data": {
      "text/html": [
       "W&B sync reduced upload amount by 1.5%             "
      ],
      "text/plain": [
       "<IPython.core.display.HTML object>"
      ]
     },
     "metadata": {},
     "output_type": "display_data"
    },
    {
     "data": {
      "text/html": [
       "<style>\n",
       "    table.wandb td:nth-child(1) { padding: 0 10px; text-align: left ; width: auto;} td:nth-child(2) {text-align: left ; width: 100%}\n",
       "    .wandb-row { display: flex; flex-direction: row; flex-wrap: wrap; justify-content: flex-start; width: 100% }\n",
       "    .wandb-col { display: flex; flex-direction: column; flex-basis: 100%; flex: 1; padding: 10px; }\n",
       "    </style>\n",
       "<div class=\"wandb-row\"><div class=\"wandb-col\"><h3>Run history:</h3><br/><table class=\"wandb\"><tr><td>accuracy</td><td>▁▄▆▇█</td></tr><tr><td>epoch</td><td>▁▃▅▆█</td></tr><tr><td>loss</td><td>█▅▃▁▁</td></tr><tr><td>val_accuracy</td><td>▁▄▇█▇</td></tr><tr><td>val_loss</td><td>█▅▃▂▁</td></tr></table><br/></div><div class=\"wandb-col\"><h3>Run summary:</h3><br/><table class=\"wandb\"><tr><td>accuracy</td><td>0.49028</td></tr><tr><td>best_epoch</td><td>4</td></tr><tr><td>best_val_loss</td><td>1.29746</td></tr><tr><td>epoch</td><td>4</td></tr><tr><td>loss</td><td>1.27695</td></tr><tr><td>val_accuracy</td><td>0.43889</td></tr><tr><td>val_loss</td><td>1.29746</td></tr></table><br/></div></div>"
      ],
      "text/plain": [
       "<IPython.core.display.HTML object>"
      ]
     },
     "metadata": {},
     "output_type": "display_data"
    },
    {
     "data": {
      "text/html": [
       " View run <strong style=\"color:#cdcd00\">fold-4</strong> at: <a href='https://wandb.ai/wisdom-jihyekim-aiffel/WandB_with_kfold_used_by_Jindeok/runs/anxur2o0' target=\"_blank\">https://wandb.ai/wisdom-jihyekim-aiffel/WandB_with_kfold_used_by_Jindeok/runs/anxur2o0</a><br/>Synced 5 W&B file(s), 1 media file(s), 20 artifact file(s) and 1 other file(s)"
      ],
      "text/plain": [
       "<IPython.core.display.HTML object>"
      ]
     },
     "metadata": {},
     "output_type": "display_data"
    },
    {
     "data": {
      "text/html": [
       "Find logs at: <code>./wandb/run-20241116_204654-anxur2o0/logs</code>"
      ],
      "text/plain": [
       "<IPython.core.display.HTML object>"
      ]
     },
     "metadata": {},
     "output_type": "display_data"
    },
    {
     "name": "stderr",
     "output_type": "stream",
     "text": [
      "\u001b[34m\u001b[1mwandb\u001b[0m: \u001b[33mWARNING\u001b[0m Ignored wandb.init() arg project when running a sweep.\n"
     ]
    },
    {
     "name": "stdout",
     "output_type": "stream",
     "text": [
      "Fold: 5 ==================================================================\n",
      "Found 720 validated image filenames belonging to 6 classes.\n",
      "Found 180 validated image filenames belonging to 6 classes.\n"
     ]
    },
    {
     "data": {
      "text/html": [
       "wandb version 0.18.7 is available!  To upgrade, please run:\n",
       " $ pip install wandb --upgrade"
      ],
      "text/plain": [
       "<IPython.core.display.HTML object>"
      ]
     },
     "metadata": {},
     "output_type": "display_data"
    },
    {
     "data": {
      "text/html": [
       "Tracking run with wandb version 0.16.0"
      ],
      "text/plain": [
       "<IPython.core.display.HTML object>"
      ]
     },
     "metadata": {},
     "output_type": "display_data"
    },
    {
     "data": {
      "text/html": [
       "Run data is saved locally in <code>/aiffel/aiffel/wandb/run-20241116_204801-anxur2o0</code>"
      ],
      "text/plain": [
       "<IPython.core.display.HTML object>"
      ]
     },
     "metadata": {},
     "output_type": "display_data"
    },
    {
     "data": {
      "text/html": [
       "Syncing run <strong><a href='https://wandb.ai/wisdom-jihyekim-aiffel/WandB_with_kfold_used_by_Jindeok/runs/anxur2o0' target=\"_blank\">fold-5</a></strong> to <a href='https://wandb.ai/wisdom-jihyekim-aiffel/WandB_with_kfold_used_by_Jindeok' target=\"_blank\">Weights & Biases</a> (<a href='https://wandb.me/run' target=\"_blank\">docs</a>)<br/>Sweep page: <a href='https://wandb.ai/wisdom-jihyekim-aiffel/WandB_with_kfold_used_by_Jindeok/sweeps/zhdriy11' target=\"_blank\">https://wandb.ai/wisdom-jihyekim-aiffel/WandB_with_kfold_used_by_Jindeok/sweeps/zhdriy11</a>"
      ],
      "text/plain": [
       "<IPython.core.display.HTML object>"
      ]
     },
     "metadata": {},
     "output_type": "display_data"
    },
    {
     "data": {
      "text/html": [
       " View project at <a href='https://wandb.ai/wisdom-jihyekim-aiffel/WandB_with_kfold_used_by_Jindeok' target=\"_blank\">https://wandb.ai/wisdom-jihyekim-aiffel/WandB_with_kfold_used_by_Jindeok</a>"
      ],
      "text/plain": [
       "<IPython.core.display.HTML object>"
      ]
     },
     "metadata": {},
     "output_type": "display_data"
    },
    {
     "data": {
      "text/html": [
       " View sweep at <a href='https://wandb.ai/wisdom-jihyekim-aiffel/WandB_with_kfold_used_by_Jindeok/sweeps/zhdriy11' target=\"_blank\">https://wandb.ai/wisdom-jihyekim-aiffel/WandB_with_kfold_used_by_Jindeok/sweeps/zhdriy11</a>"
      ],
      "text/plain": [
       "<IPython.core.display.HTML object>"
      ]
     },
     "metadata": {},
     "output_type": "display_data"
    },
    {
     "data": {
      "text/html": [
       " View run at <a href='https://wandb.ai/wisdom-jihyekim-aiffel/WandB_with_kfold_used_by_Jindeok/runs/anxur2o0' target=\"_blank\">https://wandb.ai/wisdom-jihyekim-aiffel/WandB_with_kfold_used_by_Jindeok/runs/anxur2o0</a>"
      ],
      "text/plain": [
       "<IPython.core.display.HTML object>"
      ]
     },
     "metadata": {},
     "output_type": "display_data"
    },
    {
     "name": "stdout",
     "output_type": "stream",
     "text": [
      "Epoch 1/5\n",
      "23/23 [==============================] - 10s 421ms/step - loss: 1.8728 - accuracy: 0.2083 - val_loss: 1.6485 - val_accuracy: 0.3111\n",
      "INFO:tensorflow:Assets written to: /aiffel/aiffel/wandb/run-20241116_204801-anxur2o0/files/model-best/assets\n"
     ]
    },
    {
     "name": "stderr",
     "output_type": "stream",
     "text": [
      "\u001b[34m\u001b[1mwandb\u001b[0m: Adding directory to artifact (/aiffel/aiffel/wandb/run-20241116_204801-anxur2o0/files/model-best)... Done. 0.0s\n"
     ]
    },
    {
     "name": "stdout",
     "output_type": "stream",
     "text": [
      "Epoch 2/5\n",
      "23/23 [==============================] - 10s 407ms/step - loss: 1.5883 - accuracy: 0.3125 - val_loss: 1.5468 - val_accuracy: 0.4167\n",
      "INFO:tensorflow:Assets written to: /aiffel/aiffel/wandb/run-20241116_204801-anxur2o0/files/model-best/assets\n"
     ]
    },
    {
     "name": "stderr",
     "output_type": "stream",
     "text": [
      "\u001b[34m\u001b[1mwandb\u001b[0m: Adding directory to artifact (/aiffel/aiffel/wandb/run-20241116_204801-anxur2o0/files/model-best)... Done. 0.0s\n"
     ]
    },
    {
     "name": "stdout",
     "output_type": "stream",
     "text": [
      "Epoch 3/5\n",
      "23/23 [==============================] - 10s 405ms/step - loss: 1.4649 - accuracy: 0.4056 - val_loss: 1.4689 - val_accuracy: 0.3722\n",
      "INFO:tensorflow:Assets written to: /aiffel/aiffel/wandb/run-20241116_204801-anxur2o0/files/model-best/assets\n"
     ]
    },
    {
     "name": "stderr",
     "output_type": "stream",
     "text": [
      "\u001b[34m\u001b[1mwandb\u001b[0m: Adding directory to artifact (/aiffel/aiffel/wandb/run-20241116_204801-anxur2o0/files/model-best)... Done. 0.0s\n"
     ]
    },
    {
     "name": "stdout",
     "output_type": "stream",
     "text": [
      "Epoch 4/5\n",
      "23/23 [==============================] - 10s 421ms/step - loss: 1.3452 - accuracy: 0.4347 - val_loss: 1.2682 - val_accuracy: 0.4778\n",
      "INFO:tensorflow:Assets written to: /aiffel/aiffel/wandb/run-20241116_204801-anxur2o0/files/model-best/assets\n"
     ]
    },
    {
     "name": "stderr",
     "output_type": "stream",
     "text": [
      "\u001b[34m\u001b[1mwandb\u001b[0m: Adding directory to artifact (/aiffel/aiffel/wandb/run-20241116_204801-anxur2o0/files/model-best)... Done. 0.0s\n"
     ]
    },
    {
     "name": "stdout",
     "output_type": "stream",
     "text": [
      "Epoch 5/5\n",
      "23/23 [==============================] - 10s 428ms/step - loss: 1.2540 - accuracy: 0.4861 - val_loss: 1.3488 - val_accuracy: 0.4556\n",
      "6/6 [==============================] - 2s 295ms/step - loss: 1.3839 - accuracy: 0.4611\n",
      "Validation Accuracy for fold 5: 46.11%\n"
     ]
    },
    {
     "data": {
      "application/vnd.jupyter.widget-view+json": {
       "model_id": "",
       "version_major": 2,
       "version_minor": 0
      },
      "text/plain": [
       "VBox(children=(Label(value='6.429 MB of 6.429 MB uploaded (0.091 MB deduped)\\r'), FloatProgress(value=1.0, max…"
      ]
     },
     "metadata": {},
     "output_type": "display_data"
    },
    {
     "data": {
      "text/html": [
       "W&B sync reduced upload amount by 1.4%             "
      ],
      "text/plain": [
       "<IPython.core.display.HTML object>"
      ]
     },
     "metadata": {},
     "output_type": "display_data"
    },
    {
     "data": {
      "text/html": [
       "<style>\n",
       "    table.wandb td:nth-child(1) { padding: 0 10px; text-align: left ; width: auto;} td:nth-child(2) {text-align: left ; width: 100%}\n",
       "    .wandb-row { display: flex; flex-direction: row; flex-wrap: wrap; justify-content: flex-start; width: 100% }\n",
       "    .wandb-col { display: flex; flex-direction: column; flex-basis: 100%; flex: 1; padding: 10px; }\n",
       "    </style>\n",
       "<div class=\"wandb-row\"><div class=\"wandb-col\"><h3>Run history:</h3><br/><table class=\"wandb\"><tr><td>accuracy</td><td>▁▄▆▇█</td></tr><tr><td>epoch</td><td>▁▃▅▆█</td></tr><tr><td>loss</td><td>█▅▃▂▁</td></tr><tr><td>val_accuracy</td><td>▁▅▄█▇</td></tr><tr><td>val_loss</td><td>█▆▅▁▂</td></tr></table><br/></div><div class=\"wandb-col\"><h3>Run summary:</h3><br/><table class=\"wandb\"><tr><td>accuracy</td><td>0.48611</td></tr><tr><td>best_epoch</td><td>3</td></tr><tr><td>best_val_loss</td><td>1.26823</td></tr><tr><td>epoch</td><td>4</td></tr><tr><td>loss</td><td>1.25401</td></tr><tr><td>val_accuracy</td><td>0.45556</td></tr><tr><td>val_loss</td><td>1.34877</td></tr></table><br/></div></div>"
      ],
      "text/plain": [
       "<IPython.core.display.HTML object>"
      ]
     },
     "metadata": {},
     "output_type": "display_data"
    },
    {
     "data": {
      "text/html": [
       " View run <strong style=\"color:#cdcd00\">fold-5</strong> at: <a href='https://wandb.ai/wisdom-jihyekim-aiffel/WandB_with_kfold_used_by_Jindeok/runs/anxur2o0' target=\"_blank\">https://wandb.ai/wisdom-jihyekim-aiffel/WandB_with_kfold_used_by_Jindeok/runs/anxur2o0</a><br/>Synced 5 W&B file(s), 1 media file(s), 16 artifact file(s) and 1 other file(s)"
      ],
      "text/plain": [
       "<IPython.core.display.HTML object>"
      ]
     },
     "metadata": {},
     "output_type": "display_data"
    },
    {
     "data": {
      "text/html": [
       "Find logs at: <code>./wandb/run-20241116_204801-anxur2o0/logs</code>"
      ],
      "text/plain": [
       "<IPython.core.display.HTML object>"
      ]
     },
     "metadata": {},
     "output_type": "display_data"
    },
    {
     "name": "stderr",
     "output_type": "stream",
     "text": [
      "\u001b[34m\u001b[1mwandb\u001b[0m: Agent Starting Run: qx1jigc5 with config:\n",
      "\u001b[34m\u001b[1mwandb\u001b[0m: \tepoch: 7\n",
      "\u001b[34m\u001b[1mwandb\u001b[0m: \tlearning_rate: 0.0375537304080857\n"
     ]
    },
    {
     "data": {
      "application/vnd.jupyter.widget-view+json": {
       "model_id": "b17dea9cfd764c9cb10ca645ec7d47c8",
       "version_major": 2,
       "version_minor": 0
      },
      "text/plain": [
       "VBox(children=(Label(value='Waiting for wandb.init()...\\r'), FloatProgress(value=0.01111286233329641, max=1.0)…"
      ]
     },
     "metadata": {},
     "output_type": "display_data"
    },
    {
     "data": {
      "text/html": [
       "wandb version 0.18.7 is available!  To upgrade, please run:\n",
       " $ pip install wandb --upgrade"
      ],
      "text/plain": [
       "<IPython.core.display.HTML object>"
      ]
     },
     "metadata": {},
     "output_type": "display_data"
    },
    {
     "data": {
      "text/html": [
       "Tracking run with wandb version 0.16.0"
      ],
      "text/plain": [
       "<IPython.core.display.HTML object>"
      ]
     },
     "metadata": {},
     "output_type": "display_data"
    },
    {
     "data": {
      "text/html": [
       "Run data is saved locally in <code>/aiffel/aiffel/wandb/run-20241116_204910-qx1jigc5</code>"
      ],
      "text/plain": [
       "<IPython.core.display.HTML object>"
      ]
     },
     "metadata": {},
     "output_type": "display_data"
    },
    {
     "data": {
      "text/html": [
       "Syncing run <strong><a href='https://wandb.ai/wisdom-jihyekim-aiffel/WandB_with_kfold_used_by_Jindeok/runs/qx1jigc5' target=\"_blank\">desert-sweep-4</a></strong> to <a href='https://wandb.ai/wisdom-jihyekim-aiffel/WandB_with_kfold_used_by_Jindeok' target=\"_blank\">Weights & Biases</a> (<a href='https://wandb.me/run' target=\"_blank\">docs</a>)<br/>Sweep page: <a href='https://wandb.ai/wisdom-jihyekim-aiffel/WandB_with_kfold_used_by_Jindeok/sweeps/zhdriy11' target=\"_blank\">https://wandb.ai/wisdom-jihyekim-aiffel/WandB_with_kfold_used_by_Jindeok/sweeps/zhdriy11</a>"
      ],
      "text/plain": [
       "<IPython.core.display.HTML object>"
      ]
     },
     "metadata": {},
     "output_type": "display_data"
    },
    {
     "data": {
      "text/html": [
       " View project at <a href='https://wandb.ai/wisdom-jihyekim-aiffel/WandB_with_kfold_used_by_Jindeok' target=\"_blank\">https://wandb.ai/wisdom-jihyekim-aiffel/WandB_with_kfold_used_by_Jindeok</a>"
      ],
      "text/plain": [
       "<IPython.core.display.HTML object>"
      ]
     },
     "metadata": {},
     "output_type": "display_data"
    },
    {
     "data": {
      "text/html": [
       " View sweep at <a href='https://wandb.ai/wisdom-jihyekim-aiffel/WandB_with_kfold_used_by_Jindeok/sweeps/zhdriy11' target=\"_blank\">https://wandb.ai/wisdom-jihyekim-aiffel/WandB_with_kfold_used_by_Jindeok/sweeps/zhdriy11</a>"
      ],
      "text/plain": [
       "<IPython.core.display.HTML object>"
      ]
     },
     "metadata": {},
     "output_type": "display_data"
    },
    {
     "data": {
      "text/html": [
       " View run at <a href='https://wandb.ai/wisdom-jihyekim-aiffel/WandB_with_kfold_used_by_Jindeok/runs/qx1jigc5' target=\"_blank\">https://wandb.ai/wisdom-jihyekim-aiffel/WandB_with_kfold_used_by_Jindeok/runs/qx1jigc5</a>"
      ],
      "text/plain": [
       "<IPython.core.display.HTML object>"
      ]
     },
     "metadata": {},
     "output_type": "display_data"
    },
    {
     "name": "stderr",
     "output_type": "stream",
     "text": [
      "\u001b[34m\u001b[1mwandb\u001b[0m: \u001b[33mWARNING\u001b[0m Ignored wandb.init() arg project when running a sweep.\n"
     ]
    },
    {
     "name": "stdout",
     "output_type": "stream",
     "text": [
      "Fold: 1 ==================================================================\n",
      "Found 720 validated image filenames belonging to 6 classes.\n",
      "Found 180 validated image filenames belonging to 6 classes.\n"
     ]
    },
    {
     "data": {
      "text/html": [
       "Finishing last run (ID:qx1jigc5) before initializing another..."
      ],
      "text/plain": [
       "<IPython.core.display.HTML object>"
      ]
     },
     "metadata": {},
     "output_type": "display_data"
    },
    {
     "data": {
      "application/vnd.jupyter.widget-view+json": {
       "model_id": "",
       "version_major": 2,
       "version_minor": 0
      },
      "text/plain": [
       "VBox(children=(Label(value='0.001 MB of 0.001 MB uploaded\\r'), FloatProgress(value=1.0, max=1.0)))"
      ]
     },
     "metadata": {},
     "output_type": "display_data"
    },
    {
     "data": {
      "text/html": [
       " View run <strong style=\"color:#cdcd00\">desert-sweep-4</strong> at: <a href='https://wandb.ai/wisdom-jihyekim-aiffel/WandB_with_kfold_used_by_Jindeok/runs/qx1jigc5' target=\"_blank\">https://wandb.ai/wisdom-jihyekim-aiffel/WandB_with_kfold_used_by_Jindeok/runs/qx1jigc5</a><br/>Synced 5 W&B file(s), 0 media file(s), 0 artifact file(s) and 0 other file(s)"
      ],
      "text/plain": [
       "<IPython.core.display.HTML object>"
      ]
     },
     "metadata": {},
     "output_type": "display_data"
    },
    {
     "data": {
      "text/html": [
       "Find logs at: <code>./wandb/run-20241116_204910-qx1jigc5/logs</code>"
      ],
      "text/plain": [
       "<IPython.core.display.HTML object>"
      ]
     },
     "metadata": {},
     "output_type": "display_data"
    },
    {
     "data": {
      "text/html": [
       "Successfully finished last run (ID:qx1jigc5). Initializing new run:<br/>"
      ],
      "text/plain": [
       "<IPython.core.display.HTML object>"
      ]
     },
     "metadata": {},
     "output_type": "display_data"
    },
    {
     "data": {
      "application/vnd.jupyter.widget-view+json": {
       "model_id": "04aa1d2f42b743bbb4d0ce58aae52f07",
       "version_major": 2,
       "version_minor": 0
      },
      "text/plain": [
       "VBox(children=(Label(value='Waiting for wandb.init()...\\r'), FloatProgress(value=0.01111352571113255, max=1.0)…"
      ]
     },
     "metadata": {},
     "output_type": "display_data"
    },
    {
     "data": {
      "text/html": [
       "wandb version 0.18.7 is available!  To upgrade, please run:\n",
       " $ pip install wandb --upgrade"
      ],
      "text/plain": [
       "<IPython.core.display.HTML object>"
      ]
     },
     "metadata": {},
     "output_type": "display_data"
    },
    {
     "data": {
      "text/html": [
       "Tracking run with wandb version 0.16.0"
      ],
      "text/plain": [
       "<IPython.core.display.HTML object>"
      ]
     },
     "metadata": {},
     "output_type": "display_data"
    },
    {
     "data": {
      "text/html": [
       "Run data is saved locally in <code>/aiffel/aiffel/wandb/run-20241116_204913-qx1jigc5</code>"
      ],
      "text/plain": [
       "<IPython.core.display.HTML object>"
      ]
     },
     "metadata": {},
     "output_type": "display_data"
    },
    {
     "data": {
      "text/html": [
       "Syncing run <strong><a href='https://wandb.ai/wisdom-jihyekim-aiffel/WandB_with_kfold_used_by_Jindeok/runs/qx1jigc5' target=\"_blank\">fold-1</a></strong> to <a href='https://wandb.ai/wisdom-jihyekim-aiffel/WandB_with_kfold_used_by_Jindeok' target=\"_blank\">Weights & Biases</a> (<a href='https://wandb.me/run' target=\"_blank\">docs</a>)<br/>Sweep page: <a href='https://wandb.ai/wisdom-jihyekim-aiffel/WandB_with_kfold_used_by_Jindeok/sweeps/zhdriy11' target=\"_blank\">https://wandb.ai/wisdom-jihyekim-aiffel/WandB_with_kfold_used_by_Jindeok/sweeps/zhdriy11</a>"
      ],
      "text/plain": [
       "<IPython.core.display.HTML object>"
      ]
     },
     "metadata": {},
     "output_type": "display_data"
    },
    {
     "data": {
      "text/html": [
       " View project at <a href='https://wandb.ai/wisdom-jihyekim-aiffel/WandB_with_kfold_used_by_Jindeok' target=\"_blank\">https://wandb.ai/wisdom-jihyekim-aiffel/WandB_with_kfold_used_by_Jindeok</a>"
      ],
      "text/plain": [
       "<IPython.core.display.HTML object>"
      ]
     },
     "metadata": {},
     "output_type": "display_data"
    },
    {
     "data": {
      "text/html": [
       " View sweep at <a href='https://wandb.ai/wisdom-jihyekim-aiffel/WandB_with_kfold_used_by_Jindeok/sweeps/zhdriy11' target=\"_blank\">https://wandb.ai/wisdom-jihyekim-aiffel/WandB_with_kfold_used_by_Jindeok/sweeps/zhdriy11</a>"
      ],
      "text/plain": [
       "<IPython.core.display.HTML object>"
      ]
     },
     "metadata": {},
     "output_type": "display_data"
    },
    {
     "data": {
      "text/html": [
       " View run at <a href='https://wandb.ai/wisdom-jihyekim-aiffel/WandB_with_kfold_used_by_Jindeok/runs/qx1jigc5' target=\"_blank\">https://wandb.ai/wisdom-jihyekim-aiffel/WandB_with_kfold_used_by_Jindeok/runs/qx1jigc5</a>"
      ],
      "text/plain": [
       "<IPython.core.display.HTML object>"
      ]
     },
     "metadata": {},
     "output_type": "display_data"
    },
    {
     "name": "stdout",
     "output_type": "stream",
     "text": [
      "Epoch 1/7\n",
      "23/23 [==============================] - 11s 457ms/step - loss: 1.8440 - accuracy: 0.2319 - val_loss: 1.6597 - val_accuracy: 0.2778\n",
      "INFO:tensorflow:Assets written to: /aiffel/aiffel/wandb/run-20241116_204913-qx1jigc5/files/model-best/assets\n"
     ]
    },
    {
     "name": "stderr",
     "output_type": "stream",
     "text": [
      "\u001b[34m\u001b[1mwandb\u001b[0m: Adding directory to artifact (/aiffel/aiffel/wandb/run-20241116_204913-qx1jigc5/files/model-best)... Done. 0.0s\n"
     ]
    },
    {
     "name": "stdout",
     "output_type": "stream",
     "text": [
      "Epoch 2/7\n",
      "23/23 [==============================] - 10s 410ms/step - loss: 1.5343 - accuracy: 0.3542 - val_loss: 1.4801 - val_accuracy: 0.3778\n",
      "INFO:tensorflow:Assets written to: /aiffel/aiffel/wandb/run-20241116_204913-qx1jigc5/files/model-best/assets\n"
     ]
    },
    {
     "name": "stderr",
     "output_type": "stream",
     "text": [
      "\u001b[34m\u001b[1mwandb\u001b[0m: Adding directory to artifact (/aiffel/aiffel/wandb/run-20241116_204913-qx1jigc5/files/model-best)... Done. 0.0s\n"
     ]
    },
    {
     "name": "stdout",
     "output_type": "stream",
     "text": [
      "Epoch 3/7\n",
      "23/23 [==============================] - 10s 405ms/step - loss: 1.4052 - accuracy: 0.4375 - val_loss: 1.4364 - val_accuracy: 0.4611\n",
      "INFO:tensorflow:Assets written to: /aiffel/aiffel/wandb/run-20241116_204913-qx1jigc5/files/model-best/assets\n"
     ]
    },
    {
     "name": "stderr",
     "output_type": "stream",
     "text": [
      "\u001b[34m\u001b[1mwandb\u001b[0m: Adding directory to artifact (/aiffel/aiffel/wandb/run-20241116_204913-qx1jigc5/files/model-best)... Done. 0.0s\n"
     ]
    },
    {
     "name": "stdout",
     "output_type": "stream",
     "text": [
      "Epoch 4/7\n",
      "23/23 [==============================] - 10s 415ms/step - loss: 1.3342 - accuracy: 0.4500 - val_loss: 1.4287 - val_accuracy: 0.4111\n",
      "INFO:tensorflow:Assets written to: /aiffel/aiffel/wandb/run-20241116_204913-qx1jigc5/files/model-best/assets\n"
     ]
    },
    {
     "name": "stderr",
     "output_type": "stream",
     "text": [
      "\u001b[34m\u001b[1mwandb\u001b[0m: Adding directory to artifact (/aiffel/aiffel/wandb/run-20241116_204913-qx1jigc5/files/model-best)... Done. 0.0s\n"
     ]
    },
    {
     "name": "stdout",
     "output_type": "stream",
     "text": [
      "Epoch 5/7\n",
      "23/23 [==============================] - 9s 402ms/step - loss: 1.3015 - accuracy: 0.4958 - val_loss: 1.5799 - val_accuracy: 0.3722\n",
      "Epoch 6/7\n",
      "23/23 [==============================] - 9s 407ms/step - loss: 1.1726 - accuracy: 0.5319 - val_loss: 1.3951 - val_accuracy: 0.4444\n",
      "INFO:tensorflow:Assets written to: /aiffel/aiffel/wandb/run-20241116_204913-qx1jigc5/files/model-best/assets\n"
     ]
    },
    {
     "name": "stderr",
     "output_type": "stream",
     "text": [
      "\u001b[34m\u001b[1mwandb\u001b[0m: Adding directory to artifact (/aiffel/aiffel/wandb/run-20241116_204913-qx1jigc5/files/model-best)... Done. 0.0s\n"
     ]
    },
    {
     "name": "stdout",
     "output_type": "stream",
     "text": [
      "Epoch 7/7\n",
      "23/23 [==============================] - 9s 403ms/step - loss: 1.0425 - accuracy: 0.5931 - val_loss: 1.1903 - val_accuracy: 0.5444\n",
      "INFO:tensorflow:Assets written to: /aiffel/aiffel/wandb/run-20241116_204913-qx1jigc5/files/model-best/assets\n"
     ]
    },
    {
     "name": "stderr",
     "output_type": "stream",
     "text": [
      "\u001b[34m\u001b[1mwandb\u001b[0m: Adding directory to artifact (/aiffel/aiffel/wandb/run-20241116_204913-qx1jigc5/files/model-best)... Done. 0.0s\n"
     ]
    },
    {
     "name": "stdout",
     "output_type": "stream",
     "text": [
      "6/6 [==============================] - 2s 279ms/step - loss: 1.1758 - accuracy: 0.5333\n",
      "Validation Accuracy for fold 1: 53.33%\n"
     ]
    },
    {
     "data": {
      "application/vnd.jupyter.widget-view+json": {
       "model_id": "",
       "version_major": 2,
       "version_minor": 0
      },
      "text/plain": [
       "VBox(children=(Label(value='9.079 MB of 9.079 MB uploaded (0.136 MB deduped)\\r'), FloatProgress(value=1.0, max…"
      ]
     },
     "metadata": {},
     "output_type": "display_data"
    },
    {
     "data": {
      "text/html": [
       "W&B sync reduced upload amount by 1.5%             "
      ],
      "text/plain": [
       "<IPython.core.display.HTML object>"
      ]
     },
     "metadata": {},
     "output_type": "display_data"
    },
    {
     "data": {
      "text/html": [
       "<style>\n",
       "    table.wandb td:nth-child(1) { padding: 0 10px; text-align: left ; width: auto;} td:nth-child(2) {text-align: left ; width: 100%}\n",
       "    .wandb-row { display: flex; flex-direction: row; flex-wrap: wrap; justify-content: flex-start; width: 100% }\n",
       "    .wandb-col { display: flex; flex-direction: column; flex-basis: 100%; flex: 1; padding: 10px; }\n",
       "    </style>\n",
       "<div class=\"wandb-row\"><div class=\"wandb-col\"><h3>Run history:</h3><br/><table class=\"wandb\"><tr><td>accuracy</td><td>▁▃▅▅▆▇█</td></tr><tr><td>epoch</td><td>▁▂▃▅▆▇█</td></tr><tr><td>loss</td><td>█▅▄▄▃▂▁</td></tr><tr><td>val_accuracy</td><td>▁▄▆▅▃▅█</td></tr><tr><td>val_loss</td><td>█▅▅▅▇▄▁</td></tr></table><br/></div><div class=\"wandb-col\"><h3>Run summary:</h3><br/><table class=\"wandb\"><tr><td>accuracy</td><td>0.59306</td></tr><tr><td>best_epoch</td><td>6</td></tr><tr><td>best_val_loss</td><td>1.19026</td></tr><tr><td>epoch</td><td>6</td></tr><tr><td>loss</td><td>1.04255</td></tr><tr><td>val_accuracy</td><td>0.54444</td></tr><tr><td>val_loss</td><td>1.19026</td></tr></table><br/></div></div>"
      ],
      "text/plain": [
       "<IPython.core.display.HTML object>"
      ]
     },
     "metadata": {},
     "output_type": "display_data"
    },
    {
     "data": {
      "text/html": [
       " View run <strong style=\"color:#cdcd00\">fold-1</strong> at: <a href='https://wandb.ai/wisdom-jihyekim-aiffel/WandB_with_kfold_used_by_Jindeok/runs/qx1jigc5' target=\"_blank\">https://wandb.ai/wisdom-jihyekim-aiffel/WandB_with_kfold_used_by_Jindeok/runs/qx1jigc5</a><br/>Synced 5 W&B file(s), 1 media file(s), 24 artifact file(s) and 1 other file(s)"
      ],
      "text/plain": [
       "<IPython.core.display.HTML object>"
      ]
     },
     "metadata": {},
     "output_type": "display_data"
    },
    {
     "data": {
      "text/html": [
       "Find logs at: <code>./wandb/run-20241116_204913-qx1jigc5/logs</code>"
      ],
      "text/plain": [
       "<IPython.core.display.HTML object>"
      ]
     },
     "metadata": {},
     "output_type": "display_data"
    },
    {
     "name": "stderr",
     "output_type": "stream",
     "text": [
      "\u001b[34m\u001b[1mwandb\u001b[0m: \u001b[33mWARNING\u001b[0m Ignored wandb.init() arg project when running a sweep.\n"
     ]
    },
    {
     "name": "stdout",
     "output_type": "stream",
     "text": [
      "Fold: 2 ==================================================================\n",
      "Found 720 validated image filenames belonging to 6 classes.\n",
      "Found 180 validated image filenames belonging to 6 classes.\n"
     ]
    },
    {
     "data": {
      "application/vnd.jupyter.widget-view+json": {
       "model_id": "91ad70595d03469b9617cc26a30ebe3c",
       "version_major": 2,
       "version_minor": 0
      },
      "text/plain": [
       "VBox(children=(Label(value='Waiting for wandb.init()...\\r'), FloatProgress(value=0.011113793888944202, max=1.0…"
      ]
     },
     "metadata": {},
     "output_type": "display_data"
    },
    {
     "data": {
      "text/html": [
       "wandb version 0.18.7 is available!  To upgrade, please run:\n",
       " $ pip install wandb --upgrade"
      ],
      "text/plain": [
       "<IPython.core.display.HTML object>"
      ]
     },
     "metadata": {},
     "output_type": "display_data"
    },
    {
     "data": {
      "text/html": [
       "Tracking run with wandb version 0.16.0"
      ],
      "text/plain": [
       "<IPython.core.display.HTML object>"
      ]
     },
     "metadata": {},
     "output_type": "display_data"
    },
    {
     "data": {
      "text/html": [
       "Run data is saved locally in <code>/aiffel/aiffel/wandb/run-20241116_205047-qx1jigc5</code>"
      ],
      "text/plain": [
       "<IPython.core.display.HTML object>"
      ]
     },
     "metadata": {},
     "output_type": "display_data"
    },
    {
     "data": {
      "text/html": [
       "Syncing run <strong><a href='https://wandb.ai/wisdom-jihyekim-aiffel/WandB_with_kfold_used_by_Jindeok/runs/qx1jigc5' target=\"_blank\">fold-2</a></strong> to <a href='https://wandb.ai/wisdom-jihyekim-aiffel/WandB_with_kfold_used_by_Jindeok' target=\"_blank\">Weights & Biases</a> (<a href='https://wandb.me/run' target=\"_blank\">docs</a>)<br/>Sweep page: <a href='https://wandb.ai/wisdom-jihyekim-aiffel/WandB_with_kfold_used_by_Jindeok/sweeps/zhdriy11' target=\"_blank\">https://wandb.ai/wisdom-jihyekim-aiffel/WandB_with_kfold_used_by_Jindeok/sweeps/zhdriy11</a>"
      ],
      "text/plain": [
       "<IPython.core.display.HTML object>"
      ]
     },
     "metadata": {},
     "output_type": "display_data"
    },
    {
     "data": {
      "text/html": [
       " View project at <a href='https://wandb.ai/wisdom-jihyekim-aiffel/WandB_with_kfold_used_by_Jindeok' target=\"_blank\">https://wandb.ai/wisdom-jihyekim-aiffel/WandB_with_kfold_used_by_Jindeok</a>"
      ],
      "text/plain": [
       "<IPython.core.display.HTML object>"
      ]
     },
     "metadata": {},
     "output_type": "display_data"
    },
    {
     "data": {
      "text/html": [
       " View sweep at <a href='https://wandb.ai/wisdom-jihyekim-aiffel/WandB_with_kfold_used_by_Jindeok/sweeps/zhdriy11' target=\"_blank\">https://wandb.ai/wisdom-jihyekim-aiffel/WandB_with_kfold_used_by_Jindeok/sweeps/zhdriy11</a>"
      ],
      "text/plain": [
       "<IPython.core.display.HTML object>"
      ]
     },
     "metadata": {},
     "output_type": "display_data"
    },
    {
     "data": {
      "text/html": [
       " View run at <a href='https://wandb.ai/wisdom-jihyekim-aiffel/WandB_with_kfold_used_by_Jindeok/runs/qx1jigc5' target=\"_blank\">https://wandb.ai/wisdom-jihyekim-aiffel/WandB_with_kfold_used_by_Jindeok/runs/qx1jigc5</a>"
      ],
      "text/plain": [
       "<IPython.core.display.HTML object>"
      ]
     },
     "metadata": {},
     "output_type": "display_data"
    },
    {
     "name": "stdout",
     "output_type": "stream",
     "text": [
      "Epoch 1/7\n",
      "23/23 [==============================] - 11s 435ms/step - loss: 1.8784 - accuracy: 0.2333 - val_loss: 1.6739 - val_accuracy: 0.2944\n",
      "INFO:tensorflow:Assets written to: /aiffel/aiffel/wandb/run-20241116_205047-qx1jigc5/files/model-best/assets\n"
     ]
    },
    {
     "name": "stderr",
     "output_type": "stream",
     "text": [
      "\u001b[34m\u001b[1mwandb\u001b[0m: Adding directory to artifact (/aiffel/aiffel/wandb/run-20241116_205047-qx1jigc5/files/model-best)... Done. 0.0s\n"
     ]
    },
    {
     "name": "stdout",
     "output_type": "stream",
     "text": [
      "Epoch 2/7\n",
      "23/23 [==============================] - 10s 407ms/step - loss: 1.6026 - accuracy: 0.3083 - val_loss: 1.4909 - val_accuracy: 0.4000\n",
      "INFO:tensorflow:Assets written to: /aiffel/aiffel/wandb/run-20241116_205047-qx1jigc5/files/model-best/assets\n"
     ]
    },
    {
     "name": "stderr",
     "output_type": "stream",
     "text": [
      "\u001b[34m\u001b[1mwandb\u001b[0m: Adding directory to artifact (/aiffel/aiffel/wandb/run-20241116_205047-qx1jigc5/files/model-best)... Done. 0.0s\n"
     ]
    },
    {
     "name": "stdout",
     "output_type": "stream",
     "text": [
      "Epoch 3/7\n",
      "23/23 [==============================] - 10s 410ms/step - loss: 1.4864 - accuracy: 0.3792 - val_loss: 1.4352 - val_accuracy: 0.4944\n",
      "INFO:tensorflow:Assets written to: /aiffel/aiffel/wandb/run-20241116_205047-qx1jigc5/files/model-best/assets\n"
     ]
    },
    {
     "name": "stderr",
     "output_type": "stream",
     "text": [
      "\u001b[34m\u001b[1mwandb\u001b[0m: Adding directory to artifact (/aiffel/aiffel/wandb/run-20241116_205047-qx1jigc5/files/model-best)... Done. 0.0s\n"
     ]
    },
    {
     "name": "stdout",
     "output_type": "stream",
     "text": [
      "Epoch 4/7\n",
      "23/23 [==============================] - 9s 399ms/step - loss: 1.3119 - accuracy: 0.4611 - val_loss: 1.3952 - val_accuracy: 0.4944\n",
      "INFO:tensorflow:Assets written to: /aiffel/aiffel/wandb/run-20241116_205047-qx1jigc5/files/model-best/assets\n"
     ]
    },
    {
     "name": "stderr",
     "output_type": "stream",
     "text": [
      "\u001b[34m\u001b[1mwandb\u001b[0m: Adding directory to artifact (/aiffel/aiffel/wandb/run-20241116_205047-qx1jigc5/files/model-best)... Done. 0.0s\n"
     ]
    },
    {
     "name": "stdout",
     "output_type": "stream",
     "text": [
      "Epoch 5/7\n",
      "23/23 [==============================] - 9s 404ms/step - loss: 1.2590 - accuracy: 0.4861 - val_loss: 1.3389 - val_accuracy: 0.5167\n",
      "INFO:tensorflow:Assets written to: /aiffel/aiffel/wandb/run-20241116_205047-qx1jigc5/files/model-best/assets\n"
     ]
    },
    {
     "name": "stderr",
     "output_type": "stream",
     "text": [
      "\u001b[34m\u001b[1mwandb\u001b[0m: Adding directory to artifact (/aiffel/aiffel/wandb/run-20241116_205047-qx1jigc5/files/model-best)... Done. 0.0s\n"
     ]
    },
    {
     "name": "stdout",
     "output_type": "stream",
     "text": [
      "Epoch 6/7\n",
      "23/23 [==============================] - 9s 400ms/step - loss: 1.1251 - accuracy: 0.5597 - val_loss: 1.2405 - val_accuracy: 0.5389\n",
      "INFO:tensorflow:Assets written to: /aiffel/aiffel/wandb/run-20241116_205047-qx1jigc5/files/model-best/assets\n"
     ]
    },
    {
     "name": "stderr",
     "output_type": "stream",
     "text": [
      "\u001b[34m\u001b[1mwandb\u001b[0m: Adding directory to artifact (/aiffel/aiffel/wandb/run-20241116_205047-qx1jigc5/files/model-best)... Done. 0.0s\n"
     ]
    },
    {
     "name": "stdout",
     "output_type": "stream",
     "text": [
      "Epoch 7/7\n",
      "23/23 [==============================] - 9s 403ms/step - loss: 1.0586 - accuracy: 0.5917 - val_loss: 1.2771 - val_accuracy: 0.5056\n",
      "6/6 [==============================] - 2s 299ms/step - loss: 1.2532 - accuracy: 0.5111\n",
      "Validation Accuracy for fold 2: 51.11%\n"
     ]
    },
    {
     "data": {
      "application/vnd.jupyter.widget-view+json": {
       "model_id": "",
       "version_major": 2,
       "version_minor": 0
      },
      "text/plain": [
       "VBox(children=(Label(value='9.099 MB of 9.099 MB uploaded (0.136 MB deduped)\\r'), FloatProgress(value=1.0, max…"
      ]
     },
     "metadata": {},
     "output_type": "display_data"
    },
    {
     "data": {
      "text/html": [
       "W&B sync reduced upload amount by 1.5%             "
      ],
      "text/plain": [
       "<IPython.core.display.HTML object>"
      ]
     },
     "metadata": {},
     "output_type": "display_data"
    },
    {
     "data": {
      "text/html": [
       "<style>\n",
       "    table.wandb td:nth-child(1) { padding: 0 10px; text-align: left ; width: auto;} td:nth-child(2) {text-align: left ; width: 100%}\n",
       "    .wandb-row { display: flex; flex-direction: row; flex-wrap: wrap; justify-content: flex-start; width: 100% }\n",
       "    .wandb-col { display: flex; flex-direction: column; flex-basis: 100%; flex: 1; padding: 10px; }\n",
       "    </style>\n",
       "<div class=\"wandb-row\"><div class=\"wandb-col\"><h3>Run history:</h3><br/><table class=\"wandb\"><tr><td>accuracy</td><td>▁▂▄▅▆▇█</td></tr><tr><td>epoch</td><td>▁▂▃▅▆▇█</td></tr><tr><td>loss</td><td>█▆▅▃▃▂▁</td></tr><tr><td>val_accuracy</td><td>▁▄▇▇▇█▇</td></tr><tr><td>val_loss</td><td>█▅▄▃▃▁▂</td></tr></table><br/></div><div class=\"wandb-col\"><h3>Run summary:</h3><br/><table class=\"wandb\"><tr><td>accuracy</td><td>0.59167</td></tr><tr><td>best_epoch</td><td>5</td></tr><tr><td>best_val_loss</td><td>1.24051</td></tr><tr><td>epoch</td><td>6</td></tr><tr><td>loss</td><td>1.05857</td></tr><tr><td>val_accuracy</td><td>0.50556</td></tr><tr><td>val_loss</td><td>1.27714</td></tr></table><br/></div></div>"
      ],
      "text/plain": [
       "<IPython.core.display.HTML object>"
      ]
     },
     "metadata": {},
     "output_type": "display_data"
    },
    {
     "data": {
      "text/html": [
       " View run <strong style=\"color:#cdcd00\">fold-2</strong> at: <a href='https://wandb.ai/wisdom-jihyekim-aiffel/WandB_with_kfold_used_by_Jindeok/runs/qx1jigc5' target=\"_blank\">https://wandb.ai/wisdom-jihyekim-aiffel/WandB_with_kfold_used_by_Jindeok/runs/qx1jigc5</a><br/>Synced 5 W&B file(s), 1 media file(s), 24 artifact file(s) and 1 other file(s)"
      ],
      "text/plain": [
       "<IPython.core.display.HTML object>"
      ]
     },
     "metadata": {},
     "output_type": "display_data"
    },
    {
     "data": {
      "text/html": [
       "Find logs at: <code>./wandb/run-20241116_205047-qx1jigc5/logs</code>"
      ],
      "text/plain": [
       "<IPython.core.display.HTML object>"
      ]
     },
     "metadata": {},
     "output_type": "display_data"
    },
    {
     "name": "stderr",
     "output_type": "stream",
     "text": [
      "\u001b[34m\u001b[1mwandb\u001b[0m: \u001b[33mWARNING\u001b[0m Ignored wandb.init() arg project when running a sweep.\n"
     ]
    },
    {
     "name": "stdout",
     "output_type": "stream",
     "text": [
      "Fold: 3 ==================================================================\n",
      "Found 720 validated image filenames belonging to 6 classes.\n",
      "Found 180 validated image filenames belonging to 6 classes.\n"
     ]
    },
    {
     "data": {
      "text/html": [
       "wandb version 0.18.7 is available!  To upgrade, please run:\n",
       " $ pip install wandb --upgrade"
      ],
      "text/plain": [
       "<IPython.core.display.HTML object>"
      ]
     },
     "metadata": {},
     "output_type": "display_data"
    },
    {
     "data": {
      "text/html": [
       "Tracking run with wandb version 0.16.0"
      ],
      "text/plain": [
       "<IPython.core.display.HTML object>"
      ]
     },
     "metadata": {},
     "output_type": "display_data"
    },
    {
     "data": {
      "text/html": [
       "Run data is saved locally in <code>/aiffel/aiffel/wandb/run-20241116_205214-qx1jigc5</code>"
      ],
      "text/plain": [
       "<IPython.core.display.HTML object>"
      ]
     },
     "metadata": {},
     "output_type": "display_data"
    },
    {
     "data": {
      "text/html": [
       "Syncing run <strong><a href='https://wandb.ai/wisdom-jihyekim-aiffel/WandB_with_kfold_used_by_Jindeok/runs/qx1jigc5' target=\"_blank\">fold-3</a></strong> to <a href='https://wandb.ai/wisdom-jihyekim-aiffel/WandB_with_kfold_used_by_Jindeok' target=\"_blank\">Weights & Biases</a> (<a href='https://wandb.me/run' target=\"_blank\">docs</a>)<br/>Sweep page: <a href='https://wandb.ai/wisdom-jihyekim-aiffel/WandB_with_kfold_used_by_Jindeok/sweeps/zhdriy11' target=\"_blank\">https://wandb.ai/wisdom-jihyekim-aiffel/WandB_with_kfold_used_by_Jindeok/sweeps/zhdriy11</a>"
      ],
      "text/plain": [
       "<IPython.core.display.HTML object>"
      ]
     },
     "metadata": {},
     "output_type": "display_data"
    },
    {
     "data": {
      "text/html": [
       " View project at <a href='https://wandb.ai/wisdom-jihyekim-aiffel/WandB_with_kfold_used_by_Jindeok' target=\"_blank\">https://wandb.ai/wisdom-jihyekim-aiffel/WandB_with_kfold_used_by_Jindeok</a>"
      ],
      "text/plain": [
       "<IPython.core.display.HTML object>"
      ]
     },
     "metadata": {},
     "output_type": "display_data"
    },
    {
     "data": {
      "text/html": [
       " View sweep at <a href='https://wandb.ai/wisdom-jihyekim-aiffel/WandB_with_kfold_used_by_Jindeok/sweeps/zhdriy11' target=\"_blank\">https://wandb.ai/wisdom-jihyekim-aiffel/WandB_with_kfold_used_by_Jindeok/sweeps/zhdriy11</a>"
      ],
      "text/plain": [
       "<IPython.core.display.HTML object>"
      ]
     },
     "metadata": {},
     "output_type": "display_data"
    },
    {
     "data": {
      "text/html": [
       " View run at <a href='https://wandb.ai/wisdom-jihyekim-aiffel/WandB_with_kfold_used_by_Jindeok/runs/qx1jigc5' target=\"_blank\">https://wandb.ai/wisdom-jihyekim-aiffel/WandB_with_kfold_used_by_Jindeok/runs/qx1jigc5</a>"
      ],
      "text/plain": [
       "<IPython.core.display.HTML object>"
      ]
     },
     "metadata": {},
     "output_type": "display_data"
    },
    {
     "name": "stdout",
     "output_type": "stream",
     "text": [
      "Epoch 1/7\n",
      "23/23 [==============================] - 11s 428ms/step - loss: 1.9626 - accuracy: 0.2556 - val_loss: 1.5837 - val_accuracy: 0.3167\n",
      "INFO:tensorflow:Assets written to: /aiffel/aiffel/wandb/run-20241116_205214-qx1jigc5/files/model-best/assets\n"
     ]
    },
    {
     "name": "stderr",
     "output_type": "stream",
     "text": [
      "\u001b[34m\u001b[1mwandb\u001b[0m: Adding directory to artifact (/aiffel/aiffel/wandb/run-20241116_205214-qx1jigc5/files/model-best)... Done. 0.0s\n"
     ]
    },
    {
     "name": "stdout",
     "output_type": "stream",
     "text": [
      "Epoch 2/7\n",
      "23/23 [==============================] - 9s 403ms/step - loss: 1.5852 - accuracy: 0.3417 - val_loss: 1.5595 - val_accuracy: 0.3667\n",
      "INFO:tensorflow:Assets written to: /aiffel/aiffel/wandb/run-20241116_205214-qx1jigc5/files/model-best/assets\n"
     ]
    },
    {
     "name": "stderr",
     "output_type": "stream",
     "text": [
      "\u001b[34m\u001b[1mwandb\u001b[0m: Adding directory to artifact (/aiffel/aiffel/wandb/run-20241116_205214-qx1jigc5/files/model-best)... Done. 0.0s\n"
     ]
    },
    {
     "name": "stdout",
     "output_type": "stream",
     "text": [
      "Epoch 3/7\n",
      "23/23 [==============================] - 9s 399ms/step - loss: 1.4076 - accuracy: 0.4306 - val_loss: 1.3747 - val_accuracy: 0.4667\n",
      "INFO:tensorflow:Assets written to: /aiffel/aiffel/wandb/run-20241116_205214-qx1jigc5/files/model-best/assets\n"
     ]
    },
    {
     "name": "stderr",
     "output_type": "stream",
     "text": [
      "\u001b[34m\u001b[1mwandb\u001b[0m: Adding directory to artifact (/aiffel/aiffel/wandb/run-20241116_205214-qx1jigc5/files/model-best)... Done. 0.0s\n"
     ]
    },
    {
     "name": "stdout",
     "output_type": "stream",
     "text": [
      "Epoch 4/7\n",
      "23/23 [==============================] - 10s 409ms/step - loss: 1.3559 - accuracy: 0.4764 - val_loss: 1.2799 - val_accuracy: 0.4667\n",
      "INFO:tensorflow:Assets written to: /aiffel/aiffel/wandb/run-20241116_205214-qx1jigc5/files/model-best/assets\n"
     ]
    },
    {
     "name": "stderr",
     "output_type": "stream",
     "text": [
      "\u001b[34m\u001b[1mwandb\u001b[0m: Adding directory to artifact (/aiffel/aiffel/wandb/run-20241116_205214-qx1jigc5/files/model-best)... Done. 0.0s\n"
     ]
    },
    {
     "name": "stdout",
     "output_type": "stream",
     "text": [
      "Epoch 5/7\n",
      "23/23 [==============================] - 9s 403ms/step - loss: 1.2495 - accuracy: 0.4875 - val_loss: 1.2022 - val_accuracy: 0.4944\n",
      "INFO:tensorflow:Assets written to: /aiffel/aiffel/wandb/run-20241116_205214-qx1jigc5/files/model-best/assets\n"
     ]
    },
    {
     "name": "stderr",
     "output_type": "stream",
     "text": [
      "\u001b[34m\u001b[1mwandb\u001b[0m: Adding directory to artifact (/aiffel/aiffel/wandb/run-20241116_205214-qx1jigc5/files/model-best)... Done. 0.0s\n"
     ]
    },
    {
     "name": "stdout",
     "output_type": "stream",
     "text": [
      "Epoch 6/7\n",
      "23/23 [==============================] - 10s 410ms/step - loss: 1.2283 - accuracy: 0.5194 - val_loss: 1.0691 - val_accuracy: 0.5667\n",
      "INFO:tensorflow:Assets written to: /aiffel/aiffel/wandb/run-20241116_205214-qx1jigc5/files/model-best/assets\n"
     ]
    },
    {
     "name": "stderr",
     "output_type": "stream",
     "text": [
      "\u001b[34m\u001b[1mwandb\u001b[0m: Adding directory to artifact (/aiffel/aiffel/wandb/run-20241116_205214-qx1jigc5/files/model-best)... Done. 0.0s\n"
     ]
    },
    {
     "name": "stdout",
     "output_type": "stream",
     "text": [
      "Epoch 7/7\n",
      "23/23 [==============================] - 10s 407ms/step - loss: 1.0547 - accuracy: 0.5792 - val_loss: 1.2273 - val_accuracy: 0.5333\n",
      "6/6 [==============================] - 2s 303ms/step - loss: 1.1984 - accuracy: 0.5278\n",
      "Validation Accuracy for fold 3: 52.78%\n"
     ]
    },
    {
     "data": {
      "application/vnd.jupyter.widget-view+json": {
       "model_id": "",
       "version_major": 2,
       "version_minor": 0
      },
      "text/plain": [
       "VBox(children=(Label(value='9.099 MB of 9.108 MB uploaded (0.136 MB deduped)\\r'), FloatProgress(value=0.999013…"
      ]
     },
     "metadata": {},
     "output_type": "display_data"
    },
    {
     "data": {
      "text/html": [
       "W&B sync reduced upload amount by 1.5%             "
      ],
      "text/plain": [
       "<IPython.core.display.HTML object>"
      ]
     },
     "metadata": {},
     "output_type": "display_data"
    },
    {
     "data": {
      "text/html": [
       "<style>\n",
       "    table.wandb td:nth-child(1) { padding: 0 10px; text-align: left ; width: auto;} td:nth-child(2) {text-align: left ; width: 100%}\n",
       "    .wandb-row { display: flex; flex-direction: row; flex-wrap: wrap; justify-content: flex-start; width: 100% }\n",
       "    .wandb-col { display: flex; flex-direction: column; flex-basis: 100%; flex: 1; padding: 10px; }\n",
       "    </style>\n",
       "<div class=\"wandb-row\"><div class=\"wandb-col\"><h3>Run history:</h3><br/><table class=\"wandb\"><tr><td>accuracy</td><td>▁▃▅▆▆▇█</td></tr><tr><td>epoch</td><td>▁▂▃▅▆▇█</td></tr><tr><td>loss</td><td>█▅▄▃▃▂▁</td></tr><tr><td>val_accuracy</td><td>▁▂▅▅▆█▇</td></tr><tr><td>val_loss</td><td>██▅▄▃▁▃</td></tr></table><br/></div><div class=\"wandb-col\"><h3>Run summary:</h3><br/><table class=\"wandb\"><tr><td>accuracy</td><td>0.57917</td></tr><tr><td>best_epoch</td><td>5</td></tr><tr><td>best_val_loss</td><td>1.06907</td></tr><tr><td>epoch</td><td>6</td></tr><tr><td>loss</td><td>1.05472</td></tr><tr><td>val_accuracy</td><td>0.53333</td></tr><tr><td>val_loss</td><td>1.22732</td></tr></table><br/></div></div>"
      ],
      "text/plain": [
       "<IPython.core.display.HTML object>"
      ]
     },
     "metadata": {},
     "output_type": "display_data"
    },
    {
     "data": {
      "text/html": [
       " View run <strong style=\"color:#cdcd00\">fold-3</strong> at: <a href='https://wandb.ai/wisdom-jihyekim-aiffel/WandB_with_kfold_used_by_Jindeok/runs/qx1jigc5' target=\"_blank\">https://wandb.ai/wisdom-jihyekim-aiffel/WandB_with_kfold_used_by_Jindeok/runs/qx1jigc5</a><br/>Synced 5 W&B file(s), 1 media file(s), 24 artifact file(s) and 1 other file(s)"
      ],
      "text/plain": [
       "<IPython.core.display.HTML object>"
      ]
     },
     "metadata": {},
     "output_type": "display_data"
    },
    {
     "data": {
      "text/html": [
       "Find logs at: <code>./wandb/run-20241116_205214-qx1jigc5/logs</code>"
      ],
      "text/plain": [
       "<IPython.core.display.HTML object>"
      ]
     },
     "metadata": {},
     "output_type": "display_data"
    },
    {
     "name": "stderr",
     "output_type": "stream",
     "text": [
      "\u001b[34m\u001b[1mwandb\u001b[0m: \u001b[33mWARNING\u001b[0m Ignored wandb.init() arg project when running a sweep.\n"
     ]
    },
    {
     "name": "stdout",
     "output_type": "stream",
     "text": [
      "Fold: 4 ==================================================================\n",
      "Found 720 validated image filenames belonging to 6 classes.\n",
      "Found 180 validated image filenames belonging to 6 classes.\n"
     ]
    },
    {
     "data": {
      "application/vnd.jupyter.widget-view+json": {
       "model_id": "bee061b8ea354f39a4d470d08f6a6a31",
       "version_major": 2,
       "version_minor": 0
      },
      "text/plain": [
       "VBox(children=(Label(value='Waiting for wandb.init()...\\r'), FloatProgress(value=0.011112740433357733, max=1.0…"
      ]
     },
     "metadata": {},
     "output_type": "display_data"
    },
    {
     "data": {
      "text/html": [
       "wandb version 0.18.7 is available!  To upgrade, please run:\n",
       " $ pip install wandb --upgrade"
      ],
      "text/plain": [
       "<IPython.core.display.HTML object>"
      ]
     },
     "metadata": {},
     "output_type": "display_data"
    },
    {
     "data": {
      "text/html": [
       "Tracking run with wandb version 0.16.0"
      ],
      "text/plain": [
       "<IPython.core.display.HTML object>"
      ]
     },
     "metadata": {},
     "output_type": "display_data"
    },
    {
     "data": {
      "text/html": [
       "Run data is saved locally in <code>/aiffel/aiffel/wandb/run-20241116_205343-qx1jigc5</code>"
      ],
      "text/plain": [
       "<IPython.core.display.HTML object>"
      ]
     },
     "metadata": {},
     "output_type": "display_data"
    },
    {
     "data": {
      "text/html": [
       "Syncing run <strong><a href='https://wandb.ai/wisdom-jihyekim-aiffel/WandB_with_kfold_used_by_Jindeok/runs/qx1jigc5' target=\"_blank\">fold-4</a></strong> to <a href='https://wandb.ai/wisdom-jihyekim-aiffel/WandB_with_kfold_used_by_Jindeok' target=\"_blank\">Weights & Biases</a> (<a href='https://wandb.me/run' target=\"_blank\">docs</a>)<br/>Sweep page: <a href='https://wandb.ai/wisdom-jihyekim-aiffel/WandB_with_kfold_used_by_Jindeok/sweeps/zhdriy11' target=\"_blank\">https://wandb.ai/wisdom-jihyekim-aiffel/WandB_with_kfold_used_by_Jindeok/sweeps/zhdriy11</a>"
      ],
      "text/plain": [
       "<IPython.core.display.HTML object>"
      ]
     },
     "metadata": {},
     "output_type": "display_data"
    },
    {
     "data": {
      "text/html": [
       " View project at <a href='https://wandb.ai/wisdom-jihyekim-aiffel/WandB_with_kfold_used_by_Jindeok' target=\"_blank\">https://wandb.ai/wisdom-jihyekim-aiffel/WandB_with_kfold_used_by_Jindeok</a>"
      ],
      "text/plain": [
       "<IPython.core.display.HTML object>"
      ]
     },
     "metadata": {},
     "output_type": "display_data"
    },
    {
     "data": {
      "text/html": [
       " View sweep at <a href='https://wandb.ai/wisdom-jihyekim-aiffel/WandB_with_kfold_used_by_Jindeok/sweeps/zhdriy11' target=\"_blank\">https://wandb.ai/wisdom-jihyekim-aiffel/WandB_with_kfold_used_by_Jindeok/sweeps/zhdriy11</a>"
      ],
      "text/plain": [
       "<IPython.core.display.HTML object>"
      ]
     },
     "metadata": {},
     "output_type": "display_data"
    },
    {
     "data": {
      "text/html": [
       " View run at <a href='https://wandb.ai/wisdom-jihyekim-aiffel/WandB_with_kfold_used_by_Jindeok/runs/qx1jigc5' target=\"_blank\">https://wandb.ai/wisdom-jihyekim-aiffel/WandB_with_kfold_used_by_Jindeok/runs/qx1jigc5</a>"
      ],
      "text/plain": [
       "<IPython.core.display.HTML object>"
      ]
     },
     "metadata": {},
     "output_type": "display_data"
    },
    {
     "name": "stdout",
     "output_type": "stream",
     "text": [
      "Epoch 1/7\n",
      "23/23 [==============================] - 11s 429ms/step - loss: 1.8622 - accuracy: 0.2528 - val_loss: 1.7711 - val_accuracy: 0.2611\n",
      "INFO:tensorflow:Assets written to: /aiffel/aiffel/wandb/run-20241116_205343-qx1jigc5/files/model-best/assets\n"
     ]
    },
    {
     "name": "stderr",
     "output_type": "stream",
     "text": [
      "\u001b[34m\u001b[1mwandb\u001b[0m: Adding directory to artifact (/aiffel/aiffel/wandb/run-20241116_205343-qx1jigc5/files/model-best)... Done. 0.0s\n"
     ]
    },
    {
     "name": "stdout",
     "output_type": "stream",
     "text": [
      "Epoch 2/7\n",
      "23/23 [==============================] - 10s 420ms/step - loss: 1.5807 - accuracy: 0.3556 - val_loss: 1.5944 - val_accuracy: 0.3500\n",
      "INFO:tensorflow:Assets written to: /aiffel/aiffel/wandb/run-20241116_205343-qx1jigc5/files/model-best/assets\n"
     ]
    },
    {
     "name": "stderr",
     "output_type": "stream",
     "text": [
      "\u001b[34m\u001b[1mwandb\u001b[0m: Adding directory to artifact (/aiffel/aiffel/wandb/run-20241116_205343-qx1jigc5/files/model-best)... Done. 0.0s\n"
     ]
    },
    {
     "name": "stdout",
     "output_type": "stream",
     "text": [
      "Epoch 3/7\n",
      "23/23 [==============================] - 10s 410ms/step - loss: 1.4572 - accuracy: 0.4014 - val_loss: 1.4322 - val_accuracy: 0.3889\n",
      "INFO:tensorflow:Assets written to: /aiffel/aiffel/wandb/run-20241116_205343-qx1jigc5/files/model-best/assets\n"
     ]
    },
    {
     "name": "stderr",
     "output_type": "stream",
     "text": [
      "\u001b[34m\u001b[1mwandb\u001b[0m: Adding directory to artifact (/aiffel/aiffel/wandb/run-20241116_205343-qx1jigc5/files/model-best)... Done. 0.0s\n"
     ]
    },
    {
     "name": "stdout",
     "output_type": "stream",
     "text": [
      "Epoch 4/7\n",
      "23/23 [==============================] - 10s 407ms/step - loss: 1.3837 - accuracy: 0.4181 - val_loss: 1.2718 - val_accuracy: 0.5167\n",
      "INFO:tensorflow:Assets written to: /aiffel/aiffel/wandb/run-20241116_205343-qx1jigc5/files/model-best/assets\n"
     ]
    },
    {
     "name": "stderr",
     "output_type": "stream",
     "text": [
      "\u001b[34m\u001b[1mwandb\u001b[0m: Adding directory to artifact (/aiffel/aiffel/wandb/run-20241116_205343-qx1jigc5/files/model-best)... Done. 0.0s\n"
     ]
    },
    {
     "name": "stdout",
     "output_type": "stream",
     "text": [
      "Epoch 5/7\n",
      "23/23 [==============================] - 10s 409ms/step - loss: 1.3326 - accuracy: 0.4653 - val_loss: 1.2947 - val_accuracy: 0.5000\n",
      "Epoch 6/7\n",
      "23/23 [==============================] - 9s 406ms/step - loss: 1.2181 - accuracy: 0.5111 - val_loss: 1.1937 - val_accuracy: 0.5611\n",
      "INFO:tensorflow:Assets written to: /aiffel/aiffel/wandb/run-20241116_205343-qx1jigc5/files/model-best/assets\n"
     ]
    },
    {
     "name": "stderr",
     "output_type": "stream",
     "text": [
      "\u001b[34m\u001b[1mwandb\u001b[0m: Adding directory to artifact (/aiffel/aiffel/wandb/run-20241116_205343-qx1jigc5/files/model-best)... Done. 0.0s\n"
     ]
    },
    {
     "name": "stdout",
     "output_type": "stream",
     "text": [
      "Epoch 7/7\n",
      "23/23 [==============================] - 10s 428ms/step - loss: 1.1852 - accuracy: 0.5361 - val_loss: 1.1741 - val_accuracy: 0.5444\n",
      "INFO:tensorflow:Assets written to: /aiffel/aiffel/wandb/run-20241116_205343-qx1jigc5/files/model-best/assets\n"
     ]
    },
    {
     "name": "stderr",
     "output_type": "stream",
     "text": [
      "\u001b[34m\u001b[1mwandb\u001b[0m: Adding directory to artifact (/aiffel/aiffel/wandb/run-20241116_205343-qx1jigc5/files/model-best)... Done. 0.0s\n"
     ]
    },
    {
     "name": "stdout",
     "output_type": "stream",
     "text": [
      "6/6 [==============================] - 2s 301ms/step - loss: 1.1394 - accuracy: 0.5278\n",
      "Validation Accuracy for fold 4: 52.78%\n"
     ]
    },
    {
     "data": {
      "application/vnd.jupyter.widget-view+json": {
       "model_id": "",
       "version_major": 2,
       "version_minor": 0
      },
      "text/plain": [
       "VBox(children=(Label(value='9.108 MB of 9.108 MB uploaded (0.137 MB deduped)\\r'), FloatProgress(value=1.0, max…"
      ]
     },
     "metadata": {},
     "output_type": "display_data"
    },
    {
     "data": {
      "text/html": [
       "W&B sync reduced upload amount by 1.5%             "
      ],
      "text/plain": [
       "<IPython.core.display.HTML object>"
      ]
     },
     "metadata": {},
     "output_type": "display_data"
    },
    {
     "data": {
      "text/html": [
       "<style>\n",
       "    table.wandb td:nth-child(1) { padding: 0 10px; text-align: left ; width: auto;} td:nth-child(2) {text-align: left ; width: 100%}\n",
       "    .wandb-row { display: flex; flex-direction: row; flex-wrap: wrap; justify-content: flex-start; width: 100% }\n",
       "    .wandb-col { display: flex; flex-direction: column; flex-basis: 100%; flex: 1; padding: 10px; }\n",
       "    </style>\n",
       "<div class=\"wandb-row\"><div class=\"wandb-col\"><h3>Run history:</h3><br/><table class=\"wandb\"><tr><td>accuracy</td><td>▁▄▅▅▆▇█</td></tr><tr><td>epoch</td><td>▁▂▃▅▆▇█</td></tr><tr><td>loss</td><td>█▅▄▃▃▁▁</td></tr><tr><td>val_accuracy</td><td>▁▃▄▇▇██</td></tr><tr><td>val_loss</td><td>█▆▄▂▂▁▁</td></tr></table><br/></div><div class=\"wandb-col\"><h3>Run summary:</h3><br/><table class=\"wandb\"><tr><td>accuracy</td><td>0.53611</td></tr><tr><td>best_epoch</td><td>6</td></tr><tr><td>best_val_loss</td><td>1.17409</td></tr><tr><td>epoch</td><td>6</td></tr><tr><td>loss</td><td>1.18516</td></tr><tr><td>val_accuracy</td><td>0.54444</td></tr><tr><td>val_loss</td><td>1.17409</td></tr></table><br/></div></div>"
      ],
      "text/plain": [
       "<IPython.core.display.HTML object>"
      ]
     },
     "metadata": {},
     "output_type": "display_data"
    },
    {
     "data": {
      "text/html": [
       " View run <strong style=\"color:#cdcd00\">fold-4</strong> at: <a href='https://wandb.ai/wisdom-jihyekim-aiffel/WandB_with_kfold_used_by_Jindeok/runs/qx1jigc5' target=\"_blank\">https://wandb.ai/wisdom-jihyekim-aiffel/WandB_with_kfold_used_by_Jindeok/runs/qx1jigc5</a><br/>Synced 5 W&B file(s), 1 media file(s), 24 artifact file(s) and 1 other file(s)"
      ],
      "text/plain": [
       "<IPython.core.display.HTML object>"
      ]
     },
     "metadata": {},
     "output_type": "display_data"
    },
    {
     "data": {
      "text/html": [
       "Find logs at: <code>./wandb/run-20241116_205343-qx1jigc5/logs</code>"
      ],
      "text/plain": [
       "<IPython.core.display.HTML object>"
      ]
     },
     "metadata": {},
     "output_type": "display_data"
    },
    {
     "name": "stderr",
     "output_type": "stream",
     "text": [
      "\u001b[34m\u001b[1mwandb\u001b[0m: \u001b[33mWARNING\u001b[0m Ignored wandb.init() arg project when running a sweep.\n"
     ]
    },
    {
     "name": "stdout",
     "output_type": "stream",
     "text": [
      "Fold: 5 ==================================================================\n",
      "Found 720 validated image filenames belonging to 6 classes.\n",
      "Found 180 validated image filenames belonging to 6 classes.\n"
     ]
    },
    {
     "data": {
      "application/vnd.jupyter.widget-view+json": {
       "model_id": "80ab655e038a4ea58d25fb2806aa833c",
       "version_major": 2,
       "version_minor": 0
      },
      "text/plain": [
       "VBox(children=(Label(value='Waiting for wandb.init()...\\r'), FloatProgress(value=0.011112777011132696, max=1.0…"
      ]
     },
     "metadata": {},
     "output_type": "display_data"
    },
    {
     "data": {
      "text/html": [
       "wandb version 0.18.7 is available!  To upgrade, please run:\n",
       " $ pip install wandb --upgrade"
      ],
      "text/plain": [
       "<IPython.core.display.HTML object>"
      ]
     },
     "metadata": {},
     "output_type": "display_data"
    },
    {
     "data": {
      "text/html": [
       "Tracking run with wandb version 0.16.0"
      ],
      "text/plain": [
       "<IPython.core.display.HTML object>"
      ]
     },
     "metadata": {},
     "output_type": "display_data"
    },
    {
     "data": {
      "text/html": [
       "Run data is saved locally in <code>/aiffel/aiffel/wandb/run-20241116_205513-qx1jigc5</code>"
      ],
      "text/plain": [
       "<IPython.core.display.HTML object>"
      ]
     },
     "metadata": {},
     "output_type": "display_data"
    },
    {
     "data": {
      "text/html": [
       "Syncing run <strong><a href='https://wandb.ai/wisdom-jihyekim-aiffel/WandB_with_kfold_used_by_Jindeok/runs/qx1jigc5' target=\"_blank\">fold-5</a></strong> to <a href='https://wandb.ai/wisdom-jihyekim-aiffel/WandB_with_kfold_used_by_Jindeok' target=\"_blank\">Weights & Biases</a> (<a href='https://wandb.me/run' target=\"_blank\">docs</a>)<br/>Sweep page: <a href='https://wandb.ai/wisdom-jihyekim-aiffel/WandB_with_kfold_used_by_Jindeok/sweeps/zhdriy11' target=\"_blank\">https://wandb.ai/wisdom-jihyekim-aiffel/WandB_with_kfold_used_by_Jindeok/sweeps/zhdriy11</a>"
      ],
      "text/plain": [
       "<IPython.core.display.HTML object>"
      ]
     },
     "metadata": {},
     "output_type": "display_data"
    },
    {
     "data": {
      "text/html": [
       " View project at <a href='https://wandb.ai/wisdom-jihyekim-aiffel/WandB_with_kfold_used_by_Jindeok' target=\"_blank\">https://wandb.ai/wisdom-jihyekim-aiffel/WandB_with_kfold_used_by_Jindeok</a>"
      ],
      "text/plain": [
       "<IPython.core.display.HTML object>"
      ]
     },
     "metadata": {},
     "output_type": "display_data"
    },
    {
     "data": {
      "text/html": [
       " View sweep at <a href='https://wandb.ai/wisdom-jihyekim-aiffel/WandB_with_kfold_used_by_Jindeok/sweeps/zhdriy11' target=\"_blank\">https://wandb.ai/wisdom-jihyekim-aiffel/WandB_with_kfold_used_by_Jindeok/sweeps/zhdriy11</a>"
      ],
      "text/plain": [
       "<IPython.core.display.HTML object>"
      ]
     },
     "metadata": {},
     "output_type": "display_data"
    },
    {
     "data": {
      "text/html": [
       " View run at <a href='https://wandb.ai/wisdom-jihyekim-aiffel/WandB_with_kfold_used_by_Jindeok/runs/qx1jigc5' target=\"_blank\">https://wandb.ai/wisdom-jihyekim-aiffel/WandB_with_kfold_used_by_Jindeok/runs/qx1jigc5</a>"
      ],
      "text/plain": [
       "<IPython.core.display.HTML object>"
      ]
     },
     "metadata": {},
     "output_type": "display_data"
    },
    {
     "name": "stdout",
     "output_type": "stream",
     "text": [
      "Epoch 1/7\n",
      "23/23 [==============================] - 11s 427ms/step - loss: 1.9093 - accuracy: 0.2097 - val_loss: 1.6974 - val_accuracy: 0.2444\n",
      "INFO:tensorflow:Assets written to: /aiffel/aiffel/wandb/run-20241116_205513-qx1jigc5/files/model-best/assets\n"
     ]
    },
    {
     "name": "stderr",
     "output_type": "stream",
     "text": [
      "\u001b[34m\u001b[1mwandb\u001b[0m: Adding directory to artifact (/aiffel/aiffel/wandb/run-20241116_205513-qx1jigc5/files/model-best)... Done. 0.0s\n"
     ]
    },
    {
     "name": "stdout",
     "output_type": "stream",
     "text": [
      "Epoch 2/7\n",
      "23/23 [==============================] - 9s 399ms/step - loss: 1.6229 - accuracy: 0.2875 - val_loss: 1.4668 - val_accuracy: 0.3889\n",
      "INFO:tensorflow:Assets written to: /aiffel/aiffel/wandb/run-20241116_205513-qx1jigc5/files/model-best/assets\n"
     ]
    },
    {
     "name": "stderr",
     "output_type": "stream",
     "text": [
      "\u001b[34m\u001b[1mwandb\u001b[0m: Adding directory to artifact (/aiffel/aiffel/wandb/run-20241116_205513-qx1jigc5/files/model-best)... Done. 0.0s\n"
     ]
    },
    {
     "name": "stdout",
     "output_type": "stream",
     "text": [
      "Epoch 3/7\n",
      "23/23 [==============================] - 9s 402ms/step - loss: 1.4587 - accuracy: 0.4028 - val_loss: 1.4563 - val_accuracy: 0.4222\n",
      "INFO:tensorflow:Assets written to: /aiffel/aiffel/wandb/run-20241116_205513-qx1jigc5/files/model-best/assets\n"
     ]
    },
    {
     "name": "stderr",
     "output_type": "stream",
     "text": [
      "\u001b[34m\u001b[1mwandb\u001b[0m: Adding directory to artifact (/aiffel/aiffel/wandb/run-20241116_205513-qx1jigc5/files/model-best)... Done. 0.0s\n"
     ]
    },
    {
     "name": "stdout",
     "output_type": "stream",
     "text": [
      "Epoch 4/7\n",
      "23/23 [==============================] - 10s 410ms/step - loss: 1.3368 - accuracy: 0.4444 - val_loss: 1.3702 - val_accuracy: 0.4611\n",
      "INFO:tensorflow:Assets written to: /aiffel/aiffel/wandb/run-20241116_205513-qx1jigc5/files/model-best/assets\n"
     ]
    },
    {
     "name": "stderr",
     "output_type": "stream",
     "text": [
      "\u001b[34m\u001b[1mwandb\u001b[0m: Adding directory to artifact (/aiffel/aiffel/wandb/run-20241116_205513-qx1jigc5/files/model-best)... Done. 0.0s\n"
     ]
    },
    {
     "name": "stdout",
     "output_type": "stream",
     "text": [
      "Epoch 5/7\n",
      "23/23 [==============================] - 10s 407ms/step - loss: 1.2847 - accuracy: 0.4736 - val_loss: 1.3390 - val_accuracy: 0.4500\n",
      "INFO:tensorflow:Assets written to: /aiffel/aiffel/wandb/run-20241116_205513-qx1jigc5/files/model-best/assets\n"
     ]
    },
    {
     "name": "stderr",
     "output_type": "stream",
     "text": [
      "\u001b[34m\u001b[1mwandb\u001b[0m: Adding directory to artifact (/aiffel/aiffel/wandb/run-20241116_205513-qx1jigc5/files/model-best)... Done. 0.0s\n"
     ]
    },
    {
     "name": "stdout",
     "output_type": "stream",
     "text": [
      "Epoch 6/7\n",
      "23/23 [==============================] - 9s 400ms/step - loss: 1.2182 - accuracy: 0.4875 - val_loss: 1.4864 - val_accuracy: 0.4222\n",
      "Epoch 7/7\n",
      "23/23 [==============================] - 9s 407ms/step - loss: 1.1732 - accuracy: 0.5181 - val_loss: 1.1530 - val_accuracy: 0.5778\n",
      "INFO:tensorflow:Assets written to: /aiffel/aiffel/wandb/run-20241116_205513-qx1jigc5/files/model-best/assets\n"
     ]
    },
    {
     "name": "stderr",
     "output_type": "stream",
     "text": [
      "\u001b[34m\u001b[1mwandb\u001b[0m: Adding directory to artifact (/aiffel/aiffel/wandb/run-20241116_205513-qx1jigc5/files/model-best)... Done. 0.0s\n"
     ]
    },
    {
     "name": "stdout",
     "output_type": "stream",
     "text": [
      "6/6 [==============================] - 2s 292ms/step - loss: 1.1271 - accuracy: 0.6000\n",
      "Validation Accuracy for fold 5: 60.00%\n"
     ]
    },
    {
     "data": {
      "application/vnd.jupyter.widget-view+json": {
       "model_id": "",
       "version_major": 2,
       "version_minor": 0
      },
      "text/plain": [
       "VBox(children=(Label(value='9.113 MB of 9.113 MB uploaded (0.137 MB deduped)\\r'), FloatProgress(value=1.0, max…"
      ]
     },
     "metadata": {},
     "output_type": "display_data"
    },
    {
     "data": {
      "text/html": [
       "W&B sync reduced upload amount by 1.5%             "
      ],
      "text/plain": [
       "<IPython.core.display.HTML object>"
      ]
     },
     "metadata": {},
     "output_type": "display_data"
    },
    {
     "data": {
      "text/html": [
       "<style>\n",
       "    table.wandb td:nth-child(1) { padding: 0 10px; text-align: left ; width: auto;} td:nth-child(2) {text-align: left ; width: 100%}\n",
       "    .wandb-row { display: flex; flex-direction: row; flex-wrap: wrap; justify-content: flex-start; width: 100% }\n",
       "    .wandb-col { display: flex; flex-direction: column; flex-basis: 100%; flex: 1; padding: 10px; }\n",
       "    </style>\n",
       "<div class=\"wandb-row\"><div class=\"wandb-col\"><h3>Run history:</h3><br/><table class=\"wandb\"><tr><td>accuracy</td><td>▁▃▅▆▇▇█</td></tr><tr><td>epoch</td><td>▁▂▃▅▆▇█</td></tr><tr><td>loss</td><td>█▅▄▃▂▁▁</td></tr><tr><td>val_accuracy</td><td>▁▄▅▆▅▅█</td></tr><tr><td>val_loss</td><td>█▅▅▄▃▅▁</td></tr></table><br/></div><div class=\"wandb-col\"><h3>Run summary:</h3><br/><table class=\"wandb\"><tr><td>accuracy</td><td>0.51806</td></tr><tr><td>best_epoch</td><td>6</td></tr><tr><td>best_val_loss</td><td>1.15303</td></tr><tr><td>epoch</td><td>6</td></tr><tr><td>loss</td><td>1.17317</td></tr><tr><td>val_accuracy</td><td>0.57778</td></tr><tr><td>val_loss</td><td>1.15303</td></tr></table><br/></div></div>"
      ],
      "text/plain": [
       "<IPython.core.display.HTML object>"
      ]
     },
     "metadata": {},
     "output_type": "display_data"
    },
    {
     "data": {
      "text/html": [
       " View run <strong style=\"color:#cdcd00\">fold-5</strong> at: <a href='https://wandb.ai/wisdom-jihyekim-aiffel/WandB_with_kfold_used_by_Jindeok/runs/qx1jigc5' target=\"_blank\">https://wandb.ai/wisdom-jihyekim-aiffel/WandB_with_kfold_used_by_Jindeok/runs/qx1jigc5</a><br/>Synced 5 W&B file(s), 1 media file(s), 24 artifact file(s) and 1 other file(s)"
      ],
      "text/plain": [
       "<IPython.core.display.HTML object>"
      ]
     },
     "metadata": {},
     "output_type": "display_data"
    },
    {
     "data": {
      "text/html": [
       "Find logs at: <code>./wandb/run-20241116_205513-qx1jigc5/logs</code>"
      ],
      "text/plain": [
       "<IPython.core.display.HTML object>"
      ]
     },
     "metadata": {},
     "output_type": "display_data"
    },
    {
     "name": "stderr",
     "output_type": "stream",
     "text": [
      "\u001b[34m\u001b[1mwandb\u001b[0m: Agent Starting Run: 8q3vedp1 with config:\n",
      "\u001b[34m\u001b[1mwandb\u001b[0m: \tepoch: 10\n",
      "\u001b[34m\u001b[1mwandb\u001b[0m: \tlearning_rate: 0.0881190714266614\n"
     ]
    },
    {
     "data": {
      "text/html": [
       "wandb version 0.18.7 is available!  To upgrade, please run:\n",
       " $ pip install wandb --upgrade"
      ],
      "text/plain": [
       "<IPython.core.display.HTML object>"
      ]
     },
     "metadata": {},
     "output_type": "display_data"
    },
    {
     "data": {
      "text/html": [
       "Tracking run with wandb version 0.16.0"
      ],
      "text/plain": [
       "<IPython.core.display.HTML object>"
      ]
     },
     "metadata": {},
     "output_type": "display_data"
    },
    {
     "data": {
      "text/html": [
       "Run data is saved locally in <code>/aiffel/aiffel/wandb/run-20241116_205646-8q3vedp1</code>"
      ],
      "text/plain": [
       "<IPython.core.display.HTML object>"
      ]
     },
     "metadata": {},
     "output_type": "display_data"
    },
    {
     "data": {
      "text/html": [
       "Syncing run <strong><a href='https://wandb.ai/wisdom-jihyekim-aiffel/WandB_with_kfold_used_by_Jindeok/runs/8q3vedp1' target=\"_blank\">decent-sweep-5</a></strong> to <a href='https://wandb.ai/wisdom-jihyekim-aiffel/WandB_with_kfold_used_by_Jindeok' target=\"_blank\">Weights & Biases</a> (<a href='https://wandb.me/run' target=\"_blank\">docs</a>)<br/>Sweep page: <a href='https://wandb.ai/wisdom-jihyekim-aiffel/WandB_with_kfold_used_by_Jindeok/sweeps/zhdriy11' target=\"_blank\">https://wandb.ai/wisdom-jihyekim-aiffel/WandB_with_kfold_used_by_Jindeok/sweeps/zhdriy11</a>"
      ],
      "text/plain": [
       "<IPython.core.display.HTML object>"
      ]
     },
     "metadata": {},
     "output_type": "display_data"
    },
    {
     "data": {
      "text/html": [
       " View project at <a href='https://wandb.ai/wisdom-jihyekim-aiffel/WandB_with_kfold_used_by_Jindeok' target=\"_blank\">https://wandb.ai/wisdom-jihyekim-aiffel/WandB_with_kfold_used_by_Jindeok</a>"
      ],
      "text/plain": [
       "<IPython.core.display.HTML object>"
      ]
     },
     "metadata": {},
     "output_type": "display_data"
    },
    {
     "data": {
      "text/html": [
       " View sweep at <a href='https://wandb.ai/wisdom-jihyekim-aiffel/WandB_with_kfold_used_by_Jindeok/sweeps/zhdriy11' target=\"_blank\">https://wandb.ai/wisdom-jihyekim-aiffel/WandB_with_kfold_used_by_Jindeok/sweeps/zhdriy11</a>"
      ],
      "text/plain": [
       "<IPython.core.display.HTML object>"
      ]
     },
     "metadata": {},
     "output_type": "display_data"
    },
    {
     "data": {
      "text/html": [
       " View run at <a href='https://wandb.ai/wisdom-jihyekim-aiffel/WandB_with_kfold_used_by_Jindeok/runs/8q3vedp1' target=\"_blank\">https://wandb.ai/wisdom-jihyekim-aiffel/WandB_with_kfold_used_by_Jindeok/runs/8q3vedp1</a>"
      ],
      "text/plain": [
       "<IPython.core.display.HTML object>"
      ]
     },
     "metadata": {},
     "output_type": "display_data"
    },
    {
     "name": "stderr",
     "output_type": "stream",
     "text": [
      "\u001b[34m\u001b[1mwandb\u001b[0m: \u001b[33mWARNING\u001b[0m Ignored wandb.init() arg project when running a sweep.\n"
     ]
    },
    {
     "name": "stdout",
     "output_type": "stream",
     "text": [
      "Fold: 1 ==================================================================\n",
      "Found 720 validated image filenames belonging to 6 classes.\n",
      "Found 180 validated image filenames belonging to 6 classes.\n"
     ]
    },
    {
     "data": {
      "text/html": [
       "Finishing last run (ID:8q3vedp1) before initializing another..."
      ],
      "text/plain": [
       "<IPython.core.display.HTML object>"
      ]
     },
     "metadata": {},
     "output_type": "display_data"
    },
    {
     "data": {
      "application/vnd.jupyter.widget-view+json": {
       "model_id": "",
       "version_major": 2,
       "version_minor": 0
      },
      "text/plain": [
       "VBox(children=(Label(value='0.001 MB of 0.001 MB uploaded\\r'), FloatProgress(value=1.0, max=1.0)))"
      ]
     },
     "metadata": {},
     "output_type": "display_data"
    },
    {
     "data": {
      "text/html": [
       " View run <strong style=\"color:#cdcd00\">decent-sweep-5</strong> at: <a href='https://wandb.ai/wisdom-jihyekim-aiffel/WandB_with_kfold_used_by_Jindeok/runs/8q3vedp1' target=\"_blank\">https://wandb.ai/wisdom-jihyekim-aiffel/WandB_with_kfold_used_by_Jindeok/runs/8q3vedp1</a><br/>Synced 5 W&B file(s), 0 media file(s), 0 artifact file(s) and 0 other file(s)"
      ],
      "text/plain": [
       "<IPython.core.display.HTML object>"
      ]
     },
     "metadata": {},
     "output_type": "display_data"
    },
    {
     "data": {
      "text/html": [
       "Find logs at: <code>./wandb/run-20241116_205646-8q3vedp1/logs</code>"
      ],
      "text/plain": [
       "<IPython.core.display.HTML object>"
      ]
     },
     "metadata": {},
     "output_type": "display_data"
    },
    {
     "data": {
      "text/html": [
       "Successfully finished last run (ID:8q3vedp1). Initializing new run:<br/>"
      ],
      "text/plain": [
       "<IPython.core.display.HTML object>"
      ]
     },
     "metadata": {},
     "output_type": "display_data"
    },
    {
     "data": {
      "application/vnd.jupyter.widget-view+json": {
       "model_id": "bce983063e374d14b924b15170374d33",
       "version_major": 2,
       "version_minor": 0
      },
      "text/plain": [
       "VBox(children=(Label(value='Waiting for wandb.init()...\\r'), FloatProgress(value=0.011112606122252247, max=1.0…"
      ]
     },
     "metadata": {},
     "output_type": "display_data"
    },
    {
     "data": {
      "text/html": [
       "wandb version 0.18.7 is available!  To upgrade, please run:\n",
       " $ pip install wandb --upgrade"
      ],
      "text/plain": [
       "<IPython.core.display.HTML object>"
      ]
     },
     "metadata": {},
     "output_type": "display_data"
    },
    {
     "data": {
      "text/html": [
       "Tracking run with wandb version 0.16.0"
      ],
      "text/plain": [
       "<IPython.core.display.HTML object>"
      ]
     },
     "metadata": {},
     "output_type": "display_data"
    },
    {
     "data": {
      "text/html": [
       "Run data is saved locally in <code>/aiffel/aiffel/wandb/run-20241116_205647-8q3vedp1</code>"
      ],
      "text/plain": [
       "<IPython.core.display.HTML object>"
      ]
     },
     "metadata": {},
     "output_type": "display_data"
    },
    {
     "data": {
      "text/html": [
       "Syncing run <strong><a href='https://wandb.ai/wisdom-jihyekim-aiffel/WandB_with_kfold_used_by_Jindeok/runs/8q3vedp1' target=\"_blank\">fold-1</a></strong> to <a href='https://wandb.ai/wisdom-jihyekim-aiffel/WandB_with_kfold_used_by_Jindeok' target=\"_blank\">Weights & Biases</a> (<a href='https://wandb.me/run' target=\"_blank\">docs</a>)<br/>Sweep page: <a href='https://wandb.ai/wisdom-jihyekim-aiffel/WandB_with_kfold_used_by_Jindeok/sweeps/zhdriy11' target=\"_blank\">https://wandb.ai/wisdom-jihyekim-aiffel/WandB_with_kfold_used_by_Jindeok/sweeps/zhdriy11</a>"
      ],
      "text/plain": [
       "<IPython.core.display.HTML object>"
      ]
     },
     "metadata": {},
     "output_type": "display_data"
    },
    {
     "data": {
      "text/html": [
       " View project at <a href='https://wandb.ai/wisdom-jihyekim-aiffel/WandB_with_kfold_used_by_Jindeok' target=\"_blank\">https://wandb.ai/wisdom-jihyekim-aiffel/WandB_with_kfold_used_by_Jindeok</a>"
      ],
      "text/plain": [
       "<IPython.core.display.HTML object>"
      ]
     },
     "metadata": {},
     "output_type": "display_data"
    },
    {
     "data": {
      "text/html": [
       " View sweep at <a href='https://wandb.ai/wisdom-jihyekim-aiffel/WandB_with_kfold_used_by_Jindeok/sweeps/zhdriy11' target=\"_blank\">https://wandb.ai/wisdom-jihyekim-aiffel/WandB_with_kfold_used_by_Jindeok/sweeps/zhdriy11</a>"
      ],
      "text/plain": [
       "<IPython.core.display.HTML object>"
      ]
     },
     "metadata": {},
     "output_type": "display_data"
    },
    {
     "data": {
      "text/html": [
       " View run at <a href='https://wandb.ai/wisdom-jihyekim-aiffel/WandB_with_kfold_used_by_Jindeok/runs/8q3vedp1' target=\"_blank\">https://wandb.ai/wisdom-jihyekim-aiffel/WandB_with_kfold_used_by_Jindeok/runs/8q3vedp1</a>"
      ],
      "text/plain": [
       "<IPython.core.display.HTML object>"
      ]
     },
     "metadata": {},
     "output_type": "display_data"
    },
    {
     "name": "stdout",
     "output_type": "stream",
     "text": [
      "Epoch 1/10\n",
      "23/23 [==============================] - 11s 429ms/step - loss: 1.9348 - accuracy: 0.2181 - val_loss: 1.7135 - val_accuracy: 0.2389\n",
      "INFO:tensorflow:Assets written to: /aiffel/aiffel/wandb/run-20241116_205647-8q3vedp1/files/model-best/assets\n"
     ]
    },
    {
     "name": "stderr",
     "output_type": "stream",
     "text": [
      "\u001b[34m\u001b[1mwandb\u001b[0m: Adding directory to artifact (/aiffel/aiffel/wandb/run-20241116_205647-8q3vedp1/files/model-best)... Done. 0.0s\n"
     ]
    },
    {
     "name": "stdout",
     "output_type": "stream",
     "text": [
      "Epoch 2/10\n",
      "23/23 [==============================] - 10s 419ms/step - loss: 1.6059 - accuracy: 0.3222 - val_loss: 1.5674 - val_accuracy: 0.3389\n",
      "INFO:tensorflow:Assets written to: /aiffel/aiffel/wandb/run-20241116_205647-8q3vedp1/files/model-best/assets\n"
     ]
    },
    {
     "name": "stderr",
     "output_type": "stream",
     "text": [
      "\u001b[34m\u001b[1mwandb\u001b[0m: Adding directory to artifact (/aiffel/aiffel/wandb/run-20241116_205647-8q3vedp1/files/model-best)... Done. 0.0s\n"
     ]
    },
    {
     "name": "stdout",
     "output_type": "stream",
     "text": [
      "Epoch 3/10\n",
      "23/23 [==============================] - 9s 402ms/step - loss: 1.4106 - accuracy: 0.4528 - val_loss: 1.4384 - val_accuracy: 0.4056\n",
      "INFO:tensorflow:Assets written to: /aiffel/aiffel/wandb/run-20241116_205647-8q3vedp1/files/model-best/assets\n"
     ]
    },
    {
     "name": "stderr",
     "output_type": "stream",
     "text": [
      "\u001b[34m\u001b[1mwandb\u001b[0m: Adding directory to artifact (/aiffel/aiffel/wandb/run-20241116_205647-8q3vedp1/files/model-best)... Done. 0.0s\n"
     ]
    },
    {
     "name": "stdout",
     "output_type": "stream",
     "text": [
      "Epoch 4/10\n",
      "23/23 [==============================] - 9s 401ms/step - loss: 1.2957 - accuracy: 0.4875 - val_loss: 1.4329 - val_accuracy: 0.4111\n",
      "INFO:tensorflow:Assets written to: /aiffel/aiffel/wandb/run-20241116_205647-8q3vedp1/files/model-best/assets\n"
     ]
    },
    {
     "name": "stderr",
     "output_type": "stream",
     "text": [
      "\u001b[34m\u001b[1mwandb\u001b[0m: Adding directory to artifact (/aiffel/aiffel/wandb/run-20241116_205647-8q3vedp1/files/model-best)... Done. 0.0s\n"
     ]
    },
    {
     "name": "stdout",
     "output_type": "stream",
     "text": [
      "Epoch 5/10\n",
      "23/23 [==============================] - 10s 404ms/step - loss: 1.1573 - accuracy: 0.5444 - val_loss: 1.1983 - val_accuracy: 0.5167\n",
      "INFO:tensorflow:Assets written to: /aiffel/aiffel/wandb/run-20241116_205647-8q3vedp1/files/model-best/assets\n"
     ]
    },
    {
     "name": "stderr",
     "output_type": "stream",
     "text": [
      "\u001b[34m\u001b[1mwandb\u001b[0m: Adding directory to artifact (/aiffel/aiffel/wandb/run-20241116_205647-8q3vedp1/files/model-best)... Done. 0.0s\n"
     ]
    },
    {
     "name": "stdout",
     "output_type": "stream",
     "text": [
      "Epoch 6/10\n",
      "23/23 [==============================] - 9s 406ms/step - loss: 1.1459 - accuracy: 0.5556 - val_loss: 1.3076 - val_accuracy: 0.5000\n",
      "Epoch 7/10\n",
      "23/23 [==============================] - 9s 401ms/step - loss: 1.0745 - accuracy: 0.5722 - val_loss: 1.2897 - val_accuracy: 0.4778\n",
      "Epoch 8/10\n",
      "23/23 [==============================] - 10s 412ms/step - loss: 1.0429 - accuracy: 0.5903 - val_loss: 1.2011 - val_accuracy: 0.5611\n",
      "Epoch 9/10\n",
      "23/23 [==============================] - 9s 403ms/step - loss: 0.9151 - accuracy: 0.6556 - val_loss: 1.0208 - val_accuracy: 0.6000\n",
      "INFO:tensorflow:Assets written to: /aiffel/aiffel/wandb/run-20241116_205647-8q3vedp1/files/model-best/assets\n"
     ]
    },
    {
     "name": "stderr",
     "output_type": "stream",
     "text": [
      "\u001b[34m\u001b[1mwandb\u001b[0m: Adding directory to artifact (/aiffel/aiffel/wandb/run-20241116_205647-8q3vedp1/files/model-best)... Done. 0.0s\n"
     ]
    },
    {
     "name": "stdout",
     "output_type": "stream",
     "text": [
      "Epoch 10/10\n",
      "23/23 [==============================] - 9s 405ms/step - loss: 0.8806 - accuracy: 0.6611 - val_loss: 1.2097 - val_accuracy: 0.5889\n",
      "6/6 [==============================] - 2s 287ms/step - loss: 1.2344 - accuracy: 0.5611\n",
      "Validation Accuracy for fold 1: 56.11%\n"
     ]
    },
    {
     "data": {
      "application/vnd.jupyter.widget-view+json": {
       "model_id": "",
       "version_major": 2,
       "version_minor": 0
      },
      "text/plain": [
       "VBox(children=(Label(value='9.079 MB of 9.079 MB uploaded (0.136 MB deduped)\\r'), FloatProgress(value=1.0, max…"
      ]
     },
     "metadata": {},
     "output_type": "display_data"
    },
    {
     "data": {
      "text/html": [
       "W&B sync reduced upload amount by 1.5%             "
      ],
      "text/plain": [
       "<IPython.core.display.HTML object>"
      ]
     },
     "metadata": {},
     "output_type": "display_data"
    },
    {
     "data": {
      "text/html": [
       "<style>\n",
       "    table.wandb td:nth-child(1) { padding: 0 10px; text-align: left ; width: auto;} td:nth-child(2) {text-align: left ; width: 100%}\n",
       "    .wandb-row { display: flex; flex-direction: row; flex-wrap: wrap; justify-content: flex-start; width: 100% }\n",
       "    .wandb-col { display: flex; flex-direction: column; flex-basis: 100%; flex: 1; padding: 10px; }\n",
       "    </style>\n",
       "<div class=\"wandb-row\"><div class=\"wandb-col\"><h3>Run history:</h3><br/><table class=\"wandb\"><tr><td>accuracy</td><td>▁▃▅▅▆▆▇▇██</td></tr><tr><td>epoch</td><td>▁▂▃▃▄▅▆▆▇█</td></tr><tr><td>loss</td><td>█▆▅▄▃▃▂▂▁▁</td></tr><tr><td>val_accuracy</td><td>▁▃▄▄▆▆▆▇██</td></tr><tr><td>val_loss</td><td>█▇▅▅▃▄▄▃▁▃</td></tr></table><br/></div><div class=\"wandb-col\"><h3>Run summary:</h3><br/><table class=\"wandb\"><tr><td>accuracy</td><td>0.66111</td></tr><tr><td>best_epoch</td><td>8</td></tr><tr><td>best_val_loss</td><td>1.02077</td></tr><tr><td>epoch</td><td>9</td></tr><tr><td>loss</td><td>0.88063</td></tr><tr><td>val_accuracy</td><td>0.58889</td></tr><tr><td>val_loss</td><td>1.20967</td></tr></table><br/></div></div>"
      ],
      "text/plain": [
       "<IPython.core.display.HTML object>"
      ]
     },
     "metadata": {},
     "output_type": "display_data"
    },
    {
     "data": {
      "text/html": [
       " View run <strong style=\"color:#cdcd00\">fold-1</strong> at: <a href='https://wandb.ai/wisdom-jihyekim-aiffel/WandB_with_kfold_used_by_Jindeok/runs/8q3vedp1' target=\"_blank\">https://wandb.ai/wisdom-jihyekim-aiffel/WandB_with_kfold_used_by_Jindeok/runs/8q3vedp1</a><br/>Synced 5 W&B file(s), 1 media file(s), 24 artifact file(s) and 1 other file(s)"
      ],
      "text/plain": [
       "<IPython.core.display.HTML object>"
      ]
     },
     "metadata": {},
     "output_type": "display_data"
    },
    {
     "data": {
      "text/html": [
       "Find logs at: <code>./wandb/run-20241116_205647-8q3vedp1/logs</code>"
      ],
      "text/plain": [
       "<IPython.core.display.HTML object>"
      ]
     },
     "metadata": {},
     "output_type": "display_data"
    },
    {
     "name": "stderr",
     "output_type": "stream",
     "text": [
      "\u001b[34m\u001b[1mwandb\u001b[0m: \u001b[33mWARNING\u001b[0m Ignored wandb.init() arg project when running a sweep.\n"
     ]
    },
    {
     "name": "stdout",
     "output_type": "stream",
     "text": [
      "Fold: 2 ==================================================================\n",
      "Found 720 validated image filenames belonging to 6 classes.\n",
      "Found 180 validated image filenames belonging to 6 classes.\n"
     ]
    },
    {
     "data": {
      "application/vnd.jupyter.widget-view+json": {
       "model_id": "66263f8c6f634a3ba00427da16592b77",
       "version_major": 2,
       "version_minor": 0
      },
      "text/plain": [
       "VBox(children=(Label(value='Waiting for wandb.init()...\\r'), FloatProgress(value=0.011112741355625783, max=1.0…"
      ]
     },
     "metadata": {},
     "output_type": "display_data"
    },
    {
     "data": {
      "text/html": [
       "wandb version 0.18.7 is available!  To upgrade, please run:\n",
       " $ pip install wandb --upgrade"
      ],
      "text/plain": [
       "<IPython.core.display.HTML object>"
      ]
     },
     "metadata": {},
     "output_type": "display_data"
    },
    {
     "data": {
      "text/html": [
       "Tracking run with wandb version 0.16.0"
      ],
      "text/plain": [
       "<IPython.core.display.HTML object>"
      ]
     },
     "metadata": {},
     "output_type": "display_data"
    },
    {
     "data": {
      "text/html": [
       "Run data is saved locally in <code>/aiffel/aiffel/wandb/run-20241116_205847-8q3vedp1</code>"
      ],
      "text/plain": [
       "<IPython.core.display.HTML object>"
      ]
     },
     "metadata": {},
     "output_type": "display_data"
    },
    {
     "data": {
      "text/html": [
       "Syncing run <strong><a href='https://wandb.ai/wisdom-jihyekim-aiffel/WandB_with_kfold_used_by_Jindeok/runs/8q3vedp1' target=\"_blank\">fold-2</a></strong> to <a href='https://wandb.ai/wisdom-jihyekim-aiffel/WandB_with_kfold_used_by_Jindeok' target=\"_blank\">Weights & Biases</a> (<a href='https://wandb.me/run' target=\"_blank\">docs</a>)<br/>Sweep page: <a href='https://wandb.ai/wisdom-jihyekim-aiffel/WandB_with_kfold_used_by_Jindeok/sweeps/zhdriy11' target=\"_blank\">https://wandb.ai/wisdom-jihyekim-aiffel/WandB_with_kfold_used_by_Jindeok/sweeps/zhdriy11</a>"
      ],
      "text/plain": [
       "<IPython.core.display.HTML object>"
      ]
     },
     "metadata": {},
     "output_type": "display_data"
    },
    {
     "data": {
      "text/html": [
       " View project at <a href='https://wandb.ai/wisdom-jihyekim-aiffel/WandB_with_kfold_used_by_Jindeok' target=\"_blank\">https://wandb.ai/wisdom-jihyekim-aiffel/WandB_with_kfold_used_by_Jindeok</a>"
      ],
      "text/plain": [
       "<IPython.core.display.HTML object>"
      ]
     },
     "metadata": {},
     "output_type": "display_data"
    },
    {
     "data": {
      "text/html": [
       " View sweep at <a href='https://wandb.ai/wisdom-jihyekim-aiffel/WandB_with_kfold_used_by_Jindeok/sweeps/zhdriy11' target=\"_blank\">https://wandb.ai/wisdom-jihyekim-aiffel/WandB_with_kfold_used_by_Jindeok/sweeps/zhdriy11</a>"
      ],
      "text/plain": [
       "<IPython.core.display.HTML object>"
      ]
     },
     "metadata": {},
     "output_type": "display_data"
    },
    {
     "data": {
      "text/html": [
       " View run at <a href='https://wandb.ai/wisdom-jihyekim-aiffel/WandB_with_kfold_used_by_Jindeok/runs/8q3vedp1' target=\"_blank\">https://wandb.ai/wisdom-jihyekim-aiffel/WandB_with_kfold_used_by_Jindeok/runs/8q3vedp1</a>"
      ],
      "text/plain": [
       "<IPython.core.display.HTML object>"
      ]
     },
     "metadata": {},
     "output_type": "display_data"
    },
    {
     "name": "stdout",
     "output_type": "stream",
     "text": [
      "Epoch 1/10\n",
      "23/23 [==============================] - 11s 434ms/step - loss: 1.8939 - accuracy: 0.2472 - val_loss: 1.6383 - val_accuracy: 0.2889\n",
      "INFO:tensorflow:Assets written to: /aiffel/aiffel/wandb/run-20241116_205847-8q3vedp1/files/model-best/assets\n"
     ]
    },
    {
     "name": "stderr",
     "output_type": "stream",
     "text": [
      "\u001b[34m\u001b[1mwandb\u001b[0m: Adding directory to artifact (/aiffel/aiffel/wandb/run-20241116_205847-8q3vedp1/files/model-best)... Done. 0.0s\n"
     ]
    },
    {
     "name": "stdout",
     "output_type": "stream",
     "text": [
      "Epoch 2/10\n",
      "23/23 [==============================] - 10s 407ms/step - loss: 1.5377 - accuracy: 0.3486 - val_loss: 1.5382 - val_accuracy: 0.3444\n",
      "INFO:tensorflow:Assets written to: /aiffel/aiffel/wandb/run-20241116_205847-8q3vedp1/files/model-best/assets\n"
     ]
    },
    {
     "name": "stderr",
     "output_type": "stream",
     "text": [
      "\u001b[34m\u001b[1mwandb\u001b[0m: Adding directory to artifact (/aiffel/aiffel/wandb/run-20241116_205847-8q3vedp1/files/model-best)... Done. 0.0s\n"
     ]
    },
    {
     "name": "stdout",
     "output_type": "stream",
     "text": [
      "Epoch 3/10\n",
      "23/23 [==============================] - 9s 404ms/step - loss: 1.4236 - accuracy: 0.4083 - val_loss: 1.4547 - val_accuracy: 0.4389\n",
      "INFO:tensorflow:Assets written to: /aiffel/aiffel/wandb/run-20241116_205847-8q3vedp1/files/model-best/assets\n"
     ]
    },
    {
     "name": "stderr",
     "output_type": "stream",
     "text": [
      "\u001b[34m\u001b[1mwandb\u001b[0m: Adding directory to artifact (/aiffel/aiffel/wandb/run-20241116_205847-8q3vedp1/files/model-best)... Done. 0.0s\n"
     ]
    },
    {
     "name": "stdout",
     "output_type": "stream",
     "text": [
      "Epoch 4/10\n",
      "23/23 [==============================] - 9s 401ms/step - loss: 1.2926 - accuracy: 0.4653 - val_loss: 1.4088 - val_accuracy: 0.4222\n",
      "INFO:tensorflow:Assets written to: /aiffel/aiffel/wandb/run-20241116_205847-8q3vedp1/files/model-best/assets\n"
     ]
    },
    {
     "name": "stderr",
     "output_type": "stream",
     "text": [
      "\u001b[34m\u001b[1mwandb\u001b[0m: Adding directory to artifact (/aiffel/aiffel/wandb/run-20241116_205847-8q3vedp1/files/model-best)... Done. 0.0s\n"
     ]
    },
    {
     "name": "stdout",
     "output_type": "stream",
     "text": [
      "Epoch 5/10\n",
      "23/23 [==============================] - 9s 402ms/step - loss: 1.1723 - accuracy: 0.5222 - val_loss: 1.2332 - val_accuracy: 0.5278\n",
      "INFO:tensorflow:Assets written to: /aiffel/aiffel/wandb/run-20241116_205847-8q3vedp1/files/model-best/assets\n"
     ]
    },
    {
     "name": "stderr",
     "output_type": "stream",
     "text": [
      "\u001b[34m\u001b[1mwandb\u001b[0m: Adding directory to artifact (/aiffel/aiffel/wandb/run-20241116_205847-8q3vedp1/files/model-best)... Done. 0.0s\n"
     ]
    },
    {
     "name": "stdout",
     "output_type": "stream",
     "text": [
      "Epoch 6/10\n",
      "23/23 [==============================] - 10s 408ms/step - loss: 1.0687 - accuracy: 0.5806 - val_loss: 1.1682 - val_accuracy: 0.5389\n",
      "INFO:tensorflow:Assets written to: /aiffel/aiffel/wandb/run-20241116_205847-8q3vedp1/files/model-best/assets\n"
     ]
    },
    {
     "name": "stderr",
     "output_type": "stream",
     "text": [
      "\u001b[34m\u001b[1mwandb\u001b[0m: Adding directory to artifact (/aiffel/aiffel/wandb/run-20241116_205847-8q3vedp1/files/model-best)... Done. 0.0s\n"
     ]
    },
    {
     "name": "stdout",
     "output_type": "stream",
     "text": [
      "Epoch 7/10\n",
      "23/23 [==============================] - 10s 407ms/step - loss: 1.0108 - accuracy: 0.6042 - val_loss: 1.1489 - val_accuracy: 0.5500\n",
      "INFO:tensorflow:Assets written to: /aiffel/aiffel/wandb/run-20241116_205847-8q3vedp1/files/model-best/assets\n"
     ]
    },
    {
     "name": "stderr",
     "output_type": "stream",
     "text": [
      "\u001b[34m\u001b[1mwandb\u001b[0m: Adding directory to artifact (/aiffel/aiffel/wandb/run-20241116_205847-8q3vedp1/files/model-best)... Done. 0.0s\n"
     ]
    },
    {
     "name": "stdout",
     "output_type": "stream",
     "text": [
      "Epoch 8/10\n",
      "23/23 [==============================] - 10s 411ms/step - loss: 0.9796 - accuracy: 0.6264 - val_loss: 1.0818 - val_accuracy: 0.6000\n",
      "INFO:tensorflow:Assets written to: /aiffel/aiffel/wandb/run-20241116_205847-8q3vedp1/files/model-best/assets\n"
     ]
    },
    {
     "name": "stderr",
     "output_type": "stream",
     "text": [
      "\u001b[34m\u001b[1mwandb\u001b[0m: Adding directory to artifact (/aiffel/aiffel/wandb/run-20241116_205847-8q3vedp1/files/model-best)... Done. 0.0s\n"
     ]
    },
    {
     "name": "stdout",
     "output_type": "stream",
     "text": [
      "Epoch 9/10\n",
      "23/23 [==============================] - 10s 422ms/step - loss: 0.8854 - accuracy: 0.6639 - val_loss: 1.0465 - val_accuracy: 0.5833\n",
      "INFO:tensorflow:Assets written to: /aiffel/aiffel/wandb/run-20241116_205847-8q3vedp1/files/model-best/assets\n"
     ]
    },
    {
     "name": "stderr",
     "output_type": "stream",
     "text": [
      "\u001b[34m\u001b[1mwandb\u001b[0m: Adding directory to artifact (/aiffel/aiffel/wandb/run-20241116_205847-8q3vedp1/files/model-best)... Done. 0.0s\n"
     ]
    },
    {
     "name": "stdout",
     "output_type": "stream",
     "text": [
      "Epoch 10/10\n",
      "23/23 [==============================] - 9s 405ms/step - loss: 0.7972 - accuracy: 0.6833 - val_loss: 0.9294 - val_accuracy: 0.6167\n",
      "INFO:tensorflow:Assets written to: /aiffel/aiffel/wandb/run-20241116_205847-8q3vedp1/files/model-best/assets\n"
     ]
    },
    {
     "name": "stderr",
     "output_type": "stream",
     "text": [
      "\u001b[34m\u001b[1mwandb\u001b[0m: Adding directory to artifact (/aiffel/aiffel/wandb/run-20241116_205847-8q3vedp1/files/model-best)... Done. 0.0s\n"
     ]
    },
    {
     "name": "stdout",
     "output_type": "stream",
     "text": [
      "6/6 [==============================] - 2s 291ms/step - loss: 0.9565 - accuracy: 0.6167\n",
      "Validation Accuracy for fold 2: 61.67%\n"
     ]
    },
    {
     "data": {
      "application/vnd.jupyter.widget-view+json": {
       "model_id": "",
       "version_major": 2,
       "version_minor": 0
      },
      "text/plain": [
       "VBox(children=(Label(value='14.459 MB of 14.459 MB uploaded (0.227 MB deduped)\\r'), FloatProgress(value=1.0, m…"
      ]
     },
     "metadata": {},
     "output_type": "display_data"
    },
    {
     "data": {
      "text/html": [
       "W&B sync reduced upload amount by 1.6%             "
      ],
      "text/plain": [
       "<IPython.core.display.HTML object>"
      ]
     },
     "metadata": {},
     "output_type": "display_data"
    },
    {
     "data": {
      "text/html": [
       "<style>\n",
       "    table.wandb td:nth-child(1) { padding: 0 10px; text-align: left ; width: auto;} td:nth-child(2) {text-align: left ; width: 100%}\n",
       "    .wandb-row { display: flex; flex-direction: row; flex-wrap: wrap; justify-content: flex-start; width: 100% }\n",
       "    .wandb-col { display: flex; flex-direction: column; flex-basis: 100%; flex: 1; padding: 10px; }\n",
       "    </style>\n",
       "<div class=\"wandb-row\"><div class=\"wandb-col\"><h3>Run history:</h3><br/><table class=\"wandb\"><tr><td>accuracy</td><td>▁▃▄▅▅▆▇▇██</td></tr><tr><td>epoch</td><td>▁▂▃▃▄▅▆▆▇█</td></tr><tr><td>loss</td><td>█▆▅▄▃▃▂▂▂▁</td></tr><tr><td>val_accuracy</td><td>▁▂▄▄▆▆▇█▇█</td></tr><tr><td>val_loss</td><td>█▇▆▆▄▃▃▃▂▁</td></tr></table><br/></div><div class=\"wandb-col\"><h3>Run summary:</h3><br/><table class=\"wandb\"><tr><td>accuracy</td><td>0.68333</td></tr><tr><td>best_epoch</td><td>9</td></tr><tr><td>best_val_loss</td><td>0.92942</td></tr><tr><td>epoch</td><td>9</td></tr><tr><td>loss</td><td>0.79719</td></tr><tr><td>val_accuracy</td><td>0.61667</td></tr><tr><td>val_loss</td><td>0.92942</td></tr></table><br/></div></div>"
      ],
      "text/plain": [
       "<IPython.core.display.HTML object>"
      ]
     },
     "metadata": {},
     "output_type": "display_data"
    },
    {
     "data": {
      "text/html": [
       " View run <strong style=\"color:#cdcd00\">fold-2</strong> at: <a href='https://wandb.ai/wisdom-jihyekim-aiffel/WandB_with_kfold_used_by_Jindeok/runs/8q3vedp1' target=\"_blank\">https://wandb.ai/wisdom-jihyekim-aiffel/WandB_with_kfold_used_by_Jindeok/runs/8q3vedp1</a><br/>Synced 5 W&B file(s), 1 media file(s), 40 artifact file(s) and 1 other file(s)"
      ],
      "text/plain": [
       "<IPython.core.display.HTML object>"
      ]
     },
     "metadata": {},
     "output_type": "display_data"
    },
    {
     "data": {
      "text/html": [
       "Find logs at: <code>./wandb/run-20241116_205847-8q3vedp1/logs</code>"
      ],
      "text/plain": [
       "<IPython.core.display.HTML object>"
      ]
     },
     "metadata": {},
     "output_type": "display_data"
    },
    {
     "name": "stderr",
     "output_type": "stream",
     "text": [
      "\u001b[34m\u001b[1mwandb\u001b[0m: \u001b[33mWARNING\u001b[0m Ignored wandb.init() arg project when running a sweep.\n"
     ]
    },
    {
     "name": "stdout",
     "output_type": "stream",
     "text": [
      "Fold: 3 ==================================================================\n",
      "Found 720 validated image filenames belonging to 6 classes.\n",
      "Found 180 validated image filenames belonging to 6 classes.\n"
     ]
    },
    {
     "data": {
      "text/html": [
       "wandb version 0.18.7 is available!  To upgrade, please run:\n",
       " $ pip install wandb --upgrade"
      ],
      "text/plain": [
       "<IPython.core.display.HTML object>"
      ]
     },
     "metadata": {},
     "output_type": "display_data"
    },
    {
     "data": {
      "text/html": [
       "Tracking run with wandb version 0.16.0"
      ],
      "text/plain": [
       "<IPython.core.display.HTML object>"
      ]
     },
     "metadata": {},
     "output_type": "display_data"
    },
    {
     "data": {
      "text/html": [
       "Run data is saved locally in <code>/aiffel/aiffel/wandb/run-20241116_210050-8q3vedp1</code>"
      ],
      "text/plain": [
       "<IPython.core.display.HTML object>"
      ]
     },
     "metadata": {},
     "output_type": "display_data"
    },
    {
     "data": {
      "text/html": [
       "Syncing run <strong><a href='https://wandb.ai/wisdom-jihyekim-aiffel/WandB_with_kfold_used_by_Jindeok/runs/8q3vedp1' target=\"_blank\">fold-3</a></strong> to <a href='https://wandb.ai/wisdom-jihyekim-aiffel/WandB_with_kfold_used_by_Jindeok' target=\"_blank\">Weights & Biases</a> (<a href='https://wandb.me/run' target=\"_blank\">docs</a>)<br/>Sweep page: <a href='https://wandb.ai/wisdom-jihyekim-aiffel/WandB_with_kfold_used_by_Jindeok/sweeps/zhdriy11' target=\"_blank\">https://wandb.ai/wisdom-jihyekim-aiffel/WandB_with_kfold_used_by_Jindeok/sweeps/zhdriy11</a>"
      ],
      "text/plain": [
       "<IPython.core.display.HTML object>"
      ]
     },
     "metadata": {},
     "output_type": "display_data"
    },
    {
     "data": {
      "text/html": [
       " View project at <a href='https://wandb.ai/wisdom-jihyekim-aiffel/WandB_with_kfold_used_by_Jindeok' target=\"_blank\">https://wandb.ai/wisdom-jihyekim-aiffel/WandB_with_kfold_used_by_Jindeok</a>"
      ],
      "text/plain": [
       "<IPython.core.display.HTML object>"
      ]
     },
     "metadata": {},
     "output_type": "display_data"
    },
    {
     "data": {
      "text/html": [
       " View sweep at <a href='https://wandb.ai/wisdom-jihyekim-aiffel/WandB_with_kfold_used_by_Jindeok/sweeps/zhdriy11' target=\"_blank\">https://wandb.ai/wisdom-jihyekim-aiffel/WandB_with_kfold_used_by_Jindeok/sweeps/zhdriy11</a>"
      ],
      "text/plain": [
       "<IPython.core.display.HTML object>"
      ]
     },
     "metadata": {},
     "output_type": "display_data"
    },
    {
     "data": {
      "text/html": [
       " View run at <a href='https://wandb.ai/wisdom-jihyekim-aiffel/WandB_with_kfold_used_by_Jindeok/runs/8q3vedp1' target=\"_blank\">https://wandb.ai/wisdom-jihyekim-aiffel/WandB_with_kfold_used_by_Jindeok/runs/8q3vedp1</a>"
      ],
      "text/plain": [
       "<IPython.core.display.HTML object>"
      ]
     },
     "metadata": {},
     "output_type": "display_data"
    },
    {
     "name": "stdout",
     "output_type": "stream",
     "text": [
      "Epoch 1/10\n",
      "23/23 [==============================] - 11s 440ms/step - loss: 1.9343 - accuracy: 0.1931 - val_loss: 1.7854 - val_accuracy: 0.2222\n",
      "INFO:tensorflow:Assets written to: /aiffel/aiffel/wandb/run-20241116_210050-8q3vedp1/files/model-best/assets\n"
     ]
    },
    {
     "name": "stderr",
     "output_type": "stream",
     "text": [
      "\u001b[34m\u001b[1mwandb\u001b[0m: Adding directory to artifact (/aiffel/aiffel/wandb/run-20241116_210050-8q3vedp1/files/model-best)... Done. 0.0s\n"
     ]
    },
    {
     "name": "stdout",
     "output_type": "stream",
     "text": [
      "Epoch 2/10\n",
      "23/23 [==============================] - 9s 406ms/step - loss: 1.7032 - accuracy: 0.2639 - val_loss: 1.6093 - val_accuracy: 0.2611\n",
      "INFO:tensorflow:Assets written to: /aiffel/aiffel/wandb/run-20241116_210050-8q3vedp1/files/model-best/assets\n"
     ]
    },
    {
     "name": "stderr",
     "output_type": "stream",
     "text": [
      "\u001b[34m\u001b[1mwandb\u001b[0m: Adding directory to artifact (/aiffel/aiffel/wandb/run-20241116_210050-8q3vedp1/files/model-best)... Done. 0.0s\n"
     ]
    },
    {
     "name": "stdout",
     "output_type": "stream",
     "text": [
      "Epoch 3/10\n",
      "23/23 [==============================] - 9s 404ms/step - loss: 1.5242 - accuracy: 0.3528 - val_loss: 1.4325 - val_accuracy: 0.4278\n",
      "INFO:tensorflow:Assets written to: /aiffel/aiffel/wandb/run-20241116_210050-8q3vedp1/files/model-best/assets\n"
     ]
    },
    {
     "name": "stderr",
     "output_type": "stream",
     "text": [
      "\u001b[34m\u001b[1mwandb\u001b[0m: Adding directory to artifact (/aiffel/aiffel/wandb/run-20241116_210050-8q3vedp1/files/model-best)... Done. 0.0s\n"
     ]
    },
    {
     "name": "stdout",
     "output_type": "stream",
     "text": [
      "Epoch 4/10\n",
      "23/23 [==============================] - 9s 407ms/step - loss: 1.3963 - accuracy: 0.4194 - val_loss: 1.3311 - val_accuracy: 0.4389\n",
      "INFO:tensorflow:Assets written to: /aiffel/aiffel/wandb/run-20241116_210050-8q3vedp1/files/model-best/assets\n"
     ]
    },
    {
     "name": "stderr",
     "output_type": "stream",
     "text": [
      "\u001b[34m\u001b[1mwandb\u001b[0m: Adding directory to artifact (/aiffel/aiffel/wandb/run-20241116_210050-8q3vedp1/files/model-best)... Done. 0.0s\n"
     ]
    },
    {
     "name": "stdout",
     "output_type": "stream",
     "text": [
      "Epoch 5/10\n",
      "23/23 [==============================] - 9s 402ms/step - loss: 1.2932 - accuracy: 0.4861 - val_loss: 1.2884 - val_accuracy: 0.4500\n",
      "INFO:tensorflow:Assets written to: /aiffel/aiffel/wandb/run-20241116_210050-8q3vedp1/files/model-best/assets\n"
     ]
    },
    {
     "name": "stderr",
     "output_type": "stream",
     "text": [
      "\u001b[34m\u001b[1mwandb\u001b[0m: Adding directory to artifact (/aiffel/aiffel/wandb/run-20241116_210050-8q3vedp1/files/model-best)... Done. 0.0s\n"
     ]
    },
    {
     "name": "stdout",
     "output_type": "stream",
     "text": [
      "Epoch 6/10\n",
      "23/23 [==============================] - 9s 404ms/step - loss: 1.1833 - accuracy: 0.5222 - val_loss: 1.1929 - val_accuracy: 0.5889\n",
      "INFO:tensorflow:Assets written to: /aiffel/aiffel/wandb/run-20241116_210050-8q3vedp1/files/model-best/assets\n"
     ]
    },
    {
     "name": "stderr",
     "output_type": "stream",
     "text": [
      "\u001b[34m\u001b[1mwandb\u001b[0m: Adding directory to artifact (/aiffel/aiffel/wandb/run-20241116_210050-8q3vedp1/files/model-best)... Done. 0.0s\n"
     ]
    },
    {
     "name": "stdout",
     "output_type": "stream",
     "text": [
      "Epoch 7/10\n",
      "23/23 [==============================] - 10s 407ms/step - loss: 1.0357 - accuracy: 0.5903 - val_loss: 1.1117 - val_accuracy: 0.5222\n",
      "INFO:tensorflow:Assets written to: /aiffel/aiffel/wandb/run-20241116_210050-8q3vedp1/files/model-best/assets\n"
     ]
    },
    {
     "name": "stderr",
     "output_type": "stream",
     "text": [
      "\u001b[34m\u001b[1mwandb\u001b[0m: Adding directory to artifact (/aiffel/aiffel/wandb/run-20241116_210050-8q3vedp1/files/model-best)... Done. 0.0s\n"
     ]
    },
    {
     "name": "stdout",
     "output_type": "stream",
     "text": [
      "Epoch 8/10\n",
      "23/23 [==============================] - 9s 402ms/step - loss: 1.0247 - accuracy: 0.6000 - val_loss: 1.1223 - val_accuracy: 0.5389\n",
      "Epoch 9/10\n",
      "23/23 [==============================] - 9s 406ms/step - loss: 1.0533 - accuracy: 0.5903 - val_loss: 1.0012 - val_accuracy: 0.6222\n",
      "INFO:tensorflow:Assets written to: /aiffel/aiffel/wandb/run-20241116_210050-8q3vedp1/files/model-best/assets\n"
     ]
    },
    {
     "name": "stderr",
     "output_type": "stream",
     "text": [
      "\u001b[34m\u001b[1mwandb\u001b[0m: Adding directory to artifact (/aiffel/aiffel/wandb/run-20241116_210050-8q3vedp1/files/model-best)... Done. 0.0s\n"
     ]
    },
    {
     "name": "stdout",
     "output_type": "stream",
     "text": [
      "Epoch 10/10\n",
      "23/23 [==============================] - 9s 405ms/step - loss: 0.8719 - accuracy: 0.6528 - val_loss: 0.9723 - val_accuracy: 0.6500\n",
      "INFO:tensorflow:Assets written to: /aiffel/aiffel/wandb/run-20241116_210050-8q3vedp1/files/model-best/assets\n"
     ]
    },
    {
     "name": "stderr",
     "output_type": "stream",
     "text": [
      "\u001b[34m\u001b[1mwandb\u001b[0m: Adding directory to artifact (/aiffel/aiffel/wandb/run-20241116_210050-8q3vedp1/files/model-best)... Done. 0.0s\n"
     ]
    },
    {
     "name": "stdout",
     "output_type": "stream",
     "text": [
      "6/6 [==============================] - 2s 286ms/step - loss: 0.9674 - accuracy: 0.6556\n",
      "Validation Accuracy for fold 3: 65.56%\n"
     ]
    },
    {
     "data": {
      "application/vnd.jupyter.widget-view+json": {
       "model_id": "",
       "version_major": 2,
       "version_minor": 0
      },
      "text/plain": [
       "VBox(children=(Label(value='13.119 MB of 13.119 MB uploaded (0.205 MB deduped)\\r'), FloatProgress(value=1.0, m…"
      ]
     },
     "metadata": {},
     "output_type": "display_data"
    },
    {
     "data": {
      "text/html": [
       "W&B sync reduced upload amount by 1.6%             "
      ],
      "text/plain": [
       "<IPython.core.display.HTML object>"
      ]
     },
     "metadata": {},
     "output_type": "display_data"
    },
    {
     "data": {
      "text/html": [
       "<style>\n",
       "    table.wandb td:nth-child(1) { padding: 0 10px; text-align: left ; width: auto;} td:nth-child(2) {text-align: left ; width: 100%}\n",
       "    .wandb-row { display: flex; flex-direction: row; flex-wrap: wrap; justify-content: flex-start; width: 100% }\n",
       "    .wandb-col { display: flex; flex-direction: column; flex-basis: 100%; flex: 1; padding: 10px; }\n",
       "    </style>\n",
       "<div class=\"wandb-row\"><div class=\"wandb-col\"><h3>Run history:</h3><br/><table class=\"wandb\"><tr><td>accuracy</td><td>▁▂▃▄▅▆▇▇▇█</td></tr><tr><td>epoch</td><td>▁▂▃▃▄▅▆▆▇█</td></tr><tr><td>loss</td><td>█▆▅▄▄▃▂▂▂▁</td></tr><tr><td>val_accuracy</td><td>▁▂▄▅▅▇▆▆██</td></tr><tr><td>val_loss</td><td>█▆▅▄▄▃▂▂▁▁</td></tr></table><br/></div><div class=\"wandb-col\"><h3>Run summary:</h3><br/><table class=\"wandb\"><tr><td>accuracy</td><td>0.65278</td></tr><tr><td>best_epoch</td><td>9</td></tr><tr><td>best_val_loss</td><td>0.97232</td></tr><tr><td>epoch</td><td>9</td></tr><tr><td>loss</td><td>0.87186</td></tr><tr><td>val_accuracy</td><td>0.65</td></tr><tr><td>val_loss</td><td>0.97232</td></tr></table><br/></div></div>"
      ],
      "text/plain": [
       "<IPython.core.display.HTML object>"
      ]
     },
     "metadata": {},
     "output_type": "display_data"
    },
    {
     "data": {
      "text/html": [
       " View run <strong style=\"color:#cdcd00\">fold-3</strong> at: <a href='https://wandb.ai/wisdom-jihyekim-aiffel/WandB_with_kfold_used_by_Jindeok/runs/8q3vedp1' target=\"_blank\">https://wandb.ai/wisdom-jihyekim-aiffel/WandB_with_kfold_used_by_Jindeok/runs/8q3vedp1</a><br/>Synced 5 W&B file(s), 1 media file(s), 36 artifact file(s) and 1 other file(s)"
      ],
      "text/plain": [
       "<IPython.core.display.HTML object>"
      ]
     },
     "metadata": {},
     "output_type": "display_data"
    },
    {
     "data": {
      "text/html": [
       "Find logs at: <code>./wandb/run-20241116_210050-8q3vedp1/logs</code>"
      ],
      "text/plain": [
       "<IPython.core.display.HTML object>"
      ]
     },
     "metadata": {},
     "output_type": "display_data"
    },
    {
     "name": "stderr",
     "output_type": "stream",
     "text": [
      "\u001b[34m\u001b[1mwandb\u001b[0m: \u001b[33mWARNING\u001b[0m Ignored wandb.init() arg project when running a sweep.\n"
     ]
    },
    {
     "name": "stdout",
     "output_type": "stream",
     "text": [
      "Fold: 4 ==================================================================\n",
      "Found 720 validated image filenames belonging to 6 classes.\n",
      "Found 180 validated image filenames belonging to 6 classes.\n"
     ]
    },
    {
     "data": {
      "text/html": [
       "wandb version 0.18.7 is available!  To upgrade, please run:\n",
       " $ pip install wandb --upgrade"
      ],
      "text/plain": [
       "<IPython.core.display.HTML object>"
      ]
     },
     "metadata": {},
     "output_type": "display_data"
    },
    {
     "data": {
      "text/html": [
       "Tracking run with wandb version 0.16.0"
      ],
      "text/plain": [
       "<IPython.core.display.HTML object>"
      ]
     },
     "metadata": {},
     "output_type": "display_data"
    },
    {
     "data": {
      "text/html": [
       "Run data is saved locally in <code>/aiffel/aiffel/wandb/run-20241116_210252-8q3vedp1</code>"
      ],
      "text/plain": [
       "<IPython.core.display.HTML object>"
      ]
     },
     "metadata": {},
     "output_type": "display_data"
    },
    {
     "data": {
      "text/html": [
       "Syncing run <strong><a href='https://wandb.ai/wisdom-jihyekim-aiffel/WandB_with_kfold_used_by_Jindeok/runs/8q3vedp1' target=\"_blank\">fold-4</a></strong> to <a href='https://wandb.ai/wisdom-jihyekim-aiffel/WandB_with_kfold_used_by_Jindeok' target=\"_blank\">Weights & Biases</a> (<a href='https://wandb.me/run' target=\"_blank\">docs</a>)<br/>Sweep page: <a href='https://wandb.ai/wisdom-jihyekim-aiffel/WandB_with_kfold_used_by_Jindeok/sweeps/zhdriy11' target=\"_blank\">https://wandb.ai/wisdom-jihyekim-aiffel/WandB_with_kfold_used_by_Jindeok/sweeps/zhdriy11</a>"
      ],
      "text/plain": [
       "<IPython.core.display.HTML object>"
      ]
     },
     "metadata": {},
     "output_type": "display_data"
    },
    {
     "data": {
      "text/html": [
       " View project at <a href='https://wandb.ai/wisdom-jihyekim-aiffel/WandB_with_kfold_used_by_Jindeok' target=\"_blank\">https://wandb.ai/wisdom-jihyekim-aiffel/WandB_with_kfold_used_by_Jindeok</a>"
      ],
      "text/plain": [
       "<IPython.core.display.HTML object>"
      ]
     },
     "metadata": {},
     "output_type": "display_data"
    },
    {
     "data": {
      "text/html": [
       " View sweep at <a href='https://wandb.ai/wisdom-jihyekim-aiffel/WandB_with_kfold_used_by_Jindeok/sweeps/zhdriy11' target=\"_blank\">https://wandb.ai/wisdom-jihyekim-aiffel/WandB_with_kfold_used_by_Jindeok/sweeps/zhdriy11</a>"
      ],
      "text/plain": [
       "<IPython.core.display.HTML object>"
      ]
     },
     "metadata": {},
     "output_type": "display_data"
    },
    {
     "data": {
      "text/html": [
       " View run at <a href='https://wandb.ai/wisdom-jihyekim-aiffel/WandB_with_kfold_used_by_Jindeok/runs/8q3vedp1' target=\"_blank\">https://wandb.ai/wisdom-jihyekim-aiffel/WandB_with_kfold_used_by_Jindeok/runs/8q3vedp1</a>"
      ],
      "text/plain": [
       "<IPython.core.display.HTML object>"
      ]
     },
     "metadata": {},
     "output_type": "display_data"
    },
    {
     "name": "stdout",
     "output_type": "stream",
     "text": [
      "Epoch 1/10\n",
      "23/23 [==============================] - 11s 441ms/step - loss: 1.8485 - accuracy: 0.2694 - val_loss: 1.6347 - val_accuracy: 0.2500\n",
      "INFO:tensorflow:Assets written to: /aiffel/aiffel/wandb/run-20241116_210252-8q3vedp1/files/model-best/assets\n"
     ]
    },
    {
     "name": "stderr",
     "output_type": "stream",
     "text": [
      "\u001b[34m\u001b[1mwandb\u001b[0m: Adding directory to artifact (/aiffel/aiffel/wandb/run-20241116_210252-8q3vedp1/files/model-best)... Done. 0.0s\n"
     ]
    },
    {
     "name": "stdout",
     "output_type": "stream",
     "text": [
      "Epoch 2/10\n",
      "23/23 [==============================] - 9s 404ms/step - loss: 1.5255 - accuracy: 0.3681 - val_loss: 1.5111 - val_accuracy: 0.3778\n",
      "INFO:tensorflow:Assets written to: /aiffel/aiffel/wandb/run-20241116_210252-8q3vedp1/files/model-best/assets\n"
     ]
    },
    {
     "name": "stderr",
     "output_type": "stream",
     "text": [
      "\u001b[34m\u001b[1mwandb\u001b[0m: Adding directory to artifact (/aiffel/aiffel/wandb/run-20241116_210252-8q3vedp1/files/model-best)... Done. 0.0s\n"
     ]
    },
    {
     "name": "stdout",
     "output_type": "stream",
     "text": [
      "Epoch 3/10\n",
      "23/23 [==============================] - 9s 403ms/step - loss: 1.4077 - accuracy: 0.4278 - val_loss: 1.3721 - val_accuracy: 0.4667\n",
      "INFO:tensorflow:Assets written to: /aiffel/aiffel/wandb/run-20241116_210252-8q3vedp1/files/model-best/assets\n"
     ]
    },
    {
     "name": "stderr",
     "output_type": "stream",
     "text": [
      "\u001b[34m\u001b[1mwandb\u001b[0m: Adding directory to artifact (/aiffel/aiffel/wandb/run-20241116_210252-8q3vedp1/files/model-best)... Done. 0.0s\n"
     ]
    },
    {
     "name": "stdout",
     "output_type": "stream",
     "text": [
      "Epoch 4/10\n",
      "23/23 [==============================] - 9s 397ms/step - loss: 1.3351 - accuracy: 0.4486 - val_loss: 1.3633 - val_accuracy: 0.4833\n",
      "INFO:tensorflow:Assets written to: /aiffel/aiffel/wandb/run-20241116_210252-8q3vedp1/files/model-best/assets\n"
     ]
    },
    {
     "name": "stderr",
     "output_type": "stream",
     "text": [
      "\u001b[34m\u001b[1mwandb\u001b[0m: Adding directory to artifact (/aiffel/aiffel/wandb/run-20241116_210252-8q3vedp1/files/model-best)... Done. 0.0s\n"
     ]
    },
    {
     "name": "stdout",
     "output_type": "stream",
     "text": [
      "Epoch 5/10\n",
      "23/23 [==============================] - 9s 404ms/step - loss: 1.2253 - accuracy: 0.4889 - val_loss: 1.2323 - val_accuracy: 0.4944\n",
      "INFO:tensorflow:Assets written to: /aiffel/aiffel/wandb/run-20241116_210252-8q3vedp1/files/model-best/assets\n"
     ]
    },
    {
     "name": "stderr",
     "output_type": "stream",
     "text": [
      "\u001b[34m\u001b[1mwandb\u001b[0m: Adding directory to artifact (/aiffel/aiffel/wandb/run-20241116_210252-8q3vedp1/files/model-best)... Done. 0.0s\n"
     ]
    },
    {
     "name": "stdout",
     "output_type": "stream",
     "text": [
      "Epoch 6/10\n",
      "23/23 [==============================] - 10s 419ms/step - loss: 1.1944 - accuracy: 0.5333 - val_loss: 1.0854 - val_accuracy: 0.5778\n",
      "INFO:tensorflow:Assets written to: /aiffel/aiffel/wandb/run-20241116_210252-8q3vedp1/files/model-best/assets\n"
     ]
    },
    {
     "name": "stderr",
     "output_type": "stream",
     "text": [
      "\u001b[34m\u001b[1mwandb\u001b[0m: Adding directory to artifact (/aiffel/aiffel/wandb/run-20241116_210252-8q3vedp1/files/model-best)... Done. 0.0s\n"
     ]
    },
    {
     "name": "stdout",
     "output_type": "stream",
     "text": [
      "Epoch 7/10\n",
      "23/23 [==============================] - 9s 402ms/step - loss: 1.0677 - accuracy: 0.6111 - val_loss: 1.1184 - val_accuracy: 0.5667\n",
      "Epoch 8/10\n",
      "23/23 [==============================] - 10s 416ms/step - loss: 1.0264 - accuracy: 0.6042 - val_loss: 1.0691 - val_accuracy: 0.5500\n",
      "INFO:tensorflow:Assets written to: /aiffel/aiffel/wandb/run-20241116_210252-8q3vedp1/files/model-best/assets\n"
     ]
    },
    {
     "name": "stderr",
     "output_type": "stream",
     "text": [
      "\u001b[34m\u001b[1mwandb\u001b[0m: Adding directory to artifact (/aiffel/aiffel/wandb/run-20241116_210252-8q3vedp1/files/model-best)... Done. 0.0s\n"
     ]
    },
    {
     "name": "stdout",
     "output_type": "stream",
     "text": [
      "Epoch 9/10\n",
      "23/23 [==============================] - 9s 402ms/step - loss: 0.9890 - accuracy: 0.6139 - val_loss: 0.9742 - val_accuracy: 0.6056\n",
      "INFO:tensorflow:Assets written to: /aiffel/aiffel/wandb/run-20241116_210252-8q3vedp1/files/model-best/assets\n"
     ]
    },
    {
     "name": "stderr",
     "output_type": "stream",
     "text": [
      "\u001b[34m\u001b[1mwandb\u001b[0m: Adding directory to artifact (/aiffel/aiffel/wandb/run-20241116_210252-8q3vedp1/files/model-best)... Done. 0.0s\n"
     ]
    },
    {
     "name": "stdout",
     "output_type": "stream",
     "text": [
      "Epoch 10/10\n",
      "23/23 [==============================] - 9s 404ms/step - loss: 0.8718 - accuracy: 0.6778 - val_loss: 0.8855 - val_accuracy: 0.6500\n",
      "INFO:tensorflow:Assets written to: /aiffel/aiffel/wandb/run-20241116_210252-8q3vedp1/files/model-best/assets\n"
     ]
    },
    {
     "name": "stderr",
     "output_type": "stream",
     "text": [
      "\u001b[34m\u001b[1mwandb\u001b[0m: Adding directory to artifact (/aiffel/aiffel/wandb/run-20241116_210252-8q3vedp1/files/model-best)... Done. 0.0s\n"
     ]
    },
    {
     "name": "stdout",
     "output_type": "stream",
     "text": [
      "6/6 [==============================] - 2s 292ms/step - loss: 0.9079 - accuracy: 0.6611\n",
      "Validation Accuracy for fold 4: 66.11%\n"
     ]
    },
    {
     "data": {
      "application/vnd.jupyter.widget-view+json": {
       "model_id": "",
       "version_major": 2,
       "version_minor": 0
      },
      "text/plain": [
       "VBox(children=(Label(value='13.133 MB of 13.133 MB uploaded (0.205 MB deduped)\\r'), FloatProgress(value=1.0, m…"
      ]
     },
     "metadata": {},
     "output_type": "display_data"
    },
    {
     "data": {
      "text/html": [
       "W&B sync reduced upload amount by 1.6%             "
      ],
      "text/plain": [
       "<IPython.core.display.HTML object>"
      ]
     },
     "metadata": {},
     "output_type": "display_data"
    },
    {
     "data": {
      "text/html": [
       "<style>\n",
       "    table.wandb td:nth-child(1) { padding: 0 10px; text-align: left ; width: auto;} td:nth-child(2) {text-align: left ; width: 100%}\n",
       "    .wandb-row { display: flex; flex-direction: row; flex-wrap: wrap; justify-content: flex-start; width: 100% }\n",
       "    .wandb-col { display: flex; flex-direction: column; flex-basis: 100%; flex: 1; padding: 10px; }\n",
       "    </style>\n",
       "<div class=\"wandb-row\"><div class=\"wandb-col\"><h3>Run history:</h3><br/><table class=\"wandb\"><tr><td>accuracy</td><td>▁▃▄▄▅▆▇▇▇█</td></tr><tr><td>epoch</td><td>▁▂▃▃▄▅▆▆▇█</td></tr><tr><td>loss</td><td>█▆▅▄▄▃▂▂▂▁</td></tr><tr><td>val_accuracy</td><td>▁▃▅▅▅▇▇▆▇█</td></tr><tr><td>val_loss</td><td>█▇▆▅▄▃▃▃▂▁</td></tr></table><br/></div><div class=\"wandb-col\"><h3>Run summary:</h3><br/><table class=\"wandb\"><tr><td>accuracy</td><td>0.67778</td></tr><tr><td>best_epoch</td><td>9</td></tr><tr><td>best_val_loss</td><td>0.88554</td></tr><tr><td>epoch</td><td>9</td></tr><tr><td>loss</td><td>0.87175</td></tr><tr><td>val_accuracy</td><td>0.65</td></tr><tr><td>val_loss</td><td>0.88554</td></tr></table><br/></div></div>"
      ],
      "text/plain": [
       "<IPython.core.display.HTML object>"
      ]
     },
     "metadata": {},
     "output_type": "display_data"
    },
    {
     "data": {
      "text/html": [
       " View run <strong style=\"color:#cdcd00\">fold-4</strong> at: <a href='https://wandb.ai/wisdom-jihyekim-aiffel/WandB_with_kfold_used_by_Jindeok/runs/8q3vedp1' target=\"_blank\">https://wandb.ai/wisdom-jihyekim-aiffel/WandB_with_kfold_used_by_Jindeok/runs/8q3vedp1</a><br/>Synced 5 W&B file(s), 1 media file(s), 36 artifact file(s) and 1 other file(s)"
      ],
      "text/plain": [
       "<IPython.core.display.HTML object>"
      ]
     },
     "metadata": {},
     "output_type": "display_data"
    },
    {
     "data": {
      "text/html": [
       "Find logs at: <code>./wandb/run-20241116_210252-8q3vedp1/logs</code>"
      ],
      "text/plain": [
       "<IPython.core.display.HTML object>"
      ]
     },
     "metadata": {},
     "output_type": "display_data"
    },
    {
     "name": "stderr",
     "output_type": "stream",
     "text": [
      "\u001b[34m\u001b[1mwandb\u001b[0m: \u001b[33mWARNING\u001b[0m Ignored wandb.init() arg project when running a sweep.\n"
     ]
    },
    {
     "name": "stdout",
     "output_type": "stream",
     "text": [
      "Fold: 5 ==================================================================\n",
      "Found 720 validated image filenames belonging to 6 classes.\n",
      "Found 180 validated image filenames belonging to 6 classes.\n"
     ]
    },
    {
     "data": {
      "application/vnd.jupyter.widget-view+json": {
       "model_id": "2c761b1f531248b68f51606e0dff6231",
       "version_major": 2,
       "version_minor": 0
      },
      "text/plain": [
       "VBox(children=(Label(value='Waiting for wandb.init()...\\r'), FloatProgress(value=0.011112797200055664, max=1.0…"
      ]
     },
     "metadata": {},
     "output_type": "display_data"
    },
    {
     "data": {
      "text/html": [
       "wandb version 0.18.7 is available!  To upgrade, please run:\n",
       " $ pip install wandb --upgrade"
      ],
      "text/plain": [
       "<IPython.core.display.HTML object>"
      ]
     },
     "metadata": {},
     "output_type": "display_data"
    },
    {
     "data": {
      "text/html": [
       "Tracking run with wandb version 0.16.0"
      ],
      "text/plain": [
       "<IPython.core.display.HTML object>"
      ]
     },
     "metadata": {},
     "output_type": "display_data"
    },
    {
     "data": {
      "text/html": [
       "Run data is saved locally in <code>/aiffel/aiffel/wandb/run-20241116_210453-8q3vedp1</code>"
      ],
      "text/plain": [
       "<IPython.core.display.HTML object>"
      ]
     },
     "metadata": {},
     "output_type": "display_data"
    },
    {
     "data": {
      "text/html": [
       "Syncing run <strong><a href='https://wandb.ai/wisdom-jihyekim-aiffel/WandB_with_kfold_used_by_Jindeok/runs/8q3vedp1' target=\"_blank\">fold-5</a></strong> to <a href='https://wandb.ai/wisdom-jihyekim-aiffel/WandB_with_kfold_used_by_Jindeok' target=\"_blank\">Weights & Biases</a> (<a href='https://wandb.me/run' target=\"_blank\">docs</a>)<br/>Sweep page: <a href='https://wandb.ai/wisdom-jihyekim-aiffel/WandB_with_kfold_used_by_Jindeok/sweeps/zhdriy11' target=\"_blank\">https://wandb.ai/wisdom-jihyekim-aiffel/WandB_with_kfold_used_by_Jindeok/sweeps/zhdriy11</a>"
      ],
      "text/plain": [
       "<IPython.core.display.HTML object>"
      ]
     },
     "metadata": {},
     "output_type": "display_data"
    },
    {
     "data": {
      "text/html": [
       " View project at <a href='https://wandb.ai/wisdom-jihyekim-aiffel/WandB_with_kfold_used_by_Jindeok' target=\"_blank\">https://wandb.ai/wisdom-jihyekim-aiffel/WandB_with_kfold_used_by_Jindeok</a>"
      ],
      "text/plain": [
       "<IPython.core.display.HTML object>"
      ]
     },
     "metadata": {},
     "output_type": "display_data"
    },
    {
     "data": {
      "text/html": [
       " View sweep at <a href='https://wandb.ai/wisdom-jihyekim-aiffel/WandB_with_kfold_used_by_Jindeok/sweeps/zhdriy11' target=\"_blank\">https://wandb.ai/wisdom-jihyekim-aiffel/WandB_with_kfold_used_by_Jindeok/sweeps/zhdriy11</a>"
      ],
      "text/plain": [
       "<IPython.core.display.HTML object>"
      ]
     },
     "metadata": {},
     "output_type": "display_data"
    },
    {
     "data": {
      "text/html": [
       " View run at <a href='https://wandb.ai/wisdom-jihyekim-aiffel/WandB_with_kfold_used_by_Jindeok/runs/8q3vedp1' target=\"_blank\">https://wandb.ai/wisdom-jihyekim-aiffel/WandB_with_kfold_used_by_Jindeok/runs/8q3vedp1</a>"
      ],
      "text/plain": [
       "<IPython.core.display.HTML object>"
      ]
     },
     "metadata": {},
     "output_type": "display_data"
    },
    {
     "name": "stdout",
     "output_type": "stream",
     "text": [
      "Epoch 1/10\n",
      "23/23 [==============================] - 11s 450ms/step - loss: 1.9026 - accuracy: 0.2472 - val_loss: 1.6922 - val_accuracy: 0.2778\n",
      "INFO:tensorflow:Assets written to: /aiffel/aiffel/wandb/run-20241116_210453-8q3vedp1/files/model-best/assets\n"
     ]
    },
    {
     "name": "stderr",
     "output_type": "stream",
     "text": [
      "\u001b[34m\u001b[1mwandb\u001b[0m: Adding directory to artifact (/aiffel/aiffel/wandb/run-20241116_210453-8q3vedp1/files/model-best)... Done. 0.0s\n"
     ]
    },
    {
     "name": "stdout",
     "output_type": "stream",
     "text": [
      "Epoch 2/10\n",
      "23/23 [==============================] - 10s 406ms/step - loss: 1.5911 - accuracy: 0.3486 - val_loss: 1.5713 - val_accuracy: 0.3444\n",
      "INFO:tensorflow:Assets written to: /aiffel/aiffel/wandb/run-20241116_210453-8q3vedp1/files/model-best/assets\n"
     ]
    },
    {
     "name": "stderr",
     "output_type": "stream",
     "text": [
      "\u001b[34m\u001b[1mwandb\u001b[0m: Adding directory to artifact (/aiffel/aiffel/wandb/run-20241116_210453-8q3vedp1/files/model-best)... Done. 0.0s\n"
     ]
    },
    {
     "name": "stdout",
     "output_type": "stream",
     "text": [
      "Epoch 3/10\n",
      "23/23 [==============================] - 9s 403ms/step - loss: 1.4059 - accuracy: 0.4333 - val_loss: 1.3716 - val_accuracy: 0.4500\n",
      "INFO:tensorflow:Assets written to: /aiffel/aiffel/wandb/run-20241116_210453-8q3vedp1/files/model-best/assets\n"
     ]
    },
    {
     "name": "stderr",
     "output_type": "stream",
     "text": [
      "\u001b[34m\u001b[1mwandb\u001b[0m: Adding directory to artifact (/aiffel/aiffel/wandb/run-20241116_210453-8q3vedp1/files/model-best)... Done. 0.0s\n"
     ]
    },
    {
     "name": "stdout",
     "output_type": "stream",
     "text": [
      "Epoch 4/10\n",
      "23/23 [==============================] - 10s 426ms/step - loss: 1.2769 - accuracy: 0.4833 - val_loss: 1.3154 - val_accuracy: 0.4833\n",
      "INFO:tensorflow:Assets written to: /aiffel/aiffel/wandb/run-20241116_210453-8q3vedp1/files/model-best/assets\n"
     ]
    },
    {
     "name": "stderr",
     "output_type": "stream",
     "text": [
      "\u001b[34m\u001b[1mwandb\u001b[0m: Adding directory to artifact (/aiffel/aiffel/wandb/run-20241116_210453-8q3vedp1/files/model-best)... Done. 0.0s\n"
     ]
    },
    {
     "name": "stdout",
     "output_type": "stream",
     "text": [
      "Epoch 5/10\n",
      "23/23 [==============================] - 10s 420ms/step - loss: 1.1917 - accuracy: 0.5083 - val_loss: 1.3601 - val_accuracy: 0.4611\n",
      "Epoch 6/10\n",
      "23/23 [==============================] - 10s 415ms/step - loss: 1.1156 - accuracy: 0.5708 - val_loss: 1.1316 - val_accuracy: 0.5611\n",
      "INFO:tensorflow:Assets written to: /aiffel/aiffel/wandb/run-20241116_210453-8q3vedp1/files/model-best/assets\n"
     ]
    },
    {
     "name": "stderr",
     "output_type": "stream",
     "text": [
      "\u001b[34m\u001b[1mwandb\u001b[0m: Adding directory to artifact (/aiffel/aiffel/wandb/run-20241116_210453-8q3vedp1/files/model-best)... Done. 0.0s\n"
     ]
    },
    {
     "name": "stdout",
     "output_type": "stream",
     "text": [
      "Epoch 7/10\n",
      "23/23 [==============================] - 9s 401ms/step - loss: 1.0061 - accuracy: 0.6222 - val_loss: 1.1398 - val_accuracy: 0.5500\n",
      "Epoch 8/10\n",
      "23/23 [==============================] - 9s 409ms/step - loss: 0.9470 - accuracy: 0.6194 - val_loss: 0.9688 - val_accuracy: 0.6611\n",
      "INFO:tensorflow:Assets written to: /aiffel/aiffel/wandb/run-20241116_210453-8q3vedp1/files/model-best/assets\n"
     ]
    },
    {
     "name": "stderr",
     "output_type": "stream",
     "text": [
      "\u001b[34m\u001b[1mwandb\u001b[0m: Adding directory to artifact (/aiffel/aiffel/wandb/run-20241116_210453-8q3vedp1/files/model-best)... Done. 0.0s\n"
     ]
    },
    {
     "name": "stdout",
     "output_type": "stream",
     "text": [
      "Epoch 9/10\n",
      "23/23 [==============================] - 9s 399ms/step - loss: 0.9093 - accuracy: 0.6514 - val_loss: 1.0352 - val_accuracy: 0.6444\n",
      "Epoch 10/10\n",
      "23/23 [==============================] - 9s 407ms/step - loss: 0.8232 - accuracy: 0.6958 - val_loss: 0.9544 - val_accuracy: 0.6667\n",
      "INFO:tensorflow:Assets written to: /aiffel/aiffel/wandb/run-20241116_210453-8q3vedp1/files/model-best/assets\n"
     ]
    },
    {
     "name": "stderr",
     "output_type": "stream",
     "text": [
      "\u001b[34m\u001b[1mwandb\u001b[0m: Adding directory to artifact (/aiffel/aiffel/wandb/run-20241116_210453-8q3vedp1/files/model-best)... Done. 0.0s\n"
     ]
    },
    {
     "name": "stdout",
     "output_type": "stream",
     "text": [
      "6/6 [==============================] - 2s 278ms/step - loss: 0.9724 - accuracy: 0.6667\n",
      "Validation Accuracy for fold 5: 66.67%\n"
     ]
    },
    {
     "data": {
      "application/vnd.jupyter.widget-view+json": {
       "model_id": "",
       "version_major": 2,
       "version_minor": 0
      },
      "text/plain": [
       "VBox(children=(Label(value='10.456 MB of 10.456 MB uploaded (0.159 MB deduped)\\r'), FloatProgress(value=1.0, m…"
      ]
     },
     "metadata": {},
     "output_type": "display_data"
    },
    {
     "data": {
      "text/html": [
       "W&B sync reduced upload amount by 1.5%             "
      ],
      "text/plain": [
       "<IPython.core.display.HTML object>"
      ]
     },
     "metadata": {},
     "output_type": "display_data"
    },
    {
     "data": {
      "text/html": [
       "<style>\n",
       "    table.wandb td:nth-child(1) { padding: 0 10px; text-align: left ; width: auto;} td:nth-child(2) {text-align: left ; width: 100%}\n",
       "    .wandb-row { display: flex; flex-direction: row; flex-wrap: wrap; justify-content: flex-start; width: 100% }\n",
       "    .wandb-col { display: flex; flex-direction: column; flex-basis: 100%; flex: 1; padding: 10px; }\n",
       "    </style>\n",
       "<div class=\"wandb-row\"><div class=\"wandb-col\"><h3>Run history:</h3><br/><table class=\"wandb\"><tr><td>accuracy</td><td>▁▃▄▅▅▆▇▇▇█</td></tr><tr><td>epoch</td><td>▁▂▃▃▄▅▆▆▇█</td></tr><tr><td>loss</td><td>█▆▅▄▃▃▂▂▂▁</td></tr><tr><td>val_accuracy</td><td>▁▂▄▅▄▆▆███</td></tr><tr><td>val_loss</td><td>█▇▅▄▅▃▃▁▂▁</td></tr></table><br/></div><div class=\"wandb-col\"><h3>Run summary:</h3><br/><table class=\"wandb\"><tr><td>accuracy</td><td>0.69583</td></tr><tr><td>best_epoch</td><td>9</td></tr><tr><td>best_val_loss</td><td>0.95438</td></tr><tr><td>epoch</td><td>9</td></tr><tr><td>loss</td><td>0.82323</td></tr><tr><td>val_accuracy</td><td>0.66667</td></tr><tr><td>val_loss</td><td>0.95438</td></tr></table><br/></div></div>"
      ],
      "text/plain": [
       "<IPython.core.display.HTML object>"
      ]
     },
     "metadata": {},
     "output_type": "display_data"
    },
    {
     "data": {
      "text/html": [
       " View run <strong style=\"color:#cdcd00\">fold-5</strong> at: <a href='https://wandb.ai/wisdom-jihyekim-aiffel/WandB_with_kfold_used_by_Jindeok/runs/8q3vedp1' target=\"_blank\">https://wandb.ai/wisdom-jihyekim-aiffel/WandB_with_kfold_used_by_Jindeok/runs/8q3vedp1</a><br/>Synced 5 W&B file(s), 1 media file(s), 28 artifact file(s) and 1 other file(s)"
      ],
      "text/plain": [
       "<IPython.core.display.HTML object>"
      ]
     },
     "metadata": {},
     "output_type": "display_data"
    },
    {
     "data": {
      "text/html": [
       "Find logs at: <code>./wandb/run-20241116_210453-8q3vedp1/logs</code>"
      ],
      "text/plain": [
       "<IPython.core.display.HTML object>"
      ]
     },
     "metadata": {},
     "output_type": "display_data"
    },
    {
     "name": "stderr",
     "output_type": "stream",
     "text": [
      "\u001b[34m\u001b[1mwandb\u001b[0m: Agent Starting Run: f2hwgebp with config:\n",
      "\u001b[34m\u001b[1mwandb\u001b[0m: \tepoch: 8\n",
      "\u001b[34m\u001b[1mwandb\u001b[0m: \tlearning_rate: 0.0185714699196381\n"
     ]
    },
    {
     "data": {
      "text/html": [
       "wandb version 0.18.7 is available!  To upgrade, please run:\n",
       " $ pip install wandb --upgrade"
      ],
      "text/plain": [
       "<IPython.core.display.HTML object>"
      ]
     },
     "metadata": {},
     "output_type": "display_data"
    },
    {
     "data": {
      "text/html": [
       "Tracking run with wandb version 0.16.0"
      ],
      "text/plain": [
       "<IPython.core.display.HTML object>"
      ]
     },
     "metadata": {},
     "output_type": "display_data"
    },
    {
     "data": {
      "text/html": [
       "Run data is saved locally in <code>/aiffel/aiffel/wandb/run-20241116_210656-f2hwgebp</code>"
      ],
      "text/plain": [
       "<IPython.core.display.HTML object>"
      ]
     },
     "metadata": {},
     "output_type": "display_data"
    },
    {
     "data": {
      "text/html": [
       "Syncing run <strong><a href='https://wandb.ai/wisdom-jihyekim-aiffel/WandB_with_kfold_used_by_Jindeok/runs/f2hwgebp' target=\"_blank\">rich-sweep-6</a></strong> to <a href='https://wandb.ai/wisdom-jihyekim-aiffel/WandB_with_kfold_used_by_Jindeok' target=\"_blank\">Weights & Biases</a> (<a href='https://wandb.me/run' target=\"_blank\">docs</a>)<br/>Sweep page: <a href='https://wandb.ai/wisdom-jihyekim-aiffel/WandB_with_kfold_used_by_Jindeok/sweeps/zhdriy11' target=\"_blank\">https://wandb.ai/wisdom-jihyekim-aiffel/WandB_with_kfold_used_by_Jindeok/sweeps/zhdriy11</a>"
      ],
      "text/plain": [
       "<IPython.core.display.HTML object>"
      ]
     },
     "metadata": {},
     "output_type": "display_data"
    },
    {
     "data": {
      "text/html": [
       " View project at <a href='https://wandb.ai/wisdom-jihyekim-aiffel/WandB_with_kfold_used_by_Jindeok' target=\"_blank\">https://wandb.ai/wisdom-jihyekim-aiffel/WandB_with_kfold_used_by_Jindeok</a>"
      ],
      "text/plain": [
       "<IPython.core.display.HTML object>"
      ]
     },
     "metadata": {},
     "output_type": "display_data"
    },
    {
     "data": {
      "text/html": [
       " View sweep at <a href='https://wandb.ai/wisdom-jihyekim-aiffel/WandB_with_kfold_used_by_Jindeok/sweeps/zhdriy11' target=\"_blank\">https://wandb.ai/wisdom-jihyekim-aiffel/WandB_with_kfold_used_by_Jindeok/sweeps/zhdriy11</a>"
      ],
      "text/plain": [
       "<IPython.core.display.HTML object>"
      ]
     },
     "metadata": {},
     "output_type": "display_data"
    },
    {
     "data": {
      "text/html": [
       " View run at <a href='https://wandb.ai/wisdom-jihyekim-aiffel/WandB_with_kfold_used_by_Jindeok/runs/f2hwgebp' target=\"_blank\">https://wandb.ai/wisdom-jihyekim-aiffel/WandB_with_kfold_used_by_Jindeok/runs/f2hwgebp</a>"
      ],
      "text/plain": [
       "<IPython.core.display.HTML object>"
      ]
     },
     "metadata": {},
     "output_type": "display_data"
    },
    {
     "name": "stderr",
     "output_type": "stream",
     "text": [
      "\u001b[34m\u001b[1mwandb\u001b[0m: \u001b[33mWARNING\u001b[0m Ignored wandb.init() arg project when running a sweep.\n"
     ]
    },
    {
     "name": "stdout",
     "output_type": "stream",
     "text": [
      "Fold: 1 ==================================================================\n",
      "Found 720 validated image filenames belonging to 6 classes.\n",
      "Found 180 validated image filenames belonging to 6 classes.\n"
     ]
    },
    {
     "data": {
      "text/html": [
       "Finishing last run (ID:f2hwgebp) before initializing another..."
      ],
      "text/plain": [
       "<IPython.core.display.HTML object>"
      ]
     },
     "metadata": {},
     "output_type": "display_data"
    },
    {
     "data": {
      "application/vnd.jupyter.widget-view+json": {
       "model_id": "",
       "version_major": 2,
       "version_minor": 0
      },
      "text/plain": [
       "VBox(children=(Label(value='0.001 MB of 0.001 MB uploaded\\r'), FloatProgress(value=1.0, max=1.0)))"
      ]
     },
     "metadata": {},
     "output_type": "display_data"
    },
    {
     "data": {
      "text/html": [
       " View run <strong style=\"color:#cdcd00\">rich-sweep-6</strong> at: <a href='https://wandb.ai/wisdom-jihyekim-aiffel/WandB_with_kfold_used_by_Jindeok/runs/f2hwgebp' target=\"_blank\">https://wandb.ai/wisdom-jihyekim-aiffel/WandB_with_kfold_used_by_Jindeok/runs/f2hwgebp</a><br/>Synced 5 W&B file(s), 0 media file(s), 0 artifact file(s) and 0 other file(s)"
      ],
      "text/plain": [
       "<IPython.core.display.HTML object>"
      ]
     },
     "metadata": {},
     "output_type": "display_data"
    },
    {
     "data": {
      "text/html": [
       "Find logs at: <code>./wandb/run-20241116_210656-f2hwgebp/logs</code>"
      ],
      "text/plain": [
       "<IPython.core.display.HTML object>"
      ]
     },
     "metadata": {},
     "output_type": "display_data"
    },
    {
     "data": {
      "text/html": [
       "Successfully finished last run (ID:f2hwgebp). Initializing new run:<br/>"
      ],
      "text/plain": [
       "<IPython.core.display.HTML object>"
      ]
     },
     "metadata": {},
     "output_type": "display_data"
    },
    {
     "data": {
      "application/vnd.jupyter.widget-view+json": {
       "model_id": "792d5c01fbb24fc2823a94b052d73a69",
       "version_major": 2,
       "version_minor": 0
      },
      "text/plain": [
       "VBox(children=(Label(value='Waiting for wandb.init()...\\r'), FloatProgress(value=0.011112562144505015, max=1.0…"
      ]
     },
     "metadata": {},
     "output_type": "display_data"
    },
    {
     "data": {
      "text/html": [
       "wandb version 0.18.7 is available!  To upgrade, please run:\n",
       " $ pip install wandb --upgrade"
      ],
      "text/plain": [
       "<IPython.core.display.HTML object>"
      ]
     },
     "metadata": {},
     "output_type": "display_data"
    },
    {
     "data": {
      "text/html": [
       "Tracking run with wandb version 0.16.0"
      ],
      "text/plain": [
       "<IPython.core.display.HTML object>"
      ]
     },
     "metadata": {},
     "output_type": "display_data"
    },
    {
     "data": {
      "text/html": [
       "Run data is saved locally in <code>/aiffel/aiffel/wandb/run-20241116_210657-f2hwgebp</code>"
      ],
      "text/plain": [
       "<IPython.core.display.HTML object>"
      ]
     },
     "metadata": {},
     "output_type": "display_data"
    },
    {
     "data": {
      "text/html": [
       "Syncing run <strong><a href='https://wandb.ai/wisdom-jihyekim-aiffel/WandB_with_kfold_used_by_Jindeok/runs/f2hwgebp' target=\"_blank\">fold-1</a></strong> to <a href='https://wandb.ai/wisdom-jihyekim-aiffel/WandB_with_kfold_used_by_Jindeok' target=\"_blank\">Weights & Biases</a> (<a href='https://wandb.me/run' target=\"_blank\">docs</a>)<br/>Sweep page: <a href='https://wandb.ai/wisdom-jihyekim-aiffel/WandB_with_kfold_used_by_Jindeok/sweeps/zhdriy11' target=\"_blank\">https://wandb.ai/wisdom-jihyekim-aiffel/WandB_with_kfold_used_by_Jindeok/sweeps/zhdriy11</a>"
      ],
      "text/plain": [
       "<IPython.core.display.HTML object>"
      ]
     },
     "metadata": {},
     "output_type": "display_data"
    },
    {
     "data": {
      "text/html": [
       " View project at <a href='https://wandb.ai/wisdom-jihyekim-aiffel/WandB_with_kfold_used_by_Jindeok' target=\"_blank\">https://wandb.ai/wisdom-jihyekim-aiffel/WandB_with_kfold_used_by_Jindeok</a>"
      ],
      "text/plain": [
       "<IPython.core.display.HTML object>"
      ]
     },
     "metadata": {},
     "output_type": "display_data"
    },
    {
     "data": {
      "text/html": [
       " View sweep at <a href='https://wandb.ai/wisdom-jihyekim-aiffel/WandB_with_kfold_used_by_Jindeok/sweeps/zhdriy11' target=\"_blank\">https://wandb.ai/wisdom-jihyekim-aiffel/WandB_with_kfold_used_by_Jindeok/sweeps/zhdriy11</a>"
      ],
      "text/plain": [
       "<IPython.core.display.HTML object>"
      ]
     },
     "metadata": {},
     "output_type": "display_data"
    },
    {
     "data": {
      "text/html": [
       " View run at <a href='https://wandb.ai/wisdom-jihyekim-aiffel/WandB_with_kfold_used_by_Jindeok/runs/f2hwgebp' target=\"_blank\">https://wandb.ai/wisdom-jihyekim-aiffel/WandB_with_kfold_used_by_Jindeok/runs/f2hwgebp</a>"
      ],
      "text/plain": [
       "<IPython.core.display.HTML object>"
      ]
     },
     "metadata": {},
     "output_type": "display_data"
    },
    {
     "name": "stdout",
     "output_type": "stream",
     "text": [
      "Epoch 1/8\n",
      "23/23 [==============================] - 11s 436ms/step - loss: 1.8980 - accuracy: 0.2264 - val_loss: 1.6864 - val_accuracy: 0.3000\n",
      "INFO:tensorflow:Assets written to: /aiffel/aiffel/wandb/run-20241116_210657-f2hwgebp/files/model-best/assets\n"
     ]
    },
    {
     "name": "stderr",
     "output_type": "stream",
     "text": [
      "\u001b[34m\u001b[1mwandb\u001b[0m: Adding directory to artifact (/aiffel/aiffel/wandb/run-20241116_210657-f2hwgebp/files/model-best)... Done. 0.0s\n"
     ]
    },
    {
     "name": "stdout",
     "output_type": "stream",
     "text": [
      "Epoch 2/8\n",
      "23/23 [==============================] - 9s 399ms/step - loss: 1.6557 - accuracy: 0.2917 - val_loss: 1.6132 - val_accuracy: 0.3556\n",
      "INFO:tensorflow:Assets written to: /aiffel/aiffel/wandb/run-20241116_210657-f2hwgebp/files/model-best/assets\n"
     ]
    },
    {
     "name": "stderr",
     "output_type": "stream",
     "text": [
      "\u001b[34m\u001b[1mwandb\u001b[0m: Adding directory to artifact (/aiffel/aiffel/wandb/run-20241116_210657-f2hwgebp/files/model-best)... Done. 0.0s\n"
     ]
    },
    {
     "name": "stdout",
     "output_type": "stream",
     "text": [
      "Epoch 3/8\n",
      "23/23 [==============================] - 9s 401ms/step - loss: 1.4807 - accuracy: 0.3792 - val_loss: 1.4877 - val_accuracy: 0.3611\n",
      "INFO:tensorflow:Assets written to: /aiffel/aiffel/wandb/run-20241116_210657-f2hwgebp/files/model-best/assets\n"
     ]
    },
    {
     "name": "stderr",
     "output_type": "stream",
     "text": [
      "\u001b[34m\u001b[1mwandb\u001b[0m: Adding directory to artifact (/aiffel/aiffel/wandb/run-20241116_210657-f2hwgebp/files/model-best)... Done. 0.0s\n"
     ]
    },
    {
     "name": "stdout",
     "output_type": "stream",
     "text": [
      "Epoch 4/8\n",
      "23/23 [==============================] - 9s 402ms/step - loss: 1.4657 - accuracy: 0.3722 - val_loss: 1.4105 - val_accuracy: 0.4222\n",
      "INFO:tensorflow:Assets written to: /aiffel/aiffel/wandb/run-20241116_210657-f2hwgebp/files/model-best/assets\n"
     ]
    },
    {
     "name": "stderr",
     "output_type": "stream",
     "text": [
      "\u001b[34m\u001b[1mwandb\u001b[0m: Adding directory to artifact (/aiffel/aiffel/wandb/run-20241116_210657-f2hwgebp/files/model-best)... Done. 0.0s\n"
     ]
    },
    {
     "name": "stdout",
     "output_type": "stream",
     "text": [
      "Epoch 5/8\n",
      "23/23 [==============================] - 9s 405ms/step - loss: 1.3295 - accuracy: 0.4486 - val_loss: 1.3692 - val_accuracy: 0.4556\n",
      "INFO:tensorflow:Assets written to: /aiffel/aiffel/wandb/run-20241116_210657-f2hwgebp/files/model-best/assets\n"
     ]
    },
    {
     "name": "stderr",
     "output_type": "stream",
     "text": [
      "\u001b[34m\u001b[1mwandb\u001b[0m: Adding directory to artifact (/aiffel/aiffel/wandb/run-20241116_210657-f2hwgebp/files/model-best)... Done. 0.0s\n"
     ]
    },
    {
     "name": "stdout",
     "output_type": "stream",
     "text": [
      "Epoch 6/8\n",
      "23/23 [==============================] - 10s 410ms/step - loss: 1.2277 - accuracy: 0.5153 - val_loss: 1.2103 - val_accuracy: 0.4889\n",
      "INFO:tensorflow:Assets written to: /aiffel/aiffel/wandb/run-20241116_210657-f2hwgebp/files/model-best/assets\n"
     ]
    },
    {
     "name": "stderr",
     "output_type": "stream",
     "text": [
      "\u001b[34m\u001b[1mwandb\u001b[0m: Adding directory to artifact (/aiffel/aiffel/wandb/run-20241116_210657-f2hwgebp/files/model-best)... Done. 0.0s\n"
     ]
    },
    {
     "name": "stdout",
     "output_type": "stream",
     "text": [
      "Epoch 7/8\n",
      "23/23 [==============================] - 10s 405ms/step - loss: 1.1061 - accuracy: 0.5667 - val_loss: 1.2877 - val_accuracy: 0.4611\n",
      "Epoch 8/8\n",
      "23/23 [==============================] - 9s 407ms/step - loss: 1.0645 - accuracy: 0.5944 - val_loss: 1.1869 - val_accuracy: 0.5389\n",
      "INFO:tensorflow:Assets written to: /aiffel/aiffel/wandb/run-20241116_210657-f2hwgebp/files/model-best/assets\n"
     ]
    },
    {
     "name": "stderr",
     "output_type": "stream",
     "text": [
      "\u001b[34m\u001b[1mwandb\u001b[0m: Adding directory to artifact (/aiffel/aiffel/wandb/run-20241116_210657-f2hwgebp/files/model-best)... Done. 0.0s\n"
     ]
    },
    {
     "name": "stdout",
     "output_type": "stream",
     "text": [
      "6/6 [==============================] - 2s 301ms/step - loss: 1.1646 - accuracy: 0.5444\n",
      "Validation Accuracy for fold 1: 54.44%\n"
     ]
    },
    {
     "data": {
      "application/vnd.jupyter.widget-view+json": {
       "model_id": "",
       "version_major": 2,
       "version_minor": 0
      },
      "text/plain": [
       "VBox(children=(Label(value='10.416 MB of 10.416 MB uploaded (0.159 MB deduped)\\r'), FloatProgress(value=1.0, m…"
      ]
     },
     "metadata": {},
     "output_type": "display_data"
    },
    {
     "data": {
      "text/html": [
       "W&B sync reduced upload amount by 1.5%             "
      ],
      "text/plain": [
       "<IPython.core.display.HTML object>"
      ]
     },
     "metadata": {},
     "output_type": "display_data"
    },
    {
     "data": {
      "text/html": [
       "<style>\n",
       "    table.wandb td:nth-child(1) { padding: 0 10px; text-align: left ; width: auto;} td:nth-child(2) {text-align: left ; width: 100%}\n",
       "    .wandb-row { display: flex; flex-direction: row; flex-wrap: wrap; justify-content: flex-start; width: 100% }\n",
       "    .wandb-col { display: flex; flex-direction: column; flex-basis: 100%; flex: 1; padding: 10px; }\n",
       "    </style>\n",
       "<div class=\"wandb-row\"><div class=\"wandb-col\"><h3>Run history:</h3><br/><table class=\"wandb\"><tr><td>accuracy</td><td>▁▂▄▄▅▆▇█</td></tr><tr><td>epoch</td><td>▁▂▃▄▅▆▇█</td></tr><tr><td>loss</td><td>█▆▄▄▃▂▁▁</td></tr><tr><td>val_accuracy</td><td>▁▃▃▅▆▇▆█</td></tr><tr><td>val_loss</td><td>█▇▅▄▄▁▂▁</td></tr></table><br/></div><div class=\"wandb-col\"><h3>Run summary:</h3><br/><table class=\"wandb\"><tr><td>accuracy</td><td>0.59444</td></tr><tr><td>best_epoch</td><td>7</td></tr><tr><td>best_val_loss</td><td>1.18694</td></tr><tr><td>epoch</td><td>7</td></tr><tr><td>loss</td><td>1.06455</td></tr><tr><td>val_accuracy</td><td>0.53889</td></tr><tr><td>val_loss</td><td>1.18694</td></tr></table><br/></div></div>"
      ],
      "text/plain": [
       "<IPython.core.display.HTML object>"
      ]
     },
     "metadata": {},
     "output_type": "display_data"
    },
    {
     "data": {
      "text/html": [
       " View run <strong style=\"color:#cdcd00\">fold-1</strong> at: <a href='https://wandb.ai/wisdom-jihyekim-aiffel/WandB_with_kfold_used_by_Jindeok/runs/f2hwgebp' target=\"_blank\">https://wandb.ai/wisdom-jihyekim-aiffel/WandB_with_kfold_used_by_Jindeok/runs/f2hwgebp</a><br/>Synced 5 W&B file(s), 1 media file(s), 28 artifact file(s) and 1 other file(s)"
      ],
      "text/plain": [
       "<IPython.core.display.HTML object>"
      ]
     },
     "metadata": {},
     "output_type": "display_data"
    },
    {
     "data": {
      "text/html": [
       "Find logs at: <code>./wandb/run-20241116_210657-f2hwgebp/logs</code>"
      ],
      "text/plain": [
       "<IPython.core.display.HTML object>"
      ]
     },
     "metadata": {},
     "output_type": "display_data"
    },
    {
     "name": "stderr",
     "output_type": "stream",
     "text": [
      "\u001b[34m\u001b[1mwandb\u001b[0m: \u001b[33mWARNING\u001b[0m Ignored wandb.init() arg project when running a sweep.\n"
     ]
    },
    {
     "name": "stdout",
     "output_type": "stream",
     "text": [
      "Fold: 2 ==================================================================\n",
      "Found 720 validated image filenames belonging to 6 classes.\n",
      "Found 180 validated image filenames belonging to 6 classes.\n"
     ]
    },
    {
     "data": {
      "text/html": [
       "wandb version 0.18.7 is available!  To upgrade, please run:\n",
       " $ pip install wandb --upgrade"
      ],
      "text/plain": [
       "<IPython.core.display.HTML object>"
      ]
     },
     "metadata": {},
     "output_type": "display_data"
    },
    {
     "data": {
      "text/html": [
       "Tracking run with wandb version 0.16.0"
      ],
      "text/plain": [
       "<IPython.core.display.HTML object>"
      ]
     },
     "metadata": {},
     "output_type": "display_data"
    },
    {
     "data": {
      "text/html": [
       "Run data is saved locally in <code>/aiffel/aiffel/wandb/run-20241116_210841-f2hwgebp</code>"
      ],
      "text/plain": [
       "<IPython.core.display.HTML object>"
      ]
     },
     "metadata": {},
     "output_type": "display_data"
    },
    {
     "data": {
      "text/html": [
       "Syncing run <strong><a href='https://wandb.ai/wisdom-jihyekim-aiffel/WandB_with_kfold_used_by_Jindeok/runs/f2hwgebp' target=\"_blank\">fold-2</a></strong> to <a href='https://wandb.ai/wisdom-jihyekim-aiffel/WandB_with_kfold_used_by_Jindeok' target=\"_blank\">Weights & Biases</a> (<a href='https://wandb.me/run' target=\"_blank\">docs</a>)<br/>Sweep page: <a href='https://wandb.ai/wisdom-jihyekim-aiffel/WandB_with_kfold_used_by_Jindeok/sweeps/zhdriy11' target=\"_blank\">https://wandb.ai/wisdom-jihyekim-aiffel/WandB_with_kfold_used_by_Jindeok/sweeps/zhdriy11</a>"
      ],
      "text/plain": [
       "<IPython.core.display.HTML object>"
      ]
     },
     "metadata": {},
     "output_type": "display_data"
    },
    {
     "data": {
      "text/html": [
       " View project at <a href='https://wandb.ai/wisdom-jihyekim-aiffel/WandB_with_kfold_used_by_Jindeok' target=\"_blank\">https://wandb.ai/wisdom-jihyekim-aiffel/WandB_with_kfold_used_by_Jindeok</a>"
      ],
      "text/plain": [
       "<IPython.core.display.HTML object>"
      ]
     },
     "metadata": {},
     "output_type": "display_data"
    },
    {
     "data": {
      "text/html": [
       " View sweep at <a href='https://wandb.ai/wisdom-jihyekim-aiffel/WandB_with_kfold_used_by_Jindeok/sweeps/zhdriy11' target=\"_blank\">https://wandb.ai/wisdom-jihyekim-aiffel/WandB_with_kfold_used_by_Jindeok/sweeps/zhdriy11</a>"
      ],
      "text/plain": [
       "<IPython.core.display.HTML object>"
      ]
     },
     "metadata": {},
     "output_type": "display_data"
    },
    {
     "data": {
      "text/html": [
       " View run at <a href='https://wandb.ai/wisdom-jihyekim-aiffel/WandB_with_kfold_used_by_Jindeok/runs/f2hwgebp' target=\"_blank\">https://wandb.ai/wisdom-jihyekim-aiffel/WandB_with_kfold_used_by_Jindeok/runs/f2hwgebp</a>"
      ],
      "text/plain": [
       "<IPython.core.display.HTML object>"
      ]
     },
     "metadata": {},
     "output_type": "display_data"
    },
    {
     "name": "stdout",
     "output_type": "stream",
     "text": [
      "Epoch 1/8\n",
      "23/23 [==============================] - 11s 428ms/step - loss: 1.8439 - accuracy: 0.2306 - val_loss: 1.6263 - val_accuracy: 0.3333\n",
      "INFO:tensorflow:Assets written to: /aiffel/aiffel/wandb/run-20241116_210841-f2hwgebp/files/model-best/assets\n"
     ]
    },
    {
     "name": "stderr",
     "output_type": "stream",
     "text": [
      "\u001b[34m\u001b[1mwandb\u001b[0m: Adding directory to artifact (/aiffel/aiffel/wandb/run-20241116_210841-f2hwgebp/files/model-best)... Done. 0.0s\n"
     ]
    },
    {
     "name": "stdout",
     "output_type": "stream",
     "text": [
      "Epoch 2/8\n",
      "23/23 [==============================] - 9s 402ms/step - loss: 1.6185 - accuracy: 0.3472 - val_loss: 1.5254 - val_accuracy: 0.3778\n",
      "INFO:tensorflow:Assets written to: /aiffel/aiffel/wandb/run-20241116_210841-f2hwgebp/files/model-best/assets\n"
     ]
    },
    {
     "name": "stderr",
     "output_type": "stream",
     "text": [
      "\u001b[34m\u001b[1mwandb\u001b[0m: Adding directory to artifact (/aiffel/aiffel/wandb/run-20241116_210841-f2hwgebp/files/model-best)... Done. 0.0s\n"
     ]
    },
    {
     "name": "stdout",
     "output_type": "stream",
     "text": [
      "Epoch 3/8\n",
      "23/23 [==============================] - 9s 403ms/step - loss: 1.4585 - accuracy: 0.3875 - val_loss: 1.4421 - val_accuracy: 0.4056\n",
      "INFO:tensorflow:Assets written to: /aiffel/aiffel/wandb/run-20241116_210841-f2hwgebp/files/model-best/assets\n"
     ]
    },
    {
     "name": "stderr",
     "output_type": "stream",
     "text": [
      "\u001b[34m\u001b[1mwandb\u001b[0m: Adding directory to artifact (/aiffel/aiffel/wandb/run-20241116_210841-f2hwgebp/files/model-best)... Done. 0.0s\n"
     ]
    },
    {
     "name": "stdout",
     "output_type": "stream",
     "text": [
      "Epoch 4/8\n",
      "23/23 [==============================] - 10s 407ms/step - loss: 1.3306 - accuracy: 0.4528 - val_loss: 1.5037 - val_accuracy: 0.3667\n",
      "Epoch 5/8\n",
      "23/23 [==============================] - 9s 406ms/step - loss: 1.2771 - accuracy: 0.4681 - val_loss: 1.3219 - val_accuracy: 0.4778\n",
      "INFO:tensorflow:Assets written to: /aiffel/aiffel/wandb/run-20241116_210841-f2hwgebp/files/model-best/assets\n"
     ]
    },
    {
     "name": "stderr",
     "output_type": "stream",
     "text": [
      "\u001b[34m\u001b[1mwandb\u001b[0m: Adding directory to artifact (/aiffel/aiffel/wandb/run-20241116_210841-f2hwgebp/files/model-best)... Done. 0.0s\n"
     ]
    },
    {
     "name": "stdout",
     "output_type": "stream",
     "text": [
      "Epoch 6/8\n",
      "23/23 [==============================] - 9s 402ms/step - loss: 1.1815 - accuracy: 0.5375 - val_loss: 1.2352 - val_accuracy: 0.5111\n",
      "INFO:tensorflow:Assets written to: /aiffel/aiffel/wandb/run-20241116_210841-f2hwgebp/files/model-best/assets\n"
     ]
    },
    {
     "name": "stderr",
     "output_type": "stream",
     "text": [
      "\u001b[34m\u001b[1mwandb\u001b[0m: Adding directory to artifact (/aiffel/aiffel/wandb/run-20241116_210841-f2hwgebp/files/model-best)... Done. 0.0s\n"
     ]
    },
    {
     "name": "stdout",
     "output_type": "stream",
     "text": [
      "Epoch 7/8\n",
      "23/23 [==============================] - 10s 410ms/step - loss: 1.0710 - accuracy: 0.5903 - val_loss: 1.2419 - val_accuracy: 0.5556\n",
      "Epoch 8/8\n",
      "23/23 [==============================] - 9s 406ms/step - loss: 1.0060 - accuracy: 0.6236 - val_loss: 1.2354 - val_accuracy: 0.5444\n",
      "6/6 [==============================] - 2s 295ms/step - loss: 1.2536 - accuracy: 0.5222\n",
      "Validation Accuracy for fold 2: 52.22%\n"
     ]
    },
    {
     "data": {
      "application/vnd.jupyter.widget-view+json": {
       "model_id": "",
       "version_major": 2,
       "version_minor": 0
      },
      "text/plain": [
       "VBox(children=(Label(value='7.759 MB of 7.759 MB uploaded (0.114 MB deduped)\\r'), FloatProgress(value=1.0, max…"
      ]
     },
     "metadata": {},
     "output_type": "display_data"
    },
    {
     "data": {
      "text/html": [
       "W&B sync reduced upload amount by 1.5%             "
      ],
      "text/plain": [
       "<IPython.core.display.HTML object>"
      ]
     },
     "metadata": {},
     "output_type": "display_data"
    },
    {
     "data": {
      "text/html": [
       "<style>\n",
       "    table.wandb td:nth-child(1) { padding: 0 10px; text-align: left ; width: auto;} td:nth-child(2) {text-align: left ; width: 100%}\n",
       "    .wandb-row { display: flex; flex-direction: row; flex-wrap: wrap; justify-content: flex-start; width: 100% }\n",
       "    .wandb-col { display: flex; flex-direction: column; flex-basis: 100%; flex: 1; padding: 10px; }\n",
       "    </style>\n",
       "<div class=\"wandb-row\"><div class=\"wandb-col\"><h3>Run history:</h3><br/><table class=\"wandb\"><tr><td>accuracy</td><td>▁▃▄▅▅▆▇█</td></tr><tr><td>epoch</td><td>▁▂▃▄▅▆▇█</td></tr><tr><td>loss</td><td>█▆▅▄▃▂▂▁</td></tr><tr><td>val_accuracy</td><td>▁▂▃▂▆▇██</td></tr><tr><td>val_loss</td><td>█▆▅▆▃▁▁▁</td></tr></table><br/></div><div class=\"wandb-col\"><h3>Run summary:</h3><br/><table class=\"wandb\"><tr><td>accuracy</td><td>0.62361</td></tr><tr><td>best_epoch</td><td>5</td></tr><tr><td>best_val_loss</td><td>1.23521</td></tr><tr><td>epoch</td><td>7</td></tr><tr><td>loss</td><td>1.00603</td></tr><tr><td>val_accuracy</td><td>0.54444</td></tr><tr><td>val_loss</td><td>1.23538</td></tr></table><br/></div></div>"
      ],
      "text/plain": [
       "<IPython.core.display.HTML object>"
      ]
     },
     "metadata": {},
     "output_type": "display_data"
    },
    {
     "data": {
      "text/html": [
       " View run <strong style=\"color:#cdcd00\">fold-2</strong> at: <a href='https://wandb.ai/wisdom-jihyekim-aiffel/WandB_with_kfold_used_by_Jindeok/runs/f2hwgebp' target=\"_blank\">https://wandb.ai/wisdom-jihyekim-aiffel/WandB_with_kfold_used_by_Jindeok/runs/f2hwgebp</a><br/>Synced 5 W&B file(s), 1 media file(s), 20 artifact file(s) and 1 other file(s)"
      ],
      "text/plain": [
       "<IPython.core.display.HTML object>"
      ]
     },
     "metadata": {},
     "output_type": "display_data"
    },
    {
     "data": {
      "text/html": [
       "Find logs at: <code>./wandb/run-20241116_210841-f2hwgebp/logs</code>"
      ],
      "text/plain": [
       "<IPython.core.display.HTML object>"
      ]
     },
     "metadata": {},
     "output_type": "display_data"
    },
    {
     "name": "stderr",
     "output_type": "stream",
     "text": [
      "\u001b[34m\u001b[1mwandb\u001b[0m: \u001b[33mWARNING\u001b[0m Ignored wandb.init() arg project when running a sweep.\n"
     ]
    },
    {
     "name": "stdout",
     "output_type": "stream",
     "text": [
      "Fold: 3 ==================================================================\n",
      "Found 720 validated image filenames belonging to 6 classes.\n",
      "Found 180 validated image filenames belonging to 6 classes.\n"
     ]
    },
    {
     "data": {
      "application/vnd.jupyter.widget-view+json": {
       "model_id": "4bb6457caf684935b985ccf3a81f5c06",
       "version_major": 2,
       "version_minor": 0
      },
      "text/plain": [
       "VBox(children=(Label(value='Waiting for wandb.init()...\\r'), FloatProgress(value=0.01111344631111327, max=1.0)…"
      ]
     },
     "metadata": {},
     "output_type": "display_data"
    },
    {
     "data": {
      "text/html": [
       "wandb version 0.18.7 is available!  To upgrade, please run:\n",
       " $ pip install wandb --upgrade"
      ],
      "text/plain": [
       "<IPython.core.display.HTML object>"
      ]
     },
     "metadata": {},
     "output_type": "display_data"
    },
    {
     "data": {
      "text/html": [
       "Tracking run with wandb version 0.16.0"
      ],
      "text/plain": [
       "<IPython.core.display.HTML object>"
      ]
     },
     "metadata": {},
     "output_type": "display_data"
    },
    {
     "data": {
      "text/html": [
       "Run data is saved locally in <code>/aiffel/aiffel/wandb/run-20241116_211016-f2hwgebp</code>"
      ],
      "text/plain": [
       "<IPython.core.display.HTML object>"
      ]
     },
     "metadata": {},
     "output_type": "display_data"
    },
    {
     "data": {
      "text/html": [
       "Syncing run <strong><a href='https://wandb.ai/wisdom-jihyekim-aiffel/WandB_with_kfold_used_by_Jindeok/runs/f2hwgebp' target=\"_blank\">fold-3</a></strong> to <a href='https://wandb.ai/wisdom-jihyekim-aiffel/WandB_with_kfold_used_by_Jindeok' target=\"_blank\">Weights & Biases</a> (<a href='https://wandb.me/run' target=\"_blank\">docs</a>)<br/>Sweep page: <a href='https://wandb.ai/wisdom-jihyekim-aiffel/WandB_with_kfold_used_by_Jindeok/sweeps/zhdriy11' target=\"_blank\">https://wandb.ai/wisdom-jihyekim-aiffel/WandB_with_kfold_used_by_Jindeok/sweeps/zhdriy11</a>"
      ],
      "text/plain": [
       "<IPython.core.display.HTML object>"
      ]
     },
     "metadata": {},
     "output_type": "display_data"
    },
    {
     "data": {
      "text/html": [
       " View project at <a href='https://wandb.ai/wisdom-jihyekim-aiffel/WandB_with_kfold_used_by_Jindeok' target=\"_blank\">https://wandb.ai/wisdom-jihyekim-aiffel/WandB_with_kfold_used_by_Jindeok</a>"
      ],
      "text/plain": [
       "<IPython.core.display.HTML object>"
      ]
     },
     "metadata": {},
     "output_type": "display_data"
    },
    {
     "data": {
      "text/html": [
       " View sweep at <a href='https://wandb.ai/wisdom-jihyekim-aiffel/WandB_with_kfold_used_by_Jindeok/sweeps/zhdriy11' target=\"_blank\">https://wandb.ai/wisdom-jihyekim-aiffel/WandB_with_kfold_used_by_Jindeok/sweeps/zhdriy11</a>"
      ],
      "text/plain": [
       "<IPython.core.display.HTML object>"
      ]
     },
     "metadata": {},
     "output_type": "display_data"
    },
    {
     "data": {
      "text/html": [
       " View run at <a href='https://wandb.ai/wisdom-jihyekim-aiffel/WandB_with_kfold_used_by_Jindeok/runs/f2hwgebp' target=\"_blank\">https://wandb.ai/wisdom-jihyekim-aiffel/WandB_with_kfold_used_by_Jindeok/runs/f2hwgebp</a>"
      ],
      "text/plain": [
       "<IPython.core.display.HTML object>"
      ]
     },
     "metadata": {},
     "output_type": "display_data"
    },
    {
     "name": "stdout",
     "output_type": "stream",
     "text": [
      "Epoch 1/8\n",
      "23/23 [==============================] - 11s 432ms/step - loss: 1.8273 - accuracy: 0.2625 - val_loss: 1.5610 - val_accuracy: 0.3667\n",
      "INFO:tensorflow:Assets written to: /aiffel/aiffel/wandb/run-20241116_211016-f2hwgebp/files/model-best/assets\n"
     ]
    },
    {
     "name": "stderr",
     "output_type": "stream",
     "text": [
      "\u001b[34m\u001b[1mwandb\u001b[0m: Adding directory to artifact (/aiffel/aiffel/wandb/run-20241116_211016-f2hwgebp/files/model-best)... Done. 0.0s\n"
     ]
    },
    {
     "name": "stdout",
     "output_type": "stream",
     "text": [
      "Epoch 2/8\n",
      "23/23 [==============================] - 9s 402ms/step - loss: 1.5271 - accuracy: 0.3500 - val_loss: 1.3485 - val_accuracy: 0.4556\n",
      "INFO:tensorflow:Assets written to: /aiffel/aiffel/wandb/run-20241116_211016-f2hwgebp/files/model-best/assets\n"
     ]
    },
    {
     "name": "stderr",
     "output_type": "stream",
     "text": [
      "\u001b[34m\u001b[1mwandb\u001b[0m: Adding directory to artifact (/aiffel/aiffel/wandb/run-20241116_211016-f2hwgebp/files/model-best)... Done. 0.0s\n"
     ]
    },
    {
     "name": "stdout",
     "output_type": "stream",
     "text": [
      "Epoch 3/8\n",
      "23/23 [==============================] - 10s 408ms/step - loss: 1.3857 - accuracy: 0.4333 - val_loss: 1.2233 - val_accuracy: 0.4778\n",
      "INFO:tensorflow:Assets written to: /aiffel/aiffel/wandb/run-20241116_211016-f2hwgebp/files/model-best/assets\n"
     ]
    },
    {
     "name": "stderr",
     "output_type": "stream",
     "text": [
      "\u001b[34m\u001b[1mwandb\u001b[0m: Adding directory to artifact (/aiffel/aiffel/wandb/run-20241116_211016-f2hwgebp/files/model-best)... Done. 0.0s\n"
     ]
    },
    {
     "name": "stdout",
     "output_type": "stream",
     "text": [
      "Epoch 4/8\n",
      "23/23 [==============================] - 9s 406ms/step - loss: 1.1868 - accuracy: 0.5542 - val_loss: 1.0798 - val_accuracy: 0.5722\n",
      "INFO:tensorflow:Assets written to: /aiffel/aiffel/wandb/run-20241116_211016-f2hwgebp/files/model-best/assets\n"
     ]
    },
    {
     "name": "stderr",
     "output_type": "stream",
     "text": [
      "\u001b[34m\u001b[1mwandb\u001b[0m: Adding directory to artifact (/aiffel/aiffel/wandb/run-20241116_211016-f2hwgebp/files/model-best)... Done. 0.0s\n"
     ]
    },
    {
     "name": "stdout",
     "output_type": "stream",
     "text": [
      "Epoch 5/8\n",
      "23/23 [==============================] - 9s 411ms/step - loss: 1.1986 - accuracy: 0.5264 - val_loss: 1.0645 - val_accuracy: 0.5500\n",
      "INFO:tensorflow:Assets written to: /aiffel/aiffel/wandb/run-20241116_211016-f2hwgebp/files/model-best/assets\n"
     ]
    },
    {
     "name": "stderr",
     "output_type": "stream",
     "text": [
      "\u001b[34m\u001b[1mwandb\u001b[0m: Adding directory to artifact (/aiffel/aiffel/wandb/run-20241116_211016-f2hwgebp/files/model-best)... Done. 0.0s\n"
     ]
    },
    {
     "name": "stdout",
     "output_type": "stream",
     "text": [
      "Epoch 6/8\n",
      "23/23 [==============================] - 9s 405ms/step - loss: 1.0128 - accuracy: 0.6069 - val_loss: 1.0095 - val_accuracy: 0.5722\n",
      "INFO:tensorflow:Assets written to: /aiffel/aiffel/wandb/run-20241116_211016-f2hwgebp/files/model-best/assets\n"
     ]
    },
    {
     "name": "stderr",
     "output_type": "stream",
     "text": [
      "\u001b[34m\u001b[1mwandb\u001b[0m: Adding directory to artifact (/aiffel/aiffel/wandb/run-20241116_211016-f2hwgebp/files/model-best)... Done. 0.0s\n"
     ]
    },
    {
     "name": "stdout",
     "output_type": "stream",
     "text": [
      "Epoch 7/8\n",
      "23/23 [==============================] - 10s 406ms/step - loss: 0.9588 - accuracy: 0.6194 - val_loss: 1.0892 - val_accuracy: 0.5833\n",
      "Epoch 8/8\n",
      "23/23 [==============================] - 9s 403ms/step - loss: 0.8744 - accuracy: 0.6597 - val_loss: 0.9145 - val_accuracy: 0.6500\n",
      "INFO:tensorflow:Assets written to: /aiffel/aiffel/wandb/run-20241116_211016-f2hwgebp/files/model-best/assets\n"
     ]
    },
    {
     "name": "stderr",
     "output_type": "stream",
     "text": [
      "\u001b[34m\u001b[1mwandb\u001b[0m: Adding directory to artifact (/aiffel/aiffel/wandb/run-20241116_211016-f2hwgebp/files/model-best)... Done. 0.0s\n"
     ]
    },
    {
     "name": "stdout",
     "output_type": "stream",
     "text": [
      "6/6 [==============================] - 2s 295ms/step - loss: 0.8715 - accuracy: 0.6667\n",
      "Validation Accuracy for fold 3: 66.67%\n"
     ]
    },
    {
     "data": {
      "application/vnd.jupyter.widget-view+json": {
       "model_id": "",
       "version_major": 2,
       "version_minor": 0
      },
      "text/plain": [
       "VBox(children=(Label(value='10.439 MB of 10.439 MB uploaded (0.159 MB deduped)\\r'), FloatProgress(value=1.0, m…"
      ]
     },
     "metadata": {},
     "output_type": "display_data"
    },
    {
     "data": {
      "text/html": [
       "W&B sync reduced upload amount by 1.5%             "
      ],
      "text/plain": [
       "<IPython.core.display.HTML object>"
      ]
     },
     "metadata": {},
     "output_type": "display_data"
    },
    {
     "data": {
      "text/html": [
       "<style>\n",
       "    table.wandb td:nth-child(1) { padding: 0 10px; text-align: left ; width: auto;} td:nth-child(2) {text-align: left ; width: 100%}\n",
       "    .wandb-row { display: flex; flex-direction: row; flex-wrap: wrap; justify-content: flex-start; width: 100% }\n",
       "    .wandb-col { display: flex; flex-direction: column; flex-basis: 100%; flex: 1; padding: 10px; }\n",
       "    </style>\n",
       "<div class=\"wandb-row\"><div class=\"wandb-col\"><h3>Run history:</h3><br/><table class=\"wandb\"><tr><td>accuracy</td><td>▁▃▄▆▆▇▇█</td></tr><tr><td>epoch</td><td>▁▂▃▄▅▆▇█</td></tr><tr><td>loss</td><td>█▆▅▃▃▂▂▁</td></tr><tr><td>val_accuracy</td><td>▁▃▄▆▆▆▆█</td></tr><tr><td>val_loss</td><td>█▆▄▃▃▂▃▁</td></tr></table><br/></div><div class=\"wandb-col\"><h3>Run summary:</h3><br/><table class=\"wandb\"><tr><td>accuracy</td><td>0.65972</td></tr><tr><td>best_epoch</td><td>7</td></tr><tr><td>best_val_loss</td><td>0.91452</td></tr><tr><td>epoch</td><td>7</td></tr><tr><td>loss</td><td>0.87435</td></tr><tr><td>val_accuracy</td><td>0.65</td></tr><tr><td>val_loss</td><td>0.91452</td></tr></table><br/></div></div>"
      ],
      "text/plain": [
       "<IPython.core.display.HTML object>"
      ]
     },
     "metadata": {},
     "output_type": "display_data"
    },
    {
     "data": {
      "text/html": [
       " View run <strong style=\"color:#cdcd00\">fold-3</strong> at: <a href='https://wandb.ai/wisdom-jihyekim-aiffel/WandB_with_kfold_used_by_Jindeok/runs/f2hwgebp' target=\"_blank\">https://wandb.ai/wisdom-jihyekim-aiffel/WandB_with_kfold_used_by_Jindeok/runs/f2hwgebp</a><br/>Synced 5 W&B file(s), 1 media file(s), 28 artifact file(s) and 1 other file(s)"
      ],
      "text/plain": [
       "<IPython.core.display.HTML object>"
      ]
     },
     "metadata": {},
     "output_type": "display_data"
    },
    {
     "data": {
      "text/html": [
       "Find logs at: <code>./wandb/run-20241116_211016-f2hwgebp/logs</code>"
      ],
      "text/plain": [
       "<IPython.core.display.HTML object>"
      ]
     },
     "metadata": {},
     "output_type": "display_data"
    },
    {
     "name": "stderr",
     "output_type": "stream",
     "text": [
      "\u001b[34m\u001b[1mwandb\u001b[0m: \u001b[33mWARNING\u001b[0m Ignored wandb.init() arg project when running a sweep.\n"
     ]
    },
    {
     "name": "stdout",
     "output_type": "stream",
     "text": [
      "Fold: 4 ==================================================================\n",
      "Found 720 validated image filenames belonging to 6 classes.\n",
      "Found 180 validated image filenames belonging to 6 classes.\n"
     ]
    },
    {
     "data": {
      "application/vnd.jupyter.widget-view+json": {
       "model_id": "19268bb5a31e491b84895c421741a347",
       "version_major": 2,
       "version_minor": 0
      },
      "text/plain": [
       "VBox(children=(Label(value='Waiting for wandb.init()...\\r'), FloatProgress(value=0.011113510400011566, max=1.0…"
      ]
     },
     "metadata": {},
     "output_type": "display_data"
    },
    {
     "data": {
      "text/html": [
       "wandb version 0.18.7 is available!  To upgrade, please run:\n",
       " $ pip install wandb --upgrade"
      ],
      "text/plain": [
       "<IPython.core.display.HTML object>"
      ]
     },
     "metadata": {},
     "output_type": "display_data"
    },
    {
     "data": {
      "text/html": [
       "Tracking run with wandb version 0.16.0"
      ],
      "text/plain": [
       "<IPython.core.display.HTML object>"
      ]
     },
     "metadata": {},
     "output_type": "display_data"
    },
    {
     "data": {
      "text/html": [
       "Run data is saved locally in <code>/aiffel/aiffel/wandb/run-20241116_211155-f2hwgebp</code>"
      ],
      "text/plain": [
       "<IPython.core.display.HTML object>"
      ]
     },
     "metadata": {},
     "output_type": "display_data"
    },
    {
     "data": {
      "text/html": [
       "Syncing run <strong><a href='https://wandb.ai/wisdom-jihyekim-aiffel/WandB_with_kfold_used_by_Jindeok/runs/f2hwgebp' target=\"_blank\">fold-4</a></strong> to <a href='https://wandb.ai/wisdom-jihyekim-aiffel/WandB_with_kfold_used_by_Jindeok' target=\"_blank\">Weights & Biases</a> (<a href='https://wandb.me/run' target=\"_blank\">docs</a>)<br/>Sweep page: <a href='https://wandb.ai/wisdom-jihyekim-aiffel/WandB_with_kfold_used_by_Jindeok/sweeps/zhdriy11' target=\"_blank\">https://wandb.ai/wisdom-jihyekim-aiffel/WandB_with_kfold_used_by_Jindeok/sweeps/zhdriy11</a>"
      ],
      "text/plain": [
       "<IPython.core.display.HTML object>"
      ]
     },
     "metadata": {},
     "output_type": "display_data"
    },
    {
     "data": {
      "text/html": [
       " View project at <a href='https://wandb.ai/wisdom-jihyekim-aiffel/WandB_with_kfold_used_by_Jindeok' target=\"_blank\">https://wandb.ai/wisdom-jihyekim-aiffel/WandB_with_kfold_used_by_Jindeok</a>"
      ],
      "text/plain": [
       "<IPython.core.display.HTML object>"
      ]
     },
     "metadata": {},
     "output_type": "display_data"
    },
    {
     "data": {
      "text/html": [
       " View sweep at <a href='https://wandb.ai/wisdom-jihyekim-aiffel/WandB_with_kfold_used_by_Jindeok/sweeps/zhdriy11' target=\"_blank\">https://wandb.ai/wisdom-jihyekim-aiffel/WandB_with_kfold_used_by_Jindeok/sweeps/zhdriy11</a>"
      ],
      "text/plain": [
       "<IPython.core.display.HTML object>"
      ]
     },
     "metadata": {},
     "output_type": "display_data"
    },
    {
     "data": {
      "text/html": [
       " View run at <a href='https://wandb.ai/wisdom-jihyekim-aiffel/WandB_with_kfold_used_by_Jindeok/runs/f2hwgebp' target=\"_blank\">https://wandb.ai/wisdom-jihyekim-aiffel/WandB_with_kfold_used_by_Jindeok/runs/f2hwgebp</a>"
      ],
      "text/plain": [
       "<IPython.core.display.HTML object>"
      ]
     },
     "metadata": {},
     "output_type": "display_data"
    },
    {
     "name": "stdout",
     "output_type": "stream",
     "text": [
      "Epoch 1/8\n",
      "23/23 [==============================] - 11s 424ms/step - loss: 1.9042 - accuracy: 0.2403 - val_loss: 1.7008 - val_accuracy: 0.2500\n",
      "INFO:tensorflow:Assets written to: /aiffel/aiffel/wandb/run-20241116_211155-f2hwgebp/files/model-best/assets\n"
     ]
    },
    {
     "name": "stderr",
     "output_type": "stream",
     "text": [
      "\u001b[34m\u001b[1mwandb\u001b[0m: Adding directory to artifact (/aiffel/aiffel/wandb/run-20241116_211155-f2hwgebp/files/model-best)... Done. 0.0s\n"
     ]
    },
    {
     "name": "stdout",
     "output_type": "stream",
     "text": [
      "Epoch 2/8\n",
      "23/23 [==============================] - 9s 405ms/step - loss: 1.5429 - accuracy: 0.3486 - val_loss: 1.4213 - val_accuracy: 0.4056\n",
      "INFO:tensorflow:Assets written to: /aiffel/aiffel/wandb/run-20241116_211155-f2hwgebp/files/model-best/assets\n"
     ]
    },
    {
     "name": "stderr",
     "output_type": "stream",
     "text": [
      "\u001b[34m\u001b[1mwandb\u001b[0m: Adding directory to artifact (/aiffel/aiffel/wandb/run-20241116_211155-f2hwgebp/files/model-best)... Done. 0.0s\n"
     ]
    },
    {
     "name": "stdout",
     "output_type": "stream",
     "text": [
      "Epoch 3/8\n",
      "23/23 [==============================] - 10s 409ms/step - loss: 1.4064 - accuracy: 0.4194 - val_loss: 1.3764 - val_accuracy: 0.4222\n",
      "INFO:tensorflow:Assets written to: /aiffel/aiffel/wandb/run-20241116_211155-f2hwgebp/files/model-best/assets\n"
     ]
    },
    {
     "name": "stderr",
     "output_type": "stream",
     "text": [
      "\u001b[34m\u001b[1mwandb\u001b[0m: Adding directory to artifact (/aiffel/aiffel/wandb/run-20241116_211155-f2hwgebp/files/model-best)... Done. 0.0s\n"
     ]
    },
    {
     "name": "stdout",
     "output_type": "stream",
     "text": [
      "Epoch 4/8\n",
      "23/23 [==============================] - 9s 404ms/step - loss: 1.2788 - accuracy: 0.5056 - val_loss: 1.2310 - val_accuracy: 0.4889\n",
      "INFO:tensorflow:Assets written to: /aiffel/aiffel/wandb/run-20241116_211155-f2hwgebp/files/model-best/assets\n"
     ]
    },
    {
     "name": "stderr",
     "output_type": "stream",
     "text": [
      "\u001b[34m\u001b[1mwandb\u001b[0m: Adding directory to artifact (/aiffel/aiffel/wandb/run-20241116_211155-f2hwgebp/files/model-best)... Done. 0.0s\n"
     ]
    },
    {
     "name": "stdout",
     "output_type": "stream",
     "text": [
      "Epoch 5/8\n",
      "23/23 [==============================] - 9s 402ms/step - loss: 1.1543 - accuracy: 0.5597 - val_loss: 1.1686 - val_accuracy: 0.5333\n",
      "INFO:tensorflow:Assets written to: /aiffel/aiffel/wandb/run-20241116_211155-f2hwgebp/files/model-best/assets\n"
     ]
    },
    {
     "name": "stderr",
     "output_type": "stream",
     "text": [
      "\u001b[34m\u001b[1mwandb\u001b[0m: Adding directory to artifact (/aiffel/aiffel/wandb/run-20241116_211155-f2hwgebp/files/model-best)... Done. 0.0s\n"
     ]
    },
    {
     "name": "stdout",
     "output_type": "stream",
     "text": [
      "Epoch 6/8\n",
      "23/23 [==============================] - 9s 403ms/step - loss: 1.0721 - accuracy: 0.5764 - val_loss: 1.1215 - val_accuracy: 0.5167\n",
      "INFO:tensorflow:Assets written to: /aiffel/aiffel/wandb/run-20241116_211155-f2hwgebp/files/model-best/assets\n"
     ]
    },
    {
     "name": "stderr",
     "output_type": "stream",
     "text": [
      "\u001b[34m\u001b[1mwandb\u001b[0m: Adding directory to artifact (/aiffel/aiffel/wandb/run-20241116_211155-f2hwgebp/files/model-best)... Done. 0.0s\n"
     ]
    },
    {
     "name": "stdout",
     "output_type": "stream",
     "text": [
      "Epoch 7/8\n",
      "23/23 [==============================] - 9s 405ms/step - loss: 0.9757 - accuracy: 0.6250 - val_loss: 1.0632 - val_accuracy: 0.5556\n",
      "INFO:tensorflow:Assets written to: /aiffel/aiffel/wandb/run-20241116_211155-f2hwgebp/files/model-best/assets\n"
     ]
    },
    {
     "name": "stderr",
     "output_type": "stream",
     "text": [
      "\u001b[34m\u001b[1mwandb\u001b[0m: Adding directory to artifact (/aiffel/aiffel/wandb/run-20241116_211155-f2hwgebp/files/model-best)... Done. 0.0s\n"
     ]
    },
    {
     "name": "stdout",
     "output_type": "stream",
     "text": [
      "Epoch 8/8\n",
      "23/23 [==============================] - 9s 404ms/step - loss: 0.9205 - accuracy: 0.6528 - val_loss: 0.9391 - val_accuracy: 0.6111\n",
      "INFO:tensorflow:Assets written to: /aiffel/aiffel/wandb/run-20241116_211155-f2hwgebp/files/model-best/assets\n"
     ]
    },
    {
     "name": "stderr",
     "output_type": "stream",
     "text": [
      "\u001b[34m\u001b[1mwandb\u001b[0m: Adding directory to artifact (/aiffel/aiffel/wandb/run-20241116_211155-f2hwgebp/files/model-best)... Done. 0.0s\n"
     ]
    },
    {
     "name": "stdout",
     "output_type": "stream",
     "text": [
      "6/6 [==============================] - 2s 314ms/step - loss: 0.9748 - accuracy: 0.6389\n",
      "Validation Accuracy for fold 4: 63.89%\n"
     ]
    },
    {
     "data": {
      "application/vnd.jupyter.widget-view+json": {
       "model_id": "",
       "version_major": 2,
       "version_minor": 0
      },
      "text/plain": [
       "VBox(children=(Label(value='11.792 MB of 11.792 MB uploaded (0.182 MB deduped)\\r'), FloatProgress(value=1.0, m…"
      ]
     },
     "metadata": {},
     "output_type": "display_data"
    },
    {
     "data": {
      "text/html": [
       "W&B sync reduced upload amount by 1.5%             "
      ],
      "text/plain": [
       "<IPython.core.display.HTML object>"
      ]
     },
     "metadata": {},
     "output_type": "display_data"
    },
    {
     "data": {
      "text/html": [
       "<style>\n",
       "    table.wandb td:nth-child(1) { padding: 0 10px; text-align: left ; width: auto;} td:nth-child(2) {text-align: left ; width: 100%}\n",
       "    .wandb-row { display: flex; flex-direction: row; flex-wrap: wrap; justify-content: flex-start; width: 100% }\n",
       "    .wandb-col { display: flex; flex-direction: column; flex-basis: 100%; flex: 1; padding: 10px; }\n",
       "    </style>\n",
       "<div class=\"wandb-row\"><div class=\"wandb-col\"><h3>Run history:</h3><br/><table class=\"wandb\"><tr><td>accuracy</td><td>▁▃▄▆▆▇██</td></tr><tr><td>epoch</td><td>▁▂▃▄▅▆▇█</td></tr><tr><td>loss</td><td>█▅▄▄▃▂▁▁</td></tr><tr><td>val_accuracy</td><td>▁▄▄▆▆▆▇█</td></tr><tr><td>val_loss</td><td>█▅▅▄▃▃▂▁</td></tr></table><br/></div><div class=\"wandb-col\"><h3>Run summary:</h3><br/><table class=\"wandb\"><tr><td>accuracy</td><td>0.65278</td></tr><tr><td>best_epoch</td><td>7</td></tr><tr><td>best_val_loss</td><td>0.9391</td></tr><tr><td>epoch</td><td>7</td></tr><tr><td>loss</td><td>0.92054</td></tr><tr><td>val_accuracy</td><td>0.61111</td></tr><tr><td>val_loss</td><td>0.9391</td></tr></table><br/></div></div>"
      ],
      "text/plain": [
       "<IPython.core.display.HTML object>"
      ]
     },
     "metadata": {},
     "output_type": "display_data"
    },
    {
     "data": {
      "text/html": [
       " View run <strong style=\"color:#cdcd00\">fold-4</strong> at: <a href='https://wandb.ai/wisdom-jihyekim-aiffel/WandB_with_kfold_used_by_Jindeok/runs/f2hwgebp' target=\"_blank\">https://wandb.ai/wisdom-jihyekim-aiffel/WandB_with_kfold_used_by_Jindeok/runs/f2hwgebp</a><br/>Synced 5 W&B file(s), 1 media file(s), 32 artifact file(s) and 1 other file(s)"
      ],
      "text/plain": [
       "<IPython.core.display.HTML object>"
      ]
     },
     "metadata": {},
     "output_type": "display_data"
    },
    {
     "data": {
      "text/html": [
       "Find logs at: <code>./wandb/run-20241116_211155-f2hwgebp/logs</code>"
      ],
      "text/plain": [
       "<IPython.core.display.HTML object>"
      ]
     },
     "metadata": {},
     "output_type": "display_data"
    },
    {
     "name": "stderr",
     "output_type": "stream",
     "text": [
      "\u001b[34m\u001b[1mwandb\u001b[0m: \u001b[33mWARNING\u001b[0m Ignored wandb.init() arg project when running a sweep.\n"
     ]
    },
    {
     "name": "stdout",
     "output_type": "stream",
     "text": [
      "Fold: 5 ==================================================================\n",
      "Found 720 validated image filenames belonging to 6 classes.\n",
      "Found 180 validated image filenames belonging to 6 classes.\n"
     ]
    },
    {
     "data": {
      "text/html": [
       "wandb version 0.18.7 is available!  To upgrade, please run:\n",
       " $ pip install wandb --upgrade"
      ],
      "text/plain": [
       "<IPython.core.display.HTML object>"
      ]
     },
     "metadata": {},
     "output_type": "display_data"
    },
    {
     "data": {
      "text/html": [
       "Tracking run with wandb version 0.16.0"
      ],
      "text/plain": [
       "<IPython.core.display.HTML object>"
      ]
     },
     "metadata": {},
     "output_type": "display_data"
    },
    {
     "data": {
      "text/html": [
       "Run data is saved locally in <code>/aiffel/aiffel/wandb/run-20241116_211337-f2hwgebp</code>"
      ],
      "text/plain": [
       "<IPython.core.display.HTML object>"
      ]
     },
     "metadata": {},
     "output_type": "display_data"
    },
    {
     "data": {
      "text/html": [
       "Syncing run <strong><a href='https://wandb.ai/wisdom-jihyekim-aiffel/WandB_with_kfold_used_by_Jindeok/runs/f2hwgebp' target=\"_blank\">fold-5</a></strong> to <a href='https://wandb.ai/wisdom-jihyekim-aiffel/WandB_with_kfold_used_by_Jindeok' target=\"_blank\">Weights & Biases</a> (<a href='https://wandb.me/run' target=\"_blank\">docs</a>)<br/>Sweep page: <a href='https://wandb.ai/wisdom-jihyekim-aiffel/WandB_with_kfold_used_by_Jindeok/sweeps/zhdriy11' target=\"_blank\">https://wandb.ai/wisdom-jihyekim-aiffel/WandB_with_kfold_used_by_Jindeok/sweeps/zhdriy11</a>"
      ],
      "text/plain": [
       "<IPython.core.display.HTML object>"
      ]
     },
     "metadata": {},
     "output_type": "display_data"
    },
    {
     "data": {
      "text/html": [
       " View project at <a href='https://wandb.ai/wisdom-jihyekim-aiffel/WandB_with_kfold_used_by_Jindeok' target=\"_blank\">https://wandb.ai/wisdom-jihyekim-aiffel/WandB_with_kfold_used_by_Jindeok</a>"
      ],
      "text/plain": [
       "<IPython.core.display.HTML object>"
      ]
     },
     "metadata": {},
     "output_type": "display_data"
    },
    {
     "data": {
      "text/html": [
       " View sweep at <a href='https://wandb.ai/wisdom-jihyekim-aiffel/WandB_with_kfold_used_by_Jindeok/sweeps/zhdriy11' target=\"_blank\">https://wandb.ai/wisdom-jihyekim-aiffel/WandB_with_kfold_used_by_Jindeok/sweeps/zhdriy11</a>"
      ],
      "text/plain": [
       "<IPython.core.display.HTML object>"
      ]
     },
     "metadata": {},
     "output_type": "display_data"
    },
    {
     "data": {
      "text/html": [
       " View run at <a href='https://wandb.ai/wisdom-jihyekim-aiffel/WandB_with_kfold_used_by_Jindeok/runs/f2hwgebp' target=\"_blank\">https://wandb.ai/wisdom-jihyekim-aiffel/WandB_with_kfold_used_by_Jindeok/runs/f2hwgebp</a>"
      ],
      "text/plain": [
       "<IPython.core.display.HTML object>"
      ]
     },
     "metadata": {},
     "output_type": "display_data"
    },
    {
     "name": "stdout",
     "output_type": "stream",
     "text": [
      "Epoch 1/8\n",
      "23/23 [==============================] - 11s 422ms/step - loss: 1.8256 - accuracy: 0.2819 - val_loss: 1.7642 - val_accuracy: 0.2944\n",
      "INFO:tensorflow:Assets written to: /aiffel/aiffel/wandb/run-20241116_211337-f2hwgebp/files/model-best/assets\n"
     ]
    },
    {
     "name": "stderr",
     "output_type": "stream",
     "text": [
      "\u001b[34m\u001b[1mwandb\u001b[0m: Adding directory to artifact (/aiffel/aiffel/wandb/run-20241116_211337-f2hwgebp/files/model-best)... Done. 0.0s\n"
     ]
    },
    {
     "name": "stdout",
     "output_type": "stream",
     "text": [
      "Epoch 2/8\n",
      "23/23 [==============================] - 10s 411ms/step - loss: 1.5887 - accuracy: 0.3236 - val_loss: 1.4635 - val_accuracy: 0.3667\n",
      "INFO:tensorflow:Assets written to: /aiffel/aiffel/wandb/run-20241116_211337-f2hwgebp/files/model-best/assets\n"
     ]
    },
    {
     "name": "stderr",
     "output_type": "stream",
     "text": [
      "\u001b[34m\u001b[1mwandb\u001b[0m: Adding directory to artifact (/aiffel/aiffel/wandb/run-20241116_211337-f2hwgebp/files/model-best)... Done. 0.0s\n"
     ]
    },
    {
     "name": "stdout",
     "output_type": "stream",
     "text": [
      "Epoch 3/8\n",
      "23/23 [==============================] - 10s 410ms/step - loss: 1.3727 - accuracy: 0.4472 - val_loss: 1.3264 - val_accuracy: 0.4778\n",
      "INFO:tensorflow:Assets written to: /aiffel/aiffel/wandb/run-20241116_211337-f2hwgebp/files/model-best/assets\n"
     ]
    },
    {
     "name": "stderr",
     "output_type": "stream",
     "text": [
      "\u001b[34m\u001b[1mwandb\u001b[0m: Adding directory to artifact (/aiffel/aiffel/wandb/run-20241116_211337-f2hwgebp/files/model-best)... Done. 0.0s\n"
     ]
    },
    {
     "name": "stdout",
     "output_type": "stream",
     "text": [
      "Epoch 4/8\n",
      "23/23 [==============================] - 9s 405ms/step - loss: 1.2487 - accuracy: 0.4986 - val_loss: 1.2120 - val_accuracy: 0.5444\n",
      "INFO:tensorflow:Assets written to: /aiffel/aiffel/wandb/run-20241116_211337-f2hwgebp/files/model-best/assets\n"
     ]
    },
    {
     "name": "stderr",
     "output_type": "stream",
     "text": [
      "\u001b[34m\u001b[1mwandb\u001b[0m: Adding directory to artifact (/aiffel/aiffel/wandb/run-20241116_211337-f2hwgebp/files/model-best)... Done. 0.0s\n"
     ]
    },
    {
     "name": "stdout",
     "output_type": "stream",
     "text": [
      "Epoch 5/8\n",
      "23/23 [==============================] - 9s 406ms/step - loss: 1.1701 - accuracy: 0.5083 - val_loss: 1.2953 - val_accuracy: 0.4500\n",
      "Epoch 6/8\n",
      "23/23 [==============================] - 9s 407ms/step - loss: 1.0897 - accuracy: 0.5556 - val_loss: 1.1153 - val_accuracy: 0.5556\n",
      "INFO:tensorflow:Assets written to: /aiffel/aiffel/wandb/run-20241116_211337-f2hwgebp/files/model-best/assets\n"
     ]
    },
    {
     "name": "stderr",
     "output_type": "stream",
     "text": [
      "\u001b[34m\u001b[1mwandb\u001b[0m: Adding directory to artifact (/aiffel/aiffel/wandb/run-20241116_211337-f2hwgebp/files/model-best)... Done. 0.0s\n"
     ]
    },
    {
     "name": "stdout",
     "output_type": "stream",
     "text": [
      "Epoch 7/8\n",
      "23/23 [==============================] - 10s 418ms/step - loss: 1.0173 - accuracy: 0.6000 - val_loss: 1.0366 - val_accuracy: 0.6000\n",
      "INFO:tensorflow:Assets written to: /aiffel/aiffel/wandb/run-20241116_211337-f2hwgebp/files/model-best/assets\n"
     ]
    },
    {
     "name": "stderr",
     "output_type": "stream",
     "text": [
      "\u001b[34m\u001b[1mwandb\u001b[0m: Adding directory to artifact (/aiffel/aiffel/wandb/run-20241116_211337-f2hwgebp/files/model-best)... Done. 0.0s\n"
     ]
    },
    {
     "name": "stdout",
     "output_type": "stream",
     "text": [
      "Epoch 8/8\n",
      "23/23 [==============================] - 10s 407ms/step - loss: 0.9809 - accuracy: 0.6236 - val_loss: 1.0812 - val_accuracy: 0.6056\n",
      "6/6 [==============================] - 2s 287ms/step - loss: 1.0807 - accuracy: 0.6111\n",
      "Validation Accuracy for fold 5: 61.11%\n"
     ]
    },
    {
     "data": {
      "application/vnd.jupyter.widget-view+json": {
       "model_id": "",
       "version_major": 2,
       "version_minor": 0
      },
      "text/plain": [
       "VBox(children=(Label(value='9.113 MB of 9.113 MB uploaded (0.137 MB deduped)\\r'), FloatProgress(value=1.0, max…"
      ]
     },
     "metadata": {},
     "output_type": "display_data"
    },
    {
     "data": {
      "text/html": [
       "W&B sync reduced upload amount by 1.5%             "
      ],
      "text/plain": [
       "<IPython.core.display.HTML object>"
      ]
     },
     "metadata": {},
     "output_type": "display_data"
    },
    {
     "data": {
      "text/html": [
       "<style>\n",
       "    table.wandb td:nth-child(1) { padding: 0 10px; text-align: left ; width: auto;} td:nth-child(2) {text-align: left ; width: 100%}\n",
       "    .wandb-row { display: flex; flex-direction: row; flex-wrap: wrap; justify-content: flex-start; width: 100% }\n",
       "    .wandb-col { display: flex; flex-direction: column; flex-basis: 100%; flex: 1; padding: 10px; }\n",
       "    </style>\n",
       "<div class=\"wandb-row\"><div class=\"wandb-col\"><h3>Run history:</h3><br/><table class=\"wandb\"><tr><td>accuracy</td><td>▁▂▄▅▆▇██</td></tr><tr><td>epoch</td><td>▁▂▃▄▅▆▇█</td></tr><tr><td>loss</td><td>█▆▄▃▃▂▁▁</td></tr><tr><td>val_accuracy</td><td>▁▃▅▇▅▇██</td></tr><tr><td>val_loss</td><td>█▅▄▃▃▂▁▁</td></tr></table><br/></div><div class=\"wandb-col\"><h3>Run summary:</h3><br/><table class=\"wandb\"><tr><td>accuracy</td><td>0.62361</td></tr><tr><td>best_epoch</td><td>6</td></tr><tr><td>best_val_loss</td><td>1.03658</td></tr><tr><td>epoch</td><td>7</td></tr><tr><td>loss</td><td>0.98087</td></tr><tr><td>val_accuracy</td><td>0.60556</td></tr><tr><td>val_loss</td><td>1.08123</td></tr></table><br/></div></div>"
      ],
      "text/plain": [
       "<IPython.core.display.HTML object>"
      ]
     },
     "metadata": {},
     "output_type": "display_data"
    },
    {
     "data": {
      "text/html": [
       " View run <strong style=\"color:#cdcd00\">fold-5</strong> at: <a href='https://wandb.ai/wisdom-jihyekim-aiffel/WandB_with_kfold_used_by_Jindeok/runs/f2hwgebp' target=\"_blank\">https://wandb.ai/wisdom-jihyekim-aiffel/WandB_with_kfold_used_by_Jindeok/runs/f2hwgebp</a><br/>Synced 5 W&B file(s), 1 media file(s), 24 artifact file(s) and 1 other file(s)"
      ],
      "text/plain": [
       "<IPython.core.display.HTML object>"
      ]
     },
     "metadata": {},
     "output_type": "display_data"
    },
    {
     "data": {
      "text/html": [
       "Find logs at: <code>./wandb/run-20241116_211337-f2hwgebp/logs</code>"
      ],
      "text/plain": [
       "<IPython.core.display.HTML object>"
      ]
     },
     "metadata": {},
     "output_type": "display_data"
    },
    {
     "name": "stderr",
     "output_type": "stream",
     "text": [
      "\u001b[34m\u001b[1mwandb\u001b[0m: Agent Starting Run: f5crtjxo with config:\n",
      "\u001b[34m\u001b[1mwandb\u001b[0m: \tepoch: 5\n",
      "\u001b[34m\u001b[1mwandb\u001b[0m: \tlearning_rate: 0.00232009788451909\n"
     ]
    },
    {
     "data": {
      "text/html": [
       "wandb version 0.18.7 is available!  To upgrade, please run:\n",
       " $ pip install wandb --upgrade"
      ],
      "text/plain": [
       "<IPython.core.display.HTML object>"
      ]
     },
     "metadata": {},
     "output_type": "display_data"
    },
    {
     "data": {
      "text/html": [
       "Tracking run with wandb version 0.16.0"
      ],
      "text/plain": [
       "<IPython.core.display.HTML object>"
      ]
     },
     "metadata": {},
     "output_type": "display_data"
    },
    {
     "data": {
      "text/html": [
       "Run data is saved locally in <code>/aiffel/aiffel/wandb/run-20241116_211529-f5crtjxo</code>"
      ],
      "text/plain": [
       "<IPython.core.display.HTML object>"
      ]
     },
     "metadata": {},
     "output_type": "display_data"
    },
    {
     "data": {
      "text/html": [
       "Syncing run <strong><a href='https://wandb.ai/wisdom-jihyekim-aiffel/WandB_with_kfold_used_by_Jindeok/runs/f5crtjxo' target=\"_blank\">stoic-sweep-7</a></strong> to <a href='https://wandb.ai/wisdom-jihyekim-aiffel/WandB_with_kfold_used_by_Jindeok' target=\"_blank\">Weights & Biases</a> (<a href='https://wandb.me/run' target=\"_blank\">docs</a>)<br/>Sweep page: <a href='https://wandb.ai/wisdom-jihyekim-aiffel/WandB_with_kfold_used_by_Jindeok/sweeps/zhdriy11' target=\"_blank\">https://wandb.ai/wisdom-jihyekim-aiffel/WandB_with_kfold_used_by_Jindeok/sweeps/zhdriy11</a>"
      ],
      "text/plain": [
       "<IPython.core.display.HTML object>"
      ]
     },
     "metadata": {},
     "output_type": "display_data"
    },
    {
     "data": {
      "text/html": [
       " View project at <a href='https://wandb.ai/wisdom-jihyekim-aiffel/WandB_with_kfold_used_by_Jindeok' target=\"_blank\">https://wandb.ai/wisdom-jihyekim-aiffel/WandB_with_kfold_used_by_Jindeok</a>"
      ],
      "text/plain": [
       "<IPython.core.display.HTML object>"
      ]
     },
     "metadata": {},
     "output_type": "display_data"
    },
    {
     "data": {
      "text/html": [
       " View sweep at <a href='https://wandb.ai/wisdom-jihyekim-aiffel/WandB_with_kfold_used_by_Jindeok/sweeps/zhdriy11' target=\"_blank\">https://wandb.ai/wisdom-jihyekim-aiffel/WandB_with_kfold_used_by_Jindeok/sweeps/zhdriy11</a>"
      ],
      "text/plain": [
       "<IPython.core.display.HTML object>"
      ]
     },
     "metadata": {},
     "output_type": "display_data"
    },
    {
     "data": {
      "text/html": [
       " View run at <a href='https://wandb.ai/wisdom-jihyekim-aiffel/WandB_with_kfold_used_by_Jindeok/runs/f5crtjxo' target=\"_blank\">https://wandb.ai/wisdom-jihyekim-aiffel/WandB_with_kfold_used_by_Jindeok/runs/f5crtjxo</a>"
      ],
      "text/plain": [
       "<IPython.core.display.HTML object>"
      ]
     },
     "metadata": {},
     "output_type": "display_data"
    },
    {
     "name": "stderr",
     "output_type": "stream",
     "text": [
      "\u001b[34m\u001b[1mwandb\u001b[0m: \u001b[33mWARNING\u001b[0m Ignored wandb.init() arg project when running a sweep.\n"
     ]
    },
    {
     "name": "stdout",
     "output_type": "stream",
     "text": [
      "Fold: 1 ==================================================================\n",
      "Found 720 validated image filenames belonging to 6 classes.\n",
      "Found 180 validated image filenames belonging to 6 classes.\n"
     ]
    },
    {
     "data": {
      "text/html": [
       "Finishing last run (ID:f5crtjxo) before initializing another..."
      ],
      "text/plain": [
       "<IPython.core.display.HTML object>"
      ]
     },
     "metadata": {},
     "output_type": "display_data"
    },
    {
     "data": {
      "application/vnd.jupyter.widget-view+json": {
       "model_id": "",
       "version_major": 2,
       "version_minor": 0
      },
      "text/plain": [
       "VBox(children=(Label(value='0.008 MB of 0.008 MB uploaded\\r'), FloatProgress(value=1.0, max=1.0)))"
      ]
     },
     "metadata": {},
     "output_type": "display_data"
    },
    {
     "data": {
      "text/html": [
       " View run <strong style=\"color:#cdcd00\">stoic-sweep-7</strong> at: <a href='https://wandb.ai/wisdom-jihyekim-aiffel/WandB_with_kfold_used_by_Jindeok/runs/f5crtjxo' target=\"_blank\">https://wandb.ai/wisdom-jihyekim-aiffel/WandB_with_kfold_used_by_Jindeok/runs/f5crtjxo</a><br/>Synced 5 W&B file(s), 0 media file(s), 0 artifact file(s) and 0 other file(s)"
      ],
      "text/plain": [
       "<IPython.core.display.HTML object>"
      ]
     },
     "metadata": {},
     "output_type": "display_data"
    },
    {
     "data": {
      "text/html": [
       "Find logs at: <code>./wandb/run-20241116_211529-f5crtjxo/logs</code>"
      ],
      "text/plain": [
       "<IPython.core.display.HTML object>"
      ]
     },
     "metadata": {},
     "output_type": "display_data"
    },
    {
     "data": {
      "text/html": [
       "Successfully finished last run (ID:f5crtjxo). Initializing new run:<br/>"
      ],
      "text/plain": [
       "<IPython.core.display.HTML object>"
      ]
     },
     "metadata": {},
     "output_type": "display_data"
    },
    {
     "data": {
      "application/vnd.jupyter.widget-view+json": {
       "model_id": "7a4e2d337c4e4300a9d8eaafd8833c2d",
       "version_major": 2,
       "version_minor": 0
      },
      "text/plain": [
       "VBox(children=(Label(value='Waiting for wandb.init()...\\r'), FloatProgress(value=0.011112578299960457, max=1.0…"
      ]
     },
     "metadata": {},
     "output_type": "display_data"
    },
    {
     "data": {
      "text/html": [
       "wandb version 0.18.7 is available!  To upgrade, please run:\n",
       " $ pip install wandb --upgrade"
      ],
      "text/plain": [
       "<IPython.core.display.HTML object>"
      ]
     },
     "metadata": {},
     "output_type": "display_data"
    },
    {
     "data": {
      "text/html": [
       "Tracking run with wandb version 0.16.0"
      ],
      "text/plain": [
       "<IPython.core.display.HTML object>"
      ]
     },
     "metadata": {},
     "output_type": "display_data"
    },
    {
     "data": {
      "text/html": [
       "Run data is saved locally in <code>/aiffel/aiffel/wandb/run-20241116_211530-f5crtjxo</code>"
      ],
      "text/plain": [
       "<IPython.core.display.HTML object>"
      ]
     },
     "metadata": {},
     "output_type": "display_data"
    },
    {
     "data": {
      "text/html": [
       "Syncing run <strong><a href='https://wandb.ai/wisdom-jihyekim-aiffel/WandB_with_kfold_used_by_Jindeok/runs/f5crtjxo' target=\"_blank\">fold-1</a></strong> to <a href='https://wandb.ai/wisdom-jihyekim-aiffel/WandB_with_kfold_used_by_Jindeok' target=\"_blank\">Weights & Biases</a> (<a href='https://wandb.me/run' target=\"_blank\">docs</a>)<br/>Sweep page: <a href='https://wandb.ai/wisdom-jihyekim-aiffel/WandB_with_kfold_used_by_Jindeok/sweeps/zhdriy11' target=\"_blank\">https://wandb.ai/wisdom-jihyekim-aiffel/WandB_with_kfold_used_by_Jindeok/sweeps/zhdriy11</a>"
      ],
      "text/plain": [
       "<IPython.core.display.HTML object>"
      ]
     },
     "metadata": {},
     "output_type": "display_data"
    },
    {
     "data": {
      "text/html": [
       " View project at <a href='https://wandb.ai/wisdom-jihyekim-aiffel/WandB_with_kfold_used_by_Jindeok' target=\"_blank\">https://wandb.ai/wisdom-jihyekim-aiffel/WandB_with_kfold_used_by_Jindeok</a>"
      ],
      "text/plain": [
       "<IPython.core.display.HTML object>"
      ]
     },
     "metadata": {},
     "output_type": "display_data"
    },
    {
     "data": {
      "text/html": [
       " View sweep at <a href='https://wandb.ai/wisdom-jihyekim-aiffel/WandB_with_kfold_used_by_Jindeok/sweeps/zhdriy11' target=\"_blank\">https://wandb.ai/wisdom-jihyekim-aiffel/WandB_with_kfold_used_by_Jindeok/sweeps/zhdriy11</a>"
      ],
      "text/plain": [
       "<IPython.core.display.HTML object>"
      ]
     },
     "metadata": {},
     "output_type": "display_data"
    },
    {
     "data": {
      "text/html": [
       " View run at <a href='https://wandb.ai/wisdom-jihyekim-aiffel/WandB_with_kfold_used_by_Jindeok/runs/f5crtjxo' target=\"_blank\">https://wandb.ai/wisdom-jihyekim-aiffel/WandB_with_kfold_used_by_Jindeok/runs/f5crtjxo</a>"
      ],
      "text/plain": [
       "<IPython.core.display.HTML object>"
      ]
     },
     "metadata": {},
     "output_type": "display_data"
    },
    {
     "name": "stdout",
     "output_type": "stream",
     "text": [
      "Epoch 1/5\n",
      "23/23 [==============================] - 11s 426ms/step - loss: 1.9828 - accuracy: 0.2389 - val_loss: 1.7896 - val_accuracy: 0.2056\n",
      "INFO:tensorflow:Assets written to: /aiffel/aiffel/wandb/run-20241116_211530-f5crtjxo/files/model-best/assets\n"
     ]
    },
    {
     "name": "stderr",
     "output_type": "stream",
     "text": [
      "\u001b[34m\u001b[1mwandb\u001b[0m: Adding directory to artifact (/aiffel/aiffel/wandb/run-20241116_211530-f5crtjxo/files/model-best)... Done. 0.0s\n"
     ]
    },
    {
     "name": "stdout",
     "output_type": "stream",
     "text": [
      "Epoch 2/5\n",
      "23/23 [==============================] - 10s 409ms/step - loss: 1.5478 - accuracy: 0.3611 - val_loss: 1.6003 - val_accuracy: 0.3500\n",
      "INFO:tensorflow:Assets written to: /aiffel/aiffel/wandb/run-20241116_211530-f5crtjxo/files/model-best/assets\n"
     ]
    },
    {
     "name": "stderr",
     "output_type": "stream",
     "text": [
      "\u001b[34m\u001b[1mwandb\u001b[0m: Adding directory to artifact (/aiffel/aiffel/wandb/run-20241116_211530-f5crtjxo/files/model-best)... Done. 0.0s\n"
     ]
    },
    {
     "name": "stdout",
     "output_type": "stream",
     "text": [
      "Epoch 3/5\n",
      "23/23 [==============================] - 10s 406ms/step - loss: 1.3733 - accuracy: 0.4333 - val_loss: 1.4315 - val_accuracy: 0.4056\n",
      "INFO:tensorflow:Assets written to: /aiffel/aiffel/wandb/run-20241116_211530-f5crtjxo/files/model-best/assets\n"
     ]
    },
    {
     "name": "stderr",
     "output_type": "stream",
     "text": [
      "\u001b[34m\u001b[1mwandb\u001b[0m: Adding directory to artifact (/aiffel/aiffel/wandb/run-20241116_211530-f5crtjxo/files/model-best)... Done. 0.0s\n"
     ]
    },
    {
     "name": "stdout",
     "output_type": "stream",
     "text": [
      "Epoch 4/5\n",
      "23/23 [==============================] - 10s 406ms/step - loss: 1.2548 - accuracy: 0.4972 - val_loss: 1.3165 - val_accuracy: 0.4611\n",
      "INFO:tensorflow:Assets written to: /aiffel/aiffel/wandb/run-20241116_211530-f5crtjxo/files/model-best/assets\n"
     ]
    },
    {
     "name": "stderr",
     "output_type": "stream",
     "text": [
      "\u001b[34m\u001b[1mwandb\u001b[0m: Adding directory to artifact (/aiffel/aiffel/wandb/run-20241116_211530-f5crtjxo/files/model-best)... Done. 0.0s\n"
     ]
    },
    {
     "name": "stdout",
     "output_type": "stream",
     "text": [
      "Epoch 5/5\n",
      "23/23 [==============================] - 10s 405ms/step - loss: 1.1806 - accuracy: 0.5139 - val_loss: 1.4602 - val_accuracy: 0.4667\n",
      "6/6 [==============================] - 2s 283ms/step - loss: 1.4624 - accuracy: 0.4389\n",
      "Validation Accuracy for fold 1: 43.89%\n"
     ]
    },
    {
     "data": {
      "application/vnd.jupyter.widget-view+json": {
       "model_id": "",
       "version_major": 2,
       "version_minor": 0
      },
      "text/plain": [
       "VBox(children=(Label(value='6.406 MB of 6.406 MB uploaded (0.091 MB deduped)\\r'), FloatProgress(value=1.0, max…"
      ]
     },
     "metadata": {},
     "output_type": "display_data"
    },
    {
     "data": {
      "text/html": [
       "W&B sync reduced upload amount by 1.4%             "
      ],
      "text/plain": [
       "<IPython.core.display.HTML object>"
      ]
     },
     "metadata": {},
     "output_type": "display_data"
    },
    {
     "data": {
      "text/html": [
       "<style>\n",
       "    table.wandb td:nth-child(1) { padding: 0 10px; text-align: left ; width: auto;} td:nth-child(2) {text-align: left ; width: 100%}\n",
       "    .wandb-row { display: flex; flex-direction: row; flex-wrap: wrap; justify-content: flex-start; width: 100% }\n",
       "    .wandb-col { display: flex; flex-direction: column; flex-basis: 100%; flex: 1; padding: 10px; }\n",
       "    </style>\n",
       "<div class=\"wandb-row\"><div class=\"wandb-col\"><h3>Run history:</h3><br/><table class=\"wandb\"><tr><td>accuracy</td><td>▁▄▆██</td></tr><tr><td>epoch</td><td>▁▃▅▆█</td></tr><tr><td>loss</td><td>█▄▃▂▁</td></tr><tr><td>val_accuracy</td><td>▁▅▆██</td></tr><tr><td>val_loss</td><td>█▅▃▁▃</td></tr></table><br/></div><div class=\"wandb-col\"><h3>Run summary:</h3><br/><table class=\"wandb\"><tr><td>accuracy</td><td>0.51389</td></tr><tr><td>best_epoch</td><td>3</td></tr><tr><td>best_val_loss</td><td>1.31655</td></tr><tr><td>epoch</td><td>4</td></tr><tr><td>loss</td><td>1.18059</td></tr><tr><td>val_accuracy</td><td>0.46667</td></tr><tr><td>val_loss</td><td>1.46016</td></tr></table><br/></div></div>"
      ],
      "text/plain": [
       "<IPython.core.display.HTML object>"
      ]
     },
     "metadata": {},
     "output_type": "display_data"
    },
    {
     "data": {
      "text/html": [
       " View run <strong style=\"color:#cdcd00\">fold-1</strong> at: <a href='https://wandb.ai/wisdom-jihyekim-aiffel/WandB_with_kfold_used_by_Jindeok/runs/f5crtjxo' target=\"_blank\">https://wandb.ai/wisdom-jihyekim-aiffel/WandB_with_kfold_used_by_Jindeok/runs/f5crtjxo</a><br/>Synced 5 W&B file(s), 1 media file(s), 16 artifact file(s) and 1 other file(s)"
      ],
      "text/plain": [
       "<IPython.core.display.HTML object>"
      ]
     },
     "metadata": {},
     "output_type": "display_data"
    },
    {
     "data": {
      "text/html": [
       "Find logs at: <code>./wandb/run-20241116_211530-f5crtjxo/logs</code>"
      ],
      "text/plain": [
       "<IPython.core.display.HTML object>"
      ]
     },
     "metadata": {},
     "output_type": "display_data"
    },
    {
     "name": "stderr",
     "output_type": "stream",
     "text": [
      "\u001b[34m\u001b[1mwandb\u001b[0m: \u001b[33mWARNING\u001b[0m Ignored wandb.init() arg project when running a sweep.\n"
     ]
    },
    {
     "name": "stdout",
     "output_type": "stream",
     "text": [
      "Fold: 2 ==================================================================\n",
      "Found 720 validated image filenames belonging to 6 classes.\n",
      "Found 180 validated image filenames belonging to 6 classes.\n"
     ]
    },
    {
     "data": {
      "text/html": [
       "wandb version 0.18.7 is available!  To upgrade, please run:\n",
       " $ pip install wandb --upgrade"
      ],
      "text/plain": [
       "<IPython.core.display.HTML object>"
      ]
     },
     "metadata": {},
     "output_type": "display_data"
    },
    {
     "data": {
      "text/html": [
       "Tracking run with wandb version 0.16.0"
      ],
      "text/plain": [
       "<IPython.core.display.HTML object>"
      ]
     },
     "metadata": {},
     "output_type": "display_data"
    },
    {
     "data": {
      "text/html": [
       "Run data is saved locally in <code>/aiffel/aiffel/wandb/run-20241116_211640-f5crtjxo</code>"
      ],
      "text/plain": [
       "<IPython.core.display.HTML object>"
      ]
     },
     "metadata": {},
     "output_type": "display_data"
    },
    {
     "data": {
      "text/html": [
       "Syncing run <strong><a href='https://wandb.ai/wisdom-jihyekim-aiffel/WandB_with_kfold_used_by_Jindeok/runs/f5crtjxo' target=\"_blank\">fold-2</a></strong> to <a href='https://wandb.ai/wisdom-jihyekim-aiffel/WandB_with_kfold_used_by_Jindeok' target=\"_blank\">Weights & Biases</a> (<a href='https://wandb.me/run' target=\"_blank\">docs</a>)<br/>Sweep page: <a href='https://wandb.ai/wisdom-jihyekim-aiffel/WandB_with_kfold_used_by_Jindeok/sweeps/zhdriy11' target=\"_blank\">https://wandb.ai/wisdom-jihyekim-aiffel/WandB_with_kfold_used_by_Jindeok/sweeps/zhdriy11</a>"
      ],
      "text/plain": [
       "<IPython.core.display.HTML object>"
      ]
     },
     "metadata": {},
     "output_type": "display_data"
    },
    {
     "data": {
      "text/html": [
       " View project at <a href='https://wandb.ai/wisdom-jihyekim-aiffel/WandB_with_kfold_used_by_Jindeok' target=\"_blank\">https://wandb.ai/wisdom-jihyekim-aiffel/WandB_with_kfold_used_by_Jindeok</a>"
      ],
      "text/plain": [
       "<IPython.core.display.HTML object>"
      ]
     },
     "metadata": {},
     "output_type": "display_data"
    },
    {
     "data": {
      "text/html": [
       " View sweep at <a href='https://wandb.ai/wisdom-jihyekim-aiffel/WandB_with_kfold_used_by_Jindeok/sweeps/zhdriy11' target=\"_blank\">https://wandb.ai/wisdom-jihyekim-aiffel/WandB_with_kfold_used_by_Jindeok/sweeps/zhdriy11</a>"
      ],
      "text/plain": [
       "<IPython.core.display.HTML object>"
      ]
     },
     "metadata": {},
     "output_type": "display_data"
    },
    {
     "data": {
      "text/html": [
       " View run at <a href='https://wandb.ai/wisdom-jihyekim-aiffel/WandB_with_kfold_used_by_Jindeok/runs/f5crtjxo' target=\"_blank\">https://wandb.ai/wisdom-jihyekim-aiffel/WandB_with_kfold_used_by_Jindeok/runs/f5crtjxo</a>"
      ],
      "text/plain": [
       "<IPython.core.display.HTML object>"
      ]
     },
     "metadata": {},
     "output_type": "display_data"
    },
    {
     "name": "stdout",
     "output_type": "stream",
     "text": [
      "Epoch 1/5\n",
      "23/23 [==============================] - 11s 433ms/step - loss: 1.8529 - accuracy: 0.2472 - val_loss: 1.6066 - val_accuracy: 0.3500\n",
      "INFO:tensorflow:Assets written to: /aiffel/aiffel/wandb/run-20241116_211640-f5crtjxo/files/model-best/assets\n"
     ]
    },
    {
     "name": "stderr",
     "output_type": "stream",
     "text": [
      "\u001b[34m\u001b[1mwandb\u001b[0m: Adding directory to artifact (/aiffel/aiffel/wandb/run-20241116_211640-f5crtjxo/files/model-best)... Done. 0.0s\n"
     ]
    },
    {
     "name": "stdout",
     "output_type": "stream",
     "text": [
      "Epoch 2/5\n",
      "23/23 [==============================] - 10s 406ms/step - loss: 1.4915 - accuracy: 0.3639 - val_loss: 1.4214 - val_accuracy: 0.4222\n",
      "INFO:tensorflow:Assets written to: /aiffel/aiffel/wandb/run-20241116_211640-f5crtjxo/files/model-best/assets\n"
     ]
    },
    {
     "name": "stderr",
     "output_type": "stream",
     "text": [
      "\u001b[34m\u001b[1mwandb\u001b[0m: Adding directory to artifact (/aiffel/aiffel/wandb/run-20241116_211640-f5crtjxo/files/model-best)... Done. 0.0s\n"
     ]
    },
    {
     "name": "stdout",
     "output_type": "stream",
     "text": [
      "Epoch 3/5\n",
      "23/23 [==============================] - 10s 408ms/step - loss: 1.3346 - accuracy: 0.4375 - val_loss: 1.4540 - val_accuracy: 0.3889\n",
      "Epoch 4/5\n",
      "23/23 [==============================] - 9s 407ms/step - loss: 1.2620 - accuracy: 0.4764 - val_loss: 1.3368 - val_accuracy: 0.4444\n",
      "INFO:tensorflow:Assets written to: /aiffel/aiffel/wandb/run-20241116_211640-f5crtjxo/files/model-best/assets\n"
     ]
    },
    {
     "name": "stderr",
     "output_type": "stream",
     "text": [
      "\u001b[34m\u001b[1mwandb\u001b[0m: Adding directory to artifact (/aiffel/aiffel/wandb/run-20241116_211640-f5crtjxo/files/model-best)... Done. 0.0s\n"
     ]
    },
    {
     "name": "stdout",
     "output_type": "stream",
     "text": [
      "Epoch 5/5\n",
      "23/23 [==============================] - 10s 405ms/step - loss: 1.1992 - accuracy: 0.4875 - val_loss: 1.4082 - val_accuracy: 0.4778\n",
      "6/6 [==============================] - 2s 291ms/step - loss: 1.4480 - accuracy: 0.4222\n",
      "Validation Accuracy for fold 2: 42.22%\n"
     ]
    },
    {
     "data": {
      "application/vnd.jupyter.widget-view+json": {
       "model_id": "",
       "version_major": 2,
       "version_minor": 0
      },
      "text/plain": [
       "VBox(children=(Label(value='5.079 MB of 5.079 MB uploaded (0.068 MB deduped)\\r'), FloatProgress(value=1.0, max…"
      ]
     },
     "metadata": {},
     "output_type": "display_data"
    },
    {
     "data": {
      "text/html": [
       "W&B sync reduced upload amount by 1.3%             "
      ],
      "text/plain": [
       "<IPython.core.display.HTML object>"
      ]
     },
     "metadata": {},
     "output_type": "display_data"
    },
    {
     "data": {
      "text/html": [
       "<style>\n",
       "    table.wandb td:nth-child(1) { padding: 0 10px; text-align: left ; width: auto;} td:nth-child(2) {text-align: left ; width: 100%}\n",
       "    .wandb-row { display: flex; flex-direction: row; flex-wrap: wrap; justify-content: flex-start; width: 100% }\n",
       "    .wandb-col { display: flex; flex-direction: column; flex-basis: 100%; flex: 1; padding: 10px; }\n",
       "    </style>\n",
       "<div class=\"wandb-row\"><div class=\"wandb-col\"><h3>Run history:</h3><br/><table class=\"wandb\"><tr><td>accuracy</td><td>▁▄▇██</td></tr><tr><td>epoch</td><td>▁▃▅▆█</td></tr><tr><td>loss</td><td>█▄▂▂▁</td></tr><tr><td>val_accuracy</td><td>▁▅▃▆█</td></tr><tr><td>val_loss</td><td>█▃▄▁▃</td></tr></table><br/></div><div class=\"wandb-col\"><h3>Run summary:</h3><br/><table class=\"wandb\"><tr><td>accuracy</td><td>0.4875</td></tr><tr><td>best_epoch</td><td>3</td></tr><tr><td>best_val_loss</td><td>1.33677</td></tr><tr><td>epoch</td><td>4</td></tr><tr><td>loss</td><td>1.19917</td></tr><tr><td>val_accuracy</td><td>0.47778</td></tr><tr><td>val_loss</td><td>1.40822</td></tr></table><br/></div></div>"
      ],
      "text/plain": [
       "<IPython.core.display.HTML object>"
      ]
     },
     "metadata": {},
     "output_type": "display_data"
    },
    {
     "data": {
      "text/html": [
       " View run <strong style=\"color:#cdcd00\">fold-2</strong> at: <a href='https://wandb.ai/wisdom-jihyekim-aiffel/WandB_with_kfold_used_by_Jindeok/runs/f5crtjxo' target=\"_blank\">https://wandb.ai/wisdom-jihyekim-aiffel/WandB_with_kfold_used_by_Jindeok/runs/f5crtjxo</a><br/>Synced 5 W&B file(s), 1 media file(s), 12 artifact file(s) and 1 other file(s)"
      ],
      "text/plain": [
       "<IPython.core.display.HTML object>"
      ]
     },
     "metadata": {},
     "output_type": "display_data"
    },
    {
     "data": {
      "text/html": [
       "Find logs at: <code>./wandb/run-20241116_211640-f5crtjxo/logs</code>"
      ],
      "text/plain": [
       "<IPython.core.display.HTML object>"
      ]
     },
     "metadata": {},
     "output_type": "display_data"
    },
    {
     "name": "stderr",
     "output_type": "stream",
     "text": [
      "\u001b[34m\u001b[1mwandb\u001b[0m: \u001b[33mWARNING\u001b[0m Ignored wandb.init() arg project when running a sweep.\n"
     ]
    },
    {
     "name": "stdout",
     "output_type": "stream",
     "text": [
      "Fold: 3 ==================================================================\n",
      "Found 720 validated image filenames belonging to 6 classes.\n",
      "Found 180 validated image filenames belonging to 6 classes.\n"
     ]
    },
    {
     "data": {
      "application/vnd.jupyter.widget-view+json": {
       "model_id": "bdcecc9562254aab8f99c838c6c042fd",
       "version_major": 2,
       "version_minor": 0
      },
      "text/plain": [
       "VBox(children=(Label(value='Waiting for wandb.init()...\\r'), FloatProgress(value=0.011112479644442728, max=1.0…"
      ]
     },
     "metadata": {},
     "output_type": "display_data"
    },
    {
     "data": {
      "text/html": [
       "wandb version 0.18.7 is available!  To upgrade, please run:\n",
       " $ pip install wandb --upgrade"
      ],
      "text/plain": [
       "<IPython.core.display.HTML object>"
      ]
     },
     "metadata": {},
     "output_type": "display_data"
    },
    {
     "data": {
      "text/html": [
       "Tracking run with wandb version 0.16.0"
      ],
      "text/plain": [
       "<IPython.core.display.HTML object>"
      ]
     },
     "metadata": {},
     "output_type": "display_data"
    },
    {
     "data": {
      "text/html": [
       "Run data is saved locally in <code>/aiffel/aiffel/wandb/run-20241116_211743-f5crtjxo</code>"
      ],
      "text/plain": [
       "<IPython.core.display.HTML object>"
      ]
     },
     "metadata": {},
     "output_type": "display_data"
    },
    {
     "data": {
      "text/html": [
       "Syncing run <strong><a href='https://wandb.ai/wisdom-jihyekim-aiffel/WandB_with_kfold_used_by_Jindeok/runs/f5crtjxo' target=\"_blank\">fold-3</a></strong> to <a href='https://wandb.ai/wisdom-jihyekim-aiffel/WandB_with_kfold_used_by_Jindeok' target=\"_blank\">Weights & Biases</a> (<a href='https://wandb.me/run' target=\"_blank\">docs</a>)<br/>Sweep page: <a href='https://wandb.ai/wisdom-jihyekim-aiffel/WandB_with_kfold_used_by_Jindeok/sweeps/zhdriy11' target=\"_blank\">https://wandb.ai/wisdom-jihyekim-aiffel/WandB_with_kfold_used_by_Jindeok/sweeps/zhdriy11</a>"
      ],
      "text/plain": [
       "<IPython.core.display.HTML object>"
      ]
     },
     "metadata": {},
     "output_type": "display_data"
    },
    {
     "data": {
      "text/html": [
       " View project at <a href='https://wandb.ai/wisdom-jihyekim-aiffel/WandB_with_kfold_used_by_Jindeok' target=\"_blank\">https://wandb.ai/wisdom-jihyekim-aiffel/WandB_with_kfold_used_by_Jindeok</a>"
      ],
      "text/plain": [
       "<IPython.core.display.HTML object>"
      ]
     },
     "metadata": {},
     "output_type": "display_data"
    },
    {
     "data": {
      "text/html": [
       " View sweep at <a href='https://wandb.ai/wisdom-jihyekim-aiffel/WandB_with_kfold_used_by_Jindeok/sweeps/zhdriy11' target=\"_blank\">https://wandb.ai/wisdom-jihyekim-aiffel/WandB_with_kfold_used_by_Jindeok/sweeps/zhdriy11</a>"
      ],
      "text/plain": [
       "<IPython.core.display.HTML object>"
      ]
     },
     "metadata": {},
     "output_type": "display_data"
    },
    {
     "data": {
      "text/html": [
       " View run at <a href='https://wandb.ai/wisdom-jihyekim-aiffel/WandB_with_kfold_used_by_Jindeok/runs/f5crtjxo' target=\"_blank\">https://wandb.ai/wisdom-jihyekim-aiffel/WandB_with_kfold_used_by_Jindeok/runs/f5crtjxo</a>"
      ],
      "text/plain": [
       "<IPython.core.display.HTML object>"
      ]
     },
     "metadata": {},
     "output_type": "display_data"
    },
    {
     "name": "stdout",
     "output_type": "stream",
     "text": [
      "Epoch 1/5\n",
      "23/23 [==============================] - 11s 421ms/step - loss: 1.8610 - accuracy: 0.2500 - val_loss: 1.7563 - val_accuracy: 0.2333\n",
      "INFO:tensorflow:Assets written to: /aiffel/aiffel/wandb/run-20241116_211743-f5crtjxo/files/model-best/assets\n"
     ]
    },
    {
     "name": "stderr",
     "output_type": "stream",
     "text": [
      "\u001b[34m\u001b[1mwandb\u001b[0m: Adding directory to artifact (/aiffel/aiffel/wandb/run-20241116_211743-f5crtjxo/files/model-best)... Done. 0.0s\n"
     ]
    },
    {
     "name": "stdout",
     "output_type": "stream",
     "text": [
      "Epoch 2/5\n",
      "23/23 [==============================] - 10s 419ms/step - loss: 1.6022 - accuracy: 0.3375 - val_loss: 1.4908 - val_accuracy: 0.3444\n",
      "INFO:tensorflow:Assets written to: /aiffel/aiffel/wandb/run-20241116_211743-f5crtjxo/files/model-best/assets\n"
     ]
    },
    {
     "name": "stderr",
     "output_type": "stream",
     "text": [
      "\u001b[34m\u001b[1mwandb\u001b[0m: Adding directory to artifact (/aiffel/aiffel/wandb/run-20241116_211743-f5crtjxo/files/model-best)... Done. 0.0s\n"
     ]
    },
    {
     "name": "stdout",
     "output_type": "stream",
     "text": [
      "Epoch 3/5\n",
      "23/23 [==============================] - 9s 405ms/step - loss: 1.4034 - accuracy: 0.4194 - val_loss: 1.2692 - val_accuracy: 0.5111\n",
      "INFO:tensorflow:Assets written to: /aiffel/aiffel/wandb/run-20241116_211743-f5crtjxo/files/model-best/assets\n"
     ]
    },
    {
     "name": "stderr",
     "output_type": "stream",
     "text": [
      "\u001b[34m\u001b[1mwandb\u001b[0m: Adding directory to artifact (/aiffel/aiffel/wandb/run-20241116_211743-f5crtjxo/files/model-best)... Done. 0.0s\n"
     ]
    },
    {
     "name": "stdout",
     "output_type": "stream",
     "text": [
      "Epoch 4/5\n",
      "23/23 [==============================] - 9s 402ms/step - loss: 1.2685 - accuracy: 0.5083 - val_loss: 1.2597 - val_accuracy: 0.5111\n",
      "INFO:tensorflow:Assets written to: /aiffel/aiffel/wandb/run-20241116_211743-f5crtjxo/files/model-best/assets\n"
     ]
    },
    {
     "name": "stderr",
     "output_type": "stream",
     "text": [
      "\u001b[34m\u001b[1mwandb\u001b[0m: Adding directory to artifact (/aiffel/aiffel/wandb/run-20241116_211743-f5crtjxo/files/model-best)... Done. 0.0s\n"
     ]
    },
    {
     "name": "stdout",
     "output_type": "stream",
     "text": [
      "Epoch 5/5\n",
      "23/23 [==============================] - 9s 400ms/step - loss: 1.1991 - accuracy: 0.5069 - val_loss: 1.1902 - val_accuracy: 0.5556\n",
      "INFO:tensorflow:Assets written to: /aiffel/aiffel/wandb/run-20241116_211743-f5crtjxo/files/model-best/assets\n"
     ]
    },
    {
     "name": "stderr",
     "output_type": "stream",
     "text": [
      "\u001b[34m\u001b[1mwandb\u001b[0m: Adding directory to artifact (/aiffel/aiffel/wandb/run-20241116_211743-f5crtjxo/files/model-best)... Done. 0.0s\n"
     ]
    },
    {
     "name": "stdout",
     "output_type": "stream",
     "text": [
      "6/6 [==============================] - 2s 294ms/step - loss: 1.2171 - accuracy: 0.5444\n",
      "Validation Accuracy for fold 3: 54.44%\n"
     ]
    },
    {
     "data": {
      "application/vnd.jupyter.widget-view+json": {
       "model_id": "",
       "version_major": 2,
       "version_minor": 0
      },
      "text/plain": [
       "VBox(children=(Label(value='7.759 MB of 7.759 MB uploaded (0.114 MB deduped)\\r'), FloatProgress(value=1.0, max…"
      ]
     },
     "metadata": {},
     "output_type": "display_data"
    },
    {
     "data": {
      "text/html": [
       "W&B sync reduced upload amount by 1.5%             "
      ],
      "text/plain": [
       "<IPython.core.display.HTML object>"
      ]
     },
     "metadata": {},
     "output_type": "display_data"
    },
    {
     "data": {
      "text/html": [
       "<style>\n",
       "    table.wandb td:nth-child(1) { padding: 0 10px; text-align: left ; width: auto;} td:nth-child(2) {text-align: left ; width: 100%}\n",
       "    .wandb-row { display: flex; flex-direction: row; flex-wrap: wrap; justify-content: flex-start; width: 100% }\n",
       "    .wandb-col { display: flex; flex-direction: column; flex-basis: 100%; flex: 1; padding: 10px; }\n",
       "    </style>\n",
       "<div class=\"wandb-row\"><div class=\"wandb-col\"><h3>Run history:</h3><br/><table class=\"wandb\"><tr><td>accuracy</td><td>▁▃▆██</td></tr><tr><td>epoch</td><td>▁▃▅▆█</td></tr><tr><td>loss</td><td>█▅▃▂▁</td></tr><tr><td>val_accuracy</td><td>▁▃▇▇█</td></tr><tr><td>val_loss</td><td>█▅▂▂▁</td></tr></table><br/></div><div class=\"wandb-col\"><h3>Run summary:</h3><br/><table class=\"wandb\"><tr><td>accuracy</td><td>0.50694</td></tr><tr><td>best_epoch</td><td>4</td></tr><tr><td>best_val_loss</td><td>1.19024</td></tr><tr><td>epoch</td><td>4</td></tr><tr><td>loss</td><td>1.19907</td></tr><tr><td>val_accuracy</td><td>0.55556</td></tr><tr><td>val_loss</td><td>1.19024</td></tr></table><br/></div></div>"
      ],
      "text/plain": [
       "<IPython.core.display.HTML object>"
      ]
     },
     "metadata": {},
     "output_type": "display_data"
    },
    {
     "data": {
      "text/html": [
       " View run <strong style=\"color:#cdcd00\">fold-3</strong> at: <a href='https://wandb.ai/wisdom-jihyekim-aiffel/WandB_with_kfold_used_by_Jindeok/runs/f5crtjxo' target=\"_blank\">https://wandb.ai/wisdom-jihyekim-aiffel/WandB_with_kfold_used_by_Jindeok/runs/f5crtjxo</a><br/>Synced 5 W&B file(s), 1 media file(s), 20 artifact file(s) and 1 other file(s)"
      ],
      "text/plain": [
       "<IPython.core.display.HTML object>"
      ]
     },
     "metadata": {},
     "output_type": "display_data"
    },
    {
     "data": {
      "text/html": [
       "Find logs at: <code>./wandb/run-20241116_211743-f5crtjxo/logs</code>"
      ],
      "text/plain": [
       "<IPython.core.display.HTML object>"
      ]
     },
     "metadata": {},
     "output_type": "display_data"
    },
    {
     "name": "stderr",
     "output_type": "stream",
     "text": [
      "\u001b[34m\u001b[1mwandb\u001b[0m: \u001b[33mWARNING\u001b[0m Ignored wandb.init() arg project when running a sweep.\n"
     ]
    },
    {
     "name": "stdout",
     "output_type": "stream",
     "text": [
      "Fold: 4 ==================================================================\n",
      "Found 720 validated image filenames belonging to 6 classes.\n",
      "Found 180 validated image filenames belonging to 6 classes.\n"
     ]
    },
    {
     "data": {
      "text/html": [
       "wandb version 0.18.7 is available!  To upgrade, please run:\n",
       " $ pip install wandb --upgrade"
      ],
      "text/plain": [
       "<IPython.core.display.HTML object>"
      ]
     },
     "metadata": {},
     "output_type": "display_data"
    },
    {
     "data": {
      "text/html": [
       "Tracking run with wandb version 0.16.0"
      ],
      "text/plain": [
       "<IPython.core.display.HTML object>"
      ]
     },
     "metadata": {},
     "output_type": "display_data"
    },
    {
     "data": {
      "text/html": [
       "Run data is saved locally in <code>/aiffel/aiffel/wandb/run-20241116_211850-f5crtjxo</code>"
      ],
      "text/plain": [
       "<IPython.core.display.HTML object>"
      ]
     },
     "metadata": {},
     "output_type": "display_data"
    },
    {
     "data": {
      "text/html": [
       "Syncing run <strong><a href='https://wandb.ai/wisdom-jihyekim-aiffel/WandB_with_kfold_used_by_Jindeok/runs/f5crtjxo' target=\"_blank\">fold-4</a></strong> to <a href='https://wandb.ai/wisdom-jihyekim-aiffel/WandB_with_kfold_used_by_Jindeok' target=\"_blank\">Weights & Biases</a> (<a href='https://wandb.me/run' target=\"_blank\">docs</a>)<br/>Sweep page: <a href='https://wandb.ai/wisdom-jihyekim-aiffel/WandB_with_kfold_used_by_Jindeok/sweeps/zhdriy11' target=\"_blank\">https://wandb.ai/wisdom-jihyekim-aiffel/WandB_with_kfold_used_by_Jindeok/sweeps/zhdriy11</a>"
      ],
      "text/plain": [
       "<IPython.core.display.HTML object>"
      ]
     },
     "metadata": {},
     "output_type": "display_data"
    },
    {
     "data": {
      "text/html": [
       " View project at <a href='https://wandb.ai/wisdom-jihyekim-aiffel/WandB_with_kfold_used_by_Jindeok' target=\"_blank\">https://wandb.ai/wisdom-jihyekim-aiffel/WandB_with_kfold_used_by_Jindeok</a>"
      ],
      "text/plain": [
       "<IPython.core.display.HTML object>"
      ]
     },
     "metadata": {},
     "output_type": "display_data"
    },
    {
     "data": {
      "text/html": [
       " View sweep at <a href='https://wandb.ai/wisdom-jihyekim-aiffel/WandB_with_kfold_used_by_Jindeok/sweeps/zhdriy11' target=\"_blank\">https://wandb.ai/wisdom-jihyekim-aiffel/WandB_with_kfold_used_by_Jindeok/sweeps/zhdriy11</a>"
      ],
      "text/plain": [
       "<IPython.core.display.HTML object>"
      ]
     },
     "metadata": {},
     "output_type": "display_data"
    },
    {
     "data": {
      "text/html": [
       " View run at <a href='https://wandb.ai/wisdom-jihyekim-aiffel/WandB_with_kfold_used_by_Jindeok/runs/f5crtjxo' target=\"_blank\">https://wandb.ai/wisdom-jihyekim-aiffel/WandB_with_kfold_used_by_Jindeok/runs/f5crtjxo</a>"
      ],
      "text/plain": [
       "<IPython.core.display.HTML object>"
      ]
     },
     "metadata": {},
     "output_type": "display_data"
    },
    {
     "name": "stdout",
     "output_type": "stream",
     "text": [
      "Epoch 1/5\n",
      "23/23 [==============================] - 11s 429ms/step - loss: 1.7816 - accuracy: 0.2708 - val_loss: 1.5444 - val_accuracy: 0.3222\n",
      "INFO:tensorflow:Assets written to: /aiffel/aiffel/wandb/run-20241116_211850-f5crtjxo/files/model-best/assets\n"
     ]
    },
    {
     "name": "stderr",
     "output_type": "stream",
     "text": [
      "\u001b[34m\u001b[1mwandb\u001b[0m: Adding directory to artifact (/aiffel/aiffel/wandb/run-20241116_211850-f5crtjxo/files/model-best)... Done. 0.0s\n"
     ]
    },
    {
     "name": "stdout",
     "output_type": "stream",
     "text": [
      "Epoch 2/5\n",
      "23/23 [==============================] - 10s 406ms/step - loss: 1.5305 - accuracy: 0.3625 - val_loss: 1.4518 - val_accuracy: 0.3556\n",
      "INFO:tensorflow:Assets written to: /aiffel/aiffel/wandb/run-20241116_211850-f5crtjxo/files/model-best/assets\n"
     ]
    },
    {
     "name": "stderr",
     "output_type": "stream",
     "text": [
      "\u001b[34m\u001b[1mwandb\u001b[0m: Adding directory to artifact (/aiffel/aiffel/wandb/run-20241116_211850-f5crtjxo/files/model-best)... Done. 0.0s\n"
     ]
    },
    {
     "name": "stdout",
     "output_type": "stream",
     "text": [
      "Epoch 3/5\n",
      "23/23 [==============================] - 9s 401ms/step - loss: 1.3546 - accuracy: 0.4514 - val_loss: 1.3326 - val_accuracy: 0.4167\n",
      "INFO:tensorflow:Assets written to: /aiffel/aiffel/wandb/run-20241116_211850-f5crtjxo/files/model-best/assets\n"
     ]
    },
    {
     "name": "stderr",
     "output_type": "stream",
     "text": [
      "\u001b[34m\u001b[1mwandb\u001b[0m: Adding directory to artifact (/aiffel/aiffel/wandb/run-20241116_211850-f5crtjxo/files/model-best)... Done. 0.0s\n"
     ]
    },
    {
     "name": "stdout",
     "output_type": "stream",
     "text": [
      "Epoch 4/5\n",
      "23/23 [==============================] - 10s 407ms/step - loss: 1.1905 - accuracy: 0.5181 - val_loss: 1.2803 - val_accuracy: 0.4278\n",
      "INFO:tensorflow:Assets written to: /aiffel/aiffel/wandb/run-20241116_211850-f5crtjxo/files/model-best/assets\n"
     ]
    },
    {
     "name": "stderr",
     "output_type": "stream",
     "text": [
      "\u001b[34m\u001b[1mwandb\u001b[0m: Adding directory to artifact (/aiffel/aiffel/wandb/run-20241116_211850-f5crtjxo/files/model-best)... Done. 0.0s\n"
     ]
    },
    {
     "name": "stdout",
     "output_type": "stream",
     "text": [
      "Epoch 5/5\n",
      "23/23 [==============================] - 9s 406ms/step - loss: 1.1960 - accuracy: 0.5417 - val_loss: 1.1509 - val_accuracy: 0.5722\n",
      "INFO:tensorflow:Assets written to: /aiffel/aiffel/wandb/run-20241116_211850-f5crtjxo/files/model-best/assets\n"
     ]
    },
    {
     "name": "stderr",
     "output_type": "stream",
     "text": [
      "\u001b[34m\u001b[1mwandb\u001b[0m: Adding directory to artifact (/aiffel/aiffel/wandb/run-20241116_211850-f5crtjxo/files/model-best)... Done. 0.0s\n"
     ]
    },
    {
     "name": "stdout",
     "output_type": "stream",
     "text": [
      "6/6 [==============================] - 2s 292ms/step - loss: 1.1679 - accuracy: 0.5000\n",
      "Validation Accuracy for fold 4: 50.00%\n"
     ]
    },
    {
     "data": {
      "application/vnd.jupyter.widget-view+json": {
       "model_id": "",
       "version_major": 2,
       "version_minor": 0
      },
      "text/plain": [
       "VBox(children=(Label(value='7.767 MB of 7.767 MB uploaded (0.114 MB deduped)\\r'), FloatProgress(value=1.0, max…"
      ]
     },
     "metadata": {},
     "output_type": "display_data"
    },
    {
     "data": {
      "text/html": [
       "W&B sync reduced upload amount by 1.5%             "
      ],
      "text/plain": [
       "<IPython.core.display.HTML object>"
      ]
     },
     "metadata": {},
     "output_type": "display_data"
    },
    {
     "data": {
      "text/html": [
       "<style>\n",
       "    table.wandb td:nth-child(1) { padding: 0 10px; text-align: left ; width: auto;} td:nth-child(2) {text-align: left ; width: 100%}\n",
       "    .wandb-row { display: flex; flex-direction: row; flex-wrap: wrap; justify-content: flex-start; width: 100% }\n",
       "    .wandb-col { display: flex; flex-direction: column; flex-basis: 100%; flex: 1; padding: 10px; }\n",
       "    </style>\n",
       "<div class=\"wandb-row\"><div class=\"wandb-col\"><h3>Run history:</h3><br/><table class=\"wandb\"><tr><td>accuracy</td><td>▁▃▆▇█</td></tr><tr><td>epoch</td><td>▁▃▅▆█</td></tr><tr><td>loss</td><td>█▅▃▁▁</td></tr><tr><td>val_accuracy</td><td>▁▂▄▄█</td></tr><tr><td>val_loss</td><td>█▆▄▃▁</td></tr></table><br/></div><div class=\"wandb-col\"><h3>Run summary:</h3><br/><table class=\"wandb\"><tr><td>accuracy</td><td>0.54167</td></tr><tr><td>best_epoch</td><td>4</td></tr><tr><td>best_val_loss</td><td>1.15089</td></tr><tr><td>epoch</td><td>4</td></tr><tr><td>loss</td><td>1.19604</td></tr><tr><td>val_accuracy</td><td>0.57222</td></tr><tr><td>val_loss</td><td>1.15089</td></tr></table><br/></div></div>"
      ],
      "text/plain": [
       "<IPython.core.display.HTML object>"
      ]
     },
     "metadata": {},
     "output_type": "display_data"
    },
    {
     "data": {
      "text/html": [
       " View run <strong style=\"color:#cdcd00\">fold-4</strong> at: <a href='https://wandb.ai/wisdom-jihyekim-aiffel/WandB_with_kfold_used_by_Jindeok/runs/f5crtjxo' target=\"_blank\">https://wandb.ai/wisdom-jihyekim-aiffel/WandB_with_kfold_used_by_Jindeok/runs/f5crtjxo</a><br/>Synced 5 W&B file(s), 1 media file(s), 20 artifact file(s) and 1 other file(s)"
      ],
      "text/plain": [
       "<IPython.core.display.HTML object>"
      ]
     },
     "metadata": {},
     "output_type": "display_data"
    },
    {
     "data": {
      "text/html": [
       "Find logs at: <code>./wandb/run-20241116_211850-f5crtjxo/logs</code>"
      ],
      "text/plain": [
       "<IPython.core.display.HTML object>"
      ]
     },
     "metadata": {},
     "output_type": "display_data"
    },
    {
     "name": "stderr",
     "output_type": "stream",
     "text": [
      "\u001b[34m\u001b[1mwandb\u001b[0m: \u001b[33mWARNING\u001b[0m Ignored wandb.init() arg project when running a sweep.\n"
     ]
    },
    {
     "name": "stdout",
     "output_type": "stream",
     "text": [
      "Fold: 5 ==================================================================\n",
      "Found 720 validated image filenames belonging to 6 classes.\n",
      "Found 180 validated image filenames belonging to 6 classes.\n"
     ]
    },
    {
     "data": {
      "application/vnd.jupyter.widget-view+json": {
       "model_id": "b03d83cb27b7430dbd9d11aa809b45e6",
       "version_major": 2,
       "version_minor": 0
      },
      "text/plain": [
       "VBox(children=(Label(value='Waiting for wandb.init()...\\r'), FloatProgress(value=0.011113707633355969, max=1.0…"
      ]
     },
     "metadata": {},
     "output_type": "display_data"
    },
    {
     "data": {
      "text/html": [
       "wandb version 0.18.7 is available!  To upgrade, please run:\n",
       " $ pip install wandb --upgrade"
      ],
      "text/plain": [
       "<IPython.core.display.HTML object>"
      ]
     },
     "metadata": {},
     "output_type": "display_data"
    },
    {
     "data": {
      "text/html": [
       "Tracking run with wandb version 0.16.0"
      ],
      "text/plain": [
       "<IPython.core.display.HTML object>"
      ]
     },
     "metadata": {},
     "output_type": "display_data"
    },
    {
     "data": {
      "text/html": [
       "Run data is saved locally in <code>/aiffel/aiffel/wandb/run-20241116_211958-f5crtjxo</code>"
      ],
      "text/plain": [
       "<IPython.core.display.HTML object>"
      ]
     },
     "metadata": {},
     "output_type": "display_data"
    },
    {
     "data": {
      "text/html": [
       "Syncing run <strong><a href='https://wandb.ai/wisdom-jihyekim-aiffel/WandB_with_kfold_used_by_Jindeok/runs/f5crtjxo' target=\"_blank\">fold-5</a></strong> to <a href='https://wandb.ai/wisdom-jihyekim-aiffel/WandB_with_kfold_used_by_Jindeok' target=\"_blank\">Weights & Biases</a> (<a href='https://wandb.me/run' target=\"_blank\">docs</a>)<br/>Sweep page: <a href='https://wandb.ai/wisdom-jihyekim-aiffel/WandB_with_kfold_used_by_Jindeok/sweeps/zhdriy11' target=\"_blank\">https://wandb.ai/wisdom-jihyekim-aiffel/WandB_with_kfold_used_by_Jindeok/sweeps/zhdriy11</a>"
      ],
      "text/plain": [
       "<IPython.core.display.HTML object>"
      ]
     },
     "metadata": {},
     "output_type": "display_data"
    },
    {
     "data": {
      "text/html": [
       " View project at <a href='https://wandb.ai/wisdom-jihyekim-aiffel/WandB_with_kfold_used_by_Jindeok' target=\"_blank\">https://wandb.ai/wisdom-jihyekim-aiffel/WandB_with_kfold_used_by_Jindeok</a>"
      ],
      "text/plain": [
       "<IPython.core.display.HTML object>"
      ]
     },
     "metadata": {},
     "output_type": "display_data"
    },
    {
     "data": {
      "text/html": [
       " View sweep at <a href='https://wandb.ai/wisdom-jihyekim-aiffel/WandB_with_kfold_used_by_Jindeok/sweeps/zhdriy11' target=\"_blank\">https://wandb.ai/wisdom-jihyekim-aiffel/WandB_with_kfold_used_by_Jindeok/sweeps/zhdriy11</a>"
      ],
      "text/plain": [
       "<IPython.core.display.HTML object>"
      ]
     },
     "metadata": {},
     "output_type": "display_data"
    },
    {
     "data": {
      "text/html": [
       " View run at <a href='https://wandb.ai/wisdom-jihyekim-aiffel/WandB_with_kfold_used_by_Jindeok/runs/f5crtjxo' target=\"_blank\">https://wandb.ai/wisdom-jihyekim-aiffel/WandB_with_kfold_used_by_Jindeok/runs/f5crtjxo</a>"
      ],
      "text/plain": [
       "<IPython.core.display.HTML object>"
      ]
     },
     "metadata": {},
     "output_type": "display_data"
    },
    {
     "name": "stdout",
     "output_type": "stream",
     "text": [
      "Epoch 1/5\n",
      "23/23 [==============================] - 11s 441ms/step - loss: 1.9010 - accuracy: 0.2472 - val_loss: 1.7482 - val_accuracy: 0.2778\n",
      "INFO:tensorflow:Assets written to: /aiffel/aiffel/wandb/run-20241116_211958-f5crtjxo/files/model-best/assets\n"
     ]
    },
    {
     "name": "stderr",
     "output_type": "stream",
     "text": [
      "\u001b[34m\u001b[1mwandb\u001b[0m: Adding directory to artifact (/aiffel/aiffel/wandb/run-20241116_211958-f5crtjxo/files/model-best)... Done. 0.0s\n"
     ]
    },
    {
     "name": "stdout",
     "output_type": "stream",
     "text": [
      "Epoch 2/5\n",
      "23/23 [==============================] - 9s 404ms/step - loss: 1.4576 - accuracy: 0.3778 - val_loss: 1.4677 - val_accuracy: 0.4111\n",
      "INFO:tensorflow:Assets written to: /aiffel/aiffel/wandb/run-20241116_211958-f5crtjxo/files/model-best/assets\n"
     ]
    },
    {
     "name": "stderr",
     "output_type": "stream",
     "text": [
      "\u001b[34m\u001b[1mwandb\u001b[0m: Adding directory to artifact (/aiffel/aiffel/wandb/run-20241116_211958-f5crtjxo/files/model-best)... Done. 0.0s\n"
     ]
    },
    {
     "name": "stdout",
     "output_type": "stream",
     "text": [
      "Epoch 3/5\n",
      "23/23 [==============================] - 9s 402ms/step - loss: 1.3625 - accuracy: 0.4542 - val_loss: 1.3094 - val_accuracy: 0.4778\n",
      "INFO:tensorflow:Assets written to: /aiffel/aiffel/wandb/run-20241116_211958-f5crtjxo/files/model-best/assets\n"
     ]
    },
    {
     "name": "stderr",
     "output_type": "stream",
     "text": [
      "\u001b[34m\u001b[1mwandb\u001b[0m: Adding directory to artifact (/aiffel/aiffel/wandb/run-20241116_211958-f5crtjxo/files/model-best)... Done. 0.0s\n"
     ]
    },
    {
     "name": "stdout",
     "output_type": "stream",
     "text": [
      "Epoch 4/5\n",
      "23/23 [==============================] - 9s 405ms/step - loss: 1.2077 - accuracy: 0.5208 - val_loss: 1.2330 - val_accuracy: 0.5056\n",
      "INFO:tensorflow:Assets written to: /aiffel/aiffel/wandb/run-20241116_211958-f5crtjxo/files/model-best/assets\n"
     ]
    },
    {
     "name": "stderr",
     "output_type": "stream",
     "text": [
      "\u001b[34m\u001b[1mwandb\u001b[0m: Adding directory to artifact (/aiffel/aiffel/wandb/run-20241116_211958-f5crtjxo/files/model-best)... Done. 0.0s\n"
     ]
    },
    {
     "name": "stdout",
     "output_type": "stream",
     "text": [
      "Epoch 5/5\n",
      "23/23 [==============================] - 9s 402ms/step - loss: 1.1281 - accuracy: 0.5556 - val_loss: 1.2366 - val_accuracy: 0.4944\n",
      "6/6 [==============================] - 2s 299ms/step - loss: 1.2658 - accuracy: 0.5167\n",
      "Validation Accuracy for fold 5: 51.67%\n"
     ]
    },
    {
     "data": {
      "application/vnd.jupyter.widget-view+json": {
       "model_id": "",
       "version_major": 2,
       "version_minor": 0
      },
      "text/plain": [
       "VBox(children=(Label(value='6.429 MB of 6.429 MB uploaded (0.091 MB deduped)\\r'), FloatProgress(value=1.0, max…"
      ]
     },
     "metadata": {},
     "output_type": "display_data"
    },
    {
     "data": {
      "text/html": [
       "W&B sync reduced upload amount by 1.4%             "
      ],
      "text/plain": [
       "<IPython.core.display.HTML object>"
      ]
     },
     "metadata": {},
     "output_type": "display_data"
    },
    {
     "data": {
      "text/html": [
       "<style>\n",
       "    table.wandb td:nth-child(1) { padding: 0 10px; text-align: left ; width: auto;} td:nth-child(2) {text-align: left ; width: 100%}\n",
       "    .wandb-row { display: flex; flex-direction: row; flex-wrap: wrap; justify-content: flex-start; width: 100% }\n",
       "    .wandb-col { display: flex; flex-direction: column; flex-basis: 100%; flex: 1; padding: 10px; }\n",
       "    </style>\n",
       "<div class=\"wandb-row\"><div class=\"wandb-col\"><h3>Run history:</h3><br/><table class=\"wandb\"><tr><td>accuracy</td><td>▁▄▆▇█</td></tr><tr><td>epoch</td><td>▁▃▅▆█</td></tr><tr><td>loss</td><td>█▄▃▂▁</td></tr><tr><td>val_accuracy</td><td>▁▅▇██</td></tr><tr><td>val_loss</td><td>█▄▂▁▁</td></tr></table><br/></div><div class=\"wandb-col\"><h3>Run summary:</h3><br/><table class=\"wandb\"><tr><td>accuracy</td><td>0.55556</td></tr><tr><td>best_epoch</td><td>3</td></tr><tr><td>best_val_loss</td><td>1.23295</td></tr><tr><td>epoch</td><td>4</td></tr><tr><td>loss</td><td>1.12811</td></tr><tr><td>val_accuracy</td><td>0.49444</td></tr><tr><td>val_loss</td><td>1.23661</td></tr></table><br/></div></div>"
      ],
      "text/plain": [
       "<IPython.core.display.HTML object>"
      ]
     },
     "metadata": {},
     "output_type": "display_data"
    },
    {
     "data": {
      "text/html": [
       " View run <strong style=\"color:#cdcd00\">fold-5</strong> at: <a href='https://wandb.ai/wisdom-jihyekim-aiffel/WandB_with_kfold_used_by_Jindeok/runs/f5crtjxo' target=\"_blank\">https://wandb.ai/wisdom-jihyekim-aiffel/WandB_with_kfold_used_by_Jindeok/runs/f5crtjxo</a><br/>Synced 5 W&B file(s), 1 media file(s), 16 artifact file(s) and 1 other file(s)"
      ],
      "text/plain": [
       "<IPython.core.display.HTML object>"
      ]
     },
     "metadata": {},
     "output_type": "display_data"
    },
    {
     "data": {
      "text/html": [
       "Find logs at: <code>./wandb/run-20241116_211958-f5crtjxo/logs</code>"
      ],
      "text/plain": [
       "<IPython.core.display.HTML object>"
      ]
     },
     "metadata": {},
     "output_type": "display_data"
    },
    {
     "name": "stderr",
     "output_type": "stream",
     "text": [
      "\u001b[34m\u001b[1mwandb\u001b[0m: Agent Starting Run: ngl7kmj2 with config:\n",
      "\u001b[34m\u001b[1mwandb\u001b[0m: \tepoch: 8\n",
      "\u001b[34m\u001b[1mwandb\u001b[0m: \tlearning_rate: 0.09234273590667744\n"
     ]
    },
    {
     "data": {
      "text/html": [
       "wandb version 0.18.7 is available!  To upgrade, please run:\n",
       " $ pip install wandb --upgrade"
      ],
      "text/plain": [
       "<IPython.core.display.HTML object>"
      ]
     },
     "metadata": {},
     "output_type": "display_data"
    },
    {
     "data": {
      "text/html": [
       "Tracking run with wandb version 0.16.0"
      ],
      "text/plain": [
       "<IPython.core.display.HTML object>"
      ]
     },
     "metadata": {},
     "output_type": "display_data"
    },
    {
     "data": {
      "text/html": [
       "Run data is saved locally in <code>/aiffel/aiffel/wandb/run-20241116_212109-ngl7kmj2</code>"
      ],
      "text/plain": [
       "<IPython.core.display.HTML object>"
      ]
     },
     "metadata": {},
     "output_type": "display_data"
    },
    {
     "data": {
      "text/html": [
       "Syncing run <strong><a href='https://wandb.ai/wisdom-jihyekim-aiffel/WandB_with_kfold_used_by_Jindeok/runs/ngl7kmj2' target=\"_blank\">valiant-sweep-8</a></strong> to <a href='https://wandb.ai/wisdom-jihyekim-aiffel/WandB_with_kfold_used_by_Jindeok' target=\"_blank\">Weights & Biases</a> (<a href='https://wandb.me/run' target=\"_blank\">docs</a>)<br/>Sweep page: <a href='https://wandb.ai/wisdom-jihyekim-aiffel/WandB_with_kfold_used_by_Jindeok/sweeps/zhdriy11' target=\"_blank\">https://wandb.ai/wisdom-jihyekim-aiffel/WandB_with_kfold_used_by_Jindeok/sweeps/zhdriy11</a>"
      ],
      "text/plain": [
       "<IPython.core.display.HTML object>"
      ]
     },
     "metadata": {},
     "output_type": "display_data"
    },
    {
     "data": {
      "text/html": [
       " View project at <a href='https://wandb.ai/wisdom-jihyekim-aiffel/WandB_with_kfold_used_by_Jindeok' target=\"_blank\">https://wandb.ai/wisdom-jihyekim-aiffel/WandB_with_kfold_used_by_Jindeok</a>"
      ],
      "text/plain": [
       "<IPython.core.display.HTML object>"
      ]
     },
     "metadata": {},
     "output_type": "display_data"
    },
    {
     "data": {
      "text/html": [
       " View sweep at <a href='https://wandb.ai/wisdom-jihyekim-aiffel/WandB_with_kfold_used_by_Jindeok/sweeps/zhdriy11' target=\"_blank\">https://wandb.ai/wisdom-jihyekim-aiffel/WandB_with_kfold_used_by_Jindeok/sweeps/zhdriy11</a>"
      ],
      "text/plain": [
       "<IPython.core.display.HTML object>"
      ]
     },
     "metadata": {},
     "output_type": "display_data"
    },
    {
     "data": {
      "text/html": [
       " View run at <a href='https://wandb.ai/wisdom-jihyekim-aiffel/WandB_with_kfold_used_by_Jindeok/runs/ngl7kmj2' target=\"_blank\">https://wandb.ai/wisdom-jihyekim-aiffel/WandB_with_kfold_used_by_Jindeok/runs/ngl7kmj2</a>"
      ],
      "text/plain": [
       "<IPython.core.display.HTML object>"
      ]
     },
     "metadata": {},
     "output_type": "display_data"
    },
    {
     "name": "stderr",
     "output_type": "stream",
     "text": [
      "\u001b[34m\u001b[1mwandb\u001b[0m: \u001b[33mWARNING\u001b[0m Ignored wandb.init() arg project when running a sweep.\n"
     ]
    },
    {
     "name": "stdout",
     "output_type": "stream",
     "text": [
      "Fold: 1 ==================================================================\n",
      "Found 720 validated image filenames belonging to 6 classes.\n",
      "Found 180 validated image filenames belonging to 6 classes.\n"
     ]
    },
    {
     "data": {
      "text/html": [
       "Finishing last run (ID:ngl7kmj2) before initializing another..."
      ],
      "text/plain": [
       "<IPython.core.display.HTML object>"
      ]
     },
     "metadata": {},
     "output_type": "display_data"
    },
    {
     "data": {
      "application/vnd.jupyter.widget-view+json": {
       "model_id": "",
       "version_major": 2,
       "version_minor": 0
      },
      "text/plain": [
       "VBox(children=(Label(value='0.001 MB of 0.001 MB uploaded\\r'), FloatProgress(value=1.0, max=1.0)))"
      ]
     },
     "metadata": {},
     "output_type": "display_data"
    },
    {
     "data": {
      "text/html": [
       " View run <strong style=\"color:#cdcd00\">valiant-sweep-8</strong> at: <a href='https://wandb.ai/wisdom-jihyekim-aiffel/WandB_with_kfold_used_by_Jindeok/runs/ngl7kmj2' target=\"_blank\">https://wandb.ai/wisdom-jihyekim-aiffel/WandB_with_kfold_used_by_Jindeok/runs/ngl7kmj2</a><br/>Synced 5 W&B file(s), 0 media file(s), 0 artifact file(s) and 0 other file(s)"
      ],
      "text/plain": [
       "<IPython.core.display.HTML object>"
      ]
     },
     "metadata": {},
     "output_type": "display_data"
    },
    {
     "data": {
      "text/html": [
       "Find logs at: <code>./wandb/run-20241116_212109-ngl7kmj2/logs</code>"
      ],
      "text/plain": [
       "<IPython.core.display.HTML object>"
      ]
     },
     "metadata": {},
     "output_type": "display_data"
    },
    {
     "data": {
      "text/html": [
       "Successfully finished last run (ID:ngl7kmj2). Initializing new run:<br/>"
      ],
      "text/plain": [
       "<IPython.core.display.HTML object>"
      ]
     },
     "metadata": {},
     "output_type": "display_data"
    },
    {
     "data": {
      "application/vnd.jupyter.widget-view+json": {
       "model_id": "eeb6dc8bd7d8440e8d505bba1d668a0a",
       "version_major": 2,
       "version_minor": 0
      },
      "text/plain": [
       "VBox(children=(Label(value='Waiting for wandb.init()...\\r'), FloatProgress(value=0.011113473488916902, max=1.0…"
      ]
     },
     "metadata": {},
     "output_type": "display_data"
    },
    {
     "data": {
      "text/html": [
       "wandb version 0.18.7 is available!  To upgrade, please run:\n",
       " $ pip install wandb --upgrade"
      ],
      "text/plain": [
       "<IPython.core.display.HTML object>"
      ]
     },
     "metadata": {},
     "output_type": "display_data"
    },
    {
     "data": {
      "text/html": [
       "Tracking run with wandb version 0.16.0"
      ],
      "text/plain": [
       "<IPython.core.display.HTML object>"
      ]
     },
     "metadata": {},
     "output_type": "display_data"
    },
    {
     "data": {
      "text/html": [
       "Run data is saved locally in <code>/aiffel/aiffel/wandb/run-20241116_212110-ngl7kmj2</code>"
      ],
      "text/plain": [
       "<IPython.core.display.HTML object>"
      ]
     },
     "metadata": {},
     "output_type": "display_data"
    },
    {
     "data": {
      "text/html": [
       "Syncing run <strong><a href='https://wandb.ai/wisdom-jihyekim-aiffel/WandB_with_kfold_used_by_Jindeok/runs/ngl7kmj2' target=\"_blank\">fold-1</a></strong> to <a href='https://wandb.ai/wisdom-jihyekim-aiffel/WandB_with_kfold_used_by_Jindeok' target=\"_blank\">Weights & Biases</a> (<a href='https://wandb.me/run' target=\"_blank\">docs</a>)<br/>Sweep page: <a href='https://wandb.ai/wisdom-jihyekim-aiffel/WandB_with_kfold_used_by_Jindeok/sweeps/zhdriy11' target=\"_blank\">https://wandb.ai/wisdom-jihyekim-aiffel/WandB_with_kfold_used_by_Jindeok/sweeps/zhdriy11</a>"
      ],
      "text/plain": [
       "<IPython.core.display.HTML object>"
      ]
     },
     "metadata": {},
     "output_type": "display_data"
    },
    {
     "data": {
      "text/html": [
       " View project at <a href='https://wandb.ai/wisdom-jihyekim-aiffel/WandB_with_kfold_used_by_Jindeok' target=\"_blank\">https://wandb.ai/wisdom-jihyekim-aiffel/WandB_with_kfold_used_by_Jindeok</a>"
      ],
      "text/plain": [
       "<IPython.core.display.HTML object>"
      ]
     },
     "metadata": {},
     "output_type": "display_data"
    },
    {
     "data": {
      "text/html": [
       " View sweep at <a href='https://wandb.ai/wisdom-jihyekim-aiffel/WandB_with_kfold_used_by_Jindeok/sweeps/zhdriy11' target=\"_blank\">https://wandb.ai/wisdom-jihyekim-aiffel/WandB_with_kfold_used_by_Jindeok/sweeps/zhdriy11</a>"
      ],
      "text/plain": [
       "<IPython.core.display.HTML object>"
      ]
     },
     "metadata": {},
     "output_type": "display_data"
    },
    {
     "data": {
      "text/html": [
       " View run at <a href='https://wandb.ai/wisdom-jihyekim-aiffel/WandB_with_kfold_used_by_Jindeok/runs/ngl7kmj2' target=\"_blank\">https://wandb.ai/wisdom-jihyekim-aiffel/WandB_with_kfold_used_by_Jindeok/runs/ngl7kmj2</a>"
      ],
      "text/plain": [
       "<IPython.core.display.HTML object>"
      ]
     },
     "metadata": {},
     "output_type": "display_data"
    },
    {
     "name": "stdout",
     "output_type": "stream",
     "text": [
      "Epoch 1/8\n",
      "23/23 [==============================] - 11s 436ms/step - loss: 1.8775 - accuracy: 0.2444 - val_loss: 1.6136 - val_accuracy: 0.3444\n",
      "INFO:tensorflow:Assets written to: /aiffel/aiffel/wandb/run-20241116_212110-ngl7kmj2/files/model-best/assets\n"
     ]
    },
    {
     "name": "stderr",
     "output_type": "stream",
     "text": [
      "\u001b[34m\u001b[1mwandb\u001b[0m: Adding directory to artifact (/aiffel/aiffel/wandb/run-20241116_212110-ngl7kmj2/files/model-best)... Done. 0.0s\n"
     ]
    },
    {
     "name": "stdout",
     "output_type": "stream",
     "text": [
      "Epoch 2/8\n",
      "23/23 [==============================] - 9s 402ms/step - loss: 1.5297 - accuracy: 0.3486 - val_loss: 1.5849 - val_accuracy: 0.3667\n",
      "INFO:tensorflow:Assets written to: /aiffel/aiffel/wandb/run-20241116_212110-ngl7kmj2/files/model-best/assets\n"
     ]
    },
    {
     "name": "stderr",
     "output_type": "stream",
     "text": [
      "\u001b[34m\u001b[1mwandb\u001b[0m: Adding directory to artifact (/aiffel/aiffel/wandb/run-20241116_212110-ngl7kmj2/files/model-best)... Done. 0.0s\n"
     ]
    },
    {
     "name": "stdout",
     "output_type": "stream",
     "text": [
      "Epoch 3/8\n",
      "23/23 [==============================] - 10s 415ms/step - loss: 1.3935 - accuracy: 0.4500 - val_loss: 1.4573 - val_accuracy: 0.3889\n",
      "INFO:tensorflow:Assets written to: /aiffel/aiffel/wandb/run-20241116_212110-ngl7kmj2/files/model-best/assets\n"
     ]
    },
    {
     "name": "stderr",
     "output_type": "stream",
     "text": [
      "\u001b[34m\u001b[1mwandb\u001b[0m: Adding directory to artifact (/aiffel/aiffel/wandb/run-20241116_212110-ngl7kmj2/files/model-best)... Done. 0.0s\n"
     ]
    },
    {
     "name": "stdout",
     "output_type": "stream",
     "text": [
      "Epoch 4/8\n",
      "23/23 [==============================] - 10s 415ms/step - loss: 1.2695 - accuracy: 0.4917 - val_loss: 1.2793 - val_accuracy: 0.4778\n",
      "INFO:tensorflow:Assets written to: /aiffel/aiffel/wandb/run-20241116_212110-ngl7kmj2/files/model-best/assets\n"
     ]
    },
    {
     "name": "stderr",
     "output_type": "stream",
     "text": [
      "\u001b[34m\u001b[1mwandb\u001b[0m: Adding directory to artifact (/aiffel/aiffel/wandb/run-20241116_212110-ngl7kmj2/files/model-best)... Done. 0.0s\n"
     ]
    },
    {
     "name": "stdout",
     "output_type": "stream",
     "text": [
      "Epoch 5/8\n",
      "23/23 [==============================] - 10s 405ms/step - loss: 1.1918 - accuracy: 0.5042 - val_loss: 1.1797 - val_accuracy: 0.5500\n",
      "INFO:tensorflow:Assets written to: /aiffel/aiffel/wandb/run-20241116_212110-ngl7kmj2/files/model-best/assets\n"
     ]
    },
    {
     "name": "stderr",
     "output_type": "stream",
     "text": [
      "\u001b[34m\u001b[1mwandb\u001b[0m: Adding directory to artifact (/aiffel/aiffel/wandb/run-20241116_212110-ngl7kmj2/files/model-best)... Done. 0.0s\n"
     ]
    },
    {
     "name": "stdout",
     "output_type": "stream",
     "text": [
      "Epoch 6/8\n",
      "23/23 [==============================] - 9s 403ms/step - loss: 1.1324 - accuracy: 0.5500 - val_loss: 1.2138 - val_accuracy: 0.5278\n",
      "Epoch 7/8\n",
      "23/23 [==============================] - 9s 407ms/step - loss: 1.0512 - accuracy: 0.5917 - val_loss: 1.1343 - val_accuracy: 0.5500\n",
      "INFO:tensorflow:Assets written to: /aiffel/aiffel/wandb/run-20241116_212110-ngl7kmj2/files/model-best/assets\n"
     ]
    },
    {
     "name": "stderr",
     "output_type": "stream",
     "text": [
      "\u001b[34m\u001b[1mwandb\u001b[0m: Adding directory to artifact (/aiffel/aiffel/wandb/run-20241116_212110-ngl7kmj2/files/model-best)... Done. 0.0s\n"
     ]
    },
    {
     "name": "stdout",
     "output_type": "stream",
     "text": [
      "Epoch 8/8\n",
      "23/23 [==============================] - 10s 406ms/step - loss: 1.0442 - accuracy: 0.5958 - val_loss: 1.0329 - val_accuracy: 0.6056\n",
      "INFO:tensorflow:Assets written to: /aiffel/aiffel/wandb/run-20241116_212110-ngl7kmj2/files/model-best/assets\n"
     ]
    },
    {
     "name": "stderr",
     "output_type": "stream",
     "text": [
      "\u001b[34m\u001b[1mwandb\u001b[0m: Adding directory to artifact (/aiffel/aiffel/wandb/run-20241116_212110-ngl7kmj2/files/model-best)... Done. 0.0s\n"
     ]
    },
    {
     "name": "stdout",
     "output_type": "stream",
     "text": [
      "6/6 [==============================] - 2s 286ms/step - loss: 1.0309 - accuracy: 0.5944\n",
      "Validation Accuracy for fold 1: 59.44%\n"
     ]
    },
    {
     "data": {
      "application/vnd.jupyter.widget-view+json": {
       "model_id": "",
       "version_major": 2,
       "version_minor": 0
      },
      "text/plain": [
       "VBox(children=(Label(value='10.416 MB of 10.416 MB uploaded (0.159 MB deduped)\\r'), FloatProgress(value=1.0, m…"
      ]
     },
     "metadata": {},
     "output_type": "display_data"
    },
    {
     "data": {
      "text/html": [
       "W&B sync reduced upload amount by 1.5%             "
      ],
      "text/plain": [
       "<IPython.core.display.HTML object>"
      ]
     },
     "metadata": {},
     "output_type": "display_data"
    },
    {
     "data": {
      "text/html": [
       "<style>\n",
       "    table.wandb td:nth-child(1) { padding: 0 10px; text-align: left ; width: auto;} td:nth-child(2) {text-align: left ; width: 100%}\n",
       "    .wandb-row { display: flex; flex-direction: row; flex-wrap: wrap; justify-content: flex-start; width: 100% }\n",
       "    .wandb-col { display: flex; flex-direction: column; flex-basis: 100%; flex: 1; padding: 10px; }\n",
       "    </style>\n",
       "<div class=\"wandb-row\"><div class=\"wandb-col\"><h3>Run history:</h3><br/><table class=\"wandb\"><tr><td>accuracy</td><td>▁▃▅▆▆▇██</td></tr><tr><td>epoch</td><td>▁▂▃▄▅▆▇█</td></tr><tr><td>loss</td><td>█▅▄▃▂▂▁▁</td></tr><tr><td>val_accuracy</td><td>▁▂▂▅▇▆▇█</td></tr><tr><td>val_loss</td><td>██▆▄▃▃▂▁</td></tr></table><br/></div><div class=\"wandb-col\"><h3>Run summary:</h3><br/><table class=\"wandb\"><tr><td>accuracy</td><td>0.59583</td></tr><tr><td>best_epoch</td><td>7</td></tr><tr><td>best_val_loss</td><td>1.03289</td></tr><tr><td>epoch</td><td>7</td></tr><tr><td>loss</td><td>1.0442</td></tr><tr><td>val_accuracy</td><td>0.60556</td></tr><tr><td>val_loss</td><td>1.03289</td></tr></table><br/></div></div>"
      ],
      "text/plain": [
       "<IPython.core.display.HTML object>"
      ]
     },
     "metadata": {},
     "output_type": "display_data"
    },
    {
     "data": {
      "text/html": [
       " View run <strong style=\"color:#cdcd00\">fold-1</strong> at: <a href='https://wandb.ai/wisdom-jihyekim-aiffel/WandB_with_kfold_used_by_Jindeok/runs/ngl7kmj2' target=\"_blank\">https://wandb.ai/wisdom-jihyekim-aiffel/WandB_with_kfold_used_by_Jindeok/runs/ngl7kmj2</a><br/>Synced 5 W&B file(s), 1 media file(s), 28 artifact file(s) and 1 other file(s)"
      ],
      "text/plain": [
       "<IPython.core.display.HTML object>"
      ]
     },
     "metadata": {},
     "output_type": "display_data"
    },
    {
     "data": {
      "text/html": [
       "Find logs at: <code>./wandb/run-20241116_212110-ngl7kmj2/logs</code>"
      ],
      "text/plain": [
       "<IPython.core.display.HTML object>"
      ]
     },
     "metadata": {},
     "output_type": "display_data"
    },
    {
     "name": "stderr",
     "output_type": "stream",
     "text": [
      "\u001b[34m\u001b[1mwandb\u001b[0m: \u001b[33mWARNING\u001b[0m Ignored wandb.init() arg project when running a sweep.\n"
     ]
    },
    {
     "name": "stdout",
     "output_type": "stream",
     "text": [
      "Fold: 2 ==================================================================\n",
      "Found 720 validated image filenames belonging to 6 classes.\n",
      "Found 180 validated image filenames belonging to 6 classes.\n"
     ]
    },
    {
     "data": {
      "text/html": [
       "wandb version 0.18.7 is available!  To upgrade, please run:\n",
       " $ pip install wandb --upgrade"
      ],
      "text/plain": [
       "<IPython.core.display.HTML object>"
      ]
     },
     "metadata": {},
     "output_type": "display_data"
    },
    {
     "data": {
      "text/html": [
       "Tracking run with wandb version 0.16.0"
      ],
      "text/plain": [
       "<IPython.core.display.HTML object>"
      ]
     },
     "metadata": {},
     "output_type": "display_data"
    },
    {
     "data": {
      "text/html": [
       "Run data is saved locally in <code>/aiffel/aiffel/wandb/run-20241116_212254-ngl7kmj2</code>"
      ],
      "text/plain": [
       "<IPython.core.display.HTML object>"
      ]
     },
     "metadata": {},
     "output_type": "display_data"
    },
    {
     "data": {
      "text/html": [
       "Syncing run <strong><a href='https://wandb.ai/wisdom-jihyekim-aiffel/WandB_with_kfold_used_by_Jindeok/runs/ngl7kmj2' target=\"_blank\">fold-2</a></strong> to <a href='https://wandb.ai/wisdom-jihyekim-aiffel/WandB_with_kfold_used_by_Jindeok' target=\"_blank\">Weights & Biases</a> (<a href='https://wandb.me/run' target=\"_blank\">docs</a>)<br/>Sweep page: <a href='https://wandb.ai/wisdom-jihyekim-aiffel/WandB_with_kfold_used_by_Jindeok/sweeps/zhdriy11' target=\"_blank\">https://wandb.ai/wisdom-jihyekim-aiffel/WandB_with_kfold_used_by_Jindeok/sweeps/zhdriy11</a>"
      ],
      "text/plain": [
       "<IPython.core.display.HTML object>"
      ]
     },
     "metadata": {},
     "output_type": "display_data"
    },
    {
     "data": {
      "text/html": [
       " View project at <a href='https://wandb.ai/wisdom-jihyekim-aiffel/WandB_with_kfold_used_by_Jindeok' target=\"_blank\">https://wandb.ai/wisdom-jihyekim-aiffel/WandB_with_kfold_used_by_Jindeok</a>"
      ],
      "text/plain": [
       "<IPython.core.display.HTML object>"
      ]
     },
     "metadata": {},
     "output_type": "display_data"
    },
    {
     "data": {
      "text/html": [
       " View sweep at <a href='https://wandb.ai/wisdom-jihyekim-aiffel/WandB_with_kfold_used_by_Jindeok/sweeps/zhdriy11' target=\"_blank\">https://wandb.ai/wisdom-jihyekim-aiffel/WandB_with_kfold_used_by_Jindeok/sweeps/zhdriy11</a>"
      ],
      "text/plain": [
       "<IPython.core.display.HTML object>"
      ]
     },
     "metadata": {},
     "output_type": "display_data"
    },
    {
     "data": {
      "text/html": [
       " View run at <a href='https://wandb.ai/wisdom-jihyekim-aiffel/WandB_with_kfold_used_by_Jindeok/runs/ngl7kmj2' target=\"_blank\">https://wandb.ai/wisdom-jihyekim-aiffel/WandB_with_kfold_used_by_Jindeok/runs/ngl7kmj2</a>"
      ],
      "text/plain": [
       "<IPython.core.display.HTML object>"
      ]
     },
     "metadata": {},
     "output_type": "display_data"
    },
    {
     "name": "stdout",
     "output_type": "stream",
     "text": [
      "Epoch 1/8\n",
      "23/23 [==============================] - 11s 431ms/step - loss: 1.9046 - accuracy: 0.2361 - val_loss: 1.6180 - val_accuracy: 0.2944\n",
      "INFO:tensorflow:Assets written to: /aiffel/aiffel/wandb/run-20241116_212254-ngl7kmj2/files/model-best/assets\n"
     ]
    },
    {
     "name": "stderr",
     "output_type": "stream",
     "text": [
      "\u001b[34m\u001b[1mwandb\u001b[0m: Adding directory to artifact (/aiffel/aiffel/wandb/run-20241116_212254-ngl7kmj2/files/model-best)... Done. 0.0s\n"
     ]
    },
    {
     "name": "stdout",
     "output_type": "stream",
     "text": [
      "Epoch 2/8\n",
      "23/23 [==============================] - 9s 402ms/step - loss: 1.5917 - accuracy: 0.3222 - val_loss: 1.5593 - val_accuracy: 0.3444\n",
      "INFO:tensorflow:Assets written to: /aiffel/aiffel/wandb/run-20241116_212254-ngl7kmj2/files/model-best/assets\n"
     ]
    },
    {
     "name": "stderr",
     "output_type": "stream",
     "text": [
      "\u001b[34m\u001b[1mwandb\u001b[0m: Adding directory to artifact (/aiffel/aiffel/wandb/run-20241116_212254-ngl7kmj2/files/model-best)... Done. 0.0s\n"
     ]
    },
    {
     "name": "stdout",
     "output_type": "stream",
     "text": [
      "Epoch 3/8\n",
      "23/23 [==============================] - 10s 406ms/step - loss: 1.4800 - accuracy: 0.4028 - val_loss: 1.5501 - val_accuracy: 0.4167\n",
      "INFO:tensorflow:Assets written to: /aiffel/aiffel/wandb/run-20241116_212254-ngl7kmj2/files/model-best/assets\n"
     ]
    },
    {
     "name": "stderr",
     "output_type": "stream",
     "text": [
      "\u001b[34m\u001b[1mwandb\u001b[0m: Adding directory to artifact (/aiffel/aiffel/wandb/run-20241116_212254-ngl7kmj2/files/model-best)... Done. 0.0s\n"
     ]
    },
    {
     "name": "stdout",
     "output_type": "stream",
     "text": [
      "Epoch 4/8\n",
      "23/23 [==============================] - 9s 398ms/step - loss: 1.3986 - accuracy: 0.4431 - val_loss: 1.4080 - val_accuracy: 0.4222\n",
      "INFO:tensorflow:Assets written to: /aiffel/aiffel/wandb/run-20241116_212254-ngl7kmj2/files/model-best/assets\n"
     ]
    },
    {
     "name": "stderr",
     "output_type": "stream",
     "text": [
      "\u001b[34m\u001b[1mwandb\u001b[0m: Adding directory to artifact (/aiffel/aiffel/wandb/run-20241116_212254-ngl7kmj2/files/model-best)... Done. 0.0s\n"
     ]
    },
    {
     "name": "stdout",
     "output_type": "stream",
     "text": [
      "Epoch 5/8\n",
      "23/23 [==============================] - 9s 399ms/step - loss: 1.2946 - accuracy: 0.4764 - val_loss: 1.3397 - val_accuracy: 0.4611\n",
      "INFO:tensorflow:Assets written to: /aiffel/aiffel/wandb/run-20241116_212254-ngl7kmj2/files/model-best/assets\n"
     ]
    },
    {
     "name": "stderr",
     "output_type": "stream",
     "text": [
      "\u001b[34m\u001b[1mwandb\u001b[0m: Adding directory to artifact (/aiffel/aiffel/wandb/run-20241116_212254-ngl7kmj2/files/model-best)... Done. 0.0s\n"
     ]
    },
    {
     "name": "stdout",
     "output_type": "stream",
     "text": [
      "Epoch 6/8\n",
      "23/23 [==============================] - 10s 412ms/step - loss: 1.2266 - accuracy: 0.5014 - val_loss: 1.2871 - val_accuracy: 0.5167\n",
      "INFO:tensorflow:Assets written to: /aiffel/aiffel/wandb/run-20241116_212254-ngl7kmj2/files/model-best/assets\n"
     ]
    },
    {
     "name": "stderr",
     "output_type": "stream",
     "text": [
      "\u001b[34m\u001b[1mwandb\u001b[0m: Adding directory to artifact (/aiffel/aiffel/wandb/run-20241116_212254-ngl7kmj2/files/model-best)... Done. 0.0s\n"
     ]
    },
    {
     "name": "stdout",
     "output_type": "stream",
     "text": [
      "Epoch 7/8\n",
      "23/23 [==============================] - 9s 401ms/step - loss: 1.1151 - accuracy: 0.5569 - val_loss: 1.2266 - val_accuracy: 0.5167\n",
      "INFO:tensorflow:Assets written to: /aiffel/aiffel/wandb/run-20241116_212254-ngl7kmj2/files/model-best/assets\n"
     ]
    },
    {
     "name": "stderr",
     "output_type": "stream",
     "text": [
      "\u001b[34m\u001b[1mwandb\u001b[0m: Adding directory to artifact (/aiffel/aiffel/wandb/run-20241116_212254-ngl7kmj2/files/model-best)... Done. 0.0s\n"
     ]
    },
    {
     "name": "stdout",
     "output_type": "stream",
     "text": [
      "Epoch 8/8\n",
      "23/23 [==============================] - 10s 431ms/step - loss: 1.0508 - accuracy: 0.5750 - val_loss: 1.2145 - val_accuracy: 0.5611\n",
      "INFO:tensorflow:Assets written to: /aiffel/aiffel/wandb/run-20241116_212254-ngl7kmj2/files/model-best/assets\n"
     ]
    },
    {
     "name": "stderr",
     "output_type": "stream",
     "text": [
      "\u001b[34m\u001b[1mwandb\u001b[0m: Adding directory to artifact (/aiffel/aiffel/wandb/run-20241116_212254-ngl7kmj2/files/model-best)... Done. 0.0s\n"
     ]
    },
    {
     "name": "stdout",
     "output_type": "stream",
     "text": [
      "6/6 [==============================] - 2s 305ms/step - loss: 1.2115 - accuracy: 0.5278\n",
      "Validation Accuracy for fold 2: 52.78%\n"
     ]
    },
    {
     "data": {
      "application/vnd.jupyter.widget-view+json": {
       "model_id": "",
       "version_major": 2,
       "version_minor": 0
      },
      "text/plain": [
       "VBox(children=(Label(value='11.779 MB of 11.779 MB uploaded (0.182 MB deduped)\\r'), FloatProgress(value=1.0, m…"
      ]
     },
     "metadata": {},
     "output_type": "display_data"
    },
    {
     "data": {
      "text/html": [
       "W&B sync reduced upload amount by 1.5%             "
      ],
      "text/plain": [
       "<IPython.core.display.HTML object>"
      ]
     },
     "metadata": {},
     "output_type": "display_data"
    },
    {
     "data": {
      "text/html": [
       "<style>\n",
       "    table.wandb td:nth-child(1) { padding: 0 10px; text-align: left ; width: auto;} td:nth-child(2) {text-align: left ; width: 100%}\n",
       "    .wandb-row { display: flex; flex-direction: row; flex-wrap: wrap; justify-content: flex-start; width: 100% }\n",
       "    .wandb-col { display: flex; flex-direction: column; flex-basis: 100%; flex: 1; padding: 10px; }\n",
       "    </style>\n",
       "<div class=\"wandb-row\"><div class=\"wandb-col\"><h3>Run history:</h3><br/><table class=\"wandb\"><tr><td>accuracy</td><td>▁▃▄▅▆▆██</td></tr><tr><td>epoch</td><td>▁▂▃▄▅▆▇█</td></tr><tr><td>loss</td><td>█▅▅▄▃▂▂▁</td></tr><tr><td>val_accuracy</td><td>▁▂▄▄▅▇▇█</td></tr><tr><td>val_loss</td><td>█▇▇▄▃▂▁▁</td></tr></table><br/></div><div class=\"wandb-col\"><h3>Run summary:</h3><br/><table class=\"wandb\"><tr><td>accuracy</td><td>0.575</td></tr><tr><td>best_epoch</td><td>7</td></tr><tr><td>best_val_loss</td><td>1.21449</td></tr><tr><td>epoch</td><td>7</td></tr><tr><td>loss</td><td>1.05075</td></tr><tr><td>val_accuracy</td><td>0.56111</td></tr><tr><td>val_loss</td><td>1.21449</td></tr></table><br/></div></div>"
      ],
      "text/plain": [
       "<IPython.core.display.HTML object>"
      ]
     },
     "metadata": {},
     "output_type": "display_data"
    },
    {
     "data": {
      "text/html": [
       " View run <strong style=\"color:#cdcd00\">fold-2</strong> at: <a href='https://wandb.ai/wisdom-jihyekim-aiffel/WandB_with_kfold_used_by_Jindeok/runs/ngl7kmj2' target=\"_blank\">https://wandb.ai/wisdom-jihyekim-aiffel/WandB_with_kfold_used_by_Jindeok/runs/ngl7kmj2</a><br/>Synced 5 W&B file(s), 1 media file(s), 32 artifact file(s) and 1 other file(s)"
      ],
      "text/plain": [
       "<IPython.core.display.HTML object>"
      ]
     },
     "metadata": {},
     "output_type": "display_data"
    },
    {
     "data": {
      "text/html": [
       "Find logs at: <code>./wandb/run-20241116_212254-ngl7kmj2/logs</code>"
      ],
      "text/plain": [
       "<IPython.core.display.HTML object>"
      ]
     },
     "metadata": {},
     "output_type": "display_data"
    },
    {
     "name": "stderr",
     "output_type": "stream",
     "text": [
      "\u001b[34m\u001b[1mwandb\u001b[0m: \u001b[33mWARNING\u001b[0m Ignored wandb.init() arg project when running a sweep.\n"
     ]
    },
    {
     "name": "stdout",
     "output_type": "stream",
     "text": [
      "Fold: 3 ==================================================================\n",
      "Found 720 validated image filenames belonging to 6 classes.\n",
      "Found 180 validated image filenames belonging to 6 classes.\n"
     ]
    },
    {
     "data": {
      "application/vnd.jupyter.widget-view+json": {
       "model_id": "20855f1fd35b40fe985af904c5b5d809",
       "version_major": 2,
       "version_minor": 0
      },
      "text/plain": [
       "VBox(children=(Label(value='Waiting for wandb.init()...\\r'), FloatProgress(value=0.011112951700003275, max=1.0…"
      ]
     },
     "metadata": {},
     "output_type": "display_data"
    },
    {
     "data": {
      "text/html": [
       "wandb version 0.18.7 is available!  To upgrade, please run:\n",
       " $ pip install wandb --upgrade"
      ],
      "text/plain": [
       "<IPython.core.display.HTML object>"
      ]
     },
     "metadata": {},
     "output_type": "display_data"
    },
    {
     "data": {
      "text/html": [
       "Tracking run with wandb version 0.16.0"
      ],
      "text/plain": [
       "<IPython.core.display.HTML object>"
      ]
     },
     "metadata": {},
     "output_type": "display_data"
    },
    {
     "data": {
      "text/html": [
       "Run data is saved locally in <code>/aiffel/aiffel/wandb/run-20241116_212435-ngl7kmj2</code>"
      ],
      "text/plain": [
       "<IPython.core.display.HTML object>"
      ]
     },
     "metadata": {},
     "output_type": "display_data"
    },
    {
     "data": {
      "text/html": [
       "Syncing run <strong><a href='https://wandb.ai/wisdom-jihyekim-aiffel/WandB_with_kfold_used_by_Jindeok/runs/ngl7kmj2' target=\"_blank\">fold-3</a></strong> to <a href='https://wandb.ai/wisdom-jihyekim-aiffel/WandB_with_kfold_used_by_Jindeok' target=\"_blank\">Weights & Biases</a> (<a href='https://wandb.me/run' target=\"_blank\">docs</a>)<br/>Sweep page: <a href='https://wandb.ai/wisdom-jihyekim-aiffel/WandB_with_kfold_used_by_Jindeok/sweeps/zhdriy11' target=\"_blank\">https://wandb.ai/wisdom-jihyekim-aiffel/WandB_with_kfold_used_by_Jindeok/sweeps/zhdriy11</a>"
      ],
      "text/plain": [
       "<IPython.core.display.HTML object>"
      ]
     },
     "metadata": {},
     "output_type": "display_data"
    },
    {
     "data": {
      "text/html": [
       " View project at <a href='https://wandb.ai/wisdom-jihyekim-aiffel/WandB_with_kfold_used_by_Jindeok' target=\"_blank\">https://wandb.ai/wisdom-jihyekim-aiffel/WandB_with_kfold_used_by_Jindeok</a>"
      ],
      "text/plain": [
       "<IPython.core.display.HTML object>"
      ]
     },
     "metadata": {},
     "output_type": "display_data"
    },
    {
     "data": {
      "text/html": [
       " View sweep at <a href='https://wandb.ai/wisdom-jihyekim-aiffel/WandB_with_kfold_used_by_Jindeok/sweeps/zhdriy11' target=\"_blank\">https://wandb.ai/wisdom-jihyekim-aiffel/WandB_with_kfold_used_by_Jindeok/sweeps/zhdriy11</a>"
      ],
      "text/plain": [
       "<IPython.core.display.HTML object>"
      ]
     },
     "metadata": {},
     "output_type": "display_data"
    },
    {
     "data": {
      "text/html": [
       " View run at <a href='https://wandb.ai/wisdom-jihyekim-aiffel/WandB_with_kfold_used_by_Jindeok/runs/ngl7kmj2' target=\"_blank\">https://wandb.ai/wisdom-jihyekim-aiffel/WandB_with_kfold_used_by_Jindeok/runs/ngl7kmj2</a>"
      ],
      "text/plain": [
       "<IPython.core.display.HTML object>"
      ]
     },
     "metadata": {},
     "output_type": "display_data"
    },
    {
     "name": "stdout",
     "output_type": "stream",
     "text": [
      "Epoch 1/8\n",
      "23/23 [==============================] - 11s 421ms/step - loss: 1.7899 - accuracy: 0.2653 - val_loss: 1.6202 - val_accuracy: 0.3500\n",
      "INFO:tensorflow:Assets written to: /aiffel/aiffel/wandb/run-20241116_212435-ngl7kmj2/files/model-best/assets\n"
     ]
    },
    {
     "name": "stderr",
     "output_type": "stream",
     "text": [
      "\u001b[34m\u001b[1mwandb\u001b[0m: Adding directory to artifact (/aiffel/aiffel/wandb/run-20241116_212435-ngl7kmj2/files/model-best)... Done. 0.0s\n"
     ]
    },
    {
     "name": "stdout",
     "output_type": "stream",
     "text": [
      "Epoch 2/8\n",
      "23/23 [==============================] - 10s 412ms/step - loss: 1.5465 - accuracy: 0.3444 - val_loss: 1.3730 - val_accuracy: 0.4278\n",
      "INFO:tensorflow:Assets written to: /aiffel/aiffel/wandb/run-20241116_212435-ngl7kmj2/files/model-best/assets\n"
     ]
    },
    {
     "name": "stderr",
     "output_type": "stream",
     "text": [
      "\u001b[34m\u001b[1mwandb\u001b[0m: Adding directory to artifact (/aiffel/aiffel/wandb/run-20241116_212435-ngl7kmj2/files/model-best)... Done. 0.0s\n"
     ]
    },
    {
     "name": "stdout",
     "output_type": "stream",
     "text": [
      "Epoch 3/8\n",
      "23/23 [==============================] - 9s 405ms/step - loss: 1.4158 - accuracy: 0.3958 - val_loss: 1.2647 - val_accuracy: 0.4944\n",
      "INFO:tensorflow:Assets written to: /aiffel/aiffel/wandb/run-20241116_212435-ngl7kmj2/files/model-best/assets\n"
     ]
    },
    {
     "name": "stderr",
     "output_type": "stream",
     "text": [
      "\u001b[34m\u001b[1mwandb\u001b[0m: Adding directory to artifact (/aiffel/aiffel/wandb/run-20241116_212435-ngl7kmj2/files/model-best)... Done. 0.0s\n"
     ]
    },
    {
     "name": "stdout",
     "output_type": "stream",
     "text": [
      "Epoch 4/8\n",
      "23/23 [==============================] - 10s 410ms/step - loss: 1.3161 - accuracy: 0.4611 - val_loss: 1.1737 - val_accuracy: 0.5222\n",
      "INFO:tensorflow:Assets written to: /aiffel/aiffel/wandb/run-20241116_212435-ngl7kmj2/files/model-best/assets\n"
     ]
    },
    {
     "name": "stderr",
     "output_type": "stream",
     "text": [
      "\u001b[34m\u001b[1mwandb\u001b[0m: Adding directory to artifact (/aiffel/aiffel/wandb/run-20241116_212435-ngl7kmj2/files/model-best)... Done. 0.0s\n"
     ]
    },
    {
     "name": "stdout",
     "output_type": "stream",
     "text": [
      "Epoch 5/8\n",
      "23/23 [==============================] - 9s 397ms/step - loss: 1.2437 - accuracy: 0.5222 - val_loss: 1.1583 - val_accuracy: 0.5389\n",
      "INFO:tensorflow:Assets written to: /aiffel/aiffel/wandb/run-20241116_212435-ngl7kmj2/files/model-best/assets\n"
     ]
    },
    {
     "name": "stderr",
     "output_type": "stream",
     "text": [
      "\u001b[34m\u001b[1mwandb\u001b[0m: Adding directory to artifact (/aiffel/aiffel/wandb/run-20241116_212435-ngl7kmj2/files/model-best)... Done. 0.0s\n"
     ]
    },
    {
     "name": "stdout",
     "output_type": "stream",
     "text": [
      "Epoch 6/8\n",
      "23/23 [==============================] - 9s 403ms/step - loss: 1.0888 - accuracy: 0.5569 - val_loss: 1.0969 - val_accuracy: 0.5333\n",
      "INFO:tensorflow:Assets written to: /aiffel/aiffel/wandb/run-20241116_212435-ngl7kmj2/files/model-best/assets\n"
     ]
    },
    {
     "name": "stderr",
     "output_type": "stream",
     "text": [
      "\u001b[34m\u001b[1mwandb\u001b[0m: Adding directory to artifact (/aiffel/aiffel/wandb/run-20241116_212435-ngl7kmj2/files/model-best)... Done. 0.0s\n"
     ]
    },
    {
     "name": "stdout",
     "output_type": "stream",
     "text": [
      "Epoch 7/8\n",
      "23/23 [==============================] - 9s 402ms/step - loss: 1.0039 - accuracy: 0.6083 - val_loss: 1.0909 - val_accuracy: 0.5833\n",
      "INFO:tensorflow:Assets written to: /aiffel/aiffel/wandb/run-20241116_212435-ngl7kmj2/files/model-best/assets\n"
     ]
    },
    {
     "name": "stderr",
     "output_type": "stream",
     "text": [
      "\u001b[34m\u001b[1mwandb\u001b[0m: Adding directory to artifact (/aiffel/aiffel/wandb/run-20241116_212435-ngl7kmj2/files/model-best)... Done. 0.0s\n"
     ]
    },
    {
     "name": "stdout",
     "output_type": "stream",
     "text": [
      "Epoch 8/8\n",
      "23/23 [==============================] - 10s 413ms/step - loss: 0.9700 - accuracy: 0.6056 - val_loss: 0.9257 - val_accuracy: 0.6500\n",
      "INFO:tensorflow:Assets written to: /aiffel/aiffel/wandb/run-20241116_212435-ngl7kmj2/files/model-best/assets\n"
     ]
    },
    {
     "name": "stderr",
     "output_type": "stream",
     "text": [
      "\u001b[34m\u001b[1mwandb\u001b[0m: Adding directory to artifact (/aiffel/aiffel/wandb/run-20241116_212435-ngl7kmj2/files/model-best)... Done. 0.0s\n"
     ]
    },
    {
     "name": "stdout",
     "output_type": "stream",
     "text": [
      "6/6 [==============================] - 2s 289ms/step - loss: 0.9380 - accuracy: 0.6722\n",
      "Validation Accuracy for fold 3: 67.22%\n"
     ]
    },
    {
     "data": {
      "application/vnd.jupyter.widget-view+json": {
       "model_id": "",
       "version_major": 2,
       "version_minor": 0
      },
      "text/plain": [
       "VBox(children=(Label(value='11.779 MB of 11.779 MB uploaded (0.182 MB deduped)\\r'), FloatProgress(value=1.0, m…"
      ]
     },
     "metadata": {},
     "output_type": "display_data"
    },
    {
     "data": {
      "text/html": [
       "W&B sync reduced upload amount by 1.5%             "
      ],
      "text/plain": [
       "<IPython.core.display.HTML object>"
      ]
     },
     "metadata": {},
     "output_type": "display_data"
    },
    {
     "data": {
      "text/html": [
       "<style>\n",
       "    table.wandb td:nth-child(1) { padding: 0 10px; text-align: left ; width: auto;} td:nth-child(2) {text-align: left ; width: 100%}\n",
       "    .wandb-row { display: flex; flex-direction: row; flex-wrap: wrap; justify-content: flex-start; width: 100% }\n",
       "    .wandb-col { display: flex; flex-direction: column; flex-basis: 100%; flex: 1; padding: 10px; }\n",
       "    </style>\n",
       "<div class=\"wandb-row\"><div class=\"wandb-col\"><h3>Run history:</h3><br/><table class=\"wandb\"><tr><td>accuracy</td><td>▁▃▄▅▆▇██</td></tr><tr><td>epoch</td><td>▁▂▃▄▅▆▇█</td></tr><tr><td>loss</td><td>█▆▅▄▃▂▁▁</td></tr><tr><td>val_accuracy</td><td>▁▃▄▅▅▅▆█</td></tr><tr><td>val_loss</td><td>█▆▄▃▃▃▃▁</td></tr></table><br/></div><div class=\"wandb-col\"><h3>Run summary:</h3><br/><table class=\"wandb\"><tr><td>accuracy</td><td>0.60556</td></tr><tr><td>best_epoch</td><td>7</td></tr><tr><td>best_val_loss</td><td>0.92568</td></tr><tr><td>epoch</td><td>7</td></tr><tr><td>loss</td><td>0.96998</td></tr><tr><td>val_accuracy</td><td>0.65</td></tr><tr><td>val_loss</td><td>0.92568</td></tr></table><br/></div></div>"
      ],
      "text/plain": [
       "<IPython.core.display.HTML object>"
      ]
     },
     "metadata": {},
     "output_type": "display_data"
    },
    {
     "data": {
      "text/html": [
       " View run <strong style=\"color:#cdcd00\">fold-3</strong> at: <a href='https://wandb.ai/wisdom-jihyekim-aiffel/WandB_with_kfold_used_by_Jindeok/runs/ngl7kmj2' target=\"_blank\">https://wandb.ai/wisdom-jihyekim-aiffel/WandB_with_kfold_used_by_Jindeok/runs/ngl7kmj2</a><br/>Synced 5 W&B file(s), 1 media file(s), 32 artifact file(s) and 1 other file(s)"
      ],
      "text/plain": [
       "<IPython.core.display.HTML object>"
      ]
     },
     "metadata": {},
     "output_type": "display_data"
    },
    {
     "data": {
      "text/html": [
       "Find logs at: <code>./wandb/run-20241116_212435-ngl7kmj2/logs</code>"
      ],
      "text/plain": [
       "<IPython.core.display.HTML object>"
      ]
     },
     "metadata": {},
     "output_type": "display_data"
    },
    {
     "name": "stderr",
     "output_type": "stream",
     "text": [
      "\u001b[34m\u001b[1mwandb\u001b[0m: \u001b[33mWARNING\u001b[0m Ignored wandb.init() arg project when running a sweep.\n"
     ]
    },
    {
     "name": "stdout",
     "output_type": "stream",
     "text": [
      "Fold: 4 ==================================================================\n",
      "Found 720 validated image filenames belonging to 6 classes.\n",
      "Found 180 validated image filenames belonging to 6 classes.\n"
     ]
    },
    {
     "data": {
      "text/html": [
       "wandb version 0.18.7 is available!  To upgrade, please run:\n",
       " $ pip install wandb --upgrade"
      ],
      "text/plain": [
       "<IPython.core.display.HTML object>"
      ]
     },
     "metadata": {},
     "output_type": "display_data"
    },
    {
     "data": {
      "text/html": [
       "Tracking run with wandb version 0.16.0"
      ],
      "text/plain": [
       "<IPython.core.display.HTML object>"
      ]
     },
     "metadata": {},
     "output_type": "display_data"
    },
    {
     "data": {
      "text/html": [
       "Run data is saved locally in <code>/aiffel/aiffel/wandb/run-20241116_212616-ngl7kmj2</code>"
      ],
      "text/plain": [
       "<IPython.core.display.HTML object>"
      ]
     },
     "metadata": {},
     "output_type": "display_data"
    },
    {
     "data": {
      "text/html": [
       "Syncing run <strong><a href='https://wandb.ai/wisdom-jihyekim-aiffel/WandB_with_kfold_used_by_Jindeok/runs/ngl7kmj2' target=\"_blank\">fold-4</a></strong> to <a href='https://wandb.ai/wisdom-jihyekim-aiffel/WandB_with_kfold_used_by_Jindeok' target=\"_blank\">Weights & Biases</a> (<a href='https://wandb.me/run' target=\"_blank\">docs</a>)<br/>Sweep page: <a href='https://wandb.ai/wisdom-jihyekim-aiffel/WandB_with_kfold_used_by_Jindeok/sweeps/zhdriy11' target=\"_blank\">https://wandb.ai/wisdom-jihyekim-aiffel/WandB_with_kfold_used_by_Jindeok/sweeps/zhdriy11</a>"
      ],
      "text/plain": [
       "<IPython.core.display.HTML object>"
      ]
     },
     "metadata": {},
     "output_type": "display_data"
    },
    {
     "data": {
      "text/html": [
       " View project at <a href='https://wandb.ai/wisdom-jihyekim-aiffel/WandB_with_kfold_used_by_Jindeok' target=\"_blank\">https://wandb.ai/wisdom-jihyekim-aiffel/WandB_with_kfold_used_by_Jindeok</a>"
      ],
      "text/plain": [
       "<IPython.core.display.HTML object>"
      ]
     },
     "metadata": {},
     "output_type": "display_data"
    },
    {
     "data": {
      "text/html": [
       " View sweep at <a href='https://wandb.ai/wisdom-jihyekim-aiffel/WandB_with_kfold_used_by_Jindeok/sweeps/zhdriy11' target=\"_blank\">https://wandb.ai/wisdom-jihyekim-aiffel/WandB_with_kfold_used_by_Jindeok/sweeps/zhdriy11</a>"
      ],
      "text/plain": [
       "<IPython.core.display.HTML object>"
      ]
     },
     "metadata": {},
     "output_type": "display_data"
    },
    {
     "data": {
      "text/html": [
       " View run at <a href='https://wandb.ai/wisdom-jihyekim-aiffel/WandB_with_kfold_used_by_Jindeok/runs/ngl7kmj2' target=\"_blank\">https://wandb.ai/wisdom-jihyekim-aiffel/WandB_with_kfold_used_by_Jindeok/runs/ngl7kmj2</a>"
      ],
      "text/plain": [
       "<IPython.core.display.HTML object>"
      ]
     },
     "metadata": {},
     "output_type": "display_data"
    },
    {
     "name": "stdout",
     "output_type": "stream",
     "text": [
      "Epoch 1/8\n",
      "23/23 [==============================] - 11s 422ms/step - loss: 1.8322 - accuracy: 0.2347 - val_loss: 1.6951 - val_accuracy: 0.2778\n",
      "INFO:tensorflow:Assets written to: /aiffel/aiffel/wandb/run-20241116_212616-ngl7kmj2/files/model-best/assets\n"
     ]
    },
    {
     "name": "stderr",
     "output_type": "stream",
     "text": [
      "\u001b[34m\u001b[1mwandb\u001b[0m: Adding directory to artifact (/aiffel/aiffel/wandb/run-20241116_212616-ngl7kmj2/files/model-best)... Done. 0.0s\n"
     ]
    },
    {
     "name": "stdout",
     "output_type": "stream",
     "text": [
      "Epoch 2/8\n",
      "23/23 [==============================] - 10s 417ms/step - loss: 1.5756 - accuracy: 0.3583 - val_loss: 1.5894 - val_accuracy: 0.3278\n",
      "INFO:tensorflow:Assets written to: /aiffel/aiffel/wandb/run-20241116_212616-ngl7kmj2/files/model-best/assets\n"
     ]
    },
    {
     "name": "stderr",
     "output_type": "stream",
     "text": [
      "\u001b[34m\u001b[1mwandb\u001b[0m: Adding directory to artifact (/aiffel/aiffel/wandb/run-20241116_212616-ngl7kmj2/files/model-best)... Done. 0.0s\n"
     ]
    },
    {
     "name": "stdout",
     "output_type": "stream",
     "text": [
      "Epoch 3/8\n",
      "23/23 [==============================] - 10s 406ms/step - loss: 1.4130 - accuracy: 0.4208 - val_loss: 1.3947 - val_accuracy: 0.4500\n",
      "INFO:tensorflow:Assets written to: /aiffel/aiffel/wandb/run-20241116_212616-ngl7kmj2/files/model-best/assets\n"
     ]
    },
    {
     "name": "stderr",
     "output_type": "stream",
     "text": [
      "\u001b[34m\u001b[1mwandb\u001b[0m: Adding directory to artifact (/aiffel/aiffel/wandb/run-20241116_212616-ngl7kmj2/files/model-best)... Done. 0.0s\n"
     ]
    },
    {
     "name": "stdout",
     "output_type": "stream",
     "text": [
      "Epoch 4/8\n",
      "23/23 [==============================] - 9s 402ms/step - loss: 1.2972 - accuracy: 0.4722 - val_loss: 1.5100 - val_accuracy: 0.3556\n",
      "Epoch 5/8\n",
      "23/23 [==============================] - 9s 407ms/step - loss: 1.2605 - accuracy: 0.5028 - val_loss: 1.2404 - val_accuracy: 0.4778\n",
      "INFO:tensorflow:Assets written to: /aiffel/aiffel/wandb/run-20241116_212616-ngl7kmj2/files/model-best/assets\n"
     ]
    },
    {
     "name": "stderr",
     "output_type": "stream",
     "text": [
      "\u001b[34m\u001b[1mwandb\u001b[0m: Adding directory to artifact (/aiffel/aiffel/wandb/run-20241116_212616-ngl7kmj2/files/model-best)... Done. 0.0s\n"
     ]
    },
    {
     "name": "stdout",
     "output_type": "stream",
     "text": [
      "Epoch 6/8\n",
      "23/23 [==============================] - 9s 401ms/step - loss: 1.1540 - accuracy: 0.5389 - val_loss: 1.2240 - val_accuracy: 0.5167\n",
      "INFO:tensorflow:Assets written to: /aiffel/aiffel/wandb/run-20241116_212616-ngl7kmj2/files/model-best/assets\n"
     ]
    },
    {
     "name": "stderr",
     "output_type": "stream",
     "text": [
      "\u001b[34m\u001b[1mwandb\u001b[0m: Adding directory to artifact (/aiffel/aiffel/wandb/run-20241116_212616-ngl7kmj2/files/model-best)... Done. 0.0s\n"
     ]
    },
    {
     "name": "stdout",
     "output_type": "stream",
     "text": [
      "Epoch 7/8\n",
      "23/23 [==============================] - 10s 408ms/step - loss: 1.0823 - accuracy: 0.5764 - val_loss: 1.1453 - val_accuracy: 0.5278\n",
      "INFO:tensorflow:Assets written to: /aiffel/aiffel/wandb/run-20241116_212616-ngl7kmj2/files/model-best/assets\n"
     ]
    },
    {
     "name": "stderr",
     "output_type": "stream",
     "text": [
      "\u001b[34m\u001b[1mwandb\u001b[0m: Adding directory to artifact (/aiffel/aiffel/wandb/run-20241116_212616-ngl7kmj2/files/model-best)... Done. 0.0s\n"
     ]
    },
    {
     "name": "stdout",
     "output_type": "stream",
     "text": [
      "Epoch 8/8\n",
      "23/23 [==============================] - 9s 401ms/step - loss: 0.9889 - accuracy: 0.6278 - val_loss: 1.1124 - val_accuracy: 0.5667\n",
      "INFO:tensorflow:Assets written to: /aiffel/aiffel/wandb/run-20241116_212616-ngl7kmj2/files/model-best/assets\n"
     ]
    },
    {
     "name": "stderr",
     "output_type": "stream",
     "text": [
      "\u001b[34m\u001b[1mwandb\u001b[0m: Adding directory to artifact (/aiffel/aiffel/wandb/run-20241116_212616-ngl7kmj2/files/model-best)... Done. 0.0s\n"
     ]
    },
    {
     "name": "stdout",
     "output_type": "stream",
     "text": [
      "6/6 [==============================] - 2s 282ms/step - loss: 1.0863 - accuracy: 0.5667\n",
      "Validation Accuracy for fold 4: 56.67%\n"
     ]
    },
    {
     "data": {
      "application/vnd.jupyter.widget-view+json": {
       "model_id": "",
       "version_major": 2,
       "version_minor": 0
      },
      "text/plain": [
       "VBox(children=(Label(value='10.450 MB of 10.450 MB uploaded (0.159 MB deduped)\\r'), FloatProgress(value=1.0, m…"
      ]
     },
     "metadata": {},
     "output_type": "display_data"
    },
    {
     "data": {
      "text/html": [
       "W&B sync reduced upload amount by 1.5%             "
      ],
      "text/plain": [
       "<IPython.core.display.HTML object>"
      ]
     },
     "metadata": {},
     "output_type": "display_data"
    },
    {
     "data": {
      "text/html": [
       "<style>\n",
       "    table.wandb td:nth-child(1) { padding: 0 10px; text-align: left ; width: auto;} td:nth-child(2) {text-align: left ; width: 100%}\n",
       "    .wandb-row { display: flex; flex-direction: row; flex-wrap: wrap; justify-content: flex-start; width: 100% }\n",
       "    .wandb-col { display: flex; flex-direction: column; flex-basis: 100%; flex: 1; padding: 10px; }\n",
       "    </style>\n",
       "<div class=\"wandb-row\"><div class=\"wandb-col\"><h3>Run history:</h3><br/><table class=\"wandb\"><tr><td>accuracy</td><td>▁▃▄▅▆▆▇█</td></tr><tr><td>epoch</td><td>▁▂▃▄▅▆▇█</td></tr><tr><td>loss</td><td>█▆▅▄▃▂▂▁</td></tr><tr><td>val_accuracy</td><td>▁▂▅▃▆▇▇█</td></tr><tr><td>val_loss</td><td>█▇▄▆▃▂▁▁</td></tr></table><br/></div><div class=\"wandb-col\"><h3>Run summary:</h3><br/><table class=\"wandb\"><tr><td>accuracy</td><td>0.62778</td></tr><tr><td>best_epoch</td><td>7</td></tr><tr><td>best_val_loss</td><td>1.11235</td></tr><tr><td>epoch</td><td>7</td></tr><tr><td>loss</td><td>0.98886</td></tr><tr><td>val_accuracy</td><td>0.56667</td></tr><tr><td>val_loss</td><td>1.11235</td></tr></table><br/></div></div>"
      ],
      "text/plain": [
       "<IPython.core.display.HTML object>"
      ]
     },
     "metadata": {},
     "output_type": "display_data"
    },
    {
     "data": {
      "text/html": [
       " View run <strong style=\"color:#cdcd00\">fold-4</strong> at: <a href='https://wandb.ai/wisdom-jihyekim-aiffel/WandB_with_kfold_used_by_Jindeok/runs/ngl7kmj2' target=\"_blank\">https://wandb.ai/wisdom-jihyekim-aiffel/WandB_with_kfold_used_by_Jindeok/runs/ngl7kmj2</a><br/>Synced 5 W&B file(s), 1 media file(s), 28 artifact file(s) and 1 other file(s)"
      ],
      "text/plain": [
       "<IPython.core.display.HTML object>"
      ]
     },
     "metadata": {},
     "output_type": "display_data"
    },
    {
     "data": {
      "text/html": [
       "Find logs at: <code>./wandb/run-20241116_212616-ngl7kmj2/logs</code>"
      ],
      "text/plain": [
       "<IPython.core.display.HTML object>"
      ]
     },
     "metadata": {},
     "output_type": "display_data"
    },
    {
     "name": "stderr",
     "output_type": "stream",
     "text": [
      "\u001b[34m\u001b[1mwandb\u001b[0m: \u001b[33mWARNING\u001b[0m Ignored wandb.init() arg project when running a sweep.\n"
     ]
    },
    {
     "name": "stdout",
     "output_type": "stream",
     "text": [
      "Fold: 5 ==================================================================\n",
      "Found 720 validated image filenames belonging to 6 classes.\n",
      "Found 180 validated image filenames belonging to 6 classes.\n"
     ]
    },
    {
     "data": {
      "text/html": [
       "wandb version 0.18.7 is available!  To upgrade, please run:\n",
       " $ pip install wandb --upgrade"
      ],
      "text/plain": [
       "<IPython.core.display.HTML object>"
      ]
     },
     "metadata": {},
     "output_type": "display_data"
    },
    {
     "data": {
      "text/html": [
       "Tracking run with wandb version 0.16.0"
      ],
      "text/plain": [
       "<IPython.core.display.HTML object>"
      ]
     },
     "metadata": {},
     "output_type": "display_data"
    },
    {
     "data": {
      "text/html": [
       "Run data is saved locally in <code>/aiffel/aiffel/wandb/run-20241116_212756-ngl7kmj2</code>"
      ],
      "text/plain": [
       "<IPython.core.display.HTML object>"
      ]
     },
     "metadata": {},
     "output_type": "display_data"
    },
    {
     "data": {
      "text/html": [
       "Syncing run <strong><a href='https://wandb.ai/wisdom-jihyekim-aiffel/WandB_with_kfold_used_by_Jindeok/runs/ngl7kmj2' target=\"_blank\">fold-5</a></strong> to <a href='https://wandb.ai/wisdom-jihyekim-aiffel/WandB_with_kfold_used_by_Jindeok' target=\"_blank\">Weights & Biases</a> (<a href='https://wandb.me/run' target=\"_blank\">docs</a>)<br/>Sweep page: <a href='https://wandb.ai/wisdom-jihyekim-aiffel/WandB_with_kfold_used_by_Jindeok/sweeps/zhdriy11' target=\"_blank\">https://wandb.ai/wisdom-jihyekim-aiffel/WandB_with_kfold_used_by_Jindeok/sweeps/zhdriy11</a>"
      ],
      "text/plain": [
       "<IPython.core.display.HTML object>"
      ]
     },
     "metadata": {},
     "output_type": "display_data"
    },
    {
     "data": {
      "text/html": [
       " View project at <a href='https://wandb.ai/wisdom-jihyekim-aiffel/WandB_with_kfold_used_by_Jindeok' target=\"_blank\">https://wandb.ai/wisdom-jihyekim-aiffel/WandB_with_kfold_used_by_Jindeok</a>"
      ],
      "text/plain": [
       "<IPython.core.display.HTML object>"
      ]
     },
     "metadata": {},
     "output_type": "display_data"
    },
    {
     "data": {
      "text/html": [
       " View sweep at <a href='https://wandb.ai/wisdom-jihyekim-aiffel/WandB_with_kfold_used_by_Jindeok/sweeps/zhdriy11' target=\"_blank\">https://wandb.ai/wisdom-jihyekim-aiffel/WandB_with_kfold_used_by_Jindeok/sweeps/zhdriy11</a>"
      ],
      "text/plain": [
       "<IPython.core.display.HTML object>"
      ]
     },
     "metadata": {},
     "output_type": "display_data"
    },
    {
     "data": {
      "text/html": [
       " View run at <a href='https://wandb.ai/wisdom-jihyekim-aiffel/WandB_with_kfold_used_by_Jindeok/runs/ngl7kmj2' target=\"_blank\">https://wandb.ai/wisdom-jihyekim-aiffel/WandB_with_kfold_used_by_Jindeok/runs/ngl7kmj2</a>"
      ],
      "text/plain": [
       "<IPython.core.display.HTML object>"
      ]
     },
     "metadata": {},
     "output_type": "display_data"
    },
    {
     "name": "stdout",
     "output_type": "stream",
     "text": [
      "Epoch 1/8\n",
      "23/23 [==============================] - 11s 437ms/step - loss: 1.8427 - accuracy: 0.2222 - val_loss: 1.6669 - val_accuracy: 0.3000\n",
      "INFO:tensorflow:Assets written to: /aiffel/aiffel/wandb/run-20241116_212756-ngl7kmj2/files/model-best/assets\n"
     ]
    },
    {
     "name": "stderr",
     "output_type": "stream",
     "text": [
      "\u001b[34m\u001b[1mwandb\u001b[0m: Adding directory to artifact (/aiffel/aiffel/wandb/run-20241116_212756-ngl7kmj2/files/model-best)... Done. 0.0s\n"
     ]
    },
    {
     "name": "stdout",
     "output_type": "stream",
     "text": [
      "Epoch 2/8\n",
      "23/23 [==============================] - 10s 406ms/step - loss: 1.5664 - accuracy: 0.3333 - val_loss: 1.5503 - val_accuracy: 0.3444\n",
      "INFO:tensorflow:Assets written to: /aiffel/aiffel/wandb/run-20241116_212756-ngl7kmj2/files/model-best/assets\n"
     ]
    },
    {
     "name": "stderr",
     "output_type": "stream",
     "text": [
      "\u001b[34m\u001b[1mwandb\u001b[0m: Adding directory to artifact (/aiffel/aiffel/wandb/run-20241116_212756-ngl7kmj2/files/model-best)... Done. 0.0s\n"
     ]
    },
    {
     "name": "stdout",
     "output_type": "stream",
     "text": [
      "Epoch 3/8\n",
      "23/23 [==============================] - 9s 406ms/step - loss: 1.4307 - accuracy: 0.3875 - val_loss: 1.5365 - val_accuracy: 0.4000\n",
      "INFO:tensorflow:Assets written to: /aiffel/aiffel/wandb/run-20241116_212756-ngl7kmj2/files/model-best/assets\n"
     ]
    },
    {
     "name": "stderr",
     "output_type": "stream",
     "text": [
      "\u001b[34m\u001b[1mwandb\u001b[0m: Adding directory to artifact (/aiffel/aiffel/wandb/run-20241116_212756-ngl7kmj2/files/model-best)... Done. 0.0s\n"
     ]
    },
    {
     "name": "stdout",
     "output_type": "stream",
     "text": [
      "Epoch 4/8\n",
      "23/23 [==============================] - 9s 404ms/step - loss: 1.3553 - accuracy: 0.4583 - val_loss: 1.3093 - val_accuracy: 0.4389\n",
      "INFO:tensorflow:Assets written to: /aiffel/aiffel/wandb/run-20241116_212756-ngl7kmj2/files/model-best/assets\n"
     ]
    },
    {
     "name": "stderr",
     "output_type": "stream",
     "text": [
      "\u001b[34m\u001b[1mwandb\u001b[0m: Adding directory to artifact (/aiffel/aiffel/wandb/run-20241116_212756-ngl7kmj2/files/model-best)... Done. 0.0s\n"
     ]
    },
    {
     "name": "stdout",
     "output_type": "stream",
     "text": [
      "Epoch 5/8\n",
      "23/23 [==============================] - 10s 405ms/step - loss: 1.2363 - accuracy: 0.4917 - val_loss: 1.4278 - val_accuracy: 0.3944\n",
      "Epoch 6/8\n",
      "23/23 [==============================] - 9s 406ms/step - loss: 1.1921 - accuracy: 0.5139 - val_loss: 1.3249 - val_accuracy: 0.4833\n",
      "Epoch 7/8\n",
      "23/23 [==============================] - 9s 405ms/step - loss: 1.0579 - accuracy: 0.5764 - val_loss: 1.1991 - val_accuracy: 0.5056\n",
      "INFO:tensorflow:Assets written to: /aiffel/aiffel/wandb/run-20241116_212756-ngl7kmj2/files/model-best/assets\n"
     ]
    },
    {
     "name": "stderr",
     "output_type": "stream",
     "text": [
      "\u001b[34m\u001b[1mwandb\u001b[0m: Adding directory to artifact (/aiffel/aiffel/wandb/run-20241116_212756-ngl7kmj2/files/model-best)... Done. 0.0s\n"
     ]
    },
    {
     "name": "stdout",
     "output_type": "stream",
     "text": [
      "Epoch 8/8\n",
      "23/23 [==============================] - 9s 402ms/step - loss: 1.0388 - accuracy: 0.5944 - val_loss: 1.1992 - val_accuracy: 0.5833\n",
      "6/6 [==============================] - 2s 303ms/step - loss: 1.1811 - accuracy: 0.5333\n",
      "Validation Accuracy for fold 5: 53.33%\n"
     ]
    },
    {
     "data": {
      "application/vnd.jupyter.widget-view+json": {
       "model_id": "",
       "version_major": 2,
       "version_minor": 0
      },
      "text/plain": [
       "VBox(children=(Label(value='7.771 MB of 7.771 MB uploaded (0.114 MB deduped)\\r'), FloatProgress(value=1.0, max…"
      ]
     },
     "metadata": {},
     "output_type": "display_data"
    },
    {
     "data": {
      "text/html": [
       "W&B sync reduced upload amount by 1.5%             "
      ],
      "text/plain": [
       "<IPython.core.display.HTML object>"
      ]
     },
     "metadata": {},
     "output_type": "display_data"
    },
    {
     "data": {
      "text/html": [
       "<style>\n",
       "    table.wandb td:nth-child(1) { padding: 0 10px; text-align: left ; width: auto;} td:nth-child(2) {text-align: left ; width: 100%}\n",
       "    .wandb-row { display: flex; flex-direction: row; flex-wrap: wrap; justify-content: flex-start; width: 100% }\n",
       "    .wandb-col { display: flex; flex-direction: column; flex-basis: 100%; flex: 1; padding: 10px; }\n",
       "    </style>\n",
       "<div class=\"wandb-row\"><div class=\"wandb-col\"><h3>Run history:</h3><br/><table class=\"wandb\"><tr><td>accuracy</td><td>▁▃▄▅▆▆██</td></tr><tr><td>epoch</td><td>▁▂▃▄▅▆▇█</td></tr><tr><td>loss</td><td>█▆▄▄▃▂▁▁</td></tr><tr><td>val_accuracy</td><td>▁▂▃▄▃▆▆█</td></tr><tr><td>val_loss</td><td>█▆▆▃▄▃▁▁</td></tr></table><br/></div><div class=\"wandb-col\"><h3>Run summary:</h3><br/><table class=\"wandb\"><tr><td>accuracy</td><td>0.59444</td></tr><tr><td>best_epoch</td><td>6</td></tr><tr><td>best_val_loss</td><td>1.19909</td></tr><tr><td>epoch</td><td>7</td></tr><tr><td>loss</td><td>1.03876</td></tr><tr><td>val_accuracy</td><td>0.58333</td></tr><tr><td>val_loss</td><td>1.19921</td></tr></table><br/></div></div>"
      ],
      "text/plain": [
       "<IPython.core.display.HTML object>"
      ]
     },
     "metadata": {},
     "output_type": "display_data"
    },
    {
     "data": {
      "text/html": [
       " View run <strong style=\"color:#cdcd00\">fold-5</strong> at: <a href='https://wandb.ai/wisdom-jihyekim-aiffel/WandB_with_kfold_used_by_Jindeok/runs/ngl7kmj2' target=\"_blank\">https://wandb.ai/wisdom-jihyekim-aiffel/WandB_with_kfold_used_by_Jindeok/runs/ngl7kmj2</a><br/>Synced 5 W&B file(s), 1 media file(s), 20 artifact file(s) and 1 other file(s)"
      ],
      "text/plain": [
       "<IPython.core.display.HTML object>"
      ]
     },
     "metadata": {},
     "output_type": "display_data"
    },
    {
     "data": {
      "text/html": [
       "Find logs at: <code>./wandb/run-20241116_212756-ngl7kmj2/logs</code>"
      ],
      "text/plain": [
       "<IPython.core.display.HTML object>"
      ]
     },
     "metadata": {},
     "output_type": "display_data"
    },
    {
     "name": "stderr",
     "output_type": "stream",
     "text": [
      "\u001b[34m\u001b[1mwandb\u001b[0m: Agent Starting Run: dq7j63lf with config:\n",
      "\u001b[34m\u001b[1mwandb\u001b[0m: \tepoch: 5\n",
      "\u001b[34m\u001b[1mwandb\u001b[0m: \tlearning_rate: 0.03039956480103832\n"
     ]
    },
    {
     "data": {
      "text/html": [
       "wandb version 0.18.7 is available!  To upgrade, please run:\n",
       " $ pip install wandb --upgrade"
      ],
      "text/plain": [
       "<IPython.core.display.HTML object>"
      ]
     },
     "metadata": {},
     "output_type": "display_data"
    },
    {
     "data": {
      "text/html": [
       "Tracking run with wandb version 0.16.0"
      ],
      "text/plain": [
       "<IPython.core.display.HTML object>"
      ]
     },
     "metadata": {},
     "output_type": "display_data"
    },
    {
     "data": {
      "text/html": [
       "Run data is saved locally in <code>/aiffel/aiffel/wandb/run-20241116_212936-dq7j63lf</code>"
      ],
      "text/plain": [
       "<IPython.core.display.HTML object>"
      ]
     },
     "metadata": {},
     "output_type": "display_data"
    },
    {
     "data": {
      "text/html": [
       "Syncing run <strong><a href='https://wandb.ai/wisdom-jihyekim-aiffel/WandB_with_kfold_used_by_Jindeok/runs/dq7j63lf' target=\"_blank\">ruby-sweep-9</a></strong> to <a href='https://wandb.ai/wisdom-jihyekim-aiffel/WandB_with_kfold_used_by_Jindeok' target=\"_blank\">Weights & Biases</a> (<a href='https://wandb.me/run' target=\"_blank\">docs</a>)<br/>Sweep page: <a href='https://wandb.ai/wisdom-jihyekim-aiffel/WandB_with_kfold_used_by_Jindeok/sweeps/zhdriy11' target=\"_blank\">https://wandb.ai/wisdom-jihyekim-aiffel/WandB_with_kfold_used_by_Jindeok/sweeps/zhdriy11</a>"
      ],
      "text/plain": [
       "<IPython.core.display.HTML object>"
      ]
     },
     "metadata": {},
     "output_type": "display_data"
    },
    {
     "data": {
      "text/html": [
       " View project at <a href='https://wandb.ai/wisdom-jihyekim-aiffel/WandB_with_kfold_used_by_Jindeok' target=\"_blank\">https://wandb.ai/wisdom-jihyekim-aiffel/WandB_with_kfold_used_by_Jindeok</a>"
      ],
      "text/plain": [
       "<IPython.core.display.HTML object>"
      ]
     },
     "metadata": {},
     "output_type": "display_data"
    },
    {
     "data": {
      "text/html": [
       " View sweep at <a href='https://wandb.ai/wisdom-jihyekim-aiffel/WandB_with_kfold_used_by_Jindeok/sweeps/zhdriy11' target=\"_blank\">https://wandb.ai/wisdom-jihyekim-aiffel/WandB_with_kfold_used_by_Jindeok/sweeps/zhdriy11</a>"
      ],
      "text/plain": [
       "<IPython.core.display.HTML object>"
      ]
     },
     "metadata": {},
     "output_type": "display_data"
    },
    {
     "data": {
      "text/html": [
       " View run at <a href='https://wandb.ai/wisdom-jihyekim-aiffel/WandB_with_kfold_used_by_Jindeok/runs/dq7j63lf' target=\"_blank\">https://wandb.ai/wisdom-jihyekim-aiffel/WandB_with_kfold_used_by_Jindeok/runs/dq7j63lf</a>"
      ],
      "text/plain": [
       "<IPython.core.display.HTML object>"
      ]
     },
     "metadata": {},
     "output_type": "display_data"
    },
    {
     "name": "stderr",
     "output_type": "stream",
     "text": [
      "\u001b[34m\u001b[1mwandb\u001b[0m: \u001b[33mWARNING\u001b[0m Ignored wandb.init() arg project when running a sweep.\n"
     ]
    },
    {
     "name": "stdout",
     "output_type": "stream",
     "text": [
      "Fold: 1 ==================================================================\n",
      "Found 720 validated image filenames belonging to 6 classes.\n",
      "Found 180 validated image filenames belonging to 6 classes.\n"
     ]
    },
    {
     "data": {
      "text/html": [
       "Finishing last run (ID:dq7j63lf) before initializing another..."
      ],
      "text/plain": [
       "<IPython.core.display.HTML object>"
      ]
     },
     "metadata": {},
     "output_type": "display_data"
    },
    {
     "data": {
      "application/vnd.jupyter.widget-view+json": {
       "model_id": "",
       "version_major": 2,
       "version_minor": 0
      },
      "text/plain": [
       "VBox(children=(Label(value='0.001 MB of 0.001 MB uploaded\\r'), FloatProgress(value=1.0, max=1.0)))"
      ]
     },
     "metadata": {},
     "output_type": "display_data"
    },
    {
     "data": {
      "text/html": [
       " View run <strong style=\"color:#cdcd00\">ruby-sweep-9</strong> at: <a href='https://wandb.ai/wisdom-jihyekim-aiffel/WandB_with_kfold_used_by_Jindeok/runs/dq7j63lf' target=\"_blank\">https://wandb.ai/wisdom-jihyekim-aiffel/WandB_with_kfold_used_by_Jindeok/runs/dq7j63lf</a><br/>Synced 5 W&B file(s), 0 media file(s), 0 artifact file(s) and 0 other file(s)"
      ],
      "text/plain": [
       "<IPython.core.display.HTML object>"
      ]
     },
     "metadata": {},
     "output_type": "display_data"
    },
    {
     "data": {
      "text/html": [
       "Find logs at: <code>./wandb/run-20241116_212936-dq7j63lf/logs</code>"
      ],
      "text/plain": [
       "<IPython.core.display.HTML object>"
      ]
     },
     "metadata": {},
     "output_type": "display_data"
    },
    {
     "data": {
      "text/html": [
       "Successfully finished last run (ID:dq7j63lf). Initializing new run:<br/>"
      ],
      "text/plain": [
       "<IPython.core.display.HTML object>"
      ]
     },
     "metadata": {},
     "output_type": "display_data"
    },
    {
     "data": {
      "application/vnd.jupyter.widget-view+json": {
       "model_id": "3bb3c4bf0d6a49c09738f7c06ccf25ec",
       "version_major": 2,
       "version_minor": 0
      },
      "text/plain": [
       "VBox(children=(Label(value='Waiting for wandb.init()...\\r'), FloatProgress(value=0.011112526733389435, max=1.0…"
      ]
     },
     "metadata": {},
     "output_type": "display_data"
    },
    {
     "data": {
      "text/html": [
       "wandb version 0.18.7 is available!  To upgrade, please run:\n",
       " $ pip install wandb --upgrade"
      ],
      "text/plain": [
       "<IPython.core.display.HTML object>"
      ]
     },
     "metadata": {},
     "output_type": "display_data"
    },
    {
     "data": {
      "text/html": [
       "Tracking run with wandb version 0.16.0"
      ],
      "text/plain": [
       "<IPython.core.display.HTML object>"
      ]
     },
     "metadata": {},
     "output_type": "display_data"
    },
    {
     "data": {
      "text/html": [
       "Run data is saved locally in <code>/aiffel/aiffel/wandb/run-20241116_212937-dq7j63lf</code>"
      ],
      "text/plain": [
       "<IPython.core.display.HTML object>"
      ]
     },
     "metadata": {},
     "output_type": "display_data"
    },
    {
     "data": {
      "text/html": [
       "Syncing run <strong><a href='https://wandb.ai/wisdom-jihyekim-aiffel/WandB_with_kfold_used_by_Jindeok/runs/dq7j63lf' target=\"_blank\">fold-1</a></strong> to <a href='https://wandb.ai/wisdom-jihyekim-aiffel/WandB_with_kfold_used_by_Jindeok' target=\"_blank\">Weights & Biases</a> (<a href='https://wandb.me/run' target=\"_blank\">docs</a>)<br/>Sweep page: <a href='https://wandb.ai/wisdom-jihyekim-aiffel/WandB_with_kfold_used_by_Jindeok/sweeps/zhdriy11' target=\"_blank\">https://wandb.ai/wisdom-jihyekim-aiffel/WandB_with_kfold_used_by_Jindeok/sweeps/zhdriy11</a>"
      ],
      "text/plain": [
       "<IPython.core.display.HTML object>"
      ]
     },
     "metadata": {},
     "output_type": "display_data"
    },
    {
     "data": {
      "text/html": [
       " View project at <a href='https://wandb.ai/wisdom-jihyekim-aiffel/WandB_with_kfold_used_by_Jindeok' target=\"_blank\">https://wandb.ai/wisdom-jihyekim-aiffel/WandB_with_kfold_used_by_Jindeok</a>"
      ],
      "text/plain": [
       "<IPython.core.display.HTML object>"
      ]
     },
     "metadata": {},
     "output_type": "display_data"
    },
    {
     "data": {
      "text/html": [
       " View sweep at <a href='https://wandb.ai/wisdom-jihyekim-aiffel/WandB_with_kfold_used_by_Jindeok/sweeps/zhdriy11' target=\"_blank\">https://wandb.ai/wisdom-jihyekim-aiffel/WandB_with_kfold_used_by_Jindeok/sweeps/zhdriy11</a>"
      ],
      "text/plain": [
       "<IPython.core.display.HTML object>"
      ]
     },
     "metadata": {},
     "output_type": "display_data"
    },
    {
     "data": {
      "text/html": [
       " View run at <a href='https://wandb.ai/wisdom-jihyekim-aiffel/WandB_with_kfold_used_by_Jindeok/runs/dq7j63lf' target=\"_blank\">https://wandb.ai/wisdom-jihyekim-aiffel/WandB_with_kfold_used_by_Jindeok/runs/dq7j63lf</a>"
      ],
      "text/plain": [
       "<IPython.core.display.HTML object>"
      ]
     },
     "metadata": {},
     "output_type": "display_data"
    },
    {
     "name": "stdout",
     "output_type": "stream",
     "text": [
      "Epoch 1/5\n",
      "23/23 [==============================] - 11s 427ms/step - loss: 1.7882 - accuracy: 0.2722 - val_loss: 1.6105 - val_accuracy: 0.3389\n",
      "INFO:tensorflow:Assets written to: /aiffel/aiffel/wandb/run-20241116_212937-dq7j63lf/files/model-best/assets\n"
     ]
    },
    {
     "name": "stderr",
     "output_type": "stream",
     "text": [
      "\u001b[34m\u001b[1mwandb\u001b[0m: Adding directory to artifact (/aiffel/aiffel/wandb/run-20241116_212937-dq7j63lf/files/model-best)... Done. 0.0s\n"
     ]
    },
    {
     "name": "stdout",
     "output_type": "stream",
     "text": [
      "Epoch 2/5\n",
      "23/23 [==============================] - 10s 422ms/step - loss: 1.5571 - accuracy: 0.3556 - val_loss: 1.6449 - val_accuracy: 0.3556\n",
      "Epoch 3/5\n",
      "23/23 [==============================] - 10s 412ms/step - loss: 1.4286 - accuracy: 0.4125 - val_loss: 1.4051 - val_accuracy: 0.4556\n",
      "INFO:tensorflow:Assets written to: /aiffel/aiffel/wandb/run-20241116_212937-dq7j63lf/files/model-best/assets\n"
     ]
    },
    {
     "name": "stderr",
     "output_type": "stream",
     "text": [
      "\u001b[34m\u001b[1mwandb\u001b[0m: Adding directory to artifact (/aiffel/aiffel/wandb/run-20241116_212937-dq7j63lf/files/model-best)... Done. 0.0s\n"
     ]
    },
    {
     "name": "stdout",
     "output_type": "stream",
     "text": [
      "Epoch 4/5\n",
      "23/23 [==============================] - 9s 403ms/step - loss: 1.2851 - accuracy: 0.4931 - val_loss: 1.3493 - val_accuracy: 0.4278\n",
      "INFO:tensorflow:Assets written to: /aiffel/aiffel/wandb/run-20241116_212937-dq7j63lf/files/model-best/assets\n"
     ]
    },
    {
     "name": "stderr",
     "output_type": "stream",
     "text": [
      "\u001b[34m\u001b[1mwandb\u001b[0m: Adding directory to artifact (/aiffel/aiffel/wandb/run-20241116_212937-dq7j63lf/files/model-best)... Done. 0.0s\n"
     ]
    },
    {
     "name": "stdout",
     "output_type": "stream",
     "text": [
      "Epoch 5/5\n",
      "23/23 [==============================] - 9s 404ms/step - loss: 1.2065 - accuracy: 0.5222 - val_loss: 1.2365 - val_accuracy: 0.5167\n",
      "INFO:tensorflow:Assets written to: /aiffel/aiffel/wandb/run-20241116_212937-dq7j63lf/files/model-best/assets\n"
     ]
    },
    {
     "name": "stderr",
     "output_type": "stream",
     "text": [
      "\u001b[34m\u001b[1mwandb\u001b[0m: Adding directory to artifact (/aiffel/aiffel/wandb/run-20241116_212937-dq7j63lf/files/model-best)... Done. 0.0s\n"
     ]
    },
    {
     "name": "stdout",
     "output_type": "stream",
     "text": [
      "6/6 [==============================] - 2s 293ms/step - loss: 1.2697 - accuracy: 0.5278\n",
      "Validation Accuracy for fold 1: 52.78%\n"
     ]
    },
    {
     "data": {
      "application/vnd.jupyter.widget-view+json": {
       "model_id": "",
       "version_major": 2,
       "version_minor": 0
      },
      "text/plain": [
       "VBox(children=(Label(value='6.407 MB of 6.407 MB uploaded (0.091 MB deduped)\\r'), FloatProgress(value=1.0, max…"
      ]
     },
     "metadata": {},
     "output_type": "display_data"
    },
    {
     "data": {
      "text/html": [
       "W&B sync reduced upload amount by 1.4%             "
      ],
      "text/plain": [
       "<IPython.core.display.HTML object>"
      ]
     },
     "metadata": {},
     "output_type": "display_data"
    },
    {
     "data": {
      "text/html": [
       "<style>\n",
       "    table.wandb td:nth-child(1) { padding: 0 10px; text-align: left ; width: auto;} td:nth-child(2) {text-align: left ; width: 100%}\n",
       "    .wandb-row { display: flex; flex-direction: row; flex-wrap: wrap; justify-content: flex-start; width: 100% }\n",
       "    .wandb-col { display: flex; flex-direction: column; flex-basis: 100%; flex: 1; padding: 10px; }\n",
       "    </style>\n",
       "<div class=\"wandb-row\"><div class=\"wandb-col\"><h3>Run history:</h3><br/><table class=\"wandb\"><tr><td>accuracy</td><td>▁▃▅▇█</td></tr><tr><td>epoch</td><td>▁▃▅▆█</td></tr><tr><td>loss</td><td>█▅▄▂▁</td></tr><tr><td>val_accuracy</td><td>▁▂▆▅█</td></tr><tr><td>val_loss</td><td>▇█▄▃▁</td></tr></table><br/></div><div class=\"wandb-col\"><h3>Run summary:</h3><br/><table class=\"wandb\"><tr><td>accuracy</td><td>0.52222</td></tr><tr><td>best_epoch</td><td>4</td></tr><tr><td>best_val_loss</td><td>1.23654</td></tr><tr><td>epoch</td><td>4</td></tr><tr><td>loss</td><td>1.20648</td></tr><tr><td>val_accuracy</td><td>0.51667</td></tr><tr><td>val_loss</td><td>1.23654</td></tr></table><br/></div></div>"
      ],
      "text/plain": [
       "<IPython.core.display.HTML object>"
      ]
     },
     "metadata": {},
     "output_type": "display_data"
    },
    {
     "data": {
      "text/html": [
       " View run <strong style=\"color:#cdcd00\">fold-1</strong> at: <a href='https://wandb.ai/wisdom-jihyekim-aiffel/WandB_with_kfold_used_by_Jindeok/runs/dq7j63lf' target=\"_blank\">https://wandb.ai/wisdom-jihyekim-aiffel/WandB_with_kfold_used_by_Jindeok/runs/dq7j63lf</a><br/>Synced 5 W&B file(s), 1 media file(s), 16 artifact file(s) and 1 other file(s)"
      ],
      "text/plain": [
       "<IPython.core.display.HTML object>"
      ]
     },
     "metadata": {},
     "output_type": "display_data"
    },
    {
     "data": {
      "text/html": [
       "Find logs at: <code>./wandb/run-20241116_212937-dq7j63lf/logs</code>"
      ],
      "text/plain": [
       "<IPython.core.display.HTML object>"
      ]
     },
     "metadata": {},
     "output_type": "display_data"
    },
    {
     "name": "stderr",
     "output_type": "stream",
     "text": [
      "\u001b[34m\u001b[1mwandb\u001b[0m: \u001b[33mWARNING\u001b[0m Ignored wandb.init() arg project when running a sweep.\n"
     ]
    },
    {
     "name": "stdout",
     "output_type": "stream",
     "text": [
      "Fold: 2 ==================================================================\n",
      "Found 720 validated image filenames belonging to 6 classes.\n",
      "Found 180 validated image filenames belonging to 6 classes.\n"
     ]
    },
    {
     "data": {
      "application/vnd.jupyter.widget-view+json": {
       "model_id": "e8bc62346fbc43df9b0a91f67692a7ac",
       "version_major": 2,
       "version_minor": 0
      },
      "text/plain": [
       "VBox(children=(Label(value='Waiting for wandb.init()...\\r'), FloatProgress(value=0.011113452544426158, max=1.0…"
      ]
     },
     "metadata": {},
     "output_type": "display_data"
    },
    {
     "data": {
      "text/html": [
       "wandb version 0.18.7 is available!  To upgrade, please run:\n",
       " $ pip install wandb --upgrade"
      ],
      "text/plain": [
       "<IPython.core.display.HTML object>"
      ]
     },
     "metadata": {},
     "output_type": "display_data"
    },
    {
     "data": {
      "text/html": [
       "Tracking run with wandb version 0.16.0"
      ],
      "text/plain": [
       "<IPython.core.display.HTML object>"
      ]
     },
     "metadata": {},
     "output_type": "display_data"
    },
    {
     "data": {
      "text/html": [
       "Run data is saved locally in <code>/aiffel/aiffel/wandb/run-20241116_213048-dq7j63lf</code>"
      ],
      "text/plain": [
       "<IPython.core.display.HTML object>"
      ]
     },
     "metadata": {},
     "output_type": "display_data"
    },
    {
     "data": {
      "text/html": [
       "Syncing run <strong><a href='https://wandb.ai/wisdom-jihyekim-aiffel/WandB_with_kfold_used_by_Jindeok/runs/dq7j63lf' target=\"_blank\">fold-2</a></strong> to <a href='https://wandb.ai/wisdom-jihyekim-aiffel/WandB_with_kfold_used_by_Jindeok' target=\"_blank\">Weights & Biases</a> (<a href='https://wandb.me/run' target=\"_blank\">docs</a>)<br/>Sweep page: <a href='https://wandb.ai/wisdom-jihyekim-aiffel/WandB_with_kfold_used_by_Jindeok/sweeps/zhdriy11' target=\"_blank\">https://wandb.ai/wisdom-jihyekim-aiffel/WandB_with_kfold_used_by_Jindeok/sweeps/zhdriy11</a>"
      ],
      "text/plain": [
       "<IPython.core.display.HTML object>"
      ]
     },
     "metadata": {},
     "output_type": "display_data"
    },
    {
     "data": {
      "text/html": [
       " View project at <a href='https://wandb.ai/wisdom-jihyekim-aiffel/WandB_with_kfold_used_by_Jindeok' target=\"_blank\">https://wandb.ai/wisdom-jihyekim-aiffel/WandB_with_kfold_used_by_Jindeok</a>"
      ],
      "text/plain": [
       "<IPython.core.display.HTML object>"
      ]
     },
     "metadata": {},
     "output_type": "display_data"
    },
    {
     "data": {
      "text/html": [
       " View sweep at <a href='https://wandb.ai/wisdom-jihyekim-aiffel/WandB_with_kfold_used_by_Jindeok/sweeps/zhdriy11' target=\"_blank\">https://wandb.ai/wisdom-jihyekim-aiffel/WandB_with_kfold_used_by_Jindeok/sweeps/zhdriy11</a>"
      ],
      "text/plain": [
       "<IPython.core.display.HTML object>"
      ]
     },
     "metadata": {},
     "output_type": "display_data"
    },
    {
     "data": {
      "text/html": [
       " View run at <a href='https://wandb.ai/wisdom-jihyekim-aiffel/WandB_with_kfold_used_by_Jindeok/runs/dq7j63lf' target=\"_blank\">https://wandb.ai/wisdom-jihyekim-aiffel/WandB_with_kfold_used_by_Jindeok/runs/dq7j63lf</a>"
      ],
      "text/plain": [
       "<IPython.core.display.HTML object>"
      ]
     },
     "metadata": {},
     "output_type": "display_data"
    },
    {
     "name": "stdout",
     "output_type": "stream",
     "text": [
      "Epoch 1/5\n",
      "23/23 [==============================] - 11s 434ms/step - loss: 1.9695 - accuracy: 0.1681 - val_loss: 1.6977 - val_accuracy: 0.2944\n",
      "INFO:tensorflow:Assets written to: /aiffel/aiffel/wandb/run-20241116_213048-dq7j63lf/files/model-best/assets\n"
     ]
    },
    {
     "name": "stderr",
     "output_type": "stream",
     "text": [
      "\u001b[34m\u001b[1mwandb\u001b[0m: Adding directory to artifact (/aiffel/aiffel/wandb/run-20241116_213048-dq7j63lf/files/model-best)... Done. 0.0s\n"
     ]
    },
    {
     "name": "stdout",
     "output_type": "stream",
     "text": [
      "Epoch 2/5\n",
      "23/23 [==============================] - 9s 404ms/step - loss: 1.6320 - accuracy: 0.3194 - val_loss: 1.6267 - val_accuracy: 0.3278\n",
      "INFO:tensorflow:Assets written to: /aiffel/aiffel/wandb/run-20241116_213048-dq7j63lf/files/model-best/assets\n"
     ]
    },
    {
     "name": "stderr",
     "output_type": "stream",
     "text": [
      "\u001b[34m\u001b[1mwandb\u001b[0m: Adding directory to artifact (/aiffel/aiffel/wandb/run-20241116_213048-dq7j63lf/files/model-best)... Done. 0.0s\n"
     ]
    },
    {
     "name": "stdout",
     "output_type": "stream",
     "text": [
      "Epoch 3/5\n",
      "23/23 [==============================] - 10s 408ms/step - loss: 1.4594 - accuracy: 0.4056 - val_loss: 1.4826 - val_accuracy: 0.3611\n",
      "INFO:tensorflow:Assets written to: /aiffel/aiffel/wandb/run-20241116_213048-dq7j63lf/files/model-best/assets\n"
     ]
    },
    {
     "name": "stderr",
     "output_type": "stream",
     "text": [
      "\u001b[34m\u001b[1mwandb\u001b[0m: Adding directory to artifact (/aiffel/aiffel/wandb/run-20241116_213048-dq7j63lf/files/model-best)... Done. 0.0s\n"
     ]
    },
    {
     "name": "stdout",
     "output_type": "stream",
     "text": [
      "Epoch 4/5\n",
      "23/23 [==============================] - 10s 409ms/step - loss: 1.3150 - accuracy: 0.4458 - val_loss: 1.3589 - val_accuracy: 0.4556\n",
      "INFO:tensorflow:Assets written to: /aiffel/aiffel/wandb/run-20241116_213048-dq7j63lf/files/model-best/assets\n"
     ]
    },
    {
     "name": "stderr",
     "output_type": "stream",
     "text": [
      "\u001b[34m\u001b[1mwandb\u001b[0m: Adding directory to artifact (/aiffel/aiffel/wandb/run-20241116_213048-dq7j63lf/files/model-best)... Done. 0.0s\n"
     ]
    },
    {
     "name": "stdout",
     "output_type": "stream",
     "text": [
      "Epoch 5/5\n",
      "23/23 [==============================] - 10s 407ms/step - loss: 1.2161 - accuracy: 0.4889 - val_loss: 1.3279 - val_accuracy: 0.4556\n",
      "INFO:tensorflow:Assets written to: /aiffel/aiffel/wandb/run-20241116_213048-dq7j63lf/files/model-best/assets\n"
     ]
    },
    {
     "name": "stderr",
     "output_type": "stream",
     "text": [
      "\u001b[34m\u001b[1mwandb\u001b[0m: Adding directory to artifact (/aiffel/aiffel/wandb/run-20241116_213048-dq7j63lf/files/model-best)... Done. 0.0s\n"
     ]
    },
    {
     "name": "stdout",
     "output_type": "stream",
     "text": [
      "6/6 [==============================] - 2s 291ms/step - loss: 1.2958 - accuracy: 0.4889\n",
      "Validation Accuracy for fold 2: 48.89%\n"
     ]
    },
    {
     "data": {
      "application/vnd.jupyter.widget-view+json": {
       "model_id": "",
       "version_major": 2,
       "version_minor": 0
      },
      "text/plain": [
       "VBox(children=(Label(value='7.761 MB of 7.761 MB uploaded (0.114 MB deduped)\\r'), FloatProgress(value=1.0, max…"
      ]
     },
     "metadata": {},
     "output_type": "display_data"
    },
    {
     "data": {
      "text/html": [
       "W&B sync reduced upload amount by 1.5%             "
      ],
      "text/plain": [
       "<IPython.core.display.HTML object>"
      ]
     },
     "metadata": {},
     "output_type": "display_data"
    },
    {
     "data": {
      "text/html": [
       "<style>\n",
       "    table.wandb td:nth-child(1) { padding: 0 10px; text-align: left ; width: auto;} td:nth-child(2) {text-align: left ; width: 100%}\n",
       "    .wandb-row { display: flex; flex-direction: row; flex-wrap: wrap; justify-content: flex-start; width: 100% }\n",
       "    .wandb-col { display: flex; flex-direction: column; flex-basis: 100%; flex: 1; padding: 10px; }\n",
       "    </style>\n",
       "<div class=\"wandb-row\"><div class=\"wandb-col\"><h3>Run history:</h3><br/><table class=\"wandb\"><tr><td>accuracy</td><td>▁▄▆▇█</td></tr><tr><td>epoch</td><td>▁▃▅▆█</td></tr><tr><td>loss</td><td>█▅▃▂▁</td></tr><tr><td>val_accuracy</td><td>▁▂▄██</td></tr><tr><td>val_loss</td><td>█▇▄▂▁</td></tr></table><br/></div><div class=\"wandb-col\"><h3>Run summary:</h3><br/><table class=\"wandb\"><tr><td>accuracy</td><td>0.48889</td></tr><tr><td>best_epoch</td><td>4</td></tr><tr><td>best_val_loss</td><td>1.32785</td></tr><tr><td>epoch</td><td>4</td></tr><tr><td>loss</td><td>1.21607</td></tr><tr><td>val_accuracy</td><td>0.45556</td></tr><tr><td>val_loss</td><td>1.32785</td></tr></table><br/></div></div>"
      ],
      "text/plain": [
       "<IPython.core.display.HTML object>"
      ]
     },
     "metadata": {},
     "output_type": "display_data"
    },
    {
     "data": {
      "text/html": [
       " View run <strong style=\"color:#cdcd00\">fold-2</strong> at: <a href='https://wandb.ai/wisdom-jihyekim-aiffel/WandB_with_kfold_used_by_Jindeok/runs/dq7j63lf' target=\"_blank\">https://wandb.ai/wisdom-jihyekim-aiffel/WandB_with_kfold_used_by_Jindeok/runs/dq7j63lf</a><br/>Synced 5 W&B file(s), 1 media file(s), 20 artifact file(s) and 1 other file(s)"
      ],
      "text/plain": [
       "<IPython.core.display.HTML object>"
      ]
     },
     "metadata": {},
     "output_type": "display_data"
    },
    {
     "data": {
      "text/html": [
       "Find logs at: <code>./wandb/run-20241116_213048-dq7j63lf/logs</code>"
      ],
      "text/plain": [
       "<IPython.core.display.HTML object>"
      ]
     },
     "metadata": {},
     "output_type": "display_data"
    },
    {
     "name": "stderr",
     "output_type": "stream",
     "text": [
      "\u001b[34m\u001b[1mwandb\u001b[0m: \u001b[33mWARNING\u001b[0m Ignored wandb.init() arg project when running a sweep.\n"
     ]
    },
    {
     "name": "stdout",
     "output_type": "stream",
     "text": [
      "Fold: 3 ==================================================================\n",
      "Found 720 validated image filenames belonging to 6 classes.\n",
      "Found 180 validated image filenames belonging to 6 classes.\n"
     ]
    },
    {
     "data": {
      "application/vnd.jupyter.widget-view+json": {
       "model_id": "34a99c63ff5647e08f51d7119511876d",
       "version_major": 2,
       "version_minor": 0
      },
      "text/plain": [
       "VBox(children=(Label(value='Waiting for wandb.init()...\\r'), FloatProgress(value=0.011113685666674023, max=1.0…"
      ]
     },
     "metadata": {},
     "output_type": "display_data"
    },
    {
     "data": {
      "text/html": [
       "wandb version 0.18.7 is available!  To upgrade, please run:\n",
       " $ pip install wandb --upgrade"
      ],
      "text/plain": [
       "<IPython.core.display.HTML object>"
      ]
     },
     "metadata": {},
     "output_type": "display_data"
    },
    {
     "data": {
      "text/html": [
       "Tracking run with wandb version 0.16.0"
      ],
      "text/plain": [
       "<IPython.core.display.HTML object>"
      ]
     },
     "metadata": {},
     "output_type": "display_data"
    },
    {
     "data": {
      "text/html": [
       "Run data is saved locally in <code>/aiffel/aiffel/wandb/run-20241116_213155-dq7j63lf</code>"
      ],
      "text/plain": [
       "<IPython.core.display.HTML object>"
      ]
     },
     "metadata": {},
     "output_type": "display_data"
    },
    {
     "data": {
      "text/html": [
       "Syncing run <strong><a href='https://wandb.ai/wisdom-jihyekim-aiffel/WandB_with_kfold_used_by_Jindeok/runs/dq7j63lf' target=\"_blank\">fold-3</a></strong> to <a href='https://wandb.ai/wisdom-jihyekim-aiffel/WandB_with_kfold_used_by_Jindeok' target=\"_blank\">Weights & Biases</a> (<a href='https://wandb.me/run' target=\"_blank\">docs</a>)<br/>Sweep page: <a href='https://wandb.ai/wisdom-jihyekim-aiffel/WandB_with_kfold_used_by_Jindeok/sweeps/zhdriy11' target=\"_blank\">https://wandb.ai/wisdom-jihyekim-aiffel/WandB_with_kfold_used_by_Jindeok/sweeps/zhdriy11</a>"
      ],
      "text/plain": [
       "<IPython.core.display.HTML object>"
      ]
     },
     "metadata": {},
     "output_type": "display_data"
    },
    {
     "data": {
      "text/html": [
       " View project at <a href='https://wandb.ai/wisdom-jihyekim-aiffel/WandB_with_kfold_used_by_Jindeok' target=\"_blank\">https://wandb.ai/wisdom-jihyekim-aiffel/WandB_with_kfold_used_by_Jindeok</a>"
      ],
      "text/plain": [
       "<IPython.core.display.HTML object>"
      ]
     },
     "metadata": {},
     "output_type": "display_data"
    },
    {
     "data": {
      "text/html": [
       " View sweep at <a href='https://wandb.ai/wisdom-jihyekim-aiffel/WandB_with_kfold_used_by_Jindeok/sweeps/zhdriy11' target=\"_blank\">https://wandb.ai/wisdom-jihyekim-aiffel/WandB_with_kfold_used_by_Jindeok/sweeps/zhdriy11</a>"
      ],
      "text/plain": [
       "<IPython.core.display.HTML object>"
      ]
     },
     "metadata": {},
     "output_type": "display_data"
    },
    {
     "data": {
      "text/html": [
       " View run at <a href='https://wandb.ai/wisdom-jihyekim-aiffel/WandB_with_kfold_used_by_Jindeok/runs/dq7j63lf' target=\"_blank\">https://wandb.ai/wisdom-jihyekim-aiffel/WandB_with_kfold_used_by_Jindeok/runs/dq7j63lf</a>"
      ],
      "text/plain": [
       "<IPython.core.display.HTML object>"
      ]
     },
     "metadata": {},
     "output_type": "display_data"
    },
    {
     "name": "stdout",
     "output_type": "stream",
     "text": [
      "Epoch 1/5\n",
      "23/23 [==============================] - 11s 434ms/step - loss: 1.9370 - accuracy: 0.2389 - val_loss: 1.6395 - val_accuracy: 0.2944\n",
      "INFO:tensorflow:Assets written to: /aiffel/aiffel/wandb/run-20241116_213155-dq7j63lf/files/model-best/assets\n"
     ]
    },
    {
     "name": "stderr",
     "output_type": "stream",
     "text": [
      "\u001b[34m\u001b[1mwandb\u001b[0m: Adding directory to artifact (/aiffel/aiffel/wandb/run-20241116_213155-dq7j63lf/files/model-best)... Done. 0.0s\n"
     ]
    },
    {
     "name": "stdout",
     "output_type": "stream",
     "text": [
      "Epoch 2/5\n",
      "23/23 [==============================] - 9s 402ms/step - loss: 1.5899 - accuracy: 0.3208 - val_loss: 1.4919 - val_accuracy: 0.3444\n",
      "INFO:tensorflow:Assets written to: /aiffel/aiffel/wandb/run-20241116_213155-dq7j63lf/files/model-best/assets\n"
     ]
    },
    {
     "name": "stderr",
     "output_type": "stream",
     "text": [
      "\u001b[34m\u001b[1mwandb\u001b[0m: Adding directory to artifact (/aiffel/aiffel/wandb/run-20241116_213155-dq7j63lf/files/model-best)... Done. 0.0s\n"
     ]
    },
    {
     "name": "stdout",
     "output_type": "stream",
     "text": [
      "Epoch 3/5\n",
      "23/23 [==============================] - 10s 408ms/step - loss: 1.4610 - accuracy: 0.3764 - val_loss: 1.3503 - val_accuracy: 0.4167\n",
      "INFO:tensorflow:Assets written to: /aiffel/aiffel/wandb/run-20241116_213155-dq7j63lf/files/model-best/assets\n"
     ]
    },
    {
     "name": "stderr",
     "output_type": "stream",
     "text": [
      "\u001b[34m\u001b[1mwandb\u001b[0m: Adding directory to artifact (/aiffel/aiffel/wandb/run-20241116_213155-dq7j63lf/files/model-best)... Done. 0.0s\n"
     ]
    },
    {
     "name": "stdout",
     "output_type": "stream",
     "text": [
      "Epoch 4/5\n",
      "23/23 [==============================] - 9s 406ms/step - loss: 1.3225 - accuracy: 0.4583 - val_loss: 1.3453 - val_accuracy: 0.4611\n",
      "INFO:tensorflow:Assets written to: /aiffel/aiffel/wandb/run-20241116_213155-dq7j63lf/files/model-best/assets\n"
     ]
    },
    {
     "name": "stderr",
     "output_type": "stream",
     "text": [
      "\u001b[34m\u001b[1mwandb\u001b[0m: Adding directory to artifact (/aiffel/aiffel/wandb/run-20241116_213155-dq7j63lf/files/model-best)... Done. 0.0s\n"
     ]
    },
    {
     "name": "stdout",
     "output_type": "stream",
     "text": [
      "Epoch 5/5\n",
      "23/23 [==============================] - 10s 407ms/step - loss: 1.2562 - accuracy: 0.4875 - val_loss: 1.2260 - val_accuracy: 0.5111\n",
      "INFO:tensorflow:Assets written to: /aiffel/aiffel/wandb/run-20241116_213155-dq7j63lf/files/model-best/assets\n"
     ]
    },
    {
     "name": "stderr",
     "output_type": "stream",
     "text": [
      "\u001b[34m\u001b[1mwandb\u001b[0m: Adding directory to artifact (/aiffel/aiffel/wandb/run-20241116_213155-dq7j63lf/files/model-best)... Done. 0.0s\n"
     ]
    },
    {
     "name": "stdout",
     "output_type": "stream",
     "text": [
      "6/6 [==============================] - 2s 290ms/step - loss: 1.2299 - accuracy: 0.5056\n",
      "Validation Accuracy for fold 3: 50.56%\n"
     ]
    },
    {
     "data": {
      "application/vnd.jupyter.widget-view+json": {
       "model_id": "",
       "version_major": 2,
       "version_minor": 0
      },
      "text/plain": [
       "VBox(children=(Label(value='7.057 MB of 7.057 MB uploaded (0.114 MB deduped)\\r'), FloatProgress(value=1.0, max…"
      ]
     },
     "metadata": {},
     "output_type": "display_data"
    },
    {
     "data": {
      "text/html": [
       "W&B sync reduced upload amount by 1.5%             "
      ],
      "text/plain": [
       "<IPython.core.display.HTML object>"
      ]
     },
     "metadata": {},
     "output_type": "display_data"
    },
    {
     "data": {
      "text/html": [
       "<style>\n",
       "    table.wandb td:nth-child(1) { padding: 0 10px; text-align: left ; width: auto;} td:nth-child(2) {text-align: left ; width: 100%}\n",
       "    .wandb-row { display: flex; flex-direction: row; flex-wrap: wrap; justify-content: flex-start; width: 100% }\n",
       "    .wandb-col { display: flex; flex-direction: column; flex-basis: 100%; flex: 1; padding: 10px; }\n",
       "    </style>\n",
       "<div class=\"wandb-row\"><div class=\"wandb-col\"><h3>Run history:</h3><br/><table class=\"wandb\"><tr><td>accuracy</td><td>▁▃▅▇█</td></tr><tr><td>epoch</td><td>▁▃▅▆█</td></tr><tr><td>loss</td><td>█▄▃▂▁</td></tr><tr><td>val_accuracy</td><td>▁▃▅▆█</td></tr><tr><td>val_loss</td><td>█▆▃▃▁</td></tr></table><br/></div><div class=\"wandb-col\"><h3>Run summary:</h3><br/><table class=\"wandb\"><tr><td>accuracy</td><td>0.4875</td></tr><tr><td>best_epoch</td><td>4</td></tr><tr><td>best_val_loss</td><td>1.22597</td></tr><tr><td>epoch</td><td>4</td></tr><tr><td>loss</td><td>1.25621</td></tr><tr><td>val_accuracy</td><td>0.51111</td></tr><tr><td>val_loss</td><td>1.22597</td></tr></table><br/></div></div>"
      ],
      "text/plain": [
       "<IPython.core.display.HTML object>"
      ]
     },
     "metadata": {},
     "output_type": "display_data"
    },
    {
     "data": {
      "text/html": [
       " View run <strong style=\"color:#cdcd00\">fold-3</strong> at: <a href='https://wandb.ai/wisdom-jihyekim-aiffel/WandB_with_kfold_used_by_Jindeok/runs/dq7j63lf' target=\"_blank\">https://wandb.ai/wisdom-jihyekim-aiffel/WandB_with_kfold_used_by_Jindeok/runs/dq7j63lf</a><br/>Synced 5 W&B file(s), 1 media file(s), 20 artifact file(s) and 1 other file(s)"
      ],
      "text/plain": [
       "<IPython.core.display.HTML object>"
      ]
     },
     "metadata": {},
     "output_type": "display_data"
    },
    {
     "data": {
      "text/html": [
       "Find logs at: <code>./wandb/run-20241116_213155-dq7j63lf/logs</code>"
      ],
      "text/plain": [
       "<IPython.core.display.HTML object>"
      ]
     },
     "metadata": {},
     "output_type": "display_data"
    },
    {
     "name": "stderr",
     "output_type": "stream",
     "text": [
      "\u001b[34m\u001b[1mwandb\u001b[0m: \u001b[33mWARNING\u001b[0m Ignored wandb.init() arg project when running a sweep.\n"
     ]
    },
    {
     "name": "stdout",
     "output_type": "stream",
     "text": [
      "Fold: 4 ==================================================================\n",
      "Found 720 validated image filenames belonging to 6 classes.\n",
      "Found 180 validated image filenames belonging to 6 classes.\n"
     ]
    },
    {
     "data": {
      "application/vnd.jupyter.widget-view+json": {
       "model_id": "f8002a90e3c24e0c9383963ea0765bba",
       "version_major": 2,
       "version_minor": 0
      },
      "text/plain": [
       "VBox(children=(Label(value='Waiting for wandb.init()...\\r'), FloatProgress(value=0.011112608066630654, max=1.0…"
      ]
     },
     "metadata": {},
     "output_type": "display_data"
    },
    {
     "data": {
      "text/html": [
       "wandb version 0.18.7 is available!  To upgrade, please run:\n",
       " $ pip install wandb --upgrade"
      ],
      "text/plain": [
       "<IPython.core.display.HTML object>"
      ]
     },
     "metadata": {},
     "output_type": "display_data"
    },
    {
     "data": {
      "text/html": [
       "Tracking run with wandb version 0.16.0"
      ],
      "text/plain": [
       "<IPython.core.display.HTML object>"
      ]
     },
     "metadata": {},
     "output_type": "display_data"
    },
    {
     "data": {
      "text/html": [
       "Run data is saved locally in <code>/aiffel/aiffel/wandb/run-20241116_213304-dq7j63lf</code>"
      ],
      "text/plain": [
       "<IPython.core.display.HTML object>"
      ]
     },
     "metadata": {},
     "output_type": "display_data"
    },
    {
     "data": {
      "text/html": [
       "Syncing run <strong><a href='https://wandb.ai/wisdom-jihyekim-aiffel/WandB_with_kfold_used_by_Jindeok/runs/dq7j63lf' target=\"_blank\">fold-4</a></strong> to <a href='https://wandb.ai/wisdom-jihyekim-aiffel/WandB_with_kfold_used_by_Jindeok' target=\"_blank\">Weights & Biases</a> (<a href='https://wandb.me/run' target=\"_blank\">docs</a>)<br/>Sweep page: <a href='https://wandb.ai/wisdom-jihyekim-aiffel/WandB_with_kfold_used_by_Jindeok/sweeps/zhdriy11' target=\"_blank\">https://wandb.ai/wisdom-jihyekim-aiffel/WandB_with_kfold_used_by_Jindeok/sweeps/zhdriy11</a>"
      ],
      "text/plain": [
       "<IPython.core.display.HTML object>"
      ]
     },
     "metadata": {},
     "output_type": "display_data"
    },
    {
     "data": {
      "text/html": [
       " View project at <a href='https://wandb.ai/wisdom-jihyekim-aiffel/WandB_with_kfold_used_by_Jindeok' target=\"_blank\">https://wandb.ai/wisdom-jihyekim-aiffel/WandB_with_kfold_used_by_Jindeok</a>"
      ],
      "text/plain": [
       "<IPython.core.display.HTML object>"
      ]
     },
     "metadata": {},
     "output_type": "display_data"
    },
    {
     "data": {
      "text/html": [
       " View sweep at <a href='https://wandb.ai/wisdom-jihyekim-aiffel/WandB_with_kfold_used_by_Jindeok/sweeps/zhdriy11' target=\"_blank\">https://wandb.ai/wisdom-jihyekim-aiffel/WandB_with_kfold_used_by_Jindeok/sweeps/zhdriy11</a>"
      ],
      "text/plain": [
       "<IPython.core.display.HTML object>"
      ]
     },
     "metadata": {},
     "output_type": "display_data"
    },
    {
     "data": {
      "text/html": [
       " View run at <a href='https://wandb.ai/wisdom-jihyekim-aiffel/WandB_with_kfold_used_by_Jindeok/runs/dq7j63lf' target=\"_blank\">https://wandb.ai/wisdom-jihyekim-aiffel/WandB_with_kfold_used_by_Jindeok/runs/dq7j63lf</a>"
      ],
      "text/plain": [
       "<IPython.core.display.HTML object>"
      ]
     },
     "metadata": {},
     "output_type": "display_data"
    },
    {
     "name": "stdout",
     "output_type": "stream",
     "text": [
      "Epoch 1/5\n",
      "23/23 [==============================] - 11s 426ms/step - loss: 1.9456 - accuracy: 0.2194 - val_loss: 1.6958 - val_accuracy: 0.2611\n",
      "INFO:tensorflow:Assets written to: /aiffel/aiffel/wandb/run-20241116_213304-dq7j63lf/files/model-best/assets\n"
     ]
    },
    {
     "name": "stderr",
     "output_type": "stream",
     "text": [
      "\u001b[34m\u001b[1mwandb\u001b[0m: Adding directory to artifact (/aiffel/aiffel/wandb/run-20241116_213304-dq7j63lf/files/model-best)... Done. 0.0s\n"
     ]
    },
    {
     "name": "stdout",
     "output_type": "stream",
     "text": [
      "Epoch 2/5\n",
      "23/23 [==============================] - 9s 405ms/step - loss: 1.5969 - accuracy: 0.3833 - val_loss: 1.4758 - val_accuracy: 0.3778\n",
      "INFO:tensorflow:Assets written to: /aiffel/aiffel/wandb/run-20241116_213304-dq7j63lf/files/model-best/assets\n"
     ]
    },
    {
     "name": "stderr",
     "output_type": "stream",
     "text": [
      "\u001b[34m\u001b[1mwandb\u001b[0m: Adding directory to artifact (/aiffel/aiffel/wandb/run-20241116_213304-dq7j63lf/files/model-best)... Done. 0.0s\n"
     ]
    },
    {
     "name": "stdout",
     "output_type": "stream",
     "text": [
      "Epoch 3/5\n",
      "23/23 [==============================] - 9s 405ms/step - loss: 1.4307 - accuracy: 0.4361 - val_loss: 1.4587 - val_accuracy: 0.3778\n",
      "INFO:tensorflow:Assets written to: /aiffel/aiffel/wandb/run-20241116_213304-dq7j63lf/files/model-best/assets\n"
     ]
    },
    {
     "name": "stderr",
     "output_type": "stream",
     "text": [
      "\u001b[34m\u001b[1mwandb\u001b[0m: Adding directory to artifact (/aiffel/aiffel/wandb/run-20241116_213304-dq7j63lf/files/model-best)... Done. 0.0s\n"
     ]
    },
    {
     "name": "stdout",
     "output_type": "stream",
     "text": [
      "Epoch 4/5\n",
      "23/23 [==============================] - 9s 405ms/step - loss: 1.3509 - accuracy: 0.4597 - val_loss: 1.3008 - val_accuracy: 0.4667\n",
      "INFO:tensorflow:Assets written to: /aiffel/aiffel/wandb/run-20241116_213304-dq7j63lf/files/model-best/assets\n"
     ]
    },
    {
     "name": "stderr",
     "output_type": "stream",
     "text": [
      "\u001b[34m\u001b[1mwandb\u001b[0m: Adding directory to artifact (/aiffel/aiffel/wandb/run-20241116_213304-dq7j63lf/files/model-best)... Done. 0.0s\n"
     ]
    },
    {
     "name": "stdout",
     "output_type": "stream",
     "text": [
      "Epoch 5/5\n",
      "23/23 [==============================] - 10s 415ms/step - loss: 1.2952 - accuracy: 0.4764 - val_loss: 1.2030 - val_accuracy: 0.5500\n",
      "INFO:tensorflow:Assets written to: /aiffel/aiffel/wandb/run-20241116_213304-dq7j63lf/files/model-best/assets\n"
     ]
    },
    {
     "name": "stderr",
     "output_type": "stream",
     "text": [
      "\u001b[34m\u001b[1mwandb\u001b[0m: Adding directory to artifact (/aiffel/aiffel/wandb/run-20241116_213304-dq7j63lf/files/model-best)... Done. 0.0s\n"
     ]
    },
    {
     "name": "stdout",
     "output_type": "stream",
     "text": [
      "6/6 [==============================] - 2s 283ms/step - loss: 1.2439 - accuracy: 0.5444\n",
      "Validation Accuracy for fold 4: 54.44%\n"
     ]
    },
    {
     "data": {
      "application/vnd.jupyter.widget-view+json": {
       "model_id": "",
       "version_major": 2,
       "version_minor": 0
      },
      "text/plain": [
       "VBox(children=(Label(value='7.769 MB of 7.769 MB uploaded (0.114 MB deduped)\\r'), FloatProgress(value=1.0, max…"
      ]
     },
     "metadata": {},
     "output_type": "display_data"
    },
    {
     "data": {
      "text/html": [
       "W&B sync reduced upload amount by 1.5%             "
      ],
      "text/plain": [
       "<IPython.core.display.HTML object>"
      ]
     },
     "metadata": {},
     "output_type": "display_data"
    },
    {
     "data": {
      "text/html": [
       "<style>\n",
       "    table.wandb td:nth-child(1) { padding: 0 10px; text-align: left ; width: auto;} td:nth-child(2) {text-align: left ; width: 100%}\n",
       "    .wandb-row { display: flex; flex-direction: row; flex-wrap: wrap; justify-content: flex-start; width: 100% }\n",
       "    .wandb-col { display: flex; flex-direction: column; flex-basis: 100%; flex: 1; padding: 10px; }\n",
       "    </style>\n",
       "<div class=\"wandb-row\"><div class=\"wandb-col\"><h3>Run history:</h3><br/><table class=\"wandb\"><tr><td>accuracy</td><td>▁▅▇██</td></tr><tr><td>epoch</td><td>▁▃▅▆█</td></tr><tr><td>loss</td><td>█▄▂▂▁</td></tr><tr><td>val_accuracy</td><td>▁▄▄▆█</td></tr><tr><td>val_loss</td><td>█▅▅▂▁</td></tr></table><br/></div><div class=\"wandb-col\"><h3>Run summary:</h3><br/><table class=\"wandb\"><tr><td>accuracy</td><td>0.47639</td></tr><tr><td>best_epoch</td><td>4</td></tr><tr><td>best_val_loss</td><td>1.20304</td></tr><tr><td>epoch</td><td>4</td></tr><tr><td>loss</td><td>1.29525</td></tr><tr><td>val_accuracy</td><td>0.55</td></tr><tr><td>val_loss</td><td>1.20304</td></tr></table><br/></div></div>"
      ],
      "text/plain": [
       "<IPython.core.display.HTML object>"
      ]
     },
     "metadata": {},
     "output_type": "display_data"
    },
    {
     "data": {
      "text/html": [
       " View run <strong style=\"color:#cdcd00\">fold-4</strong> at: <a href='https://wandb.ai/wisdom-jihyekim-aiffel/WandB_with_kfold_used_by_Jindeok/runs/dq7j63lf' target=\"_blank\">https://wandb.ai/wisdom-jihyekim-aiffel/WandB_with_kfold_used_by_Jindeok/runs/dq7j63lf</a><br/>Synced 5 W&B file(s), 1 media file(s), 20 artifact file(s) and 1 other file(s)"
      ],
      "text/plain": [
       "<IPython.core.display.HTML object>"
      ]
     },
     "metadata": {},
     "output_type": "display_data"
    },
    {
     "data": {
      "text/html": [
       "Find logs at: <code>./wandb/run-20241116_213304-dq7j63lf/logs</code>"
      ],
      "text/plain": [
       "<IPython.core.display.HTML object>"
      ]
     },
     "metadata": {},
     "output_type": "display_data"
    },
    {
     "name": "stderr",
     "output_type": "stream",
     "text": [
      "\u001b[34m\u001b[1mwandb\u001b[0m: \u001b[33mWARNING\u001b[0m Ignored wandb.init() arg project when running a sweep.\n"
     ]
    },
    {
     "name": "stdout",
     "output_type": "stream",
     "text": [
      "Fold: 5 ==================================================================\n",
      "Found 720 validated image filenames belonging to 6 classes.\n",
      "Found 180 validated image filenames belonging to 6 classes.\n"
     ]
    },
    {
     "data": {
      "text/html": [
       "wandb version 0.18.7 is available!  To upgrade, please run:\n",
       " $ pip install wandb --upgrade"
      ],
      "text/plain": [
       "<IPython.core.display.HTML object>"
      ]
     },
     "metadata": {},
     "output_type": "display_data"
    },
    {
     "data": {
      "text/html": [
       "Tracking run with wandb version 0.16.0"
      ],
      "text/plain": [
       "<IPython.core.display.HTML object>"
      ]
     },
     "metadata": {},
     "output_type": "display_data"
    },
    {
     "data": {
      "text/html": [
       "Run data is saved locally in <code>/aiffel/aiffel/wandb/run-20241116_213411-dq7j63lf</code>"
      ],
      "text/plain": [
       "<IPython.core.display.HTML object>"
      ]
     },
     "metadata": {},
     "output_type": "display_data"
    },
    {
     "data": {
      "text/html": [
       "Syncing run <strong><a href='https://wandb.ai/wisdom-jihyekim-aiffel/WandB_with_kfold_used_by_Jindeok/runs/dq7j63lf' target=\"_blank\">fold-5</a></strong> to <a href='https://wandb.ai/wisdom-jihyekim-aiffel/WandB_with_kfold_used_by_Jindeok' target=\"_blank\">Weights & Biases</a> (<a href='https://wandb.me/run' target=\"_blank\">docs</a>)<br/>Sweep page: <a href='https://wandb.ai/wisdom-jihyekim-aiffel/WandB_with_kfold_used_by_Jindeok/sweeps/zhdriy11' target=\"_blank\">https://wandb.ai/wisdom-jihyekim-aiffel/WandB_with_kfold_used_by_Jindeok/sweeps/zhdriy11</a>"
      ],
      "text/plain": [
       "<IPython.core.display.HTML object>"
      ]
     },
     "metadata": {},
     "output_type": "display_data"
    },
    {
     "data": {
      "text/html": [
       " View project at <a href='https://wandb.ai/wisdom-jihyekim-aiffel/WandB_with_kfold_used_by_Jindeok' target=\"_blank\">https://wandb.ai/wisdom-jihyekim-aiffel/WandB_with_kfold_used_by_Jindeok</a>"
      ],
      "text/plain": [
       "<IPython.core.display.HTML object>"
      ]
     },
     "metadata": {},
     "output_type": "display_data"
    },
    {
     "data": {
      "text/html": [
       " View sweep at <a href='https://wandb.ai/wisdom-jihyekim-aiffel/WandB_with_kfold_used_by_Jindeok/sweeps/zhdriy11' target=\"_blank\">https://wandb.ai/wisdom-jihyekim-aiffel/WandB_with_kfold_used_by_Jindeok/sweeps/zhdriy11</a>"
      ],
      "text/plain": [
       "<IPython.core.display.HTML object>"
      ]
     },
     "metadata": {},
     "output_type": "display_data"
    },
    {
     "data": {
      "text/html": [
       " View run at <a href='https://wandb.ai/wisdom-jihyekim-aiffel/WandB_with_kfold_used_by_Jindeok/runs/dq7j63lf' target=\"_blank\">https://wandb.ai/wisdom-jihyekim-aiffel/WandB_with_kfold_used_by_Jindeok/runs/dq7j63lf</a>"
      ],
      "text/plain": [
       "<IPython.core.display.HTML object>"
      ]
     },
     "metadata": {},
     "output_type": "display_data"
    },
    {
     "name": "stdout",
     "output_type": "stream",
     "text": [
      "Epoch 1/5\n",
      "23/23 [==============================] - 11s 428ms/step - loss: 1.8347 - accuracy: 0.2444 - val_loss: 1.6525 - val_accuracy: 0.3444\n",
      "INFO:tensorflow:Assets written to: /aiffel/aiffel/wandb/run-20241116_213411-dq7j63lf/files/model-best/assets\n"
     ]
    },
    {
     "name": "stderr",
     "output_type": "stream",
     "text": [
      "\u001b[34m\u001b[1mwandb\u001b[0m: Adding directory to artifact (/aiffel/aiffel/wandb/run-20241116_213411-dq7j63lf/files/model-best)... Done. 0.0s\n"
     ]
    },
    {
     "name": "stdout",
     "output_type": "stream",
     "text": [
      "Epoch 2/5\n",
      "23/23 [==============================] - 10s 408ms/step - loss: 1.5742 - accuracy: 0.3181 - val_loss: 1.5296 - val_accuracy: 0.3833\n",
      "INFO:tensorflow:Assets written to: /aiffel/aiffel/wandb/run-20241116_213411-dq7j63lf/files/model-best/assets\n"
     ]
    },
    {
     "name": "stderr",
     "output_type": "stream",
     "text": [
      "\u001b[34m\u001b[1mwandb\u001b[0m: Adding directory to artifact (/aiffel/aiffel/wandb/run-20241116_213411-dq7j63lf/files/model-best)... Done. 0.0s\n"
     ]
    },
    {
     "name": "stdout",
     "output_type": "stream",
     "text": [
      "Epoch 3/5\n",
      "23/23 [==============================] - 10s 406ms/step - loss: 1.4254 - accuracy: 0.4014 - val_loss: 1.3652 - val_accuracy: 0.4389\n",
      "INFO:tensorflow:Assets written to: /aiffel/aiffel/wandb/run-20241116_213411-dq7j63lf/files/model-best/assets\n"
     ]
    },
    {
     "name": "stderr",
     "output_type": "stream",
     "text": [
      "\u001b[34m\u001b[1mwandb\u001b[0m: Adding directory to artifact (/aiffel/aiffel/wandb/run-20241116_213411-dq7j63lf/files/model-best)... Done. 0.0s\n"
     ]
    },
    {
     "name": "stdout",
     "output_type": "stream",
     "text": [
      "Epoch 4/5\n",
      "23/23 [==============================] - 9s 404ms/step - loss: 1.3261 - accuracy: 0.4514 - val_loss: 1.4130 - val_accuracy: 0.4000\n",
      "Epoch 5/5\n",
      "23/23 [==============================] - 9s 408ms/step - loss: 1.3052 - accuracy: 0.4722 - val_loss: 1.3296 - val_accuracy: 0.4556\n",
      "INFO:tensorflow:Assets written to: /aiffel/aiffel/wandb/run-20241116_213411-dq7j63lf/files/model-best/assets\n"
     ]
    },
    {
     "name": "stderr",
     "output_type": "stream",
     "text": [
      "\u001b[34m\u001b[1mwandb\u001b[0m: Adding directory to artifact (/aiffel/aiffel/wandb/run-20241116_213411-dq7j63lf/files/model-best)... Done. 0.0s\n"
     ]
    },
    {
     "name": "stdout",
     "output_type": "stream",
     "text": [
      "6/6 [==============================] - 2s 307ms/step - loss: 1.3030 - accuracy: 0.4778\n",
      "Validation Accuracy for fold 5: 47.78%\n"
     ]
    },
    {
     "data": {
      "application/vnd.jupyter.widget-view+json": {
       "model_id": "",
       "version_major": 2,
       "version_minor": 0
      },
      "text/plain": [
       "VBox(children=(Label(value='6.430 MB of 6.430 MB uploaded (0.091 MB deduped)\\r'), FloatProgress(value=1.0, max…"
      ]
     },
     "metadata": {},
     "output_type": "display_data"
    },
    {
     "data": {
      "text/html": [
       "W&B sync reduced upload amount by 1.4%             "
      ],
      "text/plain": [
       "<IPython.core.display.HTML object>"
      ]
     },
     "metadata": {},
     "output_type": "display_data"
    },
    {
     "data": {
      "text/html": [
       "<style>\n",
       "    table.wandb td:nth-child(1) { padding: 0 10px; text-align: left ; width: auto;} td:nth-child(2) {text-align: left ; width: 100%}\n",
       "    .wandb-row { display: flex; flex-direction: row; flex-wrap: wrap; justify-content: flex-start; width: 100% }\n",
       "    .wandb-col { display: flex; flex-direction: column; flex-basis: 100%; flex: 1; padding: 10px; }\n",
       "    </style>\n",
       "<div class=\"wandb-row\"><div class=\"wandb-col\"><h3>Run history:</h3><br/><table class=\"wandb\"><tr><td>accuracy</td><td>▁▃▆▇█</td></tr><tr><td>epoch</td><td>▁▃▅▆█</td></tr><tr><td>loss</td><td>█▅▃▁▁</td></tr><tr><td>val_accuracy</td><td>▁▃▇▅█</td></tr><tr><td>val_loss</td><td>█▅▂▃▁</td></tr></table><br/></div><div class=\"wandb-col\"><h3>Run summary:</h3><br/><table class=\"wandb\"><tr><td>accuracy</td><td>0.47222</td></tr><tr><td>best_epoch</td><td>4</td></tr><tr><td>best_val_loss</td><td>1.32957</td></tr><tr><td>epoch</td><td>4</td></tr><tr><td>loss</td><td>1.30521</td></tr><tr><td>val_accuracy</td><td>0.45556</td></tr><tr><td>val_loss</td><td>1.32957</td></tr></table><br/></div></div>"
      ],
      "text/plain": [
       "<IPython.core.display.HTML object>"
      ]
     },
     "metadata": {},
     "output_type": "display_data"
    },
    {
     "data": {
      "text/html": [
       " View run <strong style=\"color:#cdcd00\">fold-5</strong> at: <a href='https://wandb.ai/wisdom-jihyekim-aiffel/WandB_with_kfold_used_by_Jindeok/runs/dq7j63lf' target=\"_blank\">https://wandb.ai/wisdom-jihyekim-aiffel/WandB_with_kfold_used_by_Jindeok/runs/dq7j63lf</a><br/>Synced 5 W&B file(s), 1 media file(s), 16 artifact file(s) and 1 other file(s)"
      ],
      "text/plain": [
       "<IPython.core.display.HTML object>"
      ]
     },
     "metadata": {},
     "output_type": "display_data"
    },
    {
     "data": {
      "text/html": [
       "Find logs at: <code>./wandb/run-20241116_213411-dq7j63lf/logs</code>"
      ],
      "text/plain": [
       "<IPython.core.display.HTML object>"
      ]
     },
     "metadata": {},
     "output_type": "display_data"
    },
    {
     "name": "stderr",
     "output_type": "stream",
     "text": [
      "\u001b[34m\u001b[1mwandb\u001b[0m: Agent Starting Run: 2ltw3qs4 with config:\n",
      "\u001b[34m\u001b[1mwandb\u001b[0m: \tepoch: 10\n",
      "\u001b[34m\u001b[1mwandb\u001b[0m: \tlearning_rate: 0.026373166708757296\n"
     ]
    },
    {
     "data": {
      "text/html": [
       "wandb version 0.18.7 is available!  To upgrade, please run:\n",
       " $ pip install wandb --upgrade"
      ],
      "text/plain": [
       "<IPython.core.display.HTML object>"
      ]
     },
     "metadata": {},
     "output_type": "display_data"
    },
    {
     "data": {
      "text/html": [
       "Tracking run with wandb version 0.16.0"
      ],
      "text/plain": [
       "<IPython.core.display.HTML object>"
      ]
     },
     "metadata": {},
     "output_type": "display_data"
    },
    {
     "data": {
      "text/html": [
       "Run data is saved locally in <code>/aiffel/aiffel/wandb/run-20241116_213522-2ltw3qs4</code>"
      ],
      "text/plain": [
       "<IPython.core.display.HTML object>"
      ]
     },
     "metadata": {},
     "output_type": "display_data"
    },
    {
     "data": {
      "text/html": [
       "Syncing run <strong><a href='https://wandb.ai/wisdom-jihyekim-aiffel/WandB_with_kfold_used_by_Jindeok/runs/2ltw3qs4' target=\"_blank\">royal-sweep-10</a></strong> to <a href='https://wandb.ai/wisdom-jihyekim-aiffel/WandB_with_kfold_used_by_Jindeok' target=\"_blank\">Weights & Biases</a> (<a href='https://wandb.me/run' target=\"_blank\">docs</a>)<br/>Sweep page: <a href='https://wandb.ai/wisdom-jihyekim-aiffel/WandB_with_kfold_used_by_Jindeok/sweeps/zhdriy11' target=\"_blank\">https://wandb.ai/wisdom-jihyekim-aiffel/WandB_with_kfold_used_by_Jindeok/sweeps/zhdriy11</a>"
      ],
      "text/plain": [
       "<IPython.core.display.HTML object>"
      ]
     },
     "metadata": {},
     "output_type": "display_data"
    },
    {
     "data": {
      "text/html": [
       " View project at <a href='https://wandb.ai/wisdom-jihyekim-aiffel/WandB_with_kfold_used_by_Jindeok' target=\"_blank\">https://wandb.ai/wisdom-jihyekim-aiffel/WandB_with_kfold_used_by_Jindeok</a>"
      ],
      "text/plain": [
       "<IPython.core.display.HTML object>"
      ]
     },
     "metadata": {},
     "output_type": "display_data"
    },
    {
     "data": {
      "text/html": [
       " View sweep at <a href='https://wandb.ai/wisdom-jihyekim-aiffel/WandB_with_kfold_used_by_Jindeok/sweeps/zhdriy11' target=\"_blank\">https://wandb.ai/wisdom-jihyekim-aiffel/WandB_with_kfold_used_by_Jindeok/sweeps/zhdriy11</a>"
      ],
      "text/plain": [
       "<IPython.core.display.HTML object>"
      ]
     },
     "metadata": {},
     "output_type": "display_data"
    },
    {
     "data": {
      "text/html": [
       " View run at <a href='https://wandb.ai/wisdom-jihyekim-aiffel/WandB_with_kfold_used_by_Jindeok/runs/2ltw3qs4' target=\"_blank\">https://wandb.ai/wisdom-jihyekim-aiffel/WandB_with_kfold_used_by_Jindeok/runs/2ltw3qs4</a>"
      ],
      "text/plain": [
       "<IPython.core.display.HTML object>"
      ]
     },
     "metadata": {},
     "output_type": "display_data"
    },
    {
     "name": "stderr",
     "output_type": "stream",
     "text": [
      "\u001b[34m\u001b[1mwandb\u001b[0m: \u001b[33mWARNING\u001b[0m Ignored wandb.init() arg project when running a sweep.\n"
     ]
    },
    {
     "name": "stdout",
     "output_type": "stream",
     "text": [
      "Fold: 1 ==================================================================\n",
      "Found 720 validated image filenames belonging to 6 classes.\n",
      "Found 180 validated image filenames belonging to 6 classes.\n"
     ]
    },
    {
     "data": {
      "text/html": [
       "Finishing last run (ID:2ltw3qs4) before initializing another..."
      ],
      "text/plain": [
       "<IPython.core.display.HTML object>"
      ]
     },
     "metadata": {},
     "output_type": "display_data"
    },
    {
     "data": {
      "application/vnd.jupyter.widget-view+json": {
       "model_id": "",
       "version_major": 2,
       "version_minor": 0
      },
      "text/plain": [
       "VBox(children=(Label(value='0.001 MB of 0.001 MB uploaded\\r'), FloatProgress(value=1.0, max=1.0)))"
      ]
     },
     "metadata": {},
     "output_type": "display_data"
    },
    {
     "data": {
      "text/html": [
       " View run <strong style=\"color:#cdcd00\">royal-sweep-10</strong> at: <a href='https://wandb.ai/wisdom-jihyekim-aiffel/WandB_with_kfold_used_by_Jindeok/runs/2ltw3qs4' target=\"_blank\">https://wandb.ai/wisdom-jihyekim-aiffel/WandB_with_kfold_used_by_Jindeok/runs/2ltw3qs4</a><br/>Synced 5 W&B file(s), 0 media file(s), 0 artifact file(s) and 0 other file(s)"
      ],
      "text/plain": [
       "<IPython.core.display.HTML object>"
      ]
     },
     "metadata": {},
     "output_type": "display_data"
    },
    {
     "data": {
      "text/html": [
       "Find logs at: <code>./wandb/run-20241116_213522-2ltw3qs4/logs</code>"
      ],
      "text/plain": [
       "<IPython.core.display.HTML object>"
      ]
     },
     "metadata": {},
     "output_type": "display_data"
    },
    {
     "data": {
      "text/html": [
       "Successfully finished last run (ID:2ltw3qs4). Initializing new run:<br/>"
      ],
      "text/plain": [
       "<IPython.core.display.HTML object>"
      ]
     },
     "metadata": {},
     "output_type": "display_data"
    },
    {
     "data": {
      "application/vnd.jupyter.widget-view+json": {
       "model_id": "014b413d14594e75892c8bffb62800a3",
       "version_major": 2,
       "version_minor": 0
      },
      "text/plain": [
       "VBox(children=(Label(value='Waiting for wandb.init()...\\r'), FloatProgress(value=0.011113781199997497, max=1.0…"
      ]
     },
     "metadata": {},
     "output_type": "display_data"
    },
    {
     "data": {
      "text/html": [
       "wandb version 0.18.7 is available!  To upgrade, please run:\n",
       " $ pip install wandb --upgrade"
      ],
      "text/plain": [
       "<IPython.core.display.HTML object>"
      ]
     },
     "metadata": {},
     "output_type": "display_data"
    },
    {
     "data": {
      "text/html": [
       "Tracking run with wandb version 0.16.0"
      ],
      "text/plain": [
       "<IPython.core.display.HTML object>"
      ]
     },
     "metadata": {},
     "output_type": "display_data"
    },
    {
     "data": {
      "text/html": [
       "Run data is saved locally in <code>/aiffel/aiffel/wandb/run-20241116_213523-2ltw3qs4</code>"
      ],
      "text/plain": [
       "<IPython.core.display.HTML object>"
      ]
     },
     "metadata": {},
     "output_type": "display_data"
    },
    {
     "data": {
      "text/html": [
       "Syncing run <strong><a href='https://wandb.ai/wisdom-jihyekim-aiffel/WandB_with_kfold_used_by_Jindeok/runs/2ltw3qs4' target=\"_blank\">fold-1</a></strong> to <a href='https://wandb.ai/wisdom-jihyekim-aiffel/WandB_with_kfold_used_by_Jindeok' target=\"_blank\">Weights & Biases</a> (<a href='https://wandb.me/run' target=\"_blank\">docs</a>)<br/>Sweep page: <a href='https://wandb.ai/wisdom-jihyekim-aiffel/WandB_with_kfold_used_by_Jindeok/sweeps/zhdriy11' target=\"_blank\">https://wandb.ai/wisdom-jihyekim-aiffel/WandB_with_kfold_used_by_Jindeok/sweeps/zhdriy11</a>"
      ],
      "text/plain": [
       "<IPython.core.display.HTML object>"
      ]
     },
     "metadata": {},
     "output_type": "display_data"
    },
    {
     "data": {
      "text/html": [
       " View project at <a href='https://wandb.ai/wisdom-jihyekim-aiffel/WandB_with_kfold_used_by_Jindeok' target=\"_blank\">https://wandb.ai/wisdom-jihyekim-aiffel/WandB_with_kfold_used_by_Jindeok</a>"
      ],
      "text/plain": [
       "<IPython.core.display.HTML object>"
      ]
     },
     "metadata": {},
     "output_type": "display_data"
    },
    {
     "data": {
      "text/html": [
       " View sweep at <a href='https://wandb.ai/wisdom-jihyekim-aiffel/WandB_with_kfold_used_by_Jindeok/sweeps/zhdriy11' target=\"_blank\">https://wandb.ai/wisdom-jihyekim-aiffel/WandB_with_kfold_used_by_Jindeok/sweeps/zhdriy11</a>"
      ],
      "text/plain": [
       "<IPython.core.display.HTML object>"
      ]
     },
     "metadata": {},
     "output_type": "display_data"
    },
    {
     "data": {
      "text/html": [
       " View run at <a href='https://wandb.ai/wisdom-jihyekim-aiffel/WandB_with_kfold_used_by_Jindeok/runs/2ltw3qs4' target=\"_blank\">https://wandb.ai/wisdom-jihyekim-aiffel/WandB_with_kfold_used_by_Jindeok/runs/2ltw3qs4</a>"
      ],
      "text/plain": [
       "<IPython.core.display.HTML object>"
      ]
     },
     "metadata": {},
     "output_type": "display_data"
    },
    {
     "name": "stdout",
     "output_type": "stream",
     "text": [
      "Epoch 1/10\n",
      "23/23 [==============================] - 11s 433ms/step - loss: 1.9161 - accuracy: 0.2431 - val_loss: 1.6978 - val_accuracy: 0.2333\n",
      "INFO:tensorflow:Assets written to: /aiffel/aiffel/wandb/run-20241116_213523-2ltw3qs4/files/model-best/assets\n"
     ]
    },
    {
     "name": "stderr",
     "output_type": "stream",
     "text": [
      "\u001b[34m\u001b[1mwandb\u001b[0m: Adding directory to artifact (/aiffel/aiffel/wandb/run-20241116_213523-2ltw3qs4/files/model-best)... Done. 0.0s\n"
     ]
    },
    {
     "name": "stdout",
     "output_type": "stream",
     "text": [
      "Epoch 2/10\n",
      "23/23 [==============================] - 9s 404ms/step - loss: 1.5641 - accuracy: 0.3597 - val_loss: 1.6322 - val_accuracy: 0.3444\n",
      "INFO:tensorflow:Assets written to: /aiffel/aiffel/wandb/run-20241116_213523-2ltw3qs4/files/model-best/assets\n"
     ]
    },
    {
     "name": "stderr",
     "output_type": "stream",
     "text": [
      "\u001b[34m\u001b[1mwandb\u001b[0m: Adding directory to artifact (/aiffel/aiffel/wandb/run-20241116_213523-2ltw3qs4/files/model-best)... Done. 0.0s\n"
     ]
    },
    {
     "name": "stdout",
     "output_type": "stream",
     "text": [
      "Epoch 3/10\n",
      "23/23 [==============================] - 10s 419ms/step - loss: 1.4252 - accuracy: 0.3903 - val_loss: 1.4868 - val_accuracy: 0.4333\n",
      "INFO:tensorflow:Assets written to: /aiffel/aiffel/wandb/run-20241116_213523-2ltw3qs4/files/model-best/assets\n"
     ]
    },
    {
     "name": "stderr",
     "output_type": "stream",
     "text": [
      "\u001b[34m\u001b[1mwandb\u001b[0m: Adding directory to artifact (/aiffel/aiffel/wandb/run-20241116_213523-2ltw3qs4/files/model-best)... Done. 0.0s\n"
     ]
    },
    {
     "name": "stdout",
     "output_type": "stream",
     "text": [
      "Epoch 4/10\n",
      "23/23 [==============================] - 10s 418ms/step - loss: 1.3818 - accuracy: 0.4472 - val_loss: 1.3634 - val_accuracy: 0.3944\n",
      "INFO:tensorflow:Assets written to: /aiffel/aiffel/wandb/run-20241116_213523-2ltw3qs4/files/model-best/assets\n"
     ]
    },
    {
     "name": "stderr",
     "output_type": "stream",
     "text": [
      "\u001b[34m\u001b[1mwandb\u001b[0m: Adding directory to artifact (/aiffel/aiffel/wandb/run-20241116_213523-2ltw3qs4/files/model-best)... Done. 0.0s\n"
     ]
    },
    {
     "name": "stdout",
     "output_type": "stream",
     "text": [
      "Epoch 5/10\n",
      "23/23 [==============================] - 10s 408ms/step - loss: 1.2439 - accuracy: 0.5000 - val_loss: 1.3559 - val_accuracy: 0.4111\n",
      "INFO:tensorflow:Assets written to: /aiffel/aiffel/wandb/run-20241116_213523-2ltw3qs4/files/model-best/assets\n"
     ]
    },
    {
     "name": "stderr",
     "output_type": "stream",
     "text": [
      "\u001b[34m\u001b[1mwandb\u001b[0m: Adding directory to artifact (/aiffel/aiffel/wandb/run-20241116_213523-2ltw3qs4/files/model-best)... Done. 0.0s\n"
     ]
    },
    {
     "name": "stdout",
     "output_type": "stream",
     "text": [
      "Epoch 6/10\n",
      "23/23 [==============================] - 10s 409ms/step - loss: 1.1711 - accuracy: 0.5361 - val_loss: 1.3981 - val_accuracy: 0.4278\n",
      "Epoch 7/10\n",
      "23/23 [==============================] - 10s 410ms/step - loss: 1.1033 - accuracy: 0.5528 - val_loss: 1.3911 - val_accuracy: 0.4778\n",
      "Epoch 8/10\n",
      "23/23 [==============================] - 9s 407ms/step - loss: 0.9841 - accuracy: 0.6181 - val_loss: 1.1499 - val_accuracy: 0.5111\n",
      "INFO:tensorflow:Assets written to: /aiffel/aiffel/wandb/run-20241116_213523-2ltw3qs4/files/model-best/assets\n"
     ]
    },
    {
     "name": "stderr",
     "output_type": "stream",
     "text": [
      "\u001b[34m\u001b[1mwandb\u001b[0m: Adding directory to artifact (/aiffel/aiffel/wandb/run-20241116_213523-2ltw3qs4/files/model-best)... Done. 0.0s\n"
     ]
    },
    {
     "name": "stdout",
     "output_type": "stream",
     "text": [
      "Epoch 9/10\n",
      "23/23 [==============================] - 9s 402ms/step - loss: 0.9321 - accuracy: 0.6278 - val_loss: 1.1850 - val_accuracy: 0.4722\n",
      "Epoch 10/10\n",
      "23/23 [==============================] - 9s 404ms/step - loss: 0.8711 - accuracy: 0.6722 - val_loss: 1.0020 - val_accuracy: 0.5833\n",
      "INFO:tensorflow:Assets written to: /aiffel/aiffel/wandb/run-20241116_213523-2ltw3qs4/files/model-best/assets\n"
     ]
    },
    {
     "name": "stderr",
     "output_type": "stream",
     "text": [
      "\u001b[34m\u001b[1mwandb\u001b[0m: Adding directory to artifact (/aiffel/aiffel/wandb/run-20241116_213523-2ltw3qs4/files/model-best)... Done. 0.0s\n"
     ]
    },
    {
     "name": "stdout",
     "output_type": "stream",
     "text": [
      "6/6 [==============================] - 2s 278ms/step - loss: 0.9613 - accuracy: 0.6111\n",
      "Validation Accuracy for fold 1: 61.11%\n"
     ]
    },
    {
     "data": {
      "application/vnd.jupyter.widget-view+json": {
       "model_id": "",
       "version_major": 2,
       "version_minor": 0
      },
      "text/plain": [
       "VBox(children=(Label(value='10.418 MB of 10.418 MB uploaded (0.159 MB deduped)\\r'), FloatProgress(value=1.0, m…"
      ]
     },
     "metadata": {},
     "output_type": "display_data"
    },
    {
     "data": {
      "text/html": [
       "W&B sync reduced upload amount by 1.5%             "
      ],
      "text/plain": [
       "<IPython.core.display.HTML object>"
      ]
     },
     "metadata": {},
     "output_type": "display_data"
    },
    {
     "data": {
      "text/html": [
       "<style>\n",
       "    table.wandb td:nth-child(1) { padding: 0 10px; text-align: left ; width: auto;} td:nth-child(2) {text-align: left ; width: 100%}\n",
       "    .wandb-row { display: flex; flex-direction: row; flex-wrap: wrap; justify-content: flex-start; width: 100% }\n",
       "    .wandb-col { display: flex; flex-direction: column; flex-basis: 100%; flex: 1; padding: 10px; }\n",
       "    </style>\n",
       "<div class=\"wandb-row\"><div class=\"wandb-col\"><h3>Run history:</h3><br/><table class=\"wandb\"><tr><td>accuracy</td><td>▁▃▃▄▅▆▆▇▇█</td></tr><tr><td>epoch</td><td>▁▂▃▃▄▅▆▆▇█</td></tr><tr><td>loss</td><td>█▆▅▄▃▃▃▂▁▁</td></tr><tr><td>val_accuracy</td><td>▁▃▅▄▅▅▆▇▆█</td></tr><tr><td>val_loss</td><td>█▇▆▅▅▅▅▂▃▁</td></tr></table><br/></div><div class=\"wandb-col\"><h3>Run summary:</h3><br/><table class=\"wandb\"><tr><td>accuracy</td><td>0.67222</td></tr><tr><td>best_epoch</td><td>9</td></tr><tr><td>best_val_loss</td><td>1.00198</td></tr><tr><td>epoch</td><td>9</td></tr><tr><td>loss</td><td>0.87107</td></tr><tr><td>val_accuracy</td><td>0.58333</td></tr><tr><td>val_loss</td><td>1.00198</td></tr></table><br/></div></div>"
      ],
      "text/plain": [
       "<IPython.core.display.HTML object>"
      ]
     },
     "metadata": {},
     "output_type": "display_data"
    },
    {
     "data": {
      "text/html": [
       " View run <strong style=\"color:#cdcd00\">fold-1</strong> at: <a href='https://wandb.ai/wisdom-jihyekim-aiffel/WandB_with_kfold_used_by_Jindeok/runs/2ltw3qs4' target=\"_blank\">https://wandb.ai/wisdom-jihyekim-aiffel/WandB_with_kfold_used_by_Jindeok/runs/2ltw3qs4</a><br/>Synced 5 W&B file(s), 1 media file(s), 28 artifact file(s) and 1 other file(s)"
      ],
      "text/plain": [
       "<IPython.core.display.HTML object>"
      ]
     },
     "metadata": {},
     "output_type": "display_data"
    },
    {
     "data": {
      "text/html": [
       "Find logs at: <code>./wandb/run-20241116_213523-2ltw3qs4/logs</code>"
      ],
      "text/plain": [
       "<IPython.core.display.HTML object>"
      ]
     },
     "metadata": {},
     "output_type": "display_data"
    },
    {
     "name": "stderr",
     "output_type": "stream",
     "text": [
      "\u001b[34m\u001b[1mwandb\u001b[0m: \u001b[33mWARNING\u001b[0m Ignored wandb.init() arg project when running a sweep.\n"
     ]
    },
    {
     "name": "stdout",
     "output_type": "stream",
     "text": [
      "Fold: 2 ==================================================================\n",
      "Found 720 validated image filenames belonging to 6 classes.\n",
      "Found 180 validated image filenames belonging to 6 classes.\n"
     ]
    },
    {
     "data": {
      "text/html": [
       "wandb version 0.18.7 is available!  To upgrade, please run:\n",
       " $ pip install wandb --upgrade"
      ],
      "text/plain": [
       "<IPython.core.display.HTML object>"
      ]
     },
     "metadata": {},
     "output_type": "display_data"
    },
    {
     "data": {
      "text/html": [
       "Tracking run with wandb version 0.16.0"
      ],
      "text/plain": [
       "<IPython.core.display.HTML object>"
      ]
     },
     "metadata": {},
     "output_type": "display_data"
    },
    {
     "data": {
      "text/html": [
       "Run data is saved locally in <code>/aiffel/aiffel/wandb/run-20241116_213728-2ltw3qs4</code>"
      ],
      "text/plain": [
       "<IPython.core.display.HTML object>"
      ]
     },
     "metadata": {},
     "output_type": "display_data"
    },
    {
     "data": {
      "text/html": [
       "Syncing run <strong><a href='https://wandb.ai/wisdom-jihyekim-aiffel/WandB_with_kfold_used_by_Jindeok/runs/2ltw3qs4' target=\"_blank\">fold-2</a></strong> to <a href='https://wandb.ai/wisdom-jihyekim-aiffel/WandB_with_kfold_used_by_Jindeok' target=\"_blank\">Weights & Biases</a> (<a href='https://wandb.me/run' target=\"_blank\">docs</a>)<br/>Sweep page: <a href='https://wandb.ai/wisdom-jihyekim-aiffel/WandB_with_kfold_used_by_Jindeok/sweeps/zhdriy11' target=\"_blank\">https://wandb.ai/wisdom-jihyekim-aiffel/WandB_with_kfold_used_by_Jindeok/sweeps/zhdriy11</a>"
      ],
      "text/plain": [
       "<IPython.core.display.HTML object>"
      ]
     },
     "metadata": {},
     "output_type": "display_data"
    },
    {
     "data": {
      "text/html": [
       " View project at <a href='https://wandb.ai/wisdom-jihyekim-aiffel/WandB_with_kfold_used_by_Jindeok' target=\"_blank\">https://wandb.ai/wisdom-jihyekim-aiffel/WandB_with_kfold_used_by_Jindeok</a>"
      ],
      "text/plain": [
       "<IPython.core.display.HTML object>"
      ]
     },
     "metadata": {},
     "output_type": "display_data"
    },
    {
     "data": {
      "text/html": [
       " View sweep at <a href='https://wandb.ai/wisdom-jihyekim-aiffel/WandB_with_kfold_used_by_Jindeok/sweeps/zhdriy11' target=\"_blank\">https://wandb.ai/wisdom-jihyekim-aiffel/WandB_with_kfold_used_by_Jindeok/sweeps/zhdriy11</a>"
      ],
      "text/plain": [
       "<IPython.core.display.HTML object>"
      ]
     },
     "metadata": {},
     "output_type": "display_data"
    },
    {
     "data": {
      "text/html": [
       " View run at <a href='https://wandb.ai/wisdom-jihyekim-aiffel/WandB_with_kfold_used_by_Jindeok/runs/2ltw3qs4' target=\"_blank\">https://wandb.ai/wisdom-jihyekim-aiffel/WandB_with_kfold_used_by_Jindeok/runs/2ltw3qs4</a>"
      ],
      "text/plain": [
       "<IPython.core.display.HTML object>"
      ]
     },
     "metadata": {},
     "output_type": "display_data"
    },
    {
     "name": "stdout",
     "output_type": "stream",
     "text": [
      "Epoch 1/10\n",
      "23/23 [==============================] - 11s 427ms/step - loss: 1.8645 - accuracy: 0.2333 - val_loss: 1.7199 - val_accuracy: 0.2944\n",
      "INFO:tensorflow:Assets written to: /aiffel/aiffel/wandb/run-20241116_213728-2ltw3qs4/files/model-best/assets\n"
     ]
    },
    {
     "name": "stderr",
     "output_type": "stream",
     "text": [
      "\u001b[34m\u001b[1mwandb\u001b[0m: Adding directory to artifact (/aiffel/aiffel/wandb/run-20241116_213728-2ltw3qs4/files/model-best)... Done. 0.0s\n"
     ]
    },
    {
     "name": "stdout",
     "output_type": "stream",
     "text": [
      "Epoch 2/10\n",
      "23/23 [==============================] - 10s 406ms/step - loss: 1.6093 - accuracy: 0.3181 - val_loss: 1.5978 - val_accuracy: 0.2389\n",
      "INFO:tensorflow:Assets written to: /aiffel/aiffel/wandb/run-20241116_213728-2ltw3qs4/files/model-best/assets\n"
     ]
    },
    {
     "name": "stderr",
     "output_type": "stream",
     "text": [
      "\u001b[34m\u001b[1mwandb\u001b[0m: Adding directory to artifact (/aiffel/aiffel/wandb/run-20241116_213728-2ltw3qs4/files/model-best)... Done. 0.0s\n"
     ]
    },
    {
     "name": "stdout",
     "output_type": "stream",
     "text": [
      "Epoch 3/10\n",
      "23/23 [==============================] - 10s 416ms/step - loss: 1.4903 - accuracy: 0.3792 - val_loss: 1.5877 - val_accuracy: 0.3222\n",
      "INFO:tensorflow:Assets written to: /aiffel/aiffel/wandb/run-20241116_213728-2ltw3qs4/files/model-best/assets\n"
     ]
    },
    {
     "name": "stderr",
     "output_type": "stream",
     "text": [
      "\u001b[34m\u001b[1mwandb\u001b[0m: Adding directory to artifact (/aiffel/aiffel/wandb/run-20241116_213728-2ltw3qs4/files/model-best)... Done. 0.0s\n"
     ]
    },
    {
     "name": "stdout",
     "output_type": "stream",
     "text": [
      "Epoch 4/10\n",
      "23/23 [==============================] - 10s 407ms/step - loss: 1.3400 - accuracy: 0.4431 - val_loss: 1.4089 - val_accuracy: 0.4222\n",
      "INFO:tensorflow:Assets written to: /aiffel/aiffel/wandb/run-20241116_213728-2ltw3qs4/files/model-best/assets\n"
     ]
    },
    {
     "name": "stderr",
     "output_type": "stream",
     "text": [
      "\u001b[34m\u001b[1mwandb\u001b[0m: Adding directory to artifact (/aiffel/aiffel/wandb/run-20241116_213728-2ltw3qs4/files/model-best)... Done. 0.0s\n"
     ]
    },
    {
     "name": "stdout",
     "output_type": "stream",
     "text": [
      "Epoch 5/10\n",
      "23/23 [==============================] - 9s 405ms/step - loss: 1.2473 - accuracy: 0.4986 - val_loss: 1.3675 - val_accuracy: 0.4056\n",
      "INFO:tensorflow:Assets written to: /aiffel/aiffel/wandb/run-20241116_213728-2ltw3qs4/files/model-best/assets\n"
     ]
    },
    {
     "name": "stderr",
     "output_type": "stream",
     "text": [
      "\u001b[34m\u001b[1mwandb\u001b[0m: Adding directory to artifact (/aiffel/aiffel/wandb/run-20241116_213728-2ltw3qs4/files/model-best)... Done. 0.0s\n"
     ]
    },
    {
     "name": "stdout",
     "output_type": "stream",
     "text": [
      "Epoch 6/10\n",
      "23/23 [==============================] - 10s 408ms/step - loss: 1.1736 - accuracy: 0.5167 - val_loss: 1.3258 - val_accuracy: 0.4333\n",
      "INFO:tensorflow:Assets written to: /aiffel/aiffel/wandb/run-20241116_213728-2ltw3qs4/files/model-best/assets\n"
     ]
    },
    {
     "name": "stderr",
     "output_type": "stream",
     "text": [
      "\u001b[34m\u001b[1mwandb\u001b[0m: Adding directory to artifact (/aiffel/aiffel/wandb/run-20241116_213728-2ltw3qs4/files/model-best)... Done. 0.0s\n"
     ]
    },
    {
     "name": "stdout",
     "output_type": "stream",
     "text": [
      "Epoch 7/10\n",
      "23/23 [==============================] - 10s 406ms/step - loss: 1.0897 - accuracy: 0.5528 - val_loss: 1.3103 - val_accuracy: 0.4833\n",
      "INFO:tensorflow:Assets written to: /aiffel/aiffel/wandb/run-20241116_213728-2ltw3qs4/files/model-best/assets\n"
     ]
    },
    {
     "name": "stderr",
     "output_type": "stream",
     "text": [
      "\u001b[34m\u001b[1mwandb\u001b[0m: Adding directory to artifact (/aiffel/aiffel/wandb/run-20241116_213728-2ltw3qs4/files/model-best)... Done. 0.0s\n"
     ]
    },
    {
     "name": "stdout",
     "output_type": "stream",
     "text": [
      "Epoch 8/10\n",
      "23/23 [==============================] - 10s 409ms/step - loss: 1.0482 - accuracy: 0.5931 - val_loss: 1.1426 - val_accuracy: 0.5500\n",
      "INFO:tensorflow:Assets written to: /aiffel/aiffel/wandb/run-20241116_213728-2ltw3qs4/files/model-best/assets\n"
     ]
    },
    {
     "name": "stderr",
     "output_type": "stream",
     "text": [
      "\u001b[34m\u001b[1mwandb\u001b[0m: Adding directory to artifact (/aiffel/aiffel/wandb/run-20241116_213728-2ltw3qs4/files/model-best)... Done. 0.0s\n"
     ]
    },
    {
     "name": "stdout",
     "output_type": "stream",
     "text": [
      "Epoch 9/10\n",
      "23/23 [==============================] - 10s 410ms/step - loss: 0.9265 - accuracy: 0.6528 - val_loss: 1.1295 - val_accuracy: 0.5944\n",
      "INFO:tensorflow:Assets written to: /aiffel/aiffel/wandb/run-20241116_213728-2ltw3qs4/files/model-best/assets\n"
     ]
    },
    {
     "name": "stderr",
     "output_type": "stream",
     "text": [
      "\u001b[34m\u001b[1mwandb\u001b[0m: Adding directory to artifact (/aiffel/aiffel/wandb/run-20241116_213728-2ltw3qs4/files/model-best)... Done. 0.0s\n"
     ]
    },
    {
     "name": "stdout",
     "output_type": "stream",
     "text": [
      "Epoch 10/10\n",
      "23/23 [==============================] - 9s 403ms/step - loss: 0.8838 - accuracy: 0.6486 - val_loss: 1.0702 - val_accuracy: 0.5889\n",
      "INFO:tensorflow:Assets written to: /aiffel/aiffel/wandb/run-20241116_213728-2ltw3qs4/files/model-best/assets\n"
     ]
    },
    {
     "name": "stderr",
     "output_type": "stream",
     "text": [
      "\u001b[34m\u001b[1mwandb\u001b[0m: Adding directory to artifact (/aiffel/aiffel/wandb/run-20241116_213728-2ltw3qs4/files/model-best)... Done. 0.0s\n"
     ]
    },
    {
     "name": "stdout",
     "output_type": "stream",
     "text": [
      "6/6 [==============================] - 2s 294ms/step - loss: 1.1018 - accuracy: 0.6056\n",
      "Validation Accuracy for fold 2: 60.56%\n"
     ]
    },
    {
     "data": {
      "application/vnd.jupyter.widget-view+json": {
       "model_id": "",
       "version_major": 2,
       "version_minor": 0
      },
      "text/plain": [
       "VBox(children=(Label(value='14.462 MB of 14.462 MB uploaded (0.227 MB deduped)\\r'), FloatProgress(value=1.0, m…"
      ]
     },
     "metadata": {},
     "output_type": "display_data"
    },
    {
     "data": {
      "text/html": [
       "W&B sync reduced upload amount by 1.6%             "
      ],
      "text/plain": [
       "<IPython.core.display.HTML object>"
      ]
     },
     "metadata": {},
     "output_type": "display_data"
    },
    {
     "data": {
      "text/html": [
       "<style>\n",
       "    table.wandb td:nth-child(1) { padding: 0 10px; text-align: left ; width: auto;} td:nth-child(2) {text-align: left ; width: 100%}\n",
       "    .wandb-row { display: flex; flex-direction: row; flex-wrap: wrap; justify-content: flex-start; width: 100% }\n",
       "    .wandb-col { display: flex; flex-direction: column; flex-basis: 100%; flex: 1; padding: 10px; }\n",
       "    </style>\n",
       "<div class=\"wandb-row\"><div class=\"wandb-col\"><h3>Run history:</h3><br/><table class=\"wandb\"><tr><td>accuracy</td><td>▁▂▃▅▅▆▆▇██</td></tr><tr><td>epoch</td><td>▁▂▃▃▄▅▆▆▇█</td></tr><tr><td>loss</td><td>█▆▅▄▄▃▂▂▁▁</td></tr><tr><td>val_accuracy</td><td>▂▁▃▅▄▅▆▇██</td></tr><tr><td>val_loss</td><td>█▇▇▅▄▄▄▂▂▁</td></tr></table><br/></div><div class=\"wandb-col\"><h3>Run summary:</h3><br/><table class=\"wandb\"><tr><td>accuracy</td><td>0.64861</td></tr><tr><td>best_epoch</td><td>9</td></tr><tr><td>best_val_loss</td><td>1.0702</td></tr><tr><td>epoch</td><td>9</td></tr><tr><td>loss</td><td>0.88376</td></tr><tr><td>val_accuracy</td><td>0.58889</td></tr><tr><td>val_loss</td><td>1.0702</td></tr></table><br/></div></div>"
      ],
      "text/plain": [
       "<IPython.core.display.HTML object>"
      ]
     },
     "metadata": {},
     "output_type": "display_data"
    },
    {
     "data": {
      "text/html": [
       " View run <strong style=\"color:#cdcd00\">fold-2</strong> at: <a href='https://wandb.ai/wisdom-jihyekim-aiffel/WandB_with_kfold_used_by_Jindeok/runs/2ltw3qs4' target=\"_blank\">https://wandb.ai/wisdom-jihyekim-aiffel/WandB_with_kfold_used_by_Jindeok/runs/2ltw3qs4</a><br/>Synced 5 W&B file(s), 1 media file(s), 40 artifact file(s) and 1 other file(s)"
      ],
      "text/plain": [
       "<IPython.core.display.HTML object>"
      ]
     },
     "metadata": {},
     "output_type": "display_data"
    },
    {
     "data": {
      "text/html": [
       "Find logs at: <code>./wandb/run-20241116_213728-2ltw3qs4/logs</code>"
      ],
      "text/plain": [
       "<IPython.core.display.HTML object>"
      ]
     },
     "metadata": {},
     "output_type": "display_data"
    },
    {
     "name": "stderr",
     "output_type": "stream",
     "text": [
      "\u001b[34m\u001b[1mwandb\u001b[0m: \u001b[33mWARNING\u001b[0m Ignored wandb.init() arg project when running a sweep.\n"
     ]
    },
    {
     "name": "stdout",
     "output_type": "stream",
     "text": [
      "Fold: 3 ==================================================================\n",
      "Found 720 validated image filenames belonging to 6 classes.\n",
      "Found 180 validated image filenames belonging to 6 classes.\n"
     ]
    },
    {
     "data": {
      "text/html": [
       "wandb version 0.18.7 is available!  To upgrade, please run:\n",
       " $ pip install wandb --upgrade"
      ],
      "text/plain": [
       "<IPython.core.display.HTML object>"
      ]
     },
     "metadata": {},
     "output_type": "display_data"
    },
    {
     "data": {
      "text/html": [
       "Tracking run with wandb version 0.16.0"
      ],
      "text/plain": [
       "<IPython.core.display.HTML object>"
      ]
     },
     "metadata": {},
     "output_type": "display_data"
    },
    {
     "data": {
      "text/html": [
       "Run data is saved locally in <code>/aiffel/aiffel/wandb/run-20241116_213933-2ltw3qs4</code>"
      ],
      "text/plain": [
       "<IPython.core.display.HTML object>"
      ]
     },
     "metadata": {},
     "output_type": "display_data"
    },
    {
     "data": {
      "text/html": [
       "Syncing run <strong><a href='https://wandb.ai/wisdom-jihyekim-aiffel/WandB_with_kfold_used_by_Jindeok/runs/2ltw3qs4' target=\"_blank\">fold-3</a></strong> to <a href='https://wandb.ai/wisdom-jihyekim-aiffel/WandB_with_kfold_used_by_Jindeok' target=\"_blank\">Weights & Biases</a> (<a href='https://wandb.me/run' target=\"_blank\">docs</a>)<br/>Sweep page: <a href='https://wandb.ai/wisdom-jihyekim-aiffel/WandB_with_kfold_used_by_Jindeok/sweeps/zhdriy11' target=\"_blank\">https://wandb.ai/wisdom-jihyekim-aiffel/WandB_with_kfold_used_by_Jindeok/sweeps/zhdriy11</a>"
      ],
      "text/plain": [
       "<IPython.core.display.HTML object>"
      ]
     },
     "metadata": {},
     "output_type": "display_data"
    },
    {
     "data": {
      "text/html": [
       " View project at <a href='https://wandb.ai/wisdom-jihyekim-aiffel/WandB_with_kfold_used_by_Jindeok' target=\"_blank\">https://wandb.ai/wisdom-jihyekim-aiffel/WandB_with_kfold_used_by_Jindeok</a>"
      ],
      "text/plain": [
       "<IPython.core.display.HTML object>"
      ]
     },
     "metadata": {},
     "output_type": "display_data"
    },
    {
     "data": {
      "text/html": [
       " View sweep at <a href='https://wandb.ai/wisdom-jihyekim-aiffel/WandB_with_kfold_used_by_Jindeok/sweeps/zhdriy11' target=\"_blank\">https://wandb.ai/wisdom-jihyekim-aiffel/WandB_with_kfold_used_by_Jindeok/sweeps/zhdriy11</a>"
      ],
      "text/plain": [
       "<IPython.core.display.HTML object>"
      ]
     },
     "metadata": {},
     "output_type": "display_data"
    },
    {
     "data": {
      "text/html": [
       " View run at <a href='https://wandb.ai/wisdom-jihyekim-aiffel/WandB_with_kfold_used_by_Jindeok/runs/2ltw3qs4' target=\"_blank\">https://wandb.ai/wisdom-jihyekim-aiffel/WandB_with_kfold_used_by_Jindeok/runs/2ltw3qs4</a>"
      ],
      "text/plain": [
       "<IPython.core.display.HTML object>"
      ]
     },
     "metadata": {},
     "output_type": "display_data"
    },
    {
     "name": "stdout",
     "output_type": "stream",
     "text": [
      "Epoch 1/10\n",
      "23/23 [==============================] - 11s 429ms/step - loss: 1.9457 - accuracy: 0.2167 - val_loss: 1.8853 - val_accuracy: 0.2056\n",
      "INFO:tensorflow:Assets written to: /aiffel/aiffel/wandb/run-20241116_213933-2ltw3qs4/files/model-best/assets\n"
     ]
    },
    {
     "name": "stderr",
     "output_type": "stream",
     "text": [
      "\u001b[34m\u001b[1mwandb\u001b[0m: Adding directory to artifact (/aiffel/aiffel/wandb/run-20241116_213933-2ltw3qs4/files/model-best)... Done. 0.0s\n"
     ]
    },
    {
     "name": "stdout",
     "output_type": "stream",
     "text": [
      "Epoch 2/10\n",
      "23/23 [==============================] - 10s 406ms/step - loss: 1.7052 - accuracy: 0.2694 - val_loss: 1.6284 - val_accuracy: 0.2833\n",
      "INFO:tensorflow:Assets written to: /aiffel/aiffel/wandb/run-20241116_213933-2ltw3qs4/files/model-best/assets\n"
     ]
    },
    {
     "name": "stderr",
     "output_type": "stream",
     "text": [
      "\u001b[34m\u001b[1mwandb\u001b[0m: Adding directory to artifact (/aiffel/aiffel/wandb/run-20241116_213933-2ltw3qs4/files/model-best)... Done. 0.0s\n"
     ]
    },
    {
     "name": "stdout",
     "output_type": "stream",
     "text": [
      "Epoch 3/10\n",
      "23/23 [==============================] - 10s 410ms/step - loss: 1.5643 - accuracy: 0.3292 - val_loss: 1.4333 - val_accuracy: 0.3944\n",
      "INFO:tensorflow:Assets written to: /aiffel/aiffel/wandb/run-20241116_213933-2ltw3qs4/files/model-best/assets\n"
     ]
    },
    {
     "name": "stderr",
     "output_type": "stream",
     "text": [
      "\u001b[34m\u001b[1mwandb\u001b[0m: Adding directory to artifact (/aiffel/aiffel/wandb/run-20241116_213933-2ltw3qs4/files/model-best)... Done. 0.0s\n"
     ]
    },
    {
     "name": "stdout",
     "output_type": "stream",
     "text": [
      "Epoch 4/10\n",
      "23/23 [==============================] - 9s 416ms/step - loss: 1.4579 - accuracy: 0.4181 - val_loss: 1.3099 - val_accuracy: 0.4111\n",
      "INFO:tensorflow:Assets written to: /aiffel/aiffel/wandb/run-20241116_213933-2ltw3qs4/files/model-best/assets\n"
     ]
    },
    {
     "name": "stderr",
     "output_type": "stream",
     "text": [
      "\u001b[34m\u001b[1mwandb\u001b[0m: Adding directory to artifact (/aiffel/aiffel/wandb/run-20241116_213933-2ltw3qs4/files/model-best)... Done. 0.0s\n"
     ]
    },
    {
     "name": "stdout",
     "output_type": "stream",
     "text": [
      "Epoch 5/10\n",
      "23/23 [==============================] - 10s 408ms/step - loss: 1.3397 - accuracy: 0.4681 - val_loss: 1.2055 - val_accuracy: 0.5056\n",
      "INFO:tensorflow:Assets written to: /aiffel/aiffel/wandb/run-20241116_213933-2ltw3qs4/files/model-best/assets\n"
     ]
    },
    {
     "name": "stderr",
     "output_type": "stream",
     "text": [
      "\u001b[34m\u001b[1mwandb\u001b[0m: Adding directory to artifact (/aiffel/aiffel/wandb/run-20241116_213933-2ltw3qs4/files/model-best)... Done. 0.0s\n"
     ]
    },
    {
     "name": "stdout",
     "output_type": "stream",
     "text": [
      "Epoch 6/10\n",
      "23/23 [==============================] - 10s 423ms/step - loss: 1.2003 - accuracy: 0.5236 - val_loss: 1.2604 - val_accuracy: 0.5000\n",
      "Epoch 7/10\n",
      "23/23 [==============================] - 9s 408ms/step - loss: 1.1241 - accuracy: 0.5431 - val_loss: 1.3048 - val_accuracy: 0.4667\n",
      "Epoch 8/10\n",
      "23/23 [==============================] - 9s 408ms/step - loss: 1.0770 - accuracy: 0.5819 - val_loss: 1.1500 - val_accuracy: 0.5667\n",
      "INFO:tensorflow:Assets written to: /aiffel/aiffel/wandb/run-20241116_213933-2ltw3qs4/files/model-best/assets\n"
     ]
    },
    {
     "name": "stderr",
     "output_type": "stream",
     "text": [
      "\u001b[34m\u001b[1mwandb\u001b[0m: Adding directory to artifact (/aiffel/aiffel/wandb/run-20241116_213933-2ltw3qs4/files/model-best)... Done. 0.0s\n"
     ]
    },
    {
     "name": "stdout",
     "output_type": "stream",
     "text": [
      "Epoch 9/10\n",
      "23/23 [==============================] - 9s 401ms/step - loss: 0.9694 - accuracy: 0.6153 - val_loss: 1.0270 - val_accuracy: 0.6000\n",
      "INFO:tensorflow:Assets written to: /aiffel/aiffel/wandb/run-20241116_213933-2ltw3qs4/files/model-best/assets\n"
     ]
    },
    {
     "name": "stderr",
     "output_type": "stream",
     "text": [
      "\u001b[34m\u001b[1mwandb\u001b[0m: Adding directory to artifact (/aiffel/aiffel/wandb/run-20241116_213933-2ltw3qs4/files/model-best)... Done. 0.0s\n"
     ]
    },
    {
     "name": "stdout",
     "output_type": "stream",
     "text": [
      "Epoch 10/10\n",
      "23/23 [==============================] - 9s 399ms/step - loss: 1.0111 - accuracy: 0.6028 - val_loss: 1.0306 - val_accuracy: 0.5833\n",
      "6/6 [==============================] - 2s 294ms/step - loss: 1.0572 - accuracy: 0.5889\n",
      "Validation Accuracy for fold 3: 58.89%\n"
     ]
    },
    {
     "data": {
      "application/vnd.jupyter.widget-view+json": {
       "model_id": "",
       "version_major": 2,
       "version_minor": 0
      },
      "text/plain": [
       "VBox(children=(Label(value='10.441 MB of 10.441 MB uploaded (0.159 MB deduped)\\r'), FloatProgress(value=1.0, m…"
      ]
     },
     "metadata": {},
     "output_type": "display_data"
    },
    {
     "data": {
      "text/html": [
       "W&B sync reduced upload amount by 1.5%             "
      ],
      "text/plain": [
       "<IPython.core.display.HTML object>"
      ]
     },
     "metadata": {},
     "output_type": "display_data"
    },
    {
     "data": {
      "text/html": [
       "<style>\n",
       "    table.wandb td:nth-child(1) { padding: 0 10px; text-align: left ; width: auto;} td:nth-child(2) {text-align: left ; width: 100%}\n",
       "    .wandb-row { display: flex; flex-direction: row; flex-wrap: wrap; justify-content: flex-start; width: 100% }\n",
       "    .wandb-col { display: flex; flex-direction: column; flex-basis: 100%; flex: 1; padding: 10px; }\n",
       "    </style>\n",
       "<div class=\"wandb-row\"><div class=\"wandb-col\"><h3>Run history:</h3><br/><table class=\"wandb\"><tr><td>accuracy</td><td>▁▂▃▅▅▆▇▇██</td></tr><tr><td>epoch</td><td>▁▂▃▃▄▅▆▆▇█</td></tr><tr><td>loss</td><td>█▆▅▅▄▃▂▂▁▁</td></tr><tr><td>val_accuracy</td><td>▁▂▄▅▆▆▆▇██</td></tr><tr><td>val_loss</td><td>█▆▄▃▂▃▃▂▁▁</td></tr></table><br/></div><div class=\"wandb-col\"><h3>Run summary:</h3><br/><table class=\"wandb\"><tr><td>accuracy</td><td>0.60278</td></tr><tr><td>best_epoch</td><td>8</td></tr><tr><td>best_val_loss</td><td>1.02703</td></tr><tr><td>epoch</td><td>9</td></tr><tr><td>loss</td><td>1.01114</td></tr><tr><td>val_accuracy</td><td>0.58333</td></tr><tr><td>val_loss</td><td>1.03057</td></tr></table><br/></div></div>"
      ],
      "text/plain": [
       "<IPython.core.display.HTML object>"
      ]
     },
     "metadata": {},
     "output_type": "display_data"
    },
    {
     "data": {
      "text/html": [
       " View run <strong style=\"color:#cdcd00\">fold-3</strong> at: <a href='https://wandb.ai/wisdom-jihyekim-aiffel/WandB_with_kfold_used_by_Jindeok/runs/2ltw3qs4' target=\"_blank\">https://wandb.ai/wisdom-jihyekim-aiffel/WandB_with_kfold_used_by_Jindeok/runs/2ltw3qs4</a><br/>Synced 5 W&B file(s), 1 media file(s), 28 artifact file(s) and 1 other file(s)"
      ],
      "text/plain": [
       "<IPython.core.display.HTML object>"
      ]
     },
     "metadata": {},
     "output_type": "display_data"
    },
    {
     "data": {
      "text/html": [
       "Find logs at: <code>./wandb/run-20241116_213933-2ltw3qs4/logs</code>"
      ],
      "text/plain": [
       "<IPython.core.display.HTML object>"
      ]
     },
     "metadata": {},
     "output_type": "display_data"
    },
    {
     "name": "stderr",
     "output_type": "stream",
     "text": [
      "\u001b[34m\u001b[1mwandb\u001b[0m: \u001b[33mWARNING\u001b[0m Ignored wandb.init() arg project when running a sweep.\n"
     ]
    },
    {
     "name": "stdout",
     "output_type": "stream",
     "text": [
      "Fold: 4 ==================================================================\n",
      "Found 720 validated image filenames belonging to 6 classes.\n",
      "Found 180 validated image filenames belonging to 6 classes.\n"
     ]
    },
    {
     "data": {
      "text/html": [
       "wandb version 0.18.7 is available!  To upgrade, please run:\n",
       " $ pip install wandb --upgrade"
      ],
      "text/plain": [
       "<IPython.core.display.HTML object>"
      ]
     },
     "metadata": {},
     "output_type": "display_data"
    },
    {
     "data": {
      "text/html": [
       "Tracking run with wandb version 0.16.0"
      ],
      "text/plain": [
       "<IPython.core.display.HTML object>"
      ]
     },
     "metadata": {},
     "output_type": "display_data"
    },
    {
     "data": {
      "text/html": [
       "Run data is saved locally in <code>/aiffel/aiffel/wandb/run-20241116_214130-2ltw3qs4</code>"
      ],
      "text/plain": [
       "<IPython.core.display.HTML object>"
      ]
     },
     "metadata": {},
     "output_type": "display_data"
    },
    {
     "data": {
      "text/html": [
       "Syncing run <strong><a href='https://wandb.ai/wisdom-jihyekim-aiffel/WandB_with_kfold_used_by_Jindeok/runs/2ltw3qs4' target=\"_blank\">fold-4</a></strong> to <a href='https://wandb.ai/wisdom-jihyekim-aiffel/WandB_with_kfold_used_by_Jindeok' target=\"_blank\">Weights & Biases</a> (<a href='https://wandb.me/run' target=\"_blank\">docs</a>)<br/>Sweep page: <a href='https://wandb.ai/wisdom-jihyekim-aiffel/WandB_with_kfold_used_by_Jindeok/sweeps/zhdriy11' target=\"_blank\">https://wandb.ai/wisdom-jihyekim-aiffel/WandB_with_kfold_used_by_Jindeok/sweeps/zhdriy11</a>"
      ],
      "text/plain": [
       "<IPython.core.display.HTML object>"
      ]
     },
     "metadata": {},
     "output_type": "display_data"
    },
    {
     "data": {
      "text/html": [
       " View project at <a href='https://wandb.ai/wisdom-jihyekim-aiffel/WandB_with_kfold_used_by_Jindeok' target=\"_blank\">https://wandb.ai/wisdom-jihyekim-aiffel/WandB_with_kfold_used_by_Jindeok</a>"
      ],
      "text/plain": [
       "<IPython.core.display.HTML object>"
      ]
     },
     "metadata": {},
     "output_type": "display_data"
    },
    {
     "data": {
      "text/html": [
       " View sweep at <a href='https://wandb.ai/wisdom-jihyekim-aiffel/WandB_with_kfold_used_by_Jindeok/sweeps/zhdriy11' target=\"_blank\">https://wandb.ai/wisdom-jihyekim-aiffel/WandB_with_kfold_used_by_Jindeok/sweeps/zhdriy11</a>"
      ],
      "text/plain": [
       "<IPython.core.display.HTML object>"
      ]
     },
     "metadata": {},
     "output_type": "display_data"
    },
    {
     "data": {
      "text/html": [
       " View run at <a href='https://wandb.ai/wisdom-jihyekim-aiffel/WandB_with_kfold_used_by_Jindeok/runs/2ltw3qs4' target=\"_blank\">https://wandb.ai/wisdom-jihyekim-aiffel/WandB_with_kfold_used_by_Jindeok/runs/2ltw3qs4</a>"
      ],
      "text/plain": [
       "<IPython.core.display.HTML object>"
      ]
     },
     "metadata": {},
     "output_type": "display_data"
    },
    {
     "name": "stdout",
     "output_type": "stream",
     "text": [
      "Epoch 1/10\n",
      "23/23 [==============================] - 11s 423ms/step - loss: 1.9146 - accuracy: 0.2361 - val_loss: 1.7134 - val_accuracy: 0.2444\n",
      "INFO:tensorflow:Assets written to: /aiffel/aiffel/wandb/run-20241116_214130-2ltw3qs4/files/model-best/assets\n"
     ]
    },
    {
     "name": "stderr",
     "output_type": "stream",
     "text": [
      "\u001b[34m\u001b[1mwandb\u001b[0m: Adding directory to artifact (/aiffel/aiffel/wandb/run-20241116_214130-2ltw3qs4/files/model-best)... Done. 0.0s\n"
     ]
    },
    {
     "name": "stdout",
     "output_type": "stream",
     "text": [
      "Epoch 2/10\n",
      "23/23 [==============================] - 10s 405ms/step - loss: 1.6300 - accuracy: 0.3222 - val_loss: 1.5199 - val_accuracy: 0.3278\n",
      "INFO:tensorflow:Assets written to: /aiffel/aiffel/wandb/run-20241116_214130-2ltw3qs4/files/model-best/assets\n"
     ]
    },
    {
     "name": "stderr",
     "output_type": "stream",
     "text": [
      "\u001b[34m\u001b[1mwandb\u001b[0m: Adding directory to artifact (/aiffel/aiffel/wandb/run-20241116_214130-2ltw3qs4/files/model-best)... Done. 0.0s\n"
     ]
    },
    {
     "name": "stdout",
     "output_type": "stream",
     "text": [
      "Epoch 3/10\n",
      "23/23 [==============================] - 10s 417ms/step - loss: 1.5278 - accuracy: 0.3528 - val_loss: 1.4745 - val_accuracy: 0.3556\n",
      "INFO:tensorflow:Assets written to: /aiffel/aiffel/wandb/run-20241116_214130-2ltw3qs4/files/model-best/assets\n"
     ]
    },
    {
     "name": "stderr",
     "output_type": "stream",
     "text": [
      "\u001b[34m\u001b[1mwandb\u001b[0m: Adding directory to artifact (/aiffel/aiffel/wandb/run-20241116_214130-2ltw3qs4/files/model-best)... Done. 0.0s\n"
     ]
    },
    {
     "name": "stdout",
     "output_type": "stream",
     "text": [
      "Epoch 4/10\n",
      "23/23 [==============================] - 10s 408ms/step - loss: 1.3586 - accuracy: 0.4542 - val_loss: 1.3596 - val_accuracy: 0.4000\n",
      "INFO:tensorflow:Assets written to: /aiffel/aiffel/wandb/run-20241116_214130-2ltw3qs4/files/model-best/assets\n"
     ]
    },
    {
     "name": "stderr",
     "output_type": "stream",
     "text": [
      "\u001b[34m\u001b[1mwandb\u001b[0m: Adding directory to artifact (/aiffel/aiffel/wandb/run-20241116_214130-2ltw3qs4/files/model-best)... Done. 0.0s\n"
     ]
    },
    {
     "name": "stdout",
     "output_type": "stream",
     "text": [
      "Epoch 5/10\n",
      "23/23 [==============================] - 9s 403ms/step - loss: 1.2933 - accuracy: 0.4792 - val_loss: 1.2545 - val_accuracy: 0.4722\n",
      "INFO:tensorflow:Assets written to: /aiffel/aiffel/wandb/run-20241116_214130-2ltw3qs4/files/model-best/assets\n"
     ]
    },
    {
     "name": "stderr",
     "output_type": "stream",
     "text": [
      "\u001b[34m\u001b[1mwandb\u001b[0m: Adding directory to artifact (/aiffel/aiffel/wandb/run-20241116_214130-2ltw3qs4/files/model-best)... Done. 0.0s\n"
     ]
    },
    {
     "name": "stdout",
     "output_type": "stream",
     "text": [
      "Epoch 6/10\n",
      "23/23 [==============================] - 9s 400ms/step - loss: 1.2303 - accuracy: 0.5069 - val_loss: 1.0811 - val_accuracy: 0.5722\n",
      "INFO:tensorflow:Assets written to: /aiffel/aiffel/wandb/run-20241116_214130-2ltw3qs4/files/model-best/assets\n"
     ]
    },
    {
     "name": "stderr",
     "output_type": "stream",
     "text": [
      "\u001b[34m\u001b[1mwandb\u001b[0m: Adding directory to artifact (/aiffel/aiffel/wandb/run-20241116_214130-2ltw3qs4/files/model-best)... Done. 0.0s\n"
     ]
    },
    {
     "name": "stdout",
     "output_type": "stream",
     "text": [
      "Epoch 7/10\n",
      "23/23 [==============================] - 10s 407ms/step - loss: 1.1329 - accuracy: 0.5667 - val_loss: 1.1739 - val_accuracy: 0.5444\n",
      "Epoch 8/10\n",
      "23/23 [==============================] - 9s 409ms/step - loss: 1.0464 - accuracy: 0.5958 - val_loss: 1.0365 - val_accuracy: 0.5889\n",
      "INFO:tensorflow:Assets written to: /aiffel/aiffel/wandb/run-20241116_214130-2ltw3qs4/files/model-best/assets\n"
     ]
    },
    {
     "name": "stderr",
     "output_type": "stream",
     "text": [
      "\u001b[34m\u001b[1mwandb\u001b[0m: Adding directory to artifact (/aiffel/aiffel/wandb/run-20241116_214130-2ltw3qs4/files/model-best)... Done. 0.0s\n"
     ]
    },
    {
     "name": "stdout",
     "output_type": "stream",
     "text": [
      "Epoch 9/10\n",
      "23/23 [==============================] - 9s 401ms/step - loss: 0.9875 - accuracy: 0.6319 - val_loss: 1.0396 - val_accuracy: 0.5944\n",
      "Epoch 10/10\n",
      "23/23 [==============================] - 9s 399ms/step - loss: 1.0021 - accuracy: 0.6167 - val_loss: 1.0284 - val_accuracy: 0.6444\n",
      "INFO:tensorflow:Assets written to: /aiffel/aiffel/wandb/run-20241116_214130-2ltw3qs4/files/model-best/assets\n"
     ]
    },
    {
     "name": "stderr",
     "output_type": "stream",
     "text": [
      "\u001b[34m\u001b[1mwandb\u001b[0m: Adding directory to artifact (/aiffel/aiffel/wandb/run-20241116_214130-2ltw3qs4/files/model-best)... Done. 0.0s\n"
     ]
    },
    {
     "name": "stdout",
     "output_type": "stream",
     "text": [
      "6/6 [==============================] - 2s 288ms/step - loss: 1.0278 - accuracy: 0.6056\n",
      "Validation Accuracy for fold 4: 60.56%\n"
     ]
    },
    {
     "data": {
      "application/vnd.jupyter.widget-view+json": {
       "model_id": "",
       "version_major": 2,
       "version_minor": 0
      },
      "text/plain": [
       "VBox(children=(Label(value='11.794 MB of 11.794 MB uploaded (0.182 MB deduped)\\r'), FloatProgress(value=1.0, m…"
      ]
     },
     "metadata": {},
     "output_type": "display_data"
    },
    {
     "data": {
      "text/html": [
       "W&B sync reduced upload amount by 1.5%             "
      ],
      "text/plain": [
       "<IPython.core.display.HTML object>"
      ]
     },
     "metadata": {},
     "output_type": "display_data"
    },
    {
     "data": {
      "text/html": [
       "<style>\n",
       "    table.wandb td:nth-child(1) { padding: 0 10px; text-align: left ; width: auto;} td:nth-child(2) {text-align: left ; width: 100%}\n",
       "    .wandb-row { display: flex; flex-direction: row; flex-wrap: wrap; justify-content: flex-start; width: 100% }\n",
       "    .wandb-col { display: flex; flex-direction: column; flex-basis: 100%; flex: 1; padding: 10px; }\n",
       "    </style>\n",
       "<div class=\"wandb-row\"><div class=\"wandb-col\"><h3>Run history:</h3><br/><table class=\"wandb\"><tr><td>accuracy</td><td>▁▃▃▅▅▆▇▇██</td></tr><tr><td>epoch</td><td>▁▂▃▃▄▅▆▆▇█</td></tr><tr><td>loss</td><td>█▆▅▄▃▃▂▁▁▁</td></tr><tr><td>val_accuracy</td><td>▁▂▃▄▅▇▆▇▇█</td></tr><tr><td>val_loss</td><td>█▆▆▄▃▂▂▁▁▁</td></tr></table><br/></div><div class=\"wandb-col\"><h3>Run summary:</h3><br/><table class=\"wandb\"><tr><td>accuracy</td><td>0.61667</td></tr><tr><td>best_epoch</td><td>9</td></tr><tr><td>best_val_loss</td><td>1.02842</td></tr><tr><td>epoch</td><td>9</td></tr><tr><td>loss</td><td>1.00212</td></tr><tr><td>val_accuracy</td><td>0.64444</td></tr><tr><td>val_loss</td><td>1.02842</td></tr></table><br/></div></div>"
      ],
      "text/plain": [
       "<IPython.core.display.HTML object>"
      ]
     },
     "metadata": {},
     "output_type": "display_data"
    },
    {
     "data": {
      "text/html": [
       " View run <strong style=\"color:#cdcd00\">fold-4</strong> at: <a href='https://wandb.ai/wisdom-jihyekim-aiffel/WandB_with_kfold_used_by_Jindeok/runs/2ltw3qs4' target=\"_blank\">https://wandb.ai/wisdom-jihyekim-aiffel/WandB_with_kfold_used_by_Jindeok/runs/2ltw3qs4</a><br/>Synced 5 W&B file(s), 1 media file(s), 32 artifact file(s) and 1 other file(s)"
      ],
      "text/plain": [
       "<IPython.core.display.HTML object>"
      ]
     },
     "metadata": {},
     "output_type": "display_data"
    },
    {
     "data": {
      "text/html": [
       "Find logs at: <code>./wandb/run-20241116_214130-2ltw3qs4/logs</code>"
      ],
      "text/plain": [
       "<IPython.core.display.HTML object>"
      ]
     },
     "metadata": {},
     "output_type": "display_data"
    },
    {
     "name": "stderr",
     "output_type": "stream",
     "text": [
      "\u001b[34m\u001b[1mwandb\u001b[0m: \u001b[33mWARNING\u001b[0m Ignored wandb.init() arg project when running a sweep.\n"
     ]
    },
    {
     "name": "stdout",
     "output_type": "stream",
     "text": [
      "Fold: 5 ==================================================================\n",
      "Found 720 validated image filenames belonging to 6 classes.\n",
      "Found 180 validated image filenames belonging to 6 classes.\n"
     ]
    },
    {
     "data": {
      "text/html": [
       "wandb version 0.18.7 is available!  To upgrade, please run:\n",
       " $ pip install wandb --upgrade"
      ],
      "text/plain": [
       "<IPython.core.display.HTML object>"
      ]
     },
     "metadata": {},
     "output_type": "display_data"
    },
    {
     "data": {
      "text/html": [
       "Tracking run with wandb version 0.16.0"
      ],
      "text/plain": [
       "<IPython.core.display.HTML object>"
      ]
     },
     "metadata": {},
     "output_type": "display_data"
    },
    {
     "data": {
      "text/html": [
       "Run data is saved locally in <code>/aiffel/aiffel/wandb/run-20241116_214329-2ltw3qs4</code>"
      ],
      "text/plain": [
       "<IPython.core.display.HTML object>"
      ]
     },
     "metadata": {},
     "output_type": "display_data"
    },
    {
     "data": {
      "text/html": [
       "Syncing run <strong><a href='https://wandb.ai/wisdom-jihyekim-aiffel/WandB_with_kfold_used_by_Jindeok/runs/2ltw3qs4' target=\"_blank\">fold-5</a></strong> to <a href='https://wandb.ai/wisdom-jihyekim-aiffel/WandB_with_kfold_used_by_Jindeok' target=\"_blank\">Weights & Biases</a> (<a href='https://wandb.me/run' target=\"_blank\">docs</a>)<br/>Sweep page: <a href='https://wandb.ai/wisdom-jihyekim-aiffel/WandB_with_kfold_used_by_Jindeok/sweeps/zhdriy11' target=\"_blank\">https://wandb.ai/wisdom-jihyekim-aiffel/WandB_with_kfold_used_by_Jindeok/sweeps/zhdriy11</a>"
      ],
      "text/plain": [
       "<IPython.core.display.HTML object>"
      ]
     },
     "metadata": {},
     "output_type": "display_data"
    },
    {
     "data": {
      "text/html": [
       " View project at <a href='https://wandb.ai/wisdom-jihyekim-aiffel/WandB_with_kfold_used_by_Jindeok' target=\"_blank\">https://wandb.ai/wisdom-jihyekim-aiffel/WandB_with_kfold_used_by_Jindeok</a>"
      ],
      "text/plain": [
       "<IPython.core.display.HTML object>"
      ]
     },
     "metadata": {},
     "output_type": "display_data"
    },
    {
     "data": {
      "text/html": [
       " View sweep at <a href='https://wandb.ai/wisdom-jihyekim-aiffel/WandB_with_kfold_used_by_Jindeok/sweeps/zhdriy11' target=\"_blank\">https://wandb.ai/wisdom-jihyekim-aiffel/WandB_with_kfold_used_by_Jindeok/sweeps/zhdriy11</a>"
      ],
      "text/plain": [
       "<IPython.core.display.HTML object>"
      ]
     },
     "metadata": {},
     "output_type": "display_data"
    },
    {
     "data": {
      "text/html": [
       " View run at <a href='https://wandb.ai/wisdom-jihyekim-aiffel/WandB_with_kfold_used_by_Jindeok/runs/2ltw3qs4' target=\"_blank\">https://wandb.ai/wisdom-jihyekim-aiffel/WandB_with_kfold_used_by_Jindeok/runs/2ltw3qs4</a>"
      ],
      "text/plain": [
       "<IPython.core.display.HTML object>"
      ]
     },
     "metadata": {},
     "output_type": "display_data"
    },
    {
     "name": "stdout",
     "output_type": "stream",
     "text": [
      "Epoch 1/10\n",
      "23/23 [==============================] - 11s 425ms/step - loss: 2.0654 - accuracy: 0.2097 - val_loss: 1.8494 - val_accuracy: 0.2056\n",
      "INFO:tensorflow:Assets written to: /aiffel/aiffel/wandb/run-20241116_214329-2ltw3qs4/files/model-best/assets\n"
     ]
    },
    {
     "name": "stderr",
     "output_type": "stream",
     "text": [
      "\u001b[34m\u001b[1mwandb\u001b[0m: Adding directory to artifact (/aiffel/aiffel/wandb/run-20241116_214329-2ltw3qs4/files/model-best)... Done. 0.0s\n"
     ]
    },
    {
     "name": "stdout",
     "output_type": "stream",
     "text": [
      "Epoch 2/10\n",
      "23/23 [==============================] - 10s 409ms/step - loss: 1.6545 - accuracy: 0.2681 - val_loss: 1.6084 - val_accuracy: 0.3167\n",
      "INFO:tensorflow:Assets written to: /aiffel/aiffel/wandb/run-20241116_214329-2ltw3qs4/files/model-best/assets\n"
     ]
    },
    {
     "name": "stderr",
     "output_type": "stream",
     "text": [
      "\u001b[34m\u001b[1mwandb\u001b[0m: Adding directory to artifact (/aiffel/aiffel/wandb/run-20241116_214329-2ltw3qs4/files/model-best)... Done. 0.0s\n"
     ]
    },
    {
     "name": "stdout",
     "output_type": "stream",
     "text": [
      "Epoch 3/10\n",
      "23/23 [==============================] - 10s 416ms/step - loss: 1.5186 - accuracy: 0.3597 - val_loss: 1.5370 - val_accuracy: 0.3222\n",
      "INFO:tensorflow:Assets written to: /aiffel/aiffel/wandb/run-20241116_214329-2ltw3qs4/files/model-best/assets\n"
     ]
    },
    {
     "name": "stderr",
     "output_type": "stream",
     "text": [
      "\u001b[34m\u001b[1mwandb\u001b[0m: Adding directory to artifact (/aiffel/aiffel/wandb/run-20241116_214329-2ltw3qs4/files/model-best)... Done. 0.0s\n"
     ]
    },
    {
     "name": "stdout",
     "output_type": "stream",
     "text": [
      "Epoch 4/10\n",
      "23/23 [==============================] - 9s 400ms/step - loss: 1.4273 - accuracy: 0.4083 - val_loss: 1.4526 - val_accuracy: 0.3889\n",
      "INFO:tensorflow:Assets written to: /aiffel/aiffel/wandb/run-20241116_214329-2ltw3qs4/files/model-best/assets\n"
     ]
    },
    {
     "name": "stderr",
     "output_type": "stream",
     "text": [
      "\u001b[34m\u001b[1mwandb\u001b[0m: Adding directory to artifact (/aiffel/aiffel/wandb/run-20241116_214329-2ltw3qs4/files/model-best)... Done. 0.0s\n"
     ]
    },
    {
     "name": "stdout",
     "output_type": "stream",
     "text": [
      "Epoch 5/10\n",
      "23/23 [==============================] - 10s 409ms/step - loss: 1.3544 - accuracy: 0.4597 - val_loss: 1.3749 - val_accuracy: 0.4000\n",
      "INFO:tensorflow:Assets written to: /aiffel/aiffel/wandb/run-20241116_214329-2ltw3qs4/files/model-best/assets\n"
     ]
    },
    {
     "name": "stderr",
     "output_type": "stream",
     "text": [
      "\u001b[34m\u001b[1mwandb\u001b[0m: Adding directory to artifact (/aiffel/aiffel/wandb/run-20241116_214329-2ltw3qs4/files/model-best)... Done. 0.0s\n"
     ]
    },
    {
     "name": "stdout",
     "output_type": "stream",
     "text": [
      "Epoch 6/10\n",
      "23/23 [==============================] - 10s 413ms/step - loss: 1.2444 - accuracy: 0.4861 - val_loss: 1.3312 - val_accuracy: 0.4444\n",
      "INFO:tensorflow:Assets written to: /aiffel/aiffel/wandb/run-20241116_214329-2ltw3qs4/files/model-best/assets\n"
     ]
    },
    {
     "name": "stderr",
     "output_type": "stream",
     "text": [
      "\u001b[34m\u001b[1mwandb\u001b[0m: Adding directory to artifact (/aiffel/aiffel/wandb/run-20241116_214329-2ltw3qs4/files/model-best)... Done. 0.0s\n"
     ]
    },
    {
     "name": "stdout",
     "output_type": "stream",
     "text": [
      "Epoch 7/10\n",
      "23/23 [==============================] - 10s 436ms/step - loss: 1.1683 - accuracy: 0.5347 - val_loss: 1.1649 - val_accuracy: 0.5500\n",
      "INFO:tensorflow:Assets written to: /aiffel/aiffel/wandb/run-20241116_214329-2ltw3qs4/files/model-best/assets\n"
     ]
    },
    {
     "name": "stderr",
     "output_type": "stream",
     "text": [
      "\u001b[34m\u001b[1mwandb\u001b[0m: Adding directory to artifact (/aiffel/aiffel/wandb/run-20241116_214329-2ltw3qs4/files/model-best)... Done. 0.0s\n"
     ]
    },
    {
     "name": "stdout",
     "output_type": "stream",
     "text": [
      "Epoch 8/10\n",
      "23/23 [==============================] - 10s 406ms/step - loss: 1.0127 - accuracy: 0.6083 - val_loss: 1.1354 - val_accuracy: 0.5722\n",
      "INFO:tensorflow:Assets written to: /aiffel/aiffel/wandb/run-20241116_214329-2ltw3qs4/files/model-best/assets\n"
     ]
    },
    {
     "name": "stderr",
     "output_type": "stream",
     "text": [
      "\u001b[34m\u001b[1mwandb\u001b[0m: Adding directory to artifact (/aiffel/aiffel/wandb/run-20241116_214329-2ltw3qs4/files/model-best)... Done. 0.0s\n"
     ]
    },
    {
     "name": "stdout",
     "output_type": "stream",
     "text": [
      "Epoch 9/10\n",
      "23/23 [==============================] - 10s 411ms/step - loss: 0.9741 - accuracy: 0.6375 - val_loss: 1.0202 - val_accuracy: 0.6222\n",
      "INFO:tensorflow:Assets written to: /aiffel/aiffel/wandb/run-20241116_214329-2ltw3qs4/files/model-best/assets\n"
     ]
    },
    {
     "name": "stderr",
     "output_type": "stream",
     "text": [
      "\u001b[34m\u001b[1mwandb\u001b[0m: Adding directory to artifact (/aiffel/aiffel/wandb/run-20241116_214329-2ltw3qs4/files/model-best)... Done. 0.0s\n"
     ]
    },
    {
     "name": "stdout",
     "output_type": "stream",
     "text": [
      "Epoch 10/10\n",
      "23/23 [==============================] - 9s 400ms/step - loss: 0.8816 - accuracy: 0.6639 - val_loss: 1.0184 - val_accuracy: 0.6111\n",
      "INFO:tensorflow:Assets written to: /aiffel/aiffel/wandb/run-20241116_214329-2ltw3qs4/files/model-best/assets\n"
     ]
    },
    {
     "name": "stderr",
     "output_type": "stream",
     "text": [
      "\u001b[34m\u001b[1mwandb\u001b[0m: Adding directory to artifact (/aiffel/aiffel/wandb/run-20241116_214329-2ltw3qs4/files/model-best)... Done. 0.0s\n"
     ]
    },
    {
     "name": "stdout",
     "output_type": "stream",
     "text": [
      "6/6 [==============================] - 2s 294ms/step - loss: 0.9959 - accuracy: 0.6111\n",
      "Validation Accuracy for fold 5: 61.11%\n"
     ]
    },
    {
     "data": {
      "application/vnd.jupyter.widget-view+json": {
       "model_id": "",
       "version_major": 2,
       "version_minor": 0
      },
      "text/plain": [
       "VBox(children=(Label(value='14.486 MB of 14.486 MB uploaded (0.228 MB deduped)\\r'), FloatProgress(value=1.0, m…"
      ]
     },
     "metadata": {},
     "output_type": "display_data"
    },
    {
     "data": {
      "text/html": [
       "W&B sync reduced upload amount by 1.6%             "
      ],
      "text/plain": [
       "<IPython.core.display.HTML object>"
      ]
     },
     "metadata": {},
     "output_type": "display_data"
    },
    {
     "data": {
      "text/html": [
       "<style>\n",
       "    table.wandb td:nth-child(1) { padding: 0 10px; text-align: left ; width: auto;} td:nth-child(2) {text-align: left ; width: 100%}\n",
       "    .wandb-row { display: flex; flex-direction: row; flex-wrap: wrap; justify-content: flex-start; width: 100% }\n",
       "    .wandb-col { display: flex; flex-direction: column; flex-basis: 100%; flex: 1; padding: 10px; }\n",
       "    </style>\n",
       "<div class=\"wandb-row\"><div class=\"wandb-col\"><h3>Run history:</h3><br/><table class=\"wandb\"><tr><td>accuracy</td><td>▁▂▃▄▅▅▆▇██</td></tr><tr><td>epoch</td><td>▁▂▃▃▄▅▆▆▇█</td></tr><tr><td>loss</td><td>█▆▅▄▄▃▃▂▂▁</td></tr><tr><td>val_accuracy</td><td>▁▃▃▄▄▅▇▇██</td></tr><tr><td>val_loss</td><td>█▆▅▅▄▄▂▂▁▁</td></tr></table><br/></div><div class=\"wandb-col\"><h3>Run summary:</h3><br/><table class=\"wandb\"><tr><td>accuracy</td><td>0.66389</td></tr><tr><td>best_epoch</td><td>9</td></tr><tr><td>best_val_loss</td><td>1.01843</td></tr><tr><td>epoch</td><td>9</td></tr><tr><td>loss</td><td>0.88163</td></tr><tr><td>val_accuracy</td><td>0.61111</td></tr><tr><td>val_loss</td><td>1.01843</td></tr></table><br/></div></div>"
      ],
      "text/plain": [
       "<IPython.core.display.HTML object>"
      ]
     },
     "metadata": {},
     "output_type": "display_data"
    },
    {
     "data": {
      "text/html": [
       " View run <strong style=\"color:#cdcd00\">fold-5</strong> at: <a href='https://wandb.ai/wisdom-jihyekim-aiffel/WandB_with_kfold_used_by_Jindeok/runs/2ltw3qs4' target=\"_blank\">https://wandb.ai/wisdom-jihyekim-aiffel/WandB_with_kfold_used_by_Jindeok/runs/2ltw3qs4</a><br/>Synced 5 W&B file(s), 1 media file(s), 40 artifact file(s) and 1 other file(s)"
      ],
      "text/plain": [
       "<IPython.core.display.HTML object>"
      ]
     },
     "metadata": {},
     "output_type": "display_data"
    },
    {
     "data": {
      "text/html": [
       "Find logs at: <code>./wandb/run-20241116_214329-2ltw3qs4/logs</code>"
      ],
      "text/plain": [
       "<IPython.core.display.HTML object>"
      ]
     },
     "metadata": {},
     "output_type": "display_data"
    }
   ],
   "source": [
    "# entity와 project에 본인의 아이디와 프로젝트명을 입력하세요\n",
    "\n",
    "sweep_id = wandb.sweep(sweep_config,\n",
    "                       entity = \"wisdom-jihyekim-aiffel\",\n",
    "                       project = \"WandB_with_kfold_used_by_Jindeok\")\n",
    "\n",
    "# run the sweep\n",
    "wandb.agent(sweep_id,\n",
    "            function=train_with_kfold,\n",
    "            count=10)"
   ]
  },
  {
   "cell_type": "code",
   "execution_count": 130,
   "id": "67a0a32a",
   "metadata": {},
   "outputs": [
    {
     "name": "stdout",
     "output_type": "stream",
     "text": [
      "Mean CV Accuracy: 46.11% ± 4.17%\n"
     ]
    }
   ],
   "source": [
    "print(f\"Mean CV Accuracy: {np.mean(cvScores):.2f}% ± {np.std(cvScores):.2f}%\")"
   ]
  },
  {
   "cell_type": "code",
   "execution_count": 131,
   "id": "f682d4e4",
   "metadata": {},
   "outputs": [
    {
     "name": "stdout",
     "output_type": "stream",
     "text": [
      "Average KFold Cross Validation Score: 46.11111044883728\n",
      "Standard Deviation KFold Cross Validation Score: 4.172217957296595\n"
     ]
    }
   ],
   "source": [
    "avgScores = np.mean(cvScores)\n",
    "stdScores = np.std(cvScores)\n",
    "print(f\"Average KFold Cross Validation Score: {avgScores}\")\n",
    "print(f\"Standard Deviation KFold Cross Validation Score: {stdScores}\")"
   ]
  }
 ],
 "metadata": {
  "kernelspec": {
   "display_name": "Python 3 (ipykernel)",
   "language": "python",
   "name": "python3"
  },
  "language_info": {
   "codemirror_mode": {
    "name": "ipython",
    "version": 3
   },
   "file_extension": ".py",
   "mimetype": "text/x-python",
   "name": "python",
   "nbconvert_exporter": "python",
   "pygments_lexer": "ipython3",
   "version": "3.9.7"
  }
 },
 "nbformat": 4,
 "nbformat_minor": 5
}
